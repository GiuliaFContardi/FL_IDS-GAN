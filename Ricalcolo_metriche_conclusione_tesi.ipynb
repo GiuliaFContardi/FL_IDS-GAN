{
  "nbformat": 4,
  "nbformat_minor": 0,
  "metadata": {
    "colab": {
      "provenance": [],
      "authorship_tag": "ABX9TyOHEUKEvi5Waj9OOJQDUhfj",
      "include_colab_link": true
    },
    "kernelspec": {
      "name": "python3",
      "display_name": "Python 3"
    },
    "language_info": {
      "name": "python"
    }
  },
  "cells": [
    {
      "cell_type": "markdown",
      "metadata": {
        "id": "view-in-github",
        "colab_type": "text"
      },
      "source": [
        "<a href=\"https://colab.research.google.com/github/GiuliaFContardi/FL_IDS-GAN/blob/main/Ricalcolo_metriche_conclusione_tesi.ipynb\" target=\"_parent\"><img src=\"https://colab.research.google.com/assets/colab-badge.svg\" alt=\"Open In Colab\"/></a>"
      ]
    },
    {
      "cell_type": "code",
      "execution_count": null,
      "metadata": {
        "colab": {
          "base_uri": "https://localhost:8080/"
        },
        "id": "jsw8fXTcaV2j",
        "outputId": "258ff070-35d3-4c1b-fe6e-ffc7e1bb381a"
      },
      "outputs": [
        {
          "output_type": "stream",
          "name": "stdout",
          "text": [
            "Overall Precision (average=None): 0.9996839116666667\n",
            "Overall Recall (average=None): 0.998288175\n",
            "Overall F1-score (average=None): 0.9989825899999999\n"
          ]
        }
      ],
      "source": [
        "import numpy as np\n",
        "\n",
        "# Per-class precision, recall, and F1-score\n",
        "precision_per_class = np.array([0.99997491, 0.9991776, 1.0,  0.99990289, 0.99904807, 1.0        ])\n",
        "recall_per_class = np.array([0.9998662, 0.99994224, 1.0,  0.99992231, 0.99904807, 0.99095023       ])\n",
        "f1_score_per_class = np.array([0.99992055, 0.99955977, 1.0,  0.9999126, 0.99904807, 0.99545455      ])\n",
        "\n",
        "# Calculate overall precision, recall, and F1-score with average=None\n",
        "precision_none = np.mean(precision_per_class)\n",
        "recall_none = np.mean(recall_per_class)\n",
        "f1_score_none = np.mean(f1_score_per_class)\n",
        "\n",
        "# Print results\n",
        "print('Overall Precision (average=None):', precision_none)\n",
        "print('Overall Recall (average=None):', recall_none)\n",
        "print('Overall F1-score (average=None):', f1_score_none)\n"
      ]
    }
  ]
}