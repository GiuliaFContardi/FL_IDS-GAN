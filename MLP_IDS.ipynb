{
  "cells": [
    {
      "cell_type": "markdown",
      "metadata": {
        "id": "view-in-github",
        "colab_type": "text"
      },
      "source": [
        "<a href=\"https://colab.research.google.com/github/GiuliaFContardi/FL_IDS-GAN/blob/main/MLP_IDS.ipynb\" target=\"_parent\"><img src=\"https://colab.research.google.com/assets/colab-badge.svg\" alt=\"Open In Colab\"/></a>"
      ]
    },
    {
      "cell_type": "markdown",
      "metadata": {
        "id": "gfjxR9812adx"
      },
      "source": [
        "#### Import"
      ]
    },
    {
      "cell_type": "code",
      "execution_count": null,
      "metadata": {
        "id": "Bh9iLBocUHxz"
      },
      "outputs": [],
      "source": [
        "import pandas as pd\n",
        "import keras\n",
        "import numpy as np\n",
        "import matplotlib.pyplot as plt"
      ]
    },
    {
      "cell_type": "code",
      "execution_count": null,
      "metadata": {
        "colab": {
          "base_uri": "https://localhost:8080/"
        },
        "id": "cO4_xPFYVNK0",
        "outputId": "3f083486-50e6-485d-94da-1c1bdf645c7f"
      },
      "outputs": [
        {
          "output_type": "stream",
          "name": "stdout",
          "text": [
            "Mounted at /content/drive\n"
          ]
        }
      ],
      "source": [
        "# data is stored in google drive folder so import drive to notebook\n",
        "from google.colab import drive\n",
        "drive.mount('/content/drive')"
      ]
    },
    {
      "cell_type": "markdown",
      "metadata": {
        "id": "FEDiBnEFOMC1"
      },
      "source": [
        "##GEN DATASET (valutazione GAN)"
      ]
    },
    {
      "cell_type": "markdown",
      "source": [
        "#### Classi maggiori"
      ],
      "metadata": {
        "id": "mgcTHX1-w7uR"
      }
    },
    {
      "cell_type": "code",
      "source": [
        "#Aggiungere labels e solo dopo unire tutti i gen\n",
        "dfBenign = pd.read_csv('/content/drive/My Drive/Colab Notebooks/progettoTesi/Dataset2017/GANgen/Valutazione/tentativo3/setHBuono/genBenign.csv')\n",
        "dfPortscan = pd.read_csv('/content/drive/My Drive/Colab Notebooks/progettoTesi/Dataset2017/GANgen/Valutazione/tentativo3/setHBuono/genPortscan.csv')\n",
        "dfDoS = pd.read_csv('/content/drive/My Drive/Colab Notebooks/progettoTesi/Dataset2017/GANgen/Valutazione/tentativo3/setHBuono/genDoS.csv')\n",
        "dfDDoS = pd.read_csv('/content/drive/My Drive/Colab Notebooks/progettoTesi/Dataset2017/GANgen/Valutazione/tentativo3/setHBuono/genDDoS.csv')"
      ],
      "metadata": {
        "id": "SdQ07ZVjSYWR"
      },
      "execution_count": null,
      "outputs": []
    },
    {
      "cell_type": "markdown",
      "source": [
        "#### CSV classi minori con valori minimi"
      ],
      "metadata": {
        "id": "VF6EUAWzSKD9"
      }
    },
    {
      "cell_type": "code",
      "execution_count": null,
      "metadata": {
        "id": "M6xdJMDbOVwh"
      },
      "outputs": [],
      "source": [
        "dfBruteforce = pd.read_csv('/content/drive/My Drive/Colab Notebooks/progettoTesi/Dataset2017/GANgen/Valutazione/tentativo3/setHBuono/Bruteforce/genBruteforce_pochiNuovi.csv')\n",
        "dfBotnet = pd.read_csv('/content/drive/My Drive/Colab Notebooks/progettoTesi/Dataset2017/GANgen/Valutazione/tentativo3/setHBuono/Botnet/genBotnet_pochiNuovi.csv')"
      ]
    },
    {
      "cell_type": "markdown",
      "source": [
        "#### CSV con 10000 samples x classi minori"
      ],
      "metadata": {
        "id": "bXSp0_t4SOq3"
      }
    },
    {
      "cell_type": "code",
      "source": [
        "dfBruteforce = pd.read_csv('/content/drive/My Drive/Colab Notebooks/progettoTesi/Dataset2017/GANgen/Valutazione/tentativo3/setHBuono/Bruteforce/genBruteforce_10000.csv')\n",
        "dfBotnet = pd.read_csv('/content/drive/My Drive/Colab Notebooks/progettoTesi/Dataset2017/GANgen/Valutazione/tentativo3/setHBuono/Botnet/genBotnet_10000.csv')"
      ],
      "metadata": {
        "id": "ReYSAvSBSUhF"
      },
      "execution_count": null,
      "outputs": []
    },
    {
      "cell_type": "markdown",
      "source": [
        "#### Resto...TUTTE CLASSI"
      ],
      "metadata": {
        "id": "1ZuxgDF1SS24"
      }
    },
    {
      "cell_type": "code",
      "execution_count": null,
      "metadata": {
        "id": "Zs0qzJJyPE9O"
      },
      "outputs": [],
      "source": [
        "#rows_to_drop = range(2000)\n",
        "#df_dropped_Botnet = dfBotnet.drop(rows_to_drop)\n",
        "\n",
        "# Display the DataFrame after dropping rows\n",
        "#print(df_dropped_Botnet.shape)\n",
        "\n",
        "#dfBotnet=df_dropped_Botnet"
      ]
    },
    {
      "cell_type": "code",
      "execution_count": null,
      "metadata": {
        "id": "4OcLQv0TOX9z"
      },
      "outputs": [],
      "source": [
        "dfBenign['L_BENIGN'] = 1\n",
        "dfPortscan['L_Infiltration_Portscan'] = 1\n",
        "dfDoS['L_DoS'] = 1\n",
        "dfDDoS['L_DDoS'] = 1\n",
        "dfBruteforce['L_BruteForce'] = 1\n",
        "dfBotnet['L_Botnet'] = 1\n",
        "\n",
        "dfBenign['L_Infiltration_Portscan'] = 0\n",
        "dfBenign['L_DoS'] = 0\n",
        "dfBenign['L_DDoS'] = 0\n",
        "dfBenign['L_BruteForce'] = 0\n",
        "dfBenign['L_Botnet'] = 0\n",
        "\n",
        "dfPortscan['L_BENIGN'] = 0\n",
        "dfPortscan['L_DoS'] = 0\n",
        "dfPortscan['L_DDoS'] = 0\n",
        "dfPortscan['L_BruteForce'] = 0\n",
        "dfPortscan['L_Botnet'] = 0\n",
        "\n",
        "dfDoS['L_BENIGN'] = 0\n",
        "dfDoS['L_Infiltration_Portscan'] = 0\n",
        "dfDoS['L_DDoS'] = 0\n",
        "dfDoS['L_BruteForce'] = 0\n",
        "dfDoS['L_Botnet'] = 0\n",
        "\n",
        "dfDDoS['L_BENIGN'] = 0\n",
        "dfDDoS['L_Infiltration_Portscan'] = 0\n",
        "dfDDoS['L_DoS'] = 0\n",
        "dfDDoS['L_BruteForce'] = 0\n",
        "dfDDoS['L_Botnet'] = 0\n",
        "\n",
        "dfBruteforce['L_BENIGN'] = 0\n",
        "dfBruteforce['L_Infiltration_Portscan'] = 0\n",
        "dfBruteforce['L_DoS'] = 0\n",
        "dfBruteforce['L_DDoS'] = 0\n",
        "dfBruteforce['L_Botnet'] = 0\n",
        "\n",
        "dfBotnet['L_BENIGN'] = 0\n",
        "dfBotnet['L_Infiltration_Portscan'] = 0\n",
        "dfBotnet['L_DoS'] = 0\n",
        "dfBotnet['L_DDoS'] = 0\n",
        "dfBotnet['L_BruteForce'] = 0"
      ]
    },
    {
      "cell_type": "code",
      "execution_count": null,
      "metadata": {
        "id": "_ikGsF5LOZmQ"
      },
      "outputs": [],
      "source": [
        "merged_df = pd.concat([dfBenign, dfPortscan, dfDoS, dfDDoS, dfBruteforce, dfBotnet], axis=0, ignore_index=True)"
      ]
    },
    {
      "cell_type": "code",
      "execution_count": null,
      "metadata": {
        "id": "Ueua4SNfPgbq",
        "colab": {
          "base_uri": "https://localhost:8080/"
        },
        "outputId": "b32afabf-e46b-4ed7-cd15-b70b2736165b"
      },
      "outputs": [
        {
          "output_type": "execute_result",
          "data": {
            "text/plain": [
              "(1484419, 41)"
            ]
          },
          "metadata": {},
          "execution_count": 8
        }
      ],
      "source": [
        "merged_df.shape"
      ]
    },
    {
      "cell_type": "code",
      "execution_count": null,
      "metadata": {
        "id": "EDfySyufOd9z"
      },
      "outputs": [],
      "source": [
        "col_labels = ['L_BENIGN', 'L_Infiltration_Portscan', 'L_DoS', 'L_DDoS', 'L_BruteForce', 'L_Botnet']\n",
        "y_train = merged_df[['L_BENIGN','L_Infiltration_Portscan','L_DDoS','L_DoS','L_BruteForce','L_Botnet']]\n",
        "X_train = merged_df.drop(columns=col_labels)"
      ]
    },
    {
      "cell_type": "code",
      "execution_count": null,
      "metadata": {
        "id": "ddwe8mOHOn7i",
        "colab": {
          "base_uri": "https://localhost:8080/"
        },
        "outputId": "da54e73d-a788-4edb-d9ff-a40ccc5aa318"
      },
      "outputs": [
        {
          "output_type": "stream",
          "name": "stdout",
          "text": [
            "Samples per classe GEN\n",
            "1116095\n",
            "161597\n",
            "120134\n",
            "66593\n",
            "10000\n",
            "10000\n"
          ]
        }
      ],
      "source": [
        "print(\"Samples per classe GEN\")\n",
        "print((merged_df['L_BENIGN']==1).values.sum())\n",
        "print((merged_df['L_Infiltration_Portscan']==1).values.sum())\n",
        "print((merged_df['L_DoS']==1).values.sum())\n",
        "print((merged_df['L_DDoS']==1).values.sum())\n",
        "print((merged_df['L_BruteForce']==1).values.sum())\n",
        "print((merged_df['L_Botnet']==1).values.sum())"
      ]
    },
    {
      "cell_type": "code",
      "execution_count": null,
      "metadata": {
        "id": "8DlW8SENQBKf",
        "colab": {
          "base_uri": "https://localhost:8080/"
        },
        "outputId": "6394a1f1-5dd2-495f-e2df-e0320a5cfa1c"
      },
      "outputs": [
        {
          "output_type": "execute_result",
          "data": {
            "text/plain": [
              "(1484419, 35)"
            ]
          },
          "metadata": {},
          "execution_count": 11
        }
      ],
      "source": [
        "X_train.shape"
      ]
    },
    {
      "cell_type": "code",
      "source": [
        "merged_df_final = merged_df\n",
        "from sklearn.utils import shuffle\n",
        "merged_df_final = shuffle(merged_df_final).reset_index()\n",
        "merged_df_final = merged_df_final.drop(\"index\", axis=1) #elimino colonna indice creata dal reset_index"
      ],
      "metadata": {
        "id": "hrbitEpZW-Rb"
      },
      "execution_count": null,
      "outputs": []
    },
    {
      "cell_type": "code",
      "source": [
        "merged_df_final.shape"
      ],
      "metadata": {
        "colab": {
          "base_uri": "https://localhost:8080/"
        },
        "id": "MoDLnC2uXbRb",
        "outputId": "b872199c-2649-48b8-e444-6cdd3bb61b01"
      },
      "execution_count": null,
      "outputs": [
        {
          "output_type": "execute_result",
          "data": {
            "text/plain": [
              "(1484419, 41)"
            ]
          },
          "metadata": {},
          "execution_count": 13
        }
      ]
    },
    {
      "cell_type": "markdown",
      "source": [
        "#### Resto...SOLO CLASSI MINORI"
      ],
      "metadata": {
        "id": "irbMhqRKu_aq"
      }
    },
    {
      "cell_type": "code",
      "source": [
        "dfBruteforce['L_BruteForce'] = 1\n",
        "dfBotnet['L_Botnet'] = 1\n",
        "\n",
        "dfBruteforce['L_BENIGN'] = 0\n",
        "dfBruteforce['L_Infiltration_Portscan'] = 0\n",
        "dfBruteforce['L_DoS'] = 0\n",
        "dfBruteforce['L_DDoS'] = 0\n",
        "dfBruteforce['L_Botnet'] = 0\n",
        "\n",
        "dfBotnet['L_BENIGN'] = 0\n",
        "dfBotnet['L_Infiltration_Portscan'] = 0\n",
        "dfBotnet['L_DoS'] = 0\n",
        "dfBotnet['L_DDoS'] = 0\n",
        "dfBotnet['L_BruteForce'] = 0"
      ],
      "metadata": {
        "id": "NDP1UyQ8vC9A"
      },
      "execution_count": null,
      "outputs": []
    },
    {
      "cell_type": "code",
      "source": [
        "merged_df = pd.concat([dfBruteforce, dfBotnet], axis=0, ignore_index=True)\n",
        "merged_df.shape"
      ],
      "metadata": {
        "colab": {
          "base_uri": "https://localhost:8080/"
        },
        "id": "_03-eT3NvK7j",
        "outputId": "e4676a19-9b59-479a-ea34-9b37a417e991"
      },
      "execution_count": null,
      "outputs": [
        {
          "output_type": "execute_result",
          "data": {
            "text/plain": [
              "(20000, 41)"
            ]
          },
          "metadata": {},
          "execution_count": 5
        }
      ]
    },
    {
      "cell_type": "code",
      "source": [
        "col_labels = ['L_BENIGN', 'L_Infiltration_Portscan', 'L_DoS', 'L_DDoS', 'L_BruteForce', 'L_Botnet']\n",
        "y_train = merged_df[['L_BENIGN','L_Infiltration_Portscan','L_DDoS','L_DoS','L_BruteForce','L_Botnet']]\n",
        "X_train = merged_df.drop(columns=col_labels)\n",
        "X_train.shape"
      ],
      "metadata": {
        "colab": {
          "base_uri": "https://localhost:8080/"
        },
        "id": "5MbrX5hcvWk9",
        "outputId": "2dd510f0-14f7-48dd-8f20-413b0bc8dbcc"
      },
      "execution_count": null,
      "outputs": [
        {
          "output_type": "execute_result",
          "data": {
            "text/plain": [
              "(20000, 35)"
            ]
          },
          "metadata": {},
          "execution_count": 6
        }
      ]
    },
    {
      "cell_type": "code",
      "source": [
        "print(\"Samples per classe GEN\")\n",
        "print((merged_df['L_BENIGN']==1).values.sum())\n",
        "print((merged_df['L_Infiltration_Portscan']==1).values.sum())\n",
        "print((merged_df['L_DoS']==1).values.sum())\n",
        "print((merged_df['L_DDoS']==1).values.sum())\n",
        "print((merged_df['L_BruteForce']==1).values.sum())\n",
        "print((merged_df['L_Botnet']==1).values.sum())"
      ],
      "metadata": {
        "colab": {
          "base_uri": "https://localhost:8080/"
        },
        "id": "CBAXgQ_CvcJZ",
        "outputId": "a53ef5c9-ab9c-4a55-9d37-f1987310a173"
      },
      "execution_count": null,
      "outputs": [
        {
          "output_type": "stream",
          "name": "stdout",
          "text": [
            "Samples per classe GEN\n",
            "0\n",
            "0\n",
            "0\n",
            "0\n",
            "10000\n",
            "10000\n"
          ]
        }
      ]
    },
    {
      "cell_type": "code",
      "source": [
        "merged_df_final = merged_df\n",
        "from sklearn.utils import shuffle\n",
        "merged_df_final = shuffle(merged_df_final).reset_index()\n",
        "merged_df_final = merged_df_final.drop(\"index\", axis=1) #elimino colonna indice creata dal reset_index"
      ],
      "metadata": {
        "id": "1AUp81HGvnmC"
      },
      "execution_count": null,
      "outputs": []
    },
    {
      "cell_type": "markdown",
      "metadata": {
        "id": "LiZQNPinxSuH"
      },
      "source": [
        "##REAL+GEN DATASET - DATA AUGMENTATION"
      ]
    },
    {
      "cell_type": "code",
      "execution_count": null,
      "metadata": {
        "id": "yeLixKadN4Um",
        "colab": {
          "base_uri": "https://localhost:8080/"
        },
        "outputId": "c65fbd0d-8b80-4c85-99ed-bc945cba0907"
      },
      "outputs": [
        {
          "output_type": "stream",
          "name": "stdout",
          "text": [
            "(1469838, 35)\n",
            "(1469838, 6)\n"
          ]
        }
      ],
      "source": [
        "X_train = pd.read_csv('/content/drive/My Drive/Colab Notebooks/progettoTesi/Dataset2017/improved/Pre-processed_versions/terzoPreprocessing/X_train_35.csv')\n",
        "y_train = pd.read_csv('/content/drive/My Drive/Colab Notebooks/progettoTesi/Dataset2017/improved/Pre-processed_versions/terzoPreprocessing/y_train_35.csv')\n",
        "\n",
        "print(X_train.shape)\n",
        "print(y_train.shape)"
      ]
    },
    {
      "cell_type": "code",
      "execution_count": null,
      "metadata": {
        "id": "ICK1-YwuiWag"
      },
      "outputs": [],
      "source": [
        "dfReal = pd.concat([X_train, y_train], axis=1)"
      ]
    },
    {
      "cell_type": "code",
      "execution_count": null,
      "metadata": {
        "id": "j4EHxGd5ONKW",
        "colab": {
          "base_uri": "https://localhost:8080/"
        },
        "outputId": "d95ac5de-84b5-41b6-c2d3-f3d20f237336"
      },
      "outputs": [
        {
          "output_type": "execute_result",
          "data": {
            "text/plain": [
              "(1469838, 41)"
            ]
          },
          "metadata": {},
          "execution_count": 16
        }
      ],
      "source": [
        "dfReal.shape"
      ]
    },
    {
      "cell_type": "code",
      "execution_count": null,
      "metadata": {
        "id": "ojZKUcC-jnUa",
        "colab": {
          "base_uri": "https://localhost:8080/"
        },
        "outputId": "d10efc31-284e-4099-ca3a-e7f14555f50b"
      },
      "outputs": [
        {
          "output_type": "stream",
          "name": "stdout",
          "text": [
            "(1469838, 41)\n",
            "(1484419, 41)\n"
          ]
        }
      ],
      "source": [
        "print(dfReal.shape)\n",
        "print(merged_df_final.shape)"
      ]
    },
    {
      "cell_type": "code",
      "execution_count": null,
      "metadata": {
        "id": "n4Bh78Z3jveO",
        "colab": {
          "base_uri": "https://localhost:8080/"
        },
        "outputId": "a43f76dd-c444-47c3-a82e-c246bcfc6ab7"
      },
      "outputs": [
        {
          "output_type": "stream",
          "name": "stdout",
          "text": [
            "(2954257, 41)\n"
          ]
        }
      ],
      "source": [
        "merged_df_complete = pd.concat([dfReal, merged_df_final], axis=0, ignore_index=True)\n",
        "print(merged_df_complete.shape)"
      ]
    },
    {
      "cell_type": "code",
      "source": [
        "merged_df_complete = shuffle(merged_df_complete).reset_index()\n",
        "merged_df_complete = merged_df_complete.drop(\"index\", axis=1) #elimino colonna indice creata dal reset_index"
      ],
      "metadata": {
        "id": "bKVYzsGFYODZ"
      },
      "execution_count": null,
      "outputs": []
    },
    {
      "cell_type": "code",
      "execution_count": null,
      "metadata": {
        "id": "dz_Lo_OVcIUR"
      },
      "outputs": [],
      "source": [
        "col_labels = ['L_BENIGN', 'L_Infiltration_Portscan', 'L_DoS', 'L_DDoS', 'L_BruteForce', 'L_Botnet']\n",
        "y_train = merged_df_complete[['L_BENIGN','L_Infiltration_Portscan','L_DDoS','L_DoS','L_BruteForce','L_Botnet']]\n",
        "X_train = merged_df_complete.drop(columns=col_labels)"
      ]
    },
    {
      "cell_type": "code",
      "execution_count": null,
      "metadata": {
        "id": "ZKBcA21WqshR",
        "colab": {
          "base_uri": "https://localhost:8080/"
        },
        "outputId": "5b4d4962-a9a5-4b29-ca4b-d6e6df64a04b"
      },
      "outputs": [
        {
          "output_type": "stream",
          "name": "stdout",
          "text": [
            "Samples per classe X_TRAIN\n",
            "1116095\n",
            "161597\n",
            "120134\n",
            "66593\n",
            "4904\n",
            "515\n",
            "====================================\n",
            "Samples per classe GEN\n",
            "1116095\n",
            "161597\n",
            "120134\n",
            "66593\n",
            "10000\n",
            "10000\n",
            "====================================\n",
            "Samples per classe X_TRAIN+GEN\n",
            "2232190\n",
            "323194\n",
            "240268\n",
            "133186\n",
            "14904\n",
            "10515\n"
          ]
        }
      ],
      "source": [
        "print(\"Samples per classe X_TRAIN\")\n",
        "print((dfReal['L_BENIGN']==1).values.sum())\n",
        "print((dfReal['L_Infiltration_Portscan']==1).values.sum())\n",
        "print((dfReal['L_DoS']==1).values.sum())\n",
        "print((dfReal['L_DDoS']==1).values.sum())\n",
        "print((dfReal['L_BruteForce']==1).values.sum())\n",
        "print((dfReal['L_Botnet']==1).values.sum())\n",
        "print(\"====================================\")\n",
        "print(\"Samples per classe GEN\")\n",
        "print((merged_df_final['L_BENIGN']==1).values.sum())\n",
        "print((merged_df_final['L_Infiltration_Portscan']==1).values.sum())\n",
        "print((merged_df_final['L_DoS']==1).values.sum())\n",
        "print((merged_df_final['L_DDoS']==1).values.sum())\n",
        "print((merged_df_final['L_BruteForce']==1).values.sum())\n",
        "print((merged_df_final['L_Botnet']==1).values.sum())\n",
        "print(\"====================================\")\n",
        "print(\"Samples per classe X_TRAIN+GEN\")\n",
        "print((merged_df_complete['L_BENIGN']==1).values.sum())\n",
        "print((merged_df_complete['L_Infiltration_Portscan']==1).values.sum())\n",
        "print((merged_df_complete['L_DoS']==1).values.sum())\n",
        "print((merged_df_complete['L_DDoS']==1).values.sum())\n",
        "print((merged_df_complete['L_BruteForce']==1).values.sum())\n",
        "print((merged_df_complete['L_Botnet']==1).values.sum())"
      ]
    },
    {
      "cell_type": "code",
      "source": [
        "X_train.shape"
      ],
      "metadata": {
        "colab": {
          "base_uri": "https://localhost:8080/"
        },
        "id": "XdFPD_TVZLJq",
        "outputId": "6324a707-40c3-49da-92b4-fbe48ad2e60f"
      },
      "execution_count": null,
      "outputs": [
        {
          "output_type": "execute_result",
          "data": {
            "text/plain": [
              "(2954257, 35)"
            ]
          },
          "metadata": {},
          "execution_count": 22
        }
      ]
    },
    {
      "cell_type": "code",
      "source": [
        "y_train.shape"
      ],
      "metadata": {
        "colab": {
          "base_uri": "https://localhost:8080/"
        },
        "id": "4BKbBL3LZMTS",
        "outputId": "15696473-2a99-4c19-eecf-d99f903a115d"
      },
      "execution_count": null,
      "outputs": [
        {
          "output_type": "execute_result",
          "data": {
            "text/plain": [
              "(2954257, 6)"
            ]
          },
          "metadata": {},
          "execution_count": 23
        }
      ]
    },
    {
      "cell_type": "markdown",
      "metadata": {
        "id": "gw-4nT-pwI-x"
      },
      "source": [
        "## REAL DATASET"
      ]
    },
    {
      "cell_type": "code",
      "execution_count": null,
      "metadata": {
        "colab": {
          "base_uri": "https://localhost:8080/"
        },
        "id": "ljAzWFEEDKTF",
        "outputId": "96b261da-5a0e-4bfa-b61c-4dcc81df6ea6"
      },
      "outputs": [
        {
          "output_type": "stream",
          "name": "stdout",
          "text": [
            "(1469838, 35)\n",
            "(1469838, 6)\n"
          ]
        }
      ],
      "source": [
        "X_train = pd.read_csv('/content/drive/My Drive/Colab Notebooks/progettoTesi/Dataset2017/improved/Pre-processed_versions/terzoPreprocessing/X_train_35.csv')\n",
        "y_train = pd.read_csv('/content/drive/My Drive/Colab Notebooks/progettoTesi/Dataset2017/improved/Pre-processed_versions/terzoPreprocessing/y_train_35.csv')\n",
        "\n",
        "print(X_train.shape)\n",
        "print(y_train.shape)"
      ]
    },
    {
      "cell_type": "code",
      "source": [
        "#result = pd.concat([X_train, y_train], axis=1)\n",
        "#result.shape\n",
        "#result['L_BENIGN'].value_counts()"
      ],
      "metadata": {
        "id": "7VK7QR75P5oP"
      },
      "execution_count": null,
      "outputs": []
    },
    {
      "cell_type": "markdown",
      "source": [
        "```\n",
        "(1469838, 41)\n",
        "\n",
        "BENIGN                   1116095\n",
        "Infiltration_Portscan     161597\n",
        "DoS                       120134\n",
        "DDoS                       66593\n",
        "BruteForce                  4904\n",
        "Botnet                       515\n",
        "```"
      ],
      "metadata": {
        "id": "JRe37iCjQllL"
      }
    },
    {
      "cell_type": "markdown",
      "metadata": {
        "id": "5cM4eNzTNvJd"
      },
      "source": [
        "## TEST DATASET"
      ]
    },
    {
      "cell_type": "code",
      "execution_count": null,
      "metadata": {
        "colab": {
          "base_uri": "https://localhost:8080/"
        },
        "id": "n98kgbBjl6tE",
        "outputId": "c13de594-3db8-4c29-eadc-575332f0ba44"
      },
      "outputs": [
        {
          "output_type": "stream",
          "name": "stdout",
          "text": [
            "(629931, 35)\n",
            "(629931, 6)\n"
          ]
        }
      ],
      "source": [
        "X_test = pd.read_csv('/content/drive/My Drive/Colab Notebooks/progettoTesi/Dataset2017/improved/Pre-processed_versions/terzoPreprocessing/X_test_35.csv')\n",
        "y_test = pd.read_csv('/content/drive/My Drive/Colab Notebooks/progettoTesi/Dataset2017/improved/Pre-processed_versions/terzoPreprocessing/y_test_35.csv')\n",
        "\n",
        "print(X_test.shape)\n",
        "print(y_test.shape)"
      ]
    },
    {
      "cell_type": "code",
      "source": [
        "df_test = pd.concat([X_test, y_test], axis=1)"
      ],
      "metadata": {
        "id": "FVm3hGkCPFX3"
      },
      "execution_count": null,
      "outputs": []
    },
    {
      "cell_type": "markdown",
      "source": [
        "```\n",
        "(629931, 41)\n",
        "\n",
        "BENIGN                    478327\n",
        "Infiltration_Portscan      69256\n",
        "DoS                        51486\n",
        "DDoS                       28540\n",
        "BruteForce                  2101\n",
        "Botnet                       221\n",
        "```"
      ],
      "metadata": {
        "id": "kCsXtX6URfbc"
      }
    },
    {
      "cell_type": "markdown",
      "metadata": {
        "id": "l5A8Y2rD8WkZ"
      },
      "source": [
        "## preparo array"
      ]
    },
    {
      "cell_type": "code",
      "execution_count": null,
      "metadata": {
        "id": "kqUigR_EyBaZ"
      },
      "outputs": [],
      "source": [
        "X_train = X_train.to_numpy()\n",
        "y_train = y_train.to_numpy()\n",
        "X_test = X_test.to_numpy()\n",
        "y_test = y_test.to_numpy()"
      ]
    },
    {
      "cell_type": "code",
      "execution_count": null,
      "metadata": {
        "colab": {
          "base_uri": "https://localhost:8080/"
        },
        "id": "9-9U_c5o5tHP",
        "outputId": "57fac5ae-b65b-4a2b-f63d-d842a91b17e5"
      },
      "outputs": [
        {
          "output_type": "execute_result",
          "data": {
            "text/plain": [
              "((1469838, 35), (1469838, 6), (629931, 35), (629931, 6))"
            ]
          },
          "metadata": {},
          "execution_count": 8
        }
      ],
      "source": [
        "X_train.shape, y_train.shape, X_test.shape, y_test.shape"
      ]
    },
    {
      "cell_type": "markdown",
      "metadata": {
        "id": "zGsQnxJnO0Uc"
      },
      "source": [
        "# **Architettura IDS**"
      ]
    },
    {
      "cell_type": "markdown",
      "source": [
        "### Vecchi"
      ],
      "metadata": {
        "id": "js-hrpAVakJr"
      }
    },
    {
      "cell_type": "markdown",
      "metadata": {
        "id": "ybU81EojBwaM"
      },
      "source": [
        "#### Vecchia versione architettura modello"
      ]
    },
    {
      "cell_type": "code",
      "execution_count": null,
      "metadata": {
        "id": "1wSN-_G02UzL"
      },
      "outputs": [],
      "source": [
        "l_r = 0.0005 #@param"
      ]
    },
    {
      "cell_type": "code",
      "execution_count": null,
      "metadata": {
        "id": "JyBfMI-RZcna"
      },
      "outputs": [],
      "source": [
        "# build the classifier model\n",
        "from keras.models import Sequential\n",
        "from keras.layers import Dense\n",
        "from tensorflow.keras.optimizers import Adam\n",
        "\n",
        "#def baseline_model():\n",
        "  # create model\n",
        "model = Sequential()\n",
        "model.add(Dense(64, input_dim=35, activation='relu'))\n",
        "model.add(Dense(32, activation='relu'))\n",
        "model.add(Dense(6, activation='softmax'))\n",
        "\n",
        "model.compile(loss='categorical_crossentropy', optimizer=Adam(learning_rate=l_r), metrics=['accuracy'])"
      ]
    },
    {
      "cell_type": "markdown",
      "metadata": {
        "id": "556fJdvWB1dd"
      },
      "source": [
        "#### Nuova versione architettura modello per riferimento valutazione\n",
        "Fonte: https://ijece.iaescore.com/index.php/IJECE/article/view/26968/16288\n"
      ]
    },
    {
      "cell_type": "code",
      "execution_count": null,
      "metadata": {
        "id": "cJsQNUSwBvbR"
      },
      "outputs": [],
      "source": [
        "from keras.models import Sequential\n",
        "from keras.layers import Dense, InputLayer\n",
        "from tensorflow.keras.optimizers import Adam\n",
        "import tensorflow as tf\n",
        "\n",
        "# Define the model\n",
        "model = Sequential()\n",
        "model.add(InputLayer(input_shape=(35,)))\n",
        "model.add(Dense(32, activation='relu'))\n",
        "model.add(Dense(72, activation='relu'))\n",
        "model.add(Dense(32, activation='relu'))\n",
        "model.add(Dense(6, activation='softmax'))\n",
        "\n",
        "# Compile the model\n",
        "model.compile(optimizer=Adam(learning_rate=l_r),\n",
        "              loss='categorical_crossentropy',\n",
        "              metrics=['accuracy', tf.keras.metrics.Recall()])"
      ]
    },
    {
      "cell_type": "markdown",
      "metadata": {
        "id": "j9_-zSfCJK8I"
      },
      "source": [
        "#### Nuova versione (2) architettura modello per riferimento valutazione\n",
        "Fonte: 10.1109/MILCOM47813.2019.9020824"
      ]
    },
    {
      "cell_type": "markdown",
      "metadata": {
        "id": "9YR6ZBJ2hCet"
      },
      "source": [
        "### ***GIUSTA*** - Nuova versione (3) architettura modello per riferimento valutazione\n",
        "Fonte: 10.3390/app13127328\n"
      ]
    },
    {
      "cell_type": "code",
      "execution_count": null,
      "metadata": {
        "id": "ONvVkyl4JKk0"
      },
      "outputs": [],
      "source": [
        "import tensorflow as tf\n",
        "from tensorflow.keras.models import Sequential\n",
        "from tensorflow.keras.layers import Dense\n",
        "from tensorflow.keras.callbacks import EarlyStopping\n",
        "from tensorflow.keras.regularizers import l2\n",
        "\n",
        "model = Sequential()\n",
        "model.add(Dense(64, input_dim=35, activation='relu', kernel_regularizer=l2(0.01)))\n",
        "model.add(Dense(128, activation='relu', kernel_regularizer=l2(0.01)))\n",
        "model.add(Dense(128, activation='relu', kernel_regularizer=l2(0.01)))\n",
        "model.add(Dense(64, activation='relu', kernel_regularizer=l2(0.01))) #il paper si confonde e dà due valori: 0.001 e 0.01\n",
        "model.add(Dense(6, activation='softmax'))\n",
        "\n",
        "model.compile(optimizer=tf.keras.optimizers.Adam(learning_rate=0.001), loss='categorical_crossentropy', metrics=['accuracy'])"
      ]
    },
    {
      "cell_type": "markdown",
      "metadata": {
        "id": "Ph8lJ_0mJL-b"
      },
      "source": [
        "### Model summary"
      ]
    },
    {
      "cell_type": "code",
      "execution_count": null,
      "metadata": {
        "colab": {
          "base_uri": "https://localhost:8080/"
        },
        "id": "gqvH3MBP4gg2",
        "outputId": "cfd58f99-160d-41f0-cc31-d0951705f862"
      },
      "outputs": [
        {
          "output_type": "stream",
          "name": "stdout",
          "text": [
            "Model: \"sequential\"\n",
            "_________________________________________________________________\n",
            " Layer (type)                Output Shape              Param #   \n",
            "=================================================================\n",
            " dense (Dense)               (None, 64)                2304      \n",
            "                                                                 \n",
            " dense_1 (Dense)             (None, 128)               8320      \n",
            "                                                                 \n",
            " dense_2 (Dense)             (None, 128)               16512     \n",
            "                                                                 \n",
            " dense_3 (Dense)             (None, 64)                8256      \n",
            "                                                                 \n",
            " dense_4 (Dense)             (None, 6)                 390       \n",
            "                                                                 \n",
            "=================================================================\n",
            "Total params: 35782 (139.77 KB)\n",
            "Trainable params: 35782 (139.77 KB)\n",
            "Non-trainable params: 0 (0.00 Byte)\n",
            "_________________________________________________________________\n"
          ]
        }
      ],
      "source": [
        "model.summary()"
      ]
    },
    {
      "cell_type": "markdown",
      "metadata": {
        "id": "KufZWSYfdLLd"
      },
      "source": [
        "## **Training**\n"
      ]
    },
    {
      "cell_type": "code",
      "execution_count": null,
      "metadata": {
        "id": "3-14oCb6pkqt"
      },
      "outputs": [],
      "source": [
        "e = 300 #@param\n",
        "v_split = 0.20 #@param\n",
        "pat_earlyStop = 20 #@param\n",
        "train_batch_size = 1024 #@param\n",
        "lr = 0.001"
      ]
    },
    {
      "cell_type": "markdown",
      "metadata": {
        "id": "lphmjkx4qClf"
      },
      "source": [
        "Definisco un validation set migliore, più bilanciato..."
      ]
    },
    {
      "cell_type": "code",
      "execution_count": null,
      "metadata": {
        "id": "wcWJhpL8qEQU"
      },
      "outputs": [],
      "source": [
        "from sklearn.model_selection import train_test_split\n",
        "\n",
        "X_combined = X_train\n",
        "y_combined = y_train\n",
        "\n",
        "X_train, X_val, y_train, y_val = train_test_split(\n",
        "    X_combined, y_combined, test_size=v_split, random_state=3, stratify=y_combined\n",
        ")"
      ]
    },
    {
      "cell_type": "code",
      "execution_count": null,
      "metadata": {
        "colab": {
          "base_uri": "https://localhost:8080/"
        },
        "id": "YXKDAEe54CL1",
        "outputId": "f21481e9-bebc-46e6-8b14-aa807d36d3db"
      },
      "outputs": [
        {
          "output_type": "stream",
          "name": "stdout",
          "text": [
            "(1175870, 35)\n",
            "(293968, 35)\n"
          ]
        }
      ],
      "source": [
        "print(X_train.shape)\n",
        "print(X_val.shape)"
      ]
    },
    {
      "cell_type": "markdown",
      "metadata": {
        "id": "coFVSKl49EJi"
      },
      "source": [
        "#### Class Weighting"
      ]
    },
    {
      "cell_type": "code",
      "execution_count": null,
      "metadata": {
        "id": "j-U6DBar9EbW"
      },
      "outputs": [],
      "source": [
        "#Cerco di capire se l'imbalanced classes mi da problemi di TROPPA BRAVURA del DNN ==> eseguo class Weighting\n",
        "from sklearn.utils.class_weight import compute_class_weight\n",
        "\n",
        "class_values = np.argmax(y_train, axis=1)\n",
        "class_weights = compute_class_weight(class_weight='balanced', classes=np.unique(class_values), y=class_values)\n",
        "class_weight_dict = dict(zip(np.unique(class_values), class_weights))"
      ]
    },
    {
      "cell_type": "code",
      "execution_count": null,
      "metadata": {
        "colab": {
          "base_uri": "https://localhost:8080/"
        },
        "id": "Zudx7PpoLTPX",
        "outputId": "63a009be-3113-44fa-bed7-00385e962245"
      },
      "outputs": [
        {
          "output_type": "stream",
          "name": "stdout",
          "text": [
            "[1 0 1 ... 0 1 0]\n",
            "[2.19491098e-01 1.51594497e+00 3.67868629e+00 2.03916815e+00\n",
            " 4.99562410e+01 4.75675566e+02]\n"
          ]
        }
      ],
      "source": [
        "print(class_values)\n",
        "print(class_weights)"
      ]
    },
    {
      "cell_type": "markdown",
      "metadata": {
        "id": "dp5lWVSoqRtA"
      },
      "source": [
        "#### Train"
      ]
    },
    {
      "cell_type": "code",
      "execution_count": null,
      "metadata": {
        "colab": {
          "base_uri": "https://localhost:8080/"
        },
        "id": "U8RTHSMoGUYA",
        "outputId": "09a57778-bf02-4462-fa83-70ecd945d3e4"
      },
      "outputs": [
        {
          "output_type": "stream",
          "name": "stdout",
          "text": [
            "Epoch 1/300\n",
            "1149/1149 - 8s - loss: 0.9886 - accuracy: 0.7896 - val_loss: 0.7051 - val_accuracy: 0.8895 - 8s/epoch - 7ms/step\n",
            "Epoch 2/300\n",
            "1149/1149 - 7s - loss: 0.5018 - accuracy: 0.8856 - val_loss: 0.6495 - val_accuracy: 0.8831 - 7s/epoch - 6ms/step\n",
            "Epoch 3/300\n",
            "1149/1149 - 7s - loss: 0.4243 - accuracy: 0.8923 - val_loss: 0.5285 - val_accuracy: 0.9008 - 7s/epoch - 6ms/step\n",
            "Epoch 4/300\n",
            "1149/1149 - 7s - loss: 0.3908 - accuracy: 0.8977 - val_loss: 0.5201 - val_accuracy: 0.9008 - 7s/epoch - 6ms/step\n",
            "Epoch 5/300\n",
            "1149/1149 - 7s - loss: 0.3885 - accuracy: 0.8935 - val_loss: 0.4825 - val_accuracy: 0.9150 - 7s/epoch - 6ms/step\n",
            "Epoch 6/300\n",
            "1149/1149 - 7s - loss: 0.3409 - accuracy: 0.9101 - val_loss: 0.4992 - val_accuracy: 0.9076 - 7s/epoch - 6ms/step\n",
            "Epoch 7/300\n",
            "1149/1149 - 7s - loss: 0.3342 - accuracy: 0.9119 - val_loss: 0.4929 - val_accuracy: 0.9089 - 7s/epoch - 6ms/step\n",
            "Epoch 8/300\n",
            "1149/1149 - 7s - loss: 0.3151 - accuracy: 0.9155 - val_loss: 0.4756 - val_accuracy: 0.9127 - 7s/epoch - 6ms/step\n",
            "Epoch 9/300\n",
            "1149/1149 - 7s - loss: 0.3164 - accuracy: 0.9154 - val_loss: 0.4410 - val_accuracy: 0.9152 - 7s/epoch - 6ms/step\n",
            "Epoch 10/300\n",
            "1149/1149 - 7s - loss: 0.3041 - accuracy: 0.9171 - val_loss: 0.4415 - val_accuracy: 0.9180 - 7s/epoch - 6ms/step\n",
            "Epoch 11/300\n",
            "1149/1149 - 7s - loss: 0.2866 - accuracy: 0.9216 - val_loss: 0.4230 - val_accuracy: 0.9200 - 7s/epoch - 6ms/step\n",
            "Epoch 12/300\n",
            "1149/1149 - 7s - loss: 0.2986 - accuracy: 0.9183 - val_loss: 0.4287 - val_accuracy: 0.9116 - 7s/epoch - 6ms/step\n",
            "Epoch 13/300\n",
            "1149/1149 - 7s - loss: 0.2728 - accuracy: 0.9235 - val_loss: 0.4109 - val_accuracy: 0.9216 - 7s/epoch - 6ms/step\n",
            "Epoch 14/300\n",
            "1149/1149 - 7s - loss: 0.2670 - accuracy: 0.9249 - val_loss: 0.3921 - val_accuracy: 0.9252 - 7s/epoch - 6ms/step\n",
            "Epoch 15/300\n",
            "1149/1149 - 7s - loss: 0.2674 - accuracy: 0.9236 - val_loss: 0.4049 - val_accuracy: 0.9201 - 7s/epoch - 6ms/step\n",
            "Epoch 16/300\n",
            "1149/1149 - 7s - loss: 0.2548 - accuracy: 0.9264 - val_loss: 0.3833 - val_accuracy: 0.9229 - 7s/epoch - 6ms/step\n",
            "Epoch 17/300\n",
            "1149/1149 - 6s - loss: 0.2644 - accuracy: 0.9225 - val_loss: 0.3556 - val_accuracy: 0.9370 - 6s/epoch - 5ms/step\n",
            "Epoch 18/300\n",
            "1149/1149 - 7s - loss: 0.2469 - accuracy: 0.9286 - val_loss: 0.3750 - val_accuracy: 0.9253 - 7s/epoch - 6ms/step\n",
            "Epoch 19/300\n",
            "1149/1149 - 7s - loss: 0.2481 - accuracy: 0.9292 - val_loss: 0.4434 - val_accuracy: 0.9114 - 7s/epoch - 6ms/step\n",
            "Epoch 20/300\n",
            "1149/1149 - 7s - loss: 0.2506 - accuracy: 0.9268 - val_loss: 0.3639 - val_accuracy: 0.9220 - 7s/epoch - 6ms/step\n",
            "Epoch 21/300\n",
            "1149/1149 - 7s - loss: 0.2356 - accuracy: 0.9320 - val_loss: 0.3514 - val_accuracy: 0.9282 - 7s/epoch - 6ms/step\n",
            "Epoch 22/300\n",
            "1149/1149 - 7s - loss: 0.2327 - accuracy: 0.9333 - val_loss: 0.3414 - val_accuracy: 0.9369 - 7s/epoch - 6ms/step\n",
            "Epoch 23/300\n",
            "1149/1149 - 7s - loss: 0.2383 - accuracy: 0.9324 - val_loss: 0.3554 - val_accuracy: 0.9309 - 7s/epoch - 6ms/step\n",
            "Epoch 24/300\n",
            "1149/1149 - 7s - loss: 0.2261 - accuracy: 0.9355 - val_loss: 0.3439 - val_accuracy: 0.9358 - 7s/epoch - 6ms/step\n",
            "Epoch 25/300\n",
            "1149/1149 - 7s - loss: 0.2280 - accuracy: 0.9351 - val_loss: 0.3447 - val_accuracy: 0.9366 - 7s/epoch - 6ms/step\n",
            "Epoch 26/300\n",
            "1149/1149 - 7s - loss: 0.2337 - accuracy: 0.9350 - val_loss: 0.3585 - val_accuracy: 0.9408 - 7s/epoch - 6ms/step\n",
            "Epoch 27/300\n",
            "1149/1149 - 7s - loss: 0.2190 - accuracy: 0.9398 - val_loss: 0.3217 - val_accuracy: 0.9425 - 7s/epoch - 6ms/step\n",
            "Epoch 28/300\n",
            "1149/1149 - 7s - loss: 0.2192 - accuracy: 0.9381 - val_loss: 0.4710 - val_accuracy: 0.8994 - 7s/epoch - 6ms/step\n",
            "Epoch 29/300\n",
            "1149/1149 - 7s - loss: 0.2153 - accuracy: 0.9393 - val_loss: 0.3302 - val_accuracy: 0.9425 - 7s/epoch - 6ms/step\n",
            "Epoch 30/300\n",
            "1149/1149 - 7s - loss: 0.2241 - accuracy: 0.9365 - val_loss: 0.3124 - val_accuracy: 0.9438 - 7s/epoch - 6ms/step\n",
            "Epoch 31/300\n",
            "1149/1149 - 7s - loss: 0.2092 - accuracy: 0.9410 - val_loss: 0.3184 - val_accuracy: 0.9386 - 7s/epoch - 6ms/step\n",
            "Epoch 32/300\n",
            "1149/1149 - 7s - loss: 0.2123 - accuracy: 0.9395 - val_loss: 0.3284 - val_accuracy: 0.9305 - 7s/epoch - 6ms/step\n",
            "Epoch 33/300\n",
            "1149/1149 - 7s - loss: 0.2173 - accuracy: 0.9395 - val_loss: 0.3396 - val_accuracy: 0.9299 - 7s/epoch - 6ms/step\n",
            "Epoch 34/300\n",
            "1149/1149 - 7s - loss: 0.2044 - accuracy: 0.9427 - val_loss: 0.3087 - val_accuracy: 0.9415 - 7s/epoch - 6ms/step\n",
            "Epoch 35/300\n",
            "1149/1149 - 7s - loss: 0.2106 - accuracy: 0.9407 - val_loss: 0.3050 - val_accuracy: 0.9443 - 7s/epoch - 6ms/step\n",
            "Epoch 36/300\n",
            "1149/1149 - 7s - loss: 0.2018 - accuracy: 0.9427 - val_loss: 0.2973 - val_accuracy: 0.9444 - 7s/epoch - 6ms/step\n",
            "Epoch 37/300\n",
            "1149/1149 - 7s - loss: 0.2001 - accuracy: 0.9435 - val_loss: 0.3148 - val_accuracy: 0.9408 - 7s/epoch - 6ms/step\n",
            "Epoch 38/300\n",
            "1149/1149 - 7s - loss: 0.1987 - accuracy: 0.9437 - val_loss: 0.3071 - val_accuracy: 0.9453 - 7s/epoch - 6ms/step\n",
            "Epoch 39/300\n",
            "1149/1149 - 6s - loss: 0.2049 - accuracy: 0.9414 - val_loss: 0.3265 - val_accuracy: 0.9396 - 6s/epoch - 6ms/step\n",
            "Epoch 40/300\n",
            "1149/1149 - 7s - loss: 0.1939 - accuracy: 0.9444 - val_loss: 0.3191 - val_accuracy: 0.9388 - 7s/epoch - 6ms/step\n",
            "Epoch 41/300\n",
            "1149/1149 - 6s - loss: 0.1934 - accuracy: 0.9444 - val_loss: 0.2945 - val_accuracy: 0.9439 - 6s/epoch - 6ms/step\n",
            "Epoch 42/300\n",
            "1149/1149 - 7s - loss: 0.2000 - accuracy: 0.9423 - val_loss: 0.2839 - val_accuracy: 0.9442 - 7s/epoch - 6ms/step\n",
            "Epoch 43/300\n",
            "1149/1149 - 7s - loss: 0.1900 - accuracy: 0.9451 - val_loss: 0.2937 - val_accuracy: 0.9428 - 7s/epoch - 6ms/step\n",
            "Epoch 44/300\n",
            "1149/1149 - 7s - loss: 0.1897 - accuracy: 0.9451 - val_loss: 0.2804 - val_accuracy: 0.9477 - 7s/epoch - 6ms/step\n",
            "Epoch 45/300\n",
            "1149/1149 - 7s - loss: 0.2131 - accuracy: 0.9356 - val_loss: 0.3006 - val_accuracy: 0.9437 - 7s/epoch - 6ms/step\n",
            "Epoch 46/300\n",
            "1149/1149 - 7s - loss: 0.1873 - accuracy: 0.9445 - val_loss: 0.2855 - val_accuracy: 0.9454 - 7s/epoch - 6ms/step\n",
            "Epoch 47/300\n",
            "1149/1149 - 7s - loss: 0.1851 - accuracy: 0.9456 - val_loss: 0.2880 - val_accuracy: 0.9448 - 7s/epoch - 6ms/step\n",
            "Epoch 48/300\n",
            "1149/1149 - 7s - loss: 0.1992 - accuracy: 0.9413 - val_loss: 0.3026 - val_accuracy: 0.9460 - 7s/epoch - 6ms/step\n",
            "Epoch 49/300\n",
            "1149/1149 - 7s - loss: 0.1896 - accuracy: 0.9432 - val_loss: 0.2898 - val_accuracy: 0.9470 - 7s/epoch - 6ms/step\n",
            "Epoch 50/300\n",
            "1149/1149 - 7s - loss: 0.1827 - accuracy: 0.9462 - val_loss: 0.2870 - val_accuracy: 0.9437 - 7s/epoch - 6ms/step\n",
            "Epoch 51/300\n",
            "1149/1149 - 7s - loss: 0.1823 - accuracy: 0.9465 - val_loss: 0.2751 - val_accuracy: 0.9466 - 7s/epoch - 6ms/step\n",
            "Epoch 52/300\n",
            "1149/1149 - 7s - loss: 0.1840 - accuracy: 0.9459 - val_loss: 0.2597 - val_accuracy: 0.9526 - 7s/epoch - 6ms/step\n",
            "Epoch 53/300\n",
            "1149/1149 - 7s - loss: 0.1832 - accuracy: 0.9456 - val_loss: 0.3148 - val_accuracy: 0.9422 - 7s/epoch - 6ms/step\n",
            "Epoch 54/300\n",
            "1149/1149 - 7s - loss: 0.1791 - accuracy: 0.9473 - val_loss: 0.5662 - val_accuracy: 0.8699 - 7s/epoch - 6ms/step\n",
            "Epoch 55/300\n",
            "1149/1149 - 7s - loss: 0.1896 - accuracy: 0.9430 - val_loss: 0.2753 - val_accuracy: 0.9478 - 7s/epoch - 6ms/step\n",
            "Epoch 56/300\n",
            "1149/1149 - 7s - loss: 0.1761 - accuracy: 0.9475 - val_loss: 0.2812 - val_accuracy: 0.9454 - 7s/epoch - 6ms/step\n",
            "Epoch 57/300\n",
            "1149/1149 - 7s - loss: 0.1825 - accuracy: 0.9450 - val_loss: 0.2812 - val_accuracy: 0.9448 - 7s/epoch - 6ms/step\n",
            "Epoch 58/300\n",
            "1149/1149 - 7s - loss: 0.1814 - accuracy: 0.9453 - val_loss: 0.2719 - val_accuracy: 0.9482 - 7s/epoch - 6ms/step\n",
            "Epoch 59/300\n",
            "1149/1149 - 7s - loss: 0.1743 - accuracy: 0.9476 - val_loss: 0.2737 - val_accuracy: 0.9480 - 7s/epoch - 6ms/step\n",
            "Epoch 60/300\n",
            "1149/1149 - 7s - loss: 0.1877 - accuracy: 0.9428 - val_loss: 0.2746 - val_accuracy: 0.9468 - 7s/epoch - 6ms/step\n",
            "Epoch 61/300\n",
            "1149/1149 - 7s - loss: 0.1728 - accuracy: 0.9474 - val_loss: 0.2743 - val_accuracy: 0.9474 - 7s/epoch - 6ms/step\n",
            "Epoch 62/300\n",
            "1149/1149 - 7s - loss: 0.1723 - accuracy: 0.9481 - val_loss: 0.2654 - val_accuracy: 0.9480 - 7s/epoch - 6ms/step\n",
            "Epoch 63/300\n",
            "1149/1149 - 7s - loss: 0.1845 - accuracy: 0.9450 - val_loss: 0.2675 - val_accuracy: 0.9506 - 7s/epoch - 6ms/step\n",
            "Epoch 64/300\n",
            "1149/1149 - 7s - loss: 0.1703 - accuracy: 0.9485 - val_loss: 0.2583 - val_accuracy: 0.9515 - 7s/epoch - 6ms/step\n",
            "Epoch 65/300\n",
            "1149/1149 - 6s - loss: 0.1736 - accuracy: 0.9475 - val_loss: 0.2571 - val_accuracy: 0.9499 - 6s/epoch - 6ms/step\n",
            "Epoch 66/300\n",
            "1149/1149 - 7s - loss: 0.1691 - accuracy: 0.9489 - val_loss: 0.2670 - val_accuracy: 0.9484 - 7s/epoch - 6ms/step\n",
            "Epoch 67/300\n",
            "1149/1149 - 7s - loss: 0.1806 - accuracy: 0.9456 - val_loss: 0.4283 - val_accuracy: 0.9071 - 7s/epoch - 6ms/step\n",
            "Epoch 68/300\n",
            "1149/1149 - 7s - loss: 0.1686 - accuracy: 0.9483 - val_loss: 0.2578 - val_accuracy: 0.9474 - 7s/epoch - 6ms/step\n",
            "Epoch 69/300\n",
            "1149/1149 - 7s - loss: 0.1673 - accuracy: 0.9490 - val_loss: 0.2638 - val_accuracy: 0.9482 - 7s/epoch - 6ms/step\n",
            "Epoch 70/300\n",
            "1149/1149 - 7s - loss: 0.1763 - accuracy: 0.9454 - val_loss: 0.2587 - val_accuracy: 0.9485 - 7s/epoch - 6ms/step\n",
            "Epoch 71/300\n",
            "1149/1149 - 6s - loss: 0.1661 - accuracy: 0.9491 - val_loss: 0.2727 - val_accuracy: 0.9458 - 6s/epoch - 6ms/step\n",
            "Epoch 72/300\n",
            "1149/1149 - 7s - loss: 0.1817 - accuracy: 0.9445 - val_loss: 0.2741 - val_accuracy: 0.9474 - 7s/epoch - 6ms/step\n",
            "Epoch 73/300\n",
            "1149/1149 - 6s - loss: 0.1667 - accuracy: 0.9488 - val_loss: 0.2503 - val_accuracy: 0.9523 - 6s/epoch - 6ms/step\n",
            "Epoch 74/300\n",
            "1149/1149 - 7s - loss: 0.1643 - accuracy: 0.9495 - val_loss: 0.2462 - val_accuracy: 0.9515 - 7s/epoch - 6ms/step\n",
            "Epoch 75/300\n",
            "1149/1149 - 7s - loss: 0.1643 - accuracy: 0.9494 - val_loss: 0.2537 - val_accuracy: 0.9502 - 7s/epoch - 6ms/step\n",
            "Epoch 76/300\n",
            "1149/1149 - 7s - loss: 0.1667 - accuracy: 0.9487 - val_loss: 0.2526 - val_accuracy: 0.9529 - 7s/epoch - 6ms/step\n",
            "Epoch 77/300\n",
            "1149/1149 - 6s - loss: 0.1634 - accuracy: 0.9496 - val_loss: 0.2781 - val_accuracy: 0.9485 - 6s/epoch - 6ms/step\n",
            "Epoch 78/300\n",
            "1149/1149 - 6s - loss: 0.1743 - accuracy: 0.9455 - val_loss: 0.2471 - val_accuracy: 0.9500 - 6s/epoch - 6ms/step\n",
            "Epoch 79/300\n",
            "1149/1149 - 6s - loss: 0.1613 - accuracy: 0.9501 - val_loss: 0.2521 - val_accuracy: 0.9516 - 6s/epoch - 6ms/step\n",
            "Epoch 80/300\n",
            "1149/1149 - 7s - loss: 0.1741 - accuracy: 0.9454 - val_loss: 0.2711 - val_accuracy: 0.9478 - 7s/epoch - 6ms/step\n",
            "Epoch 81/300\n",
            "1149/1149 - 7s - loss: 0.1662 - accuracy: 0.9479 - val_loss: 0.2556 - val_accuracy: 0.9504 - 7s/epoch - 6ms/step\n",
            "Epoch 82/300\n",
            "1149/1149 - 7s - loss: 0.1602 - accuracy: 0.9502 - val_loss: 0.2463 - val_accuracy: 0.9496 - 7s/epoch - 6ms/step\n",
            "Epoch 83/300\n",
            "1149/1149 - 7s - loss: 0.1630 - accuracy: 0.9490 - val_loss: 0.2634 - val_accuracy: 0.9476 - 7s/epoch - 6ms/step\n",
            "Epoch 84/300\n",
            "1149/1149 - 6s - loss: 0.1600 - accuracy: 0.9501 - val_loss: 0.2717 - val_accuracy: 0.9463 - 6s/epoch - 6ms/step\n",
            "Epoch 85/300\n",
            "1149/1149 - 6s - loss: 0.1646 - accuracy: 0.9483 - val_loss: 0.2396 - val_accuracy: 0.9500 - 6s/epoch - 6ms/step\n",
            "Epoch 86/300\n",
            "1149/1149 - 7s - loss: 0.1580 - accuracy: 0.9509 - val_loss: 0.2579 - val_accuracy: 0.9479 - 7s/epoch - 6ms/step\n",
            "Epoch 87/300\n",
            "1149/1149 - 7s - loss: 0.1707 - accuracy: 0.9459 - val_loss: 0.3848 - val_accuracy: 0.9064 - 7s/epoch - 6ms/step\n",
            "Epoch 88/300\n",
            "1149/1149 - 7s - loss: 0.1626 - accuracy: 0.9483 - val_loss: 0.2353 - val_accuracy: 0.9550 - 7s/epoch - 6ms/step\n",
            "Epoch 89/300\n",
            "1149/1149 - 7s - loss: 0.1567 - accuracy: 0.9503 - val_loss: 0.2478 - val_accuracy: 0.9530 - 7s/epoch - 6ms/step\n",
            "Epoch 90/300\n",
            "1149/1149 - 6s - loss: 0.1564 - accuracy: 0.9507 - val_loss: 0.2344 - val_accuracy: 0.9540 - 6s/epoch - 6ms/step\n",
            "Epoch 91/300\n",
            "1149/1149 - 7s - loss: 0.1718 - accuracy: 0.9478 - val_loss: 0.2590 - val_accuracy: 0.9495 - 7s/epoch - 6ms/step\n",
            "Epoch 92/300\n",
            "1149/1149 - 7s - loss: 0.1553 - accuracy: 0.9512 - val_loss: 0.2403 - val_accuracy: 0.9556 - 7s/epoch - 6ms/step\n",
            "Epoch 93/300\n",
            "1149/1149 - 7s - loss: 0.1557 - accuracy: 0.9511 - val_loss: 0.2468 - val_accuracy: 0.9498 - 7s/epoch - 6ms/step\n",
            "Epoch 94/300\n",
            "1149/1149 - 6s - loss: 0.1634 - accuracy: 0.9479 - val_loss: 0.2422 - val_accuracy: 0.9490 - 6s/epoch - 6ms/step\n",
            "Epoch 95/300\n",
            "1149/1149 - 7s - loss: 0.1540 - accuracy: 0.9512 - val_loss: 0.2432 - val_accuracy: 0.9526 - 7s/epoch - 6ms/step\n",
            "Epoch 96/300\n",
            "1149/1149 - 7s - loss: 0.1551 - accuracy: 0.9508 - val_loss: 0.2477 - val_accuracy: 0.9490 - 7s/epoch - 6ms/step\n",
            "Epoch 97/300\n",
            "1149/1149 - 7s - loss: 0.1700 - accuracy: 0.9440 - val_loss: 0.3305 - val_accuracy: 0.9271 - 7s/epoch - 6ms/step\n",
            "Epoch 98/300\n",
            "1149/1149 - 7s - loss: 0.1562 - accuracy: 0.9495 - val_loss: 0.2333 - val_accuracy: 0.9528 - 7s/epoch - 6ms/step\n",
            "Epoch 99/300\n",
            "1149/1149 - 7s - loss: 0.1525 - accuracy: 0.9511 - val_loss: 0.2489 - val_accuracy: 0.9508 - 7s/epoch - 6ms/step\n",
            "Epoch 100/300\n",
            "1149/1149 - 7s - loss: 0.1793 - accuracy: 0.9418 - val_loss: 0.2451 - val_accuracy: 0.9489 - 7s/epoch - 6ms/step\n",
            "Epoch 101/300\n",
            "1149/1149 - 7s - loss: 0.1538 - accuracy: 0.9512 - val_loss: 0.2397 - val_accuracy: 0.9523 - 7s/epoch - 6ms/step\n",
            "Epoch 102/300\n",
            "1149/1149 - 6s - loss: 0.1517 - accuracy: 0.9514 - val_loss: 0.2262 - val_accuracy: 0.9506 - 6s/epoch - 5ms/step\n",
            "Epoch 103/300\n",
            "1149/1149 - 6s - loss: 0.1525 - accuracy: 0.9513 - val_loss: 0.2346 - val_accuracy: 0.9486 - 6s/epoch - 6ms/step\n",
            "Epoch 104/300\n",
            "1149/1149 - 7s - loss: 0.1691 - accuracy: 0.9449 - val_loss: 0.2429 - val_accuracy: 0.9518 - 7s/epoch - 6ms/step\n",
            "Epoch 105/300\n",
            "1149/1149 - 7s - loss: 0.1513 - accuracy: 0.9516 - val_loss: 0.2431 - val_accuracy: 0.9494 - 7s/epoch - 6ms/step\n",
            "Epoch 106/300\n",
            "1149/1149 - 6s - loss: 0.1508 - accuracy: 0.9514 - val_loss: 0.2276 - val_accuracy: 0.9538 - 6s/epoch - 5ms/step\n",
            "Epoch 107/300\n",
            "1149/1149 - 7s - loss: 0.1712 - accuracy: 0.9453 - val_loss: 0.2660 - val_accuracy: 0.9436 - 7s/epoch - 6ms/step\n",
            "Epoch 108/300\n",
            "1149/1149 - 6s - loss: 0.1788 - accuracy: 0.9472 - val_loss: 0.2541 - val_accuracy: 0.9468 - 6s/epoch - 6ms/step\n",
            "Epoch 109/300\n",
            "1149/1149 - 7s - loss: 0.1545 - accuracy: 0.9506 - val_loss: 0.2454 - val_accuracy: 0.9500 - 7s/epoch - 6ms/step\n",
            "Epoch 110/300\n",
            "1149/1149 - 7s - loss: 0.1698 - accuracy: 0.9468 - val_loss: 0.2358 - val_accuracy: 0.9537 - 7s/epoch - 6ms/step\n",
            "Epoch 111/300\n",
            "1149/1149 - 7s - loss: 0.1492 - accuracy: 0.9519 - val_loss: 0.2268 - val_accuracy: 0.9519 - 7s/epoch - 6ms/step\n",
            "Epoch 112/300\n",
            "1149/1149 - 7s - loss: 0.1559 - accuracy: 0.9497 - val_loss: 0.2357 - val_accuracy: 0.9501 - 7s/epoch - 6ms/step\n",
            "Epoch 113/300\n",
            "1149/1149 - 7s - loss: 0.1486 - accuracy: 0.9521 - val_loss: 0.2389 - val_accuracy: 0.9536 - 7s/epoch - 6ms/step\n",
            "Epoch 114/300\n",
            "1149/1149 - 6s - loss: 0.1661 - accuracy: 0.9456 - val_loss: 0.2316 - val_accuracy: 0.9498 - 6s/epoch - 6ms/step\n",
            "Epoch 115/300\n",
            "1149/1149 - 6s - loss: 0.1479 - accuracy: 0.9521 - val_loss: 0.2183 - val_accuracy: 0.9548 - 6s/epoch - 6ms/step\n",
            "Epoch 116/300\n",
            "1149/1149 - 7s - loss: 0.1478 - accuracy: 0.9520 - val_loss: 0.2480 - val_accuracy: 0.9519 - 7s/epoch - 6ms/step\n",
            "Epoch 117/300\n",
            "1149/1149 - 7s - loss: 0.1633 - accuracy: 0.9469 - val_loss: 0.2353 - val_accuracy: 0.9502 - 7s/epoch - 6ms/step\n",
            "Epoch 118/300\n",
            "1149/1149 - 7s - loss: 0.1479 - accuracy: 0.9521 - val_loss: 0.2660 - val_accuracy: 0.9456 - 7s/epoch - 6ms/step\n",
            "Epoch 119/300\n",
            "1149/1149 - 7s - loss: 0.1633 - accuracy: 0.9447 - val_loss: 0.2504 - val_accuracy: 0.9488 - 7s/epoch - 6ms/step\n",
            "Epoch 120/300\n",
            "1149/1149 - 7s - loss: 0.1482 - accuracy: 0.9524 - val_loss: 0.2219 - val_accuracy: 0.9541 - 7s/epoch - 6ms/step\n",
            "Epoch 121/300\n",
            "1149/1149 - 7s - loss: 0.1580 - accuracy: 0.9476 - val_loss: 0.2431 - val_accuracy: 0.9492 - 7s/epoch - 6ms/step\n",
            "Epoch 122/300\n",
            "1149/1149 - 7s - loss: 0.1467 - accuracy: 0.9529 - val_loss: 0.2267 - val_accuracy: 0.9546 - 7s/epoch - 6ms/step\n",
            "Epoch 123/300\n",
            "1149/1149 - 7s - loss: 0.1463 - accuracy: 0.9527 - val_loss: 0.2349 - val_accuracy: 0.9537 - 7s/epoch - 6ms/step\n",
            "Epoch 124/300\n",
            "1149/1149 - 7s - loss: 0.1609 - accuracy: 0.9478 - val_loss: 0.2446 - val_accuracy: 0.9547 - 7s/epoch - 6ms/step\n",
            "Epoch 125/300\n",
            "1149/1149 - 7s - loss: 0.1465 - accuracy: 0.9520 - val_loss: 0.2374 - val_accuracy: 0.9510 - 7s/epoch - 6ms/step\n",
            "Epoch 126/300\n",
            "1149/1149 - 7s - loss: 0.1459 - accuracy: 0.9522 - val_loss: 0.2246 - val_accuracy: 0.9534 - 7s/epoch - 6ms/step\n",
            "Epoch 127/300\n",
            "1149/1149 - 6s - loss: 0.1541 - accuracy: 0.9488 - val_loss: 0.2199 - val_accuracy: 0.9560 - 6s/epoch - 5ms/step\n",
            "Epoch 128/300\n",
            "1149/1149 - 7s - loss: 0.1456 - accuracy: 0.9527 - val_loss: 0.2213 - val_accuracy: 0.9551 - 7s/epoch - 6ms/step\n",
            "Epoch 129/300\n",
            "1149/1149 - 6s - loss: 0.1566 - accuracy: 0.9491 - val_loss: 0.2669 - val_accuracy: 0.9473 - 6s/epoch - 6ms/step\n",
            "Epoch 130/300\n",
            "1149/1149 - 6s - loss: 0.1482 - accuracy: 0.9510 - val_loss: 0.2381 - val_accuracy: 0.9478 - 6s/epoch - 6ms/step\n",
            "Epoch 131/300\n",
            "1149/1149 - 6s - loss: 0.1442 - accuracy: 0.9526 - val_loss: 0.2246 - val_accuracy: 0.9533 - 6s/epoch - 6ms/step\n",
            "Epoch 132/300\n",
            "1149/1149 - 7s - loss: 0.1636 - accuracy: 0.9454 - val_loss: 0.2400 - val_accuracy: 0.9524 - 7s/epoch - 6ms/step\n",
            "Epoch 133/300\n",
            "1149/1149 - 7s - loss: 0.1432 - accuracy: 0.9531 - val_loss: 0.2254 - val_accuracy: 0.9506 - 7s/epoch - 6ms/step\n",
            "Epoch 134/300\n",
            "1149/1149 - 7s - loss: 0.1524 - accuracy: 0.9488 - val_loss: 0.2208 - val_accuracy: 0.9521 - 7s/epoch - 6ms/step\n",
            "Epoch 135/300\n",
            "1149/1149 - 7s - loss: 0.1433 - accuracy: 0.9531 - val_loss: 0.2169 - val_accuracy: 0.9516 - 7s/epoch - 6ms/step\n",
            "Epoch 136/300\n",
            "1149/1149 - 7s - loss: 0.1530 - accuracy: 0.9492 - val_loss: 0.2238 - val_accuracy: 0.9541 - 7s/epoch - 6ms/step\n",
            "Epoch 137/300\n",
            "1149/1149 - 6s - loss: 0.1432 - accuracy: 0.9533 - val_loss: 0.2349 - val_accuracy: 0.9538 - 6s/epoch - 6ms/step\n",
            "Epoch 138/300\n",
            "1149/1149 - 7s - loss: 0.1664 - accuracy: 0.9457 - val_loss: 0.2457 - val_accuracy: 0.9483 - 7s/epoch - 6ms/step\n",
            "Epoch 139/300\n",
            "1149/1149 - 6s - loss: 0.1444 - accuracy: 0.9525 - val_loss: 0.2173 - val_accuracy: 0.9524 - 6s/epoch - 6ms/step\n",
            "Epoch 140/300\n",
            "1149/1149 - 7s - loss: 0.1670 - accuracy: 0.9452 - val_loss: 0.2445 - val_accuracy: 0.9509 - 7s/epoch - 6ms/step\n",
            "Epoch 141/300\n",
            "1149/1149 - 7s - loss: 0.1440 - accuracy: 0.9523 - val_loss: 0.2214 - val_accuracy: 0.9548 - 7s/epoch - 6ms/step\n",
            "Epoch 142/300\n",
            "1149/1149 - 7s - loss: 0.1435 - accuracy: 0.9526 - val_loss: 0.2308 - val_accuracy: 0.9534 - 7s/epoch - 6ms/step\n",
            "Epoch 143/300\n",
            "1149/1149 - 7s - loss: 0.1500 - accuracy: 0.9495 - val_loss: 0.2237 - val_accuracy: 0.9514 - 7s/epoch - 6ms/step\n",
            "Epoch 144/300\n",
            "1149/1149 - 7s - loss: 0.1425 - accuracy: 0.9532 - val_loss: 0.2130 - val_accuracy: 0.9531 - 7s/epoch - 6ms/step\n",
            "Epoch 145/300\n",
            "1149/1149 - 7s - loss: 0.1571 - accuracy: 0.9474 - val_loss: 0.3069 - val_accuracy: 0.9327 - 7s/epoch - 6ms/step\n",
            "Epoch 146/300\n",
            "1149/1149 - 7s - loss: 0.1492 - accuracy: 0.9498 - val_loss: 0.2397 - val_accuracy: 0.9510 - 7s/epoch - 6ms/step\n",
            "Epoch 147/300\n",
            "1149/1149 - 7s - loss: 0.1423 - accuracy: 0.9528 - val_loss: 0.2254 - val_accuracy: 0.9528 - 7s/epoch - 6ms/step\n",
            "Epoch 148/300\n",
            "1149/1149 - 7s - loss: 0.1424 - accuracy: 0.9528 - val_loss: 0.2258 - val_accuracy: 0.9530 - 7s/epoch - 6ms/step\n",
            "Epoch 149/300\n",
            "1149/1149 - 6s - loss: 0.1457 - accuracy: 0.9516 - val_loss: 0.2357 - val_accuracy: 0.9524 - 6s/epoch - 6ms/step\n",
            "Epoch 150/300\n",
            "1149/1149 - 7s - loss: 0.1422 - accuracy: 0.9530 - val_loss: 0.2518 - val_accuracy: 0.9438 - 7s/epoch - 6ms/step\n",
            "Epoch 151/300\n",
            "1149/1149 - 6s - loss: 0.1422 - accuracy: 0.9529 - val_loss: 0.2346 - val_accuracy: 0.9477 - 6s/epoch - 6ms/step\n",
            "Epoch 152/300\n",
            "1149/1149 - 6s - loss: 0.1559 - accuracy: 0.9490 - val_loss: 0.2313 - val_accuracy: 0.9499 - 6s/epoch - 6ms/step\n",
            "Epoch 153/300\n",
            "1149/1149 - 7s - loss: 0.1495 - accuracy: 0.9491 - val_loss: 0.2558 - val_accuracy: 0.9481 - 7s/epoch - 6ms/step\n",
            "Epoch 154/300\n",
            "1149/1149 - 7s - loss: 0.1449 - accuracy: 0.9527 - val_loss: 0.2236 - val_accuracy: 0.9523 - 7s/epoch - 6ms/step\n",
            "Epoch 155/300\n",
            "1149/1149 - 7s - loss: 0.1412 - accuracy: 0.9531 - val_loss: 0.2149 - val_accuracy: 0.9511 - 7s/epoch - 6ms/step\n",
            "Epoch 156/300\n",
            "1149/1149 - 6s - loss: 0.1527 - accuracy: 0.9491 - val_loss: 0.2661 - val_accuracy: 0.9455 - 6s/epoch - 6ms/step\n",
            "Epoch 157/300\n",
            "1149/1149 - 7s - loss: 0.1435 - accuracy: 0.9523 - val_loss: 0.2298 - val_accuracy: 0.9545 - 7s/epoch - 6ms/step\n",
            "Epoch 158/300\n",
            "1149/1149 - 7s - loss: 0.1414 - accuracy: 0.9530 - val_loss: 0.2172 - val_accuracy: 0.9546 - 7s/epoch - 6ms/step\n",
            "Epoch 159/300\n",
            "1149/1149 - 7s - loss: 0.1406 - accuracy: 0.9533 - val_loss: 0.2365 - val_accuracy: 0.9522 - 7s/epoch - 6ms/step\n",
            "Epoch 160/300\n",
            "1149/1149 - 7s - loss: 0.1458 - accuracy: 0.9509 - val_loss: 0.2280 - val_accuracy: 0.9563 - 7s/epoch - 6ms/step\n",
            "Epoch 161/300\n",
            "1149/1149 - 7s - loss: 0.1490 - accuracy: 0.9509 - val_loss: 0.2445 - val_accuracy: 0.9521 - 7s/epoch - 6ms/step\n",
            "Epoch 162/300\n",
            "1149/1149 - 7s - loss: 0.1398 - accuracy: 0.9535 - val_loss: 0.2161 - val_accuracy: 0.9538 - 7s/epoch - 6ms/step\n",
            "Epoch 163/300\n",
            "1149/1149 - 6s - loss: 0.1398 - accuracy: 0.9535 - val_loss: 0.2142 - val_accuracy: 0.9569 - 6s/epoch - 6ms/step\n",
            "Epoch 164/300\n",
            "1149/1149 - 7s - loss: 0.1575 - accuracy: 0.9467 - val_loss: 0.2167 - val_accuracy: 0.9532 - 7s/epoch - 6ms/step\n"
          ]
        }
      ],
      "source": [
        "from keras.callbacks import EarlyStopping\n",
        "\n",
        "# Use EarlyStopping to prevent overfitting\n",
        "early_stopping = EarlyStopping(monitor='val_loss', patience=pat_earlyStop, restore_best_weights=True)\n",
        "\n",
        "history = model.fit(X_train, y_train,  batch_size=train_batch_size, epochs=e, verbose=2, validation_data=(X_val, y_val), callbacks=[early_stopping], class_weight=class_weight_dict)\n",
        "#\n",
        "#"
      ]
    },
    {
      "cell_type": "markdown",
      "metadata": {
        "id": "JK2WaaIKVdo_"
      },
      "source": [
        "# **Valutazione**"
      ]
    },
    {
      "cell_type": "code",
      "source": [
        "plt.plot(history.history['loss'])\n",
        "plt.plot(history.history['val_loss'])\n",
        "plt.title('Curve Loss del modello IDS-MLP')\n",
        "plt.xlabel('Epoche')\n",
        "plt.ylabel('Loss')\n",
        "plt.legend(['Train', 'Validation'], loc='upper right')\n",
        "\n",
        "#salva in Drive\n",
        "images_dir = '/content/drive/MyDrive/Colab Notebooks/progettoTesi/grafici_pdf/ids-easy/finali'\n",
        "plt.savefig(f\"{images_dir}/IDS-MLP_GraficoLosses_REAL_Train-Valid_CW.pdf\", dpi=200, format='pdf')\n",
        "\n",
        "\n",
        "plt.show()"
      ],
      "metadata": {
        "colab": {
          "base_uri": "https://localhost:8080/"
        },
        "id": "ikn62xa2wtvV",
        "outputId": "44475c02-b57c-4dc2-9c1c-237013373e5a"
      },
      "execution_count": null,
      "outputs": [
        {
          "output_type": "display_data",
          "data": {
            "text/plain": [
              "<Figure size 640x480 with 1 Axes>"
            ],
            "image/png": "[encoded data removed]"
          },
          "metadata": {}
        }
      ]
    },
    {
      "cell_type": "code",
      "execution_count": null,
      "metadata": {
        "colab": {
          "base_uri": "https://localhost:8080/"
        },
        "id": "jUQtPg9H9DlZ",
        "outputId": "8dbf5738-90ea-462a-ff3a-bc57e45da458"
      },
      "outputs": [
        {
          "output_type": "display_data",
          "data": {
            "text/plain": [
              "<Figure size 640x480 with 1 Axes>"
            ],
            "image/png": "[encoded data removed]"
          },
          "metadata": {}
        }
      ],
      "source": [
        "plt.plot(history.history['accuracy'])\n",
        "plt.plot(history.history['val_accuracy'])\n",
        "plt.title('Accuratezza del modello')\n",
        "plt.xlabel('Epoche')\n",
        "plt.ylabel('Accuratezza')\n",
        "plt.legend(['Train', 'Validation'], loc='lower right')\n",
        "\n",
        "#salva in Drive\n",
        "plt.savefig(f\"{images_dir}/IDS-MLP_GraficoAccuratezza_REAL_Train-Valid_CW.pdf\", dpi=200, format='pdf')\n",
        "\n",
        "plt.show()"
      ]
    },
    {
      "cell_type": "code",
      "execution_count": null,
      "metadata": {
        "colab": {
          "base_uri": "https://localhost:8080/"
        },
        "id": "pak7xNkXcuJE",
        "outputId": "72be6adb-e625-407e-8455-9ac86eedc1ba"
      },
      "outputs": [
        {
          "output_type": "stream",
          "name": "stdout",
          "text": [
            "1231/1231 - 3s - loss: 0.2103 - accuracy: 0.9539 - 3s/epoch - 2ms/step\n",
            "======================================\n",
            "Test Loss: 0.21033774316310883\n",
            "Test Accuracy: 0.9538949728012085\n"
          ]
        }
      ],
      "source": [
        "eval_result  = model.evaluate(X_test, y_test, verbose=2, batch_size=512) #The model evaluates the test dataset in batches to save memory and computational resources.\n",
        "\n",
        "# Get loss and accuracy from the evaluation result\n",
        "loss = eval_result[0]\n",
        "accuracy = eval_result[1]\n",
        "\n",
        "print(\"======================================\")\n",
        "print(f\"Test Loss: {eval_result[0]}\")\n",
        "print(f\"Test Accuracy: {eval_result[1]}\")"
      ]
    },
    {
      "cell_type": "code",
      "execution_count": null,
      "metadata": {
        "colab": {
          "base_uri": "https://localhost:8080/"
        },
        "id": "grlaDUPkemHA",
        "outputId": "628fc14a-170a-4212-962c-2e02477831ab"
      },
      "outputs": [
        {
          "output_type": "stream",
          "name": "stdout",
          "text": [
            "19686/19686 [==============================] - 28s 1ms/step\n"
          ]
        }
      ],
      "source": [
        "# predictions // number of times the model classified an input as each class\n",
        "\n",
        "# import numpy for argmax function // returns the max value on an axis... index with max value is predicted class\n",
        "import numpy as np\n",
        "\n",
        "y_prediction = model.predict(X_test)\n",
        "y_pred_classes= np.argmax(y_prediction, axis=1)"
      ]
    },
    {
      "cell_type": "code",
      "execution_count": null,
      "metadata": {
        "colab": {
          "base_uri": "https://localhost:8080/"
        },
        "id": "O72eKlWGlGRP",
        "outputId": "252348bd-11a1-464f-8a3f-b169a2f0f90a"
      },
      "outputs": [
        {
          "output_type": "execute_result",
          "data": {
            "text/plain": [
              "0    451594\n",
              "1     76970\n",
              "3     56805\n",
              "2     29732\n",
              "4     12866\n",
              "5      1964\n",
              "dtype: int64"
            ]
          },
          "metadata": {},
          "execution_count": 20
        }
      ],
      "source": [
        "df_y_pred_classes = pd.DataFrame(y_pred_classes)\n",
        "df_y_pred_classes.value_counts()"
      ]
    },
    {
      "cell_type": "code",
      "execution_count": null,
      "metadata": {
        "id": "9a4KZXZ8EhEC"
      },
      "outputs": [],
      "source": [
        "y_test_rounded = np.argmax(y_test, axis=1)"
      ]
    },
    {
      "cell_type": "markdown",
      "metadata": {
        "id": "G1u9Ngf--bOj"
      },
      "source": [
        "The balanced accuracy score is designed to address the issue of class imbalance. It calculates the average accuracy for each class and then computes the mean of these per-class accuracies"
      ]
    },
    {
      "cell_type": "code",
      "execution_count": null,
      "metadata": {
        "colab": {
          "base_uri": "https://localhost:8080/"
        },
        "id": "iWPHXt-NKs3a",
        "outputId": "3bb1b25b-ea07-404c-e157-4dd5b22c54b0"
      },
      "outputs": [
        {
          "output_type": "stream",
          "name": "stdout",
          "text": [
            "Balanced Accuracy: 0.9849905019245032\n",
            "Accuracy: 0.9538949503993295\n"
          ]
        }
      ],
      "source": [
        "from sklearn.metrics import balanced_accuracy_score, accuracy_score\n",
        "\n",
        "balanced_accuracy = balanced_accuracy_score(y_test_rounded, y_pred_classes)\n",
        "print('Balanced Accuracy:', balanced_accuracy)\n",
        "accuracy = accuracy_score(y_test_rounded, y_pred_classes)\n",
        "print('Accuracy:', accuracy)"
      ]
    },
    {
      "cell_type": "code",
      "execution_count": null,
      "metadata": {
        "colab": {
          "base_uri": "https://localhost:8080/"
        },
        "id": "pgX-grKvqmIb",
        "outputId": "2a92a6ea-3783-4f86-ecca-43141d064514"
      },
      "outputs": [
        {
          "output_type": "stream",
          "name": "stdout",
          "text": [
            "Precision: 0.972948\n",
            "Macro Precision: 0.668752\n",
            "======================\n",
            "Recall: 0.953895\n",
            "Macro Recall: 0.984991\n",
            "=======================\n",
            "F1 score: 0.961196\n",
            "Macro F1 score: 0.716831\n"
          ]
        }
      ],
      "source": [
        "from sklearn.metrics import precision_score, recall_score, f1_score\n",
        "\n",
        "precision = precision_score(y_test_rounded, y_pred_classes, average='weighted', zero_division=1)\n",
        "print('Precision: %f' % precision)\n",
        "m_precision = precision_score(y_test_rounded, y_pred_classes, average='macro', zero_division=1)\n",
        "print('Macro Precision: %f' % m_precision)\n",
        "print(\"======================\")\n",
        "recall = recall_score(y_test_rounded, y_pred_classes, average='weighted', zero_division=1)\n",
        "print('Recall: %f' % recall)\n",
        "m_recall = recall_score(y_test_rounded, y_pred_classes, average='macro', zero_division=1)\n",
        "print('Macro Recall: %f' % m_recall)\n",
        "print(\"=======================\")\n",
        "f1 = f1_score(y_test_rounded, y_pred_classes, average='weighted', zero_division=1)\n",
        "print('F1 score: %f' % f1)\n",
        "m_f1 = f1_score(y_test_rounded, y_pred_classes, average='macro', zero_division=1)\n",
        "print('Macro F1 score: %f' % m_f1)"
      ]
    },
    {
      "cell_type": "code",
      "execution_count": null,
      "metadata": {
        "colab": {
          "base_uri": "https://localhost:8080/"
        },
        "id": "0eBn2w4sK7uL",
        "outputId": "0c437bc7-19a4-4bf6-e01a-212aa0576b38"
      },
      "outputs": [
        {
          "output_type": "stream",
          "name": "stdout",
          "text": [
            "Precision per class: [0.99864259 0.89327011 0.95960581 0.88555585 0.16291    0.11252546]\n",
            "Recall per class: [0.94282991 0.99276597 0.99968465 0.9770423  0.99762018 1.        ]\n",
            "F1 score per class: [0.96993401 0.94039364 0.97923531 0.92905228 0.28008285 0.20228833]\n"
          ]
        }
      ],
      "source": [
        "from sklearn.metrics import precision_recall_fscore_support\n",
        "\n",
        "precision, recall, f1, _ = precision_recall_fscore_support(y_test_rounded, y_pred_classes, average=None, zero_division=1)\n",
        "print('Precision per class:', precision)\n",
        "print('Recall per class:', recall)\n",
        "print('F1 score per class:', f1)"
      ]
    },
    {
      "cell_type": "code",
      "execution_count": null,
      "metadata": {
        "colab": {
          "base_uri": "https://localhost:8080/"
        },
        "id": "SmMuMCqEzKiv",
        "outputId": "e91fd79e-46f8-4135-8f6f-f4585a642ee9"
      },
      "outputs": [
        {
          "output_type": "stream",
          "name": "stdout",
          "text": [
            "              precision    recall  f1-score   support\n",
            "\n",
            "           0       1.00      0.94      0.97    478327\n",
            "           1       0.89      0.99      0.94     69256\n",
            "           2       0.96      1.00      0.98     28540\n",
            "           3       0.89      0.98      0.93     51486\n",
            "           4       0.16      1.00      0.28      2101\n",
            "           5       0.11      1.00      0.20       221\n",
            "\n",
            "    accuracy                           0.95    629931\n",
            "   macro avg       0.67      0.98      0.72    629931\n",
            "weighted avg       0.97      0.95      0.96    629931\n",
            "\n"
          ]
        }
      ],
      "source": [
        "from sklearn.metrics import classification_report\n",
        "repo = classification_report(y_test_rounded, y_pred_classes, zero_division=1) #zero_division=1 perchè non ha imparato alcune classi\n",
        "print(repo)"
      ]
    },
    {
      "cell_type": "code",
      "source": [
        "# import plotting function and confusion matrix\n",
        "\n",
        "import matplotlib.pyplot as plt\n",
        "from sklearn.metrics import confusion_matrix\n",
        "import seaborn as sn"
      ],
      "metadata": {
        "id": "S-48zeMBKzeH"
      },
      "execution_count": null,
      "outputs": []
    },
    {
      "cell_type": "code",
      "source": [
        "labels = [0, 1, 2, 3, 4, 5]\n",
        "\n",
        "confusion_mat = confusion_matrix(y_test_rounded, y_pred_classes, labels=labels)\n",
        "\n",
        "sn.set(font_scale=2)\n",
        "\n",
        "plt.figure(figsize = (20,20))\n",
        "s = sn.heatmap(confusion_mat, annot = True)#, cmap = 'Blues',fmt='.2f'\n",
        "\n",
        "s.set_xlabel('Predetti')\n",
        "s.set_ylabel('Originali')\n",
        "\n",
        "plt.title(\"Performance IDS-MLP con Class Weighting\\n\")\n",
        "\n",
        "#salva in Drive\n",
        "plt.savefig(f\"{images_dir}/IDS-MLP_ConfusionMatrix_REAL_CW.pdf\", dpi=200, format='pdf') #ClassWeighting\n",
        "\n",
        "plt.show()"
      ],
      "metadata": {
        "colab": {
          "base_uri": "https://localhost:8080/"
        },
        "id": "fMr1JrZFw1Uo",
        "outputId": "cd9fc437-cea2-4e13-fb45-fd429fa411ce"
      },
      "execution_count": null,
      "outputs": [
        {
          "output_type": "display_data",
          "data": {
            "text/plain": [
              "<Figure size 2000x2000 with 2 Axes>"
            ],
            "image/png": "[encoded data removed]"
          },
          "metadata": {}
        }
      ]
    },
    {
      "cell_type": "code",
      "source": [
        "labels = [0, 1, 2, 3, 4, 5]\n",
        "\n",
        "confusion_mat = confusion_matrix(y_test_rounded, y_pred_classes, labels=labels)\n",
        "\n",
        "# Calculate additional metrics\n",
        "for i in range(len(labels)):\n",
        "    tn = sum(confusion_mat[j, k] for j in range(len(labels)) if j != i for k in range(len(labels)) if k != i)\n",
        "    fp = sum(confusion_mat[j, i] for j in range(len(labels)) if j != i)\n",
        "    fn = sum(confusion_mat[i, k] for k in range(len(labels)) if k != i)\n",
        "    tp = confusion_mat[i, i]\n",
        "\n",
        "    # Display TP, TN, FP, FN\n",
        "    print(f\"Class {labels[i]} TP:\", tp)\n",
        "    print(f\"Class {labels[i]} TN:\", tn)\n",
        "    print(f\"Class {labels[i]} FP:\", fp)\n",
        "    print(f\"Class {labels[i]} FN:\", fn)\n",
        "    print(\"============================================\")"
      ],
      "metadata": {
        "colab": {
          "base_uri": "https://localhost:8080/"
        },
        "id": "Agek8D60R9wG",
        "outputId": "bafdcbde-6ed5-4c98-dcfb-15f7189ff5c6"
      },
      "execution_count": null,
      "outputs": [
        {
          "output_type": "stream",
          "name": "stdout",
          "text": [
            "Class 0 TP: 450981\n",
            "Class 0 TN: 150991\n",
            "Class 0 FP: 613\n",
            "Class 0 FN: 27346\n",
            "============================================\n",
            "Class 1 TP: 68755\n",
            "Class 1 TN: 552460\n",
            "Class 1 FP: 8215\n",
            "Class 1 FN: 501\n",
            "============================================\n",
            "Class 2 TP: 28531\n",
            "Class 2 TN: 600190\n",
            "Class 2 FP: 1201\n",
            "Class 2 FN: 9\n",
            "============================================\n",
            "Class 3 TP: 50304\n",
            "Class 3 TN: 571944\n",
            "Class 3 FP: 6501\n",
            "Class 3 FN: 1182\n",
            "============================================\n",
            "Class 4 TP: 2096\n",
            "Class 4 TN: 617060\n",
            "Class 4 FP: 10770\n",
            "Class 4 FN: 5\n",
            "============================================\n",
            "Class 5 TP: 221\n",
            "Class 5 TN: 627967\n",
            "Class 5 FP: 1743\n",
            "Class 5 FN: 0\n",
            "============================================\n"
          ]
        }
      ]
    },
    {
      "cell_type": "code",
      "execution_count": null,
      "metadata": {
        "colab": {
          "base_uri": "https://localhost:8080/"
        },
        "id": "pW6bpRIKuBqf",
        "outputId": "5b977b50-4215-4569-88ce-c9249b17db06"
      },
      "outputs": [
        {
          "output_type": "stream",
          "name": "stdout",
          "text": [
            "Class 0 Specificity: 0.9959565710667265\n",
            "Class 0 False Positive Rate: 0.004043428933273529\n",
            "Class 1 Specificity: 0.985348018014001\n",
            "Class 1 False Positive Rate: 0.014651981985999018\n",
            "Class 2 Specificity: 0.9980029631304759\n",
            "Class 2 False Positive Rate: 0.001997036869524153\n",
            "Class 3 Specificity: 0.9887612478282292\n",
            "Class 3 False Positive Rate: 0.011238752171770868\n",
            "Class 4 Specificity: 0.9828456747845754\n",
            "Class 4 False Positive Rate: 0.017154325215424558\n",
            "Class 5 Specificity: 0.9972320592018549\n",
            "Class 5 False Positive Rate: 0.002767940798145178\n"
          ]
        }
      ],
      "source": [
        "labels = [0, 1, 2, 3, 4, 5]\n",
        "\n",
        "confusion_mat = confusion_matrix(y_test_rounded, y_pred_classes, labels=labels)\n",
        "\n",
        "# Calculate additional metrics\n",
        "for i in range(len(labels)):\n",
        "    tn = sum(confusion_mat[j, k] for j in range(len(labels)) if j != i for k in range(len(labels)) if k != i)\n",
        "    fp = sum(confusion_mat[j, i] for j in range(len(labels)) if j != i)\n",
        "    fn = sum(confusion_mat[i, k] for k in range(len(labels)) if k != i)\n",
        "    tp = confusion_mat[i, i]\n",
        "\n",
        "    # Calculate additional metrics\n",
        "    specificity = tn / (tn + fp)\n",
        "    false_positive_rate = fp / (fp + tn)\n",
        "\n",
        "    # Display additional metrics\n",
        "    print(f\"Class {labels[i]} Specificity:\", specificity)\n",
        "    print(f\"Class {labels[i]} False Positive Rate:\", false_positive_rate)\n"
      ]
    },
    {
      "cell_type": "markdown",
      "metadata": {
        "id": "IrToRaCVvCpO"
      },
      "source": [
        "* A ***high specificity*** indicates that the model is effective at avoiding false positives for a particular class.\n",
        "* A ***low false positive rate*** means the model is good at minimizing the number of instances from other classes mistakenly classified as positive for a particular class.\n",
        "\n",
        "Pay attention to specificity and false positive rate, especially for minority classes. In imbalanced datasets, these metrics help assess how well the model is handling the recognition of less frequent classes"
      ]
    },
    {
      "cell_type": "markdown",
      "metadata": {
        "id": "3-Hb8k_rvDc3"
      },
      "source": [
        "# Osservazioni con GAN"
      ]
    },
    {
      "cell_type": "markdown",
      "metadata": {
        "id": "MoVrgeQO9fi2"
      },
      "source": [
        "**ONLY GEN DATA FOR TRAINING**\n",
        "> It's important to note that while this approach can provide insights into the quality of the GAN-generated data, using a combination of real and generated data is often recommended for robust model training."
      ]
    },
    {
      "cell_type": "markdown",
      "metadata": {
        "id": "bjZRCrIO9qAI"
      },
      "source": [
        "## Altre osservazioni"
      ]
    },
    {
      "cell_type": "markdown",
      "metadata": {
        "id": "bVvXwea-80jI"
      },
      "source": [
        "The generated samples might be visually similar but lack the diversity and relevance needed to enhance the model's ability to generalize to different attack patterns.\n",
        "it may indicate that the GAN needs further refinement to better capture the complexities of the real dataset."
      ]
    },
    {
      "cell_type": "markdown",
      "metadata": {
        "id": "0TiL9kJ38SoQ"
      },
      "source": [
        "> Remember that the effectiveness of the GAN depends on how well it captures the complexity and diversity of the real dataset. If the GAN fails to generate samples that align with the real data distribution, the synthetic data may not contribute positively to the performance of the IDS model."
      ]
    },
    {
      "cell_type": "markdown",
      "metadata": {
        "id": "b6SqjZwJlYzz"
      },
      "source": [
        "If the intrusion detection metrics on the generated dataset are similar to those on the real dataset, it suggests that the GAN is generating synthetic data that captures the characteristics of the real data, at least in terms of intrusion detection.\n",
        "\n",
        "However, it's important to note that achieving good intrusion detection metrics doesn't necessarily guarantee that the GAN is perfect or that the generated data is indistinguishable from real data in all aspects. It specifically indicates that the GAN is successful in reproducing features relevant to your intrusion detection model.\n",
        "\n",
        "\n",
        "\n",
        "> is a valid approach for evaluating the quality of the generated data by the GAN. This method is often referred to as testing the IDS on a mixed dataset containing both real and synthetic samples\n",
        "\n",
        "\n",
        "\n",
        "In summary, the initial analysis suggests that your GAN is contributing to the success of your DNN-IDS by generating realistic data that aligns with the characteristics of the real dataset.\n"
      ]
    }
  ],
  "metadata": {
    "colab": {
      "collapsed_sections": [
        "gfjxR9812adx",
        "FEDiBnEFOMC1",
        "mgcTHX1-w7uR",
        "VF6EUAWzSKD9",
        "bXSp0_t4SOq3",
        "1ZuxgDF1SS24",
        "LiZQNPinxSuH",
        "gw-4nT-pwI-x",
        "5cM4eNzTNvJd",
        "l5A8Y2rD8WkZ",
        "js-hrpAVakJr",
        "ybU81EojBwaM",
        "556fJdvWB1dd",
        "9YR6ZBJ2hCet",
        "Ph8lJ_0mJL-b",
        "coFVSKl49EJi",
        "3-Hb8k_rvDc3",
        "bjZRCrIO9qAI"
      ],
      "machine_shape": "hm",
      "provenance": [],
      "include_colab_link": true
    },
    "kernelspec": {
      "display_name": "Python 3",
      "name": "python3"
    }
  },
  "nbformat": 4,
  "nbformat_minor": 0
}