{
  "cells": [
    {
      "cell_type": "markdown",
      "metadata": {
        "id": "view-in-github",
        "colab_type": "text"
      },
      "source": [
        "<a href=\"https://colab.research.google.com/github/GiuliaFContardi/FL_IDS-GAN/blob/main/MLP_IDS.ipynb\" target=\"_parent\"><img src=\"https://colab.research.google.com/assets/colab-badge.svg\" alt=\"Open In Colab\"/></a>"
      ]
    },
    {
      "cell_type": "markdown",
      "metadata": {
        "id": "gfjxR9812adx"
      },
      "source": [
        "#### Import"
      ]
    },
    {
      "cell_type": "code",
      "execution_count": 2,
      "metadata": {
        "id": "Bh9iLBocUHxz"
      },
      "outputs": [],
      "source": [
        "import pandas as pd\n",
        "import keras\n",
        "import numpy as np\n",
        "import matplotlib.pyplot as plt"
      ]
    },
    {
      "cell_type": "code",
      "execution_count": 3,
      "metadata": {
        "colab": {
          "base_uri": "https://localhost:8080/"
        },
        "id": "cO4_xPFYVNK0",
        "outputId": "0ed66022-e03f-4bc2-ca14-d1cab973a56c"
      },
      "outputs": [
        {
          "output_type": "stream",
          "name": "stdout",
          "text": [
            "Mounted at /content/drive\n"
          ]
        }
      ],
      "source": [
        "# data is stored in google drive folder so import drive to notebook\n",
        "from google.colab import drive\n",
        "drive.mount('/content/drive')"
      ]
    },
    {
      "cell_type": "code",
      "source": [
        "pip install scikeras"
      ],
      "metadata": {
        "id": "0zc2agF-l1wm",
        "colab": {
          "base_uri": "https://localhost:8080/"
        },
        "outputId": "49c2ece7-9396-46f1-d032-caa8687c2010"
      },
      "execution_count": 1,
      "outputs": [
        {
          "output_type": "stream",
          "name": "stdout",
          "text": [
            "Collecting scikeras\n",
            "  Downloading scikeras-0.13.0-py3-none-any.whl (26 kB)\n",
            "Collecting keras>=3.2.0 (from scikeras)\n",
            "  Downloading keras-3.3.3-py3-none-any.whl (1.1 MB)\n",
            "\u001b[2K     \u001b[90m━━━━━━━━━━━━━━━━━━━━━━━━━━━━━━━━━━━━━━━━\u001b[0m \u001b[32m1.1/1.1 MB\u001b[0m \u001b[31m13.0 MB/s\u001b[0m eta \u001b[36m0:00:00\u001b[0m\n",
            "\u001b[?25hCollecting scikit-learn>=1.4.2 (from scikeras)\n",
            "  Downloading scikit_learn-1.5.0-cp310-cp310-manylinux_2_17_x86_64.manylinux2014_x86_64.whl (13.3 MB)\n",
            "\u001b[2K     \u001b[90m━━━━━━━━━━━━━━━━━━━━━━━━━━━━━━━━━━━━━━━━\u001b[0m \u001b[32m13.3/13.3 MB\u001b[0m \u001b[31m98.2 MB/s\u001b[0m eta \u001b[36m0:00:00\u001b[0m\n",
            "\u001b[?25hRequirement already satisfied: absl-py in /usr/local/lib/python3.10/dist-packages (from keras>=3.2.0->scikeras) (1.4.0)\n",
            "Requirement already satisfied: numpy in /usr/local/lib/python3.10/dist-packages (from keras>=3.2.0->scikeras) (1.25.2)\n",
            "Requirement already satisfied: rich in /usr/local/lib/python3.10/dist-packages (from keras>=3.2.0->scikeras) (13.7.1)\n",
            "Collecting namex (from keras>=3.2.0->scikeras)\n",
            "  Downloading namex-0.0.8-py3-none-any.whl (5.8 kB)\n",
            "Requirement already satisfied: h5py in /usr/local/lib/python3.10/dist-packages (from keras>=3.2.0->scikeras) (3.9.0)\n",
            "Collecting optree (from keras>=3.2.0->scikeras)\n",
            "  Downloading optree-0.11.0-cp310-cp310-manylinux_2_17_x86_64.manylinux2014_x86_64.whl (311 kB)\n",
            "\u001b[2K     \u001b[90m━━━━━━━━━━━━━━━━━━━━━━━━━━━━━━━━━━━━━━━━\u001b[0m \u001b[32m311.2/311.2 kB\u001b[0m \u001b[31m25.7 MB/s\u001b[0m eta \u001b[36m0:00:00\u001b[0m\n",
            "\u001b[?25hRequirement already satisfied: ml-dtypes in /usr/local/lib/python3.10/dist-packages (from keras>=3.2.0->scikeras) (0.2.0)\n",
            "Requirement already satisfied: scipy>=1.6.0 in /usr/local/lib/python3.10/dist-packages (from scikit-learn>=1.4.2->scikeras) (1.11.4)\n",
            "Requirement already satisfied: joblib>=1.2.0 in /usr/local/lib/python3.10/dist-packages (from scikit-learn>=1.4.2->scikeras) (1.4.2)\n",
            "Requirement already satisfied: threadpoolctl>=3.1.0 in /usr/local/lib/python3.10/dist-packages (from scikit-learn>=1.4.2->scikeras) (3.5.0)\n",
            "Requirement already satisfied: typing-extensions>=4.0.0 in /usr/local/lib/python3.10/dist-packages (from optree->keras>=3.2.0->scikeras) (4.11.0)\n",
            "Requirement already satisfied: markdown-it-py>=2.2.0 in /usr/local/lib/python3.10/dist-packages (from rich->keras>=3.2.0->scikeras) (3.0.0)\n",
            "Requirement already satisfied: pygments<3.0.0,>=2.13.0 in /usr/local/lib/python3.10/dist-packages (from rich->keras>=3.2.0->scikeras) (2.16.1)\n",
            "Requirement already satisfied: mdurl~=0.1 in /usr/local/lib/python3.10/dist-packages (from markdown-it-py>=2.2.0->rich->keras>=3.2.0->scikeras) (0.1.2)\n",
            "Installing collected packages: namex, optree, scikit-learn, keras, scikeras\n",
            "  Attempting uninstall: scikit-learn\n",
            "    Found existing installation: scikit-learn 1.2.2\n",
            "    Uninstalling scikit-learn-1.2.2:\n",
            "      Successfully uninstalled scikit-learn-1.2.2\n",
            "  Attempting uninstall: keras\n",
            "    Found existing installation: keras 2.15.0\n",
            "    Uninstalling keras-2.15.0:\n",
            "      Successfully uninstalled keras-2.15.0\n",
            "\u001b[31mERROR: pip's dependency resolver does not currently take into account all the packages that are installed. This behaviour is the source of the following dependency conflicts.\n",
            "tensorflow 2.15.0 requires keras<2.16,>=2.15.0, but you have keras 3.3.3 which is incompatible.\u001b[0m\u001b[31m\n",
            "\u001b[0mSuccessfully installed keras-3.3.3 namex-0.0.8 optree-0.11.0 scikeras-0.13.0 scikit-learn-1.5.0\n"
          ]
        }
      ]
    },
    {
      "cell_type": "markdown",
      "metadata": {
        "id": "FEDiBnEFOMC1"
      },
      "source": [
        "##GEN DATASET (valutazione GAN)"
      ]
    },
    {
      "cell_type": "markdown",
      "source": [
        "#### Classi maggiori"
      ],
      "metadata": {
        "id": "mgcTHX1-w7uR"
      }
    },
    {
      "cell_type": "code",
      "source": [
        "#Aggiungere labels e solo dopo unire tutti i gen\n",
        "dfBenign = pd.read_csv('/content/drive/My Drive/Colab Notebooks/progettoTesi/Dataset2017/GANgen/Valutazione/tentativo3/setHBuono/genBenign.csv')\n",
        "dfPortscan = pd.read_csv('/content/drive/My Drive/Colab Notebooks/progettoTesi/Dataset2017/GANgen/Valutazione/tentativo3/setHBuono/genPortscan.csv')\n",
        "dfDoS = pd.read_csv('/content/drive/My Drive/Colab Notebooks/progettoTesi/Dataset2017/GANgen/Valutazione/tentativo3/setHBuono/genDoS.csv')\n",
        "dfDDoS = pd.read_csv('/content/drive/My Drive/Colab Notebooks/progettoTesi/Dataset2017/GANgen/Valutazione/tentativo3/setHBuono/genDDoS.csv')"
      ],
      "metadata": {
        "id": "SdQ07ZVjSYWR"
      },
      "execution_count": null,
      "outputs": []
    },
    {
      "cell_type": "markdown",
      "source": [
        "#### CSV classi minori con valori minimi"
      ],
      "metadata": {
        "id": "VF6EUAWzSKD9"
      }
    },
    {
      "cell_type": "code",
      "execution_count": null,
      "metadata": {
        "id": "M6xdJMDbOVwh"
      },
      "outputs": [],
      "source": [
        "dfBruteforce = pd.read_csv('/content/drive/My Drive/Colab Notebooks/progettoTesi/Dataset2017/GANgen/Valutazione/tentativo3/setHBuono/Bruteforce/genBruteforce_pochiNuovi.csv')\n",
        "dfBotnet = pd.read_csv('/content/drive/My Drive/Colab Notebooks/progettoTesi/Dataset2017/GANgen/Valutazione/tentativo3/setHBuono/Botnet/genBotnet_pochiNuovi.csv')"
      ]
    },
    {
      "cell_type": "markdown",
      "source": [
        "#### CSV con 10000 samples x classi minori"
      ],
      "metadata": {
        "id": "bXSp0_t4SOq3"
      }
    },
    {
      "cell_type": "code",
      "source": [
        "dfBruteforce = pd.read_csv('/content/drive/My Drive/Colab Notebooks/progettoTesi/Dataset2017/GANgen/Valutazione/tentativo3/setHBuono/Bruteforce/genBruteforce_10000.csv')\n",
        "dfBotnet = pd.read_csv('/content/drive/My Drive/Colab Notebooks/progettoTesi/Dataset2017/GANgen/Valutazione/tentativo3/setHBuono/Botnet/genBotnet_10000.csv')"
      ],
      "metadata": {
        "id": "ReYSAvSBSUhF"
      },
      "execution_count": 4,
      "outputs": []
    },
    {
      "cell_type": "markdown",
      "source": [
        "#### Resto...TUTTE CLASSI"
      ],
      "metadata": {
        "id": "1ZuxgDF1SS24"
      }
    },
    {
      "cell_type": "code",
      "execution_count": null,
      "metadata": {
        "id": "Zs0qzJJyPE9O"
      },
      "outputs": [],
      "source": [
        "#rows_to_drop = range(2000)\n",
        "#df_dropped_Botnet = dfBotnet.drop(rows_to_drop)\n",
        "\n",
        "# Display the DataFrame after dropping rows\n",
        "#print(df_dropped_Botnet.shape)\n",
        "\n",
        "#dfBotnet=df_dropped_Botnet"
      ]
    },
    {
      "cell_type": "code",
      "execution_count": null,
      "metadata": {
        "id": "4OcLQv0TOX9z"
      },
      "outputs": [],
      "source": [
        "dfBenign['L_BENIGN'] = 1\n",
        "dfPortscan['L_Infiltration_Portscan'] = 1\n",
        "dfDoS['L_DoS'] = 1\n",
        "dfDDoS['L_DDoS'] = 1\n",
        "dfBruteforce['L_BruteForce'] = 1\n",
        "dfBotnet['L_Botnet'] = 1\n",
        "\n",
        "dfBenign['L_Infiltration_Portscan'] = 0\n",
        "dfBenign['L_DoS'] = 0\n",
        "dfBenign['L_DDoS'] = 0\n",
        "dfBenign['L_BruteForce'] = 0\n",
        "dfBenign['L_Botnet'] = 0\n",
        "\n",
        "dfPortscan['L_BENIGN'] = 0\n",
        "dfPortscan['L_DoS'] = 0\n",
        "dfPortscan['L_DDoS'] = 0\n",
        "dfPortscan['L_BruteForce'] = 0\n",
        "dfPortscan['L_Botnet'] = 0\n",
        "\n",
        "dfDoS['L_BENIGN'] = 0\n",
        "dfDoS['L_Infiltration_Portscan'] = 0\n",
        "dfDoS['L_DDoS'] = 0\n",
        "dfDoS['L_BruteForce'] = 0\n",
        "dfDoS['L_Botnet'] = 0\n",
        "\n",
        "dfDDoS['L_BENIGN'] = 0\n",
        "dfDDoS['L_Infiltration_Portscan'] = 0\n",
        "dfDDoS['L_DoS'] = 0\n",
        "dfDDoS['L_BruteForce'] = 0\n",
        "dfDDoS['L_Botnet'] = 0\n",
        "\n",
        "dfBruteforce['L_BENIGN'] = 0\n",
        "dfBruteforce['L_Infiltration_Portscan'] = 0\n",
        "dfBruteforce['L_DoS'] = 0\n",
        "dfBruteforce['L_DDoS'] = 0\n",
        "dfBruteforce['L_Botnet'] = 0\n",
        "\n",
        "dfBotnet['L_BENIGN'] = 0\n",
        "dfBotnet['L_Infiltration_Portscan'] = 0\n",
        "dfBotnet['L_DoS'] = 0\n",
        "dfBotnet['L_DDoS'] = 0\n",
        "dfBotnet['L_BruteForce'] = 0"
      ]
    },
    {
      "cell_type": "code",
      "execution_count": null,
      "metadata": {
        "id": "_ikGsF5LOZmQ"
      },
      "outputs": [],
      "source": [
        "merged_df = pd.concat([dfBenign, dfPortscan, dfDoS, dfDDoS, dfBruteforce, dfBotnet], axis=0, ignore_index=True)"
      ]
    },
    {
      "cell_type": "code",
      "execution_count": null,
      "metadata": {
        "id": "Ueua4SNfPgbq",
        "colab": {
          "base_uri": "https://localhost:8080/"
        },
        "outputId": "b32afabf-e46b-4ed7-cd15-b70b2736165b"
      },
      "outputs": [
        {
          "output_type": "execute_result",
          "data": {
            "text/plain": [
              "(1484419, 41)"
            ]
          },
          "metadata": {},
          "execution_count": 8
        }
      ],
      "source": [
        "merged_df.shape"
      ]
    },
    {
      "cell_type": "code",
      "execution_count": null,
      "metadata": {
        "id": "EDfySyufOd9z"
      },
      "outputs": [],
      "source": [
        "col_labels = ['L_BENIGN', 'L_Infiltration_Portscan', 'L_DoS', 'L_DDoS', 'L_BruteForce', 'L_Botnet']\n",
        "y_train = merged_df[['L_BENIGN','L_Infiltration_Portscan','L_DDoS','L_DoS','L_BruteForce','L_Botnet']]\n",
        "X_train = merged_df.drop(columns=col_labels)"
      ]
    },
    {
      "cell_type": "code",
      "execution_count": null,
      "metadata": {
        "id": "ddwe8mOHOn7i",
        "colab": {
          "base_uri": "https://localhost:8080/"
        },
        "outputId": "da54e73d-a788-4edb-d9ff-a40ccc5aa318"
      },
      "outputs": [
        {
          "output_type": "stream",
          "name": "stdout",
          "text": [
            "Samples per classe GEN\n",
            "1116095\n",
            "161597\n",
            "120134\n",
            "66593\n",
            "10000\n",
            "10000\n"
          ]
        }
      ],
      "source": [
        "print(\"Samples per classe GEN\")\n",
        "print((merged_df['L_BENIGN']==1).values.sum())\n",
        "print((merged_df['L_Infiltration_Portscan']==1).values.sum())\n",
        "print((merged_df['L_DoS']==1).values.sum())\n",
        "print((merged_df['L_DDoS']==1).values.sum())\n",
        "print((merged_df['L_BruteForce']==1).values.sum())\n",
        "print((merged_df['L_Botnet']==1).values.sum())"
      ]
    },
    {
      "cell_type": "code",
      "execution_count": null,
      "metadata": {
        "id": "8DlW8SENQBKf",
        "colab": {
          "base_uri": "https://localhost:8080/"
        },
        "outputId": "6394a1f1-5dd2-495f-e2df-e0320a5cfa1c"
      },
      "outputs": [
        {
          "output_type": "execute_result",
          "data": {
            "text/plain": [
              "(1484419, 35)"
            ]
          },
          "metadata": {},
          "execution_count": 11
        }
      ],
      "source": [
        "X_train.shape"
      ]
    },
    {
      "cell_type": "code",
      "source": [
        "merged_df_final = merged_df\n",
        "from sklearn.utils import shuffle\n",
        "merged_df_final = shuffle(merged_df_final).reset_index()\n",
        "merged_df_final = merged_df_final.drop(\"index\", axis=1) #elimino colonna indice creata dal reset_index"
      ],
      "metadata": {
        "id": "hrbitEpZW-Rb"
      },
      "execution_count": null,
      "outputs": []
    },
    {
      "cell_type": "code",
      "source": [
        "merged_df_final.shape"
      ],
      "metadata": {
        "colab": {
          "base_uri": "https://localhost:8080/"
        },
        "id": "MoDLnC2uXbRb",
        "outputId": "b872199c-2649-48b8-e444-6cdd3bb61b01"
      },
      "execution_count": null,
      "outputs": [
        {
          "output_type": "execute_result",
          "data": {
            "text/plain": [
              "(1484419, 41)"
            ]
          },
          "metadata": {},
          "execution_count": 13
        }
      ]
    },
    {
      "cell_type": "markdown",
      "source": [
        "#### Resto...SOLO CLASSI MINORI"
      ],
      "metadata": {
        "id": "irbMhqRKu_aq"
      }
    },
    {
      "cell_type": "code",
      "source": [
        "dfBruteforce['L_BruteForce'] = 1\n",
        "dfBotnet['L_Botnet'] = 1\n",
        "\n",
        "dfBruteforce['L_BENIGN'] = 0\n",
        "dfBruteforce['L_Infiltration_Portscan'] = 0\n",
        "dfBruteforce['L_DoS'] = 0\n",
        "dfBruteforce['L_DDoS'] = 0\n",
        "dfBruteforce['L_Botnet'] = 0\n",
        "\n",
        "dfBotnet['L_BENIGN'] = 0\n",
        "dfBotnet['L_Infiltration_Portscan'] = 0\n",
        "dfBotnet['L_DoS'] = 0\n",
        "dfBotnet['L_DDoS'] = 0\n",
        "dfBotnet['L_BruteForce'] = 0"
      ],
      "metadata": {
        "id": "NDP1UyQ8vC9A"
      },
      "execution_count": 5,
      "outputs": []
    },
    {
      "cell_type": "code",
      "source": [
        "merged_df = pd.concat([dfBruteforce, dfBotnet], axis=0, ignore_index=True)\n",
        "merged_df.shape"
      ],
      "metadata": {
        "colab": {
          "base_uri": "https://localhost:8080/"
        },
        "id": "_03-eT3NvK7j",
        "outputId": "a0795964-3b02-4da9-b623-c8b5b3af9722"
      },
      "execution_count": 6,
      "outputs": [
        {
          "output_type": "execute_result",
          "data": {
            "text/plain": [
              "(20000, 41)"
            ]
          },
          "metadata": {},
          "execution_count": 6
        }
      ]
    },
    {
      "cell_type": "code",
      "source": [
        "col_labels = ['L_BENIGN', 'L_Infiltration_Portscan', 'L_DoS', 'L_DDoS', 'L_BruteForce', 'L_Botnet']\n",
        "y_train = merged_df[['L_BENIGN','L_Infiltration_Portscan','L_DDoS','L_DoS','L_BruteForce','L_Botnet']]\n",
        "X_train = merged_df.drop(columns=col_labels)\n",
        "X_train.shape"
      ],
      "metadata": {
        "colab": {
          "base_uri": "https://localhost:8080/"
        },
        "id": "5MbrX5hcvWk9",
        "outputId": "3fc64ffd-7961-40ec-f717-eec7e005b840"
      },
      "execution_count": 7,
      "outputs": [
        {
          "output_type": "execute_result",
          "data": {
            "text/plain": [
              "(20000, 35)"
            ]
          },
          "metadata": {},
          "execution_count": 7
        }
      ]
    },
    {
      "cell_type": "code",
      "source": [
        "print(\"Samples per classe GEN\")\n",
        "print((merged_df['L_BENIGN']==1).values.sum())\n",
        "print((merged_df['L_Infiltration_Portscan']==1).values.sum())\n",
        "print((merged_df['L_DoS']==1).values.sum())\n",
        "print((merged_df['L_DDoS']==1).values.sum())\n",
        "print((merged_df['L_BruteForce']==1).values.sum())\n",
        "print((merged_df['L_Botnet']==1).values.sum())"
      ],
      "metadata": {
        "colab": {
          "base_uri": "https://localhost:8080/"
        },
        "id": "CBAXgQ_CvcJZ",
        "outputId": "17d2c3bc-46f8-4718-bfa0-2fd821509a90"
      },
      "execution_count": 8,
      "outputs": [
        {
          "output_type": "stream",
          "name": "stdout",
          "text": [
            "Samples per classe GEN\n",
            "0\n",
            "0\n",
            "0\n",
            "0\n",
            "10000\n",
            "10000\n"
          ]
        }
      ]
    },
    {
      "cell_type": "code",
      "source": [
        "merged_df_final = merged_df\n",
        "from sklearn.utils import shuffle\n",
        "merged_df_final = shuffle(merged_df_final).reset_index()\n",
        "merged_df_final = merged_df_final.drop(\"index\", axis=1) #elimino colonna indice creata dal reset_index"
      ],
      "metadata": {
        "id": "1AUp81HGvnmC"
      },
      "execution_count": 9,
      "outputs": []
    },
    {
      "cell_type": "markdown",
      "metadata": {
        "id": "LiZQNPinxSuH"
      },
      "source": [
        "##REAL+GEN DATASET - DATA AUGMENTATION"
      ]
    },
    {
      "cell_type": "code",
      "execution_count": 10,
      "metadata": {
        "id": "yeLixKadN4Um",
        "colab": {
          "base_uri": "https://localhost:8080/"
        },
        "outputId": "5e4924f2-4044-4f86-80d1-e2b30982729c"
      },
      "outputs": [
        {
          "output_type": "stream",
          "name": "stdout",
          "text": [
            "(1469838, 35)\n",
            "(1469838, 6)\n"
          ]
        }
      ],
      "source": [
        "X_train = pd.read_csv('/content/drive/My Drive/Colab Notebooks/progettoTesi/Dataset2017/improved/Pre-processed_versions/terzoPreprocessing/X_train_35.csv')\n",
        "y_train = pd.read_csv('/content/drive/My Drive/Colab Notebooks/progettoTesi/Dataset2017/improved/Pre-processed_versions/terzoPreprocessing/y_train_35.csv')\n",
        "\n",
        "print(X_train.shape)\n",
        "print(y_train.shape)"
      ]
    },
    {
      "cell_type": "code",
      "execution_count": 11,
      "metadata": {
        "id": "ICK1-YwuiWag"
      },
      "outputs": [],
      "source": [
        "dfReal = pd.concat([X_train, y_train], axis=1)"
      ]
    },
    {
      "cell_type": "code",
      "execution_count": 12,
      "metadata": {
        "id": "j4EHxGd5ONKW",
        "colab": {
          "base_uri": "https://localhost:8080/"
        },
        "outputId": "e65f6d1d-f430-42d9-c8de-25de3df1435b"
      },
      "outputs": [
        {
          "output_type": "execute_result",
          "data": {
            "text/plain": [
              "(1469838, 41)"
            ]
          },
          "metadata": {},
          "execution_count": 12
        }
      ],
      "source": [
        "dfReal.shape"
      ]
    },
    {
      "cell_type": "code",
      "execution_count": 13,
      "metadata": {
        "id": "ojZKUcC-jnUa",
        "colab": {
          "base_uri": "https://localhost:8080/"
        },
        "outputId": "7632864e-bf25-45a2-ec77-591badd5941d"
      },
      "outputs": [
        {
          "output_type": "stream",
          "name": "stdout",
          "text": [
            "(1469838, 41)\n",
            "(20000, 41)\n"
          ]
        }
      ],
      "source": [
        "print(dfReal.shape)\n",
        "print(merged_df_final.shape)"
      ]
    },
    {
      "cell_type": "code",
      "execution_count": 14,
      "metadata": {
        "id": "n4Bh78Z3jveO",
        "colab": {
          "base_uri": "https://localhost:8080/"
        },
        "outputId": "8d4f02c6-e027-4233-f498-b6d6949758a7"
      },
      "outputs": [
        {
          "output_type": "stream",
          "name": "stdout",
          "text": [
            "(1489838, 41)\n"
          ]
        }
      ],
      "source": [
        "merged_df_complete = pd.concat([dfReal, merged_df_final], axis=0, ignore_index=True)\n",
        "print(merged_df_complete.shape)"
      ]
    },
    {
      "cell_type": "code",
      "source": [
        "merged_df_complete = shuffle(merged_df_complete).reset_index()\n",
        "merged_df_complete = merged_df_complete.drop(\"index\", axis=1) #elimino colonna indice creata dal reset_index"
      ],
      "metadata": {
        "id": "bKVYzsGFYODZ"
      },
      "execution_count": 15,
      "outputs": []
    },
    {
      "cell_type": "code",
      "execution_count": 16,
      "metadata": {
        "id": "dz_Lo_OVcIUR"
      },
      "outputs": [],
      "source": [
        "col_labels = ['L_BENIGN', 'L_Infiltration_Portscan', 'L_DoS', 'L_DDoS', 'L_BruteForce', 'L_Botnet']\n",
        "y_train = merged_df_complete[['L_BENIGN','L_Infiltration_Portscan','L_DDoS','L_DoS','L_BruteForce','L_Botnet']]\n",
        "X_train = merged_df_complete.drop(columns=col_labels)"
      ]
    },
    {
      "cell_type": "code",
      "execution_count": 17,
      "metadata": {
        "id": "ZKBcA21WqshR",
        "colab": {
          "base_uri": "https://localhost:8080/"
        },
        "outputId": "22698417-b7c8-4935-ec8a-d3005e2d28da"
      },
      "outputs": [
        {
          "output_type": "stream",
          "name": "stdout",
          "text": [
            "Samples per classe X_TRAIN\n",
            "1116095\n",
            "161597\n",
            "120134\n",
            "66593\n",
            "4904\n",
            "515\n",
            "====================================\n",
            "Samples per classe GEN\n",
            "0\n",
            "0\n",
            "0\n",
            "0\n",
            "10000\n",
            "10000\n",
            "====================================\n",
            "Samples per classe X_TRAIN+GEN\n",
            "1116095\n",
            "161597\n",
            "120134\n",
            "66593\n",
            "14904\n",
            "10515\n"
          ]
        }
      ],
      "source": [
        "print(\"Samples per classe X_TRAIN\")\n",
        "print((dfReal['L_BENIGN']==1).values.sum())\n",
        "print((dfReal['L_Infiltration_Portscan']==1).values.sum())\n",
        "print((dfReal['L_DoS']==1).values.sum())\n",
        "print((dfReal['L_DDoS']==1).values.sum())\n",
        "print((dfReal['L_BruteForce']==1).values.sum())\n",
        "print((dfReal['L_Botnet']==1).values.sum())\n",
        "print(\"====================================\")\n",
        "print(\"Samples per classe GEN\")\n",
        "print((merged_df_final['L_BENIGN']==1).values.sum())\n",
        "print((merged_df_final['L_Infiltration_Portscan']==1).values.sum())\n",
        "print((merged_df_final['L_DoS']==1).values.sum())\n",
        "print((merged_df_final['L_DDoS']==1).values.sum())\n",
        "print((merged_df_final['L_BruteForce']==1).values.sum())\n",
        "print((merged_df_final['L_Botnet']==1).values.sum())\n",
        "print(\"====================================\")\n",
        "print(\"Samples per classe X_TRAIN+GEN\")\n",
        "print((merged_df_complete['L_BENIGN']==1).values.sum())\n",
        "print((merged_df_complete['L_Infiltration_Portscan']==1).values.sum())\n",
        "print((merged_df_complete['L_DoS']==1).values.sum())\n",
        "print((merged_df_complete['L_DDoS']==1).values.sum())\n",
        "print((merged_df_complete['L_BruteForce']==1).values.sum())\n",
        "print((merged_df_complete['L_Botnet']==1).values.sum())"
      ]
    },
    {
      "cell_type": "code",
      "source": [
        "X_train.shape"
      ],
      "metadata": {
        "colab": {
          "base_uri": "https://localhost:8080/"
        },
        "id": "XdFPD_TVZLJq",
        "outputId": "335e1a42-cc78-436c-f1cc-4d3845a51a94"
      },
      "execution_count": 18,
      "outputs": [
        {
          "output_type": "execute_result",
          "data": {
            "text/plain": [
              "(1489838, 35)"
            ]
          },
          "metadata": {},
          "execution_count": 18
        }
      ]
    },
    {
      "cell_type": "code",
      "source": [
        "y_train.shape"
      ],
      "metadata": {
        "colab": {
          "base_uri": "https://localhost:8080/"
        },
        "id": "4BKbBL3LZMTS",
        "outputId": "815bbf58-3b91-490e-9dce-c8a4b3d1b474"
      },
      "execution_count": 19,
      "outputs": [
        {
          "output_type": "execute_result",
          "data": {
            "text/plain": [
              "(1489838, 6)"
            ]
          },
          "metadata": {},
          "execution_count": 19
        }
      ]
    },
    {
      "cell_type": "markdown",
      "metadata": {
        "id": "gw-4nT-pwI-x"
      },
      "source": [
        "## REAL DATASET"
      ]
    },
    {
      "cell_type": "code",
      "execution_count": null,
      "metadata": {
        "colab": {
          "base_uri": "https://localhost:8080/"
        },
        "id": "ljAzWFEEDKTF",
        "outputId": "ad23f60d-fb87-4afb-bbcf-dccee2013821"
      },
      "outputs": [
        {
          "output_type": "stream",
          "name": "stdout",
          "text": [
            "(1469838, 35)\n",
            "(1469838, 6)\n"
          ]
        }
      ],
      "source": [
        "X_train = pd.read_csv('/content/drive/My Drive/Colab Notebooks/progettoTesi/Dataset2017/improved/Pre-processed_versions/terzoPreprocessing/X_train_35.csv')\n",
        "y_train = pd.read_csv('/content/drive/My Drive/Colab Notebooks/progettoTesi/Dataset2017/improved/Pre-processed_versions/terzoPreprocessing/y_train_35.csv')\n",
        "\n",
        "print(X_train.shape)\n",
        "print(y_train.shape)"
      ]
    },
    {
      "cell_type": "code",
      "source": [
        "#result = pd.concat([X_train, y_train], axis=1)\n",
        "#result.shape\n",
        "#result['L_BENIGN'].value_counts()"
      ],
      "metadata": {
        "id": "7VK7QR75P5oP"
      },
      "execution_count": null,
      "outputs": []
    },
    {
      "cell_type": "markdown",
      "source": [
        "```\n",
        "(1469838, 41)\n",
        "\n",
        "BENIGN                   1116095\n",
        "Infiltration_Portscan     161597\n",
        "DoS                       120134\n",
        "DDoS                       66593\n",
        "BruteForce                  4904\n",
        "Botnet                       515\n",
        "```"
      ],
      "metadata": {
        "id": "JRe37iCjQllL"
      }
    },
    {
      "cell_type": "markdown",
      "metadata": {
        "id": "5cM4eNzTNvJd"
      },
      "source": [
        "## TEST DATASET"
      ]
    },
    {
      "cell_type": "code",
      "execution_count": 20,
      "metadata": {
        "colab": {
          "base_uri": "https://localhost:8080/"
        },
        "id": "n98kgbBjl6tE",
        "outputId": "cfd72829-b9ed-4624-fb0b-c1e91950720c"
      },
      "outputs": [
        {
          "output_type": "stream",
          "name": "stdout",
          "text": [
            "(629931, 35)\n",
            "(629931, 6)\n"
          ]
        }
      ],
      "source": [
        "X_test = pd.read_csv('/content/drive/My Drive/Colab Notebooks/progettoTesi/Dataset2017/improved/Pre-processed_versions/terzoPreprocessing/X_test_35.csv')\n",
        "y_test = pd.read_csv('/content/drive/My Drive/Colab Notebooks/progettoTesi/Dataset2017/improved/Pre-processed_versions/terzoPreprocessing/y_test_35.csv')\n",
        "\n",
        "print(X_test.shape)\n",
        "print(y_test.shape)"
      ]
    },
    {
      "cell_type": "code",
      "source": [
        "df_test = pd.concat([X_test, y_test], axis=1)"
      ],
      "metadata": {
        "id": "FVm3hGkCPFX3"
      },
      "execution_count": 21,
      "outputs": []
    },
    {
      "cell_type": "markdown",
      "source": [
        "```\n",
        "(629931, 41)\n",
        "\n",
        "BENIGN                    478327\n",
        "Infiltration_Portscan      69256\n",
        "DoS                        51486\n",
        "DDoS                       28540\n",
        "BruteForce                  2101\n",
        "Botnet                       221\n",
        "```"
      ],
      "metadata": {
        "id": "kCsXtX6URfbc"
      }
    },
    {
      "cell_type": "markdown",
      "metadata": {
        "id": "l5A8Y2rD8WkZ"
      },
      "source": [
        "## preparo array"
      ]
    },
    {
      "cell_type": "code",
      "execution_count": 22,
      "metadata": {
        "id": "kqUigR_EyBaZ"
      },
      "outputs": [],
      "source": [
        "X_train = X_train.to_numpy()\n",
        "y_train = y_train.to_numpy()\n",
        "X_test = X_test.to_numpy()\n",
        "y_test = y_test.to_numpy()"
      ]
    },
    {
      "cell_type": "code",
      "execution_count": 23,
      "metadata": {
        "colab": {
          "base_uri": "https://localhost:8080/"
        },
        "id": "9-9U_c5o5tHP",
        "outputId": "fb798401-f4de-40c1-c455-dfbc64c54f57"
      },
      "outputs": [
        {
          "output_type": "execute_result",
          "data": {
            "text/plain": [
              "((1489838, 35), (1489838, 6), (629931, 35), (629931, 6))"
            ]
          },
          "metadata": {},
          "execution_count": 23
        }
      ],
      "source": [
        "X_train.shape, y_train.shape, X_test.shape, y_test.shape"
      ]
    },
    {
      "cell_type": "markdown",
      "metadata": {
        "id": "zGsQnxJnO0Uc"
      },
      "source": [
        "# **Architettura IDS**"
      ]
    },
    {
      "cell_type": "markdown",
      "source": [
        "### Vecchi"
      ],
      "metadata": {
        "id": "js-hrpAVakJr"
      }
    },
    {
      "cell_type": "markdown",
      "metadata": {
        "id": "ybU81EojBwaM"
      },
      "source": [
        "#### Vecchia versione architettura modello"
      ]
    },
    {
      "cell_type": "code",
      "execution_count": null,
      "metadata": {
        "id": "1wSN-_G02UzL"
      },
      "outputs": [],
      "source": [
        "l_r = 0.0005 #@param"
      ]
    },
    {
      "cell_type": "code",
      "execution_count": null,
      "metadata": {
        "id": "JyBfMI-RZcna"
      },
      "outputs": [],
      "source": [
        "# build the classifier model\n",
        "from keras.models import Sequential\n",
        "from keras.layers import Dense\n",
        "from tensorflow.keras.optimizers import Adam\n",
        "\n",
        "#def baseline_model():\n",
        "  # create model\n",
        "model = Sequential()\n",
        "model.add(Dense(64, input_dim=35, activation='relu'))\n",
        "model.add(Dense(32, activation='relu'))\n",
        "model.add(Dense(6, activation='softmax'))\n",
        "\n",
        "model.compile(loss='categorical_crossentropy', optimizer=Adam(learning_rate=l_r), metrics=['accuracy'])"
      ]
    },
    {
      "cell_type": "markdown",
      "metadata": {
        "id": "556fJdvWB1dd"
      },
      "source": [
        "#### Nuova versione architettura modello per riferimento valutazione\n",
        "Fonte: https://ijece.iaescore.com/index.php/IJECE/article/view/26968/16288\n"
      ]
    },
    {
      "cell_type": "code",
      "execution_count": null,
      "metadata": {
        "id": "cJsQNUSwBvbR"
      },
      "outputs": [],
      "source": [
        "from keras.models import Sequential\n",
        "from keras.layers import Dense, InputLayer\n",
        "from tensorflow.keras.optimizers import Adam\n",
        "import tensorflow as tf\n",
        "\n",
        "# Define the model\n",
        "model = Sequential()\n",
        "model.add(InputLayer(input_shape=(35,)))\n",
        "model.add(Dense(32, activation='relu'))\n",
        "model.add(Dense(72, activation='relu'))\n",
        "model.add(Dense(32, activation='relu'))\n",
        "model.add(Dense(6, activation='softmax'))\n",
        "\n",
        "# Compile the model\n",
        "model.compile(optimizer=Adam(learning_rate=l_r),\n",
        "              loss='categorical_crossentropy',\n",
        "              metrics=['accuracy', tf.keras.metrics.Recall()])"
      ]
    },
    {
      "cell_type": "markdown",
      "metadata": {
        "id": "j9_-zSfCJK8I"
      },
      "source": [
        "#### Nuova versione (2) architettura modello per riferimento valutazione\n",
        "Fonte: 10.1109/MILCOM47813.2019.9020824"
      ]
    },
    {
      "cell_type": "markdown",
      "metadata": {
        "id": "9YR6ZBJ2hCet"
      },
      "source": [
        "### ***GIUSTA*** - Nuova versione (3) architettura modello per riferimento valutazione\n",
        "Fonte: 10.3390/app13127328\n"
      ]
    },
    {
      "cell_type": "code",
      "execution_count": 24,
      "metadata": {
        "id": "ONvVkyl4JKk0",
        "colab": {
          "base_uri": "https://localhost:8080/"
        },
        "outputId": "229a4079-065e-4eea-b482-3aa2dbe40fdc"
      },
      "outputs": [
        {
          "output_type": "stream",
          "name": "stderr",
          "text": [
            "/usr/local/lib/python3.10/dist-packages/keras/src/layers/core/dense.py:87: UserWarning: Do not pass an `input_shape`/`input_dim` argument to a layer. When using Sequential models, prefer using an `Input(shape)` object as the first layer in the model instead.\n",
            "  super().__init__(activity_regularizer=activity_regularizer, **kwargs)\n"
          ]
        }
      ],
      "source": [
        "import tensorflow as tf\n",
        "from tensorflow.keras.models import Sequential\n",
        "from tensorflow.keras.layers import Dense\n",
        "from tensorflow.keras.callbacks import EarlyStopping\n",
        "from tensorflow.keras.regularizers import l2\n",
        "\n",
        "model = Sequential()\n",
        "model.add(Dense(64, input_dim=35, activation='relu', kernel_regularizer=l2(0.01)))\n",
        "model.add(Dense(128, activation='relu', kernel_regularizer=l2(0.01)))\n",
        "model.add(Dense(128, activation='relu', kernel_regularizer=l2(0.01)))\n",
        "model.add(Dense(64, activation='relu', kernel_regularizer=l2(0.01))) #il paper si confonde e dà due valori: 0.001 e 0.01\n",
        "model.add(Dense(6, activation='softmax'))\n",
        "\n",
        "model.compile(optimizer=tf.keras.optimizers.Adam(learning_rate=0.001), loss='categorical_crossentropy', metrics=['accuracy'])"
      ]
    },
    {
      "cell_type": "code",
      "source": [
        "from scikeras.wrappers import KerasClassifier\n",
        "from sklearn.model_selection import cross_val_score\n",
        "from sklearn import metrics\n",
        "\n",
        "#my_scores = ['f1_macro', 'balanced_accuracy']\n",
        "#model_clf = KerasClassifier(build_fn=model, epochs=300, batch_size=1024, verbose=0)\n",
        "#cv_scores = cross_val_score(model_clf, X_train, y_train, cv=5, scoring='f1_macro', verbose=0)\n",
        "\n",
        "print(\"Cross-Validation Scores F1-MACRO:\", cv_scores)\n",
        "print(\"Average Cross-Validation F1-MACRO:\", np.mean(cv_scores))"
      ],
      "metadata": {
        "id": "dWHevFy2Ejeh"
      },
      "execution_count": null,
      "outputs": []
    },
    {
      "cell_type": "code",
      "source": [
        "from scikeras.wrappers import KerasClassifier\n",
        "from sklearn.model_selection import cross_val_score\n",
        "from sklearn import metrics\n",
        "\n",
        "\n",
        "model_clf = KerasClassifier(build_fn=model, epochs=300, batch_size=1024, verbose=0)\n",
        "cv_scores = cross_val_score(model_clf, X_train, y_train, cv=5, scoring='precision_macro', verbose=0)\n",
        "\n",
        "print(\"Cross-Validation Scores PRECISION MACRO:\", cv_scores)\n",
        "print(\"Average Cross-Validation PRECISION MACRO:\", np.mean(cv_scores))"
      ],
      "metadata": {
        "id": "AGmN4dh0YVDy",
        "colab": {
          "base_uri": "https://localhost:8080/"
        },
        "outputId": "1742c17d-9517-4058-cffa-8e7b98333ad0"
      },
      "execution_count": 25,
      "outputs": [
        {
          "output_type": "stream",
          "name": "stderr",
          "text": [
            "/usr/local/lib/python3.10/dist-packages/keras/src/saving/saving_lib.py:415: UserWarning: Skipping variable loading for optimizer 'adam', because it has 22 variables whereas the saved optimizer has 2 variables. \n",
            "  saveable.load_own_variables(weights_store.get(inner_path))\n",
            "/usr/local/lib/python3.10/dist-packages/scikeras/wrappers.py:925: UserWarning: ``build_fn`` will be renamed to ``model`` in a future release, at which point use of ``build_fn`` will raise an Error instead.\n",
            "  X, y = self._initialize(X, y)\n",
            "/usr/local/lib/python3.10/dist-packages/keras/src/saving/saving_lib.py:415: UserWarning: Skipping variable loading for optimizer 'adam', because it has 22 variables whereas the saved optimizer has 2 variables. \n",
            "  saveable.load_own_variables(weights_store.get(inner_path))\n",
            "/usr/local/lib/python3.10/dist-packages/scikeras/wrappers.py:925: UserWarning: ``build_fn`` will be renamed to ``model`` in a future release, at which point use of ``build_fn`` will raise an Error instead.\n",
            "  X, y = self._initialize(X, y)\n",
            "/usr/local/lib/python3.10/dist-packages/keras/src/saving/saving_lib.py:415: UserWarning: Skipping variable loading for optimizer 'adam', because it has 22 variables whereas the saved optimizer has 2 variables. \n",
            "  saveable.load_own_variables(weights_store.get(inner_path))\n",
            "/usr/local/lib/python3.10/dist-packages/scikeras/wrappers.py:925: UserWarning: ``build_fn`` will be renamed to ``model`` in a future release, at which point use of ``build_fn`` will raise an Error instead.\n",
            "  X, y = self._initialize(X, y)\n",
            "/usr/local/lib/python3.10/dist-packages/keras/src/saving/saving_lib.py:415: UserWarning: Skipping variable loading for optimizer 'adam', because it has 22 variables whereas the saved optimizer has 2 variables. \n",
            "  saveable.load_own_variables(weights_store.get(inner_path))\n",
            "/usr/local/lib/python3.10/dist-packages/scikeras/wrappers.py:925: UserWarning: ``build_fn`` will be renamed to ``model`` in a future release, at which point use of ``build_fn`` will raise an Error instead.\n",
            "  X, y = self._initialize(X, y)\n",
            "/usr/local/lib/python3.10/dist-packages/keras/src/saving/saving_lib.py:415: UserWarning: Skipping variable loading for optimizer 'adam', because it has 22 variables whereas the saved optimizer has 2 variables. \n",
            "  saveable.load_own_variables(weights_store.get(inner_path))\n",
            "/usr/local/lib/python3.10/dist-packages/scikeras/wrappers.py:925: UserWarning: ``build_fn`` will be renamed to ``model`` in a future release, at which point use of ``build_fn`` will raise an Error instead.\n",
            "  X, y = self._initialize(X, y)\n"
          ]
        },
        {
          "output_type": "stream",
          "name": "stdout",
          "text": [
            "Cross-Validation Scores PRECISION MACRO: [0.99170191 0.99179875 0.99511043 0.98490288 0.9960098 ]\n",
            "Average Cross-Validation PRECISION MACRO: 0.9919047546481476\n"
          ]
        }
      ]
    },
    {
      "cell_type": "code",
      "source": [
        "model_clf = KerasClassifier(build_fn=model, epochs=300, batch_size=1024, verbose=0)\n",
        "cv_scores = cross_val_score(model_clf, X_train, y_train, cv=5, scoring='recall_macro', verbose=0)\n",
        "\n",
        "print(\"Cross-Validation Scores RECALL MACRO:\", cv_scores)\n",
        "print(\"Average Cross-Validation RECALL MACRO:\", np.mean(cv_scores))"
      ],
      "metadata": {
        "id": "NG8P-ojWuiyU",
        "colab": {
          "base_uri": "https://localhost:8080/"
        },
        "outputId": "f408674a-3380-412f-9d84-0d3b6e54459e"
      },
      "execution_count": 26,
      "outputs": [
        {
          "output_type": "stream",
          "name": "stderr",
          "text": [
            "/usr/local/lib/python3.10/dist-packages/keras/src/saving/saving_lib.py:415: UserWarning: Skipping variable loading for optimizer 'adam', because it has 22 variables whereas the saved optimizer has 2 variables. \n",
            "  saveable.load_own_variables(weights_store.get(inner_path))\n",
            "/usr/local/lib/python3.10/dist-packages/scikeras/wrappers.py:925: UserWarning: ``build_fn`` will be renamed to ``model`` in a future release, at which point use of ``build_fn`` will raise an Error instead.\n",
            "  X, y = self._initialize(X, y)\n",
            "/usr/local/lib/python3.10/dist-packages/keras/src/saving/saving_lib.py:415: UserWarning: Skipping variable loading for optimizer 'adam', because it has 22 variables whereas the saved optimizer has 2 variables. \n",
            "  saveable.load_own_variables(weights_store.get(inner_path))\n",
            "/usr/local/lib/python3.10/dist-packages/scikeras/wrappers.py:925: UserWarning: ``build_fn`` will be renamed to ``model`` in a future release, at which point use of ``build_fn`` will raise an Error instead.\n",
            "  X, y = self._initialize(X, y)\n",
            "/usr/local/lib/python3.10/dist-packages/keras/src/saving/saving_lib.py:415: UserWarning: Skipping variable loading for optimizer 'adam', because it has 22 variables whereas the saved optimizer has 2 variables. \n",
            "  saveable.load_own_variables(weights_store.get(inner_path))\n",
            "/usr/local/lib/python3.10/dist-packages/scikeras/wrappers.py:925: UserWarning: ``build_fn`` will be renamed to ``model`` in a future release, at which point use of ``build_fn`` will raise an Error instead.\n",
            "  X, y = self._initialize(X, y)\n",
            "/usr/local/lib/python3.10/dist-packages/keras/src/saving/saving_lib.py:415: UserWarning: Skipping variable loading for optimizer 'adam', because it has 22 variables whereas the saved optimizer has 2 variables. \n",
            "  saveable.load_own_variables(weights_store.get(inner_path))\n",
            "/usr/local/lib/python3.10/dist-packages/scikeras/wrappers.py:925: UserWarning: ``build_fn`` will be renamed to ``model`` in a future release, at which point use of ``build_fn`` will raise an Error instead.\n",
            "  X, y = self._initialize(X, y)\n",
            "/usr/local/lib/python3.10/dist-packages/keras/src/saving/saving_lib.py:415: UserWarning: Skipping variable loading for optimizer 'adam', because it has 22 variables whereas the saved optimizer has 2 variables. \n",
            "  saveable.load_own_variables(weights_store.get(inner_path))\n",
            "/usr/local/lib/python3.10/dist-packages/scikeras/wrappers.py:925: UserWarning: ``build_fn`` will be renamed to ``model`` in a future release, at which point use of ``build_fn`` will raise an Error instead.\n",
            "  X, y = self._initialize(X, y)\n"
          ]
        },
        {
          "output_type": "stream",
          "name": "stdout",
          "text": [
            "Cross-Validation Scores RECALL MACRO: [0.98221815 0.990594   0.99265156 0.99158772 0.99321272]\n",
            "Average Cross-Validation RECALL MACRO: 0.9900528286940151\n"
          ]
        }
      ]
    },
    {
      "cell_type": "markdown",
      "metadata": {
        "id": "Ph8lJ_0mJL-b"
      },
      "source": [
        "### Model summary"
      ]
    },
    {
      "cell_type": "code",
      "execution_count": null,
      "metadata": {
        "colab": {
          "base_uri": "https://localhost:8080/"
        },
        "id": "gqvH3MBP4gg2",
        "outputId": "cfd58f99-160d-41f0-cc31-d0951705f862"
      },
      "outputs": [
        {
          "output_type": "stream",
          "name": "stdout",
          "text": [
            "Model: \"sequential\"\n",
            "_________________________________________________________________\n",
            " Layer (type)                Output Shape              Param #   \n",
            "=================================================================\n",
            " dense (Dense)               (None, 64)                2304      \n",
            "                                                                 \n",
            " dense_1 (Dense)             (None, 128)               8320      \n",
            "                                                                 \n",
            " dense_2 (Dense)             (None, 128)               16512     \n",
            "                                                                 \n",
            " dense_3 (Dense)             (None, 64)                8256      \n",
            "                                                                 \n",
            " dense_4 (Dense)             (None, 6)                 390       \n",
            "                                                                 \n",
            "=================================================================\n",
            "Total params: 35782 (139.77 KB)\n",
            "Trainable params: 35782 (139.77 KB)\n",
            "Non-trainable params: 0 (0.00 Byte)\n",
            "_________________________________________________________________\n"
          ]
        }
      ],
      "source": [
        "model.summary()"
      ]
    },
    {
      "cell_type": "markdown",
      "metadata": {
        "id": "KufZWSYfdLLd"
      },
      "source": [
        "## **Training**\n"
      ]
    },
    {
      "cell_type": "code",
      "execution_count": null,
      "metadata": {
        "id": "3-14oCb6pkqt"
      },
      "outputs": [],
      "source": [
        "e = 300 #@param\n",
        "v_split = 0.20 #@param\n",
        "pat_earlyStop = 20 #@param\n",
        "train_batch_size = 1024 #@param\n",
        "lr = 0.001"
      ]
    },
    {
      "cell_type": "markdown",
      "metadata": {
        "id": "lphmjkx4qClf"
      },
      "source": [
        "Definisco un validation set migliore, più bilanciato..."
      ]
    },
    {
      "cell_type": "code",
      "execution_count": null,
      "metadata": {
        "id": "wcWJhpL8qEQU"
      },
      "outputs": [],
      "source": [
        "from sklearn.model_selection import train_test_split\n",
        "\n",
        "X_combined = X_train\n",
        "y_combined = y_train\n",
        "\n",
        "X_train, X_val, y_train, y_val = train_test_split(\n",
        "    X_combined, y_combined, test_size=v_split, random_state=3, stratify=y_combined\n",
        ")"
      ]
    },
    {
      "cell_type": "code",
      "execution_count": null,
      "metadata": {
        "colab": {
          "base_uri": "https://localhost:8080/"
        },
        "id": "YXKDAEe54CL1",
        "outputId": "b414327e-1274-4802-93dd-6ebc2a8df4f6"
      },
      "outputs": [
        {
          "output_type": "stream",
          "name": "stdout",
          "text": [
            "(1175870, 35)\n",
            "(293968, 35)\n"
          ]
        }
      ],
      "source": [
        "print(X_train.shape)\n",
        "print(X_val.shape)"
      ]
    },
    {
      "cell_type": "markdown",
      "metadata": {
        "id": "coFVSKl49EJi"
      },
      "source": [
        "#### Class Weighting"
      ]
    },
    {
      "cell_type": "code",
      "execution_count": null,
      "metadata": {
        "id": "j-U6DBar9EbW"
      },
      "outputs": [],
      "source": [
        "#Cerco di capire se l'imbalanced classes mi da problemi di TROPPA BRAVURA del DNN ==> eseguo class Weighting\n",
        "from sklearn.utils.class_weight import compute_class_weight\n",
        "\n",
        "class_values = np.argmax(y_train, axis=1)\n",
        "class_weights = compute_class_weight(class_weight='balanced', classes=np.unique(class_values), y=class_values)\n",
        "class_weight_dict = dict(zip(np.unique(class_values), class_weights))"
      ]
    },
    {
      "cell_type": "code",
      "execution_count": null,
      "metadata": {
        "colab": {
          "base_uri": "https://localhost:8080/"
        },
        "id": "Zudx7PpoLTPX",
        "outputId": "63a009be-3113-44fa-bed7-00385e962245"
      },
      "outputs": [
        {
          "output_type": "stream",
          "name": "stdout",
          "text": [
            "[1 0 1 ... 0 1 0]\n",
            "[2.19491098e-01 1.51594497e+00 3.67868629e+00 2.03916815e+00\n",
            " 4.99562410e+01 4.75675566e+02]\n"
          ]
        }
      ],
      "source": [
        "print(class_values)\n",
        "print(class_weights)"
      ]
    },
    {
      "cell_type": "markdown",
      "metadata": {
        "id": "dp5lWVSoqRtA"
      },
      "source": [
        "#### Train"
      ]
    },
    {
      "cell_type": "code",
      "execution_count": null,
      "metadata": {
        "colab": {
          "base_uri": "https://localhost:8080/"
        },
        "id": "U8RTHSMoGUYA",
        "outputId": "9b67548d-a16d-46be-ed74-fca5b7bd8e1e"
      },
      "outputs": [
        {
          "output_type": "stream",
          "name": "stdout",
          "text": [
            "Epoch 1/300\n",
            "1149/1149 - 9s - loss: 0.5912 - accuracy: 0.9391 - val_loss: 0.2886 - val_accuracy: 0.9738 - 9s/epoch - 8ms/step\n",
            "Epoch 2/300\n",
            "1149/1149 - 7s - loss: 0.2625 - accuracy: 0.9760 - val_loss: 0.2469 - val_accuracy: 0.9755 - 7s/epoch - 6ms/step\n",
            "Epoch 3/300\n",
            "1149/1149 - 7s - loss: 0.2368 - accuracy: 0.9766 - val_loss: 0.2293 - val_accuracy: 0.9747 - 7s/epoch - 6ms/step\n",
            "Epoch 4/300\n",
            "1149/1149 - 8s - loss: 0.2213 - accuracy: 0.9771 - val_loss: 0.2182 - val_accuracy: 0.9752 - 8s/epoch - 7ms/step\n",
            "Epoch 5/300\n",
            "1149/1149 - 7s - loss: 0.2104 - accuracy: 0.9776 - val_loss: 0.2069 - val_accuracy: 0.9773 - 7s/epoch - 6ms/step\n",
            "Epoch 6/300\n",
            "1149/1149 - 7s - loss: 0.2020 - accuracy: 0.9779 - val_loss: 0.1982 - val_accuracy: 0.9774 - 7s/epoch - 6ms/step\n",
            "Epoch 7/300\n",
            "1149/1149 - 7s - loss: 0.1946 - accuracy: 0.9784 - val_loss: 0.1925 - val_accuracy: 0.9788 - 7s/epoch - 6ms/step\n",
            "Epoch 8/300\n",
            "1149/1149 - 7s - loss: 0.1889 - accuracy: 0.9788 - val_loss: 0.1884 - val_accuracy: 0.9777 - 7s/epoch - 6ms/step\n",
            "Epoch 9/300\n",
            "1149/1149 - 6s - loss: 0.1840 - accuracy: 0.9790 - val_loss: 0.1822 - val_accuracy: 0.9793 - 6s/epoch - 6ms/step\n",
            "Epoch 10/300\n",
            "1149/1149 - 7s - loss: 0.1796 - accuracy: 0.9793 - val_loss: 0.1775 - val_accuracy: 0.9792 - 7s/epoch - 6ms/step\n",
            "Epoch 11/300\n",
            "1149/1149 - 6s - loss: 0.1755 - accuracy: 0.9796 - val_loss: 0.1757 - val_accuracy: 0.9790 - 6s/epoch - 6ms/step\n",
            "Epoch 12/300\n",
            "1149/1149 - 7s - loss: 0.1722 - accuracy: 0.9797 - val_loss: 0.1708 - val_accuracy: 0.9802 - 7s/epoch - 6ms/step\n",
            "Epoch 13/300\n",
            "1149/1149 - 6s - loss: 0.1691 - accuracy: 0.9798 - val_loss: 0.1686 - val_accuracy: 0.9809 - 6s/epoch - 5ms/step\n",
            "Epoch 14/300\n",
            "1149/1149 - 7s - loss: 0.1666 - accuracy: 0.9799 - val_loss: 0.1659 - val_accuracy: 0.9792 - 7s/epoch - 6ms/step\n",
            "Epoch 15/300\n",
            "1149/1149 - 6s - loss: 0.1640 - accuracy: 0.9800 - val_loss: 0.1637 - val_accuracy: 0.9799 - 6s/epoch - 6ms/step\n",
            "Epoch 16/300\n",
            "1149/1149 - 7s - loss: 0.1616 - accuracy: 0.9800 - val_loss: 0.1611 - val_accuracy: 0.9797 - 7s/epoch - 6ms/step\n",
            "Epoch 17/300\n",
            "1149/1149 - 7s - loss: 0.1593 - accuracy: 0.9801 - val_loss: 0.1580 - val_accuracy: 0.9801 - 7s/epoch - 6ms/step\n",
            "Epoch 18/300\n",
            "1149/1149 - 7s - loss: 0.1570 - accuracy: 0.9802 - val_loss: 0.1603 - val_accuracy: 0.9806 - 7s/epoch - 6ms/step\n",
            "Epoch 19/300\n",
            "1149/1149 - 7s - loss: 0.1549 - accuracy: 0.9802 - val_loss: 0.1544 - val_accuracy: 0.9804 - 7s/epoch - 6ms/step\n",
            "Epoch 20/300\n",
            "1149/1149 - 7s - loss: 0.1526 - accuracy: 0.9803 - val_loss: 0.1514 - val_accuracy: 0.9807 - 7s/epoch - 6ms/step\n",
            "Epoch 21/300\n",
            "1149/1149 - 8s - loss: 0.1504 - accuracy: 0.9808 - val_loss: 0.1490 - val_accuracy: 0.9809 - 8s/epoch - 7ms/step\n",
            "Epoch 22/300\n",
            "1149/1149 - 7s - loss: 0.1480 - accuracy: 0.9821 - val_loss: 0.1486 - val_accuracy: 0.9858 - 7s/epoch - 6ms/step\n",
            "Epoch 23/300\n",
            "1149/1149 - 7s - loss: 0.1463 - accuracy: 0.9834 - val_loss: 0.1453 - val_accuracy: 0.9869 - 7s/epoch - 6ms/step\n",
            "Epoch 24/300\n",
            "1149/1149 - 7s - loss: 0.1442 - accuracy: 0.9845 - val_loss: 0.1469 - val_accuracy: 0.9796 - 7s/epoch - 6ms/step\n",
            "Epoch 25/300\n",
            "1149/1149 - 7s - loss: 0.1424 - accuracy: 0.9854 - val_loss: 0.1426 - val_accuracy: 0.9842 - 7s/epoch - 6ms/step\n",
            "Epoch 26/300\n",
            "1149/1149 - 7s - loss: 0.1410 - accuracy: 0.9858 - val_loss: 0.1422 - val_accuracy: 0.9858 - 7s/epoch - 6ms/step\n",
            "Epoch 27/300\n",
            "1149/1149 - 7s - loss: 0.1395 - accuracy: 0.9862 - val_loss: 0.1395 - val_accuracy: 0.9868 - 7s/epoch - 6ms/step\n",
            "Epoch 28/300\n",
            "1149/1149 - 6s - loss: 0.1381 - accuracy: 0.9866 - val_loss: 0.1375 - val_accuracy: 0.9876 - 6s/epoch - 6ms/step\n",
            "Epoch 29/300\n",
            "1149/1149 - 6s - loss: 0.1364 - accuracy: 0.9869 - val_loss: 0.1374 - val_accuracy: 0.9879 - 6s/epoch - 6ms/step\n",
            "Epoch 30/300\n",
            "1149/1149 - 7s - loss: 0.1354 - accuracy: 0.9870 - val_loss: 0.1350 - val_accuracy: 0.9880 - 7s/epoch - 6ms/step\n",
            "Epoch 31/300\n",
            "1149/1149 - 6s - loss: 0.1340 - accuracy: 0.9871 - val_loss: 0.1340 - val_accuracy: 0.9864 - 6s/epoch - 6ms/step\n",
            "Epoch 32/300\n",
            "1149/1149 - 6s - loss: 0.1327 - accuracy: 0.9874 - val_loss: 0.1330 - val_accuracy: 0.9880 - 6s/epoch - 5ms/step\n",
            "Epoch 33/300\n",
            "1149/1149 - 7s - loss: 0.1316 - accuracy: 0.9874 - val_loss: 0.1317 - val_accuracy: 0.9885 - 7s/epoch - 6ms/step\n",
            "Epoch 34/300\n",
            "1149/1149 - 7s - loss: 0.1302 - accuracy: 0.9874 - val_loss: 0.1308 - val_accuracy: 0.9885 - 7s/epoch - 6ms/step\n",
            "Epoch 35/300\n",
            "1149/1149 - 7s - loss: 0.1282 - accuracy: 0.9879 - val_loss: 0.1278 - val_accuracy: 0.9879 - 7s/epoch - 6ms/step\n",
            "Epoch 36/300\n",
            "1149/1149 - 7s - loss: 0.1271 - accuracy: 0.9881 - val_loss: 0.1264 - val_accuracy: 0.9887 - 7s/epoch - 6ms/step\n",
            "Epoch 37/300\n",
            "1149/1149 - 7s - loss: 0.1261 - accuracy: 0.9881 - val_loss: 0.1276 - val_accuracy: 0.9871 - 7s/epoch - 6ms/step\n",
            "Epoch 38/300\n",
            "1149/1149 - 6s - loss: 0.1253 - accuracy: 0.9882 - val_loss: 0.1257 - val_accuracy: 0.9900 - 6s/epoch - 6ms/step\n",
            "Epoch 39/300\n",
            "1149/1149 - 6s - loss: 0.1246 - accuracy: 0.9883 - val_loss: 0.1238 - val_accuracy: 0.9883 - 6s/epoch - 5ms/step\n",
            "Epoch 40/300\n",
            "1149/1149 - 6s - loss: 0.1239 - accuracy: 0.9883 - val_loss: 0.1229 - val_accuracy: 0.9886 - 6s/epoch - 5ms/step\n",
            "Epoch 41/300\n",
            "1149/1149 - 6s - loss: 0.1230 - accuracy: 0.9885 - val_loss: 0.1249 - val_accuracy: 0.9874 - 6s/epoch - 6ms/step\n",
            "Epoch 42/300\n",
            "1149/1149 - 6s - loss: 0.1221 - accuracy: 0.9885 - val_loss: 0.1234 - val_accuracy: 0.9893 - 6s/epoch - 5ms/step\n",
            "Epoch 43/300\n",
            "1149/1149 - 6s - loss: 0.1216 - accuracy: 0.9886 - val_loss: 0.1227 - val_accuracy: 0.9864 - 6s/epoch - 5ms/step\n",
            "Epoch 44/300\n",
            "1149/1149 - 6s - loss: 0.1210 - accuracy: 0.9886 - val_loss: 0.1215 - val_accuracy: 0.9873 - 6s/epoch - 6ms/step\n",
            "Epoch 45/300\n",
            "1149/1149 - 6s - loss: 0.1203 - accuracy: 0.9886 - val_loss: 0.1211 - val_accuracy: 0.9872 - 6s/epoch - 6ms/step\n",
            "Epoch 46/300\n",
            "1149/1149 - 6s - loss: 0.1197 - accuracy: 0.9886 - val_loss: 0.1225 - val_accuracy: 0.9895 - 6s/epoch - 6ms/step\n",
            "Epoch 47/300\n",
            "1149/1149 - 7s - loss: 0.1192 - accuracy: 0.9887 - val_loss: 0.1194 - val_accuracy: 0.9873 - 7s/epoch - 6ms/step\n",
            "Epoch 48/300\n",
            "1149/1149 - 6s - loss: 0.1184 - accuracy: 0.9888 - val_loss: 0.1178 - val_accuracy: 0.9885 - 6s/epoch - 6ms/step\n",
            "Epoch 49/300\n",
            "1149/1149 - 7s - loss: 0.1180 - accuracy: 0.9888 - val_loss: 0.1173 - val_accuracy: 0.9893 - 7s/epoch - 6ms/step\n",
            "Epoch 50/300\n",
            "1149/1149 - 6s - loss: 0.1176 - accuracy: 0.9889 - val_loss: 0.1168 - val_accuracy: 0.9891 - 6s/epoch - 6ms/step\n",
            "Epoch 51/300\n",
            "1149/1149 - 6s - loss: 0.1170 - accuracy: 0.9888 - val_loss: 0.1169 - val_accuracy: 0.9890 - 6s/epoch - 6ms/step\n",
            "Epoch 52/300\n",
            "1149/1149 - 6s - loss: 0.1164 - accuracy: 0.9889 - val_loss: 0.1158 - val_accuracy: 0.9890 - 6s/epoch - 6ms/step\n",
            "Epoch 53/300\n",
            "1149/1149 - 6s - loss: 0.1159 - accuracy: 0.9890 - val_loss: 0.1161 - val_accuracy: 0.9876 - 6s/epoch - 5ms/step\n",
            "Epoch 54/300\n",
            "1149/1149 - 7s - loss: 0.1154 - accuracy: 0.9891 - val_loss: 0.1153 - val_accuracy: 0.9887 - 7s/epoch - 6ms/step\n",
            "Epoch 55/300\n",
            "1149/1149 - 6s - loss: 0.1150 - accuracy: 0.9890 - val_loss: 0.1154 - val_accuracy: 0.9901 - 6s/epoch - 5ms/step\n",
            "Epoch 56/300\n",
            "1149/1149 - 6s - loss: 0.1145 - accuracy: 0.9891 - val_loss: 0.1143 - val_accuracy: 0.9885 - 6s/epoch - 6ms/step\n",
            "Epoch 57/300\n",
            "1149/1149 - 7s - loss: 0.1142 - accuracy: 0.9891 - val_loss: 0.1152 - val_accuracy: 0.9859 - 7s/epoch - 6ms/step\n",
            "Epoch 58/300\n",
            "1149/1149 - 6s - loss: 0.1137 - accuracy: 0.9890 - val_loss: 0.1147 - val_accuracy: 0.9866 - 6s/epoch - 6ms/step\n",
            "Epoch 59/300\n",
            "1149/1149 - 7s - loss: 0.1134 - accuracy: 0.9890 - val_loss: 0.1133 - val_accuracy: 0.9897 - 7s/epoch - 6ms/step\n",
            "Epoch 60/300\n",
            "1149/1149 - 7s - loss: 0.1127 - accuracy: 0.9892 - val_loss: 0.1126 - val_accuracy: 0.9895 - 7s/epoch - 6ms/step\n",
            "Epoch 61/300\n",
            "1149/1149 - 7s - loss: 0.1125 - accuracy: 0.9892 - val_loss: 0.1120 - val_accuracy: 0.9895 - 7s/epoch - 6ms/step\n",
            "Epoch 62/300\n",
            "1149/1149 - 8s - loss: 0.1120 - accuracy: 0.9892 - val_loss: 0.1136 - val_accuracy: 0.9861 - 8s/epoch - 7ms/step\n",
            "Epoch 63/300\n",
            "1149/1149 - 7s - loss: 0.1116 - accuracy: 0.9892 - val_loss: 0.1121 - val_accuracy: 0.9899 - 7s/epoch - 6ms/step\n",
            "Epoch 64/300\n",
            "1149/1149 - 7s - loss: 0.1113 - accuracy: 0.9892 - val_loss: 0.1165 - val_accuracy: 0.9898 - 7s/epoch - 6ms/step\n",
            "Epoch 65/300\n",
            "1149/1149 - 7s - loss: 0.1111 - accuracy: 0.9892 - val_loss: 0.1122 - val_accuracy: 0.9869 - 7s/epoch - 6ms/step\n",
            "Epoch 66/300\n",
            "1149/1149 - 7s - loss: 0.1107 - accuracy: 0.9893 - val_loss: 0.1101 - val_accuracy: 0.9894 - 7s/epoch - 6ms/step\n",
            "Epoch 67/300\n",
            "1149/1149 - 7s - loss: 0.1101 - accuracy: 0.9894 - val_loss: 0.1108 - val_accuracy: 0.9906 - 7s/epoch - 6ms/step\n",
            "Epoch 68/300\n",
            "1149/1149 - 6s - loss: 0.1098 - accuracy: 0.9894 - val_loss: 0.1139 - val_accuracy: 0.9867 - 6s/epoch - 6ms/step\n",
            "Epoch 69/300\n",
            "1149/1149 - 7s - loss: 0.1096 - accuracy: 0.9893 - val_loss: 0.1091 - val_accuracy: 0.9892 - 7s/epoch - 6ms/step\n",
            "Epoch 70/300\n",
            "1149/1149 - 7s - loss: 0.1090 - accuracy: 0.9894 - val_loss: 0.1090 - val_accuracy: 0.9899 - 7s/epoch - 6ms/step\n",
            "Epoch 71/300\n",
            "1149/1149 - 7s - loss: 0.1088 - accuracy: 0.9894 - val_loss: 0.1084 - val_accuracy: 0.9895 - 7s/epoch - 6ms/step\n",
            "Epoch 72/300\n",
            "1149/1149 - 7s - loss: 0.1085 - accuracy: 0.9894 - val_loss: 0.1081 - val_accuracy: 0.9898 - 7s/epoch - 6ms/step\n",
            "Epoch 73/300\n",
            "1149/1149 - 7s - loss: 0.1082 - accuracy: 0.9895 - val_loss: 0.1108 - val_accuracy: 0.9896 - 7s/epoch - 6ms/step\n",
            "Epoch 74/300\n",
            "1149/1149 - 7s - loss: 0.1080 - accuracy: 0.9894 - val_loss: 0.1088 - val_accuracy: 0.9903 - 7s/epoch - 6ms/step\n",
            "Epoch 75/300\n",
            "1149/1149 - 7s - loss: 0.1076 - accuracy: 0.9894 - val_loss: 0.1082 - val_accuracy: 0.9887 - 7s/epoch - 6ms/step\n",
            "Epoch 76/300\n",
            "1149/1149 - 6s - loss: 0.1075 - accuracy: 0.9894 - val_loss: 0.1087 - val_accuracy: 0.9898 - 6s/epoch - 6ms/step\n",
            "Epoch 77/300\n",
            "1149/1149 - 7s - loss: 0.1070 - accuracy: 0.9895 - val_loss: 0.1071 - val_accuracy: 0.9903 - 7s/epoch - 6ms/step\n",
            "Epoch 78/300\n",
            "1149/1149 - 7s - loss: 0.1068 - accuracy: 0.9895 - val_loss: 0.1075 - val_accuracy: 0.9897 - 7s/epoch - 6ms/step\n",
            "Epoch 79/300\n",
            "1149/1149 - 6s - loss: 0.1064 - accuracy: 0.9896 - val_loss: 0.1072 - val_accuracy: 0.9890 - 6s/epoch - 6ms/step\n",
            "Epoch 80/300\n",
            "1149/1149 - 6s - loss: 0.1060 - accuracy: 0.9896 - val_loss: 0.1060 - val_accuracy: 0.9898 - 6s/epoch - 5ms/step\n",
            "Epoch 81/300\n",
            "1149/1149 - 7s - loss: 0.1053 - accuracy: 0.9898 - val_loss: 0.1065 - val_accuracy: 0.9904 - 7s/epoch - 6ms/step\n",
            "Epoch 82/300\n",
            "1149/1149 - 6s - loss: 0.1057 - accuracy: 0.9896 - val_loss: 0.1053 - val_accuracy: 0.9883 - 6s/epoch - 6ms/step\n",
            "Epoch 83/300\n",
            "1149/1149 - 6s - loss: 0.1051 - accuracy: 0.9898 - val_loss: 0.1046 - val_accuracy: 0.9897 - 6s/epoch - 6ms/step\n",
            "Epoch 84/300\n",
            "1149/1149 - 6s - loss: 0.1048 - accuracy: 0.9898 - val_loss: 0.1055 - val_accuracy: 0.9908 - 6s/epoch - 6ms/step\n",
            "Epoch 85/300\n",
            "1149/1149 - 7s - loss: 0.1047 - accuracy: 0.9898 - val_loss: 0.1058 - val_accuracy: 0.9878 - 7s/epoch - 6ms/step\n",
            "Epoch 86/300\n",
            "1149/1149 - 6s - loss: 0.1042 - accuracy: 0.9899 - val_loss: 0.1048 - val_accuracy: 0.9898 - 6s/epoch - 6ms/step\n",
            "Epoch 87/300\n",
            "1149/1149 - 7s - loss: 0.1041 - accuracy: 0.9899 - val_loss: 0.1034 - val_accuracy: 0.9892 - 7s/epoch - 6ms/step\n",
            "Epoch 88/300\n",
            "1149/1149 - 7s - loss: 0.1038 - accuracy: 0.9899 - val_loss: 0.1056 - val_accuracy: 0.9874 - 7s/epoch - 6ms/step\n",
            "Epoch 89/300\n",
            "1149/1149 - 7s - loss: 0.1034 - accuracy: 0.9900 - val_loss: 0.1036 - val_accuracy: 0.9903 - 7s/epoch - 6ms/step\n",
            "Epoch 90/300\n",
            "1149/1149 - 7s - loss: 0.1033 - accuracy: 0.9899 - val_loss: 0.1050 - val_accuracy: 0.9877 - 7s/epoch - 6ms/step\n",
            "Epoch 91/300\n",
            "1149/1149 - 6s - loss: 0.1031 - accuracy: 0.9900 - val_loss: 0.1048 - val_accuracy: 0.9905 - 6s/epoch - 6ms/step\n",
            "Epoch 92/300\n",
            "1149/1149 - 7s - loss: 0.1028 - accuracy: 0.9899 - val_loss: 0.1031 - val_accuracy: 0.9893 - 7s/epoch - 6ms/step\n",
            "Epoch 93/300\n",
            "1149/1149 - 6s - loss: 0.1022 - accuracy: 0.9901 - val_loss: 0.1028 - val_accuracy: 0.9890 - 6s/epoch - 6ms/step\n",
            "Epoch 94/300\n",
            "1149/1149 - 6s - loss: 0.1022 - accuracy: 0.9900 - val_loss: 0.1027 - val_accuracy: 0.9878 - 6s/epoch - 5ms/step\n",
            "Epoch 95/300\n",
            "1149/1149 - 6s - loss: 0.1021 - accuracy: 0.9900 - val_loss: 0.1049 - val_accuracy: 0.9903 - 6s/epoch - 6ms/step\n",
            "Epoch 96/300\n",
            "1149/1149 - 6s - loss: 0.1020 - accuracy: 0.9900 - val_loss: 0.1015 - val_accuracy: 0.9900 - 6s/epoch - 5ms/step\n",
            "Epoch 97/300\n",
            "1149/1149 - 6s - loss: 0.1017 - accuracy: 0.9900 - val_loss: 0.1041 - val_accuracy: 0.9890 - 6s/epoch - 6ms/step\n",
            "Epoch 98/300\n",
            "1149/1149 - 6s - loss: 0.1015 - accuracy: 0.9900 - val_loss: 0.1010 - val_accuracy: 0.9898 - 6s/epoch - 5ms/step\n",
            "Epoch 99/300\n",
            "1149/1149 - 6s - loss: 0.1012 - accuracy: 0.9900 - val_loss: 0.1007 - val_accuracy: 0.9906 - 6s/epoch - 6ms/step\n",
            "Epoch 100/300\n",
            "1149/1149 - 6s - loss: 0.1010 - accuracy: 0.9900 - val_loss: 0.1023 - val_accuracy: 0.9889 - 6s/epoch - 5ms/step\n",
            "Epoch 101/300\n",
            "1149/1149 - 7s - loss: 0.1007 - accuracy: 0.9901 - val_loss: 0.1001 - val_accuracy: 0.9906 - 7s/epoch - 6ms/step\n",
            "Epoch 102/300\n",
            "1149/1149 - 7s - loss: 0.1009 - accuracy: 0.9900 - val_loss: 0.1005 - val_accuracy: 0.9902 - 7s/epoch - 6ms/step\n",
            "Epoch 103/300\n",
            "1149/1149 - 7s - loss: 0.1003 - accuracy: 0.9901 - val_loss: 0.1070 - val_accuracy: 0.9901 - 7s/epoch - 6ms/step\n",
            "Epoch 104/300\n",
            "1149/1149 - 7s - loss: 0.1002 - accuracy: 0.9900 - val_loss: 0.1012 - val_accuracy: 0.9908 - 7s/epoch - 6ms/step\n",
            "Epoch 105/300\n",
            "1149/1149 - 7s - loss: 0.0999 - accuracy: 0.9901 - val_loss: 0.1002 - val_accuracy: 0.9884 - 7s/epoch - 6ms/step\n",
            "Epoch 106/300\n",
            "1149/1149 - 7s - loss: 0.0998 - accuracy: 0.9901 - val_loss: 0.1023 - val_accuracy: 0.9862 - 7s/epoch - 6ms/step\n",
            "Epoch 107/300\n",
            "1149/1149 - 7s - loss: 0.0996 - accuracy: 0.9901 - val_loss: 0.1013 - val_accuracy: 0.9895 - 7s/epoch - 6ms/step\n",
            "Epoch 108/300\n",
            "1149/1149 - 7s - loss: 0.0992 - accuracy: 0.9901 - val_loss: 0.0989 - val_accuracy: 0.9906 - 7s/epoch - 6ms/step\n",
            "Epoch 109/300\n",
            "1149/1149 - 7s - loss: 0.0991 - accuracy: 0.9901 - val_loss: 0.0988 - val_accuracy: 0.9899 - 7s/epoch - 6ms/step\n",
            "Epoch 110/300\n",
            "1149/1149 - 6s - loss: 0.0990 - accuracy: 0.9901 - val_loss: 0.1001 - val_accuracy: 0.9876 - 6s/epoch - 5ms/step\n",
            "Epoch 111/300\n",
            "1149/1149 - 7s - loss: 0.0987 - accuracy: 0.9901 - val_loss: 0.0997 - val_accuracy: 0.9909 - 7s/epoch - 6ms/step\n",
            "Epoch 112/300\n",
            "1149/1149 - 6s - loss: 0.0987 - accuracy: 0.9902 - val_loss: 0.1003 - val_accuracy: 0.9899 - 6s/epoch - 5ms/step\n",
            "Epoch 113/300\n",
            "1149/1149 - 7s - loss: 0.0984 - accuracy: 0.9902 - val_loss: 0.0979 - val_accuracy: 0.9901 - 7s/epoch - 6ms/step\n",
            "Epoch 114/300\n",
            "1149/1149 - 7s - loss: 0.0983 - accuracy: 0.9901 - val_loss: 0.0996 - val_accuracy: 0.9886 - 7s/epoch - 6ms/step\n",
            "Epoch 115/300\n",
            "1149/1149 - 7s - loss: 0.0980 - accuracy: 0.9902 - val_loss: 0.0989 - val_accuracy: 0.9899 - 7s/epoch - 6ms/step\n",
            "Epoch 116/300\n",
            "1149/1149 - 6s - loss: 0.0980 - accuracy: 0.9901 - val_loss: 0.0981 - val_accuracy: 0.9891 - 6s/epoch - 5ms/step\n",
            "Epoch 117/300\n",
            "1149/1149 - 7s - loss: 0.0977 - accuracy: 0.9902 - val_loss: 0.0975 - val_accuracy: 0.9888 - 7s/epoch - 6ms/step\n",
            "Epoch 118/300\n",
            "1149/1149 - 7s - loss: 0.0977 - accuracy: 0.9901 - val_loss: 0.0994 - val_accuracy: 0.9879 - 7s/epoch - 6ms/step\n",
            "Epoch 119/300\n",
            "1149/1149 - 7s - loss: 0.0973 - accuracy: 0.9902 - val_loss: 0.0984 - val_accuracy: 0.9904 - 7s/epoch - 6ms/step\n",
            "Epoch 120/300\n",
            "1149/1149 - 6s - loss: 0.0974 - accuracy: 0.9901 - val_loss: 0.0989 - val_accuracy: 0.9886 - 6s/epoch - 5ms/step\n",
            "Epoch 121/300\n",
            "1149/1149 - 7s - loss: 0.0969 - accuracy: 0.9902 - val_loss: 0.0966 - val_accuracy: 0.9910 - 7s/epoch - 6ms/step\n",
            "Epoch 122/300\n",
            "1149/1149 - 6s - loss: 0.0969 - accuracy: 0.9901 - val_loss: 0.0974 - val_accuracy: 0.9904 - 6s/epoch - 6ms/step\n",
            "Epoch 123/300\n",
            "1149/1149 - 7s - loss: 0.0965 - accuracy: 0.9903 - val_loss: 0.0961 - val_accuracy: 0.9897 - 7s/epoch - 6ms/step\n",
            "Epoch 124/300\n",
            "1149/1149 - 7s - loss: 0.0965 - accuracy: 0.9903 - val_loss: 0.1001 - val_accuracy: 0.9888 - 7s/epoch - 6ms/step\n",
            "Epoch 125/300\n",
            "1149/1149 - 7s - loss: 0.0964 - accuracy: 0.9902 - val_loss: 0.0981 - val_accuracy: 0.9877 - 7s/epoch - 6ms/step\n",
            "Epoch 126/300\n",
            "1149/1149 - 6s - loss: 0.0963 - accuracy: 0.9902 - val_loss: 0.0965 - val_accuracy: 0.9908 - 6s/epoch - 5ms/step\n",
            "Epoch 127/300\n",
            "1149/1149 - 7s - loss: 0.0960 - accuracy: 0.9903 - val_loss: 0.0962 - val_accuracy: 0.9907 - 7s/epoch - 6ms/step\n",
            "Epoch 128/300\n",
            "1149/1149 - 6s - loss: 0.0960 - accuracy: 0.9902 - val_loss: 0.1017 - val_accuracy: 0.9871 - 6s/epoch - 5ms/step\n",
            "Epoch 129/300\n",
            "1149/1149 - 7s - loss: 0.0959 - accuracy: 0.9902 - val_loss: 0.0953 - val_accuracy: 0.9903 - 7s/epoch - 6ms/step\n",
            "Epoch 130/300\n",
            "1149/1149 - 7s - loss: 0.0955 - accuracy: 0.9903 - val_loss: 0.0974 - val_accuracy: 0.9895 - 7s/epoch - 6ms/step\n",
            "Epoch 131/300\n",
            "1149/1149 - 6s - loss: 0.0955 - accuracy: 0.9903 - val_loss: 0.0983 - val_accuracy: 0.9907 - 6s/epoch - 6ms/step\n",
            "Epoch 132/300\n",
            "1149/1149 - 6s - loss: 0.0953 - accuracy: 0.9903 - val_loss: 0.0952 - val_accuracy: 0.9906 - 6s/epoch - 6ms/step\n",
            "Epoch 133/300\n",
            "1149/1149 - 6s - loss: 0.0952 - accuracy: 0.9903 - val_loss: 0.0956 - val_accuracy: 0.9906 - 6s/epoch - 6ms/step\n",
            "Epoch 134/300\n",
            "1149/1149 - 6s - loss: 0.0949 - accuracy: 0.9903 - val_loss: 0.0991 - val_accuracy: 0.9907 - 6s/epoch - 6ms/step\n",
            "Epoch 135/300\n",
            "1149/1149 - 6s - loss: 0.0949 - accuracy: 0.9903 - val_loss: 0.0983 - val_accuracy: 0.9903 - 6s/epoch - 6ms/step\n",
            "Epoch 136/300\n",
            "1149/1149 - 7s - loss: 0.0946 - accuracy: 0.9904 - val_loss: 0.0946 - val_accuracy: 0.9918 - 7s/epoch - 6ms/step\n",
            "Epoch 137/300\n",
            "1149/1149 - 6s - loss: 0.0947 - accuracy: 0.9903 - val_loss: 0.0946 - val_accuracy: 0.9895 - 6s/epoch - 6ms/step\n",
            "Epoch 138/300\n",
            "1149/1149 - 7s - loss: 0.0943 - accuracy: 0.9903 - val_loss: 0.0957 - val_accuracy: 0.9900 - 7s/epoch - 6ms/step\n",
            "Epoch 139/300\n",
            "1149/1149 - 7s - loss: 0.0943 - accuracy: 0.9904 - val_loss: 0.0961 - val_accuracy: 0.9891 - 7s/epoch - 6ms/step\n",
            "Epoch 140/300\n",
            "1149/1149 - 6s - loss: 0.0943 - accuracy: 0.9903 - val_loss: 0.0959 - val_accuracy: 0.9886 - 6s/epoch - 6ms/step\n",
            "Epoch 141/300\n",
            "1149/1149 - 6s - loss: 0.0940 - accuracy: 0.9903 - val_loss: 0.0941 - val_accuracy: 0.9896 - 6s/epoch - 5ms/step\n",
            "Epoch 142/300\n",
            "1149/1149 - 6s - loss: 0.0940 - accuracy: 0.9903 - val_loss: 0.0958 - val_accuracy: 0.9892 - 6s/epoch - 5ms/step\n",
            "Epoch 143/300\n",
            "1149/1149 - 7s - loss: 0.0937 - accuracy: 0.9904 - val_loss: 0.0939 - val_accuracy: 0.9897 - 7s/epoch - 6ms/step\n",
            "Epoch 144/300\n",
            "1149/1149 - 7s - loss: 0.0935 - accuracy: 0.9904 - val_loss: 0.0933 - val_accuracy: 0.9908 - 7s/epoch - 7ms/step\n",
            "Epoch 145/300\n",
            "1149/1149 - 8s - loss: 0.0934 - accuracy: 0.9904 - val_loss: 0.0930 - val_accuracy: 0.9897 - 8s/epoch - 7ms/step\n",
            "Epoch 146/300\n",
            "1149/1149 - 6s - loss: 0.0934 - accuracy: 0.9903 - val_loss: 0.0959 - val_accuracy: 0.9909 - 6s/epoch - 5ms/step\n",
            "Epoch 147/300\n",
            "1149/1149 - 6s - loss: 0.0932 - accuracy: 0.9904 - val_loss: 0.0927 - val_accuracy: 0.9906 - 6s/epoch - 6ms/step\n",
            "Epoch 148/300\n",
            "1149/1149 - 6s - loss: 0.0931 - accuracy: 0.9905 - val_loss: 0.0934 - val_accuracy: 0.9906 - 6s/epoch - 6ms/step\n",
            "Epoch 149/300\n",
            "1149/1149 - 7s - loss: 0.0929 - accuracy: 0.9904 - val_loss: 0.0923 - val_accuracy: 0.9908 - 7s/epoch - 6ms/step\n",
            "Epoch 150/300\n",
            "1149/1149 - 6s - loss: 0.0929 - accuracy: 0.9904 - val_loss: 0.0921 - val_accuracy: 0.9909 - 6s/epoch - 5ms/step\n",
            "Epoch 151/300\n",
            "1149/1149 - 7s - loss: 0.0929 - accuracy: 0.9903 - val_loss: 0.0948 - val_accuracy: 0.9902 - 7s/epoch - 6ms/step\n",
            "Epoch 152/300\n",
            "1149/1149 - 7s - loss: 0.0926 - accuracy: 0.9904 - val_loss: 0.0952 - val_accuracy: 0.9877 - 7s/epoch - 6ms/step\n",
            "Epoch 153/300\n",
            "1149/1149 - 6s - loss: 0.0925 - accuracy: 0.9904 - val_loss: 0.0930 - val_accuracy: 0.9899 - 6s/epoch - 5ms/step\n",
            "Epoch 154/300\n",
            "1149/1149 - 6s - loss: 0.0926 - accuracy: 0.9904 - val_loss: 0.0926 - val_accuracy: 0.9898 - 6s/epoch - 5ms/step\n",
            "Epoch 155/300\n",
            "1149/1149 - 6s - loss: 0.0921 - accuracy: 0.9905 - val_loss: 0.0927 - val_accuracy: 0.9890 - 6s/epoch - 6ms/step\n",
            "Epoch 156/300\n",
            "1149/1149 - 6s - loss: 0.0921 - accuracy: 0.9905 - val_loss: 0.0994 - val_accuracy: 0.9871 - 6s/epoch - 5ms/step\n",
            "Epoch 157/300\n",
            "1149/1149 - 7s - loss: 0.0920 - accuracy: 0.9905 - val_loss: 0.0934 - val_accuracy: 0.9903 - 7s/epoch - 6ms/step\n",
            "Epoch 158/300\n",
            "1149/1149 - 6s - loss: 0.0920 - accuracy: 0.9904 - val_loss: 0.0910 - val_accuracy: 0.9916 - 6s/epoch - 5ms/step\n",
            "Epoch 159/300\n",
            "1149/1149 - 6s - loss: 0.0918 - accuracy: 0.9904 - val_loss: 0.0930 - val_accuracy: 0.9886 - 6s/epoch - 6ms/step\n",
            "Epoch 160/300\n",
            "1149/1149 - 6s - loss: 0.0920 - accuracy: 0.9904 - val_loss: 0.0914 - val_accuracy: 0.9894 - 6s/epoch - 5ms/step\n",
            "Epoch 161/300\n",
            "1149/1149 - 7s - loss: 0.0915 - accuracy: 0.9905 - val_loss: 0.0933 - val_accuracy: 0.9906 - 7s/epoch - 6ms/step\n",
            "Epoch 162/300\n",
            "1149/1149 - 6s - loss: 0.0914 - accuracy: 0.9905 - val_loss: 0.0905 - val_accuracy: 0.9911 - 6s/epoch - 5ms/step\n",
            "Epoch 163/300\n",
            "1149/1149 - 7s - loss: 0.0912 - accuracy: 0.9906 - val_loss: 0.0909 - val_accuracy: 0.9913 - 7s/epoch - 6ms/step\n",
            "Epoch 164/300\n",
            "1149/1149 - 6s - loss: 0.0913 - accuracy: 0.9905 - val_loss: 0.0918 - val_accuracy: 0.9903 - 6s/epoch - 5ms/step\n",
            "Epoch 165/300\n",
            "1149/1149 - 7s - loss: 0.0912 - accuracy: 0.9905 - val_loss: 0.0920 - val_accuracy: 0.9908 - 7s/epoch - 6ms/step\n",
            "Epoch 166/300\n",
            "1149/1149 - 7s - loss: 0.0911 - accuracy: 0.9905 - val_loss: 0.0914 - val_accuracy: 0.9912 - 7s/epoch - 6ms/step\n",
            "Epoch 167/300\n",
            "1149/1149 - 7s - loss: 0.0909 - accuracy: 0.9905 - val_loss: 0.0903 - val_accuracy: 0.9914 - 7s/epoch - 6ms/step\n",
            "Epoch 168/300\n",
            "1149/1149 - 6s - loss: 0.0906 - accuracy: 0.9906 - val_loss: 0.0906 - val_accuracy: 0.9907 - 6s/epoch - 5ms/step\n",
            "Epoch 169/300\n",
            "1149/1149 - 7s - loss: 0.0906 - accuracy: 0.9905 - val_loss: 0.0902 - val_accuracy: 0.9915 - 7s/epoch - 6ms/step\n",
            "Epoch 170/300\n",
            "1149/1149 - 6s - loss: 0.0906 - accuracy: 0.9905 - val_loss: 0.0902 - val_accuracy: 0.9900 - 6s/epoch - 5ms/step\n",
            "Epoch 171/300\n",
            "1149/1149 - 7s - loss: 0.0904 - accuracy: 0.9905 - val_loss: 0.0904 - val_accuracy: 0.9917 - 7s/epoch - 6ms/step\n",
            "Epoch 172/300\n",
            "1149/1149 - 6s - loss: 0.0901 - accuracy: 0.9906 - val_loss: 0.0917 - val_accuracy: 0.9880 - 6s/epoch - 5ms/step\n",
            "Epoch 173/300\n",
            "1149/1149 - 7s - loss: 0.0903 - accuracy: 0.9905 - val_loss: 0.0994 - val_accuracy: 0.9908 - 7s/epoch - 6ms/step\n",
            "Epoch 174/300\n",
            "1149/1149 - 6s - loss: 0.0900 - accuracy: 0.9905 - val_loss: 0.0926 - val_accuracy: 0.9899 - 6s/epoch - 5ms/step\n",
            "Epoch 175/300\n",
            "1149/1149 - 7s - loss: 0.0901 - accuracy: 0.9905 - val_loss: 0.0895 - val_accuracy: 0.9902 - 7s/epoch - 6ms/step\n",
            "Epoch 176/300\n",
            "1149/1149 - 6s - loss: 0.0898 - accuracy: 0.9905 - val_loss: 0.0907 - val_accuracy: 0.9899 - 6s/epoch - 5ms/step\n",
            "Epoch 177/300\n",
            "1149/1149 - 6s - loss: 0.0897 - accuracy: 0.9906 - val_loss: 0.0903 - val_accuracy: 0.9903 - 6s/epoch - 6ms/step\n",
            "Epoch 178/300\n",
            "1149/1149 - 6s - loss: 0.0895 - accuracy: 0.9906 - val_loss: 0.0929 - val_accuracy: 0.9905 - 6s/epoch - 5ms/step\n",
            "Epoch 179/300\n",
            "1149/1149 - 7s - loss: 0.0896 - accuracy: 0.9905 - val_loss: 0.0889 - val_accuracy: 0.9901 - 7s/epoch - 6ms/step\n",
            "Epoch 180/300\n",
            "1149/1149 - 6s - loss: 0.0895 - accuracy: 0.9905 - val_loss: 0.0899 - val_accuracy: 0.9907 - 6s/epoch - 5ms/step\n",
            "Epoch 181/300\n",
            "1149/1149 - 6s - loss: 0.0894 - accuracy: 0.9905 - val_loss: 0.0894 - val_accuracy: 0.9908 - 6s/epoch - 6ms/step\n",
            "Epoch 182/300\n",
            "1149/1149 - 6s - loss: 0.0893 - accuracy: 0.9906 - val_loss: 0.0885 - val_accuracy: 0.9910 - 6s/epoch - 5ms/step\n",
            "Epoch 183/300\n",
            "1149/1149 - 7s - loss: 0.0891 - accuracy: 0.9906 - val_loss: 0.0910 - val_accuracy: 0.9887 - 7s/epoch - 6ms/step\n",
            "Epoch 184/300\n",
            "1149/1149 - 7s - loss: 0.0892 - accuracy: 0.9905 - val_loss: 0.0891 - val_accuracy: 0.9905 - 7s/epoch - 6ms/step\n",
            "Epoch 185/300\n",
            "1149/1149 - 7s - loss: 0.0891 - accuracy: 0.9906 - val_loss: 0.0892 - val_accuracy: 0.9892 - 7s/epoch - 6ms/step\n",
            "Epoch 186/300\n",
            "1149/1149 - 7s - loss: 0.0886 - accuracy: 0.9907 - val_loss: 0.0923 - val_accuracy: 0.9860 - 7s/epoch - 6ms/step\n",
            "Epoch 187/300\n",
            "1149/1149 - 7s - loss: 0.0886 - accuracy: 0.9907 - val_loss: 0.0881 - val_accuracy: 0.9918 - 7s/epoch - 6ms/step\n",
            "Epoch 188/300\n",
            "1149/1149 - 7s - loss: 0.0887 - accuracy: 0.9906 - val_loss: 0.0885 - val_accuracy: 0.9901 - 7s/epoch - 6ms/step\n",
            "Epoch 189/300\n",
            "1149/1149 - 7s - loss: 0.0885 - accuracy: 0.9907 - val_loss: 0.0932 - val_accuracy: 0.9886 - 7s/epoch - 6ms/step\n",
            "Epoch 190/300\n",
            "1149/1149 - 6s - loss: 0.0886 - accuracy: 0.9906 - val_loss: 0.0898 - val_accuracy: 0.9904 - 6s/epoch - 6ms/step\n",
            "Epoch 191/300\n",
            "1149/1149 - 6s - loss: 0.0883 - accuracy: 0.9907 - val_loss: 0.0893 - val_accuracy: 0.9899 - 6s/epoch - 5ms/step\n",
            "Epoch 192/300\n",
            "1149/1149 - 6s - loss: 0.0884 - accuracy: 0.9906 - val_loss: 0.0908 - val_accuracy: 0.9899 - 6s/epoch - 6ms/step\n",
            "Epoch 193/300\n",
            "1149/1149 - 6s - loss: 0.0881 - accuracy: 0.9906 - val_loss: 0.0871 - val_accuracy: 0.9910 - 6s/epoch - 6ms/step\n",
            "Epoch 194/300\n",
            "1149/1149 - 6s - loss: 0.0883 - accuracy: 0.9905 - val_loss: 0.0886 - val_accuracy: 0.9900 - 6s/epoch - 5ms/step\n",
            "Epoch 195/300\n",
            "1149/1149 - 6s - loss: 0.0879 - accuracy: 0.9907 - val_loss: 0.0876 - val_accuracy: 0.9920 - 6s/epoch - 6ms/step\n",
            "Epoch 196/300\n",
            "1149/1149 - 7s - loss: 0.0880 - accuracy: 0.9906 - val_loss: 0.0883 - val_accuracy: 0.9909 - 7s/epoch - 6ms/step\n",
            "Epoch 197/300\n",
            "1149/1149 - 6s - loss: 0.0879 - accuracy: 0.9906 - val_loss: 0.0892 - val_accuracy: 0.9888 - 6s/epoch - 6ms/step\n",
            "Epoch 198/300\n",
            "1149/1149 - 6s - loss: 0.0876 - accuracy: 0.9907 - val_loss: 0.0880 - val_accuracy: 0.9900 - 6s/epoch - 5ms/step\n",
            "Epoch 199/300\n",
            "1149/1149 - 6s - loss: 0.0877 - accuracy: 0.9906 - val_loss: 0.0875 - val_accuracy: 0.9910 - 6s/epoch - 6ms/step\n",
            "Epoch 200/300\n",
            "1149/1149 - 6s - loss: 0.0876 - accuracy: 0.9907 - val_loss: 0.0875 - val_accuracy: 0.9898 - 6s/epoch - 5ms/step\n",
            "Epoch 201/300\n",
            "1149/1149 - 6s - loss: 0.0873 - accuracy: 0.9907 - val_loss: 0.0881 - val_accuracy: 0.9912 - 6s/epoch - 6ms/step\n",
            "Epoch 202/300\n",
            "1149/1149 - 7s - loss: 0.0872 - accuracy: 0.9907 - val_loss: 0.0867 - val_accuracy: 0.9906 - 7s/epoch - 6ms/step\n",
            "Epoch 203/300\n",
            "1149/1149 - 6s - loss: 0.0873 - accuracy: 0.9907 - val_loss: 0.0901 - val_accuracy: 0.9893 - 6s/epoch - 6ms/step\n",
            "Epoch 204/300\n",
            "1149/1149 - 6s - loss: 0.0871 - accuracy: 0.9907 - val_loss: 0.0876 - val_accuracy: 0.9906 - 6s/epoch - 5ms/step\n",
            "Epoch 205/300\n",
            "1149/1149 - 6s - loss: 0.0870 - accuracy: 0.9908 - val_loss: 0.0888 - val_accuracy: 0.9909 - 6s/epoch - 6ms/step\n",
            "Epoch 206/300\n",
            "1149/1149 - 6s - loss: 0.0871 - accuracy: 0.9907 - val_loss: 0.0873 - val_accuracy: 0.9900 - 6s/epoch - 5ms/step\n",
            "Epoch 207/300\n",
            "1149/1149 - 6s - loss: 0.0867 - accuracy: 0.9908 - val_loss: 0.0863 - val_accuracy: 0.9911 - 6s/epoch - 6ms/step\n",
            "Epoch 208/300\n",
            "1149/1149 - 7s - loss: 0.0867 - accuracy: 0.9908 - val_loss: 0.0866 - val_accuracy: 0.9903 - 7s/epoch - 6ms/step\n",
            "Epoch 209/300\n",
            "1149/1149 - 7s - loss: 0.0866 - accuracy: 0.9908 - val_loss: 0.0871 - val_accuracy: 0.9909 - 7s/epoch - 6ms/step\n",
            "Epoch 210/300\n",
            "1149/1149 - 7s - loss: 0.0866 - accuracy: 0.9908 - val_loss: 0.0860 - val_accuracy: 0.9917 - 7s/epoch - 6ms/step\n",
            "Epoch 211/300\n",
            "1149/1149 - 6s - loss: 0.0867 - accuracy: 0.9907 - val_loss: 0.0885 - val_accuracy: 0.9909 - 6s/epoch - 6ms/step\n",
            "Epoch 212/300\n",
            "1149/1149 - 6s - loss: 0.0865 - accuracy: 0.9908 - val_loss: 0.0879 - val_accuracy: 0.9908 - 6s/epoch - 6ms/step\n",
            "Epoch 213/300\n",
            "1149/1149 - 6s - loss: 0.0862 - accuracy: 0.9908 - val_loss: 0.0880 - val_accuracy: 0.9905 - 6s/epoch - 6ms/step\n",
            "Epoch 214/300\n",
            "1149/1149 - 6s - loss: 0.0863 - accuracy: 0.9908 - val_loss: 0.0853 - val_accuracy: 0.9910 - 6s/epoch - 6ms/step\n",
            "Epoch 215/300\n",
            "1149/1149 - 7s - loss: 0.0862 - accuracy: 0.9908 - val_loss: 0.0866 - val_accuracy: 0.9908 - 7s/epoch - 6ms/step\n",
            "Epoch 216/300\n",
            "1149/1149 - 6s - loss: 0.0859 - accuracy: 0.9908 - val_loss: 0.0867 - val_accuracy: 0.9903 - 6s/epoch - 6ms/step\n",
            "Epoch 217/300\n",
            "1149/1149 - 7s - loss: 0.0859 - accuracy: 0.9908 - val_loss: 0.0862 - val_accuracy: 0.9909 - 7s/epoch - 6ms/step\n",
            "Epoch 218/300\n",
            "1149/1149 - 6s - loss: 0.0858 - accuracy: 0.9908 - val_loss: 0.0850 - val_accuracy: 0.9902 - 6s/epoch - 5ms/step\n",
            "Epoch 219/300\n",
            "1149/1149 - 7s - loss: 0.0855 - accuracy: 0.9908 - val_loss: 0.0872 - val_accuracy: 0.9897 - 7s/epoch - 6ms/step\n",
            "Epoch 220/300\n",
            "1149/1149 - 6s - loss: 0.0859 - accuracy: 0.9907 - val_loss: 0.0853 - val_accuracy: 0.9904 - 6s/epoch - 5ms/step\n",
            "Epoch 221/300\n",
            "1149/1149 - 7s - loss: 0.0853 - accuracy: 0.9909 - val_loss: 0.0859 - val_accuracy: 0.9906 - 7s/epoch - 6ms/step\n",
            "Epoch 222/300\n",
            "1149/1149 - 6s - loss: 0.0857 - accuracy: 0.9907 - val_loss: 0.0883 - val_accuracy: 0.9898 - 6s/epoch - 5ms/step\n",
            "Epoch 223/300\n",
            "1149/1149 - 6s - loss: 0.0853 - accuracy: 0.9908 - val_loss: 0.0859 - val_accuracy: 0.9909 - 6s/epoch - 6ms/step\n",
            "Epoch 224/300\n",
            "1149/1149 - 6s - loss: 0.0852 - accuracy: 0.9908 - val_loss: 0.0846 - val_accuracy: 0.9911 - 6s/epoch - 5ms/step\n",
            "Epoch 225/300\n",
            "1149/1149 - 7s - loss: 0.0855 - accuracy: 0.9907 - val_loss: 0.0844 - val_accuracy: 0.9907 - 7s/epoch - 6ms/step\n",
            "Epoch 226/300\n",
            "1149/1149 - 6s - loss: 0.0851 - accuracy: 0.9908 - val_loss: 0.0858 - val_accuracy: 0.9898 - 6s/epoch - 6ms/step\n",
            "Epoch 227/300\n",
            "1149/1149 - 6s - loss: 0.0849 - accuracy: 0.9908 - val_loss: 0.0869 - val_accuracy: 0.9905 - 6s/epoch - 6ms/step\n",
            "Epoch 228/300\n",
            "1149/1149 - 7s - loss: 0.0848 - accuracy: 0.9909 - val_loss: 0.0868 - val_accuracy: 0.9922 - 7s/epoch - 6ms/step\n",
            "Epoch 229/300\n",
            "1149/1149 - 7s - loss: 0.0849 - accuracy: 0.9909 - val_loss: 0.0840 - val_accuracy: 0.9921 - 7s/epoch - 7ms/step\n",
            "Epoch 230/300\n",
            "1149/1149 - 7s - loss: 0.0848 - accuracy: 0.9909 - val_loss: 0.0839 - val_accuracy: 0.9911 - 7s/epoch - 6ms/step\n",
            "Epoch 231/300\n",
            "1149/1149 - 7s - loss: 0.0846 - accuracy: 0.9909 - val_loss: 0.0851 - val_accuracy: 0.9914 - 7s/epoch - 6ms/step\n",
            "Epoch 232/300\n",
            "1149/1149 - 7s - loss: 0.0846 - accuracy: 0.9909 - val_loss: 0.0847 - val_accuracy: 0.9911 - 7s/epoch - 6ms/step\n",
            "Epoch 233/300\n",
            "1149/1149 - 7s - loss: 0.0847 - accuracy: 0.9909 - val_loss: 0.0836 - val_accuracy: 0.9908 - 7s/epoch - 6ms/step\n",
            "Epoch 234/300\n",
            "1149/1149 - 6s - loss: 0.0845 - accuracy: 0.9909 - val_loss: 0.0840 - val_accuracy: 0.9920 - 6s/epoch - 5ms/step\n",
            "Epoch 235/300\n",
            "1149/1149 - 7s - loss: 0.0844 - accuracy: 0.9909 - val_loss: 0.0856 - val_accuracy: 0.9909 - 7s/epoch - 6ms/step\n",
            "Epoch 236/300\n",
            "1149/1149 - 6s - loss: 0.0845 - accuracy: 0.9909 - val_loss: 0.0870 - val_accuracy: 0.9885 - 6s/epoch - 6ms/step\n",
            "Epoch 237/300\n",
            "1149/1149 - 6s - loss: 0.0841 - accuracy: 0.9909 - val_loss: 0.0846 - val_accuracy: 0.9911 - 6s/epoch - 6ms/step\n",
            "Epoch 238/300\n",
            "1149/1149 - 6s - loss: 0.0842 - accuracy: 0.9909 - val_loss: 0.0842 - val_accuracy: 0.9912 - 6s/epoch - 5ms/step\n",
            "Epoch 239/300\n",
            "1149/1149 - 7s - loss: 0.0841 - accuracy: 0.9909 - val_loss: 0.0844 - val_accuracy: 0.9909 - 7s/epoch - 6ms/step\n",
            "Epoch 240/300\n",
            "1149/1149 - 6s - loss: 0.0839 - accuracy: 0.9910 - val_loss: 0.0848 - val_accuracy: 0.9909 - 6s/epoch - 5ms/step\n",
            "Epoch 241/300\n",
            "1149/1149 - 7s - loss: 0.0839 - accuracy: 0.9909 - val_loss: 0.0857 - val_accuracy: 0.9910 - 7s/epoch - 6ms/step\n",
            "Epoch 242/300\n",
            "1149/1149 - 6s - loss: 0.0838 - accuracy: 0.9910 - val_loss: 0.0845 - val_accuracy: 0.9909 - 6s/epoch - 6ms/step\n",
            "Epoch 243/300\n",
            "1149/1149 - 6s - loss: 0.0836 - accuracy: 0.9910 - val_loss: 0.0859 - val_accuracy: 0.9890 - 6s/epoch - 6ms/step\n",
            "Epoch 244/300\n",
            "1149/1149 - 6s - loss: 0.0837 - accuracy: 0.9910 - val_loss: 0.0850 - val_accuracy: 0.9909 - 6s/epoch - 5ms/step\n",
            "Epoch 245/300\n",
            "1149/1149 - 6s - loss: 0.0836 - accuracy: 0.9910 - val_loss: 0.0844 - val_accuracy: 0.9913 - 6s/epoch - 6ms/step\n",
            "Epoch 246/300\n",
            "1149/1149 - 7s - loss: 0.0836 - accuracy: 0.9909 - val_loss: 0.0845 - val_accuracy: 0.9910 - 7s/epoch - 6ms/step\n",
            "Epoch 247/300\n",
            "1149/1149 - 6s - loss: 0.0834 - accuracy: 0.9910 - val_loss: 0.0833 - val_accuracy: 0.9915 - 6s/epoch - 5ms/step\n",
            "Epoch 248/300\n",
            "1149/1149 - 6s - loss: 0.0833 - accuracy: 0.9910 - val_loss: 0.0826 - val_accuracy: 0.9911 - 6s/epoch - 5ms/step\n",
            "Epoch 249/300\n",
            "1149/1149 - 7s - loss: 0.0832 - accuracy: 0.9910 - val_loss: 0.0859 - val_accuracy: 0.9906 - 7s/epoch - 6ms/step\n",
            "Epoch 250/300\n",
            "1149/1149 - 6s - loss: 0.0834 - accuracy: 0.9909 - val_loss: 0.0836 - val_accuracy: 0.9902 - 6s/epoch - 6ms/step\n",
            "Epoch 251/300\n",
            "1149/1149 - 7s - loss: 0.0831 - accuracy: 0.9911 - val_loss: 0.0841 - val_accuracy: 0.9889 - 7s/epoch - 6ms/step\n",
            "Epoch 252/300\n",
            "1149/1149 - 7s - loss: 0.0831 - accuracy: 0.9910 - val_loss: 0.0839 - val_accuracy: 0.9902 - 7s/epoch - 6ms/step\n",
            "Epoch 253/300\n",
            "1149/1149 - 6s - loss: 0.0832 - accuracy: 0.9909 - val_loss: 0.0832 - val_accuracy: 0.9916 - 6s/epoch - 6ms/step\n",
            "Epoch 254/300\n",
            "1149/1149 - 7s - loss: 0.0828 - accuracy: 0.9910 - val_loss: 0.0819 - val_accuracy: 0.9904 - 7s/epoch - 6ms/step\n",
            "Epoch 255/300\n",
            "1149/1149 - 6s - loss: 0.0828 - accuracy: 0.9911 - val_loss: 0.0835 - val_accuracy: 0.9911 - 6s/epoch - 6ms/step\n",
            "Epoch 256/300\n",
            "1149/1149 - 6s - loss: 0.0830 - accuracy: 0.9910 - val_loss: 0.0827 - val_accuracy: 0.9919 - 6s/epoch - 5ms/step\n",
            "Epoch 257/300\n",
            "1149/1149 - 7s - loss: 0.0824 - accuracy: 0.9912 - val_loss: 0.0826 - val_accuracy: 0.9908 - 7s/epoch - 6ms/step\n",
            "Epoch 258/300\n",
            "1149/1149 - 6s - loss: 0.0828 - accuracy: 0.9910 - val_loss: 0.0833 - val_accuracy: 0.9905 - 6s/epoch - 5ms/step\n",
            "Epoch 259/300\n",
            "1149/1149 - 6s - loss: 0.0829 - accuracy: 0.9910 - val_loss: 0.0838 - val_accuracy: 0.9924 - 6s/epoch - 6ms/step\n",
            "Epoch 260/300\n",
            "1149/1149 - 6s - loss: 0.0827 - accuracy: 0.9910 - val_loss: 0.0822 - val_accuracy: 0.9915 - 6s/epoch - 6ms/step\n",
            "Epoch 261/300\n",
            "1149/1149 - 6s - loss: 0.0823 - accuracy: 0.9911 - val_loss: 0.0844 - val_accuracy: 0.9910 - 6s/epoch - 5ms/step\n",
            "Epoch 262/300\n",
            "1149/1149 - 6s - loss: 0.0823 - accuracy: 0.9911 - val_loss: 0.0818 - val_accuracy: 0.9920 - 6s/epoch - 6ms/step\n",
            "Epoch 263/300\n",
            "1149/1149 - 6s - loss: 0.0824 - accuracy: 0.9910 - val_loss: 0.0814 - val_accuracy: 0.9913 - 6s/epoch - 6ms/step\n",
            "Epoch 264/300\n",
            "1149/1149 - 6s - loss: 0.0821 - accuracy: 0.9911 - val_loss: 0.0859 - val_accuracy: 0.9897 - 6s/epoch - 6ms/step\n",
            "Epoch 265/300\n",
            "1149/1149 - 6s - loss: 0.0822 - accuracy: 0.9911 - val_loss: 0.0813 - val_accuracy: 0.9922 - 6s/epoch - 5ms/step\n",
            "Epoch 266/300\n",
            "1149/1149 - 6s - loss: 0.0821 - accuracy: 0.9910 - val_loss: 0.0817 - val_accuracy: 0.9915 - 6s/epoch - 6ms/step\n",
            "Epoch 267/300\n",
            "1149/1149 - 6s - loss: 0.0818 - accuracy: 0.9912 - val_loss: 0.0829 - val_accuracy: 0.9905 - 6s/epoch - 6ms/step\n",
            "Epoch 268/300\n",
            "1149/1149 - 6s - loss: 0.0821 - accuracy: 0.9911 - val_loss: 0.0822 - val_accuracy: 0.9916 - 6s/epoch - 6ms/step\n",
            "Epoch 269/300\n",
            "1149/1149 - 6s - loss: 0.0818 - accuracy: 0.9912 - val_loss: 0.0817 - val_accuracy: 0.9921 - 6s/epoch - 6ms/step\n",
            "Epoch 270/300\n",
            "1149/1149 - 7s - loss: 0.0821 - accuracy: 0.9910 - val_loss: 0.0817 - val_accuracy: 0.9906 - 7s/epoch - 6ms/step\n",
            "Epoch 271/300\n",
            "1149/1149 - 8s - loss: 0.0820 - accuracy: 0.9911 - val_loss: 0.0826 - val_accuracy: 0.9903 - 8s/epoch - 7ms/step\n",
            "Epoch 272/300\n",
            "1149/1149 - 7s - loss: 0.0816 - accuracy: 0.9912 - val_loss: 0.0824 - val_accuracy: 0.9912 - 7s/epoch - 6ms/step\n",
            "Epoch 273/300\n",
            "1149/1149 - 7s - loss: 0.0813 - accuracy: 0.9913 - val_loss: 0.0811 - val_accuracy: 0.9920 - 7s/epoch - 6ms/step\n",
            "Epoch 274/300\n",
            "1149/1149 - 7s - loss: 0.0819 - accuracy: 0.9911 - val_loss: 0.0808 - val_accuracy: 0.9914 - 7s/epoch - 6ms/step\n",
            "Epoch 275/300\n",
            "1149/1149 - 7s - loss: 0.0813 - accuracy: 0.9912 - val_loss: 0.0806 - val_accuracy: 0.9909 - 7s/epoch - 6ms/step\n",
            "Epoch 276/300\n",
            "1149/1149 - 6s - loss: 0.0815 - accuracy: 0.9911 - val_loss: 0.0832 - val_accuracy: 0.9896 - 6s/epoch - 5ms/step\n",
            "Epoch 277/300\n",
            "1149/1149 - 6s - loss: 0.0814 - accuracy: 0.9911 - val_loss: 0.0811 - val_accuracy: 0.9908 - 6s/epoch - 5ms/step\n",
            "Epoch 278/300\n",
            "1149/1149 - 6s - loss: 0.0812 - accuracy: 0.9912 - val_loss: 0.0805 - val_accuracy: 0.9909 - 6s/epoch - 6ms/step\n",
            "Epoch 279/300\n",
            "1149/1149 - 7s - loss: 0.0813 - accuracy: 0.9912 - val_loss: 0.0851 - val_accuracy: 0.9886 - 7s/epoch - 6ms/step\n",
            "Epoch 280/300\n",
            "1149/1149 - 7s - loss: 0.0812 - accuracy: 0.9912 - val_loss: 0.0807 - val_accuracy: 0.9919 - 7s/epoch - 6ms/step\n",
            "Epoch 281/300\n",
            "1149/1149 - 7s - loss: 0.0810 - accuracy: 0.9912 - val_loss: 0.0806 - val_accuracy: 0.9911 - 7s/epoch - 6ms/step\n",
            "Epoch 282/300\n",
            "1149/1149 - 6s - loss: 0.0812 - accuracy: 0.9911 - val_loss: 0.0804 - val_accuracy: 0.9915 - 6s/epoch - 5ms/step\n",
            "Epoch 283/300\n",
            "1149/1149 - 7s - loss: 0.0808 - accuracy: 0.9912 - val_loss: 0.0808 - val_accuracy: 0.9922 - 7s/epoch - 6ms/step\n",
            "Epoch 284/300\n",
            "1149/1149 - 6s - loss: 0.0807 - accuracy: 0.9913 - val_loss: 0.0801 - val_accuracy: 0.9915 - 6s/epoch - 5ms/step\n",
            "Epoch 285/300\n",
            "1149/1149 - 7s - loss: 0.0810 - accuracy: 0.9912 - val_loss: 0.0814 - val_accuracy: 0.9910 - 7s/epoch - 6ms/step\n",
            "Epoch 286/300\n",
            "1149/1149 - 6s - loss: 0.0807 - accuracy: 0.9912 - val_loss: 0.0816 - val_accuracy: 0.9896 - 6s/epoch - 6ms/step\n",
            "Epoch 287/300\n",
            "1149/1149 - 7s - loss: 0.0809 - accuracy: 0.9913 - val_loss: 0.0811 - val_accuracy: 0.9910 - 7s/epoch - 6ms/step\n",
            "Epoch 288/300\n",
            "1149/1149 - 6s - loss: 0.0806 - accuracy: 0.9913 - val_loss: 0.0816 - val_accuracy: 0.9904 - 6s/epoch - 5ms/step\n",
            "Epoch 289/300\n",
            "1149/1149 - 7s - loss: 0.0806 - accuracy: 0.9913 - val_loss: 0.0804 - val_accuracy: 0.9908 - 7s/epoch - 6ms/step\n",
            "Epoch 290/300\n",
            "1149/1149 - 6s - loss: 0.0806 - accuracy: 0.9912 - val_loss: 0.0798 - val_accuracy: 0.9913 - 6s/epoch - 5ms/step\n",
            "Epoch 291/300\n",
            "1149/1149 - 7s - loss: 0.0804 - accuracy: 0.9913 - val_loss: 0.0803 - val_accuracy: 0.9920 - 7s/epoch - 6ms/step\n",
            "Epoch 292/300\n",
            "1149/1149 - 6s - loss: 0.0803 - accuracy: 0.9913 - val_loss: 0.0803 - val_accuracy: 0.9911 - 6s/epoch - 6ms/step\n",
            "Epoch 293/300\n",
            "1149/1149 - 7s - loss: 0.0803 - accuracy: 0.9913 - val_loss: 0.0821 - val_accuracy: 0.9915 - 7s/epoch - 6ms/step\n",
            "Epoch 294/300\n",
            "1149/1149 - 6s - loss: 0.0804 - accuracy: 0.9913 - val_loss: 0.0825 - val_accuracy: 0.9899 - 6s/epoch - 6ms/step\n",
            "Epoch 295/300\n",
            "1149/1149 - 7s - loss: 0.0801 - accuracy: 0.9913 - val_loss: 0.0789 - val_accuracy: 0.9916 - 7s/epoch - 6ms/step\n",
            "Epoch 296/300\n",
            "1149/1149 - 6s - loss: 0.0803 - accuracy: 0.9913 - val_loss: 0.0806 - val_accuracy: 0.9915 - 6s/epoch - 5ms/step\n",
            "Epoch 297/300\n",
            "1149/1149 - 6s - loss: 0.0802 - accuracy: 0.9913 - val_loss: 0.0820 - val_accuracy: 0.9894 - 6s/epoch - 6ms/step\n",
            "Epoch 298/300\n",
            "1149/1149 - 6s - loss: 0.0802 - accuracy: 0.9913 - val_loss: 0.0869 - val_accuracy: 0.9876 - 6s/epoch - 6ms/step\n",
            "Epoch 299/300\n",
            "1149/1149 - 7s - loss: 0.0801 - accuracy: 0.9912 - val_loss: 0.0793 - val_accuracy: 0.9921 - 7s/epoch - 6ms/step\n",
            "Epoch 300/300\n",
            "1149/1149 - 6s - loss: 0.0799 - accuracy: 0.9913 - val_loss: 0.0795 - val_accuracy: 0.9904 - 6s/epoch - 6ms/step\n"
          ]
        }
      ],
      "source": [
        "from keras.callbacks import EarlyStopping\n",
        "\n",
        "# Use EarlyStopping to prevent overfitting\n",
        "early_stopping = EarlyStopping(monitor='val_loss', patience=pat_earlyStop, restore_best_weights=True)\n",
        "\n",
        "history = model.fit(X_train, y_train,  batch_size=train_batch_size, epochs=e, verbose=2, validation_data=(X_val, y_val), callbacks=[early_stopping]) #class_weight=class_weight_dict\n",
        "#\n",
        "#"
      ]
    },
    {
      "cell_type": "markdown",
      "metadata": {
        "id": "JK2WaaIKVdo_"
      },
      "source": [
        "# **Valutazione**"
      ]
    },
    {
      "cell_type": "code",
      "source": [
        "plt.plot(history.history['loss'])\n",
        "plt.plot(history.history['val_loss'])\n",
        "plt.title('Curve Loss del modello IDS-MLP')\n",
        "plt.xlabel('Epoche')\n",
        "plt.ylabel('Loss')\n",
        "plt.legend(['Train', 'Validation'], loc='upper right')\n",
        "\n",
        "#salva in Drive\n",
        "images_dir = '/content/drive/MyDrive/Colab Notebooks/progettoTesi/grafici_pdf/ids-easy/finali'\n",
        "plt.savefig(f\"{images_dir}/IDS-MLP_GraficoLosses_REAL_Train-Valid_CW.pdf\", dpi=200, format='pdf')\n",
        "\n",
        "\n",
        "plt.show()"
      ],
      "metadata": {
        "colab": {
          "base_uri": "https://localhost:8080/"
        },
        "id": "ikn62xa2wtvV",
        "outputId": "44475c02-b57c-4dc2-9c1c-237013373e5a"
      },
      "execution_count": null,
      "outputs": [
        {
          "output_type": "display_data",
          "data": {
            "text/plain": [
              "<Figure size 640x480 with 1 Axes>"
            ],
            "image/png": "[encoded data removed]"
          },
          "metadata": {}
        }
      ]
    },
    {
      "cell_type": "code",
      "execution_count": null,
      "metadata": {
        "colab": {
          "base_uri": "https://localhost:8080/"
        },
        "id": "jUQtPg9H9DlZ",
        "outputId": "8dbf5738-90ea-462a-ff3a-bc57e45da458"
      },
      "outputs": [
        {
          "output_type": "display_data",
          "data": {
            "text/plain": [
              "<Figure size 640x480 with 1 Axes>"
            ],
            "image/png": "[encoded data removed]"
          },
          "metadata": {}
        }
      ],
      "source": [
        "plt.plot(history.history['accuracy'])\n",
        "plt.plot(history.history['val_accuracy'])\n",
        "plt.title('Accuratezza del modello')\n",
        "plt.xlabel('Epoche')\n",
        "plt.ylabel('Accuratezza')\n",
        "plt.legend(['Train', 'Validation'], loc='lower right')\n",
        "\n",
        "#salva in Drive\n",
        "plt.savefig(f\"{images_dir}/IDS-MLP_GraficoAccuratezza_REAL_Train-Valid_CW.pdf\", dpi=200, format='pdf')\n",
        "\n",
        "plt.show()"
      ]
    },
    {
      "cell_type": "code",
      "execution_count": null,
      "metadata": {
        "colab": {
          "base_uri": "https://localhost:8080/"
        },
        "id": "pak7xNkXcuJE",
        "outputId": "03ff10cd-88c8-4eee-d301-3480df6684d9"
      },
      "outputs": [
        {
          "output_type": "stream",
          "name": "stdout",
          "text": [
            "1231/1231 - 3s - loss: 0.0780 - accuracy: 0.9908 - 3s/epoch - 2ms/step\n",
            "======================================\n",
            "Test Loss: 0.07804572582244873\n",
            "Test Accuracy: 0.9907529354095459\n"
          ]
        }
      ],
      "source": [
        "eval_result  = model.evaluate(X_test, y_test, verbose=2, batch_size=512) #The model evaluates the test dataset in batches to save memory and computational resources.\n",
        "\n",
        "# Get loss and accuracy from the evaluation result\n",
        "loss = eval_result[0]\n",
        "accuracy = eval_result[1]\n",
        "\n",
        "print(\"======================================\")\n",
        "print(f\"Test Loss: {eval_result[0]}\")\n",
        "print(f\"Test Accuracy: {eval_result[1]}\")"
      ]
    },
    {
      "cell_type": "code",
      "execution_count": null,
      "metadata": {
        "colab": {
          "base_uri": "https://localhost:8080/"
        },
        "id": "grlaDUPkemHA",
        "outputId": "f0dd6591-11bf-4572-fc43-b808d35491af"
      },
      "outputs": [
        {
          "output_type": "stream",
          "name": "stdout",
          "text": [
            "19686/19686 [==============================] - 26s 1ms/step\n"
          ]
        }
      ],
      "source": [
        "# predictions // number of times the model classified an input as each class\n",
        "\n",
        "# import numpy for argmax function // returns the max value on an axis... index with max value is predicted class\n",
        "import numpy as np\n",
        "\n",
        "y_prediction = model.predict(X_test)\n",
        "y_pred_classes= np.argmax(y_prediction, axis=1)"
      ]
    },
    {
      "cell_type": "code",
      "execution_count": null,
      "metadata": {
        "colab": {
          "base_uri": "https://localhost:8080/"
        },
        "id": "O72eKlWGlGRP",
        "outputId": "430e9cc1-fc2b-402d-fe96-bc791901750d"
      },
      "outputs": [
        {
          "output_type": "execute_result",
          "data": {
            "text/plain": [
              "0    479591\n",
              "1     70712\n",
              "3     51123\n",
              "2     28503\n",
              "4         2\n",
              "Name: count, dtype: int64"
            ]
          },
          "metadata": {},
          "execution_count": 16
        }
      ],
      "source": [
        "df_y_pred_classes = pd.DataFrame(y_pred_classes)\n",
        "df_y_pred_classes.value_counts()"
      ]
    },
    {
      "cell_type": "code",
      "execution_count": null,
      "metadata": {
        "id": "9a4KZXZ8EhEC"
      },
      "outputs": [],
      "source": [
        "y_test_rounded = np.argmax(y_test, axis=1)"
      ]
    },
    {
      "cell_type": "markdown",
      "metadata": {
        "id": "G1u9Ngf--bOj"
      },
      "source": [
        "The balanced accuracy score is designed to address the issue of class imbalance. It calculates the average accuracy for each class and then computes the mean of these per-class accuracies"
      ]
    },
    {
      "cell_type": "code",
      "execution_count": null,
      "metadata": {
        "colab": {
          "base_uri": "https://localhost:8080/"
        },
        "id": "iWPHXt-NKs3a",
        "outputId": "066b24fc-bd89-44b7-c5ed-876353368781"
      },
      "outputs": [
        {
          "output_type": "stream",
          "name": "stdout",
          "text": [
            "Balanced Accuracy: 0.6615418254432767\n",
            "Accuracy: 0.9907529554824258\n"
          ]
        }
      ],
      "source": [
        "from sklearn.metrics import balanced_accuracy_score, accuracy_score\n",
        "\n",
        "balanced_accuracy = balanced_accuracy_score(y_test_rounded, y_pred_classes)\n",
        "print('Balanced Accuracy:', balanced_accuracy)\n",
        "accuracy = accuracy_score(y_test_rounded, y_pred_classes)\n",
        "print('Accuracy:', accuracy)"
      ]
    },
    {
      "cell_type": "code",
      "execution_count": null,
      "metadata": {
        "colab": {
          "base_uri": "https://localhost:8080/"
        },
        "id": "pgX-grKvqmIb",
        "outputId": "8ca5c98a-d94f-41a7-c888-cb3cca4d0a7f"
      },
      "outputs": [
        {
          "output_type": "stream",
          "name": "stdout",
          "text": [
            "ZERO_DIVISION=1\n",
            "Precision: 0.987494\n",
            "Macro Precision: 0.825744\n",
            "======================\n",
            "Recall: 0.990753\n",
            "Macro Recall: 0.661542\n",
            "=======================\n",
            "F1 score: 0.988934\n",
            "Macro F1 score: 0.660290\n"
          ]
        }
      ],
      "source": [
        "from sklearn.metrics import precision_score, recall_score, f1_score\n",
        "print(\"ZERO_DIVISION=1\")\n",
        "precision = precision_score(y_test_rounded, y_pred_classes, average='weighted', zero_division=1)\n",
        "print('Precision: %f' % precision)\n",
        "m_precision = precision_score(y_test_rounded, y_pred_classes, average='macro', zero_division=1)\n",
        "print('Macro Precision: %f' % m_precision)\n",
        "print(\"======================\")\n",
        "recall = recall_score(y_test_rounded, y_pred_classes, average='weighted', zero_division=1)\n",
        "print('Recall: %f' % recall)\n",
        "m_recall = recall_score(y_test_rounded, y_pred_classes, average='macro', zero_division=1)\n",
        "print('Macro Recall: %f' % m_recall)\n",
        "print(\"=======================\")\n",
        "f1 = f1_score(y_test_rounded, y_pred_classes, average='weighted', zero_division=1)\n",
        "print('F1 score: %f' % f1)\n",
        "m_f1 = f1_score(y_test_rounded, y_pred_classes, average='macro', zero_division=1)\n",
        "print('Macro F1 score: %f' % m_f1)"
      ]
    },
    {
      "cell_type": "code",
      "source": [
        "from sklearn.metrics import precision_score, recall_score, f1_score\n",
        "print(\"-----------------SENZA ZERO_DIVISION=1---------------------\")\n",
        "precision = precision_score(y_test_rounded, y_pred_classes, average='weighted')\n",
        "print('Precision: %f' % precision)\n",
        "m_precision = precision_score(y_test_rounded, y_pred_classes, average='macro')\n",
        "print('Macro Precision: %f' % m_precision)\n",
        "print(\"======================\")\n",
        "recall = recall_score(y_test_rounded, y_pred_classes, average='weighted')\n",
        "print('Recall: %f' % recall)\n",
        "m_recall = recall_score(y_test_rounded, y_pred_classes, average='macro')\n",
        "print('Macro Recall: %f' % m_recall)\n",
        "print(\"=======================\")\n",
        "f1 = f1_score(y_test_rounded, y_pred_classes, average='weighted')\n",
        "print('F1 score: %f' % f1)\n",
        "m_f1 = f1_score(y_test_rounded, y_pred_classes, average='macro')\n",
        "print('Macro F1 score: %f' % m_f1)"
      ],
      "metadata": {
        "colab": {
          "base_uri": "https://localhost:8080/"
        },
        "id": "0dVdBRdZmqHu",
        "outputId": "e968415e-3874-4404-c31d-2c0d466bb062"
      },
      "execution_count": null,
      "outputs": [
        {
          "output_type": "stream",
          "name": "stdout",
          "text": [
            "-----------------SENZA ZERO_DIVISION=1---------------------\n"
          ]
        },
        {
          "output_type": "stream",
          "name": "stderr",
          "text": [
            "/usr/local/lib/python3.10/dist-packages/sklearn/metrics/_classification.py:1344: UndefinedMetricWarning: Precision is ill-defined and being set to 0.0 in labels with no predicted samples. Use `zero_division` parameter to control this behavior.\n",
            "  _warn_prf(average, modifier, msg_start, len(result))\n"
          ]
        },
        {
          "output_type": "stream",
          "name": "stdout",
          "text": [
            "Precision: 0.987143\n"
          ]
        },
        {
          "output_type": "stream",
          "name": "stderr",
          "text": [
            "/usr/local/lib/python3.10/dist-packages/sklearn/metrics/_classification.py:1344: UndefinedMetricWarning: Precision is ill-defined and being set to 0.0 in labels with no predicted samples. Use `zero_division` parameter to control this behavior.\n",
            "  _warn_prf(average, modifier, msg_start, len(result))\n"
          ]
        },
        {
          "output_type": "stream",
          "name": "stdout",
          "text": [
            "Macro Precision: 0.659078\n",
            "======================\n",
            "Recall: 0.990753\n",
            "Macro Recall: 0.661542\n",
            "=======================\n",
            "F1 score: 0.988934\n",
            "Macro F1 score: 0.660290\n"
          ]
        }
      ]
    },
    {
      "cell_type": "code",
      "source": [
        "from sklearn.metrics import precision_score, recall_score, f1_score\n",
        "print(\"ZERO_DIVISION=0\")\n",
        "precision = precision_score(y_test_rounded, y_pred_classes, average='weighted', zero_division=0)\n",
        "print('Precision: %f' % precision)\n",
        "m_precision = precision_score(y_test_rounded, y_pred_classes, average='macro', zero_division=0)\n",
        "print('Macro Precision: %f' % m_precision)\n",
        "print(\"======================\")\n",
        "recall = recall_score(y_test_rounded, y_pred_classes, average='weighted', zero_division=0)\n",
        "print('Recall: %f' % recall)\n",
        "m_recall = recall_score(y_test_rounded, y_pred_classes, average='macro', zero_division=0)\n",
        "print('Macro Recall: %f' % m_recall)\n",
        "print(\"=======================\")\n",
        "f1 = f1_score(y_test_rounded, y_pred_classes, average='weighted', zero_division=0)\n",
        "print('F1 score: %f' % f1)\n",
        "m_f1 = f1_score(y_test_rounded, y_pred_classes, average='macro', zero_division=0)\n",
        "print('Macro F1 score: %f' % m_f1)"
      ],
      "metadata": {
        "colab": {
          "base_uri": "https://localhost:8080/"
        },
        "id": "ZrIqOiqFqFmZ",
        "outputId": "cc165be7-e62e-4cb4-ee54-0a340eec9c62"
      },
      "execution_count": null,
      "outputs": [
        {
          "output_type": "stream",
          "name": "stdout",
          "text": [
            "ZERO_DIVISION=0\n",
            "Precision: 0.987143\n",
            "Macro Precision: 0.659078\n",
            "======================\n",
            "Recall: 0.990753\n",
            "Macro Recall: 0.661542\n",
            "=======================\n",
            "F1 score: 0.988934\n",
            "Macro F1 score: 0.660290\n"
          ]
        }
      ]
    },
    {
      "cell_type": "code",
      "execution_count": null,
      "metadata": {
        "colab": {
          "base_uri": "https://localhost:8080/"
        },
        "id": "0eBn2w4sK7uL",
        "outputId": "5c763ca9-898c-4dc7-c7db-aba5dd88da2a"
      },
      "outputs": [
        {
          "output_type": "stream",
          "name": "stdout",
          "text": [
            "Precision per class: [0.99287101 0.97280518 0.99593025 0.99286036 0.         1.        ]\n",
            "Recall per class: [0.99549471 0.9932569  0.9946391  0.98586023 0.         0.        ]\n",
            "F1 score per class: [0.99418113 0.98292467 0.99528426 0.98934791 0.         0.        ]\n"
          ]
        }
      ],
      "source": [
        "from sklearn.metrics import precision_recall_fscore_support\n",
        "\n",
        "precision, recall, f1, _ = precision_recall_fscore_support(y_test_rounded, y_pred_classes, average=None, zero_division=1)\n",
        "print('Precision per class:', precision)\n",
        "print('Recall per class:', recall)\n",
        "print('F1 score per class:', f1)"
      ]
    },
    {
      "cell_type": "code",
      "source": [
        "from sklearn.metrics import precision_recall_fscore_support\n",
        "\n",
        "precision, recall, f1, _ = precision_recall_fscore_support(y_test_rounded, y_pred_classes, average=None)\n",
        "print('Precision per class:', precision)\n",
        "print('Recall per class:', recall)\n",
        "print('F1 score per class:', f1)"
      ],
      "metadata": {
        "colab": {
          "base_uri": "https://localhost:8080/"
        },
        "id": "asKngo3see9Z",
        "outputId": "4cc02bbd-a5c8-47d5-dd97-3587b9e4483a"
      },
      "execution_count": null,
      "outputs": [
        {
          "output_type": "stream",
          "name": "stdout",
          "text": [
            "Precision per class: [0.99287101 0.97280518 0.99593025 0.99286036 0.         0.        ]\n",
            "Recall per class: [0.99549471 0.9932569  0.9946391  0.98586023 0.         0.        ]\n",
            "F1 score per class: [0.99418113 0.98292467 0.99528426 0.98934791 0.         0.        ]\n"
          ]
        },
        {
          "output_type": "stream",
          "name": "stderr",
          "text": [
            "/usr/local/lib/python3.10/dist-packages/sklearn/metrics/_classification.py:1344: UndefinedMetricWarning: Precision and F-score are ill-defined and being set to 0.0 in labels with no predicted samples. Use `zero_division` parameter to control this behavior.\n",
            "  _warn_prf(average, modifier, msg_start, len(result))\n"
          ]
        }
      ]
    },
    {
      "cell_type": "code",
      "source": [
        "from sklearn.metrics import precision_recall_fscore_support\n",
        "\n",
        "precision, recall, f1, _ = precision_recall_fscore_support(y_test_rounded, y_pred_classes, average=None, zero_division=0)\n",
        "print('Precision per class:', precision)\n",
        "print('Recall per class:', recall)\n",
        "print('F1 score per class:', f1)"
      ],
      "metadata": {
        "colab": {
          "base_uri": "https://localhost:8080/"
        },
        "id": "CRTl7noiqW31",
        "outputId": "d798599a-760d-4e9c-fd4c-78faf829f22a"
      },
      "execution_count": null,
      "outputs": [
        {
          "output_type": "stream",
          "name": "stdout",
          "text": [
            "Precision per class: [0.99287101 0.97280518 0.99593025 0.99286036 0.         0.        ]\n",
            "Recall per class: [0.99549471 0.9932569  0.9946391  0.98586023 0.         0.        ]\n",
            "F1 score per class: [0.99418113 0.98292467 0.99528426 0.98934791 0.         0.        ]\n"
          ]
        }
      ]
    },
    {
      "cell_type": "code",
      "execution_count": null,
      "metadata": {
        "colab": {
          "base_uri": "https://localhost:8080/"
        },
        "id": "SmMuMCqEzKiv",
        "outputId": "078ada96-ee95-45a8-e24f-9961eaaa4ffa"
      },
      "outputs": [
        {
          "output_type": "stream",
          "name": "stdout",
          "text": [
            "              precision    recall  f1-score   support\n",
            "\n",
            "           0       0.99      1.00      0.99    478327\n",
            "           1       0.97      0.99      0.98     69256\n",
            "           2       1.00      0.99      1.00     28540\n",
            "           3       0.99      0.99      0.99     51486\n",
            "           4       0.00      0.00      0.00      2101\n",
            "           5       1.00      0.00      0.00       221\n",
            "\n",
            "    accuracy                           0.99    629931\n",
            "   macro avg       0.83      0.66      0.66    629931\n",
            "weighted avg       0.99      0.99      0.99    629931\n",
            "\n"
          ]
        }
      ],
      "source": [
        "from sklearn.metrics import classification_report\n",
        "repo = classification_report(y_test_rounded, y_pred_classes, zero_division=1) #zero_division=1 perchè non ha imparato alcune classi\n",
        "print(repo)"
      ]
    },
    {
      "cell_type": "code",
      "source": [
        "from sklearn.metrics import classification_report\n",
        "report = classification_report(y_test_rounded, y_pred_classes)\n",
        "print(repo)"
      ],
      "metadata": {
        "colab": {
          "base_uri": "https://localhost:8080/"
        },
        "id": "KbMderBfelGb",
        "outputId": "2acb3c59-7e86-4c6e-c038-7cdd786fe875"
      },
      "execution_count": null,
      "outputs": [
        {
          "output_type": "stream",
          "name": "stderr",
          "text": [
            "/usr/local/lib/python3.10/dist-packages/sklearn/metrics/_classification.py:1344: UndefinedMetricWarning: Precision and F-score are ill-defined and being set to 0.0 in labels with no predicted samples. Use `zero_division` parameter to control this behavior.\n",
            "  _warn_prf(average, modifier, msg_start, len(result))\n",
            "/usr/local/lib/python3.10/dist-packages/sklearn/metrics/_classification.py:1344: UndefinedMetricWarning: Precision and F-score are ill-defined and being set to 0.0 in labels with no predicted samples. Use `zero_division` parameter to control this behavior.\n",
            "  _warn_prf(average, modifier, msg_start, len(result))\n"
          ]
        },
        {
          "output_type": "stream",
          "name": "stdout",
          "text": [
            "              precision    recall  f1-score   support\n",
            "\n",
            "           0       0.99      1.00      0.99    478327\n",
            "           1       0.97      0.99      0.98     69256\n",
            "           2       1.00      0.99      1.00     28540\n",
            "           3       0.99      0.99      0.99     51486\n",
            "           4       0.00      0.00      0.00      2101\n",
            "           5       0.00      0.00      0.00       221\n",
            "\n",
            "    accuracy                           0.99    629931\n",
            "   macro avg       0.66      0.66      0.66    629931\n",
            "weighted avg       0.99      0.99      0.99    629931\n",
            "\n"
          ]
        },
        {
          "output_type": "stream",
          "name": "stderr",
          "text": [
            "/usr/local/lib/python3.10/dist-packages/sklearn/metrics/_classification.py:1344: UndefinedMetricWarning: Precision and F-score are ill-defined and being set to 0.0 in labels with no predicted samples. Use `zero_division` parameter to control this behavior.\n",
            "  _warn_prf(average, modifier, msg_start, len(result))\n"
          ]
        }
      ]
    },
    {
      "cell_type": "code",
      "source": [
        "support_values = [int(line.split()[-1]) for line in report.split('\\n')[2:-5]]\n",
        "support_values"
      ],
      "metadata": {
        "colab": {
          "base_uri": "https://localhost:8080/"
        },
        "id": "Lwu7JU1HsKhB",
        "outputId": "c20747b9-9389-42bb-f11d-94a064a36bd3"
      },
      "execution_count": null,
      "outputs": [
        {
          "output_type": "execute_result",
          "data": {
            "text/plain": [
              "[478327, 69256, 28540, 51486, 2101, 221]"
            ]
          },
          "metadata": {},
          "execution_count": 38
        }
      ]
    },
    {
      "cell_type": "code",
      "source": [
        "import numpy as np\n",
        "\n",
        "# Per-class precision, recall, and F1-score\n",
        "#precision_per_class = np.array([0.99583953, 0.95441805, 0.99659015, 0.98839225, 1.0, 1.0])\n",
        "#recall_per_class = np.array([0.99530656, 0.99317027, 0.99334268, 0.98568543, 0.0, 0.0])\n",
        "#f1_score_per_class = np.array([0.99557297, 0.97340862, 0.99496376, 0.98703698, 0.0, 0.0])\n",
        "precision_per_class = np.array([0.99287101, 0.97280518, 0.99593025, 0.99286036, 0.0,         0.0        ])\n",
        "recall_per_class = np.array([0.99549471, 0.9932569,  0.9946391,  0.98586023, 0.0,         0.0        ])\n",
        "f1_score_per_class = np.array([0.99418113, 0.98292467, 0.99528426, 0.98934791, 0.0,         0.0        ])\n",
        "\n",
        "# Calculate weighted scores\n",
        "weighted_precision = np.average(precision_per_class, weights=support_values)\n",
        "weighted_recall = np.average(recall_per_class, weights=support_values)\n",
        "weighted_f1 = np.average(f1_score_per_class, weights=support_values)\n",
        "\n",
        "# Calculate macro scores\n",
        "macro_precision = np.mean(precision_per_class)\n",
        "macro_recall = np.mean(recall_per_class)\n",
        "macro_f1 = np.mean(f1_score_per_class)\n",
        "\n",
        "# Print results\n",
        "print('Weighted Precision:', weighted_precision)\n",
        "print('Weighted Recall:', weighted_recall)\n",
        "print('Weighted F1-score:', weighted_f1)\n",
        "print('Macro Precision:', macro_precision)\n",
        "print('Macro Recall:', macro_recall)\n",
        "print('Macro F1-score:', macro_f1)\n"
      ],
      "metadata": {
        "colab": {
          "base_uri": "https://localhost:8080/"
        },
        "id": "JHY7AeLGsPqk",
        "outputId": "f62d39c2-e097-41ac-bdb2-5827b0599eaa"
      },
      "execution_count": null,
      "outputs": [
        {
          "output_type": "stream",
          "name": "stdout",
          "text": [
            "Weighted Precision: 0.9871428219540077\n",
            "Weighted Recall: 0.9907529518825872\n",
            "Weighted F1-score: 0.9889338476590135\n",
            "Macro Precision: 0.6590777999999999\n",
            "Macro Recall: 0.6615418233333333\n",
            "Macro F1-score: 0.6602896616666666\n"
          ]
        }
      ]
    },
    {
      "cell_type": "code",
      "source": [
        "from sklearn.metrics import classification_report\n",
        "repo = classification_report(y_test_rounded, y_pred_classes, zero_division=0)\n",
        "print(repo)"
      ],
      "metadata": {
        "colab": {
          "base_uri": "https://localhost:8080/"
        },
        "id": "C3OpOZ3xpVsI",
        "outputId": "c850ef1e-4d00-4434-e5f3-85b8d4b1b05a"
      },
      "execution_count": null,
      "outputs": [
        {
          "output_type": "stream",
          "name": "stdout",
          "text": [
            "              precision    recall  f1-score   support\n",
            "\n",
            "           0       0.99      1.00      0.99    478327\n",
            "           1       0.97      0.99      0.98     69256\n",
            "           2       1.00      0.99      1.00     28540\n",
            "           3       0.99      0.99      0.99     51486\n",
            "           4       0.00      0.00      0.00      2101\n",
            "           5       0.00      0.00      0.00       221\n",
            "\n",
            "    accuracy                           0.99    629931\n",
            "   macro avg       0.66      0.66      0.66    629931\n",
            "weighted avg       0.99      0.99      0.99    629931\n",
            "\n"
          ]
        }
      ]
    },
    {
      "cell_type": "code",
      "source": [
        "# import plotting function and confusion matrix\n",
        "\n",
        "import matplotlib.pyplot as plt\n",
        "from sklearn.metrics import confusion_matrix\n",
        "import seaborn as sn"
      ],
      "metadata": {
        "id": "S-48zeMBKzeH"
      },
      "execution_count": null,
      "outputs": []
    },
    {
      "cell_type": "code",
      "source": [
        "labels = [0, 1, 2, 3, 4, 5]\n",
        "\n",
        "confusion_mat = confusion_matrix(y_test_rounded, y_pred_classes, labels=labels)\n",
        "\n",
        "sn.set(font_scale=2)\n",
        "\n",
        "plt.figure(figsize = (20,20))\n",
        "s = sn.heatmap(confusion_mat, annot = True)#, cmap = 'Blues',fmt='.2f'\n",
        "\n",
        "s.set_xlabel('Predetti')\n",
        "s.set_ylabel('Originali')\n",
        "\n",
        "plt.title(\"Performance IDS-MLP con Class Weighting\\n\")\n",
        "\n",
        "#salva in Drive\n",
        "plt.savefig(f\"{images_dir}/IDS-MLP_ConfusionMatrix_REAL_CW.pdf\", dpi=200, format='pdf') #ClassWeighting\n",
        "\n",
        "plt.show()"
      ],
      "metadata": {
        "colab": {
          "base_uri": "https://localhost:8080/",
          "height": 892
        },
        "id": "fMr1JrZFw1Uo",
        "outputId": "4c90072a-09b3-4e66-f819-2468f59f93cd"
      },
      "execution_count": null,
      "outputs": [
        {
          "output_type": "error",
          "ename": "NameError",
          "evalue": "name 'images_dir' is not defined",
          "traceback": [
            "\u001b[0;31m---------------------------------------------------------------------------\u001b[0m",
            "\u001b[0;31mNameError\u001b[0m                                 Traceback (most recent call last)",
            "\u001b[0;32m<ipython-input-28-14e862aa5e41>\u001b[0m in \u001b[0;36m<cell line: 16>\u001b[0;34m()\u001b[0m\n\u001b[1;32m     14\u001b[0m \u001b[0;34m\u001b[0m\u001b[0m\n\u001b[1;32m     15\u001b[0m \u001b[0;31m#salva in Drive\u001b[0m\u001b[0;34m\u001b[0m\u001b[0;34m\u001b[0m\u001b[0m\n\u001b[0;32m---> 16\u001b[0;31m \u001b[0mplt\u001b[0m\u001b[0;34m.\u001b[0m\u001b[0msavefig\u001b[0m\u001b[0;34m(\u001b[0m\u001b[0;34mf\"{images_dir}/IDS-MLP_ConfusionMatrix_REAL_CW.pdf\"\u001b[0m\u001b[0;34m,\u001b[0m \u001b[0mdpi\u001b[0m\u001b[0;34m=\u001b[0m\u001b[0;36m200\u001b[0m\u001b[0;34m,\u001b[0m \u001b[0mformat\u001b[0m\u001b[0;34m=\u001b[0m\u001b[0;34m'pdf'\u001b[0m\u001b[0;34m)\u001b[0m \u001b[0;31m#ClassWeighting\u001b[0m\u001b[0;34m\u001b[0m\u001b[0;34m\u001b[0m\u001b[0m\n\u001b[0m\u001b[1;32m     17\u001b[0m \u001b[0;34m\u001b[0m\u001b[0m\n\u001b[1;32m     18\u001b[0m \u001b[0mplt\u001b[0m\u001b[0;34m.\u001b[0m\u001b[0mshow\u001b[0m\u001b[0;34m(\u001b[0m\u001b[0;34m)\u001b[0m\u001b[0;34m\u001b[0m\u001b[0;34m\u001b[0m\u001b[0m\n",
            "\u001b[0;31mNameError\u001b[0m: name 'images_dir' is not defined"
          ]
        },
        {
          "output_type": "display_data",
          "data": {
            "text/plain": [
              "<Figure size 2000x2000 with 2 Axes>"
            ],
            "image/png": "[encoded data removed]"
          },
          "metadata": {}
        }
      ]
    },
    {
      "cell_type": "code",
      "source": [
        "labels = [0, 1, 2, 3, 4, 5]\n",
        "\n",
        "confusion_mat = confusion_matrix(y_test_rounded, y_pred_classes, labels=labels)\n",
        "\n",
        "# Calculate additional metrics\n",
        "for i in range(len(labels)):\n",
        "    tn = sum(confusion_mat[j, k] for j in range(len(labels)) if j != i for k in range(len(labels)) if k != i)\n",
        "    fp = sum(confusion_mat[j, i] for j in range(len(labels)) if j != i)\n",
        "    fn = sum(confusion_mat[i, k] for k in range(len(labels)) if k != i)\n",
        "    tp = confusion_mat[i, i]\n",
        "\n",
        "    # Display TP, TN, FP, FN\n",
        "    print(f\"Class {labels[i]} TP:\", tp)\n",
        "    print(f\"Class {labels[i]} TN:\", tn)\n",
        "    print(f\"Class {labels[i]} FP:\", fp)\n",
        "    print(f\"Class {labels[i]} FN:\", fn)\n",
        "    print(\"============================================\")"
      ],
      "metadata": {
        "colab": {
          "base_uri": "https://localhost:8080/"
        },
        "id": "Agek8D60R9wG",
        "outputId": "95a9f68e-f035-4070-ee12-3d8a917d4aa3"
      },
      "execution_count": null,
      "outputs": [
        {
          "output_type": "stream",
          "name": "stdout",
          "text": [
            "Class 0 TP: 476172\n",
            "Class 0 TN: 148185\n",
            "Class 0 FP: 3419\n",
            "Class 0 FN: 2155\n",
            "============================================\n",
            "Class 1 TP: 68789\n",
            "Class 1 TN: 558752\n",
            "Class 1 FP: 1923\n",
            "Class 1 FN: 467\n",
            "============================================\n",
            "Class 2 TP: 28387\n",
            "Class 2 TN: 601275\n",
            "Class 2 FP: 116\n",
            "Class 2 FN: 153\n",
            "============================================\n",
            "Class 3 TP: 50758\n",
            "Class 3 TN: 578080\n",
            "Class 3 FP: 365\n",
            "Class 3 FN: 728\n",
            "============================================\n",
            "Class 4 TP: 0\n",
            "Class 4 TN: 627828\n",
            "Class 4 FP: 2\n",
            "Class 4 FN: 2101\n",
            "============================================\n",
            "Class 5 TP: 0\n",
            "Class 5 TN: 629710\n",
            "Class 5 FP: 0\n",
            "Class 5 FN: 221\n",
            "============================================\n"
          ]
        }
      ]
    },
    {
      "cell_type": "code",
      "execution_count": null,
      "metadata": {
        "colab": {
          "base_uri": "https://localhost:8080/"
        },
        "id": "pW6bpRIKuBqf",
        "outputId": "5b977b50-4215-4569-88ce-c9249b17db06"
      },
      "outputs": [
        {
          "output_type": "stream",
          "name": "stdout",
          "text": [
            "Class 0 Specificity: 0.9959565710667265\n",
            "Class 0 False Positive Rate: 0.004043428933273529\n",
            "Class 1 Specificity: 0.985348018014001\n",
            "Class 1 False Positive Rate: 0.014651981985999018\n",
            "Class 2 Specificity: 0.9980029631304759\n",
            "Class 2 False Positive Rate: 0.001997036869524153\n",
            "Class 3 Specificity: 0.9887612478282292\n",
            "Class 3 False Positive Rate: 0.011238752171770868\n",
            "Class 4 Specificity: 0.9828456747845754\n",
            "Class 4 False Positive Rate: 0.017154325215424558\n",
            "Class 5 Specificity: 0.9972320592018549\n",
            "Class 5 False Positive Rate: 0.002767940798145178\n"
          ]
        }
      ],
      "source": [
        "labels = [0, 1, 2, 3, 4, 5]\n",
        "\n",
        "confusion_mat = confusion_matrix(y_test_rounded, y_pred_classes, labels=labels)\n",
        "\n",
        "# Calculate additional metrics\n",
        "for i in range(len(labels)):\n",
        "    tn = sum(confusion_mat[j, k] for j in range(len(labels)) if j != i for k in range(len(labels)) if k != i)\n",
        "    fp = sum(confusion_mat[j, i] for j in range(len(labels)) if j != i)\n",
        "    fn = sum(confusion_mat[i, k] for k in range(len(labels)) if k != i)\n",
        "    tp = confusion_mat[i, i]\n",
        "\n",
        "    # Calculate additional metrics\n",
        "    specificity = tn / (tn + fp)\n",
        "    false_positive_rate = fp / (fp + tn)\n",
        "\n",
        "    # Display additional metrics\n",
        "    print(f\"Class {labels[i]} Specificity:\", specificity)\n",
        "    print(f\"Class {labels[i]} False Positive Rate:\", false_positive_rate)\n"
      ]
    },
    {
      "cell_type": "markdown",
      "metadata": {
        "id": "IrToRaCVvCpO"
      },
      "source": [
        "* A ***high specificity*** indicates that the model is effective at avoiding false positives for a particular class.\n",
        "* A ***low false positive rate*** means the model is good at minimizing the number of instances from other classes mistakenly classified as positive for a particular class.\n",
        "\n",
        "Pay attention to specificity and false positive rate, especially for minority classes. In imbalanced datasets, these metrics help assess how well the model is handling the recognition of less frequent classes"
      ]
    },
    {
      "cell_type": "markdown",
      "metadata": {
        "id": "3-Hb8k_rvDc3"
      },
      "source": [
        "# Osservazioni con GAN"
      ]
    },
    {
      "cell_type": "markdown",
      "metadata": {
        "id": "MoVrgeQO9fi2"
      },
      "source": [
        "**ONLY GEN DATA FOR TRAINING**\n",
        "> It's important to note that while this approach can provide insights into the quality of the GAN-generated data, using a combination of real and generated data is often recommended for robust model training."
      ]
    },
    {
      "cell_type": "markdown",
      "metadata": {
        "id": "bjZRCrIO9qAI"
      },
      "source": [
        "## Altre osservazioni"
      ]
    },
    {
      "cell_type": "markdown",
      "metadata": {
        "id": "bVvXwea-80jI"
      },
      "source": [
        "The generated samples might be visually similar but lack the diversity and relevance needed to enhance the model's ability to generalize to different attack patterns.\n",
        "it may indicate that the GAN needs further refinement to better capture the complexities of the real dataset."
      ]
    },
    {
      "cell_type": "markdown",
      "metadata": {
        "id": "0TiL9kJ38SoQ"
      },
      "source": [
        "> Remember that the effectiveness of the GAN depends on how well it captures the complexity and diversity of the real dataset. If the GAN fails to generate samples that align with the real data distribution, the synthetic data may not contribute positively to the performance of the IDS model."
      ]
    },
    {
      "cell_type": "markdown",
      "metadata": {
        "id": "b6SqjZwJlYzz"
      },
      "source": [
        "If the intrusion detection metrics on the generated dataset are similar to those on the real dataset, it suggests that the GAN is generating synthetic data that captures the characteristics of the real data, at least in terms of intrusion detection.\n",
        "\n",
        "However, it's important to note that achieving good intrusion detection metrics doesn't necessarily guarantee that the GAN is perfect or that the generated data is indistinguishable from real data in all aspects. It specifically indicates that the GAN is successful in reproducing features relevant to your intrusion detection model.\n",
        "\n",
        "\n",
        "\n",
        "> is a valid approach for evaluating the quality of the generated data by the GAN. This method is often referred to as testing the IDS on a mixed dataset containing both real and synthetic samples\n",
        "\n",
        "\n",
        "\n",
        "In summary, the initial analysis suggests that your GAN is contributing to the success of your DNN-IDS by generating realistic data that aligns with the characteristics of the real dataset.\n"
      ]
    }
  ],
  "metadata": {
    "colab": {
      "collapsed_sections": [
        "gfjxR9812adx",
        "FEDiBnEFOMC1",
        "mgcTHX1-w7uR",
        "VF6EUAWzSKD9",
        "bXSp0_t4SOq3",
        "1ZuxgDF1SS24",
        "LiZQNPinxSuH",
        "gw-4nT-pwI-x",
        "5cM4eNzTNvJd",
        "l5A8Y2rD8WkZ",
        "js-hrpAVakJr",
        "ybU81EojBwaM",
        "556fJdvWB1dd",
        "9YR6ZBJ2hCet",
        "Ph8lJ_0mJL-b",
        "coFVSKl49EJi",
        "3-Hb8k_rvDc3",
        "bjZRCrIO9qAI"
      ],
      "machine_shape": "hm",
      "provenance": [],
      "include_colab_link": true
    },
    "kernelspec": {
      "display_name": "Python 3",
      "name": "python3"
    }
  },
  "nbformat": 4,
  "nbformat_minor": 0
}