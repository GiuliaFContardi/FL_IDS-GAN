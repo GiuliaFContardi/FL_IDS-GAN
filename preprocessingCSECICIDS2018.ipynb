{
  "cells": [
    {
      "cell_type": "markdown",
      "metadata": {
        "id": "view-in-github",
        "colab_type": "text"
      },
      "source": [
        "<a href=\"https://colab.research.google.com/github/GiuliaFContardi/FL_IDS-GAN/blob/main/preprocessingCSECICIDS2018.ipynb\" target=\"_parent\"><img src=\"https://colab.research.google.com/assets/colab-badge.svg\" alt=\"Open In Colab\"/></a>"
      ]
    },
    {
      "cell_type": "code",
      "execution_count": null,
      "metadata": {
        "colab": {
          "base_uri": "https://localhost:8080/"
        },
        "id": "2ggjJ7ZCBfwx",
        "outputId": "2b9f312e-853a-4c97-8dfb-76c543f361fc"
      },
      "outputs": [
        {
          "output_type": "stream",
          "name": "stdout",
          "text": [
            "Mounted at /content/drive\n"
          ]
        }
      ],
      "source": [
        "#Collegamento a Google Drive\n",
        "from google.colab import drive\n",
        "drive.mount('/content/drive', force_remount=True)"
      ]
    },
    {
      "cell_type": "markdown",
      "metadata": {
        "id": "c_gQubAtzimI"
      },
      "source": [
        "## Import dei Dataset csv dal Drive"
      ]
    },
    {
      "cell_type": "code",
      "source": [
        "#Import delle librerie\n",
        "#data preprocessing e cleansing steps\n",
        "import pandas as pd"
      ],
      "metadata": {
        "id": "hlROzf85B5Y-"
      },
      "execution_count": null,
      "outputs": []
    },
    {
      "cell_type": "markdown",
      "source": [
        "#### Thursday dataset"
      ],
      "metadata": {
        "id": "yRL5LyMXFlGU"
      }
    },
    {
      "cell_type": "code",
      "source": [
        "# import dei csv del dataset CSE-CIC-IDS-2018 migliorato da ricercatori Liu et al.(2022) - https://intrusion-detection.distrinet-research.be/CNS2022/\n",
        "#df1 = pd.read_csv('/content/drive/MyDrive/Colab Notebooks/progettoTesi/Dataset2018/Improved/Thursday-15-02-2018.csv')\n",
        "#df2 = pd.read_csv('/content/drive/MyDrive/Colab Notebooks/progettoTesi/Dataset2018/Improved/Thursday-22-02-2018.csv')\n",
        "#df3 = pd.read_csv('/content/drive/MyDrive/Colab Notebooks/progettoTesi/Dataset2018/Improved/Thursday-01-03-2018.csv')"
      ],
      "metadata": {
        "id": "fkIE_rqRhrog"
      },
      "execution_count": null,
      "outputs": []
    },
    {
      "cell_type": "code",
      "source": [
        "#merge\n",
        "clean_df = pd.concat([df1,df2,df3])\n",
        "\n",
        "del df1\n",
        "del df2\n",
        "del df3"
      ],
      "metadata": {
        "id": "B8OnwlQvkTvh"
      },
      "execution_count": null,
      "outputs": []
    },
    {
      "cell_type": "markdown",
      "source": [
        "#### Friday dataset"
      ],
      "metadata": {
        "id": "C9N7B5bqFosB"
      }
    },
    {
      "cell_type": "code",
      "source": [
        "#df4 = pd.read_csv('/content/drive/MyDrive/Colab Notebooks/progettoTesi/Dataset2018/Improved/Friday-02-03-2018.csv')\n",
        "#df5 = pd.read_csv('/content/drive/MyDrive/Colab Notebooks/progettoTesi/Dataset2018/Improved/Friday-16-02-2018.csv')\n",
        "#df6 = pd.read_csv('/content/drive/MyDrive/Colab Notebooks/progettoTesi/Dataset2018/Improved/Friday-23-02-2018.csv')"
      ],
      "metadata": {
        "id": "FG5FSbZ8kRMS"
      },
      "execution_count": null,
      "outputs": []
    },
    {
      "cell_type": "code",
      "source": [
        "#merge\n",
        "#df = pd.concat([df4,df5,df6])\n",
        "\n",
        "#del df4\n",
        "#del df5\n",
        "#del df6"
      ],
      "metadata": {
        "id": "4zUaO4ZXj-kB"
      },
      "execution_count": null,
      "outputs": []
    },
    {
      "cell_type": "markdown",
      "source": [
        "#### Tuesday e Wednesday dataset"
      ],
      "metadata": {
        "id": "3anmLIPNFsmD"
      }
    },
    {
      "cell_type": "code",
      "source": [
        "df7 = pd.read_csv('/content/drive/MyDrive/Colab Notebooks/progettoTesi/Dataset2018/Improved/Tuesday-20-02-2018.csv')\n",
        "df8 = pd.read_csv('/content/drive/MyDrive/Colab Notebooks/progettoTesi/Dataset2018/Improved/Wednesday-28-02-2018.csv')\n",
        "\n",
        "#merge\n",
        "clean_df2 = pd.concat([df7,df8])\n",
        "\n",
        "del df7\n",
        "del df8"
      ],
      "metadata": {
        "id": "u81LwnsvBltV"
      },
      "execution_count": null,
      "outputs": []
    },
    {
      "cell_type": "code",
      "source": [
        "clean_df2.shape"
      ],
      "metadata": {
        "colab": {
          "base_uri": "https://localhost:8080/"
        },
        "id": "Sv1HAyZLaXyM",
        "outputId": "1a11896f-c91c-4611-93fe-252d2d1b6fa8"
      },
      "execution_count": null,
      "outputs": [
        {
          "output_type": "execute_result",
          "data": {
            "text/plain": [
              "(12623428, 91)"
            ]
          },
          "metadata": {},
          "execution_count": 10
        }
      ]
    },
    {
      "cell_type": "code",
      "source": [
        "#droppo benigni perché ne ho già abbastanza\n",
        "clean_df2.drop(clean_df2.loc[clean_df2['Label']=='BENIGN'].index, inplace=True)"
      ],
      "metadata": {
        "id": "ujk11b3maMKY"
      },
      "execution_count": null,
      "outputs": []
    },
    {
      "cell_type": "code",
      "source": [
        "clean_df2.loc[clean_df2[\"Attempted Category\"] != -1, \"Label\"] = \"BENIGN\"\n",
        "clean_df2.drop(clean_df2.loc[clean_df2['Label']=='BENIGN'].index, inplace=True)"
      ],
      "metadata": {
        "id": "fWj8fpMUbGcB"
      },
      "execution_count": null,
      "outputs": []
    },
    {
      "cell_type": "code",
      "source": [
        "clean_df2.shape"
      ],
      "metadata": {
        "colab": {
          "base_uri": "https://localhost:8080/"
        },
        "id": "_lAGxKgWaZG0",
        "outputId": "30e37320-1344-4887-d803-a85c664d1f48"
      },
      "execution_count": null,
      "outputs": [
        {
          "output_type": "execute_result",
          "data": {
            "text/plain": [
              "(21591, 91)"
            ]
          },
          "metadata": {},
          "execution_count": 17
        }
      ]
    },
    {
      "cell_type": "markdown",
      "source": [
        "#### Wednesday dataset"
      ],
      "metadata": {
        "id": "IvQqRZlHYyaA"
      }
    },
    {
      "cell_type": "code",
      "source": [
        "##supera la RAM disponibile sebbene sia PRO a 51GB\n",
        "df9 = pd.read_csv('/content/drive/MyDrive/Colab Notebooks/progettoTesi/Dataset2018/Improved/Wednesday-14-02-2018.csv')\n",
        "df10 = pd.read_csv('/content/drive/MyDrive/Colab Notebooks/progettoTesi/Dataset2018/Improved/Wednesday-21-02-2018.csv')\n"
      ],
      "metadata": {
        "id": "JuOBAiO4h3vd"
      },
      "execution_count": null,
      "outputs": []
    },
    {
      "cell_type": "code",
      "execution_count": null,
      "metadata": {
        "id": "e9QafEyWuky8"
      },
      "outputs": [],
      "source": [
        "#merge\n",
        "clean_df = pd.concat([df9,df10])\n",
        "\n",
        "del df9\n",
        "del df10\n",
        "#del df9"
      ]
    },
    {
      "cell_type": "markdown",
      "source": [
        "## Pre-processing: cleaning"
      ],
      "metadata": {
        "id": "KmQaXETQFz14"
      }
    },
    {
      "cell_type": "code",
      "execution_count": null,
      "metadata": {
        "id": "v0NzHDV1C6CT",
        "colab": {
          "base_uri": "https://localhost:8080/"
        },
        "outputId": "e5771c52-5e57-4175-866f-6380b9edd38e"
      },
      "outputs": [
        {
          "output_type": "execute_result",
          "data": {
            "text/plain": [
              "Infiltration - NMAP Portscan    21591\n",
              "Name: Label, dtype: int64"
            ]
          },
          "metadata": {},
          "execution_count": 18
        }
      ],
      "source": [
        "#clean_df['Label'].value_counts()\n",
        "clean_df2['Label'].value_counts()"
      ]
    },
    {
      "cell_type": "markdown",
      "metadata": {
        "id": "QouTSRXczqf4"
      },
      "source": [
        "## Primi aggiustamenti di pre-processing"
      ]
    },
    {
      "cell_type": "code",
      "execution_count": null,
      "metadata": {
        "id": "8Pc9BEIffunm",
        "colab": {
          "base_uri": "https://localhost:8080/"
        },
        "outputId": "0d1d5094-52b8-488e-c175-8bdd5b5b43bd"
      },
      "outputs": [
        {
          "output_type": "execute_result",
          "data": {
            "text/plain": [
              "Infiltration - NMAP Portscan    21591\n",
              "Name: Label, dtype: int64"
            ]
          },
          "metadata": {},
          "execution_count": 19
        }
      ],
      "source": [
        "#come da avviso del paper si considerano Benign tutti gli \"Attempted\"\n",
        "clean_df2.loc[clean_df2[\"Attempted Category\"] != -1, \"Label\"] = \"BENIGN\"\n",
        "clean_df2['Label'].value_counts()"
      ]
    },
    {
      "cell_type": "markdown",
      "source": [
        "Si segue fonte Ali et al. (2023) per il preprocessing:\n",
        "\n",
        "\n",
        "\n",
        "---\n",
        "\n",
        "\n",
        "\n",
        "\n",
        "*   raccolgo attacchi\n",
        "\n",
        "\n"
      ],
      "metadata": {
        "id": "W_DGr3fZG0GQ"
      }
    },
    {
      "cell_type": "code",
      "execution_count": null,
      "metadata": {
        "id": "oyPD2-hlpS1V",
        "colab": {
          "base_uri": "https://localhost:8080/"
        },
        "outputId": "d6b48815-fe80-4096-95a3-4996dda73a57"
      },
      "outputs": [
        {
          "output_type": "execute_result",
          "data": {
            "text/plain": [
              "Portscan    21591\n",
              "Name: Label, dtype: int64"
            ]
          },
          "metadata": {},
          "execution_count": 20
        }
      ],
      "source": [
        "#cancella attempted ed id colonna perché inutile\n",
        "clean_df2 = clean_df2.drop('Attempted Category', axis=1)\n",
        "clean_df2 = clean_df2.drop('id', axis=1)\n",
        "\n",
        "#si raggruppa considerando la categoria di attacchi Ali et al. (2023) tabella 2 p.11\n",
        "#unisco in DoS\n",
        "clean_df2.loc[clean_df2[\"Label\"] == 'Infiltration - NMAP Portscan', \"Label\"] = \"Portscan\"\n",
        "##clean_df.loc[clean_df[\"Label\"] == 'DDoS-LOIC-UDP', \"Label\"] = \"DDoS\"\n",
        "#unisco Brute Force\n",
        "#clean_df.loc[clean_df[\"Label\"] == 'SSH-BruteForce', \"Label\"] = \"BruteForce\"\n",
        "\n",
        "\n",
        "\n",
        "clean_df2['Label'].value_counts()"
      ]
    },
    {
      "cell_type": "code",
      "source": [
        "clean_df2.shape"
      ],
      "metadata": {
        "colab": {
          "base_uri": "https://localhost:8080/"
        },
        "id": "nbCBdpbqcF9g",
        "outputId": "d51df8c3-d81b-46cd-9d4b-811c0a74be15"
      },
      "execution_count": null,
      "outputs": [
        {
          "output_type": "execute_result",
          "data": {
            "text/plain": [
              "(21591, 89)"
            ]
          },
          "metadata": {},
          "execution_count": 21
        }
      ]
    },
    {
      "cell_type": "code",
      "source": [
        "#Poblemi di generazione per la GAN: i label che hanno pochi dati daranno problemi nella creazione ... servono almeno 200-500 sample\n",
        "#cit Kurniabudi, Stiawan et al. (2020)\n",
        "#Si decide di droppare la categoria WebAttack per pochi elementi in quanto non si può unire ad altri\n",
        "clean_df.drop(clean_df.loc[clean_df['Label']=='WebAttacks'].index, inplace=True)\n",
        "clean_df.drop(clean_df.loc[clean_df['Label']=='BruteForce'].index, inplace=True)\n",
        "clean_df['Label'].value_counts()"
      ],
      "metadata": {
        "colab": {
          "base_uri": "https://localhost:8080/"
        },
        "id": "l32Zm4o-JjZH",
        "outputId": "cd0abede-3573-4898-cd0e-d24f290a48b2"
      },
      "execution_count": null,
      "outputs": [
        {
          "output_type": "execute_result",
          "data": {
            "text/plain": [
              "BENIGN          17961522\n",
              "Infiltration       39834\n",
              "DoS                31050\n",
              "Name: Label, dtype: int64"
            ]
          },
          "metadata": {},
          "execution_count": 10
        }
      ]
    },
    {
      "cell_type": "code",
      "execution_count": null,
      "metadata": {
        "colab": {
          "base_uri": "https://localhost:8080/"
        },
        "id": "BMnmquKytUjJ",
        "outputId": "6006ba21-f36f-40cc-d958-73fcd33409b0"
      },
      "outputs": [
        {
          "output_type": "execute_result",
          "data": {
            "text/plain": [
              "(12882534, 89)"
            ]
          },
          "metadata": {},
          "execution_count": 28
        }
      ],
      "source": [
        "clean_df.shape #sono presenti moltissime feature... 89\n",
        "\n",
        "#dataset2017 iniziale (2099774, 89)\n",
        "#questo ==> (18032406, 89)"
      ]
    },
    {
      "cell_type": "code",
      "source": [
        "clean_df = pd.concat([clean_df,clean_df2])"
      ],
      "metadata": {
        "colab": {
          "base_uri": "https://localhost:8080/"
        },
        "id": "ZbXujdikbvTA",
        "outputId": "5a2aa51c-0049-4989-d3be-a6806be4459d"
      },
      "execution_count": null,
      "outputs": [
        {
          "output_type": "execute_result",
          "data": {
            "text/plain": [
              "(12882534, 89)"
            ]
          },
          "metadata": {},
          "execution_count": 22
        }
      ]
    },
    {
      "cell_type": "code",
      "source": [
        "clean_df['Label'].value_counts()"
      ],
      "metadata": {
        "colab": {
          "base_uri": "https://localhost:8080/"
        },
        "id": "sgw_k12LcNbI",
        "outputId": "c007f567-b9fa-4568-92e9-22cb1ff4c083"
      },
      "execution_count": null,
      "outputs": [
        {
          "output_type": "execute_result",
          "data": {
            "text/plain": [
              "BENIGN        11682723\n",
              "DDoS           1084023\n",
              "BruteForce       94197\n",
              "Portscan         21591\n",
              "Name: Label, dtype: int64"
            ]
          },
          "metadata": {},
          "execution_count": 23
        }
      ]
    },
    {
      "cell_type": "code",
      "source": [
        "clean_df"
      ],
      "metadata": {
        "id": "zkpZdJztckZY"
      },
      "execution_count": null,
      "outputs": []
    },
    {
      "cell_type": "markdown",
      "metadata": {
        "id": "1W5ZMP9uzY7N"
      },
      "source": [
        "# Feature engineering e pulizia del dataset"
      ]
    },
    {
      "cell_type": "markdown",
      "metadata": {
        "id": "M5I6jtqP8VV7"
      },
      "source": [
        "##Primi step"
      ]
    },
    {
      "cell_type": "code",
      "execution_count": null,
      "metadata": {
        "id": "_Ub9SnBgEuZC"
      },
      "outputs": [],
      "source": [
        "#####Pulizia del dataset\n",
        "#Import librerie per preprocessing e visualization\n",
        "import numpy as np # linear algebra\n",
        "import seaborn as sns\n",
        "import matplotlib.pyplot as plt\n",
        "from sklearn import preprocessing\n",
        "\n",
        "#re-indicizzo random in modo che non rimangano concatenati i dataset dei giorni per fare dopo lo splitting ed avere un minimo di uniformitàDistrib dei dati negli split\n",
        "from sklearn.utils import shuffle\n",
        "clean_df = shuffle(clean_df).reset_index()\n",
        "clean_df = clean_df.drop(\"index\", axis=1) #elimino colonna indice creata dal reset_index"
      ]
    },
    {
      "cell_type": "markdown",
      "source": [
        "Si segue fonte Ali et al. (2023) per il preprocessing:\n",
        "\n",
        "\n",
        "\n",
        "---\n",
        "\n",
        "\n",
        "\n",
        "\n",
        "* elimino IP, timestamp e flowID in quanto possono essere spoofati\n",
        "\n",
        "\n"
      ],
      "metadata": {
        "id": "4jIpn4e8K_VO"
      }
    },
    {
      "cell_type": "code",
      "source": [
        "#elimino feature non utili\n",
        "clean_df = clean_df.drop('Src IP', axis=1)\n",
        "clean_df = clean_df.drop('Dst IP', axis=1)\n",
        "clean_df = clean_df.drop('Timestamp', axis=1)\n",
        "clean_df = clean_df.drop('Flow ID', axis=1)"
      ],
      "metadata": {
        "id": "lt_MHRQEK6lK"
      },
      "execution_count": null,
      "outputs": []
    },
    {
      "cell_type": "code",
      "execution_count": null,
      "metadata": {
        "id": "j3bSE7nFXOZT"
      },
      "outputs": [],
      "source": [
        "clean_df.shape # 89 ===> 85 feature"
      ]
    },
    {
      "cell_type": "markdown",
      "metadata": {
        "id": "1Z5lP5Rh5RT4"
      },
      "source": [
        "## Altre tecniche pre-processing"
      ]
    },
    {
      "cell_type": "code",
      "execution_count": null,
      "metadata": {
        "id": "ikF1t-6-9c2d"
      },
      "outputs": [],
      "source": [
        "#SALVO CSV Prima del pre-processing vero ...potesse servirmi per cambiare e fare altro\n",
        "clean_df.to_csv(r'drive/My Drive/Colab Notebooks/progettoTesi/Dataset2017/improved/Preprocessed/dataNONpreprocessThurs.csv', index = False)"
      ]
    },
    {
      "cell_type": "code",
      "source": [
        "#rinomino colonne togliendo spazi fastidiosi\n",
        "clean_df.columns = clean_df.columns.str.replace(' ', '')"
      ],
      "metadata": {
        "id": "RNEs_311cbLB"
      },
      "execution_count": null,
      "outputs": []
    },
    {
      "cell_type": "markdown",
      "metadata": {
        "id": "dqTOAWvDZMO0"
      },
      "source": [
        "### Check NaN, 0...\n"
      ]
    },
    {
      "cell_type": "code",
      "execution_count": null,
      "metadata": {
        "colab": {
          "base_uri": "https://localhost:8080/"
        },
        "id": "-BApFpoSYRhx",
        "outputId": "bcd8afd9-fc64-4af4-e09c-e6e60989d454"
      },
      "outputs": [
        {
          "output_type": "stream",
          "name": "stdout",
          "text": [
            "FlowBytes/s      5\n",
            "FlowPackets/s    5\n",
            "dtype: int64\n",
            "=====================\n",
            "(2099769, 85)\n",
            "=====================\n",
            "Empty DataFrame\n",
            "Columns: []\n",
            "Index: [count, mean, std, min, 25%, 50%, 75%, max]\n"
          ]
        }
      ],
      "source": [
        "#CIT - https://www.kaggle.com/code/filipekoriginal/cicids2017-preprocessing/notebook#DETECTING-HIGHLY-CORRELATED-PAIRS\n",
        "\n",
        "# searching for NA values - empty \"\" are not considered NA\n",
        "pd.options.mode.use_inf_as_na = True ##infinito è trattato come NA\n",
        "print(clean_df.loc[:, clean_df.isnull().any()].isnull().sum())\n",
        "print(\"=====================\")\n",
        "\n",
        "### NA values are minority of the dataset. Because they cannot be processed by algorithms => cancello\n",
        "clean_df = clean_df.dropna()\n",
        "print(clean_df.shape)\n",
        "print(\"=====================\")\n",
        "\n",
        "### tolgo feature ridondanti\n",
        "describe_info = clean_df.describe()\n",
        "all_zeroes_cols = describe_info.loc[:,(describe_info.iloc[1:] == 0).all()]\n",
        "clean_df.drop(columns=all_zeroes_cols, inplace=True)\n",
        "print(all_zeroes_cols)\n",
        "#[] output ==> non ci sono ridondanze"
      ]
    },
    {
      "cell_type": "code",
      "source": [
        "#droppo colonne di tutti 0\n",
        "clean_df = clean_df.loc[:, (clean_df != 0).any(axis=0)]\n",
        "clean_df.shape\n",
        "#non ci sono"
      ],
      "metadata": {
        "colab": {
          "base_uri": "https://localhost:8080/"
        },
        "id": "25FjyqucJBus",
        "outputId": "a126e1cc-8e46-4bea-c318-5410da9c7311"
      },
      "execution_count": null,
      "outputs": [
        {
          "output_type": "execute_result",
          "data": {
            "text/plain": [
              "(2099769, 85)"
            ]
          },
          "metadata": {},
          "execution_count": 14
        }
      ]
    },
    {
      "cell_type": "code",
      "source": [
        "#droppo righe di tutti 0\n",
        "clean_df[~(clean_df == 0).all(axis=1)]\n",
        "clean_df.shape\n",
        "#non ci sono"
      ],
      "metadata": {
        "colab": {
          "base_uri": "https://localhost:8080/"
        },
        "id": "r2Y9qXnhPp5T",
        "outputId": "28b85fa3-90d7-4b4d-8605-5e75c30aeef5"
      },
      "execution_count": null,
      "outputs": [
        {
          "output_type": "execute_result",
          "data": {
            "text/plain": [
              "(2099769, 85)"
            ]
          },
          "metadata": {},
          "execution_count": 15
        }
      ]
    },
    {
      "cell_type": "code",
      "source": [
        "#doppio check INF as NA\n",
        "with pd.option_context('mode.use_inf_as_na', True):\n",
        "  clean_df.dropna(inplace=True)"
      ],
      "metadata": {
        "id": "A7bqsB7LPA0d"
      },
      "execution_count": null,
      "outputs": []
    },
    {
      "cell_type": "markdown",
      "metadata": {
        "id": "Q3jYWl6CbbEk"
      },
      "source": [
        "#### Visualization"
      ]
    },
    {
      "cell_type": "code",
      "execution_count": null,
      "metadata": {
        "id": "tL9jnM8vbaYZ",
        "colab": {
          "base_uri": "https://localhost:8080/",
          "height": 472
        },
        "outputId": "421ca656-847d-43e2-ede8-1785ba012597"
      },
      "outputs": [
        {
          "output_type": "display_data",
          "data": {
            "text/plain": [
              "<Figure size 640x480 with 1 Axes>"
            ],
            "image/png": "[encoded data removed]"
          },
          "metadata": {}
        }
      ],
      "source": [
        "## temporarily add new column to distinguish traffic type between Normal / Attack\n",
        "df_plot = clean_df.copy()\n",
        "trf_type = df_plot.loc[:, \"Label\"].map(lambda lbl: \"Normale\" if lbl == \"BENIGN\" else \"Malevolo\")\n",
        "trf_type.name = \"traffic type\"\n",
        "df_plot.loc[:, trf_type.name] = trf_type\n",
        "\n",
        "### plot distrtibution of Normal traffic and Attacks in the whole dataset\n",
        "plt.ticklabel_format(axis='y', useMathText=True, useOffset=False)  # change def ScalarFormatter\n",
        "\n",
        "sns.countplot(x=\"traffic type\", data=df_plot, palette=[\"g\",\"r\"])\n",
        "plt.title(\"Distribuzione del traffico nel dataset CIC-IDS-2017\")\n",
        "plt.xlabel(\"Traffico\")\n",
        "plt.ylabel(\"Campioni\")\n",
        "#salva in Drive\n",
        "images_dir = '/content/drive/MyDrive/Colab Notebooks/progettoTesi/grafici_pdf'\n",
        "plt.savefig(f\"{images_dir}/distributionCICIDS2017.pdf\", dpi=200, format='pdf')\n",
        "plt.show()"
      ]
    },
    {
      "cell_type": "markdown",
      "metadata": {
        "id": "8pNW-HnxsXZm"
      },
      "source": [
        "## Feature Extraction per importanza e correlazione"
      ]
    },
    {
      "cell_type": "code",
      "execution_count": null,
      "metadata": {
        "id": "DpXjhrdNhiiM"
      },
      "outputs": [],
      "source": [
        "df_importance = clean_df.copy()\n",
        "\n",
        "## feature selection phase - let's use RFC on our data\n",
        "from sklearn.ensemble import RandomForestClassifier\n",
        "rfc = RandomForestClassifier(random_state=10, n_jobs=-1) # 100 trees in forest\n",
        "\n",
        "## feature selection phase - prepare data for RFC\n",
        "lbls = df_importance.loc[:, \"Label\"]\n",
        "data_w_o_cat_attrs = df_importance.iloc[:, :-2]"
      ]
    },
    {
      "cell_type": "code",
      "execution_count": null,
      "metadata": {
        "colab": {
          "base_uri": "https://localhost:8080/",
          "height": 485
        },
        "id": "LG3DaS6PhQoD",
        "outputId": "1cbc521c-3d24-427e-8156-9d9ea82076ce"
      },
      "outputs": [
        {
          "output_type": "display_data",
          "data": {
            "text/plain": [
              "<Figure size 1400x500 with 1 Axes>"
            ],
            "image/png": "[encoded data removed]"
          },
          "metadata": {}
        }
      ],
      "source": [
        "# fit random forest classifier on the dataset\n",
        "rfc.fit(data_w_o_cat_attrs, lbls)\n",
        "RandomForestClassifier(n_jobs=-1, random_state=10)\n",
        "## plotting features' importance in the whole dataset graph\n",
        "# extract important features\n",
        "score = np.round(rfc.feature_importances_,5)\n",
        "importances = pd.DataFrame({'Feature':data_w_o_cat_attrs.columns,'Importanza':score})\n",
        "importances = importances.sort_values('Importanza',ascending=False).set_index('Feature')\n",
        "\n",
        "# plot importances\n",
        "sns.barplot(x=importances.index, y=\"Importanza\", data=importances, color=\"b\")\n",
        "plt.xticks(rotation=\"vertical\")\n",
        "plt.gcf().set_size_inches(14,5)\n",
        "plt.savefig(f\"{images_dir}/importanzaFeatureCICIDS2017.pdf\", dpi=200, format='pdf', bbox_inches = \"tight\", pad_inches=0.2)\n",
        "plt.show()"
      ]
    },
    {
      "cell_type": "code",
      "execution_count": null,
      "metadata": {
        "colab": {
          "base_uri": "https://localhost:8080/"
        },
        "id": "Mlp3wcScxp59",
        "outputId": "ebdaed5e-700a-4f46-d0de-75314f08da90"
      },
      "outputs": [
        {
          "output_type": "stream",
          "name": "stdout",
          "text": [
            "there are 12 features to delete, as they are below chosen threshold\n",
            "these features are the following:\n",
            "IdleStd\n",
            "IdleMax\n",
            "IdleMean\n",
            "ICMPType\n",
            "BwdPacketLengthMin\n",
            "ICMPCode\n",
            "URGFlagCount\n",
            "FwdURGFlags\n",
            "CWRFlagCount\n",
            "BwdURGFlags\n",
            "ECEFlagCount\n",
            "SubflowBwdPackets\n"
          ]
        }
      ],
      "source": [
        "## Let's leave only the most important features\n",
        "threshold = 0.0002 # importance threshold - abbassato per non togliere troppe feature che verranno controllate poi con la varianza\n",
        "\n",
        "bl_thresh = importances.loc[importances[\"Importanza\"] < threshold]\n",
        "print(\"there are {} features to delete, as they are below chosen threshold\".format(bl_thresh.shape[0]))\n",
        "print(\"these features are the following:\")\n",
        "feats_to_del = [feat for feat in bl_thresh.index]\n",
        "print(\"\\n\".join(feats_to_del))\n"
      ]
    },
    {
      "cell_type": "code",
      "source": [
        "#Si toglie dall'array 1 feature ritenuta importanti nel paper Ali et al(2023)\n",
        "feats_to_del.remove('BwdPacketLengthMin')\n",
        "print(feats_to_del)"
      ],
      "metadata": {
        "colab": {
          "base_uri": "https://localhost:8080/"
        },
        "id": "AXE6GS2QmBBo",
        "outputId": "8a842884-3d18-4a06-cd58-55a9efe5215d"
      },
      "execution_count": null,
      "outputs": [
        {
          "output_type": "stream",
          "name": "stdout",
          "text": [
            "['IdleStd', 'IdleMax', 'IdleMean', 'ICMPType', 'ICMPCode', 'URGFlagCount', 'FwdURGFlags', 'CWRFlagCount', 'BwdURGFlags', 'ECEFlagCount', 'SubflowBwdPackets']\n"
          ]
        }
      ]
    },
    {
      "cell_type": "code",
      "source": [
        "## removing these not important features\n",
        "df_importance.drop(columns=feats_to_del, inplace=True) #11 feature tolte per poca importanza"
      ],
      "metadata": {
        "id": "SO5a3_KwjuSK"
      },
      "execution_count": null,
      "outputs": []
    },
    {
      "cell_type": "markdown",
      "source": [
        "##### Varianza"
      ],
      "metadata": {
        "id": "w66tCzCGjG7U"
      }
    },
    {
      "cell_type": "code",
      "source": [
        "#controllo la varianza delle feature per poi eliminarle se hanno basso o quasi-0 varianza\n",
        "pd.options.display.float_format = '{:,.20f}'.format\n",
        "pd.set_option('display.max_rows', df_importance.shape[0]+1)\n",
        "df_importance.var()\n"
      ],
      "metadata": {
        "id": "--pq-samRoOb"
      },
      "execution_count": null,
      "outputs": []
    },
    {
      "cell_type": "markdown",
      "source": [
        "Feature con 0 varianza\n",
        "```\n",
        "FwdRSTFlags                                    0.75436721398006911787\n",
        "BwdRSTFlags                                    0.16196824729130132603\n",
        "FINFlagCount                                   0.95653599537860134472\n",
        "RSTFlagCount                                   0.86335375735224939575\n",
        "Down/UpRatio                                   0.06843146539131091111\n",
        "* SubflowFwdPackets                              0.02553525700587332137\n",
        "```\n",
        "\n",
        "Feature eliminate dal paper di riferimento:BwdPSHFlags,\n",
        "BwdURGFlags, FwdBulkRateAvg, FwdBytes, BulkAvg,\n",
        "FwdPacket/BulkAvg, FwdURGFlags, **SubﬂowBwdPackets**,\n",
        "and URGFlagCount.\n",
        "\n",
        "\n",
        "Di seguito si verificano le varianze delle rimanenti:"
      ],
      "metadata": {
        "id": "tKECzSZ1Uf_6"
      }
    },
    {
      "cell_type": "code",
      "source": [
        "#Si decide di eliminare le seguenti feature con varianza circa < 0.1\n",
        "columDel = ['SubflowFwdPackets', 'Down/UpRatio']\n",
        "df_importance.drop(columns=columDel, inplace=True)\n",
        "\n",
        "df_importance.shape"
      ],
      "metadata": {
        "id": "UgauVzIcZBHr",
        "colab": {
          "base_uri": "https://localhost:8080/"
        },
        "outputId": "aeb958e3-7020-4442-ccfa-c082bce1a3a9"
      },
      "execution_count": null,
      "outputs": [
        {
          "output_type": "execute_result",
          "data": {
            "text/plain": [
              "(2099769, 72)"
            ]
          },
          "metadata": {},
          "execution_count": 30
        }
      ]
    },
    {
      "cell_type": "markdown",
      "metadata": {
        "id": "Lk5uCGMgiIUV"
      },
      "source": [
        "#### Correlazioni - **NO PER IL DEEP LEARNING**"
      ]
    },
    {
      "cell_type": "code",
      "execution_count": null,
      "metadata": {
        "colab": {
          "base_uri": "https://localhost:8080/"
        },
        "id": "TrwwXsg4iK6I",
        "outputId": "dcafa85c-6038-4fce-a7a6-2fe660b8d3f0"
      },
      "outputs": [
        {
          "output_type": "stream",
          "name": "stderr",
          "text": [
            "<ipython-input-33-f407dd2e0f88>:2: FutureWarning: The default value of numeric_only in DataFrame.corr is deprecated. In a future version, it will default to False. Select only valid columns or specify the value of numeric_only to silence this warning.\n",
            "  data_corr_mtrx = df_importance.corr()\n"
          ]
        }
      ],
      "source": [
        "## feature selection phase - let's find highly correlated feature pairs\n",
        "data_corr_mtrx = df_importance.corr()"
      ]
    },
    {
      "cell_type": "code",
      "execution_count": null,
      "metadata": {
        "id": "EWbBMar-iHzc"
      },
      "outputs": [],
      "source": [
        "## plotting a correlation heatmap\n",
        "plt.gcf().set_size_inches(60, 60)\n",
        "hm = sns.heatmap(data_corr_mtrx, annot=True, linewidths=.8, annot_kws={\"fontsize\": 15}, fmt=\".2f\")\n",
        "hm.set_yticklabels(hm.get_ymajorticklabels(), fontsize = 25)\n",
        "hm.set_xticklabels(hm.get_xmajorticklabels(), fontsize = 25)\n",
        "plt.savefig(f\"{images_dir}/corrHeatmapCICIDS2017before.pdf\", dpi=200, format='pdf', bbox_inches = \"tight\", pad_inches=0.4)\n",
        "plt.show()"
      ]
    },
    {
      "cell_type": "code",
      "execution_count": null,
      "metadata": {
        "id": "6q1npEi8zp-u",
        "colab": {
          "base_uri": "https://localhost:8080/"
        },
        "outputId": "5b18b046-a57a-4023-db80-a5d939fe802f"
      },
      "outputs": [
        {
          "output_type": "execute_result",
          "data": {
            "text/plain": [
              "AveragePacketSize  PacketLengthMean      1.000000\n",
              "PacketLengthMean   AveragePacketSize     1.000000\n",
              "SrcPort            SrcPort               1.000000\n",
              "BwdIATMean         BwdIATMean            1.000000\n",
              "FwdIATTotal        FwdIATTotal           1.000000\n",
              "                                           ...   \n",
              "FwdIATMean         FwdPacketLengthStd    0.000118\n",
              "TotalTCPFlowTime   BwdPackets/s          0.000081\n",
              "BwdPackets/s       TotalTCPFlowTime      0.000081\n",
              "FwdPSHFlags        FwdIATMean            0.000081\n",
              "FwdIATMean         FwdPSHFlags           0.000081\n",
              "Length: 5184, dtype: float64"
            ]
          },
          "metadata": {},
          "execution_count": 35
        }
      ],
      "source": [
        "## process correlation matrix, list highly correlated feature pairs\n",
        "def srt_corr(mtrx):\n",
        "    corr_ustack = mtrx.unstack().abs()\n",
        "    #corr_ustack\n",
        "    corr_srted = corr_ustack.sort_values(ascending=False)\n",
        "    return corr_srted\n",
        "\n",
        "srt_corr(data_corr_mtrx)"
      ]
    },
    {
      "cell_type": "code",
      "execution_count": null,
      "metadata": {
        "colab": {
          "base_uri": "https://localhost:8080/"
        },
        "id": "sJ8KSAPp0GQY",
        "outputId": "0011112a-40bc-4869-8cc3-933e3a352605"
      },
      "outputs": [
        {
          "output_type": "stream",
          "name": "stdout",
          "text": [
            "there are 96 higly correlated pairs in 1 iteration\n",
            "deleting: 25 feature\n",
            "finally deleted:\n",
            "BwdIATMin\n",
            "BwdIATTotal\n",
            "IdleMax\n",
            "BwdPacket/BulkAvg\n",
            "IdleMin\n",
            "BwdIATMax\n",
            "FwdIATMin\n",
            "BwdPSHFlags\n",
            "TotalBwdpackets\n",
            "TotalFwdPacket\n",
            "TotalLengthofBwdPacket\n",
            "FwdIATTotal\n",
            "FwdIATMax\n",
            "SubflowBwdBytes\n",
            "FwdPackets/s\n",
            "AveragePacketSize\n",
            "FwdPacketLengthMean\n",
            "PacketLengthMean\n",
            "FwdSegmentSizeAvg\n",
            "BwdSegmentSizeAvg\n",
            "BwdPacketLengthMax\n",
            "PacketLengthMax\n",
            "BwdPacketLengthMean\n",
            "PacketLengthVariance\n",
            "PacketLengthStd\n"
          ]
        }
      ],
      "source": [
        "from collections import OrderedDict\n",
        "thres_corr = 0.95\n",
        "epoch=0\n",
        "highly_corr = {\"dummy\": \"dummy\"}\n",
        "feats_deled = []\n",
        "\n",
        "all_data_corr_mtrx2 = data_corr_mtrx.copy()  # for easy\n",
        "def add_to_dct(l, ft, ft2):\n",
        "    try:\n",
        "        l[ft].append(ft2)\n",
        "    except KeyError:\n",
        "        l[ft] = [ft2]\n",
        "\n",
        "get_imp = lambda feat: importances.loc[feat][0]\n",
        "srt_key = lambda elem: get_imp(elem[0])  # gets imp of first elem\n",
        "\n",
        "def what_to_del(dct_srt):\n",
        "    to_del = []  #least imp feature\n",
        "    for k, val in dct_srt.items():\n",
        "        ## get all indexes lower than current k\n",
        "        feats_lw_imp = importances[importances.index.slice_indexer(k)].index\n",
        "        if set(val) - set(feats_lw_imp):  # feat k creates a corr pair w/ feature of higher importance --- delete feat k\n",
        "            if k not in to_del: to_del.append(k)\n",
        "        else:  # feat k creates a corr pair w/ features of lower importnace --- delete one w/ lowest imp\n",
        "            for ft in feats_lw_imp[::-1]:  # searching from least important\n",
        "                if ft in val and ft not in to_del:\n",
        "                    to_del.append(ft)\n",
        "                    break  ## deleting first founud feat of lowest possible importance\n",
        "    return to_del\n",
        "\n",
        "\n",
        "while highly_corr:\n",
        "    count = 0\n",
        "    highly_corr.clear()\n",
        "    for feats, val in srt_corr(all_data_corr_mtrx2).items():\n",
        "        if val > thres_corr and feats[0] != feats[1]:\n",
        "            count += 1\n",
        "            add_to_dct(highly_corr, feats[0], feats[1])\n",
        "    if not highly_corr: break  # no more highly corr pairs\n",
        "    highly_corr_srt = OrderedDict(sorted(highly_corr.items(), key=srt_key))  # sorted based on imp\n",
        "\n",
        "    to_del = what_to_del(highly_corr_srt)\n",
        "    feats_deled += to_del\n",
        "    epoch +=1 # first epoch will be 1 not 0!\n",
        "    print(\"there are {} higly correlated pairs in {} iteration\".format(count, epoch))\n",
        "    all_data_corr_mtrx2.drop(to_del, axis=1, inplace=True)\n",
        "    all_data_corr_mtrx2.drop(to_del, axis=0, inplace=True)  # need to remove the feat from both cols and index\n",
        "\n",
        "print(\"deleting: {} feature\".format(len(feats_deled)))\n",
        "print(\"finally deleted:\\n\"+ \"\\n\".join(feats_deled))"
      ]
    },
    {
      "cell_type": "code",
      "source": [
        "data = df_importance.copy() ## just for ease of cells executing\n",
        "data.shape"
      ],
      "metadata": {
        "colab": {
          "base_uri": "https://localhost:8080/"
        },
        "id": "-8NL5FicNHmK",
        "outputId": "86205c66-c76f-4634-d13e-a8279186a2cd"
      },
      "execution_count": null,
      "outputs": [
        {
          "output_type": "execute_result",
          "data": {
            "text/plain": [
              "(2099769, 74)"
            ]
          },
          "metadata": {},
          "execution_count": 90
        }
      ]
    },
    {
      "cell_type": "code",
      "execution_count": null,
      "metadata": {
        "id": "ahkXL-Ya2EI-"
      },
      "outputs": [],
      "source": [
        "#Mantenere BwdPacketLengthMean, BwdPacketLengthMax, FwdIATMin, FwdIATTotal, BwdPacketLengthMean, BwdPacketLengthMax\n",
        "# items to be removed\n",
        "unwanted_num = {'BwdPacketLengthMean', 'BwdPacketLengthMax', 'FwdIATMin', 'FwdIATTotal', 'BwdPacketLengthMean', 'BwdPacketLengthMax'}\n",
        "\n",
        "feats_deled = [ele for ele in feats_deled if ele not in unwanted_num]\n",
        "\n",
        "data.drop(feats_deled, axis=1, inplace=True)\n",
        "data_encoded = data.copy()"
      ]
    },
    {
      "cell_type": "code",
      "source": [
        "data.shape  #26-6 feature tolte per la correlazione"
      ],
      "metadata": {
        "colab": {
          "base_uri": "https://localhost:8080/"
        },
        "id": "OjFmXDLhNFhJ",
        "outputId": "708cd4cc-d24d-4711-f19a-7838d6940ed1"
      },
      "execution_count": null,
      "outputs": [
        {
          "output_type": "execute_result",
          "data": {
            "text/plain": [
              "(2099769, 52)"
            ]
          },
          "metadata": {},
          "execution_count": 92
        }
      ]
    },
    {
      "cell_type": "code",
      "execution_count": null,
      "metadata": {
        "id": "0S59qksO0LxJ"
      },
      "outputs": [],
      "source": [
        "## plotting a correlation heatmap after removing highly correlated pairs\n",
        "final_corr_mtrx = data.corr()\n",
        "\n",
        "plt.gcf().set_size_inches(60, 60)\n",
        "hm2 = sns.heatmap(final_corr_mtrx, annot=True, linewidths=.8, annot_kws={\"fontsize\": 15}, fmt=\".2f\")\n",
        "hm2.set_yticklabels(hm2.get_ymajorticklabels(), fontsize = 25)\n",
        "hm2.set_xticklabels(hm2.get_xmajorticklabels(), fontsize = 25)\n",
        "plt.savefig(f\"{images_dir}/corrHeatmapCICIDS2017after.pdf\", dpi=200, format='pdf', bbox_inches = \"tight\", pad_inches=0.4)\n",
        "plt.show()"
      ]
    },
    {
      "cell_type": "code",
      "source": [
        "#SALVO DATASET CSV PRIMA DELL'ENCODING\n",
        "data.to_csv(r'drive/My Drive/Colab Notebooks/progettoTesi/Dataset2017/improved/Pre-processed_versions/dataCleaned.csv', index = False)"
      ],
      "metadata": {
        "id": "FQBeBNIpfZ4Z"
      },
      "execution_count": null,
      "outputs": []
    },
    {
      "cell_type": "markdown",
      "metadata": {
        "id": "wn1mNLrliwqT"
      },
      "source": [
        "## Encoding"
      ]
    },
    {
      "cell_type": "code",
      "source": [
        "df_importance['Label'].value_counts()"
      ],
      "metadata": {
        "colab": {
          "base_uri": "https://localhost:8080/"
        },
        "id": "31_-Pk--eWY2",
        "outputId": "1b4b80ce-5e8a-4b92-9362-e15c09ade132"
      },
      "execution_count": null,
      "outputs": [
        {
          "output_type": "execute_result",
          "data": {
            "text/plain": [
              "BENIGN                   1594422\n",
              "Infiltration_Portscan     230853\n",
              "DoS                       171620\n",
              "DDoS                       95133\n",
              "BruteForce                  7005\n",
              "Botnet                       736\n",
              "Name: Label, dtype: int64"
            ]
          },
          "metadata": {},
          "execution_count": 52
        }
      ]
    },
    {
      "cell_type": "code",
      "source": [
        "## traffic type distribution in training set after oversampling\n",
        "order = ['BENIGN', 'Infiltration_Portscan', 'DoS', 'DDoS', 'BruteForce', 'Botnet']\n",
        "\n",
        "palette = {}\n",
        "for key in order:\n",
        "    palette[key] = \"g\" if key == \"BENIGN\" else \"r\"\n",
        "# Assuming 'df' is your DataFrame and 'Label' is the column you want to visualize\n",
        "g = sns.countplot(x='Label', data=df_importance, palette=palette)\n",
        "\n",
        "# Add count values on top of each bar\n",
        "for p in g.patches:\n",
        "    g.annotate(f'{int(p.get_height())}', (p.get_x() + p.get_width() / 2., p.get_height()),\n",
        "                ha='center', va='baseline', fontsize=9, color='black', xytext=(0, 5),\n",
        "                textcoords='offset points')\n",
        "\n",
        "plt.title('Occorrenze per ogni categoria dopo il pre-processing')\n",
        "plt.xlabel('Label')\n",
        "plt.xticks(rotation=90)\n",
        "plt.ylabel('Frequenza')\n",
        "\n",
        "plt.savefig(f\"{images_dir}/distribuzFINALELabelCICIDS2017.pdf\", dpi=200, format='pdf', bbox_inches = \"tight\", pad_inches=0.2)\n",
        "plt.show()"
      ],
      "metadata": {
        "id": "Zol8UYEbdrt1",
        "colab": {
          "base_uri": "https://localhost:8080/",
          "height": 596
        },
        "outputId": "b5811d2e-6e59-46d0-e478-937ee162b603"
      },
      "execution_count": null,
      "outputs": [
        {
          "output_type": "display_data",
          "data": {
            "text/plain": [
              "<Figure size 640x480 with 1 Axes>"
            ],
            "image/png": "[encoded data removed]"
          },
          "metadata": {}
        }
      ]
    },
    {
      "cell_type": "code",
      "execution_count": null,
      "metadata": {
        "colab": {
          "base_uri": "https://localhost:8080/"
        },
        "id": "Yf6HrnxEixEp",
        "outputId": "bcad20a6-d8b3-4aa2-e44f-59bd6730798a"
      },
      "outputs": [
        {
          "output_type": "stream",
          "name": "stdout",
          "text": [
            "['Label']\n",
            "======================\n",
            "(2099769, 72)\n"
          ]
        }
      ],
      "source": [
        "#####sistemo feature categoriche = feature encoding\n",
        "data_encoded = df_importance.copy()\n",
        "#cerco quelle numeriche per poi scremare e trovare le categoriche\n",
        "cols = data_encoded.columns\n",
        "num_cols = data_encoded._get_numeric_data().columns\n",
        "print(list(set(cols) - set(num_cols)))\n",
        "\n",
        "print(\"======================\")\n",
        "print(data_encoded.shape)"
      ]
    },
    {
      "cell_type": "code",
      "source": [
        "print(data_encoded['Label'].value_counts()) #6 classi finali per la classificazione del traffico"
      ],
      "metadata": {
        "colab": {
          "base_uri": "https://localhost:8080/"
        },
        "id": "uAwoDOoZP55f",
        "outputId": "18ae9e3d-7715-4f93-a470-75090c2674c6"
      },
      "execution_count": null,
      "outputs": [
        {
          "output_type": "stream",
          "name": "stdout",
          "text": [
            "BENIGN                   1594422\n",
            "Infiltration_Portscan     230853\n",
            "DoS                       171620\n",
            "DDoS                       95133\n",
            "BruteForce                  7005\n",
            "Botnet                       736\n",
            "Name: Label, dtype: int64\n"
          ]
        }
      ]
    },
    {
      "cell_type": "code",
      "execution_count": null,
      "metadata": {
        "colab": {
          "base_uri": "https://localhost:8080/"
        },
        "id": "c5RY4WoYjAnI",
        "outputId": "39562393-f139-45c5-8b63-36ab04e6b564"
      },
      "outputs": [
        {
          "output_type": "execute_result",
          "data": {
            "text/plain": [
              "['L_BENIGN',\n",
              " 'L_Infiltration_Portscan',\n",
              " 'L_DDoS',\n",
              " 'L_DoS',\n",
              " 'L_BruteForce',\n",
              " 'L_Botnet']"
            ]
          },
          "metadata": {},
          "execution_count": 34
        }
      ],
      "source": [
        "#hot-encoding multi-class\n",
        "## Label\n",
        "\n",
        "cat_cols = [\"Label\"]\n",
        "cat_cols_encoded = []\n",
        "for col in cat_cols:\n",
        "  cat_cols_encoded += [f\"{col[0]}_{cat}\" for cat in list(data_encoded[col].unique())]\n",
        "\n",
        "cat_cols_encoded"
      ]
    },
    {
      "cell_type": "code",
      "source": [
        "#NON FUNZIONA con onehotencoder di preprocessing lib (Dà NaN verso la fine)\n",
        "#USO DUMMIES\n",
        "\n",
        "df_finEnc = pd.get_dummies(\n",
        "    data=data_encoded,\n",
        "    columns=[\"Label\"],\n",
        "    prefix=[\"L\"])\n",
        "\n",
        "df_finEnc.head()"
      ],
      "metadata": {
        "colab": {
          "base_uri": "https://localhost:8080/",
          "height": 255
        },
        "id": "eLd6QVUXfB_B",
        "outputId": "de1d040f-1b80-4bd5-eb3e-076ecc494b49"
      },
      "execution_count": null,
      "outputs": [
        {
          "output_type": "execute_result",
          "data": {
            "text/plain": [
              "   SrcPort  DstPort  Protocol  FlowDuration  TotalFwdPacket  TotalBwdpackets  \\\n",
              "0    61810       53        17        155865               1                1   \n",
              "1    58056     5633         6            69               1                1   \n",
              "2    62117       53        17     106359793               3                3   \n",
              "3    58278       53        17         61202               2                2   \n",
              "4    58239      443         6        524988              21               17   \n",
              "\n",
              "   TotalLengthofFwdPacket  TotalLengthofBwdPacket  FwdPacketLengthMax  \\\n",
              "0                      56                      72                  56   \n",
              "1                       0                       0                   0   \n",
              "2                     153                     482                  64   \n",
              "3                      78                     142                  39   \n",
              "4                     704                   10802                 357   \n",
              "\n",
              "   FwdPacketLengthMin  ...  ActiveMax  ActiveMin  IdleMin  TotalTCPFlowTime  \\\n",
              "0                  56  ...          0          0        0                 0   \n",
              "1                   0  ...          0          0        0                69   \n",
              "2                  42  ...     762710      30648  8633476                 0   \n",
              "3                  39  ...          0          0        0                 0   \n",
              "4                   0  ...          0          0        0            524988   \n",
              "\n",
              "   L_BENIGN  L_Botnet  L_BruteForce  L_DDoS  L_DoS  L_Infiltration_Portscan  \n",
              "0         1         0             0       0      0                        0  \n",
              "1         0         0             0       0      0                        1  \n",
              "2         1         0             0       0      0                        0  \n",
              "3         1         0             0       0      0                        0  \n",
              "4         1         0             0       0      0                        0  \n",
              "\n",
              "[5 rows x 77 columns]"
            ],
            "text/html": [
              "\n",
              "  <div id=\"df-0fcdc0e1-3970-48bd-8e1e-f89087cea84b\" class=\"colab-df-container\">\n",
              "    <div>\n",
              "<style scoped>\n",
              "    .dataframe tbody tr th:only-of-type {\n",
              "        vertical-align: middle;\n",
              "    }\n",
              "\n",
              "    .dataframe tbody tr th {\n",
              "        vertical-align: top;\n",
              "    }\n",
              "\n",
              "    .dataframe thead th {\n",
              "        text-align: right;\n",
              "    }\n",
              "</style>\n",
              "<table border=\"1\" class=\"dataframe\">\n",
              "  <thead>\n",
              "    <tr style=\"text-align: right;\">\n",
              "      <th></th>\n",
              "      <th>SrcPort</th>\n",
              "      <th>DstPort</th>\n",
              "      <th>Protocol</th>\n",
              "      <th>FlowDuration</th>\n",
              "      <th>TotalFwdPacket</th>\n",
              "      <th>TotalBwdpackets</th>\n",
              "      <th>TotalLengthofFwdPacket</th>\n",
              "      <th>TotalLengthofBwdPacket</th>\n",
              "      <th>FwdPacketLengthMax</th>\n",
              "      <th>FwdPacketLengthMin</th>\n",
              "      <th>...</th>\n",
              "      <th>ActiveMax</th>\n",
              "      <th>ActiveMin</th>\n",
              "      <th>IdleMin</th>\n",
              "      <th>TotalTCPFlowTime</th>\n",
              "      <th>L_BENIGN</th>\n",
              "      <th>L_Botnet</th>\n",
              "      <th>L_BruteForce</th>\n",
              "      <th>L_DDoS</th>\n",
              "      <th>L_DoS</th>\n",
              "      <th>L_Infiltration_Portscan</th>\n",
              "    </tr>\n",
              "  </thead>\n",
              "  <tbody>\n",
              "    <tr>\n",
              "      <th>0</th>\n",
              "      <td>61810</td>\n",
              "      <td>53</td>\n",
              "      <td>17</td>\n",
              "      <td>155865</td>\n",
              "      <td>1</td>\n",
              "      <td>1</td>\n",
              "      <td>56</td>\n",
              "      <td>72</td>\n",
              "      <td>56</td>\n",
              "      <td>56</td>\n",
              "      <td>...</td>\n",
              "      <td>0</td>\n",
              "      <td>0</td>\n",
              "      <td>0</td>\n",
              "      <td>0</td>\n",
              "      <td>1</td>\n",
              "      <td>0</td>\n",
              "      <td>0</td>\n",
              "      <td>0</td>\n",
              "      <td>0</td>\n",
              "      <td>0</td>\n",
              "    </tr>\n",
              "    <tr>\n",
              "      <th>1</th>\n",
              "      <td>58056</td>\n",
              "      <td>5633</td>\n",
              "      <td>6</td>\n",
              "      <td>69</td>\n",
              "      <td>1</td>\n",
              "      <td>1</td>\n",
              "      <td>0</td>\n",
              "      <td>0</td>\n",
              "      <td>0</td>\n",
              "      <td>0</td>\n",
              "      <td>...</td>\n",
              "      <td>0</td>\n",
              "      <td>0</td>\n",
              "      <td>0</td>\n",
              "      <td>69</td>\n",
              "      <td>0</td>\n",
              "      <td>0</td>\n",
              "      <td>0</td>\n",
              "      <td>0</td>\n",
              "      <td>0</td>\n",
              "      <td>1</td>\n",
              "    </tr>\n",
              "    <tr>\n",
              "      <th>2</th>\n",
              "      <td>62117</td>\n",
              "      <td>53</td>\n",
              "      <td>17</td>\n",
              "      <td>106359793</td>\n",
              "      <td>3</td>\n",
              "      <td>3</td>\n",
              "      <td>153</td>\n",
              "      <td>482</td>\n",
              "      <td>64</td>\n",
              "      <td>42</td>\n",
              "      <td>...</td>\n",
              "      <td>762710</td>\n",
              "      <td>30648</td>\n",
              "      <td>8633476</td>\n",
              "      <td>0</td>\n",
              "      <td>1</td>\n",
              "      <td>0</td>\n",
              "      <td>0</td>\n",
              "      <td>0</td>\n",
              "      <td>0</td>\n",
              "      <td>0</td>\n",
              "    </tr>\n",
              "    <tr>\n",
              "      <th>3</th>\n",
              "      <td>58278</td>\n",
              "      <td>53</td>\n",
              "      <td>17</td>\n",
              "      <td>61202</td>\n",
              "      <td>2</td>\n",
              "      <td>2</td>\n",
              "      <td>78</td>\n",
              "      <td>142</td>\n",
              "      <td>39</td>\n",
              "      <td>39</td>\n",
              "      <td>...</td>\n",
              "      <td>0</td>\n",
              "      <td>0</td>\n",
              "      <td>0</td>\n",
              "      <td>0</td>\n",
              "      <td>1</td>\n",
              "      <td>0</td>\n",
              "      <td>0</td>\n",
              "      <td>0</td>\n",
              "      <td>0</td>\n",
              "      <td>0</td>\n",
              "    </tr>\n",
              "    <tr>\n",
              "      <th>4</th>\n",
              "      <td>58239</td>\n",
              "      <td>443</td>\n",
              "      <td>6</td>\n",
              "      <td>524988</td>\n",
              "      <td>21</td>\n",
              "      <td>17</td>\n",
              "      <td>704</td>\n",
              "      <td>10802</td>\n",
              "      <td>357</td>\n",
              "      <td>0</td>\n",
              "      <td>...</td>\n",
              "      <td>0</td>\n",
              "      <td>0</td>\n",
              "      <td>0</td>\n",
              "      <td>524988</td>\n",
              "      <td>1</td>\n",
              "      <td>0</td>\n",
              "      <td>0</td>\n",
              "      <td>0</td>\n",
              "      <td>0</td>\n",
              "      <td>0</td>\n",
              "    </tr>\n",
              "  </tbody>\n",
              "</table>\n",
              "<p>5 rows × 77 columns</p>\n",
              "</div>\n",
              "    <div class=\"colab-df-buttons\">\n",
              "\n",
              "  <div class=\"colab-df-container\">\n",
              "    <button class=\"colab-df-convert\" onclick=\"convertToInteractive('df-0fcdc0e1-3970-48bd-8e1e-f89087cea84b')\"\n",
              "            title=\"Convert this dataframe to an interactive table.\"\n",
              "            style=\"display:none;\">\n",
              "\n",
              "  <svg xmlns=\"http://www.w3.org/2000/svg\" height=\"24px\" viewBox=\"0 -960 960 960\">\n",
              "    <path d=\"M120-120v-720h720v720H120Zm60-500h600v-160H180v160Zm220 220h160v-160H400v160Zm0 220h160v-160H400v160ZM180-400h160v-160H180v160Zm440 0h160v-160H620v160ZM180-180h160v-160H180v160Zm440 0h160v-160H620v160Z\"/>\n",
              "  </svg>\n",
              "    </button>\n",
              "\n",
              "  <style>\n",
              "    .colab-df-container {\n",
              "      display:flex;\n",
              "      gap: 12px;\n",
              "    }\n",
              "\n",
              "    .colab-df-convert {\n",
              "      background-color: #E8F0FE;\n",
              "      border: none;\n",
              "      border-radius: 50%;\n",
              "      cursor: pointer;\n",
              "      display: none;\n",
              "      fill: #1967D2;\n",
              "      height: 32px;\n",
              "      padding: 0 0 0 0;\n",
              "      width: 32px;\n",
              "    }\n",
              "\n",
              "    .colab-df-convert:hover {\n",
              "      background-color: #E2EBFA;\n",
              "      box-shadow: 0px 1px 2px rgba(60, 64, 67, 0.3), 0px 1px 3px 1px rgba(60, 64, 67, 0.15);\n",
              "      fill: #174EA6;\n",
              "    }\n",
              "\n",
              "    .colab-df-buttons div {\n",
              "      margin-bottom: 4px;\n",
              "    }\n",
              "\n",
              "    [theme=dark] .colab-df-convert {\n",
              "      background-color: #3B4455;\n",
              "      fill: #D2E3FC;\n",
              "    }\n",
              "\n",
              "    [theme=dark] .colab-df-convert:hover {\n",
              "      background-color: #434B5C;\n",
              "      box-shadow: 0px 1px 3px 1px rgba(0, 0, 0, 0.15);\n",
              "      filter: drop-shadow(0px 1px 2px rgba(0, 0, 0, 0.3));\n",
              "      fill: #FFFFFF;\n",
              "    }\n",
              "  </style>\n",
              "\n",
              "    <script>\n",
              "      const buttonEl =\n",
              "        document.querySelector('#df-0fcdc0e1-3970-48bd-8e1e-f89087cea84b button.colab-df-convert');\n",
              "      buttonEl.style.display =\n",
              "        google.colab.kernel.accessAllowed ? 'block' : 'none';\n",
              "\n",
              "      async function convertToInteractive(key) {\n",
              "        const element = document.querySelector('#df-0fcdc0e1-3970-48bd-8e1e-f89087cea84b');\n",
              "        const dataTable =\n",
              "          await google.colab.kernel.invokeFunction('convertToInteractive',\n",
              "                                                    [key], {});\n",
              "        if (!dataTable) return;\n",
              "\n",
              "        const docLinkHtml = 'Like what you see? Visit the ' +\n",
              "          '<a target=\"_blank\" href=https://colab.research.google.com/notebooks/data_table.ipynb>data table notebook</a>'\n",
              "          + ' to learn more about interactive tables.';\n",
              "        element.innerHTML = '';\n",
              "        dataTable['output_type'] = 'display_data';\n",
              "        await google.colab.output.renderOutput(dataTable, element);\n",
              "        const docLink = document.createElement('div');\n",
              "        docLink.innerHTML = docLinkHtml;\n",
              "        element.appendChild(docLink);\n",
              "      }\n",
              "    </script>\n",
              "  </div>\n",
              "\n",
              "\n",
              "<div id=\"df-e1863fb6-ddc4-4b8a-ab79-9e01026fa9bf\">\n",
              "  <button class=\"colab-df-quickchart\" onclick=\"quickchart('df-e1863fb6-ddc4-4b8a-ab79-9e01026fa9bf')\"\n",
              "            title=\"Suggest charts\"\n",
              "            style=\"display:none;\">\n",
              "\n",
              "<svg xmlns=\"http://www.w3.org/2000/svg\" height=\"24px\"viewBox=\"0 0 24 24\"\n",
              "     width=\"24px\">\n",
              "    <g>\n",
              "        <path d=\"M19 3H5c-1.1 0-2 .9-2 2v14c0 1.1.9 2 2 2h14c1.1 0 2-.9 2-2V5c0-1.1-.9-2-2-2zM9 17H7v-7h2v7zm4 0h-2V7h2v10zm4 0h-2v-4h2v4z\"/>\n",
              "    </g>\n",
              "</svg>\n",
              "  </button>\n",
              "\n",
              "<style>\n",
              "  .colab-df-quickchart {\n",
              "      --bg-color: #E8F0FE;\n",
              "      --fill-color: #1967D2;\n",
              "      --hover-bg-color: #E2EBFA;\n",
              "      --hover-fill-color: #174EA6;\n",
              "      --disabled-fill-color: #AAA;\n",
              "      --disabled-bg-color: #DDD;\n",
              "  }\n",
              "\n",
              "  [theme=dark] .colab-df-quickchart {\n",
              "      --bg-color: #3B4455;\n",
              "      --fill-color: #D2E3FC;\n",
              "      --hover-bg-color: #434B5C;\n",
              "      --hover-fill-color: #FFFFFF;\n",
              "      --disabled-bg-color: #3B4455;\n",
              "      --disabled-fill-color: #666;\n",
              "  }\n",
              "\n",
              "  .colab-df-quickchart {\n",
              "    background-color: var(--bg-color);\n",
              "    border: none;\n",
              "    border-radius: 50%;\n",
              "    cursor: pointer;\n",
              "    display: none;\n",
              "    fill: var(--fill-color);\n",
              "    height: 32px;\n",
              "    padding: 0;\n",
              "    width: 32px;\n",
              "  }\n",
              "\n",
              "  .colab-df-quickchart:hover {\n",
              "    background-color: var(--hover-bg-color);\n",
              "    box-shadow: 0 1px 2px rgba(60, 64, 67, 0.3), 0 1px 3px 1px rgba(60, 64, 67, 0.15);\n",
              "    fill: var(--button-hover-fill-color);\n",
              "  }\n",
              "\n",
              "  .colab-df-quickchart-complete:disabled,\n",
              "  .colab-df-quickchart-complete:disabled:hover {\n",
              "    background-color: var(--disabled-bg-color);\n",
              "    fill: var(--disabled-fill-color);\n",
              "    box-shadow: none;\n",
              "  }\n",
              "\n",
              "  .colab-df-spinner {\n",
              "    border: 2px solid var(--fill-color);\n",
              "    border-color: transparent;\n",
              "    border-bottom-color: var(--fill-color);\n",
              "    animation:\n",
              "      spin 1s steps(1) infinite;\n",
              "  }\n",
              "\n",
              "  @keyframes spin {\n",
              "    0% {\n",
              "      border-color: transparent;\n",
              "      border-bottom-color: var(--fill-color);\n",
              "      border-left-color: var(--fill-color);\n",
              "    }\n",
              "    20% {\n",
              "      border-color: transparent;\n",
              "      border-left-color: var(--fill-color);\n",
              "      border-top-color: var(--fill-color);\n",
              "    }\n",
              "    30% {\n",
              "      border-color: transparent;\n",
              "      border-left-color: var(--fill-color);\n",
              "      border-top-color: var(--fill-color);\n",
              "      border-right-color: var(--fill-color);\n",
              "    }\n",
              "    40% {\n",
              "      border-color: transparent;\n",
              "      border-right-color: var(--fill-color);\n",
              "      border-top-color: var(--fill-color);\n",
              "    }\n",
              "    60% {\n",
              "      border-color: transparent;\n",
              "      border-right-color: var(--fill-color);\n",
              "    }\n",
              "    80% {\n",
              "      border-color: transparent;\n",
              "      border-right-color: var(--fill-color);\n",
              "      border-bottom-color: var(--fill-color);\n",
              "    }\n",
              "    90% {\n",
              "      border-color: transparent;\n",
              "      border-bottom-color: var(--fill-color);\n",
              "    }\n",
              "  }\n",
              "</style>\n",
              "\n",
              "  <script>\n",
              "    async function quickchart(key) {\n",
              "      const quickchartButtonEl =\n",
              "        document.querySelector('#' + key + ' button');\n",
              "      quickchartButtonEl.disabled = true;  // To prevent multiple clicks.\n",
              "      quickchartButtonEl.classList.add('colab-df-spinner');\n",
              "      try {\n",
              "        const charts = await google.colab.kernel.invokeFunction(\n",
              "            'suggestCharts', [key], {});\n",
              "      } catch (error) {\n",
              "        console.error('Error during call to suggestCharts:', error);\n",
              "      }\n",
              "      quickchartButtonEl.classList.remove('colab-df-spinner');\n",
              "      quickchartButtonEl.classList.add('colab-df-quickchart-complete');\n",
              "    }\n",
              "    (() => {\n",
              "      let quickchartButtonEl =\n",
              "        document.querySelector('#df-e1863fb6-ddc4-4b8a-ab79-9e01026fa9bf button');\n",
              "      quickchartButtonEl.style.display =\n",
              "        google.colab.kernel.accessAllowed ? 'block' : 'none';\n",
              "    })();\n",
              "  </script>\n",
              "</div>\n",
              "    </div>\n",
              "  </div>\n"
            ]
          },
          "metadata": {},
          "execution_count": 35
        }
      ]
    },
    {
      "cell_type": "markdown",
      "source": [
        "#### Binarizzo IP come encoding - **NO**"
      ],
      "metadata": {
        "id": "4ZG4Msj5Kl-u"
      }
    },
    {
      "cell_type": "code",
      "source": [
        "#CIT - https://www.mohammedalani.com/tutorials/handling-ip-addresses-in-machine-learning-datasets/\n",
        "#not be able to identify the relationship between IP addresses of two hosts within the same network\n",
        "#BUT\n",
        "#it can be helpful in recognizing data flows, and doing statistics analysis of data originating or landing in a specific node\n",
        "\n",
        "## ---------- BINARIZZO IP -------------- #LABEL BINARIZE\n",
        "train_data = ['127.0.0.1']\n",
        "df_ipEnc = df_finEnc.copy()\n",
        "ip_encoder = preprocessing.LabelBinarizer()\n",
        "print(df_ipEnc[\"SrcIP\"].values[3])\n",
        "df_ipEnc = ip_encoder.fit_transform(df_ipEnc[\"SrcIP\"].values[3].split('.'))\n"
      ],
      "metadata": {
        "id": "8guSyXHSKgZQ"
      },
      "execution_count": null,
      "outputs": []
    },
    {
      "cell_type": "code",
      "source": [
        "print(df_ipEnc)\n",
        "print(\"=================\")\n",
        "print(df_ipEnc.tolist())"
      ],
      "metadata": {
        "id": "gAGjqCZKnnmj"
      },
      "execution_count": null,
      "outputs": []
    },
    {
      "cell_type": "code",
      "source": [
        "#SALVO DATASET CSV PRIMA DELLA NORMALIZZAZIONE\n",
        "data_encoded.to_csv(r'drive/My Drive/Colab Notebooks/progettoTesi/Dataset2017/improved/Pre-processed_versions/dataCleanedEncoded.csv', index = False)"
      ],
      "metadata": {
        "id": "6gUZz9jSerCd"
      },
      "execution_count": null,
      "outputs": []
    },
    {
      "cell_type": "markdown",
      "metadata": {
        "id": "nvwGXbNTqbsq"
      },
      "source": [
        "#### Splitting IP come encoding - **NO**"
      ]
    },
    {
      "cell_type": "code",
      "execution_count": null,
      "metadata": {
        "id": "hJlo6Po9nQoN",
        "colab": {
          "base_uri": "https://localhost:8080/",
          "height": 443
        },
        "outputId": "561d1855-931a-498a-933c-054a16a92410"
      },
      "outputs": [
        {
          "output_type": "execute_result",
          "data": {
            "text/plain": [
              "         SrcPort  DstPort  Protocol  FlowDuration  TotalFwdPacket  \\\n",
              "0          57235       53        17           270               2   \n",
              "1          50194       53        17       1214161               4   \n",
              "2          49476       53        17       1333756               2   \n",
              "3          37820       80         6        175982               9   \n",
              "4          64579       53        17        283967               2   \n",
              "...          ...      ...       ...           ...             ...   \n",
              "2065306    60920       53        17        116473               1   \n",
              "2065307    52752       80         6       3559942               7   \n",
              "2065308    61611      443         6       2247446              21   \n",
              "2065309    59631       53        17         60745               2   \n",
              "2065310    26412       53        17         60377               2   \n",
              "\n",
              "         TotalLengthofFwdPacket  FwdPacketLengthMax  FwdPacketLengthMin  \\\n",
              "0                            82                  41                  41   \n",
              "1                           128                  32                  32   \n",
              "2                            74                  37                  37   \n",
              "3                           296                 296                   0   \n",
              "4                            86                  43                  43   \n",
              "...                         ...                 ...                 ...   \n",
              "2065306                      49                  49                  49   \n",
              "2065307                      20                  20                   0   \n",
              "2065308                     910                 341                   0   \n",
              "2065309                      68                  34                  34   \n",
              "2065310                      72                  36                  36   \n",
              "\n",
              "         FwdPacketLengthStd  BwdPacketLengthStd  ...  L_Portscan  \\\n",
              "0                  0.000000            0.000000  ...           0   \n",
              "1                  0.000000            0.000000  ...           0   \n",
              "2                  0.000000            0.000000  ...           0   \n",
              "3                 98.666667         1547.981999  ...           0   \n",
              "4                  0.000000            0.000000  ...           0   \n",
              "...                     ...                 ...  ...         ...   \n",
              "2065306            0.000000            0.000000  ...           0   \n",
              "2065307            7.559289         4129.722297  ...           0   \n",
              "2065308           88.258333          679.746241  ...           0   \n",
              "2065309            0.000000            0.000000  ...           0   \n",
              "2065310            0.000000            0.000000  ...           0   \n",
              "\n",
              "         L_WebAttacks_Heartbleed  DstIP_1  DstIP_2  DstIP_3  DstIP_4  SrcIP_1  \\\n",
              "0                              0      192      168       10        3      192   \n",
              "1                              0      192      168       10        3      192   \n",
              "2                              0      192      168       10        3      192   \n",
              "3                              0      192      168       10       50      172   \n",
              "4                              0      192      168       10        3      192   \n",
              "...                          ...      ...      ...      ...      ...      ...   \n",
              "2065306                        0      192      168       10        1      192   \n",
              "2065307                        0      192      168       10       50      172   \n",
              "2065308                        0      172      217       10      227      192   \n",
              "2065309                        0      192      168       10        3      192   \n",
              "2065310                        0      192      168       10        3      192   \n",
              "\n",
              "         SrcIP_2  SrcIP_3  SrcIP_4  \n",
              "0            168       10        9  \n",
              "1            168       10        9  \n",
              "2            168       10       19  \n",
              "3             16        0        1  \n",
              "4            168       10        9  \n",
              "...          ...      ...      ...  \n",
              "2065306      168       10        3  \n",
              "2065307       16        0        1  \n",
              "2065308      168       10        8  \n",
              "2065309      168       10       51  \n",
              "2065310      168       10       19  \n",
              "\n",
              "[2065306 rows x 63 columns]"
            ],
            "text/html": [
              "\n",
              "  <div id=\"df-42fbfa23-12e3-4882-8955-7838c1591b6f\" class=\"colab-df-container\">\n",
              "    <div>\n",
              "<style scoped>\n",
              "    .dataframe tbody tr th:only-of-type {\n",
              "        vertical-align: middle;\n",
              "    }\n",
              "\n",
              "    .dataframe tbody tr th {\n",
              "        vertical-align: top;\n",
              "    }\n",
              "\n",
              "    .dataframe thead th {\n",
              "        text-align: right;\n",
              "    }\n",
              "</style>\n",
              "<table border=\"1\" class=\"dataframe\">\n",
              "  <thead>\n",
              "    <tr style=\"text-align: right;\">\n",
              "      <th></th>\n",
              "      <th>SrcPort</th>\n",
              "      <th>DstPort</th>\n",
              "      <th>Protocol</th>\n",
              "      <th>FlowDuration</th>\n",
              "      <th>TotalFwdPacket</th>\n",
              "      <th>TotalLengthofFwdPacket</th>\n",
              "      <th>FwdPacketLengthMax</th>\n",
              "      <th>FwdPacketLengthMin</th>\n",
              "      <th>FwdPacketLengthStd</th>\n",
              "      <th>BwdPacketLengthStd</th>\n",
              "      <th>...</th>\n",
              "      <th>L_Portscan</th>\n",
              "      <th>L_WebAttacks_Heartbleed</th>\n",
              "      <th>DstIP_1</th>\n",
              "      <th>DstIP_2</th>\n",
              "      <th>DstIP_3</th>\n",
              "      <th>DstIP_4</th>\n",
              "      <th>SrcIP_1</th>\n",
              "      <th>SrcIP_2</th>\n",
              "      <th>SrcIP_3</th>\n",
              "      <th>SrcIP_4</th>\n",
              "    </tr>\n",
              "  </thead>\n",
              "  <tbody>\n",
              "    <tr>\n",
              "      <th>0</th>\n",
              "      <td>57235</td>\n",
              "      <td>53</td>\n",
              "      <td>17</td>\n",
              "      <td>270</td>\n",
              "      <td>2</td>\n",
              "      <td>82</td>\n",
              "      <td>41</td>\n",
              "      <td>41</td>\n",
              "      <td>0.000000</td>\n",
              "      <td>0.000000</td>\n",
              "      <td>...</td>\n",
              "      <td>0</td>\n",
              "      <td>0</td>\n",
              "      <td>192</td>\n",
              "      <td>168</td>\n",
              "      <td>10</td>\n",
              "      <td>3</td>\n",
              "      <td>192</td>\n",
              "      <td>168</td>\n",
              "      <td>10</td>\n",
              "      <td>9</td>\n",
              "    </tr>\n",
              "    <tr>\n",
              "      <th>1</th>\n",
              "      <td>50194</td>\n",
              "      <td>53</td>\n",
              "      <td>17</td>\n",
              "      <td>1214161</td>\n",
              "      <td>4</td>\n",
              "      <td>128</td>\n",
              "      <td>32</td>\n",
              "      <td>32</td>\n",
              "      <td>0.000000</td>\n",
              "      <td>0.000000</td>\n",
              "      <td>...</td>\n",
              "      <td>0</td>\n",
              "      <td>0</td>\n",
              "      <td>192</td>\n",
              "      <td>168</td>\n",
              "      <td>10</td>\n",
              "      <td>3</td>\n",
              "      <td>192</td>\n",
              "      <td>168</td>\n",
              "      <td>10</td>\n",
              "      <td>9</td>\n",
              "    </tr>\n",
              "    <tr>\n",
              "      <th>2</th>\n",
              "      <td>49476</td>\n",
              "      <td>53</td>\n",
              "      <td>17</td>\n",
              "      <td>1333756</td>\n",
              "      <td>2</td>\n",
              "      <td>74</td>\n",
              "      <td>37</td>\n",
              "      <td>37</td>\n",
              "      <td>0.000000</td>\n",
              "      <td>0.000000</td>\n",
              "      <td>...</td>\n",
              "      <td>0</td>\n",
              "      <td>0</td>\n",
              "      <td>192</td>\n",
              "      <td>168</td>\n",
              "      <td>10</td>\n",
              "      <td>3</td>\n",
              "      <td>192</td>\n",
              "      <td>168</td>\n",
              "      <td>10</td>\n",
              "      <td>19</td>\n",
              "    </tr>\n",
              "    <tr>\n",
              "      <th>3</th>\n",
              "      <td>37820</td>\n",
              "      <td>80</td>\n",
              "      <td>6</td>\n",
              "      <td>175982</td>\n",
              "      <td>9</td>\n",
              "      <td>296</td>\n",
              "      <td>296</td>\n",
              "      <td>0</td>\n",
              "      <td>98.666667</td>\n",
              "      <td>1547.981999</td>\n",
              "      <td>...</td>\n",
              "      <td>0</td>\n",
              "      <td>0</td>\n",
              "      <td>192</td>\n",
              "      <td>168</td>\n",
              "      <td>10</td>\n",
              "      <td>50</td>\n",
              "      <td>172</td>\n",
              "      <td>16</td>\n",
              "      <td>0</td>\n",
              "      <td>1</td>\n",
              "    </tr>\n",
              "    <tr>\n",
              "      <th>4</th>\n",
              "      <td>64579</td>\n",
              "      <td>53</td>\n",
              "      <td>17</td>\n",
              "      <td>283967</td>\n",
              "      <td>2</td>\n",
              "      <td>86</td>\n",
              "      <td>43</td>\n",
              "      <td>43</td>\n",
              "      <td>0.000000</td>\n",
              "      <td>0.000000</td>\n",
              "      <td>...</td>\n",
              "      <td>0</td>\n",
              "      <td>0</td>\n",
              "      <td>192</td>\n",
              "      <td>168</td>\n",
              "      <td>10</td>\n",
              "      <td>3</td>\n",
              "      <td>192</td>\n",
              "      <td>168</td>\n",
              "      <td>10</td>\n",
              "      <td>9</td>\n",
              "    </tr>\n",
              "    <tr>\n",
              "      <th>...</th>\n",
              "      <td>...</td>\n",
              "      <td>...</td>\n",
              "      <td>...</td>\n",
              "      <td>...</td>\n",
              "      <td>...</td>\n",
              "      <td>...</td>\n",
              "      <td>...</td>\n",
              "      <td>...</td>\n",
              "      <td>...</td>\n",
              "      <td>...</td>\n",
              "      <td>...</td>\n",
              "      <td>...</td>\n",
              "      <td>...</td>\n",
              "      <td>...</td>\n",
              "      <td>...</td>\n",
              "      <td>...</td>\n",
              "      <td>...</td>\n",
              "      <td>...</td>\n",
              "      <td>...</td>\n",
              "      <td>...</td>\n",
              "      <td>...</td>\n",
              "    </tr>\n",
              "    <tr>\n",
              "      <th>2065306</th>\n",
              "      <td>60920</td>\n",
              "      <td>53</td>\n",
              "      <td>17</td>\n",
              "      <td>116473</td>\n",
              "      <td>1</td>\n",
              "      <td>49</td>\n",
              "      <td>49</td>\n",
              "      <td>49</td>\n",
              "      <td>0.000000</td>\n",
              "      <td>0.000000</td>\n",
              "      <td>...</td>\n",
              "      <td>0</td>\n",
              "      <td>0</td>\n",
              "      <td>192</td>\n",
              "      <td>168</td>\n",
              "      <td>10</td>\n",
              "      <td>1</td>\n",
              "      <td>192</td>\n",
              "      <td>168</td>\n",
              "      <td>10</td>\n",
              "      <td>3</td>\n",
              "    </tr>\n",
              "    <tr>\n",
              "      <th>2065307</th>\n",
              "      <td>52752</td>\n",
              "      <td>80</td>\n",
              "      <td>6</td>\n",
              "      <td>3559942</td>\n",
              "      <td>7</td>\n",
              "      <td>20</td>\n",
              "      <td>20</td>\n",
              "      <td>0</td>\n",
              "      <td>7.559289</td>\n",
              "      <td>4129.722297</td>\n",
              "      <td>...</td>\n",
              "      <td>0</td>\n",
              "      <td>0</td>\n",
              "      <td>192</td>\n",
              "      <td>168</td>\n",
              "      <td>10</td>\n",
              "      <td>50</td>\n",
              "      <td>172</td>\n",
              "      <td>16</td>\n",
              "      <td>0</td>\n",
              "      <td>1</td>\n",
              "    </tr>\n",
              "    <tr>\n",
              "      <th>2065308</th>\n",
              "      <td>61611</td>\n",
              "      <td>443</td>\n",
              "      <td>6</td>\n",
              "      <td>2247446</td>\n",
              "      <td>21</td>\n",
              "      <td>910</td>\n",
              "      <td>341</td>\n",
              "      <td>0</td>\n",
              "      <td>88.258333</td>\n",
              "      <td>679.746241</td>\n",
              "      <td>...</td>\n",
              "      <td>0</td>\n",
              "      <td>0</td>\n",
              "      <td>172</td>\n",
              "      <td>217</td>\n",
              "      <td>10</td>\n",
              "      <td>227</td>\n",
              "      <td>192</td>\n",
              "      <td>168</td>\n",
              "      <td>10</td>\n",
              "      <td>8</td>\n",
              "    </tr>\n",
              "    <tr>\n",
              "      <th>2065309</th>\n",
              "      <td>59631</td>\n",
              "      <td>53</td>\n",
              "      <td>17</td>\n",
              "      <td>60745</td>\n",
              "      <td>2</td>\n",
              "      <td>68</td>\n",
              "      <td>34</td>\n",
              "      <td>34</td>\n",
              "      <td>0.000000</td>\n",
              "      <td>0.000000</td>\n",
              "      <td>...</td>\n",
              "      <td>0</td>\n",
              "      <td>0</td>\n",
              "      <td>192</td>\n",
              "      <td>168</td>\n",
              "      <td>10</td>\n",
              "      <td>3</td>\n",
              "      <td>192</td>\n",
              "      <td>168</td>\n",
              "      <td>10</td>\n",
              "      <td>51</td>\n",
              "    </tr>\n",
              "    <tr>\n",
              "      <th>2065310</th>\n",
              "      <td>26412</td>\n",
              "      <td>53</td>\n",
              "      <td>17</td>\n",
              "      <td>60377</td>\n",
              "      <td>2</td>\n",
              "      <td>72</td>\n",
              "      <td>36</td>\n",
              "      <td>36</td>\n",
              "      <td>0.000000</td>\n",
              "      <td>0.000000</td>\n",
              "      <td>...</td>\n",
              "      <td>0</td>\n",
              "      <td>0</td>\n",
              "      <td>192</td>\n",
              "      <td>168</td>\n",
              "      <td>10</td>\n",
              "      <td>3</td>\n",
              "      <td>192</td>\n",
              "      <td>168</td>\n",
              "      <td>10</td>\n",
              "      <td>19</td>\n",
              "    </tr>\n",
              "  </tbody>\n",
              "</table>\n",
              "<p>2065306 rows × 63 columns</p>\n",
              "</div>\n",
              "    <div class=\"colab-df-buttons\">\n",
              "\n",
              "  <div class=\"colab-df-container\">\n",
              "    <button class=\"colab-df-convert\" onclick=\"convertToInteractive('df-42fbfa23-12e3-4882-8955-7838c1591b6f')\"\n",
              "            title=\"Convert this dataframe to an interactive table.\"\n",
              "            style=\"display:none;\">\n",
              "\n",
              "  <svg xmlns=\"http://www.w3.org/2000/svg\" height=\"24px\" viewBox=\"0 -960 960 960\">\n",
              "    <path d=\"M120-120v-720h720v720H120Zm60-500h600v-160H180v160Zm220 220h160v-160H400v160Zm0 220h160v-160H400v160ZM180-400h160v-160H180v160Zm440 0h160v-160H620v160ZM180-180h160v-160H180v160Zm440 0h160v-160H620v160Z\"/>\n",
              "  </svg>\n",
              "    </button>\n",
              "\n",
              "  <style>\n",
              "    .colab-df-container {\n",
              "      display:flex;\n",
              "      gap: 12px;\n",
              "    }\n",
              "\n",
              "    .colab-df-convert {\n",
              "      background-color: #E8F0FE;\n",
              "      border: none;\n",
              "      border-radius: 50%;\n",
              "      cursor: pointer;\n",
              "      display: none;\n",
              "      fill: #1967D2;\n",
              "      height: 32px;\n",
              "      padding: 0 0 0 0;\n",
              "      width: 32px;\n",
              "    }\n",
              "\n",
              "    .colab-df-convert:hover {\n",
              "      background-color: #E2EBFA;\n",
              "      box-shadow: 0px 1px 2px rgba(60, 64, 67, 0.3), 0px 1px 3px 1px rgba(60, 64, 67, 0.15);\n",
              "      fill: #174EA6;\n",
              "    }\n",
              "\n",
              "    .colab-df-buttons div {\n",
              "      margin-bottom: 4px;\n",
              "    }\n",
              "\n",
              "    [theme=dark] .colab-df-convert {\n",
              "      background-color: #3B4455;\n",
              "      fill: #D2E3FC;\n",
              "    }\n",
              "\n",
              "    [theme=dark] .colab-df-convert:hover {\n",
              "      background-color: #434B5C;\n",
              "      box-shadow: 0px 1px 3px 1px rgba(0, 0, 0, 0.15);\n",
              "      filter: drop-shadow(0px 1px 2px rgba(0, 0, 0, 0.3));\n",
              "      fill: #FFFFFF;\n",
              "    }\n",
              "  </style>\n",
              "\n",
              "    <script>\n",
              "      const buttonEl =\n",
              "        document.querySelector('#df-42fbfa23-12e3-4882-8955-7838c1591b6f button.colab-df-convert');\n",
              "      buttonEl.style.display =\n",
              "        google.colab.kernel.accessAllowed ? 'block' : 'none';\n",
              "\n",
              "      async function convertToInteractive(key) {\n",
              "        const element = document.querySelector('#df-42fbfa23-12e3-4882-8955-7838c1591b6f');\n",
              "        const dataTable =\n",
              "          await google.colab.kernel.invokeFunction('convertToInteractive',\n",
              "                                                    [key], {});\n",
              "        if (!dataTable) return;\n",
              "\n",
              "        const docLinkHtml = 'Like what you see? Visit the ' +\n",
              "          '<a target=\"_blank\" href=https://colab.research.google.com/notebooks/data_table.ipynb>data table notebook</a>'\n",
              "          + ' to learn more about interactive tables.';\n",
              "        element.innerHTML = '';\n",
              "        dataTable['output_type'] = 'display_data';\n",
              "        await google.colab.output.renderOutput(dataTable, element);\n",
              "        const docLink = document.createElement('div');\n",
              "        docLink.innerHTML = docLinkHtml;\n",
              "        element.appendChild(docLink);\n",
              "      }\n",
              "    </script>\n",
              "  </div>\n",
              "\n",
              "\n",
              "<div id=\"df-703e4ca9-34e6-4554-a909-9137f39b7fd5\">\n",
              "  <button class=\"colab-df-quickchart\" onclick=\"quickchart('df-703e4ca9-34e6-4554-a909-9137f39b7fd5')\"\n",
              "            title=\"Suggest charts\"\n",
              "            style=\"display:none;\">\n",
              "\n",
              "<svg xmlns=\"http://www.w3.org/2000/svg\" height=\"24px\"viewBox=\"0 0 24 24\"\n",
              "     width=\"24px\">\n",
              "    <g>\n",
              "        <path d=\"M19 3H5c-1.1 0-2 .9-2 2v14c0 1.1.9 2 2 2h14c1.1 0 2-.9 2-2V5c0-1.1-.9-2-2-2zM9 17H7v-7h2v7zm4 0h-2V7h2v10zm4 0h-2v-4h2v4z\"/>\n",
              "    </g>\n",
              "</svg>\n",
              "  </button>\n",
              "\n",
              "<style>\n",
              "  .colab-df-quickchart {\n",
              "      --bg-color: #E8F0FE;\n",
              "      --fill-color: #1967D2;\n",
              "      --hover-bg-color: #E2EBFA;\n",
              "      --hover-fill-color: #174EA6;\n",
              "      --disabled-fill-color: #AAA;\n",
              "      --disabled-bg-color: #DDD;\n",
              "  }\n",
              "\n",
              "  [theme=dark] .colab-df-quickchart {\n",
              "      --bg-color: #3B4455;\n",
              "      --fill-color: #D2E3FC;\n",
              "      --hover-bg-color: #434B5C;\n",
              "      --hover-fill-color: #FFFFFF;\n",
              "      --disabled-bg-color: #3B4455;\n",
              "      --disabled-fill-color: #666;\n",
              "  }\n",
              "\n",
              "  .colab-df-quickchart {\n",
              "    background-color: var(--bg-color);\n",
              "    border: none;\n",
              "    border-radius: 50%;\n",
              "    cursor: pointer;\n",
              "    display: none;\n",
              "    fill: var(--fill-color);\n",
              "    height: 32px;\n",
              "    padding: 0;\n",
              "    width: 32px;\n",
              "  }\n",
              "\n",
              "  .colab-df-quickchart:hover {\n",
              "    background-color: var(--hover-bg-color);\n",
              "    box-shadow: 0 1px 2px rgba(60, 64, 67, 0.3), 0 1px 3px 1px rgba(60, 64, 67, 0.15);\n",
              "    fill: var(--button-hover-fill-color);\n",
              "  }\n",
              "\n",
              "  .colab-df-quickchart-complete:disabled,\n",
              "  .colab-df-quickchart-complete:disabled:hover {\n",
              "    background-color: var(--disabled-bg-color);\n",
              "    fill: var(--disabled-fill-color);\n",
              "    box-shadow: none;\n",
              "  }\n",
              "\n",
              "  .colab-df-spinner {\n",
              "    border: 2px solid var(--fill-color);\n",
              "    border-color: transparent;\n",
              "    border-bottom-color: var(--fill-color);\n",
              "    animation:\n",
              "      spin 1s steps(1) infinite;\n",
              "  }\n",
              "\n",
              "  @keyframes spin {\n",
              "    0% {\n",
              "      border-color: transparent;\n",
              "      border-bottom-color: var(--fill-color);\n",
              "      border-left-color: var(--fill-color);\n",
              "    }\n",
              "    20% {\n",
              "      border-color: transparent;\n",
              "      border-left-color: var(--fill-color);\n",
              "      border-top-color: var(--fill-color);\n",
              "    }\n",
              "    30% {\n",
              "      border-color: transparent;\n",
              "      border-left-color: var(--fill-color);\n",
              "      border-top-color: var(--fill-color);\n",
              "      border-right-color: var(--fill-color);\n",
              "    }\n",
              "    40% {\n",
              "      border-color: transparent;\n",
              "      border-right-color: var(--fill-color);\n",
              "      border-top-color: var(--fill-color);\n",
              "    }\n",
              "    60% {\n",
              "      border-color: transparent;\n",
              "      border-right-color: var(--fill-color);\n",
              "    }\n",
              "    80% {\n",
              "      border-color: transparent;\n",
              "      border-right-color: var(--fill-color);\n",
              "      border-bottom-color: var(--fill-color);\n",
              "    }\n",
              "    90% {\n",
              "      border-color: transparent;\n",
              "      border-bottom-color: var(--fill-color);\n",
              "    }\n",
              "  }\n",
              "</style>\n",
              "\n",
              "  <script>\n",
              "    async function quickchart(key) {\n",
              "      const quickchartButtonEl =\n",
              "        document.querySelector('#' + key + ' button');\n",
              "      quickchartButtonEl.disabled = true;  // To prevent multiple clicks.\n",
              "      quickchartButtonEl.classList.add('colab-df-spinner');\n",
              "      try {\n",
              "        const charts = await google.colab.kernel.invokeFunction(\n",
              "            'suggestCharts', [key], {});\n",
              "      } catch (error) {\n",
              "        console.error('Error during call to suggestCharts:', error);\n",
              "      }\n",
              "      quickchartButtonEl.classList.remove('colab-df-spinner');\n",
              "      quickchartButtonEl.classList.add('colab-df-quickchart-complete');\n",
              "    }\n",
              "    (() => {\n",
              "      let quickchartButtonEl =\n",
              "        document.querySelector('#df-703e4ca9-34e6-4554-a909-9137f39b7fd5 button');\n",
              "      quickchartButtonEl.style.display =\n",
              "        google.colab.kernel.accessAllowed ? 'block' : 'none';\n",
              "    })();\n",
              "  </script>\n",
              "</div>\n",
              "    </div>\n",
              "  </div>\n"
            ]
          },
          "metadata": {},
          "execution_count": 76
        }
      ],
      "source": [
        "#Splitting IP for DstIP e SrcIP - CIT: Shao Thesis dice che è meglio splittare in 4 feature l'IP\n",
        "# split the Name column into 4 columns\n",
        "df_finEnc[['DstIP_1', 'DstIP_2', 'DstIP_3', 'DstIP_4']] = df_finEnc['DstIP'].str.split('.', expand=True)\n",
        "df_finEnc[['SrcIP_1', 'SrcIP_2', 'SrcIP_3', 'SrcIP_4']] = df_finEnc['SrcIP'].str.split('.', expand=True)\n",
        "df_finEnc[\"DstIP_1\"] = df_finEnc[\"DstIP_1\"].apply(int)\n",
        "df_finEnc[\"DstIP_2\"] = df_finEnc[\"DstIP_2\"].apply(int)\n",
        "df_finEnc[\"DstIP_3\"] = df_finEnc[\"DstIP_3\"].apply(int)\n",
        "df_finEnc[\"DstIP_4\"] = df_finEnc[\"DstIP_4\"].apply(int)\n",
        "df_finEnc[\"SrcIP_1\"] = df_finEnc[\"SrcIP_1\"].apply(int)\n",
        "df_finEnc[\"SrcIP_2\"] = df_finEnc[\"SrcIP_2\"].apply(int)\n",
        "df_finEnc[\"SrcIP_3\"] = df_finEnc[\"SrcIP_3\"].apply(int)\n",
        "df_finEnc[\"SrcIP_4\"] = df_finEnc[\"SrcIP_4\"].apply(int)\n",
        "\n",
        "#elimino colonne SrcIP, DstIP non più utili\n",
        "df_finEnc = df_finEnc.drop('SrcIP', axis=1)\n",
        "df_finEnc = df_finEnc.drop('DstIP', axis=1)\n",
        "\n",
        "df_finEnc"
      ]
    },
    {
      "cell_type": "code",
      "source": [
        "#SALVO DATASET CSV PRIMA DELLA NORMALIZZAZIONE\n",
        "df_finEnc.to_csv(r'drive/My Drive/Colab Notebooks/progettoTesi/Dataset2017/improved/Pre-processed_versions/dataCleanedEncoded.csv', index = False)"
      ],
      "metadata": {
        "id": "9eNCjQbQrL-P"
      },
      "execution_count": null,
      "outputs": []
    },
    {
      "cell_type": "markdown",
      "metadata": {
        "id": "4QCZZdcF5VVZ"
      },
      "source": [
        "##Feature Normalization"
      ]
    },
    {
      "cell_type": "code",
      "source": [
        "df_finEnc['FlowDuration'].isin([0]).any()"
      ],
      "metadata": {
        "colab": {
          "base_uri": "https://localhost:8080/"
        },
        "id": "cvr1QtMnFu27",
        "outputId": "94bdd1fb-0e48-4b28-eef1-344b73abdb34"
      },
      "execution_count": null,
      "outputs": [
        {
          "output_type": "execute_result",
          "data": {
            "text/plain": [
              "False"
            ]
          },
          "metadata": {},
          "execution_count": 36
        }
      ]
    },
    {
      "cell_type": "code",
      "execution_count": null,
      "metadata": {
        "colab": {
          "base_uri": "https://localhost:8080/"
        },
        "id": "hpFM7hLaOMm0",
        "outputId": "a15c31c0-a16c-40f2-f4a7-aa6c197bbec5"
      },
      "outputs": [
        {
          "output_type": "stream",
          "name": "stdout",
          "text": [
            "(2099769, 77)\n"
          ]
        }
      ],
      "source": [
        "###Feature normalization\n",
        "norm_data = df_finEnc.copy()\n",
        "print(norm_data.shape) #77 feature totali"
      ]
    },
    {
      "cell_type": "code",
      "execution_count": null,
      "metadata": {
        "id": "dd2-17ZIRNPP"
      },
      "outputs": [],
      "source": [
        "norm_data.info()"
      ]
    },
    {
      "cell_type": "code",
      "execution_count": null,
      "metadata": {
        "colab": {
          "base_uri": "https://localhost:8080/",
          "height": 255
        },
        "id": "jOtAYcK7OVyT",
        "outputId": "c1d43610-fff8-4d6b-f4cf-6c5be70da161"
      },
      "outputs": [
        {
          "output_type": "execute_result",
          "data": {
            "text/plain": [
              "                 SrcPort                DstPort               Protocol  \\\n",
              "0 0.94316014343480580884 0.00080880220970867866 1.00000000000000000000   \n",
              "1 0.88587777523460742302 0.08596194051488655063 0.35294117647058820264   \n",
              "2 0.94784466315709159367 0.00080880220970867866 1.00000000000000000000   \n",
              "3 0.88926527809567401661 0.00080880220970867866 1.00000000000000000000   \n",
              "4 0.88867017624170285828 0.00676036563964046554 0.35294117647058820264   \n",
              "\n",
              "            FlowDuration         TotalFwdPacket        TotalBwdpackets  \\\n",
              "0 0.00129886669913833411 0.00000455043934491875 0.00000342557258445749   \n",
              "1 0.00000056666668083333 0.00000455043934491875 0.00000342557258445749   \n",
              "2 0.88633162215829053299 0.00001365131803475626 0.00001027671775337248   \n",
              "3 0.00051000834608354198 0.00000910087868983750 0.00000685114516891498   \n",
              "4 0.00437489177603896107 0.00009555922624329379 0.00005823473393577737   \n",
              "\n",
              "   TotalLengthofFwdPacket  TotalLengthofBwdPacket     FwdPacketLengthMax  \\\n",
              "0  0.00000435111915446566  0.00000010984780658104 0.00225624496373892040   \n",
              "1  0.00000000000000000000  0.00000000000000000000 0.00000000000000000000   \n",
              "2  0.00001188787911845083  0.00000073537003850088 0.00257856567284448033   \n",
              "3  0.00000606048739372003  0.00000021664428520150 0.00157131345688960511   \n",
              "4  0.00005469978365613976  0.00001648022231511719 0.01438356164383561633   \n",
              "\n",
              "      FwdPacketLengthMin  ...              ActiveMax              ActiveMin  \\\n",
              "0 0.03804347826086956763  ... 0.00000000000000000000 0.00000000000000000000   \n",
              "1 0.00000000000000000000  ... 0.00000000000000000000 0.00000000000000000000   \n",
              "2 0.02853260869565217225  ... 0.00692758766666865238 0.00027837147383417136   \n",
              "3 0.02649456521739130405  ... 0.00000000000000000000 0.00000000000000000000   \n",
              "4 0.00000000000000000000  ... 0.00000000000000000000 0.00000000000000000000   \n",
              "\n",
              "                 IdleMin       TotalTCPFlowTime               L_BENIGN  \\\n",
              "0 0.00000000000000000000 0.00000000000000000000 1.00000000000000000000   \n",
              "1 0.00000000000000000000 0.00000000227794646608 0.00000000000000000000   \n",
              "2 0.07194579221362447374 0.00000000000000000000 1.00000000000000000000   \n",
              "3 0.00000000000000000000 0.00000000000000000000 1.00000000000000000000   \n",
              "4 0.00000000000000000000 0.00001733180520774302 1.00000000000000000000   \n",
              "\n",
              "                L_Botnet           L_BruteForce                 L_DDoS  \\\n",
              "0 0.00000000000000000000 0.00000000000000000000 0.00000000000000000000   \n",
              "1 0.00000000000000000000 0.00000000000000000000 0.00000000000000000000   \n",
              "2 0.00000000000000000000 0.00000000000000000000 0.00000000000000000000   \n",
              "3 0.00000000000000000000 0.00000000000000000000 0.00000000000000000000   \n",
              "4 0.00000000000000000000 0.00000000000000000000 0.00000000000000000000   \n",
              "\n",
              "                   L_DoS  L_Infiltration_Portscan  \n",
              "0 0.00000000000000000000   0.00000000000000000000  \n",
              "1 0.00000000000000000000   1.00000000000000000000  \n",
              "2 0.00000000000000000000   0.00000000000000000000  \n",
              "3 0.00000000000000000000   0.00000000000000000000  \n",
              "4 0.00000000000000000000   0.00000000000000000000  \n",
              "\n",
              "[5 rows x 77 columns]"
            ],
            "text/html": [
              "\n",
              "  <div id=\"df-25f56c57-944a-48a0-ae08-3d1c8af93214\" class=\"colab-df-container\">\n",
              "    <div>\n",
              "<style scoped>\n",
              "    .dataframe tbody tr th:only-of-type {\n",
              "        vertical-align: middle;\n",
              "    }\n",
              "\n",
              "    .dataframe tbody tr th {\n",
              "        vertical-align: top;\n",
              "    }\n",
              "\n",
              "    .dataframe thead th {\n",
              "        text-align: right;\n",
              "    }\n",
              "</style>\n",
              "<table border=\"1\" class=\"dataframe\">\n",
              "  <thead>\n",
              "    <tr style=\"text-align: right;\">\n",
              "      <th></th>\n",
              "      <th>SrcPort</th>\n",
              "      <th>DstPort</th>\n",
              "      <th>Protocol</th>\n",
              "      <th>FlowDuration</th>\n",
              "      <th>TotalFwdPacket</th>\n",
              "      <th>TotalBwdpackets</th>\n",
              "      <th>TotalLengthofFwdPacket</th>\n",
              "      <th>TotalLengthofBwdPacket</th>\n",
              "      <th>FwdPacketLengthMax</th>\n",
              "      <th>FwdPacketLengthMin</th>\n",
              "      <th>...</th>\n",
              "      <th>ActiveMax</th>\n",
              "      <th>ActiveMin</th>\n",
              "      <th>IdleMin</th>\n",
              "      <th>TotalTCPFlowTime</th>\n",
              "      <th>L_BENIGN</th>\n",
              "      <th>L_Botnet</th>\n",
              "      <th>L_BruteForce</th>\n",
              "      <th>L_DDoS</th>\n",
              "      <th>L_DoS</th>\n",
              "      <th>L_Infiltration_Portscan</th>\n",
              "    </tr>\n",
              "  </thead>\n",
              "  <tbody>\n",
              "    <tr>\n",
              "      <th>0</th>\n",
              "      <td>0.94316014343480580884</td>\n",
              "      <td>0.00080880220970867866</td>\n",
              "      <td>1.00000000000000000000</td>\n",
              "      <td>0.00129886669913833411</td>\n",
              "      <td>0.00000455043934491875</td>\n",
              "      <td>0.00000342557258445749</td>\n",
              "      <td>0.00000435111915446566</td>\n",
              "      <td>0.00000010984780658104</td>\n",
              "      <td>0.00225624496373892040</td>\n",
              "      <td>0.03804347826086956763</td>\n",
              "      <td>...</td>\n",
              "      <td>0.00000000000000000000</td>\n",
              "      <td>0.00000000000000000000</td>\n",
              "      <td>0.00000000000000000000</td>\n",
              "      <td>0.00000000000000000000</td>\n",
              "      <td>1.00000000000000000000</td>\n",
              "      <td>0.00000000000000000000</td>\n",
              "      <td>0.00000000000000000000</td>\n",
              "      <td>0.00000000000000000000</td>\n",
              "      <td>0.00000000000000000000</td>\n",
              "      <td>0.00000000000000000000</td>\n",
              "    </tr>\n",
              "    <tr>\n",
              "      <th>1</th>\n",
              "      <td>0.88587777523460742302</td>\n",
              "      <td>0.08596194051488655063</td>\n",
              "      <td>0.35294117647058820264</td>\n",
              "      <td>0.00000056666668083333</td>\n",
              "      <td>0.00000455043934491875</td>\n",
              "      <td>0.00000342557258445749</td>\n",
              "      <td>0.00000000000000000000</td>\n",
              "      <td>0.00000000000000000000</td>\n",
              "      <td>0.00000000000000000000</td>\n",
              "      <td>0.00000000000000000000</td>\n",
              "      <td>...</td>\n",
              "      <td>0.00000000000000000000</td>\n",
              "      <td>0.00000000000000000000</td>\n",
              "      <td>0.00000000000000000000</td>\n",
              "      <td>0.00000000227794646608</td>\n",
              "      <td>0.00000000000000000000</td>\n",
              "      <td>0.00000000000000000000</td>\n",
              "      <td>0.00000000000000000000</td>\n",
              "      <td>0.00000000000000000000</td>\n",
              "      <td>0.00000000000000000000</td>\n",
              "      <td>1.00000000000000000000</td>\n",
              "    </tr>\n",
              "    <tr>\n",
              "      <th>2</th>\n",
              "      <td>0.94784466315709159367</td>\n",
              "      <td>0.00080880220970867866</td>\n",
              "      <td>1.00000000000000000000</td>\n",
              "      <td>0.88633162215829053299</td>\n",
              "      <td>0.00001365131803475626</td>\n",
              "      <td>0.00001027671775337248</td>\n",
              "      <td>0.00001188787911845083</td>\n",
              "      <td>0.00000073537003850088</td>\n",
              "      <td>0.00257856567284448033</td>\n",
              "      <td>0.02853260869565217225</td>\n",
              "      <td>...</td>\n",
              "      <td>0.00692758766666865238</td>\n",
              "      <td>0.00027837147383417136</td>\n",
              "      <td>0.07194579221362447374</td>\n",
              "      <td>0.00000000000000000000</td>\n",
              "      <td>1.00000000000000000000</td>\n",
              "      <td>0.00000000000000000000</td>\n",
              "      <td>0.00000000000000000000</td>\n",
              "      <td>0.00000000000000000000</td>\n",
              "      <td>0.00000000000000000000</td>\n",
              "      <td>0.00000000000000000000</td>\n",
              "    </tr>\n",
              "    <tr>\n",
              "      <th>3</th>\n",
              "      <td>0.88926527809567401661</td>\n",
              "      <td>0.00080880220970867866</td>\n",
              "      <td>1.00000000000000000000</td>\n",
              "      <td>0.00051000834608354198</td>\n",
              "      <td>0.00000910087868983750</td>\n",
              "      <td>0.00000685114516891498</td>\n",
              "      <td>0.00000606048739372003</td>\n",
              "      <td>0.00000021664428520150</td>\n",
              "      <td>0.00157131345688960511</td>\n",
              "      <td>0.02649456521739130405</td>\n",
              "      <td>...</td>\n",
              "      <td>0.00000000000000000000</td>\n",
              "      <td>0.00000000000000000000</td>\n",
              "      <td>0.00000000000000000000</td>\n",
              "      <td>0.00000000000000000000</td>\n",
              "      <td>1.00000000000000000000</td>\n",
              "      <td>0.00000000000000000000</td>\n",
              "      <td>0.00000000000000000000</td>\n",
              "      <td>0.00000000000000000000</td>\n",
              "      <td>0.00000000000000000000</td>\n",
              "      <td>0.00000000000000000000</td>\n",
              "    </tr>\n",
              "    <tr>\n",
              "      <th>4</th>\n",
              "      <td>0.88867017624170285828</td>\n",
              "      <td>0.00676036563964046554</td>\n",
              "      <td>0.35294117647058820264</td>\n",
              "      <td>0.00437489177603896107</td>\n",
              "      <td>0.00009555922624329379</td>\n",
              "      <td>0.00005823473393577737</td>\n",
              "      <td>0.00005469978365613976</td>\n",
              "      <td>0.00001648022231511719</td>\n",
              "      <td>0.01438356164383561633</td>\n",
              "      <td>0.00000000000000000000</td>\n",
              "      <td>...</td>\n",
              "      <td>0.00000000000000000000</td>\n",
              "      <td>0.00000000000000000000</td>\n",
              "      <td>0.00000000000000000000</td>\n",
              "      <td>0.00001733180520774302</td>\n",
              "      <td>1.00000000000000000000</td>\n",
              "      <td>0.00000000000000000000</td>\n",
              "      <td>0.00000000000000000000</td>\n",
              "      <td>0.00000000000000000000</td>\n",
              "      <td>0.00000000000000000000</td>\n",
              "      <td>0.00000000000000000000</td>\n",
              "    </tr>\n",
              "  </tbody>\n",
              "</table>\n",
              "<p>5 rows × 77 columns</p>\n",
              "</div>\n",
              "    <div class=\"colab-df-buttons\">\n",
              "\n",
              "  <div class=\"colab-df-container\">\n",
              "    <button class=\"colab-df-convert\" onclick=\"convertToInteractive('df-25f56c57-944a-48a0-ae08-3d1c8af93214')\"\n",
              "            title=\"Convert this dataframe to an interactive table.\"\n",
              "            style=\"display:none;\">\n",
              "\n",
              "  <svg xmlns=\"http://www.w3.org/2000/svg\" height=\"24px\" viewBox=\"0 -960 960 960\">\n",
              "    <path d=\"M120-120v-720h720v720H120Zm60-500h600v-160H180v160Zm220 220h160v-160H400v160Zm0 220h160v-160H400v160ZM180-400h160v-160H180v160Zm440 0h160v-160H620v160ZM180-180h160v-160H180v160Zm440 0h160v-160H620v160Z\"/>\n",
              "  </svg>\n",
              "    </button>\n",
              "\n",
              "  <style>\n",
              "    .colab-df-container {\n",
              "      display:flex;\n",
              "      gap: 12px;\n",
              "    }\n",
              "\n",
              "    .colab-df-convert {\n",
              "      background-color: #E8F0FE;\n",
              "      border: none;\n",
              "      border-radius: 50%;\n",
              "      cursor: pointer;\n",
              "      display: none;\n",
              "      fill: #1967D2;\n",
              "      height: 32px;\n",
              "      padding: 0 0 0 0;\n",
              "      width: 32px;\n",
              "    }\n",
              "\n",
              "    .colab-df-convert:hover {\n",
              "      background-color: #E2EBFA;\n",
              "      box-shadow: 0px 1px 2px rgba(60, 64, 67, 0.3), 0px 1px 3px 1px rgba(60, 64, 67, 0.15);\n",
              "      fill: #174EA6;\n",
              "    }\n",
              "\n",
              "    .colab-df-buttons div {\n",
              "      margin-bottom: 4px;\n",
              "    }\n",
              "\n",
              "    [theme=dark] .colab-df-convert {\n",
              "      background-color: #3B4455;\n",
              "      fill: #D2E3FC;\n",
              "    }\n",
              "\n",
              "    [theme=dark] .colab-df-convert:hover {\n",
              "      background-color: #434B5C;\n",
              "      box-shadow: 0px 1px 3px 1px rgba(0, 0, 0, 0.15);\n",
              "      filter: drop-shadow(0px 1px 2px rgba(0, 0, 0, 0.3));\n",
              "      fill: #FFFFFF;\n",
              "    }\n",
              "  </style>\n",
              "\n",
              "    <script>\n",
              "      const buttonEl =\n",
              "        document.querySelector('#df-25f56c57-944a-48a0-ae08-3d1c8af93214 button.colab-df-convert');\n",
              "      buttonEl.style.display =\n",
              "        google.colab.kernel.accessAllowed ? 'block' : 'none';\n",
              "\n",
              "      async function convertToInteractive(key) {\n",
              "        const element = document.querySelector('#df-25f56c57-944a-48a0-ae08-3d1c8af93214');\n",
              "        const dataTable =\n",
              "          await google.colab.kernel.invokeFunction('convertToInteractive',\n",
              "                                                    [key], {});\n",
              "        if (!dataTable) return;\n",
              "\n",
              "        const docLinkHtml = 'Like what you see? Visit the ' +\n",
              "          '<a target=\"_blank\" href=https://colab.research.google.com/notebooks/data_table.ipynb>data table notebook</a>'\n",
              "          + ' to learn more about interactive tables.';\n",
              "        element.innerHTML = '';\n",
              "        dataTable['output_type'] = 'display_data';\n",
              "        await google.colab.output.renderOutput(dataTable, element);\n",
              "        const docLink = document.createElement('div');\n",
              "        docLink.innerHTML = docLinkHtml;\n",
              "        element.appendChild(docLink);\n",
              "      }\n",
              "    </script>\n",
              "  </div>\n",
              "\n",
              "\n",
              "<div id=\"df-5b4029ff-fb86-4d46-ad25-f5708b302e7a\">\n",
              "  <button class=\"colab-df-quickchart\" onclick=\"quickchart('df-5b4029ff-fb86-4d46-ad25-f5708b302e7a')\"\n",
              "            title=\"Suggest charts\"\n",
              "            style=\"display:none;\">\n",
              "\n",
              "<svg xmlns=\"http://www.w3.org/2000/svg\" height=\"24px\"viewBox=\"0 0 24 24\"\n",
              "     width=\"24px\">\n",
              "    <g>\n",
              "        <path d=\"M19 3H5c-1.1 0-2 .9-2 2v14c0 1.1.9 2 2 2h14c1.1 0 2-.9 2-2V5c0-1.1-.9-2-2-2zM9 17H7v-7h2v7zm4 0h-2V7h2v10zm4 0h-2v-4h2v4z\"/>\n",
              "    </g>\n",
              "</svg>\n",
              "  </button>\n",
              "\n",
              "<style>\n",
              "  .colab-df-quickchart {\n",
              "      --bg-color: #E8F0FE;\n",
              "      --fill-color: #1967D2;\n",
              "      --hover-bg-color: #E2EBFA;\n",
              "      --hover-fill-color: #174EA6;\n",
              "      --disabled-fill-color: #AAA;\n",
              "      --disabled-bg-color: #DDD;\n",
              "  }\n",
              "\n",
              "  [theme=dark] .colab-df-quickchart {\n",
              "      --bg-color: #3B4455;\n",
              "      --fill-color: #D2E3FC;\n",
              "      --hover-bg-color: #434B5C;\n",
              "      --hover-fill-color: #FFFFFF;\n",
              "      --disabled-bg-color: #3B4455;\n",
              "      --disabled-fill-color: #666;\n",
              "  }\n",
              "\n",
              "  .colab-df-quickchart {\n",
              "    background-color: var(--bg-color);\n",
              "    border: none;\n",
              "    border-radius: 50%;\n",
              "    cursor: pointer;\n",
              "    display: none;\n",
              "    fill: var(--fill-color);\n",
              "    height: 32px;\n",
              "    padding: 0;\n",
              "    width: 32px;\n",
              "  }\n",
              "\n",
              "  .colab-df-quickchart:hover {\n",
              "    background-color: var(--hover-bg-color);\n",
              "    box-shadow: 0 1px 2px rgba(60, 64, 67, 0.3), 0 1px 3px 1px rgba(60, 64, 67, 0.15);\n",
              "    fill: var(--button-hover-fill-color);\n",
              "  }\n",
              "\n",
              "  .colab-df-quickchart-complete:disabled,\n",
              "  .colab-df-quickchart-complete:disabled:hover {\n",
              "    background-color: var(--disabled-bg-color);\n",
              "    fill: var(--disabled-fill-color);\n",
              "    box-shadow: none;\n",
              "  }\n",
              "\n",
              "  .colab-df-spinner {\n",
              "    border: 2px solid var(--fill-color);\n",
              "    border-color: transparent;\n",
              "    border-bottom-color: var(--fill-color);\n",
              "    animation:\n",
              "      spin 1s steps(1) infinite;\n",
              "  }\n",
              "\n",
              "  @keyframes spin {\n",
              "    0% {\n",
              "      border-color: transparent;\n",
              "      border-bottom-color: var(--fill-color);\n",
              "      border-left-color: var(--fill-color);\n",
              "    }\n",
              "    20% {\n",
              "      border-color: transparent;\n",
              "      border-left-color: var(--fill-color);\n",
              "      border-top-color: var(--fill-color);\n",
              "    }\n",
              "    30% {\n",
              "      border-color: transparent;\n",
              "      border-left-color: var(--fill-color);\n",
              "      border-top-color: var(--fill-color);\n",
              "      border-right-color: var(--fill-color);\n",
              "    }\n",
              "    40% {\n",
              "      border-color: transparent;\n",
              "      border-right-color: var(--fill-color);\n",
              "      border-top-color: var(--fill-color);\n",
              "    }\n",
              "    60% {\n",
              "      border-color: transparent;\n",
              "      border-right-color: var(--fill-color);\n",
              "    }\n",
              "    80% {\n",
              "      border-color: transparent;\n",
              "      border-right-color: var(--fill-color);\n",
              "      border-bottom-color: var(--fill-color);\n",
              "    }\n",
              "    90% {\n",
              "      border-color: transparent;\n",
              "      border-bottom-color: var(--fill-color);\n",
              "    }\n",
              "  }\n",
              "</style>\n",
              "\n",
              "  <script>\n",
              "    async function quickchart(key) {\n",
              "      const quickchartButtonEl =\n",
              "        document.querySelector('#' + key + ' button');\n",
              "      quickchartButtonEl.disabled = true;  // To prevent multiple clicks.\n",
              "      quickchartButtonEl.classList.add('colab-df-spinner');\n",
              "      try {\n",
              "        const charts = await google.colab.kernel.invokeFunction(\n",
              "            'suggestCharts', [key], {});\n",
              "      } catch (error) {\n",
              "        console.error('Error during call to suggestCharts:', error);\n",
              "      }\n",
              "      quickchartButtonEl.classList.remove('colab-df-spinner');\n",
              "      quickchartButtonEl.classList.add('colab-df-quickchart-complete');\n",
              "    }\n",
              "    (() => {\n",
              "      let quickchartButtonEl =\n",
              "        document.querySelector('#df-5b4029ff-fb86-4d46-ad25-f5708b302e7a button');\n",
              "      quickchartButtonEl.style.display =\n",
              "        google.colab.kernel.accessAllowed ? 'block' : 'none';\n",
              "    })();\n",
              "  </script>\n",
              "</div>\n",
              "    </div>\n",
              "  </div>\n"
            ]
          },
          "metadata": {},
          "execution_count": 50
        }
      ],
      "source": [
        "#MIN-MAX SCALING NORMALIZATION - eseguito da FEDANIDS e Li et al. (2023)\n",
        "\n",
        "x = norm_data.values\n",
        "normMinMax = preprocessing.MinMaxScaler(feature_range=(0,1))\n",
        "df_minMaxScal = normMinMax.fit_transform(x)\n",
        "data_ready = pd.DataFrame(df_minMaxScal, columns=norm_data.columns)\n",
        "\n",
        "data_ready.head()"
      ]
    },
    {
      "cell_type": "code",
      "source": [
        "#SALVO CSV prima del sampling ...potesse servirmi per cambiare e fare altro\n",
        "data_ready.to_csv(r'drive/My Drive/Colab Notebooks/progettoTesi/Dataset2017/improved/Pre-processed_versions/dataPreprocessed.csv', index = False)"
      ],
      "metadata": {
        "id": "FrCViW8KJdRp"
      },
      "execution_count": null,
      "outputs": []
    },
    {
      "cell_type": "markdown",
      "metadata": {
        "id": "7fDuRgTUKxBO"
      },
      "source": [
        "#SPLITTING\n",
        "* Creazione dataset piccolo (meno feature) per primi esperimenti GAN + divisione per categoria perché la GAN traina su singole categorie\n",
        "* Creazione dataset ufficiale con #feature finali per esperimenti finali\n",
        "* Divisione del dataset: test set, validation set, test set"
      ]
    },
    {
      "cell_type": "code",
      "source": [
        "dataFin = pd.read_csv('/content/drive/My Drive/Colab Notebooks/progettoTesi/Dataset2017/improved/Pre-processed_versions/dataPreprocessed.csv')"
      ],
      "metadata": {
        "id": "spxxi_QAn9KL"
      },
      "execution_count": null,
      "outputs": []
    },
    {
      "cell_type": "markdown",
      "source": [
        "####Splitto DS nelle categorie di label\n",
        "\n",
        "```\n",
        "BENIGN                   1594422\n",
        "Infiltration_Portscan     230853\n",
        "DoS                       171620\n",
        "DDoS                       95133\n",
        "BruteForce                  7005\n",
        "Botnet                       736\n",
        "```\n",
        "\n"
      ],
      "metadata": {
        "id": "F5yt9HxS1xrG"
      }
    },
    {
      "cell_type": "code",
      "source": [
        "d_Benign = dataFin[dataFin['L_BENIGN'] == 1]\n",
        "d_Portscan = dataFin[dataFin['L_Infiltration_Portscan'] == 1]\n",
        "d_DDoS = dataFin[dataFin['L_DDoS'] == 1]\n",
        "d_DoS = dataFin[dataFin['L_DoS'] == 1]\n",
        "d_BruteForce = dataFin[dataFin['L_BruteForce'] == 1]\n",
        "d_Botnet = dataFin[dataFin['L_Botnet'] == 1]\n",
        "#SALVO CSV\n",
        "d_Benign.to_csv(r'drive/My Drive/Colab Notebooks/progettoTesi/Dataset2017/improved/Pre-processed_versions/d_Benign.csv', index = False)\n",
        "d_Portscan.to_csv(r'drive/My Drive/Colab Notebooks/progettoTesi/Dataset2017/improved/Pre-processed_versions/d_Portscan.csv', index = False)\n",
        "d_DDoS.to_csv(r'drive/My Drive/Colab Notebooks/progettoTesi/Dataset2017/improved/Pre-processed_versions/d_DDoS.csv', index = False)\n",
        "d_DoS.to_csv(r'drive/My Drive/Colab Notebooks/progettoTesi/Dataset2017/improved/Pre-processed_versions/d_DoS.csv', index = False)\n",
        "d_BruteForce.to_csv(r'drive/My Drive/Colab Notebooks/progettoTesi/Dataset2017/improved/Pre-processed_versions/d_BruteForce.csv', index = False)\n",
        "d_Botnet.to_csv(r'drive/My Drive/Colab Notebooks/progettoTesi/Dataset2017/improved/Pre-processed_versions/d_Botnet.csv', index = False)"
      ],
      "metadata": {
        "id": "8xxAvxqy1yHr"
      },
      "execution_count": null,
      "outputs": []
    },
    {
      "cell_type": "markdown",
      "source": [
        "### Dataset più piccolo con 20 feature importanti\n",
        "* su 77 feature tolgo 6 dei label => su 71 feature scelgo le prime 35 più importanti"
      ],
      "metadata": {
        "id": "iWSqv6FakiT_"
      }
    },
    {
      "cell_type": "code",
      "source": [
        "from sklearn.model_selection import train_test_split"
      ],
      "metadata": {
        "id": "roOE_igennkK"
      },
      "execution_count": null,
      "outputs": []
    },
    {
      "cell_type": "code",
      "source": [
        "importances[:35].index"
      ],
      "metadata": {
        "colab": {
          "base_uri": "https://localhost:8080/"
        },
        "id": "8WQ12U8gotRq",
        "outputId": "4170e5b1-122f-4b4b-b425-47e067bbe87c"
      },
      "execution_count": null,
      "outputs": [
        {
          "output_type": "execute_result",
          "data": {
            "text/plain": [
              "Index(['FlowDuration', 'BwdPacketLengthStd', 'PacketLengthVariance', 'DstPort',\n",
              "       'TotalLengthofFwdPacket', 'PacketLengthStd', 'FlowIATMax',\n",
              "       'FlowPackets/s', 'FwdPacketLengthMax', 'BwdPacketLengthMax',\n",
              "       'BwdSegmentSizeAvg', 'RSTFlagCount', 'BwdPacketLengthMean',\n",
              "       'SubflowFwdBytes', 'PacketLengthMean', 'PacketLengthMax',\n",
              "       'FwdPackets/s', 'AveragePacketSize', 'FwdSegmentSizeAvg',\n",
              "       'FwdPacketLengthMean', 'FlowBytes/s', 'SubflowBwdBytes',\n",
              "       'BwdBulkRateAvg', 'FwdPacketLengthStd', 'TotalLengthofBwdPacket',\n",
              "       'FwdHeaderLength', 'FlowIATMean', 'BwdHeaderLength', 'FwdRSTFlags',\n",
              "       'FWDInitWinBytes', 'BwdInitWinBytes', 'FwdIATMax', 'BwdPackets/s',\n",
              "       'ACKFlagCount', 'FwdSegSizeMin'],\n",
              "      dtype='object', name='Feature')"
            ]
          },
          "metadata": {},
          "execution_count": 87
        }
      ]
    },
    {
      "cell_type": "code",
      "execution_count": null,
      "metadata": {
        "id": "2LAOzhvWLbaF"
      },
      "outputs": [],
      "source": [
        "#estraggo solo 35 feature importanti\n",
        "# Features are all columns except the one-hot encoded 'Label' columns\n",
        "features = dataFin[['FlowDuration', 'BwdPacketLengthStd', 'PacketLengthVariance', 'DstPort',\n",
        "       'TotalLengthofFwdPacket', 'PacketLengthStd', 'FlowIATMax',\n",
        "       'FlowPackets/s', 'FwdPacketLengthMax', 'BwdPacketLengthMax',\n",
        "       'BwdSegmentSizeAvg', 'RSTFlagCount', 'BwdPacketLengthMean',\n",
        "       'SubflowFwdBytes', 'PacketLengthMean', 'PacketLengthMax',\n",
        "       'FwdPackets/s', 'AveragePacketSize', 'FwdSegmentSizeAvg',\n",
        "       'FwdPacketLengthMean', 'FlowBytes/s', 'SubflowBwdBytes',\n",
        "       'BwdBulkRateAvg', 'FwdPacketLengthStd', 'TotalLengthofBwdPacket',\n",
        "       'FwdHeaderLength', 'FlowIATMean', 'BwdHeaderLength', 'FwdRSTFlags',\n",
        "       'FWDInitWinBytes', 'BwdInitWinBytes', 'FwdIATMax', 'BwdPackets/s',\n",
        "       'ACKFlagCount', 'FwdSegSizeMin']]\n",
        "\n",
        "# Target is the one-hot encoded 'Label' columns\n",
        "target = dataFin[['L_BENIGN','L_Infiltration_Portscan','L_DDoS','L_DoS','L_BruteForce','L_Botnet']]\n",
        "\n",
        "#features.head()\n",
        "#print(\"==================================================\")\n",
        "#target.head()"
      ]
    },
    {
      "cell_type": "code",
      "source": [
        "#splitto 80-20 rule\n",
        "from sklearn.model_selection import train_test_split\n",
        "\n",
        "#Setting the random state to a fixed number ensures that the split is the same every time you run the code = 3\n",
        "#TRAIN SET, VALIDATION SET, TEST SET\n",
        "X_train35, X_temp, y_train35, y_temp = train_test_split(features, target, test_size=0.2, random_state=3)\n",
        "X_val35, X_test35, y_val35, y_test35 = train_test_split(X_temp, y_temp, test_size=0.5, random_state=3)\n"
      ],
      "metadata": {
        "id": "sHkTc-LZq2W3"
      },
      "execution_count": null,
      "outputs": []
    },
    {
      "cell_type": "markdown",
      "source": [
        "### Dataset completo"
      ],
      "metadata": {
        "id": "-lV8WN0RkisO"
      }
    },
    {
      "cell_type": "code",
      "source": [
        "features = dataFin.drop(['L_BENIGN','L_Infiltration_Portscan','L_DDoS','L_DoS','L_BruteForce','L_Botnet'], axis=1)\n",
        "\n",
        "target = dataFin[['L_BENIGN','L_Infiltration_Portscan','L_DDoS','L_DoS','L_BruteForce','L_Botnet']]\n",
        "\n",
        "#splitto 80-20 rule\n",
        "#Setting the random state to a fixed number ensures that the split is the same every time you run the code = 42\n",
        "#TRAIN SET, VALIDATION SET, TEST SET\n",
        "X_train, X_temp, y_train, y_temp = train_test_split(features, target, test_size=0.2, random_state=3)\n",
        "X_val, X_test, y_val, y_test = train_test_split(X_temp, y_temp, test_size=0.5, random_state=3)"
      ],
      "metadata": {
        "id": "Sucyciqxki-O"
      },
      "execution_count": null,
      "outputs": []
    },
    {
      "cell_type": "markdown",
      "source": [
        "###### Solo un check sulle feature che ha scelto l'altra foresta"
      ],
      "metadata": {
        "id": "IKsvVzII01L5"
      }
    },
    {
      "cell_type": "code",
      "source": [
        "# Assuming 'X_train' and 'y_train' are your training data and labels\n",
        "# You can replace RandomForestClassifier with any other classifier suitable for your data\n",
        "clf = RandomForestClassifier(n_estimators=100, random_state=10)\n",
        "clf.fit(X_train, y_train)\n",
        "\n",
        "# Use feature importance scores to select the top 35 features\n",
        "feature_importances = clf.feature_importances_\n",
        "selected_features = X_train.columns[feature_importances.argsort()[-35:][::-1]]\n",
        "\n",
        "selected_features"
      ],
      "metadata": {
        "colab": {
          "base_uri": "https://localhost:8080/"
        },
        "id": "BVr2roR_tF-U",
        "outputId": "98cc8527-5daa-42e3-cc53-cfb4b4e20c52"
      },
      "execution_count": null,
      "outputs": [
        {
          "output_type": "execute_result",
          "data": {
            "text/plain": [
              "Index(['BwdPacketLengthStd', 'RSTFlagCount', 'PacketLengthStd', 'DstPort',\n",
              "       'FwdPacketLengthMean', 'TotalLengthofFwdPacket', 'FwdSegmentSizeAvg',\n",
              "       'FwdPacketLengthMax', 'PacketLengthMax', 'FwdPackets/s',\n",
              "       'BwdPacketLengthMean', 'AveragePacketSize', 'FlowPackets/s',\n",
              "       'PacketLengthVariance', 'BwdSegmentSizeAvg', 'SubflowFwdBytes',\n",
              "       'SubflowBwdBytes', 'PacketLengthMean', 'BwdPacketLengthMax',\n",
              "       'FlowIATMax', 'FWDInitWinBytes', 'FlowDuration', 'FwdIATTotal',\n",
              "       'FlowIATMean', 'BwdHeaderLength', 'BwdPackets/s', 'TotalFwdPacket',\n",
              "       'FwdHeaderLength', 'FwdRSTFlags', 'FwdPacketLengthStd', 'ACKFlagCount',\n",
              "       'PSHFlagCount', 'TotalBwdpackets', 'TotalTCPFlowTime', 'FwdIATMean'],\n",
              "      dtype='object')"
            ]
          },
          "metadata": {},
          "execution_count": 91
        }
      ]
    }
  ],
  "metadata": {
    "colab": {
      "collapsed_sections": [
        "Lk5uCGMgiIUV",
        "4ZG4Msj5Kl-u",
        "nvwGXbNTqbsq",
        "F5yt9HxS1xrG",
        "-lV8WN0RkisO",
        "IKsvVzII01L5"
      ],
      "machine_shape": "hm",
      "provenance": [],
      "authorship_tag": "ABX9TyNwS2nbXuHmNjNcoWKgynLR",
      "include_colab_link": true
    },
    "kernelspec": {
      "display_name": "Python 3",
      "name": "python3"
    },
    "language_info": {
      "name": "python"
    }
  },
  "nbformat": 4,
  "nbformat_minor": 0
}