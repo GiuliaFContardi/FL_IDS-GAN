{
  "cells": [
    {
      "cell_type": "code",
      "execution_count": null,
      "metadata": {
        "id": "83-azWpoYsDg",
        "colab": {
          "base_uri": "https://localhost:8080/"
        },
        "outputId": "0ccdee99-4407-48bd-8c35-7ccc4e53fe7a"
      },
      "outputs": [
        {
          "output_type": "stream",
          "name": "stdout",
          "text": [
            "Collecting tensorflow-gan\n",
            "  Downloading tensorflow_gan-2.1.0-py2.py3-none-any.whl (367 kB)\n",
            "\u001b[?25l     \u001b[90m━━━━━━━━━━━━━━━━━━━━━━━━━━━━━━━━━━━━━━━━\u001b[0m \u001b[32m0.0/367.1 kB\u001b[0m \u001b[31m?\u001b[0m eta \u001b[36m-:--:--\u001b[0m\r\u001b[2K     \u001b[91m━━━━━━━━━━\u001b[0m\u001b[90m╺\u001b[0m\u001b[90m━━━━━━━━━━━━━━━━━━━━━━━━━━━━━\u001b[0m \u001b[32m92.2/367.1 kB\u001b[0m \u001b[31m2.9 MB/s\u001b[0m eta \u001b[36m0:00:01\u001b[0m\r\u001b[2K     \u001b[91m━━━━━━━━━━━━━━━━━━━━━━━━━━━━━━━━━━━━━━━\u001b[0m\u001b[90m╺\u001b[0m \u001b[32m358.4/367.1 kB\u001b[0m \u001b[31m6.0 MB/s\u001b[0m eta \u001b[36m0:00:01\u001b[0m\r\u001b[2K     \u001b[90m━━━━━━━━━━━━━━━━━━━━━━━━━━━━━━━━━━━━━━━━\u001b[0m \u001b[32m367.1/367.1 kB\u001b[0m \u001b[31m5.1 MB/s\u001b[0m eta \u001b[36m0:00:00\u001b[0m\n",
            "\u001b[?25hRequirement already satisfied: tensorflow-hub>=0.2 in /usr/local/lib/python3.10/dist-packages (from tensorflow-gan) (0.15.0)\n",
            "Requirement already satisfied: tensorflow-probability>=0.7 in /usr/local/lib/python3.10/dist-packages (from tensorflow-gan) (0.22.0)\n",
            "Requirement already satisfied: numpy>=1.12.0 in /usr/local/lib/python3.10/dist-packages (from tensorflow-hub>=0.2->tensorflow-gan) (1.23.5)\n",
            "Requirement already satisfied: protobuf>=3.19.6 in /usr/local/lib/python3.10/dist-packages (from tensorflow-hub>=0.2->tensorflow-gan) (3.20.3)\n",
            "Requirement already satisfied: absl-py in /usr/local/lib/python3.10/dist-packages (from tensorflow-probability>=0.7->tensorflow-gan) (1.4.0)\n",
            "Requirement already satisfied: six>=1.10.0 in /usr/local/lib/python3.10/dist-packages (from tensorflow-probability>=0.7->tensorflow-gan) (1.16.0)\n",
            "Requirement already satisfied: decorator in /usr/local/lib/python3.10/dist-packages (from tensorflow-probability>=0.7->tensorflow-gan) (4.4.2)\n",
            "Requirement already satisfied: cloudpickle>=1.3 in /usr/local/lib/python3.10/dist-packages (from tensorflow-probability>=0.7->tensorflow-gan) (2.2.1)\n",
            "Requirement already satisfied: gast>=0.3.2 in /usr/local/lib/python3.10/dist-packages (from tensorflow-probability>=0.7->tensorflow-gan) (0.5.4)\n",
            "Requirement already satisfied: dm-tree in /usr/local/lib/python3.10/dist-packages (from tensorflow-probability>=0.7->tensorflow-gan) (0.1.8)\n",
            "Requirement already satisfied: typing-extensions<4.6.0 in /usr/local/lib/python3.10/dist-packages (from tensorflow-probability>=0.7->tensorflow-gan) (4.5.0)\n",
            "Installing collected packages: tensorflow-gan\n",
            "Successfully installed tensorflow-gan-2.1.0\n"
          ]
        }
      ],
      "source": [
        "# Check that imports for the rest of the file work.\n",
        "import tensorflow.compat.v1 as tf\n",
        "!pip install tensorflow-gan\n",
        "import tensorflow_gan as tfgan\n",
        "import tensorflow_datasets as tfds\n",
        "import matplotlib.pyplot as plt\n",
        "import numpy as np\n",
        "# Allow matplotlib images to render immediately.\n",
        "%matplotlib inline\n",
        "tf.logging.set_verbosity(tf.logging.ERROR)  # Disable noisy outputs."
      ]
    },
    {
      "cell_type": "code",
      "metadata": {
        "colab": {
          "base_uri": "https://localhost:8080/"
        },
        "id": "vhBFUkghmHwI",
        "outputId": "81eebaf3-d95b-4d01-f438-10053c52d16b"
      },
      "source": [
        "# link & mount to google drive to import data\n",
        "from google.colab import drive\n",
        "drive.mount('/content/drive')"
      ],
      "execution_count": null,
      "outputs": [
        {
          "output_type": "stream",
          "name": "stdout",
          "text": [
            "Mounted at /content/drive\n"
          ]
        }
      ]
    },
    {
      "cell_type": "code",
      "metadata": {
        "id": "1SKCxa_hmT6W"
      },
      "source": [
        "# import libs\n",
        "import pandas as pd\n",
        "import tensorflow as tf"
      ],
      "execution_count": null,
      "outputs": []
    },
    {
      "cell_type": "code",
      "metadata": {
        "id": "yOtjhXihLxkU"
      },
      "source": [
        "# import pre-processed data from google drive and store in dataframe using pandas function\n",
        "# split the dataset into 6 different datasets, one for each class\n",
        "# GAN model will generate samples for one class at a time, therefore dataframe needs to be split by class. Will be joined again after all samples have been generated.\n",
        "df = pd.read_csv('/content/drive/My Drive/Colab Notebooks/progettoTesi/Dataset2017/improved/Pre-processed_versions/35/d_Botnet35.csv')\n",
        "dff_y = df[['L_BENIGN','L_Infiltration_Portscan','L_DDoS','L_DoS','L_BruteForce','L_Botnet']]\n",
        "dff = df.drop(['L_BENIGN','L_Infiltration_Portscan','L_DDoS','L_DoS','L_BruteForce','L_Botnet'], axis=1)"
      ],
      "execution_count": null,
      "outputs": []
    },
    {
      "cell_type": "code",
      "source": [
        "print(dff.shape)\n",
        "\n",
        "column_names = ['FlowDuration', 'BwdPacketLengthStd', 'PacketLengthVariance', 'DstPort',\n",
        "       'TotalLengthofFwdPacket', 'PacketLengthStd', 'FlowIATMax',\n",
        "       'FlowPackets/s', 'FwdPacketLengthMax', 'BwdPacketLengthMax',\n",
        "       'BwdSegmentSizeAvg', 'RSTFlagCount', 'BwdPacketLengthMean',\n",
        "       'SubflowFwdBytes', 'PacketLengthMean', 'PacketLengthMax',\n",
        "       'FwdPackets/s', 'AveragePacketSize', 'FwdSegmentSizeAvg',\n",
        "       'FwdPacketLengthMean', 'FlowBytes/s', 'SubflowBwdBytes',\n",
        "       'BwdBulkRateAvg', 'FwdPacketLengthStd', 'TotalLengthofBwdPacket',\n",
        "       'FwdHeaderLength', 'FlowIATMean', 'BwdHeaderLength', 'FwdRSTFlags',\n",
        "       'FWDInitWinBytes', 'BwdInitWinBytes', 'FwdIATMax', 'BwdPackets/s',\n",
        "       'ACKFlagCount', 'FwdSegSizeMin']"
      ],
      "metadata": {
        "colab": {
          "base_uri": "https://localhost:8080/"
        },
        "id": "EihTQNCdgGtE",
        "outputId": "bf04c374-6639-481a-9e9c-7def0d002bff"
      },
      "execution_count": null,
      "outputs": [
        {
          "output_type": "stream",
          "name": "stdout",
          "text": [
            "(736, 35)\n"
          ]
        }
      ]
    },
    {
      "cell_type": "markdown",
      "source": [
        "#### Conversione df in array di immagini 2D Gray-scale"
      ],
      "metadata": {
        "id": "dGPg50kLgOmc"
      }
    },
    {
      "cell_type": "code",
      "source": [
        "\n",
        "# Assuming your data is stored in a Pandas DataFrame\n",
        "# Adjust 'column_names' to the actual names of your 35 important features\n",
        "your_dataframe = dff\n",
        "\n",
        "# Initialize a list to store reshaped images\n",
        "images_list = []\n",
        "\n",
        "# Iterate through all rows in the DataFrame\n",
        "for index, row in your_dataframe.iterrows():\n",
        "    # Extract the row data\n",
        "    row_data = row[column_names].values\n",
        "\n",
        "    # Reshape the 1D data into a 2D grid\n",
        "    image_size = (1, len(column_names))\n",
        "    grid = np.reshape(row_data, image_size)\n",
        "\n",
        "    # Create a 2D gray-scale image\n",
        "    image = np.array(grid * 255, dtype=np.uint8)  # Assuming already in [0, 1] range\n",
        "\n",
        "    # Append the image to the list\n",
        "    images_list.append(image)\n",
        "\n",
        "# Stack the images to create a 3D array\n",
        "images_array = np.stack(images_list, axis=0)\n",
        "\n",
        "# Print the shape of the resulting array\n",
        "print(\"Shape of the images array:\", images_array.shape)\n",
        "print(\"Shape of the tabular dataframe:\", dff.shape)\n",
        "\n",
        "print(\"====================================================\")\n",
        "\n",
        "plt.imshow(images_array[50], cmap='gray', interpolation='nearest')\n",
        "plt.title('2D Gray-Scale Image (50a Row)')\n",
        "plt.show()\n"
      ],
      "metadata": {
        "colab": {
          "base_uri": "https://localhost:8080/",
          "height": 149
        },
        "id": "to3D-1LFgLlS",
        "outputId": "1b7458a5-d5fb-4feb-b16a-2a353ac6ef33"
      },
      "execution_count": null,
      "outputs": [
        {
          "output_type": "stream",
          "name": "stdout",
          "text": [
            "Shape of the images array: (736, 1, 35)\n",
            "Shape of the tabular dataframe: (736, 35)\n",
            "====================================================\n"
          ]
        },
        {
          "output_type": "display_data",
          "data": {
            "text/plain": [
              "<Figure size 640x480 with 1 Axes>"
            ],
            "image/png": "[encoded data removed]"
          },
          "metadata": {}
        }
      ]
    },
    {
      "cell_type": "markdown",
      "metadata": {
        "id": "qxrYrU887Mns"
      },
      "source": [
        "### WGAN\n"
      ]
    },
    {
      "cell_type": "code",
      "source": [
        "import tensorflow as tf\n",
        "from tensorflow.keras import layers\n",
        "\n",
        "# Define the Generator\n",
        "def build_generator(input_dim, output_dim):\n",
        "    model = tf.keras.Sequential([\n",
        "        layers.Dense(128, input_dim=input_dim, activation='relu'),\n",
        "        layers.Dense(256, activation='relu'),\n",
        "        layers.Dense(output_dim, activation='sigmoid')\n",
        "    ])\n",
        "    return model\n",
        "\n",
        "# Define the Discriminator\n",
        "def build_discriminator(input_dim):\n",
        "    model = tf.keras.Sequential([\n",
        "        layers.Dense(256, input_dim=input_dim, activation='relu'),\n",
        "        layers.Dense(128, activation='relu'),\n",
        "        layers.Dense(1, activation='sigmoid')\n",
        "    ])\n",
        "    return model\n",
        "\n",
        "# Example dimensions\n",
        "noise_dim = 100  # Size of the random noise vector\n",
        "image_dim = 309 * 309  # Size of the flattened 2D gray-scale image\n",
        "\n",
        "# Build the generator and discriminator\n",
        "generator = build_generator(noise_dim, image_dim)\n",
        "discriminator = build_discriminator(image_dim)\n",
        "\n",
        "# Set different learning rates\n",
        "generator_optimizer = tf.keras.optimizers.Adam(learning_rate=0.0001)\n",
        "discriminator_optimizer = tf.keras.optimizers.Adam(learning_rate=0.0002)\n",
        "\n",
        "# Compile the generator with its optimizer\n",
        "generator.compile(optimizer=generator_optimizer)\n",
        "\n",
        "# Compile the discriminator with its optimizer\n",
        "discriminator.compile(optimizer=discriminator_optimizer, loss='binary_crossentropy', metrics=['accuracy'])\n",
        "\n",
        "\n",
        "# Print the model summaries\n",
        "print(\"Generator Summary:\")\n",
        "generator.summary()\n",
        "\n",
        "print(\"\\nDiscriminator Summary:\")\n",
        "discriminator.summary()\n"
      ],
      "metadata": {
        "colab": {
          "base_uri": "https://localhost:8080/"
        },
        "id": "JYTh_9G8jA8y",
        "outputId": "f1c92183-e97f-487a-e396-29c2663bd616"
      },
      "execution_count": null,
      "outputs": [
        {
          "output_type": "stream",
          "name": "stdout",
          "text": [
            "Generator Summary:\n",
            "Model: \"sequential\"\n",
            "_________________________________________________________________\n",
            " Layer (type)                Output Shape              Param #   \n",
            "=================================================================\n",
            " dense (Dense)               (None, 128)               12928     \n",
            "                                                                 \n",
            " dense_1 (Dense)             (None, 256)               33024     \n",
            "                                                                 \n",
            " dense_2 (Dense)             (None, 95481)             24538617  \n",
            "                                                                 \n",
            "=================================================================\n",
            "Total params: 24584569 (93.78 MB)\n",
            "Trainable params: 24584569 (93.78 MB)\n",
            "Non-trainable params: 0 (0.00 Byte)\n",
            "_________________________________________________________________\n",
            "\n",
            "Discriminator Summary:\n",
            "Model: \"sequential_1\"\n",
            "_________________________________________________________________\n",
            " Layer (type)                Output Shape              Param #   \n",
            "=================================================================\n",
            " dense_3 (Dense)             (None, 256)               24443392  \n",
            "                                                                 \n",
            " dense_4 (Dense)             (None, 128)               32896     \n",
            "                                                                 \n",
            " dense_5 (Dense)             (None, 1)                 129       \n",
            "                                                                 \n",
            "=================================================================\n",
            "Total params: 24476417 (93.37 MB)\n",
            "Trainable params: 24476417 (93.37 MB)\n",
            "Non-trainable params: 0 (0.00 Byte)\n",
            "_________________________________________________________________\n"
          ]
        }
      ]
    },
    {
      "cell_type": "code",
      "source": [
        "epochs = 10 #@param"
      ],
      "metadata": {
        "id": "bc_vXjakkkla"
      },
      "execution_count": null,
      "outputs": []
    },
    {
      "cell_type": "code",
      "source": [
        "# Define GAN model using TF-GAN\n",
        "gan_model = tfgan.gan_model(\n",
        "    generator,\n",
        "    discriminator,\n",
        "    generator_loss_fn=tfgan.losses.wasserstein_generator_loss,\n",
        "    discriminator_loss_fn=tfgan.losses.wasserstein_discriminator_loss\n",
        ")\n",
        "\n",
        "# Prepare your dataset (images_array assumed to be your dataset)\n",
        "dataset = tf.data.Dataset.from_tensor_slices(images_array).shuffle(buffer_size=10000).batch(batch_size=64)\n",
        "\n",
        "# Define optimizer\n",
        "optimizer = tf.keras.optimizers.Adam(learning_rate=0.0002, beta_1=0.5)\n",
        "\n",
        "# Compile GAN model\n",
        "\n",
        "\n",
        "# Compile GAN model with different learning rates\n",
        "gan_model.compile(\n",
        "    optimizer=[generator_optimizer, discriminator_optimizer],\n",
        "    loss='binary_crossentropy',\n",
        "    metrics=['accuracy']\n",
        ")\n",
        "\n",
        "# Train the GAN model\n",
        "gan_model.fit(dataset, epochs=epochs)\n"
      ],
      "metadata": {
        "id": "8OI7F8YVirO1"
      },
      "execution_count": null,
      "outputs": []
    },
    {
      "cell_type": "markdown",
      "source": [
        "### Evaluate and visualize results"
      ],
      "metadata": {
        "id": "N7PqNvV8kTnm"
      }
    },
    {
      "cell_type": "code",
      "source": [
        "# Generate synthetic samples\n",
        "num_samples = 10\n",
        "noise = np.random.normal(0, 1, size=(num_samples, noise_dim))\n",
        "generated_images = generator.predict(noise)\n",
        "\n",
        "# Visualize the generated images\n",
        "fig, axs = plt.subplots(2, 5, figsize=(10, 4))\n",
        "axs = axs.flatten()\n",
        "\n",
        "for i in range(num_samples):\n",
        "    axs[i].imshow(generated_images[i].reshape(309, 309), cmap='gray')\n",
        "    axs[i].axis('off')\n",
        "\n",
        "plt.show()"
      ],
      "metadata": {
        "id": "4CBAaDeMkQgK"
      },
      "execution_count": null,
      "outputs": []
    }
  ],
  "metadata": {
    "colab": {
      "provenance": [],
      "machine_shape": "hm",
      "gpuType": "T4"
    },
    "kernelspec": {
      "display_name": "Python 3",
      "name": "python3"
    },
    "accelerator": "GPU"
  },
  "nbformat": 4,
  "nbformat_minor": 0
}