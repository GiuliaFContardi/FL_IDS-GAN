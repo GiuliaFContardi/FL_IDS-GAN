{
  "nbformat": 4,
  "nbformat_minor": 0,
  "metadata": {
    "colab": {
      "provenance": [],
      "machine_shape": "hm",
      "gpuType": "T4",
      "collapsed_sections": [
        "4jJUJXLFTokR",
        "xq8nZt93KOVT",
        "_tLF53BC6Iy1"
      ]
    },
    "kernelspec": {
      "display_name": "Python 3",
      "name": "python3"
    },
    "accelerator": "GPU"
  },
  "cells": [
    {
      "cell_type": "markdown",
      "source": [
        "## Import"
      ],
      "metadata": {
        "id": "28i6Z0CY6RoN"
      }
    },
    {
      "cell_type": "code",
      "source": [
        "# model architecture adapted from https://github.com/ydataai/ydata-synthetic - a model for generating credit card data\n",
        "# modello GAN\n",
        "# import os\n",
        "import numpy as np\n",
        "\n",
        "# Check that imports for the rest of the file work.\n",
        "import tensorflow as tf\n",
        "import tensorflow.compat.v1 as tfv1\n",
        "!pip install tensorflow-gan\n",
        "import tensorflow_gan as tfgan\n",
        "import matplotlib.pyplot as plt\n",
        "# Allow matplotlib images to render immediately.\n",
        "%matplotlib inline\n",
        "tfv1.logging.set_verbosity(tfv1.logging.ERROR)  # Disable noisy outputs.\n",
        "\n",
        "\n",
        "from tensorflow.keras.layers import Input, Dense, Dropout\n",
        "from tensorflow.keras import Model, layers\n"
      ],
      "metadata": {
        "colab": {
          "base_uri": "https://localhost:8080/"
        },
        "id": "my90BN0q6RWJ",
        "outputId": "60ab405b-2438-42dd-cc8f-8b50c0dd48be"
      },
      "execution_count": null,
      "outputs": [
        {
          "output_type": "stream",
          "name": "stdout",
          "text": [
            "Collecting tensorflow-gan\n",
            "  Downloading tensorflow_gan-2.1.0-py2.py3-none-any.whl (367 kB)\n",
            "\u001b[?25l     \u001b[90m━━━━━━━━━━━━━━━━━━━━━━━━━━━━━━━━━━━━━━━━\u001b[0m \u001b[32m0.0/367.1 kB\u001b[0m \u001b[31m?\u001b[0m eta \u001b[36m-:--:--\u001b[0m\r\u001b[2K     \u001b[91m━━━━━━━━\u001b[0m\u001b[91m╸\u001b[0m\u001b[90m━━━━━━━━━━━━━━━━━━━━━━━━━━━━━━━\u001b[0m \u001b[32m81.9/367.1 kB\u001b[0m \u001b[31m2.3 MB/s\u001b[0m eta \u001b[36m0:00:01\u001b[0m\r\u001b[2K     \u001b[90m━━━━━━━━━━━━━━━━━━━━━━━━━━━━━━━━━━━━━━━━\u001b[0m \u001b[32m367.1/367.1 kB\u001b[0m \u001b[31m6.3 MB/s\u001b[0m eta \u001b[36m0:00:00\u001b[0m\n",
            "\u001b[?25hRequirement already satisfied: tensorflow-hub>=0.2 in /usr/local/lib/python3.10/dist-packages (from tensorflow-gan) (0.15.0)\n",
            "Requirement already satisfied: tensorflow-probability>=0.7 in /usr/local/lib/python3.10/dist-packages (from tensorflow-gan) (0.22.0)\n",
            "Requirement already satisfied: numpy>=1.12.0 in /usr/local/lib/python3.10/dist-packages (from tensorflow-hub>=0.2->tensorflow-gan) (1.23.5)\n",
            "Requirement already satisfied: protobuf>=3.19.6 in /usr/local/lib/python3.10/dist-packages (from tensorflow-hub>=0.2->tensorflow-gan) (3.20.3)\n",
            "Requirement already satisfied: absl-py in /usr/local/lib/python3.10/dist-packages (from tensorflow-probability>=0.7->tensorflow-gan) (1.4.0)\n",
            "Requirement already satisfied: six>=1.10.0 in /usr/local/lib/python3.10/dist-packages (from tensorflow-probability>=0.7->tensorflow-gan) (1.16.0)\n",
            "Requirement already satisfied: decorator in /usr/local/lib/python3.10/dist-packages (from tensorflow-probability>=0.7->tensorflow-gan) (4.4.2)\n",
            "Requirement already satisfied: cloudpickle>=1.3 in /usr/local/lib/python3.10/dist-packages (from tensorflow-probability>=0.7->tensorflow-gan) (2.2.1)\n",
            "Requirement already satisfied: gast>=0.3.2 in /usr/local/lib/python3.10/dist-packages (from tensorflow-probability>=0.7->tensorflow-gan) (0.5.4)\n",
            "Requirement already satisfied: dm-tree in /usr/local/lib/python3.10/dist-packages (from tensorflow-probability>=0.7->tensorflow-gan) (0.1.8)\n",
            "Requirement already satisfied: typing-extensions<4.6.0 in /usr/local/lib/python3.10/dist-packages (from tensorflow-probability>=0.7->tensorflow-gan) (4.5.0)\n",
            "Installing collected packages: tensorflow-gan\n",
            "Successfully installed tensorflow-gan-2.1.0\n"
          ]
        }
      ]
    },
    {
      "cell_type": "code",
      "source": [
        "!pip install sdv\n",
        "from sdv.evaluation.single_table import get_column_plot\n",
        "from sdv.metadata import SingleTableMetadata\n",
        "from sdv.evaluation.single_table import evaluate_quality\n",
        "from sdv.evaluation.single_table import run_diagnostic\n",
        "\n",
        "import pandas as pd\n",
        "import seaborn as sns"
      ],
      "metadata": {
        "colab": {
          "base_uri": "https://localhost:8080/"
        },
        "id": "2EVoT0r66NTp",
        "outputId": "80b6c699-b4bb-4dfb-de76-f70f3e9b75f7"
      },
      "execution_count": null,
      "outputs": [
        {
          "output_type": "stream",
          "name": "stdout",
          "text": [
            "Collecting sdv\n",
            "  Downloading sdv-1.8.0-py2.py3-none-any.whl (137 kB)\n",
            "\u001b[2K     \u001b[90m━━━━━━━━━━━━━━━━━━━━━━━━━━━━━━━━━━━━━━━━\u001b[0m \u001b[32m137.1/137.1 kB\u001b[0m \u001b[31m2.4 MB/s\u001b[0m eta \u001b[36m0:00:00\u001b[0m\n",
            "\u001b[?25hCollecting boto3<2,>=1.15.0 (from sdv)\n",
            "  Downloading boto3-1.34.3-py3-none-any.whl (139 kB)\n",
            "\u001b[2K     \u001b[90m━━━━━━━━━━━━━━━━━━━━━━━━━━━━━━━━━━━━━━━━\u001b[0m \u001b[32m139.3/139.3 kB\u001b[0m \u001b[31m5.1 MB/s\u001b[0m eta \u001b[36m0:00:00\u001b[0m\n",
            "\u001b[?25hCollecting botocore<2,>=1.18 (from sdv)\n",
            "  Downloading botocore-1.34.3-py3-none-any.whl (11.8 MB)\n",
            "\u001b[2K     \u001b[90m━━━━━━━━━━━━━━━━━━━━━━━━━━━━━━━━━━━━━━━━\u001b[0m \u001b[32m11.8/11.8 MB\u001b[0m \u001b[31m80.2 MB/s\u001b[0m eta \u001b[36m0:00:00\u001b[0m\n",
            "\u001b[?25hRequirement already satisfied: cloudpickle<3.0,>=2.1.0 in /usr/local/lib/python3.10/dist-packages (from sdv) (2.2.1)\n",
            "Requirement already satisfied: graphviz<1,>=0.13.2 in /usr/local/lib/python3.10/dist-packages (from sdv) (0.20.1)\n",
            "Requirement already satisfied: tqdm<5,>=4.15 in /usr/local/lib/python3.10/dist-packages (from sdv) (4.66.1)\n",
            "Collecting copulas<0.10,>=0.9.0 (from sdv)\n",
            "  Downloading copulas-0.9.2-py2.py3-none-any.whl (54 kB)\n",
            "\u001b[2K     \u001b[90m━━━━━━━━━━━━━━━━━━━━━━━━━━━━━━━━━━━━━━━━\u001b[0m \u001b[32m54.6/54.6 kB\u001b[0m \u001b[31m7.9 MB/s\u001b[0m eta \u001b[36m0:00:00\u001b[0m\n",
            "\u001b[?25hCollecting ctgan<0.9,>=0.8 (from sdv)\n",
            "  Downloading ctgan-0.8.0-py2.py3-none-any.whl (27 kB)\n",
            "Collecting deepecho<0.6,>=0.5 (from sdv)\n",
            "  Downloading deepecho-0.5.0-py2.py3-none-any.whl (29 kB)\n",
            "Collecting rdt<2,>=1.9.0 (from sdv)\n",
            "  Downloading rdt-1.9.0-py2.py3-none-any.whl (74 kB)\n",
            "\u001b[2K     \u001b[90m━━━━━━━━━━━━━━━━━━━━━━━━━━━━━━━━━━━━━━━━\u001b[0m \u001b[32m74.8/74.8 kB\u001b[0m \u001b[31m10.9 MB/s\u001b[0m eta \u001b[36m0:00:00\u001b[0m\n",
            "\u001b[?25hCollecting sdmetrics<0.14,>=0.13.0 (from sdv)\n",
            "  Downloading sdmetrics-0.13.0-py2.py3-none-any.whl (170 kB)\n",
            "\u001b[2K     \u001b[90m━━━━━━━━━━━━━━━━━━━━━━━━━━━━━━━━━━━━━━━━\u001b[0m \u001b[32m170.7/170.7 kB\u001b[0m \u001b[31m22.8 MB/s\u001b[0m eta \u001b[36m0:00:00\u001b[0m\n",
            "\u001b[?25hRequirement already satisfied: numpy<2,>=1.23.3 in /usr/local/lib/python3.10/dist-packages (from sdv) (1.23.5)\n",
            "Requirement already satisfied: pandas>=1.3.4 in /usr/local/lib/python3.10/dist-packages (from sdv) (1.5.3)\n",
            "Collecting jmespath<2.0.0,>=0.7.1 (from boto3<2,>=1.15.0->sdv)\n",
            "  Downloading jmespath-1.0.1-py3-none-any.whl (20 kB)\n",
            "Collecting s3transfer<0.10.0,>=0.9.0 (from boto3<2,>=1.15.0->sdv)\n",
            "  Downloading s3transfer-0.9.0-py3-none-any.whl (82 kB)\n",
            "\u001b[2K     \u001b[90m━━━━━━━━━━━━━━━━━━━━━━━━━━━━━━━━━━━━━━━━\u001b[0m \u001b[32m82.0/82.0 kB\u001b[0m \u001b[31m12.3 MB/s\u001b[0m eta \u001b[36m0:00:00\u001b[0m\n",
            "\u001b[?25hRequirement already satisfied: python-dateutil<3.0.0,>=2.1 in /usr/local/lib/python3.10/dist-packages (from botocore<2,>=1.18->sdv) (2.8.2)\n",
            "Requirement already satisfied: urllib3<2.1,>=1.25.4 in /usr/local/lib/python3.10/dist-packages (from botocore<2,>=1.18->sdv) (2.0.7)\n",
            "Requirement already satisfied: matplotlib<4,>=3.6.0 in /usr/local/lib/python3.10/dist-packages (from copulas<0.10,>=0.9.0->sdv) (3.7.1)\n",
            "Requirement already satisfied: scipy<2,>=1.9.2 in /usr/local/lib/python3.10/dist-packages (from copulas<0.10,>=0.9.0->sdv) (1.11.4)\n",
            "Requirement already satisfied: scikit-learn<2,>=1.1.3 in /usr/local/lib/python3.10/dist-packages (from ctgan<0.9,>=0.8->sdv) (1.2.2)\n",
            "Requirement already satisfied: torch>=1.11.0 in /usr/local/lib/python3.10/dist-packages (from ctgan<0.9,>=0.8->sdv) (2.1.0+cu121)\n",
            "Requirement already satisfied: pytz>=2020.1 in /usr/local/lib/python3.10/dist-packages (from pandas>=1.3.4->sdv) (2023.3.post1)\n",
            "Collecting Faker<20,>=17 (from rdt<2,>=1.9.0->sdv)\n",
            "  Downloading Faker-19.13.0-py3-none-any.whl (1.7 MB)\n",
            "\u001b[2K     \u001b[90m━━━━━━━━━━━━━━━━━━━━━━━━━━━━━━━━━━━━━━━━\u001b[0m \u001b[32m1.7/1.7 MB\u001b[0m \u001b[31m46.9 MB/s\u001b[0m eta \u001b[36m0:00:00\u001b[0m\n",
            "\u001b[?25hRequirement already satisfied: plotly<6,>=5.10.0 in /usr/local/lib/python3.10/dist-packages (from sdmetrics<0.14,>=0.13.0->sdv) (5.15.0)\n",
            "Requirement already satisfied: contourpy>=1.0.1 in /usr/local/lib/python3.10/dist-packages (from matplotlib<4,>=3.6.0->copulas<0.10,>=0.9.0->sdv) (1.2.0)\n",
            "Requirement already satisfied: cycler>=0.10 in /usr/local/lib/python3.10/dist-packages (from matplotlib<4,>=3.6.0->copulas<0.10,>=0.9.0->sdv) (0.12.1)\n",
            "Requirement already satisfied: fonttools>=4.22.0 in /usr/local/lib/python3.10/dist-packages (from matplotlib<4,>=3.6.0->copulas<0.10,>=0.9.0->sdv) (4.46.0)\n",
            "Requirement already satisfied: kiwisolver>=1.0.1 in /usr/local/lib/python3.10/dist-packages (from matplotlib<4,>=3.6.0->copulas<0.10,>=0.9.0->sdv) (1.4.5)\n",
            "Requirement already satisfied: packaging>=20.0 in /usr/local/lib/python3.10/dist-packages (from matplotlib<4,>=3.6.0->copulas<0.10,>=0.9.0->sdv) (23.2)\n",
            "Requirement already satisfied: pillow>=6.2.0 in /usr/local/lib/python3.10/dist-packages (from matplotlib<4,>=3.6.0->copulas<0.10,>=0.9.0->sdv) (9.4.0)\n",
            "Requirement already satisfied: pyparsing>=2.3.1 in /usr/local/lib/python3.10/dist-packages (from matplotlib<4,>=3.6.0->copulas<0.10,>=0.9.0->sdv) (3.1.1)\n",
            "Requirement already satisfied: tenacity>=6.2.0 in /usr/local/lib/python3.10/dist-packages (from plotly<6,>=5.10.0->sdmetrics<0.14,>=0.13.0->sdv) (8.2.3)\n",
            "Requirement already satisfied: six>=1.5 in /usr/local/lib/python3.10/dist-packages (from python-dateutil<3.0.0,>=2.1->botocore<2,>=1.18->sdv) (1.16.0)\n",
            "Requirement already satisfied: joblib>=1.1.1 in /usr/local/lib/python3.10/dist-packages (from scikit-learn<2,>=1.1.3->ctgan<0.9,>=0.8->sdv) (1.3.2)\n",
            "Requirement already satisfied: threadpoolctl>=2.0.0 in /usr/local/lib/python3.10/dist-packages (from scikit-learn<2,>=1.1.3->ctgan<0.9,>=0.8->sdv) (3.2.0)\n",
            "Requirement already satisfied: filelock in /usr/local/lib/python3.10/dist-packages (from torch>=1.11.0->ctgan<0.9,>=0.8->sdv) (3.13.1)\n",
            "Requirement already satisfied: typing-extensions in /usr/local/lib/python3.10/dist-packages (from torch>=1.11.0->ctgan<0.9,>=0.8->sdv) (4.5.0)\n",
            "Requirement already satisfied: sympy in /usr/local/lib/python3.10/dist-packages (from torch>=1.11.0->ctgan<0.9,>=0.8->sdv) (1.12)\n",
            "Requirement already satisfied: networkx in /usr/local/lib/python3.10/dist-packages (from torch>=1.11.0->ctgan<0.9,>=0.8->sdv) (3.2.1)\n",
            "Requirement already satisfied: jinja2 in /usr/local/lib/python3.10/dist-packages (from torch>=1.11.0->ctgan<0.9,>=0.8->sdv) (3.1.2)\n",
            "Requirement already satisfied: fsspec in /usr/local/lib/python3.10/dist-packages (from torch>=1.11.0->ctgan<0.9,>=0.8->sdv) (2023.6.0)\n",
            "Requirement already satisfied: triton==2.1.0 in /usr/local/lib/python3.10/dist-packages (from torch>=1.11.0->ctgan<0.9,>=0.8->sdv) (2.1.0)\n",
            "Requirement already satisfied: MarkupSafe>=2.0 in /usr/local/lib/python3.10/dist-packages (from jinja2->torch>=1.11.0->ctgan<0.9,>=0.8->sdv) (2.1.3)\n",
            "Requirement already satisfied: mpmath>=0.19 in /usr/local/lib/python3.10/dist-packages (from sympy->torch>=1.11.0->ctgan<0.9,>=0.8->sdv) (1.3.0)\n",
            "Installing collected packages: jmespath, Faker, botocore, s3transfer, rdt, deepecho, copulas, sdmetrics, ctgan, boto3, sdv\n",
            "Successfully installed Faker-19.13.0 boto3-1.34.3 botocore-1.34.3 copulas-0.9.2 ctgan-0.8.0 deepecho-0.5.0 jmespath-1.0.1 rdt-1.9.0 s3transfer-0.9.0 sdmetrics-0.13.0 sdv-1.8.0\n"
          ]
        }
      ]
    },
    {
      "cell_type": "code",
      "metadata": {
        "colab": {
          "base_uri": "https://localhost:8080/"
        },
        "id": "vhBFUkghmHwI",
        "outputId": "61e4ac43-b82f-4f4e-d267-e9a7aa416ba4"
      },
      "source": [
        "# link & mount to google drive to import data\n",
        "from google.colab import drive\n",
        "drive.mount('/content/drive')"
      ],
      "execution_count": null,
      "outputs": [
        {
          "output_type": "stream",
          "name": "stdout",
          "text": [
            "Mounted at /content/drive\n"
          ]
        }
      ]
    },
    {
      "cell_type": "markdown",
      "source": [
        "## Pre-processing per la WGAN: normalizzazione e splitting"
      ],
      "metadata": {
        "id": "DtAUhoyTq5ny"
      }
    },
    {
      "cell_type": "code",
      "source": [
        "dataFin = pd.read_csv('/content/drive/My Drive/Colab Notebooks/progettoTesi/Dataset2017/improved/Pre-processed_versions/dataCleanedEncoded.csv')"
      ],
      "metadata": {
        "id": "9JnL_8u5q5By"
      },
      "execution_count": null,
      "outputs": []
    },
    {
      "cell_type": "code",
      "source": [
        "data35 = dataFin[['FlowDuration', 'BwdPacketLengthStd', 'PacketLengthVariance', 'DstPort',\n",
        "       'TotalLengthofFwdPacket', 'PacketLengthStd', 'FlowIATMax',\n",
        "       'FlowPackets/s', 'FwdPacketLengthMax', 'BwdPacketLengthMax',\n",
        "       'BwdSegmentSizeAvg', 'RSTFlagCount', 'BwdPacketLengthMean',\n",
        "       'SubflowFwdBytes', 'PacketLengthMean', 'PacketLengthMax',\n",
        "       'FwdPackets/s', 'AveragePacketSize', 'FwdSegmentSizeAvg',\n",
        "       'FwdPacketLengthMean', 'FlowBytes/s', 'SubflowBwdBytes',\n",
        "       'BwdBulkRateAvg', 'FwdPacketLengthStd', 'TotalLengthofBwdPacket',\n",
        "       'FwdHeaderLength', 'FlowIATMean', 'BwdHeaderLength', 'FwdRSTFlags',\n",
        "       'FWDInitWinBytes', 'BwdInitWinBytes', 'FwdIATMax', 'BwdPackets/s',\n",
        "       'ACKFlagCount', 'FwdSegSizeMin','L_BENIGN','L_Infiltration_Portscan','L_DDoS','L_DoS','L_BruteForce','L_Botnet']]"
      ],
      "metadata": {
        "id": "dQqgclrPr9IU"
      },
      "execution_count": null,
      "outputs": []
    },
    {
      "cell_type": "code",
      "source": [
        "data35.shape"
      ],
      "metadata": {
        "colab": {
          "base_uri": "https://localhost:8080/"
        },
        "id": "KMyu2fxk8_3w",
        "outputId": "0c03ae31-913e-4786-c1e9-1831188b7c9d"
      },
      "execution_count": null,
      "outputs": [
        {
          "output_type": "execute_result",
          "data": {
            "text/plain": [
              "(2099769, 41)"
            ]
          },
          "metadata": {},
          "execution_count": 6
        }
      ]
    },
    {
      "cell_type": "code",
      "source": [
        "data35.to_csv(r'drive/My Drive/Colab Notebooks/progettoTesi/Dataset2017/improved/Pre-processed_versions/dataCleanedEncoded35.csv', index = False)"
      ],
      "metadata": {
        "id": "vy7xiBgxsSdj"
      },
      "execution_count": null,
      "outputs": []
    },
    {
      "cell_type": "markdown",
      "source": [
        "**PARTI DA QUA**"
      ],
      "metadata": {
        "id": "UET7Y1It7XiI"
      }
    },
    {
      "cell_type": "code",
      "source": [
        "data = pd.read_csv('/content/drive/My Drive/Colab Notebooks/progettoTesi/Dataset2017/improved/Pre-processed_versions/dataCleanedEncoded35.csv')"
      ],
      "metadata": {
        "id": "L8edw5htsTb0"
      },
      "execution_count": null,
      "outputs": []
    },
    {
      "cell_type": "code",
      "source": [
        "#d_Benign = dataFin[dataFin['L_BENIGN'] == 1]\n",
        "#d_Portscan = data[data['L_Infiltration_Portscan'] == 1]\n",
        "d_DDoS = data[data['L_DDoS'] == 1]\n",
        "#d_DoS = data[data['L_DoS'] == 1]\n",
        "#d_BruteForce = dataFin[dataFin['L_BruteForce'] == 1]\n",
        "#d_Botnet = dataFin[dataFin['L_Botnet'] == 1]"
      ],
      "metadata": {
        "id": "MvSj_VcgraJ1"
      },
      "execution_count": null,
      "outputs": []
    },
    {
      "cell_type": "code",
      "source": [
        "d_DDoS.head()"
      ],
      "metadata": {
        "colab": {
          "base_uri": "https://localhost:8080/",
          "height": 255
        },
        "id": "NSAsOPFKxIU0",
        "outputId": "6adb635d-fadd-4525-b53a-f4bdf899f26f"
      },
      "execution_count": null,
      "outputs": [
        {
          "output_type": "execute_result",
          "data": {
            "text/plain": [
              "     FlowDuration  BwdPacketLengthStd  PacketLengthVariance  DstPort  \\\n",
              "45        2137952         2208.914892          3.196734e+06       80   \n",
              "80        5236060         3348.440682          5.113322e+06       80   \n",
              "100      11999421         3640.785286          5.739460e+06       80   \n",
              "106       5789781         3329.858105          5.454425e+06       80   \n",
              "232       2076972         2202.130219          2.847563e+06       80   \n",
              "\n",
              "     TotalLengthofFwdPacket  PacketLengthStd  FlowIATMax  FlowPackets/s  \\\n",
              "45                       20      1787.941247     1492974       5.612848   \n",
              "80                       20      2261.265671     4685849       2.482783   \n",
              "100                      20      2395.717103    11938684       1.166723   \n",
              "106                      20      2335.471004     5675830       2.072617   \n",
              "232                      20      1687.472466     2040984       6.740582   \n",
              "\n",
              "     FwdPacketLengthMax  BwdPacketLengthMax  ...  FwdIATMax  BwdPackets/s  \\\n",
              "45                   20                4380  ...    1492974      2.338687   \n",
              "80                   20                7300  ...    4685849      0.954916   \n",
              "100                  20                8760  ...   11938684      0.416687   \n",
              "106                  20                7215  ...    5675830      0.863591   \n",
              "232                  20                5840  ...    2040984      2.888821   \n",
              "\n",
              "     ACKFlagCount  FwdSegSizeMin  L_BENIGN  L_Infiltration_Portscan  L_DDoS  \\\n",
              "45             11             20         0                        0       1   \n",
              "80             12             20         0                        0       1   \n",
              "100            13             20         0                        0       1   \n",
              "106            11             20         0                        0       1   \n",
              "232            13             20         0                        0       1   \n",
              "\n",
              "     L_DoS  L_BruteForce  L_Botnet  \n",
              "45       0             0         0  \n",
              "80       0             0         0  \n",
              "100      0             0         0  \n",
              "106      0             0         0  \n",
              "232      0             0         0  \n",
              "\n",
              "[5 rows x 41 columns]"
            ],
            "text/html": [
              "\n",
              "  <div id=\"df-f4ee24e7-fdf7-4da7-9bd5-6897b4d724c4\" class=\"colab-df-container\">\n",
              "    <div>\n",
              "<style scoped>\n",
              "    .dataframe tbody tr th:only-of-type {\n",
              "        vertical-align: middle;\n",
              "    }\n",
              "\n",
              "    .dataframe tbody tr th {\n",
              "        vertical-align: top;\n",
              "    }\n",
              "\n",
              "    .dataframe thead th {\n",
              "        text-align: right;\n",
              "    }\n",
              "</style>\n",
              "<table border=\"1\" class=\"dataframe\">\n",
              "  <thead>\n",
              "    <tr style=\"text-align: right;\">\n",
              "      <th></th>\n",
              "      <th>FlowDuration</th>\n",
              "      <th>BwdPacketLengthStd</th>\n",
              "      <th>PacketLengthVariance</th>\n",
              "      <th>DstPort</th>\n",
              "      <th>TotalLengthofFwdPacket</th>\n",
              "      <th>PacketLengthStd</th>\n",
              "      <th>FlowIATMax</th>\n",
              "      <th>FlowPackets/s</th>\n",
              "      <th>FwdPacketLengthMax</th>\n",
              "      <th>BwdPacketLengthMax</th>\n",
              "      <th>...</th>\n",
              "      <th>FwdIATMax</th>\n",
              "      <th>BwdPackets/s</th>\n",
              "      <th>ACKFlagCount</th>\n",
              "      <th>FwdSegSizeMin</th>\n",
              "      <th>L_BENIGN</th>\n",
              "      <th>L_Infiltration_Portscan</th>\n",
              "      <th>L_DDoS</th>\n",
              "      <th>L_DoS</th>\n",
              "      <th>L_BruteForce</th>\n",
              "      <th>L_Botnet</th>\n",
              "    </tr>\n",
              "  </thead>\n",
              "  <tbody>\n",
              "    <tr>\n",
              "      <th>45</th>\n",
              "      <td>2137952</td>\n",
              "      <td>2208.914892</td>\n",
              "      <td>3.196734e+06</td>\n",
              "      <td>80</td>\n",
              "      <td>20</td>\n",
              "      <td>1787.941247</td>\n",
              "      <td>1492974</td>\n",
              "      <td>5.612848</td>\n",
              "      <td>20</td>\n",
              "      <td>4380</td>\n",
              "      <td>...</td>\n",
              "      <td>1492974</td>\n",
              "      <td>2.338687</td>\n",
              "      <td>11</td>\n",
              "      <td>20</td>\n",
              "      <td>0</td>\n",
              "      <td>0</td>\n",
              "      <td>1</td>\n",
              "      <td>0</td>\n",
              "      <td>0</td>\n",
              "      <td>0</td>\n",
              "    </tr>\n",
              "    <tr>\n",
              "      <th>80</th>\n",
              "      <td>5236060</td>\n",
              "      <td>3348.440682</td>\n",
              "      <td>5.113322e+06</td>\n",
              "      <td>80</td>\n",
              "      <td>20</td>\n",
              "      <td>2261.265671</td>\n",
              "      <td>4685849</td>\n",
              "      <td>2.482783</td>\n",
              "      <td>20</td>\n",
              "      <td>7300</td>\n",
              "      <td>...</td>\n",
              "      <td>4685849</td>\n",
              "      <td>0.954916</td>\n",
              "      <td>12</td>\n",
              "      <td>20</td>\n",
              "      <td>0</td>\n",
              "      <td>0</td>\n",
              "      <td>1</td>\n",
              "      <td>0</td>\n",
              "      <td>0</td>\n",
              "      <td>0</td>\n",
              "    </tr>\n",
              "    <tr>\n",
              "      <th>100</th>\n",
              "      <td>11999421</td>\n",
              "      <td>3640.785286</td>\n",
              "      <td>5.739460e+06</td>\n",
              "      <td>80</td>\n",
              "      <td>20</td>\n",
              "      <td>2395.717103</td>\n",
              "      <td>11938684</td>\n",
              "      <td>1.166723</td>\n",
              "      <td>20</td>\n",
              "      <td>8760</td>\n",
              "      <td>...</td>\n",
              "      <td>11938684</td>\n",
              "      <td>0.416687</td>\n",
              "      <td>13</td>\n",
              "      <td>20</td>\n",
              "      <td>0</td>\n",
              "      <td>0</td>\n",
              "      <td>1</td>\n",
              "      <td>0</td>\n",
              "      <td>0</td>\n",
              "      <td>0</td>\n",
              "    </tr>\n",
              "    <tr>\n",
              "      <th>106</th>\n",
              "      <td>5789781</td>\n",
              "      <td>3329.858105</td>\n",
              "      <td>5.454425e+06</td>\n",
              "      <td>80</td>\n",
              "      <td>20</td>\n",
              "      <td>2335.471004</td>\n",
              "      <td>5675830</td>\n",
              "      <td>2.072617</td>\n",
              "      <td>20</td>\n",
              "      <td>7215</td>\n",
              "      <td>...</td>\n",
              "      <td>5675830</td>\n",
              "      <td>0.863591</td>\n",
              "      <td>11</td>\n",
              "      <td>20</td>\n",
              "      <td>0</td>\n",
              "      <td>0</td>\n",
              "      <td>1</td>\n",
              "      <td>0</td>\n",
              "      <td>0</td>\n",
              "      <td>0</td>\n",
              "    </tr>\n",
              "    <tr>\n",
              "      <th>232</th>\n",
              "      <td>2076972</td>\n",
              "      <td>2202.130219</td>\n",
              "      <td>2.847563e+06</td>\n",
              "      <td>80</td>\n",
              "      <td>20</td>\n",
              "      <td>1687.472466</td>\n",
              "      <td>2040984</td>\n",
              "      <td>6.740582</td>\n",
              "      <td>20</td>\n",
              "      <td>5840</td>\n",
              "      <td>...</td>\n",
              "      <td>2040984</td>\n",
              "      <td>2.888821</td>\n",
              "      <td>13</td>\n",
              "      <td>20</td>\n",
              "      <td>0</td>\n",
              "      <td>0</td>\n",
              "      <td>1</td>\n",
              "      <td>0</td>\n",
              "      <td>0</td>\n",
              "      <td>0</td>\n",
              "    </tr>\n",
              "  </tbody>\n",
              "</table>\n",
              "<p>5 rows × 41 columns</p>\n",
              "</div>\n",
              "    <div class=\"colab-df-buttons\">\n",
              "\n",
              "  <div class=\"colab-df-container\">\n",
              "    <button class=\"colab-df-convert\" onclick=\"convertToInteractive('df-f4ee24e7-fdf7-4da7-9bd5-6897b4d724c4')\"\n",
              "            title=\"Convert this dataframe to an interactive table.\"\n",
              "            style=\"display:none;\">\n",
              "\n",
              "  <svg xmlns=\"http://www.w3.org/2000/svg\" height=\"24px\" viewBox=\"0 -960 960 960\">\n",
              "    <path d=\"M120-120v-720h720v720H120Zm60-500h600v-160H180v160Zm220 220h160v-160H400v160Zm0 220h160v-160H400v160ZM180-400h160v-160H180v160Zm440 0h160v-160H620v160ZM180-180h160v-160H180v160Zm440 0h160v-160H620v160Z\"/>\n",
              "  </svg>\n",
              "    </button>\n",
              "\n",
              "  <style>\n",
              "    .colab-df-container {\n",
              "      display:flex;\n",
              "      gap: 12px;\n",
              "    }\n",
              "\n",
              "    .colab-df-convert {\n",
              "      background-color: #E8F0FE;\n",
              "      border: none;\n",
              "      border-radius: 50%;\n",
              "      cursor: pointer;\n",
              "      display: none;\n",
              "      fill: #1967D2;\n",
              "      height: 32px;\n",
              "      padding: 0 0 0 0;\n",
              "      width: 32px;\n",
              "    }\n",
              "\n",
              "    .colab-df-convert:hover {\n",
              "      background-color: #E2EBFA;\n",
              "      box-shadow: 0px 1px 2px rgba(60, 64, 67, 0.3), 0px 1px 3px 1px rgba(60, 64, 67, 0.15);\n",
              "      fill: #174EA6;\n",
              "    }\n",
              "\n",
              "    .colab-df-buttons div {\n",
              "      margin-bottom: 4px;\n",
              "    }\n",
              "\n",
              "    [theme=dark] .colab-df-convert {\n",
              "      background-color: #3B4455;\n",
              "      fill: #D2E3FC;\n",
              "    }\n",
              "\n",
              "    [theme=dark] .colab-df-convert:hover {\n",
              "      background-color: #434B5C;\n",
              "      box-shadow: 0px 1px 3px 1px rgba(0, 0, 0, 0.15);\n",
              "      filter: drop-shadow(0px 1px 2px rgba(0, 0, 0, 0.3));\n",
              "      fill: #FFFFFF;\n",
              "    }\n",
              "  </style>\n",
              "\n",
              "    <script>\n",
              "      const buttonEl =\n",
              "        document.querySelector('#df-f4ee24e7-fdf7-4da7-9bd5-6897b4d724c4 button.colab-df-convert');\n",
              "      buttonEl.style.display =\n",
              "        google.colab.kernel.accessAllowed ? 'block' : 'none';\n",
              "\n",
              "      async function convertToInteractive(key) {\n",
              "        const element = document.querySelector('#df-f4ee24e7-fdf7-4da7-9bd5-6897b4d724c4');\n",
              "        const dataTable =\n",
              "          await google.colab.kernel.invokeFunction('convertToInteractive',\n",
              "                                                    [key], {});\n",
              "        if (!dataTable) return;\n",
              "\n",
              "        const docLinkHtml = 'Like what you see? Visit the ' +\n",
              "          '<a target=\"_blank\" href=https://colab.research.google.com/notebooks/data_table.ipynb>data table notebook</a>'\n",
              "          + ' to learn more about interactive tables.';\n",
              "        element.innerHTML = '';\n",
              "        dataTable['output_type'] = 'display_data';\n",
              "        await google.colab.output.renderOutput(dataTable, element);\n",
              "        const docLink = document.createElement('div');\n",
              "        docLink.innerHTML = docLinkHtml;\n",
              "        element.appendChild(docLink);\n",
              "      }\n",
              "    </script>\n",
              "  </div>\n",
              "\n",
              "\n",
              "<div id=\"df-775330c1-3428-4668-9874-e92df9dfeb8e\">\n",
              "  <button class=\"colab-df-quickchart\" onclick=\"quickchart('df-775330c1-3428-4668-9874-e92df9dfeb8e')\"\n",
              "            title=\"Suggest charts\"\n",
              "            style=\"display:none;\">\n",
              "\n",
              "<svg xmlns=\"http://www.w3.org/2000/svg\" height=\"24px\"viewBox=\"0 0 24 24\"\n",
              "     width=\"24px\">\n",
              "    <g>\n",
              "        <path d=\"M19 3H5c-1.1 0-2 .9-2 2v14c0 1.1.9 2 2 2h14c1.1 0 2-.9 2-2V5c0-1.1-.9-2-2-2zM9 17H7v-7h2v7zm4 0h-2V7h2v10zm4 0h-2v-4h2v4z\"/>\n",
              "    </g>\n",
              "</svg>\n",
              "  </button>\n",
              "\n",
              "<style>\n",
              "  .colab-df-quickchart {\n",
              "      --bg-color: #E8F0FE;\n",
              "      --fill-color: #1967D2;\n",
              "      --hover-bg-color: #E2EBFA;\n",
              "      --hover-fill-color: #174EA6;\n",
              "      --disabled-fill-color: #AAA;\n",
              "      --disabled-bg-color: #DDD;\n",
              "  }\n",
              "\n",
              "  [theme=dark] .colab-df-quickchart {\n",
              "      --bg-color: #3B4455;\n",
              "      --fill-color: #D2E3FC;\n",
              "      --hover-bg-color: #434B5C;\n",
              "      --hover-fill-color: #FFFFFF;\n",
              "      --disabled-bg-color: #3B4455;\n",
              "      --disabled-fill-color: #666;\n",
              "  }\n",
              "\n",
              "  .colab-df-quickchart {\n",
              "    background-color: var(--bg-color);\n",
              "    border: none;\n",
              "    border-radius: 50%;\n",
              "    cursor: pointer;\n",
              "    display: none;\n",
              "    fill: var(--fill-color);\n",
              "    height: 32px;\n",
              "    padding: 0;\n",
              "    width: 32px;\n",
              "  }\n",
              "\n",
              "  .colab-df-quickchart:hover {\n",
              "    background-color: var(--hover-bg-color);\n",
              "    box-shadow: 0 1px 2px rgba(60, 64, 67, 0.3), 0 1px 3px 1px rgba(60, 64, 67, 0.15);\n",
              "    fill: var(--button-hover-fill-color);\n",
              "  }\n",
              "\n",
              "  .colab-df-quickchart-complete:disabled,\n",
              "  .colab-df-quickchart-complete:disabled:hover {\n",
              "    background-color: var(--disabled-bg-color);\n",
              "    fill: var(--disabled-fill-color);\n",
              "    box-shadow: none;\n",
              "  }\n",
              "\n",
              "  .colab-df-spinner {\n",
              "    border: 2px solid var(--fill-color);\n",
              "    border-color: transparent;\n",
              "    border-bottom-color: var(--fill-color);\n",
              "    animation:\n",
              "      spin 1s steps(1) infinite;\n",
              "  }\n",
              "\n",
              "  @keyframes spin {\n",
              "    0% {\n",
              "      border-color: transparent;\n",
              "      border-bottom-color: var(--fill-color);\n",
              "      border-left-color: var(--fill-color);\n",
              "    }\n",
              "    20% {\n",
              "      border-color: transparent;\n",
              "      border-left-color: var(--fill-color);\n",
              "      border-top-color: var(--fill-color);\n",
              "    }\n",
              "    30% {\n",
              "      border-color: transparent;\n",
              "      border-left-color: var(--fill-color);\n",
              "      border-top-color: var(--fill-color);\n",
              "      border-right-color: var(--fill-color);\n",
              "    }\n",
              "    40% {\n",
              "      border-color: transparent;\n",
              "      border-right-color: var(--fill-color);\n",
              "      border-top-color: var(--fill-color);\n",
              "    }\n",
              "    60% {\n",
              "      border-color: transparent;\n",
              "      border-right-color: var(--fill-color);\n",
              "    }\n",
              "    80% {\n",
              "      border-color: transparent;\n",
              "      border-right-color: var(--fill-color);\n",
              "      border-bottom-color: var(--fill-color);\n",
              "    }\n",
              "    90% {\n",
              "      border-color: transparent;\n",
              "      border-bottom-color: var(--fill-color);\n",
              "    }\n",
              "  }\n",
              "</style>\n",
              "\n",
              "  <script>\n",
              "    async function quickchart(key) {\n",
              "      const quickchartButtonEl =\n",
              "        document.querySelector('#' + key + ' button');\n",
              "      quickchartButtonEl.disabled = true;  // To prevent multiple clicks.\n",
              "      quickchartButtonEl.classList.add('colab-df-spinner');\n",
              "      try {\n",
              "        const charts = await google.colab.kernel.invokeFunction(\n",
              "            'suggestCharts', [key], {});\n",
              "      } catch (error) {\n",
              "        console.error('Error during call to suggestCharts:', error);\n",
              "      }\n",
              "      quickchartButtonEl.classList.remove('colab-df-spinner');\n",
              "      quickchartButtonEl.classList.add('colab-df-quickchart-complete');\n",
              "    }\n",
              "    (() => {\n",
              "      let quickchartButtonEl =\n",
              "        document.querySelector('#df-775330c1-3428-4668-9874-e92df9dfeb8e button');\n",
              "      quickchartButtonEl.style.display =\n",
              "        google.colab.kernel.accessAllowed ? 'block' : 'none';\n",
              "    })();\n",
              "  </script>\n",
              "</div>\n",
              "    </div>\n",
              "  </div>\n"
            ]
          },
          "metadata": {},
          "execution_count": 6
        }
      ]
    },
    {
      "cell_type": "markdown",
      "metadata": {
        "id": "U78VRsFlASzF"
      },
      "source": [
        "## Carico dati"
      ]
    },
    {
      "cell_type": "code",
      "metadata": {
        "id": "yOtjhXihLxkU"
      },
      "source": [
        "# import pre-processed data from google drive and store in dataframe using pandas function\n",
        "# split the dataset into 6 different datasets, one for each class\n",
        "# GAN model will generate samples for one class at a time, therefore dataframe needs to be split by class. Will be joined again after all samples have been generated."
      ],
      "execution_count": null,
      "outputs": []
    },
    {
      "cell_type": "markdown",
      "metadata": {
        "id": "3av6uTS_AXPk"
      },
      "source": [
        "**Drop label category from each dataframe**"
      ]
    },
    {
      "cell_type": "code",
      "metadata": {
        "id": "ioMwGQt8BHFn"
      },
      "source": [
        "#colonna superflua perché tanto ho già diviso per classi... la label di ogni df è uguale obv\n",
        "##dfBenign = d_Benign.drop(['L_BENIGN','L_Infiltration_Portscan','L_DDoS','L_DoS','L_BruteForce','L_Botnet'], axis=1)\n",
        "#dfPortscan = d_Portscan.drop(['L_BENIGN','L_Infiltration_Portscan','L_DDoS','L_DoS','L_BruteForce','L_Botnet'], axis=1)\n",
        "dfDDoS = d_DDoS.drop(['L_BENIGN','L_Infiltration_Portscan','L_DDoS','L_DoS','L_BruteForce','L_Botnet'], axis=1)\n",
        "#dfDoS = d_DoS.drop(['L_BENIGN','L_Infiltration_Portscan','L_DDoS','L_DoS','L_BruteForce','L_Botnet'], axis=1)\n",
        "#dfBruteForce = d_BruteForce.drop(['L_BENIGN','L_Infiltration_Portscan','L_DDoS','L_DoS','L_BruteForce','L_Botnet'], axis=1)\n",
        "#dfBotnet = d_Botnet.drop(['L_BENIGN','L_Infiltration_Portscan','L_DDoS','L_DoS','L_BruteForce','L_Botnet'], axis=1)"
      ],
      "execution_count": null,
      "outputs": []
    },
    {
      "cell_type": "code",
      "source": [
        "pd.options.display.float_format = '{:,.20f}'.format"
      ],
      "metadata": {
        "id": "f3Bd-v2T5p3Y"
      },
      "execution_count": null,
      "outputs": []
    },
    {
      "cell_type": "code",
      "source": [
        "dfDDoS.head()"
      ],
      "metadata": {
        "colab": {
          "base_uri": "https://localhost:8080/",
          "height": 255
        },
        "id": "hS5PwOP6xBr8",
        "outputId": "f6294d53-864e-442b-c295-86bc5408b4ac"
      },
      "execution_count": null,
      "outputs": [
        {
          "output_type": "execute_result",
          "data": {
            "text/plain": [
              "     FlowDuration         BwdPacketLengthStd           PacketLengthVariance  \\\n",
              "45        2137952 2,208.91489197750661332975 3,196,733.90151515137404203415   \n",
              "80        5236060 3,348.44068186969707312528 5,113,322.43589743599295616150   \n",
              "100      11999421 3,640.78528617110305276583 5,739,460.43956043943762779236   \n",
              "106       5789781 3,329.85810508495978865540 5,454,424.81060606148093938828   \n",
              "232       2076972 2,202.13021867463612579741 2,847,563.32417582441121339798   \n",
              "\n",
              "     DstPort  TotalLengthofFwdPacket            PacketLengthStd  FlowIATMax  \\\n",
              "45        80                      20 1,787.94124666196807993401     1492974   \n",
              "80        80                      20 2,261.26567123313407137175     4685849   \n",
              "100       80                      20 2,395.71710340775416625547    11938684   \n",
              "106       80                      20 2,335.47100401740408415208     5675830   \n",
              "232       80                      20 1,687.47246619784118593088     2040984   \n",
              "\n",
              "             FlowPackets/s  FwdPacketLengthMax  BwdPacketLengthMax  ...  \\\n",
              "45  5.61284818368232851782                  20                4380  ...   \n",
              "80  2.48278285581143087768                  20                7300  ...   \n",
              "100 1.16672296104953709950                  20                8760  ...   \n",
              "106 2.07261725443501232391                  20                7215  ...   \n",
              "232 6.74058196258784381172                  20                5840  ...   \n",
              "\n",
              "     FwdHeaderLength                  FlowIATMean  BwdHeaderLength  \\\n",
              "45               152 194,359.27272727270610630512              112   \n",
              "80               172 436,338.33333333337213844061              112   \n",
              "100              204 923,032.38461538462433964014              112   \n",
              "106              152 526,343.72727272729389369488              112   \n",
              "232              172 159,767.07692307693650946021              132   \n",
              "\n",
              "     FwdRSTFlags  FWDInitWinBytes  BwdInitWinBytes  FwdIATMax  \\\n",
              "45             1             8192              229    1492974   \n",
              "80             1             8192              229    4685849   \n",
              "100            1             8192              229   11938684   \n",
              "106            1             8192              229    5675830   \n",
              "232            1             8192              229    2040984   \n",
              "\n",
              "              BwdPackets/s  ACKFlagCount  FwdSegSizeMin  \n",
              "45  2.33868674320097014174            11             20  \n",
              "80  0.95491648300439635477            12             20  \n",
              "100 0.41668677180340618627            13             20  \n",
              "106 0.86359052268125513496            11             20  \n",
              "232 2.88882084110907610963            13             20  \n",
              "\n",
              "[5 rows x 35 columns]"
            ],
            "text/html": [
              "\n",
              "  <div id=\"df-4895b063-c19b-46d7-a336-9327bf90311e\" class=\"colab-df-container\">\n",
              "    <div>\n",
              "<style scoped>\n",
              "    .dataframe tbody tr th:only-of-type {\n",
              "        vertical-align: middle;\n",
              "    }\n",
              "\n",
              "    .dataframe tbody tr th {\n",
              "        vertical-align: top;\n",
              "    }\n",
              "\n",
              "    .dataframe thead th {\n",
              "        text-align: right;\n",
              "    }\n",
              "</style>\n",
              "<table border=\"1\" class=\"dataframe\">\n",
              "  <thead>\n",
              "    <tr style=\"text-align: right;\">\n",
              "      <th></th>\n",
              "      <th>FlowDuration</th>\n",
              "      <th>BwdPacketLengthStd</th>\n",
              "      <th>PacketLengthVariance</th>\n",
              "      <th>DstPort</th>\n",
              "      <th>TotalLengthofFwdPacket</th>\n",
              "      <th>PacketLengthStd</th>\n",
              "      <th>FlowIATMax</th>\n",
              "      <th>FlowPackets/s</th>\n",
              "      <th>FwdPacketLengthMax</th>\n",
              "      <th>BwdPacketLengthMax</th>\n",
              "      <th>...</th>\n",
              "      <th>FwdHeaderLength</th>\n",
              "      <th>FlowIATMean</th>\n",
              "      <th>BwdHeaderLength</th>\n",
              "      <th>FwdRSTFlags</th>\n",
              "      <th>FWDInitWinBytes</th>\n",
              "      <th>BwdInitWinBytes</th>\n",
              "      <th>FwdIATMax</th>\n",
              "      <th>BwdPackets/s</th>\n",
              "      <th>ACKFlagCount</th>\n",
              "      <th>FwdSegSizeMin</th>\n",
              "    </tr>\n",
              "  </thead>\n",
              "  <tbody>\n",
              "    <tr>\n",
              "      <th>45</th>\n",
              "      <td>2137952</td>\n",
              "      <td>2,208.91489197750661332975</td>\n",
              "      <td>3,196,733.90151515137404203415</td>\n",
              "      <td>80</td>\n",
              "      <td>20</td>\n",
              "      <td>1,787.94124666196807993401</td>\n",
              "      <td>1492974</td>\n",
              "      <td>5.61284818368232851782</td>\n",
              "      <td>20</td>\n",
              "      <td>4380</td>\n",
              "      <td>...</td>\n",
              "      <td>152</td>\n",
              "      <td>194,359.27272727270610630512</td>\n",
              "      <td>112</td>\n",
              "      <td>1</td>\n",
              "      <td>8192</td>\n",
              "      <td>229</td>\n",
              "      <td>1492974</td>\n",
              "      <td>2.33868674320097014174</td>\n",
              "      <td>11</td>\n",
              "      <td>20</td>\n",
              "    </tr>\n",
              "    <tr>\n",
              "      <th>80</th>\n",
              "      <td>5236060</td>\n",
              "      <td>3,348.44068186969707312528</td>\n",
              "      <td>5,113,322.43589743599295616150</td>\n",
              "      <td>80</td>\n",
              "      <td>20</td>\n",
              "      <td>2,261.26567123313407137175</td>\n",
              "      <td>4685849</td>\n",
              "      <td>2.48278285581143087768</td>\n",
              "      <td>20</td>\n",
              "      <td>7300</td>\n",
              "      <td>...</td>\n",
              "      <td>172</td>\n",
              "      <td>436,338.33333333337213844061</td>\n",
              "      <td>112</td>\n",
              "      <td>1</td>\n",
              "      <td>8192</td>\n",
              "      <td>229</td>\n",
              "      <td>4685849</td>\n",
              "      <td>0.95491648300439635477</td>\n",
              "      <td>12</td>\n",
              "      <td>20</td>\n",
              "    </tr>\n",
              "    <tr>\n",
              "      <th>100</th>\n",
              "      <td>11999421</td>\n",
              "      <td>3,640.78528617110305276583</td>\n",
              "      <td>5,739,460.43956043943762779236</td>\n",
              "      <td>80</td>\n",
              "      <td>20</td>\n",
              "      <td>2,395.71710340775416625547</td>\n",
              "      <td>11938684</td>\n",
              "      <td>1.16672296104953709950</td>\n",
              "      <td>20</td>\n",
              "      <td>8760</td>\n",
              "      <td>...</td>\n",
              "      <td>204</td>\n",
              "      <td>923,032.38461538462433964014</td>\n",
              "      <td>112</td>\n",
              "      <td>1</td>\n",
              "      <td>8192</td>\n",
              "      <td>229</td>\n",
              "      <td>11938684</td>\n",
              "      <td>0.41668677180340618627</td>\n",
              "      <td>13</td>\n",
              "      <td>20</td>\n",
              "    </tr>\n",
              "    <tr>\n",
              "      <th>106</th>\n",
              "      <td>5789781</td>\n",
              "      <td>3,329.85810508495978865540</td>\n",
              "      <td>5,454,424.81060606148093938828</td>\n",
              "      <td>80</td>\n",
              "      <td>20</td>\n",
              "      <td>2,335.47100401740408415208</td>\n",
              "      <td>5675830</td>\n",
              "      <td>2.07261725443501232391</td>\n",
              "      <td>20</td>\n",
              "      <td>7215</td>\n",
              "      <td>...</td>\n",
              "      <td>152</td>\n",
              "      <td>526,343.72727272729389369488</td>\n",
              "      <td>112</td>\n",
              "      <td>1</td>\n",
              "      <td>8192</td>\n",
              "      <td>229</td>\n",
              "      <td>5675830</td>\n",
              "      <td>0.86359052268125513496</td>\n",
              "      <td>11</td>\n",
              "      <td>20</td>\n",
              "    </tr>\n",
              "    <tr>\n",
              "      <th>232</th>\n",
              "      <td>2076972</td>\n",
              "      <td>2,202.13021867463612579741</td>\n",
              "      <td>2,847,563.32417582441121339798</td>\n",
              "      <td>80</td>\n",
              "      <td>20</td>\n",
              "      <td>1,687.47246619784118593088</td>\n",
              "      <td>2040984</td>\n",
              "      <td>6.74058196258784381172</td>\n",
              "      <td>20</td>\n",
              "      <td>5840</td>\n",
              "      <td>...</td>\n",
              "      <td>172</td>\n",
              "      <td>159,767.07692307693650946021</td>\n",
              "      <td>132</td>\n",
              "      <td>1</td>\n",
              "      <td>8192</td>\n",
              "      <td>229</td>\n",
              "      <td>2040984</td>\n",
              "      <td>2.88882084110907610963</td>\n",
              "      <td>13</td>\n",
              "      <td>20</td>\n",
              "    </tr>\n",
              "  </tbody>\n",
              "</table>\n",
              "<p>5 rows × 35 columns</p>\n",
              "</div>\n",
              "    <div class=\"colab-df-buttons\">\n",
              "\n",
              "  <div class=\"colab-df-container\">\n",
              "    <button class=\"colab-df-convert\" onclick=\"convertToInteractive('df-4895b063-c19b-46d7-a336-9327bf90311e')\"\n",
              "            title=\"Convert this dataframe to an interactive table.\"\n",
              "            style=\"display:none;\">\n",
              "\n",
              "  <svg xmlns=\"http://www.w3.org/2000/svg\" height=\"24px\" viewBox=\"0 -960 960 960\">\n",
              "    <path d=\"M120-120v-720h720v720H120Zm60-500h600v-160H180v160Zm220 220h160v-160H400v160Zm0 220h160v-160H400v160ZM180-400h160v-160H180v160Zm440 0h160v-160H620v160ZM180-180h160v-160H180v160Zm440 0h160v-160H620v160Z\"/>\n",
              "  </svg>\n",
              "    </button>\n",
              "\n",
              "  <style>\n",
              "    .colab-df-container {\n",
              "      display:flex;\n",
              "      gap: 12px;\n",
              "    }\n",
              "\n",
              "    .colab-df-convert {\n",
              "      background-color: #E8F0FE;\n",
              "      border: none;\n",
              "      border-radius: 50%;\n",
              "      cursor: pointer;\n",
              "      display: none;\n",
              "      fill: #1967D2;\n",
              "      height: 32px;\n",
              "      padding: 0 0 0 0;\n",
              "      width: 32px;\n",
              "    }\n",
              "\n",
              "    .colab-df-convert:hover {\n",
              "      background-color: #E2EBFA;\n",
              "      box-shadow: 0px 1px 2px rgba(60, 64, 67, 0.3), 0px 1px 3px 1px rgba(60, 64, 67, 0.15);\n",
              "      fill: #174EA6;\n",
              "    }\n",
              "\n",
              "    .colab-df-buttons div {\n",
              "      margin-bottom: 4px;\n",
              "    }\n",
              "\n",
              "    [theme=dark] .colab-df-convert {\n",
              "      background-color: #3B4455;\n",
              "      fill: #D2E3FC;\n",
              "    }\n",
              "\n",
              "    [theme=dark] .colab-df-convert:hover {\n",
              "      background-color: #434B5C;\n",
              "      box-shadow: 0px 1px 3px 1px rgba(0, 0, 0, 0.15);\n",
              "      filter: drop-shadow(0px 1px 2px rgba(0, 0, 0, 0.3));\n",
              "      fill: #FFFFFF;\n",
              "    }\n",
              "  </style>\n",
              "\n",
              "    <script>\n",
              "      const buttonEl =\n",
              "        document.querySelector('#df-4895b063-c19b-46d7-a336-9327bf90311e button.colab-df-convert');\n",
              "      buttonEl.style.display =\n",
              "        google.colab.kernel.accessAllowed ? 'block' : 'none';\n",
              "\n",
              "      async function convertToInteractive(key) {\n",
              "        const element = document.querySelector('#df-4895b063-c19b-46d7-a336-9327bf90311e');\n",
              "        const dataTable =\n",
              "          await google.colab.kernel.invokeFunction('convertToInteractive',\n",
              "                                                    [key], {});\n",
              "        if (!dataTable) return;\n",
              "\n",
              "        const docLinkHtml = 'Like what you see? Visit the ' +\n",
              "          '<a target=\"_blank\" href=https://colab.research.google.com/notebooks/data_table.ipynb>data table notebook</a>'\n",
              "          + ' to learn more about interactive tables.';\n",
              "        element.innerHTML = '';\n",
              "        dataTable['output_type'] = 'display_data';\n",
              "        await google.colab.output.renderOutput(dataTable, element);\n",
              "        const docLink = document.createElement('div');\n",
              "        docLink.innerHTML = docLinkHtml;\n",
              "        element.appendChild(docLink);\n",
              "      }\n",
              "    </script>\n",
              "  </div>\n",
              "\n",
              "\n",
              "<div id=\"df-705ef47a-7e36-4833-8f27-0081722898ad\">\n",
              "  <button class=\"colab-df-quickchart\" onclick=\"quickchart('df-705ef47a-7e36-4833-8f27-0081722898ad')\"\n",
              "            title=\"Suggest charts\"\n",
              "            style=\"display:none;\">\n",
              "\n",
              "<svg xmlns=\"http://www.w3.org/2000/svg\" height=\"24px\"viewBox=\"0 0 24 24\"\n",
              "     width=\"24px\">\n",
              "    <g>\n",
              "        <path d=\"M19 3H5c-1.1 0-2 .9-2 2v14c0 1.1.9 2 2 2h14c1.1 0 2-.9 2-2V5c0-1.1-.9-2-2-2zM9 17H7v-7h2v7zm4 0h-2V7h2v10zm4 0h-2v-4h2v4z\"/>\n",
              "    </g>\n",
              "</svg>\n",
              "  </button>\n",
              "\n",
              "<style>\n",
              "  .colab-df-quickchart {\n",
              "      --bg-color: #E8F0FE;\n",
              "      --fill-color: #1967D2;\n",
              "      --hover-bg-color: #E2EBFA;\n",
              "      --hover-fill-color: #174EA6;\n",
              "      --disabled-fill-color: #AAA;\n",
              "      --disabled-bg-color: #DDD;\n",
              "  }\n",
              "\n",
              "  [theme=dark] .colab-df-quickchart {\n",
              "      --bg-color: #3B4455;\n",
              "      --fill-color: #D2E3FC;\n",
              "      --hover-bg-color: #434B5C;\n",
              "      --hover-fill-color: #FFFFFF;\n",
              "      --disabled-bg-color: #3B4455;\n",
              "      --disabled-fill-color: #666;\n",
              "  }\n",
              "\n",
              "  .colab-df-quickchart {\n",
              "    background-color: var(--bg-color);\n",
              "    border: none;\n",
              "    border-radius: 50%;\n",
              "    cursor: pointer;\n",
              "    display: none;\n",
              "    fill: var(--fill-color);\n",
              "    height: 32px;\n",
              "    padding: 0;\n",
              "    width: 32px;\n",
              "  }\n",
              "\n",
              "  .colab-df-quickchart:hover {\n",
              "    background-color: var(--hover-bg-color);\n",
              "    box-shadow: 0 1px 2px rgba(60, 64, 67, 0.3), 0 1px 3px 1px rgba(60, 64, 67, 0.15);\n",
              "    fill: var(--button-hover-fill-color);\n",
              "  }\n",
              "\n",
              "  .colab-df-quickchart-complete:disabled,\n",
              "  .colab-df-quickchart-complete:disabled:hover {\n",
              "    background-color: var(--disabled-bg-color);\n",
              "    fill: var(--disabled-fill-color);\n",
              "    box-shadow: none;\n",
              "  }\n",
              "\n",
              "  .colab-df-spinner {\n",
              "    border: 2px solid var(--fill-color);\n",
              "    border-color: transparent;\n",
              "    border-bottom-color: var(--fill-color);\n",
              "    animation:\n",
              "      spin 1s steps(1) infinite;\n",
              "  }\n",
              "\n",
              "  @keyframes spin {\n",
              "    0% {\n",
              "      border-color: transparent;\n",
              "      border-bottom-color: var(--fill-color);\n",
              "      border-left-color: var(--fill-color);\n",
              "    }\n",
              "    20% {\n",
              "      border-color: transparent;\n",
              "      border-left-color: var(--fill-color);\n",
              "      border-top-color: var(--fill-color);\n",
              "    }\n",
              "    30% {\n",
              "      border-color: transparent;\n",
              "      border-left-color: var(--fill-color);\n",
              "      border-top-color: var(--fill-color);\n",
              "      border-right-color: var(--fill-color);\n",
              "    }\n",
              "    40% {\n",
              "      border-color: transparent;\n",
              "      border-right-color: var(--fill-color);\n",
              "      border-top-color: var(--fill-color);\n",
              "    }\n",
              "    60% {\n",
              "      border-color: transparent;\n",
              "      border-right-color: var(--fill-color);\n",
              "    }\n",
              "    80% {\n",
              "      border-color: transparent;\n",
              "      border-right-color: var(--fill-color);\n",
              "      border-bottom-color: var(--fill-color);\n",
              "    }\n",
              "    90% {\n",
              "      border-color: transparent;\n",
              "      border-bottom-color: var(--fill-color);\n",
              "    }\n",
              "  }\n",
              "</style>\n",
              "\n",
              "  <script>\n",
              "    async function quickchart(key) {\n",
              "      const quickchartButtonEl =\n",
              "        document.querySelector('#' + key + ' button');\n",
              "      quickchartButtonEl.disabled = true;  // To prevent multiple clicks.\n",
              "      quickchartButtonEl.classList.add('colab-df-spinner');\n",
              "      try {\n",
              "        const charts = await google.colab.kernel.invokeFunction(\n",
              "            'suggestCharts', [key], {});\n",
              "      } catch (error) {\n",
              "        console.error('Error during call to suggestCharts:', error);\n",
              "      }\n",
              "      quickchartButtonEl.classList.remove('colab-df-spinner');\n",
              "      quickchartButtonEl.classList.add('colab-df-quickchart-complete');\n",
              "    }\n",
              "    (() => {\n",
              "      let quickchartButtonEl =\n",
              "        document.querySelector('#df-705ef47a-7e36-4833-8f27-0081722898ad button');\n",
              "      quickchartButtonEl.style.display =\n",
              "        google.colab.kernel.accessAllowed ? 'block' : 'none';\n",
              "    })();\n",
              "  </script>\n",
              "</div>\n",
              "    </div>\n",
              "  </div>\n"
            ]
          },
          "metadata": {},
          "execution_count": 9
        }
      ]
    },
    {
      "cell_type": "code",
      "source": [
        "dataTrain = dfDDoS.copy()"
      ],
      "metadata": {
        "id": "u8zXxcoKrwXR"
      },
      "execution_count": null,
      "outputs": []
    },
    {
      "cell_type": "code",
      "source": [
        "dataTrain.shape"
      ],
      "metadata": {
        "colab": {
          "base_uri": "https://localhost:8080/"
        },
        "id": "9BZ9WrAL_lNi",
        "outputId": "fd763552-fc21-4cbe-a4b7-a79028ddc834"
      },
      "execution_count": null,
      "outputs": [
        {
          "output_type": "execute_result",
          "data": {
            "text/plain": [
              "(95133, 35)"
            ]
          },
          "metadata": {},
          "execution_count": 11
        }
      ]
    },
    {
      "cell_type": "markdown",
      "source": [
        "```\n",
        "BENIGN                   1594422\n",
        "Infiltration_Portscan     230853\n",
        "DoS                       171620\n",
        "DDoS                       95133\n",
        "BruteForce                  7005\n",
        "Botnet                       736\n",
        "```\n"
      ],
      "metadata": {
        "id": "kClxIztUuC5U"
      }
    },
    {
      "cell_type": "markdown",
      "source": [
        "**Normalizzazione**"
      ],
      "metadata": {
        "id": "mx7nusCcrnI8"
      }
    },
    {
      "cell_type": "code",
      "source": [
        "np.set_printoptions(suppress=True)"
      ],
      "metadata": {
        "id": "EkXvWJPq_Bhq"
      },
      "execution_count": null,
      "outputs": []
    },
    {
      "cell_type": "code",
      "source": [
        "dataNorm = dataTrain.values\n",
        "\n",
        "from sklearn.preprocessing import MinMaxScaler\n",
        "\n",
        "# Apply min-max normalization using MinMaxScaler\n",
        "# data è un NP ARRAY adatto per le reti neurali (standard behaviour)\n",
        "scaler = MinMaxScaler()\n",
        "dataNorm = scaler.fit_transform(dataNorm)"
      ],
      "metadata": {
        "id": "rIVG8dmMd_rv"
      },
      "execution_count": null,
      "outputs": []
    },
    {
      "cell_type": "code",
      "source": [
        "dataNorm"
      ],
      "metadata": {
        "colab": {
          "base_uri": "https://localhost:8080/"
        },
        "id": "wMwC8AAlx-O7",
        "outputId": "d4ae606f-2852-4821-bc17-b91deaf87dda"
      },
      "execution_count": null,
      "outputs": [
        {
          "output_type": "execute_result",
          "data": {
            "text/plain": [
              "array([[0.02558527, 0.32996575, 0.19030948, ..., 0.02062482, 0.31578947,\n",
              "        1.        ],\n",
              "       [0.06335038, 0.5001871 , 0.30441112, ..., 0.00816166, 0.36842105,\n",
              "        1.        ],\n",
              "       [0.14579395, 0.54385727, 0.34168744, ..., 0.00331401, 0.42105263,\n",
              "        1.        ],\n",
              "       ...,\n",
              "       [0.04574787, 0.30069265, 0.15753802, ..., 0.01381204, 0.47368421,\n",
              "        1.        ],\n",
              "       [0.07294093, 0.45167128, 0.2826019 , ..., 0.00703815, 0.31578947,\n",
              "        1.        ],\n",
              "       [0.02424665, 0.52904688, 0.35110589, ..., 0.01732447, 0.26315789,\n",
              "        1.        ]])"
            ]
          },
          "metadata": {},
          "execution_count": 14
        }
      ]
    },
    {
      "cell_type": "code",
      "source": [
        "dataNorm.shape"
      ],
      "metadata": {
        "colab": {
          "base_uri": "https://localhost:8080/"
        },
        "id": "iQedHX6rBKEa",
        "outputId": "87f3fa5e-ba40-4546-a665-0ec88786bb75"
      },
      "execution_count": null,
      "outputs": [
        {
          "output_type": "execute_result",
          "data": {
            "text/plain": [
              "(95133, 35)"
            ]
          },
          "metadata": {},
          "execution_count": 15
        }
      ]
    },
    {
      "cell_type": "code",
      "metadata": {
        "id": "pYzAHi0qL2qG"
      },
      "source": [
        "#Min-max normalization is effective in scaling features to a specific range (commonly between 0 and 1),\n",
        "#and it helps to handle differences in magnitudes between features. If your dataset is already in a suitable range\n",
        "#and you haven't observed issues related to skewed distributions or outliers, adding a power transform\n",
        "#might not be necessary and could even introduce unnecessary complexity."
      ],
      "execution_count": null,
      "outputs": []
    },
    {
      "cell_type": "markdown",
      "metadata": {
        "id": "Aul55EmNHanT"
      },
      "source": [
        "## **Define model architecture**"
      ]
    },
    {
      "cell_type": "code",
      "source": [
        "import matplotlib.pyplot as pyplot\n",
        "\n",
        "#PLOTTINO\n",
        "# create a line plot of loss for the gan and save to file\n",
        "def plot_history(c_hist, g_hist):\n",
        " # plot loss\n",
        " pyplot.plot(c_hist, label='c-loss')\n",
        " pyplot.plot(g_hist, label='g-loss')\n",
        " pyplot.legend()\n",
        " pyplot.show()"
      ],
      "metadata": {
        "id": "CQiSe6lfuXXB"
      },
      "execution_count": null,
      "outputs": []
    },
    {
      "cell_type": "code",
      "source": [
        "# Wasserstein loss function\n",
        "def wasserstein_loss(y_true, y_pred):\n",
        "    return tf.keras.backend.mean(tf.keras.backend.sum(y_true * y_pred, axis=-1))"
      ],
      "metadata": {
        "id": "T5ktSXfgNao7"
      },
      "execution_count": null,
      "outputs": []
    },
    {
      "cell_type": "markdown",
      "source": [
        "#### Primo Codice Architettura"
      ],
      "metadata": {
        "id": "4jJUJXLFTokR"
      }
    },
    {
      "cell_type": "code",
      "source": [],
      "metadata": {
        "id": "D732EYn2I5i5"
      },
      "execution_count": null,
      "outputs": []
    },
    {
      "cell_type": "code",
      "metadata": {
        "id": "S6C8Z9F8Qqau"
      },
      "source": [
        "#classe del modello intero GAN\n",
        "class GAN():\n",
        "\n",
        "    def __init__(self, gan_args):\n",
        "        [self.batch_size, lr, self.noise_dim,\n",
        "         self.data_dim, layers_dim] = gan_args\n",
        "\n",
        "        self.generator = Generator(self.batch_size).\\\n",
        "            build_model(input_shape=(self.noise_dim,), dim=layers_dim, data_dim=self.data_dim)\n",
        "\n",
        "        self.discriminator = Discriminator(self.batch_size).\\\n",
        "            build_model(input_shape=(self.data_dim,), dim=layers_dim)\n",
        "\n",
        "        #optimizer\n",
        "        optimizer = tf.keras.optimizers.legacy.Adam(lr, 0.5)\n",
        "\n",
        "\n",
        "        # Build and compile the discriminator\n",
        "        self.discriminator.compile(loss=wasserstein_loss,\n",
        "                                   optimizer=optimizer,\n",
        "                                   metrics=['accuracy'])\n",
        "\n",
        "        # The generator takes noise as input and generates samples\n",
        "        z = Input(shape=(self.noise_dim,))\n",
        "        record = self.generator(z)\n",
        "\n",
        "        # For the combined model only the generator is trained\n",
        "        self.discriminator.trainable = False\n",
        "\n",
        "        # The discriminator takes generated samples as input and determines validity\n",
        "        validity = self.discriminator(record)\n",
        "\n",
        "        # The combined model\n",
        "        # Trains the generator to try and create samples that will fool the discriminator\n",
        "        self.combined = Model(z, validity)\n",
        "        self.combined.compile(loss=wasserstein_loss, optimizer=optimizer)\n",
        "\n",
        "    def get_data_batch(self, train, batch_size, seed=0):\n",
        "        start_i = (batch_size * seed) % len(train)\n",
        "        stop_i = start_i + batch_size\n",
        "        shuffle_seed = (batch_size * seed) // len(train)\n",
        "        np.random.seed(shuffle_seed)\n",
        "        train_ix = np.random.choice(list(train.index), replace=False, size=len(train))  # wasteful to shuffle every time\n",
        "        train_ix = list(train_ix) + list(train_ix)  # duplicate to cover ranges past the end of the set\n",
        "        x = train.loc[train_ix[start_i: stop_i]].values\n",
        "        return np.reshape(x, (batch_size, -1))\n",
        "\n",
        "    def train(self, data, train_arguments):\n",
        "        [cache_prefix, epochs, sample_interval] = train_arguments\n",
        "\n",
        "        data_cols = data.columns\n",
        "\n",
        "        # Adversarial ground truths\n",
        "        valid = np.ones((self.batch_size, 1))\n",
        "        fake = np.zeros((self.batch_size, 1))\n",
        "\n",
        "        d1_hist, d2_hist, g_hist, a1_hist, a2_hist = list(), list(), list(), list(), list()\n",
        "\n",
        "        for epoch in range(epochs):\n",
        "            # Discriminator\n",
        "            batch_data = self.get_data_batch(data, self.batch_size)\n",
        "            noise = tf.random.normal((self.batch_size, self.noise_dim))\n",
        "\n",
        "            # Generate a batch of new samples\n",
        "            gen_data = self.generator.predict(noise)\n",
        "\n",
        "            # Train the discriminator\n",
        "            d_loss_real, d_acc1 = self.discriminator.train_on_batch(batch_data, valid)\n",
        "            d_loss_fake, d_acc2 = self.discriminator.train_on_batch(gen_data, fake)\n",
        "\n",
        "            # Generator\n",
        "            noise = tf.random.normal((self.batch_size, self.noise_dim))\n",
        "            # Train the generator (to have the discriminator label samples as valid)\n",
        "            g_loss = self.combined.train_on_batch(noise, valid)\n",
        "\n",
        "            #Therefore, using the loss values directly is not recommended in GANs.\n",
        "            #Instead, metrics such as the Inception Score, Frechet Inception Distance (FID score),\n",
        "            #and perceptual similarity measures (LPIPS) are used for interpreting the results.\n",
        "            #PERFORMANCE\n",
        "            d1_hist.append(d_loss_real)\n",
        "            d2_hist.append(d_loss_fake)\n",
        "            g_hist.append(g_loss)\n",
        "            a1_hist.append(d_acc1)\n",
        "            a2_hist.append(d_acc2)\n",
        "            # Plot the progress\n",
        "            #print(\"%d [D loss: %f, acc.: %.2f%%] [G loss: %f]\" % (epoch, d_loss[0], 100 * d_loss[1], g_loss))\n",
        "            print('==>> %d, dRLoss=%.3f, dFLoss=%.3f gLoss=%.3f, accR=%d, accF=%d' % (epoch, d_loss_real, d_loss_fake, g_loss, int(100*d_acc1), int(100*d_acc2)))\n",
        "        plot_history(d1_hist, d2_hist, g_hist, a1_hist, a2_hist)\n",
        "\n",
        "\n",
        "\n",
        "#Singola classe del G\n",
        "class Generator():\n",
        "    def __init__(self, batch_size):\n",
        "        self.batch_size = batch_size\n",
        "\n",
        "    def build_model(self, input_shape, dim, data_dim):\n",
        "        input_layer = Input(shape=input_shape, batch_size=self.batch_size)\n",
        "        x = Dense(dim, activation='relu')(input_layer)\n",
        "        x = Dense(dim * 2, activation='relu')(x)\n",
        "        x = Dense(dim * 4, activation='relu')(x)\n",
        "        # Use sigmoid activation in the output layer to constrain values to [0, 1]\n",
        "        output_layer = Dense(data_dim, activation='sigmoid')(x)\n",
        "        return Model(inputs=input_layer, outputs=output_layer)\n",
        "\n",
        "\n",
        "#Singola classe del D\n",
        "class Discriminator():\n",
        "    def __init__(self,batch_size):\n",
        "        self.batch_size=batch_size\n",
        "\n",
        "    def build_model(self, input_shape, dim):\n",
        "        input = Input(shape=input_shape, batch_size=self.batch_size)\n",
        "        x = Dense(dim * 4, activation='relu')(input)\n",
        "        x = Dropout(0.2)(x)\n",
        "        x = Dense(dim * 2, activation='relu')(x)\n",
        "        x = Dropout(0.2)(x)\n",
        "        x = Dense(dim, activation='relu')(x)\n",
        "        x = Dense(1, activation='linear')(x) #linear for WGAN ?\n",
        "        return Model(inputs=input, outputs=x)"
      ],
      "execution_count": null,
      "outputs": []
    },
    {
      "cell_type": "markdown",
      "source": [
        "## Secondo Codice Architettura - metodo standard con nparray input"
      ],
      "metadata": {
        "id": "h8q0VK-dJaF5"
      }
    },
    {
      "cell_type": "code",
      "source": [
        "# Generator\n",
        "def build_generator(z_dim, output_dim):\n",
        "    model = tf.keras.Sequential([\n",
        "        layers.Dense(128, input_dim=z_dim, activation='relu'),\n",
        "        #layers.BatchNormalization(),\n",
        "        layers.Dense(256, activation='relu'),\n",
        "        #layers.BatchNormalization(),\n",
        "        layers.Dense(output_dim, activation='sigmoid')  #activation scelta perché i dati sono normalizzati [0,1]\n",
        "    ])\n",
        "    return model\n",
        "\n",
        "# Critic\n",
        "def build_critic(input_dim):\n",
        "    model = tf.keras.Sequential([\n",
        "        layers.Dense(256, input_dim=input_dim, activation='relu'),\n",
        "        layers.Dropout(0.2),\n",
        "        layers.Dense(128, activation='relu'),\n",
        "        layers.Dropout(0.2),\n",
        "        layers.Dense(1)  # No activation for WGAN critic\n",
        "    ])\n",
        "    return model\n"
      ],
      "metadata": {
        "id": "rYDHukqXzcMH"
      },
      "execution_count": null,
      "outputs": []
    },
    {
      "cell_type": "code",
      "source": [
        "# Hyperparameters\n",
        "z_dim = 10    #SPERIMENTA\n",
        "output_dim = 35 # Number of features in your data\n",
        "critic_input_dim = 35 # Number of features in your data\n",
        "lr_generator = 0.000001\n",
        "lr_critic = 0.000001\n",
        "\n",
        "# Training hyperparams\n",
        "num_epochs = 100\n",
        "batch_size = 64"
      ],
      "metadata": {
        "id": "lsB3QHEe0AER"
      },
      "execution_count": null,
      "outputs": []
    },
    {
      "cell_type": "code",
      "source": [
        "# Build and compile the generator and critic\n",
        "generator = build_generator(z_dim, output_dim)\n",
        "critic = build_critic(critic_input_dim)\n",
        "\n",
        "generator_optimizer = tf.keras.optimizers.Adam(lr_generator)\n",
        "critic_optimizer = tf.keras.optimizers.Adam(lr_critic)\n",
        "\n",
        "# WGAN requires custom training loop\n",
        "@tf.function\n",
        "def train_step(real_data, z):\n",
        "    batch_size_real = tf.shape(real_data)[0]\n",
        "    batch_size_gen = tf.shape(z)[0]\n",
        "    batch_size = tf.minimum(batch_size_real, batch_size_gen)\n",
        "\n",
        "    # Train Critic\n",
        "    with tf.GradientTape() as critic_tape:\n",
        "        fake_data = generator(z[:batch_size])\n",
        "        critic_real = critic(real_data[:batch_size])\n",
        "        critic_fake = critic(fake_data)\n",
        "        critic_loss = wasserstein_loss(critic_real, critic_fake)\n",
        "\n",
        "    critic_gradients = critic_tape.gradient(critic_loss, critic.trainable_variables)\n",
        "    critic_optimizer.apply_gradients(zip(critic_gradients, critic.trainable_variables))\n",
        "\n",
        "    # Clip critic weights (important for WGAN)\n",
        "    for w in critic.trainable_variables:\n",
        "        w.assign(tf.clip_by_value(w, -0.01, 0.01))\n",
        "\n",
        "    # Train Generator\n",
        "    with tf.GradientTape() as gen_tape:\n",
        "        fake_data = generator(z[:batch_size])\n",
        "        generator_loss = -tf.reduce_mean(critic(fake_data))\n",
        "\n",
        "    generator_gradients = gen_tape.gradient(generator_loss, generator.trainable_variables)\n",
        "    generator_optimizer.apply_gradients(zip(generator_gradients, generator.trainable_variables))\n",
        "\n",
        "    return generator_loss, critic_loss\n",
        "\n",
        "\n",
        "c_hist, g_hist = list(), list()\n",
        "# Training loop\n",
        "# Assuming 'data' is your normalized numpy array\n",
        "data = dataNorm\n",
        "dataset = tf.data.Dataset.from_tensor_slices(data).shuffle(buffer_size=1000).batch(batch_size)\n",
        "\n",
        "for epoch in range(num_epochs):\n",
        "    for real_data in dataset:\n",
        "        # Generate random noise as input to the generator\n",
        "        z = tf.random.normal((batch_size, z_dim))\n",
        "        # Train the WGAN using the train_step function\n",
        "        generator_loss, critic_loss = train_step(real_data, z)\n",
        "        c_hist.append(critic_loss)\n",
        "        g_hist.append(generator_loss)\n",
        "    # Print losses or other metrics after each epoch\n",
        "    print(f\"Epoch {epoch+1}/{num_epochs}, Generator Loss: {generator_loss.numpy()}, Critic Loss: {critic_loss.numpy()}\")"
      ],
      "metadata": {
        "colab": {
          "base_uri": "https://localhost:8080/"
        },
        "id": "cf5mS-Ld0fUR",
        "outputId": "266fcb99-3cdd-4a1f-a6d1-9adb1ce61f6a"
      },
      "execution_count": null,
      "outputs": [
        {
          "output_type": "stream",
          "name": "stdout",
          "text": [
            "Epoch 1/100, Generator Loss: 3.265485793235712e-05, Critic Loss: -1.2567941132246574e-10\n",
            "Epoch 2/100, Generator Loss: -7.964933502080385e-06, Critic Loss: 1.600686597158507e-11\n",
            "Epoch 3/100, Generator Loss: -6.934050179552287e-05, Critic Loss: -4.809406206618405e-09\n",
            "Epoch 4/100, Generator Loss: -0.00021606663358397782, Critic Loss: -4.7238465583632205e-08\n",
            "Epoch 5/100, Generator Loss: -0.00046950700925663114, Critic Loss: -2.1021470786308782e-07\n",
            "Epoch 6/100, Generator Loss: -0.0009263038518838584, Critic Loss: -8.685315719958453e-07\n",
            "Epoch 7/100, Generator Loss: -0.0022330298088490963, Critic Loss: -5.023133326176321e-06\n",
            "Epoch 8/100, Generator Loss: -0.0051675718277692795, Critic Loss: -2.6614003218128346e-05\n",
            "Epoch 9/100, Generator Loss: -0.009465641342103481, Critic Loss: -8.878082007868215e-05\n",
            "Epoch 10/100, Generator Loss: -0.014401865191757679, Critic Loss: -0.00020312970445957035\n",
            "Epoch 11/100, Generator Loss: -0.020538613200187683, Critic Loss: -0.00043162639485672116\n",
            "Epoch 12/100, Generator Loss: -0.027507448568940163, Critic Loss: -0.0007531042792834342\n",
            "Epoch 13/100, Generator Loss: -0.036451227962970734, Critic Loss: -0.0012178942561149597\n",
            "Epoch 14/100, Generator Loss: -0.04616738110780716, Critic Loss: -0.0019014975987374783\n",
            "Epoch 15/100, Generator Loss: -0.057510919868946075, Critic Loss: -0.002830711891874671\n",
            "Epoch 16/100, Generator Loss: -0.07046736031770706, Critic Loss: -0.003920209128409624\n",
            "Epoch 17/100, Generator Loss: -0.08040221035480499, Critic Loss: -0.004896549973636866\n",
            "Epoch 18/100, Generator Loss: -0.0865117609500885, Critic Loss: -0.005477288272231817\n",
            "Epoch 19/100, Generator Loss: -0.09053342789411545, Critic Loss: -0.006241472437977791\n",
            "Epoch 20/100, Generator Loss: -0.09336423873901367, Critic Loss: -0.006615480873733759\n",
            "Epoch 21/100, Generator Loss: -0.09522686153650284, Critic Loss: -0.006951570510864258\n",
            "Epoch 22/100, Generator Loss: -0.09642759710550308, Critic Loss: -0.0071748998016119\n",
            "Epoch 23/100, Generator Loss: -0.09729906916618347, Critic Loss: -0.007318281102925539\n",
            "Epoch 24/100, Generator Loss: -0.09780261665582657, Critic Loss: -0.007479925639927387\n",
            "Epoch 25/100, Generator Loss: -0.09842697530984879, Critic Loss: -0.007908455096185207\n",
            "Epoch 26/100, Generator Loss: -0.099009208381176, Critic Loss: -0.007966164499521255\n",
            "Epoch 27/100, Generator Loss: -0.09922805428504944, Critic Loss: -0.007699866313487291\n",
            "Epoch 28/100, Generator Loss: -0.09937214106321335, Critic Loss: -0.00809315126389265\n",
            "Epoch 29/100, Generator Loss: -0.09960870444774628, Critic Loss: -0.007974191568791866\n",
            "Epoch 30/100, Generator Loss: -0.0997072234749794, Critic Loss: -0.007959926500916481\n",
            "Epoch 31/100, Generator Loss: -0.09985089302062988, Critic Loss: -0.008317898958921432\n",
            "Epoch 32/100, Generator Loss: -0.09998935461044312, Critic Loss: -0.008078064769506454\n",
            "Epoch 33/100, Generator Loss: -0.10018005222082138, Critic Loss: -0.007996666245162487\n",
            "Epoch 34/100, Generator Loss: -0.10041342675685883, Critic Loss: -0.008189949207007885\n",
            "Epoch 35/100, Generator Loss: -0.10071504861116409, Critic Loss: -0.008071542717516422\n",
            "Epoch 36/100, Generator Loss: -0.10104240477085114, Critic Loss: -0.008012475445866585\n",
            "Epoch 37/100, Generator Loss: -0.10146954655647278, Critic Loss: -0.008095956407487392\n",
            "Epoch 38/100, Generator Loss: -0.10194939374923706, Critic Loss: -0.008019293658435345\n",
            "Epoch 39/100, Generator Loss: -0.1024768128991127, Critic Loss: -0.008528154343366623\n",
            "Epoch 40/100, Generator Loss: -0.10303473472595215, Critic Loss: -0.008297346532344818\n",
            "Epoch 41/100, Generator Loss: -0.10345350205898285, Critic Loss: -0.008476321585476398\n",
            "Epoch 42/100, Generator Loss: -0.10369057953357697, Critic Loss: -0.00859432015568018\n",
            "Epoch 43/100, Generator Loss: -0.10380499809980392, Critic Loss: -0.008445551618933678\n",
            "Epoch 44/100, Generator Loss: -0.10385037213563919, Critic Loss: -0.00852695107460022\n",
            "Epoch 45/100, Generator Loss: -0.10386329889297485, Critic Loss: -0.00833833310753107\n",
            "Epoch 46/100, Generator Loss: -0.10386276245117188, Critic Loss: -0.008285167627036572\n",
            "Epoch 47/100, Generator Loss: -0.10386341065168381, Critic Loss: -0.0084515530616045\n",
            "Epoch 48/100, Generator Loss: -0.10386325418949127, Critic Loss: -0.00866704247891903\n",
            "Epoch 49/100, Generator Loss: -0.1038631722331047, Critic Loss: -0.0085225785151124\n",
            "Epoch 50/100, Generator Loss: -0.10386339575052261, Critic Loss: -0.008614740334451199\n",
            "Epoch 51/100, Generator Loss: -0.10386340320110321, Critic Loss: -0.00864972360432148\n",
            "Epoch 52/100, Generator Loss: -0.10386358201503754, Critic Loss: -0.00883807335048914\n",
            "Epoch 53/100, Generator Loss: -0.10386350005865097, Critic Loss: -0.008543088100850582\n",
            "Epoch 54/100, Generator Loss: -0.10386337339878082, Critic Loss: -0.008687527850270271\n",
            "Epoch 55/100, Generator Loss: -0.10386362671852112, Critic Loss: -0.008699500001966953\n",
            "Epoch 56/100, Generator Loss: -0.10386361181735992, Critic Loss: -0.008621408604085445\n",
            "Epoch 57/100, Generator Loss: -0.10386361926794052, Critic Loss: -0.008588859811425209\n",
            "Epoch 58/100, Generator Loss: -0.10386363416910172, Critic Loss: -0.008434601128101349\n",
            "Epoch 59/100, Generator Loss: -0.10386363416910172, Critic Loss: -0.008460995741188526\n",
            "Epoch 60/100, Generator Loss: -0.10386352241039276, Critic Loss: -0.008568971417844296\n",
            "Epoch 61/100, Generator Loss: -0.10386352241039276, Critic Loss: -0.008448543027043343\n",
            "Epoch 62/100, Generator Loss: -0.1038636639714241, Critic Loss: -0.008625159971415997\n",
            "Epoch 63/100, Generator Loss: -0.10386350005865097, Critic Loss: -0.008395949378609657\n",
            "Epoch 64/100, Generator Loss: -0.10386356711387634, Critic Loss: -0.008750040084123611\n",
            "Epoch 65/100, Generator Loss: -0.10386348515748978, Critic Loss: -0.008767187595367432\n",
            "Epoch 66/100, Generator Loss: -0.10386363416910172, Critic Loss: -0.008638140745460987\n",
            "Epoch 67/100, Generator Loss: -0.10386382788419724, Critic Loss: -0.0087966900318861\n",
            "Epoch 68/100, Generator Loss: -0.10391528159379959, Critic Loss: -0.008490602485835552\n",
            "Epoch 69/100, Generator Loss: -0.10397975146770477, Critic Loss: -0.00869156327098608\n",
            "Epoch 70/100, Generator Loss: -0.10405627638101578, Critic Loss: -0.008821841329336166\n",
            "Epoch 71/100, Generator Loss: -0.1041460856795311, Critic Loss: -0.0087286327034235\n",
            "Epoch 72/100, Generator Loss: -0.10424555838108063, Critic Loss: -0.008917422033846378\n",
            "Epoch 73/100, Generator Loss: -0.10435614734888077, Critic Loss: -0.008556193672120571\n",
            "Epoch 74/100, Generator Loss: -0.10447535663843155, Critic Loss: -0.008675498887896538\n",
            "Epoch 75/100, Generator Loss: -0.10460398346185684, Critic Loss: -0.008565499447286129\n",
            "Epoch 76/100, Generator Loss: -0.10474395751953125, Critic Loss: -0.008700198493897915\n",
            "Epoch 77/100, Generator Loss: -0.10489480197429657, Critic Loss: -0.008852996863424778\n",
            "Epoch 78/100, Generator Loss: -0.1050310954451561, Critic Loss: -0.008608889766037464\n",
            "Epoch 79/100, Generator Loss: -0.10506649315357208, Critic Loss: -0.00893427338451147\n",
            "Epoch 80/100, Generator Loss: -0.10507060587406158, Critic Loss: -0.008972220122814178\n",
            "Epoch 81/100, Generator Loss: -0.1051388680934906, Critic Loss: -0.008789442479610443\n",
            "Epoch 82/100, Generator Loss: -0.10522127151489258, Critic Loss: -0.008732703514397144\n",
            "Epoch 83/100, Generator Loss: -0.10531271249055862, Critic Loss: -0.008930327370762825\n",
            "Epoch 84/100, Generator Loss: -0.1054140105843544, Critic Loss: -0.008976276963949203\n",
            "Epoch 85/100, Generator Loss: -0.10552682727575302, Critic Loss: -0.008751711808145046\n",
            "Epoch 86/100, Generator Loss: -0.1056489422917366, Critic Loss: -0.009118752554059029\n",
            "Epoch 87/100, Generator Loss: -0.10577866435050964, Critic Loss: -0.009156377986073494\n",
            "Epoch 88/100, Generator Loss: -0.10591597110033035, Critic Loss: -0.009370840154588223\n",
            "Epoch 89/100, Generator Loss: -0.1060565635561943, Critic Loss: -0.008989899419248104\n",
            "Epoch 90/100, Generator Loss: -0.10617769509553909, Critic Loss: -0.009187283925712109\n",
            "Epoch 91/100, Generator Loss: -0.1062379851937294, Critic Loss: -0.008839845657348633\n",
            "Epoch 92/100, Generator Loss: -0.10626373440027237, Critic Loss: -0.008901816792786121\n",
            "Epoch 93/100, Generator Loss: -0.10627146065235138, Critic Loss: -0.009002652019262314\n",
            "Epoch 94/100, Generator Loss: -0.10627145320177078, Critic Loss: -0.00906327273696661\n",
            "Epoch 95/100, Generator Loss: -0.1062716618180275, Critic Loss: -0.009005608968436718\n",
            "Epoch 96/100, Generator Loss: -0.10627152770757675, Critic Loss: -0.00901168305426836\n",
            "Epoch 97/100, Generator Loss: -0.10627167671918869, Critic Loss: -0.009127610363066196\n",
            "Epoch 98/100, Generator Loss: -0.10627157986164093, Critic Loss: -0.008797434158623219\n",
            "Epoch 99/100, Generator Loss: -0.10627156496047974, Critic Loss: -0.009015519171953201\n",
            "Epoch 100/100, Generator Loss: -0.10627159476280212, Critic Loss: -0.009094500914216042\n"
          ]
        }
      ]
    },
    {
      "cell_type": "code",
      "source": [
        "plot_history(c_hist, g_hist)"
      ],
      "metadata": {
        "colab": {
          "base_uri": "https://localhost:8080/",
          "height": 430
        },
        "id": "2W1Bgqh0J2Hw",
        "outputId": "71e3023a-6515-4192-baaa-37d0cc537472"
      },
      "execution_count": null,
      "outputs": [
        {
          "output_type": "display_data",
          "data": {
            "text/plain": [
              "<Figure size 640x480 with 1 Axes>"
            ],
            "image/png": "[encoded data removed]"
          },
          "metadata": {}
        }
      ]
    },
    {
      "cell_type": "markdown",
      "source": [
        "\n",
        "\n",
        "```\n",
        "####### CRITIC\n",
        "It's common to see critic losses with magnitudes in the order of 0 to -0.1.\n",
        "A more negative critic loss generally indicates that the generator\n",
        "is producing samples that are closer to the real data distribution\n",
        "\n",
        "###### GENERATOR\n",
        "The generator loss is the negative of the critic loss.\n",
        "A more negative generator loss indicates that the generator is improving in producing samples.\n",
        "\n",
        "##### CONVERGENZA\n",
        "If the critic loss stabilizes, it indicates that the generator\n",
        "is producing samples that are consistent with the real data distribution.\n",
        "If the Wasserstein distance is not stabilizing, you might need\n",
        "to adjust hyperparameters, model architecture, or other training parameters.\n",
        "```\n",
        "\n"
      ],
      "metadata": {
        "id": "dydpoF1A5Abk"
      }
    },
    {
      "cell_type": "markdown",
      "metadata": {
        "id": "xq8nZt93KOVT"
      },
      "source": [
        "# **Training** - OLD"
      ]
    },
    {
      "cell_type": "markdown",
      "source": [
        "```\n",
        "BENIGN                   1594422\n",
        "Infiltration_Portscan     230853\n",
        "DoS                       171620\n",
        "DDoS                       95133\n",
        "BruteForce                  7005\n",
        "Botnet                       736\n",
        "```\n"
      ],
      "metadata": {
        "id": "6wHo1qDCuH1g"
      }
    },
    {
      "cell_type": "code",
      "source": [
        "#Define model params and training params\n",
        "# set up dataframe for input into model\n",
        "\n",
        "# set generator parametes\n",
        "batch_size = 128 #@param\n",
        "learning_rate=0.000001 #@param  #5e-4\n",
        "input_noise = 50 #@param\n",
        "\n",
        "input_shape=35 #@param #numeroFeatures\n",
        "dim=64 #@param\n",
        "\n",
        "# set training parameters\n",
        "epochs = 40 #@param\n",
        "log_step = 100 #@param"
      ],
      "metadata": {
        "id": "NcS3GX1rm6WW"
      },
      "execution_count": null,
      "outputs": []
    },
    {
      "cell_type": "code",
      "metadata": {
        "id": "cqF72cnzQ1bY"
      },
      "source": [
        "# assign to variable\n",
        "generator_parameters = [batch_size, learning_rate, input_noise, input_shape, dim]\n",
        "training_parameters = ['', epochs, log_step]"
      ],
      "execution_count": null,
      "outputs": []
    },
    {
      "cell_type": "code",
      "metadata": {
        "id": "OKeCCY3mRL9M",
        "colab": {
          "base_uri": "https://localhost:8080/",
          "height": 331
        },
        "outputId": "4865b820-2d29-4044-ad9e-02e0aed0e847"
      },
      "source": [
        "# training\n",
        "synthesizer = GAN(generator_parameters)\n",
        "\n",
        "synthesizer.train(data, training_parameters)"
      ],
      "execution_count": null,
      "outputs": [
        {
          "output_type": "error",
          "ename": "AttributeError",
          "evalue": "ignored",
          "traceback": [
            "\u001b[0;31m---------------------------------------------------------------------------\u001b[0m",
            "\u001b[0;31mAttributeError\u001b[0m                            Traceback (most recent call last)",
            "\u001b[0;32m<ipython-input-33-b78f40bf0af9>\u001b[0m in \u001b[0;36m<cell line: 4>\u001b[0;34m()\u001b[0m\n\u001b[1;32m      2\u001b[0m \u001b[0msynthesizer\u001b[0m \u001b[0;34m=\u001b[0m \u001b[0mGAN\u001b[0m\u001b[0;34m(\u001b[0m\u001b[0mgenerator_parameters\u001b[0m\u001b[0;34m)\u001b[0m\u001b[0;34m\u001b[0m\u001b[0;34m\u001b[0m\u001b[0m\n\u001b[1;32m      3\u001b[0m \u001b[0;34m\u001b[0m\u001b[0m\n\u001b[0;32m----> 4\u001b[0;31m \u001b[0msynthesizer\u001b[0m\u001b[0;34m.\u001b[0m\u001b[0mtrain\u001b[0m\u001b[0;34m(\u001b[0m\u001b[0mdata\u001b[0m\u001b[0;34m,\u001b[0m \u001b[0mtraining_parameters\u001b[0m\u001b[0;34m)\u001b[0m\u001b[0;34m\u001b[0m\u001b[0;34m\u001b[0m\u001b[0m\n\u001b[0m",
            "\u001b[0;32m<ipython-input-30-bfecca8b26d2>\u001b[0m in \u001b[0;36mtrain\u001b[0;34m(self, data, train_arguments)\u001b[0m\n\u001b[1;32m     49\u001b[0m         \u001b[0;34m[\u001b[0m\u001b[0mcache_prefix\u001b[0m\u001b[0;34m,\u001b[0m \u001b[0mepochs\u001b[0m\u001b[0;34m,\u001b[0m \u001b[0msample_interval\u001b[0m\u001b[0;34m]\u001b[0m \u001b[0;34m=\u001b[0m \u001b[0mtrain_arguments\u001b[0m\u001b[0;34m\u001b[0m\u001b[0;34m\u001b[0m\u001b[0m\n\u001b[1;32m     50\u001b[0m \u001b[0;34m\u001b[0m\u001b[0m\n\u001b[0;32m---> 51\u001b[0;31m         \u001b[0mdata_cols\u001b[0m \u001b[0;34m=\u001b[0m \u001b[0mdata\u001b[0m\u001b[0;34m.\u001b[0m\u001b[0mcolumns\u001b[0m\u001b[0;34m\u001b[0m\u001b[0;34m\u001b[0m\u001b[0m\n\u001b[0m\u001b[1;32m     52\u001b[0m \u001b[0;34m\u001b[0m\u001b[0m\n\u001b[1;32m     53\u001b[0m         \u001b[0;31m# Adversarial ground truths\u001b[0m\u001b[0;34m\u001b[0m\u001b[0;34m\u001b[0m\u001b[0m\n",
            "\u001b[0;31mAttributeError\u001b[0m: 'numpy.ndarray' object has no attribute 'columns'"
          ]
        }
      ]
    },
    {
      "cell_type": "code",
      "metadata": {
        "id": "NJ5HGTL1aqhY"
      },
      "source": [
        "models = {'WGAN': ['WGAN', False, synthesizer.generator]}"
      ],
      "execution_count": null,
      "outputs": []
    },
    {
      "cell_type": "code",
      "metadata": {
        "id": "rVw-S1NiF4ib",
        "colab": {
          "base_uri": "https://localhost:8080/"
        },
        "outputId": "37aa6772-d723-47f8-c56f-3a94ac40ff6d"
      },
      "source": [
        "np.random.seed(3) # used for retestability\n",
        "\n",
        "#!!!!!!!!!!!!!!!!!!!!!!!!!!!!!!!!!!!!!!!!!!!!!!!!!!!!!!!!!!!!!!!!!!!!!!!!\n",
        "#noise = np.random.normal(0,1, (1170495, 32)) # number of benign samples to be generated\n",
        "#noise = np.random.normal(0,1, (70302, 32)) # number of dos hulk samples to be generated\n",
        "#noise = np.random.normal(0,1, (2922, 32)) # number of ssh patator samples to be generated\n",
        "#noise = np.random.normal(0,1, (2332, 32)) # number of dos slow loris samples to be generated\n",
        "#noise = np.random.normal(0,1, (11, 32)) # number of heartbleed samples to be generated\n",
        "noise = np.random.normal(0,1, (10000, input_noise)) # number of ddos samples to be generated\n",
        "\n",
        "[model_name, with_class, generator_model] = models['WGAN']\n",
        "\n",
        "X = generator_model.predict(noise)"
      ],
      "execution_count": null,
      "outputs": [
        {
          "output_type": "stream",
          "name": "stdout",
          "text": [
            "313/313 [==============================] - 1s 2ms/step\n"
          ]
        }
      ]
    },
    {
      "cell_type": "code",
      "metadata": {
        "id": "GUsnl55amCW-"
      },
      "source": [
        "# Create a dataframe with generated samples, so can be used for evaluation later\n",
        "\n",
        "gen_ddos_samples = pd.DataFrame(X, columns=data_columns)\n",
        "# gen_dosHulk_samples = pd.DataFrame(X, columns=data_columns)\n",
        "# gen_sshPatator_samples = pd.DataFrame(X, columns=data_columns)\n",
        "# gen_dosSlowloris_samples = pd.DataFrame(X, columns=data_columns)\n",
        "# gen_heartbleed_samples = pd.DataFrame(X, columns=data_columns)\n",
        "# gen_infiltration_samples = pd.DataFrame(X, columns=data_columns)"
      ],
      "execution_count": null,
      "outputs": []
    },
    {
      "cell_type": "code",
      "metadata": {
        "id": "yBBIH-fpEmXK"
      },
      "source": [
        "#gen_benign_samples.to_csv(r'drive/My Drive/Colab/ProjectData/gen_benign_samples.csv')\n",
        "# gen_dosHulk_samples.to_csv(r'drive/My Drive/Colab/ProjectData/gen_dosHulk_samples.csv')\n",
        "# gen_sshPatator_samples.to_csv(r'drive/My Drive/Colab/ProjectData/gen_sshPatator_samples.csv')\n",
        "# gen_dosSlowloris_samples.to_csv(r'drive/My Drive/Colab/ProjectData/gen_dosSlowloris_samples.csv')\n",
        "# gen_heartbleed_samples.to_csv(r'drive/My Drive/Colab/ProjectData/gen_heartbleed_samples.csv')\n",
        "# gen_infiltration_samples.to_csv(r'drive/My Drive/Colab/ProjectData/gen_infiltration_samples.csv')"
      ],
      "execution_count": null,
      "outputs": []
    },
    {
      "cell_type": "code",
      "source": [
        "dfDDoS.head()"
      ],
      "metadata": {
        "colab": {
          "base_uri": "https://localhost:8080/",
          "height": 255
        },
        "id": "9hVTrjI94_es",
        "outputId": "cf1f3fb5-3baa-40bf-acc1-c22a27b49462"
      },
      "execution_count": null,
      "outputs": [
        {
          "output_type": "execute_result",
          "data": {
            "text/plain": [
              "            FlowDuration     BwdPacketLengthStd   PacketLengthVariance  \\\n",
              "0 0.02728622568215560013 0.49582904229729840573 0.24763846973022399234   \n",
              "1 0.06449783494577919496 0.36306634946900079308 0.16273209149609429991   \n",
              "2 0.10063706918259339440 0.56645195933665803967 0.28147980156065760537   \n",
              "3 0.02352438392144290055 0.32622330025341017556 0.13631339619087889936   \n",
              "4 0.05714667642866690100 0.60463986167051686493 0.33252649927518002082   \n",
              "\n",
              "                 DstPort  TotalLengthofFwdPacket        PacketLengthStd  \\\n",
              "0 0.00122083352408849997  0.00000155397112659488 0.49763286640878529044   \n",
              "1 0.00122083352408849997  0.00000155397112659488 0.40340065877003017381   \n",
              "2 0.00122083352408849997  0.00000155397112659488 0.53054670064062936508   \n",
              "3 0.00122083352408849997  0.00000155397112659488 0.36920644115572920363   \n",
              "4 0.00122083352408849997  0.00000155397112659488 0.57665110706143618557   \n",
              "\n",
              "              FlowIATMax          FlowPackets/s     FwdPacketLengthMax  \\\n",
              "0 0.01575180991651189966 0.00000121328389712905 0.00080580177276390005   \n",
              "1 0.06007317482887079840 0.00000050847980055291 0.00080580177276390005   \n",
              "2 0.08486466311666990281 0.00000035049176566625 0.00080580177276390005   \n",
              "3 0.01677187884433140042 0.00000152671638100660 0.00080580177276390005   \n",
              "4 0.04365385509937880215 0.00000067217663214777 0.00080580177276390005   \n",
              "\n",
              "      BwdPacketLengthMax  ...        FwdHeaderLength            FlowIATMean  \\\n",
              "0 0.36943164362519198551  ... 0.50201662185284767759 0.00431401995725259977   \n",
              "1 0.29902713773681510734  ... 0.50201662185284767759 0.01019727576173119939   \n",
              "2 0.44854070660522271652  ... 0.50232217061843065231 0.01458507006268839994   \n",
              "3 0.29902713773681510734  ... 0.50201662185284767759 0.00340932347102820008   \n",
              "4 0.51894521249359959469  ... 0.50232217061843065231 0.00764503084449950042   \n",
              "\n",
              "         BwdHeaderLength            FwdRSTFlags        FWDInitWinBytes  \\\n",
              "0 0.50235315689750015267 0.00526315789473680035 0.12500190737773708705   \n",
              "1 0.50235315689750015267 0.00526315789473680035 0.12500190737773708705   \n",
              "2 0.50235315689750015267 0.00526315789473680035 0.12500190737773708705   \n",
              "3 0.50265876168938328217 0.00526315789473680035 0.12500190737773708705   \n",
              "4 0.50265876168938328217 0.00526315789473680035 0.12500190737773708705   \n",
              "\n",
              "         BwdInitWinBytes              FwdIATMax           BwdPackets/s  \\\n",
              "0 0.00349431601434340008 0.01578635056676599979 0.00000076351078138304   \n",
              "1 0.00349431601434340008 0.06007311557981780126 0.00000032300822469382   \n",
              "2 0.00349431601434340008 0.08486457597716209889 0.00000020701449573463   \n",
              "3 0.00349431601434340008 0.01677186830928949907 0.00000106272673717740   \n",
              "4 0.00349431601434340008 0.04365381432208059742 0.00000043747070769053   \n",
              "\n",
              "            ACKFlagCount          FwdSegSizeMin  \n",
              "0 0.00002149776911786836 0.45454545454545458583  \n",
              "1 0.00002149776911786836 0.45454545454545458583  \n",
              "2 0.00002345211176494729 0.45454545454545458583  \n",
              "3 0.00002345211176494729 0.45454545454545458583  \n",
              "4 0.00002540645441202624 0.45454545454545458583  \n",
              "\n",
              "[5 rows x 35 columns]"
            ],
            "text/html": [
              "\n",
              "  <div id=\"df-42509567-c8a0-4867-a691-7d3134699fe7\" class=\"colab-df-container\">\n",
              "    <div>\n",
              "<style scoped>\n",
              "    .dataframe tbody tr th:only-of-type {\n",
              "        vertical-align: middle;\n",
              "    }\n",
              "\n",
              "    .dataframe tbody tr th {\n",
              "        vertical-align: top;\n",
              "    }\n",
              "\n",
              "    .dataframe thead th {\n",
              "        text-align: right;\n",
              "    }\n",
              "</style>\n",
              "<table border=\"1\" class=\"dataframe\">\n",
              "  <thead>\n",
              "    <tr style=\"text-align: right;\">\n",
              "      <th></th>\n",
              "      <th>FlowDuration</th>\n",
              "      <th>BwdPacketLengthStd</th>\n",
              "      <th>PacketLengthVariance</th>\n",
              "      <th>DstPort</th>\n",
              "      <th>TotalLengthofFwdPacket</th>\n",
              "      <th>PacketLengthStd</th>\n",
              "      <th>FlowIATMax</th>\n",
              "      <th>FlowPackets/s</th>\n",
              "      <th>FwdPacketLengthMax</th>\n",
              "      <th>BwdPacketLengthMax</th>\n",
              "      <th>...</th>\n",
              "      <th>FwdHeaderLength</th>\n",
              "      <th>FlowIATMean</th>\n",
              "      <th>BwdHeaderLength</th>\n",
              "      <th>FwdRSTFlags</th>\n",
              "      <th>FWDInitWinBytes</th>\n",
              "      <th>BwdInitWinBytes</th>\n",
              "      <th>FwdIATMax</th>\n",
              "      <th>BwdPackets/s</th>\n",
              "      <th>ACKFlagCount</th>\n",
              "      <th>FwdSegSizeMin</th>\n",
              "    </tr>\n",
              "  </thead>\n",
              "  <tbody>\n",
              "    <tr>\n",
              "      <th>0</th>\n",
              "      <td>0.02728622568215560013</td>\n",
              "      <td>0.49582904229729840573</td>\n",
              "      <td>0.24763846973022399234</td>\n",
              "      <td>0.00122083352408849997</td>\n",
              "      <td>0.00000155397112659488</td>\n",
              "      <td>0.49763286640878529044</td>\n",
              "      <td>0.01575180991651189966</td>\n",
              "      <td>0.00000121328389712905</td>\n",
              "      <td>0.00080580177276390005</td>\n",
              "      <td>0.36943164362519198551</td>\n",
              "      <td>...</td>\n",
              "      <td>0.50201662185284767759</td>\n",
              "      <td>0.00431401995725259977</td>\n",
              "      <td>0.50235315689750015267</td>\n",
              "      <td>0.00526315789473680035</td>\n",
              "      <td>0.12500190737773708705</td>\n",
              "      <td>0.00349431601434340008</td>\n",
              "      <td>0.01578635056676599979</td>\n",
              "      <td>0.00000076351078138304</td>\n",
              "      <td>0.00002149776911786836</td>\n",
              "      <td>0.45454545454545458583</td>\n",
              "    </tr>\n",
              "    <tr>\n",
              "      <th>1</th>\n",
              "      <td>0.06449783494577919496</td>\n",
              "      <td>0.36306634946900079308</td>\n",
              "      <td>0.16273209149609429991</td>\n",
              "      <td>0.00122083352408849997</td>\n",
              "      <td>0.00000155397112659488</td>\n",
              "      <td>0.40340065877003017381</td>\n",
              "      <td>0.06007317482887079840</td>\n",
              "      <td>0.00000050847980055291</td>\n",
              "      <td>0.00080580177276390005</td>\n",
              "      <td>0.29902713773681510734</td>\n",
              "      <td>...</td>\n",
              "      <td>0.50201662185284767759</td>\n",
              "      <td>0.01019727576173119939</td>\n",
              "      <td>0.50235315689750015267</td>\n",
              "      <td>0.00526315789473680035</td>\n",
              "      <td>0.12500190737773708705</td>\n",
              "      <td>0.00349431601434340008</td>\n",
              "      <td>0.06007311557981780126</td>\n",
              "      <td>0.00000032300822469382</td>\n",
              "      <td>0.00002149776911786836</td>\n",
              "      <td>0.45454545454545458583</td>\n",
              "    </tr>\n",
              "    <tr>\n",
              "      <th>2</th>\n",
              "      <td>0.10063706918259339440</td>\n",
              "      <td>0.56645195933665803967</td>\n",
              "      <td>0.28147980156065760537</td>\n",
              "      <td>0.00122083352408849997</td>\n",
              "      <td>0.00000155397112659488</td>\n",
              "      <td>0.53054670064062936508</td>\n",
              "      <td>0.08486466311666990281</td>\n",
              "      <td>0.00000035049176566625</td>\n",
              "      <td>0.00080580177276390005</td>\n",
              "      <td>0.44854070660522271652</td>\n",
              "      <td>...</td>\n",
              "      <td>0.50232217061843065231</td>\n",
              "      <td>0.01458507006268839994</td>\n",
              "      <td>0.50235315689750015267</td>\n",
              "      <td>0.00526315789473680035</td>\n",
              "      <td>0.12500190737773708705</td>\n",
              "      <td>0.00349431601434340008</td>\n",
              "      <td>0.08486457597716209889</td>\n",
              "      <td>0.00000020701449573463</td>\n",
              "      <td>0.00002345211176494729</td>\n",
              "      <td>0.45454545454545458583</td>\n",
              "    </tr>\n",
              "    <tr>\n",
              "      <th>3</th>\n",
              "      <td>0.02352438392144290055</td>\n",
              "      <td>0.32622330025341017556</td>\n",
              "      <td>0.13631339619087889936</td>\n",
              "      <td>0.00122083352408849997</td>\n",
              "      <td>0.00000155397112659488</td>\n",
              "      <td>0.36920644115572920363</td>\n",
              "      <td>0.01677187884433140042</td>\n",
              "      <td>0.00000152671638100660</td>\n",
              "      <td>0.00080580177276390005</td>\n",
              "      <td>0.29902713773681510734</td>\n",
              "      <td>...</td>\n",
              "      <td>0.50201662185284767759</td>\n",
              "      <td>0.00340932347102820008</td>\n",
              "      <td>0.50265876168938328217</td>\n",
              "      <td>0.00526315789473680035</td>\n",
              "      <td>0.12500190737773708705</td>\n",
              "      <td>0.00349431601434340008</td>\n",
              "      <td>0.01677186830928949907</td>\n",
              "      <td>0.00000106272673717740</td>\n",
              "      <td>0.00002345211176494729</td>\n",
              "      <td>0.45454545454545458583</td>\n",
              "    </tr>\n",
              "    <tr>\n",
              "      <th>4</th>\n",
              "      <td>0.05714667642866690100</td>\n",
              "      <td>0.60463986167051686493</td>\n",
              "      <td>0.33252649927518002082</td>\n",
              "      <td>0.00122083352408849997</td>\n",
              "      <td>0.00000155397112659488</td>\n",
              "      <td>0.57665110706143618557</td>\n",
              "      <td>0.04365385509937880215</td>\n",
              "      <td>0.00000067217663214777</td>\n",
              "      <td>0.00080580177276390005</td>\n",
              "      <td>0.51894521249359959469</td>\n",
              "      <td>...</td>\n",
              "      <td>0.50232217061843065231</td>\n",
              "      <td>0.00764503084449950042</td>\n",
              "      <td>0.50265876168938328217</td>\n",
              "      <td>0.00526315789473680035</td>\n",
              "      <td>0.12500190737773708705</td>\n",
              "      <td>0.00349431601434340008</td>\n",
              "      <td>0.04365381432208059742</td>\n",
              "      <td>0.00000043747070769053</td>\n",
              "      <td>0.00002540645441202624</td>\n",
              "      <td>0.45454545454545458583</td>\n",
              "    </tr>\n",
              "  </tbody>\n",
              "</table>\n",
              "<p>5 rows × 35 columns</p>\n",
              "</div>\n",
              "    <div class=\"colab-df-buttons\">\n",
              "\n",
              "  <div class=\"colab-df-container\">\n",
              "    <button class=\"colab-df-convert\" onclick=\"convertToInteractive('df-42509567-c8a0-4867-a691-7d3134699fe7')\"\n",
              "            title=\"Convert this dataframe to an interactive table.\"\n",
              "            style=\"display:none;\">\n",
              "\n",
              "  <svg xmlns=\"http://www.w3.org/2000/svg\" height=\"24px\" viewBox=\"0 -960 960 960\">\n",
              "    <path d=\"M120-120v-720h720v720H120Zm60-500h600v-160H180v160Zm220 220h160v-160H400v160Zm0 220h160v-160H400v160ZM180-400h160v-160H180v160Zm440 0h160v-160H620v160ZM180-180h160v-160H180v160Zm440 0h160v-160H620v160Z\"/>\n",
              "  </svg>\n",
              "    </button>\n",
              "\n",
              "  <style>\n",
              "    .colab-df-container {\n",
              "      display:flex;\n",
              "      gap: 12px;\n",
              "    }\n",
              "\n",
              "    .colab-df-convert {\n",
              "      background-color: #E8F0FE;\n",
              "      border: none;\n",
              "      border-radius: 50%;\n",
              "      cursor: pointer;\n",
              "      display: none;\n",
              "      fill: #1967D2;\n",
              "      height: 32px;\n",
              "      padding: 0 0 0 0;\n",
              "      width: 32px;\n",
              "    }\n",
              "\n",
              "    .colab-df-convert:hover {\n",
              "      background-color: #E2EBFA;\n",
              "      box-shadow: 0px 1px 2px rgba(60, 64, 67, 0.3), 0px 1px 3px 1px rgba(60, 64, 67, 0.15);\n",
              "      fill: #174EA6;\n",
              "    }\n",
              "\n",
              "    .colab-df-buttons div {\n",
              "      margin-bottom: 4px;\n",
              "    }\n",
              "\n",
              "    [theme=dark] .colab-df-convert {\n",
              "      background-color: #3B4455;\n",
              "      fill: #D2E3FC;\n",
              "    }\n",
              "\n",
              "    [theme=dark] .colab-df-convert:hover {\n",
              "      background-color: #434B5C;\n",
              "      box-shadow: 0px 1px 3px 1px rgba(0, 0, 0, 0.15);\n",
              "      filter: drop-shadow(0px 1px 2px rgba(0, 0, 0, 0.3));\n",
              "      fill: #FFFFFF;\n",
              "    }\n",
              "  </style>\n",
              "\n",
              "    <script>\n",
              "      const buttonEl =\n",
              "        document.querySelector('#df-42509567-c8a0-4867-a691-7d3134699fe7 button.colab-df-convert');\n",
              "      buttonEl.style.display =\n",
              "        google.colab.kernel.accessAllowed ? 'block' : 'none';\n",
              "\n",
              "      async function convertToInteractive(key) {\n",
              "        const element = document.querySelector('#df-42509567-c8a0-4867-a691-7d3134699fe7');\n",
              "        const dataTable =\n",
              "          await google.colab.kernel.invokeFunction('convertToInteractive',\n",
              "                                                    [key], {});\n",
              "        if (!dataTable) return;\n",
              "\n",
              "        const docLinkHtml = 'Like what you see? Visit the ' +\n",
              "          '<a target=\"_blank\" href=https://colab.research.google.com/notebooks/data_table.ipynb>data table notebook</a>'\n",
              "          + ' to learn more about interactive tables.';\n",
              "        element.innerHTML = '';\n",
              "        dataTable['output_type'] = 'display_data';\n",
              "        await google.colab.output.renderOutput(dataTable, element);\n",
              "        const docLink = document.createElement('div');\n",
              "        docLink.innerHTML = docLinkHtml;\n",
              "        element.appendChild(docLink);\n",
              "      }\n",
              "    </script>\n",
              "  </div>\n",
              "\n",
              "\n",
              "<div id=\"df-c32483ee-af3a-4f6a-967a-76d878220215\">\n",
              "  <button class=\"colab-df-quickchart\" onclick=\"quickchart('df-c32483ee-af3a-4f6a-967a-76d878220215')\"\n",
              "            title=\"Suggest charts\"\n",
              "            style=\"display:none;\">\n",
              "\n",
              "<svg xmlns=\"http://www.w3.org/2000/svg\" height=\"24px\"viewBox=\"0 0 24 24\"\n",
              "     width=\"24px\">\n",
              "    <g>\n",
              "        <path d=\"M19 3H5c-1.1 0-2 .9-2 2v14c0 1.1.9 2 2 2h14c1.1 0 2-.9 2-2V5c0-1.1-.9-2-2-2zM9 17H7v-7h2v7zm4 0h-2V7h2v10zm4 0h-2v-4h2v4z\"/>\n",
              "    </g>\n",
              "</svg>\n",
              "  </button>\n",
              "\n",
              "<style>\n",
              "  .colab-df-quickchart {\n",
              "      --bg-color: #E8F0FE;\n",
              "      --fill-color: #1967D2;\n",
              "      --hover-bg-color: #E2EBFA;\n",
              "      --hover-fill-color: #174EA6;\n",
              "      --disabled-fill-color: #AAA;\n",
              "      --disabled-bg-color: #DDD;\n",
              "  }\n",
              "\n",
              "  [theme=dark] .colab-df-quickchart {\n",
              "      --bg-color: #3B4455;\n",
              "      --fill-color: #D2E3FC;\n",
              "      --hover-bg-color: #434B5C;\n",
              "      --hover-fill-color: #FFFFFF;\n",
              "      --disabled-bg-color: #3B4455;\n",
              "      --disabled-fill-color: #666;\n",
              "  }\n",
              "\n",
              "  .colab-df-quickchart {\n",
              "    background-color: var(--bg-color);\n",
              "    border: none;\n",
              "    border-radius: 50%;\n",
              "    cursor: pointer;\n",
              "    display: none;\n",
              "    fill: var(--fill-color);\n",
              "    height: 32px;\n",
              "    padding: 0;\n",
              "    width: 32px;\n",
              "  }\n",
              "\n",
              "  .colab-df-quickchart:hover {\n",
              "    background-color: var(--hover-bg-color);\n",
              "    box-shadow: 0 1px 2px rgba(60, 64, 67, 0.3), 0 1px 3px 1px rgba(60, 64, 67, 0.15);\n",
              "    fill: var(--button-hover-fill-color);\n",
              "  }\n",
              "\n",
              "  .colab-df-quickchart-complete:disabled,\n",
              "  .colab-df-quickchart-complete:disabled:hover {\n",
              "    background-color: var(--disabled-bg-color);\n",
              "    fill: var(--disabled-fill-color);\n",
              "    box-shadow: none;\n",
              "  }\n",
              "\n",
              "  .colab-df-spinner {\n",
              "    border: 2px solid var(--fill-color);\n",
              "    border-color: transparent;\n",
              "    border-bottom-color: var(--fill-color);\n",
              "    animation:\n",
              "      spin 1s steps(1) infinite;\n",
              "  }\n",
              "\n",
              "  @keyframes spin {\n",
              "    0% {\n",
              "      border-color: transparent;\n",
              "      border-bottom-color: var(--fill-color);\n",
              "      border-left-color: var(--fill-color);\n",
              "    }\n",
              "    20% {\n",
              "      border-color: transparent;\n",
              "      border-left-color: var(--fill-color);\n",
              "      border-top-color: var(--fill-color);\n",
              "    }\n",
              "    30% {\n",
              "      border-color: transparent;\n",
              "      border-left-color: var(--fill-color);\n",
              "      border-top-color: var(--fill-color);\n",
              "      border-right-color: var(--fill-color);\n",
              "    }\n",
              "    40% {\n",
              "      border-color: transparent;\n",
              "      border-right-color: var(--fill-color);\n",
              "      border-top-color: var(--fill-color);\n",
              "    }\n",
              "    60% {\n",
              "      border-color: transparent;\n",
              "      border-right-color: var(--fill-color);\n",
              "    }\n",
              "    80% {\n",
              "      border-color: transparent;\n",
              "      border-right-color: var(--fill-color);\n",
              "      border-bottom-color: var(--fill-color);\n",
              "    }\n",
              "    90% {\n",
              "      border-color: transparent;\n",
              "      border-bottom-color: var(--fill-color);\n",
              "    }\n",
              "  }\n",
              "</style>\n",
              "\n",
              "  <script>\n",
              "    async function quickchart(key) {\n",
              "      const quickchartButtonEl =\n",
              "        document.querySelector('#' + key + ' button');\n",
              "      quickchartButtonEl.disabled = true;  // To prevent multiple clicks.\n",
              "      quickchartButtonEl.classList.add('colab-df-spinner');\n",
              "      try {\n",
              "        const charts = await google.colab.kernel.invokeFunction(\n",
              "            'suggestCharts', [key], {});\n",
              "      } catch (error) {\n",
              "        console.error('Error during call to suggestCharts:', error);\n",
              "      }\n",
              "      quickchartButtonEl.classList.remove('colab-df-spinner');\n",
              "      quickchartButtonEl.classList.add('colab-df-quickchart-complete');\n",
              "    }\n",
              "    (() => {\n",
              "      let quickchartButtonEl =\n",
              "        document.querySelector('#df-c32483ee-af3a-4f6a-967a-76d878220215 button');\n",
              "      quickchartButtonEl.style.display =\n",
              "        google.colab.kernel.accessAllowed ? 'block' : 'none';\n",
              "    })();\n",
              "  </script>\n",
              "</div>\n",
              "    </div>\n",
              "  </div>\n"
            ]
          },
          "metadata": {},
          "execution_count": 16
        }
      ]
    },
    {
      "cell_type": "code",
      "source": [
        "gen_ddos_samples.head()"
      ],
      "metadata": {
        "colab": {
          "base_uri": "https://localhost:8080/",
          "height": 255
        },
        "id": "hoUCJ25vBXWQ",
        "outputId": "29bd8b80-7933-4ab5-aec0-6acbb9b7d795"
      },
      "execution_count": null,
      "outputs": [
        {
          "output_type": "execute_result",
          "data": {
            "text/plain": [
              "            FlowDuration     BwdPacketLengthStd   PacketLengthVariance  \\\n",
              "0 0.47180235385894775391 0.41418462991714477539 0.56322401762008666992   \n",
              "1 0.53517252206802368164 0.39302331209182739258 0.36887139081954956055   \n",
              "2 0.57586467266082763672 0.46420398354530334473 0.46458077430725097656   \n",
              "3 0.53754276037216186523 0.43984058499336242676 0.55990648269653320312   \n",
              "4 0.49338239431381225586 0.43752032518386840820 0.41072410345077514648   \n",
              "\n",
              "                 DstPort  TotalLengthofFwdPacket        PacketLengthStd  \\\n",
              "0 0.60803139209747314453  0.52436667680740356445 0.43436494469642639160   \n",
              "1 0.55579710006713867188  0.56915503740310668945 0.49567773938179016113   \n",
              "2 0.57869809865951538086  0.52252292633056640625 0.52267491817474365234   \n",
              "3 0.55757719278335571289  0.44935011863708496094 0.45576557517051696777   \n",
              "4 0.56410014629364013672  0.52505487203598022461 0.48449867963790893555   \n",
              "\n",
              "              FlowIATMax          FlowPackets/s     FwdPacketLengthMax  \\\n",
              "0 0.55000579357147216797 0.42569172382354736328 0.54101198911666870117   \n",
              "1 0.44310224056243896484 0.45698845386505126953 0.50955051183700561523   \n",
              "2 0.44376105070114135742 0.39801141619682312012 0.45444256067276000977   \n",
              "3 0.49711212515830993652 0.34760022163391113281 0.44558715820312500000   \n",
              "4 0.48151612281799316406 0.43145212531089782715 0.47375556826591491699   \n",
              "\n",
              "      BwdPacketLengthMax  ...        FwdHeaderLength            FlowIATMean  \\\n",
              "0 0.57126468420028686523  ... 0.50148957967758178711 0.44860726594924926758   \n",
              "1 0.62117731571197509766  ... 0.52009481191635131836 0.56827521324157714844   \n",
              "2 0.55485540628433227539  ... 0.49208059906959533691 0.61243337392807006836   \n",
              "3 0.53440791368484497070  ... 0.47855404019355773926 0.59301573038101196289   \n",
              "4 0.51471048593521118164  ... 0.52457439899444580078 0.49217215180397033691   \n",
              "\n",
              "         BwdHeaderLength            FwdRSTFlags        FWDInitWinBytes  \\\n",
              "0 0.58279889822006225586 0.45930299162864685059 0.48766553401947021484   \n",
              "1 0.58817470073699951172 0.43960639834403991699 0.46900218725204467773   \n",
              "2 0.57207804918289184570 0.48919349908828735352 0.51083397865295410156   \n",
              "3 0.58362185955047607422 0.53861075639724731445 0.46169033646583557129   \n",
              "4 0.57746070623397827148 0.44799318909645080566 0.46117046475410461426   \n",
              "\n",
              "         BwdInitWinBytes              FwdIATMax           BwdPackets/s  \\\n",
              "0 0.51787036657333374023 0.49026483297348022461 0.72057431936264038086   \n",
              "1 0.47942805290222167969 0.44911846518516540527 0.64258766174316406250   \n",
              "2 0.50614225864410400391 0.46813988685607910156 0.57701528072357177734   \n",
              "3 0.57106137275695800781 0.55165159702301025391 0.59992212057113647461   \n",
              "4 0.51701492071151733398 0.45426803827285766602 0.59848564863204956055   \n",
              "\n",
              "            ACKFlagCount          FwdSegSizeMin  \n",
              "0 0.50131839513778686523 0.45588684082031250000  \n",
              "1 0.56199091672897338867 0.52734160423278808594  \n",
              "2 0.52789336442947387695 0.45944753289222717285  \n",
              "3 0.43631562590599060059 0.43867710232734680176  \n",
              "4 0.45666363835334777832 0.46577626466751098633  \n",
              "\n",
              "[5 rows x 35 columns]"
            ],
            "text/html": [
              "\n",
              "  <div id=\"df-134e51a3-c000-4fd2-b896-5eb51e3661bf\" class=\"colab-df-container\">\n",
              "    <div>\n",
              "<style scoped>\n",
              "    .dataframe tbody tr th:only-of-type {\n",
              "        vertical-align: middle;\n",
              "    }\n",
              "\n",
              "    .dataframe tbody tr th {\n",
              "        vertical-align: top;\n",
              "    }\n",
              "\n",
              "    .dataframe thead th {\n",
              "        text-align: right;\n",
              "    }\n",
              "</style>\n",
              "<table border=\"1\" class=\"dataframe\">\n",
              "  <thead>\n",
              "    <tr style=\"text-align: right;\">\n",
              "      <th></th>\n",
              "      <th>FlowDuration</th>\n",
              "      <th>BwdPacketLengthStd</th>\n",
              "      <th>PacketLengthVariance</th>\n",
              "      <th>DstPort</th>\n",
              "      <th>TotalLengthofFwdPacket</th>\n",
              "      <th>PacketLengthStd</th>\n",
              "      <th>FlowIATMax</th>\n",
              "      <th>FlowPackets/s</th>\n",
              "      <th>FwdPacketLengthMax</th>\n",
              "      <th>BwdPacketLengthMax</th>\n",
              "      <th>...</th>\n",
              "      <th>FwdHeaderLength</th>\n",
              "      <th>FlowIATMean</th>\n",
              "      <th>BwdHeaderLength</th>\n",
              "      <th>FwdRSTFlags</th>\n",
              "      <th>FWDInitWinBytes</th>\n",
              "      <th>BwdInitWinBytes</th>\n",
              "      <th>FwdIATMax</th>\n",
              "      <th>BwdPackets/s</th>\n",
              "      <th>ACKFlagCount</th>\n",
              "      <th>FwdSegSizeMin</th>\n",
              "    </tr>\n",
              "  </thead>\n",
              "  <tbody>\n",
              "    <tr>\n",
              "      <th>0</th>\n",
              "      <td>0.47180235385894775391</td>\n",
              "      <td>0.41418462991714477539</td>\n",
              "      <td>0.56322401762008666992</td>\n",
              "      <td>0.60803139209747314453</td>\n",
              "      <td>0.52436667680740356445</td>\n",
              "      <td>0.43436494469642639160</td>\n",
              "      <td>0.55000579357147216797</td>\n",
              "      <td>0.42569172382354736328</td>\n",
              "      <td>0.54101198911666870117</td>\n",
              "      <td>0.57126468420028686523</td>\n",
              "      <td>...</td>\n",
              "      <td>0.50148957967758178711</td>\n",
              "      <td>0.44860726594924926758</td>\n",
              "      <td>0.58279889822006225586</td>\n",
              "      <td>0.45930299162864685059</td>\n",
              "      <td>0.48766553401947021484</td>\n",
              "      <td>0.51787036657333374023</td>\n",
              "      <td>0.49026483297348022461</td>\n",
              "      <td>0.72057431936264038086</td>\n",
              "      <td>0.50131839513778686523</td>\n",
              "      <td>0.45588684082031250000</td>\n",
              "    </tr>\n",
              "    <tr>\n",
              "      <th>1</th>\n",
              "      <td>0.53517252206802368164</td>\n",
              "      <td>0.39302331209182739258</td>\n",
              "      <td>0.36887139081954956055</td>\n",
              "      <td>0.55579710006713867188</td>\n",
              "      <td>0.56915503740310668945</td>\n",
              "      <td>0.49567773938179016113</td>\n",
              "      <td>0.44310224056243896484</td>\n",
              "      <td>0.45698845386505126953</td>\n",
              "      <td>0.50955051183700561523</td>\n",
              "      <td>0.62117731571197509766</td>\n",
              "      <td>...</td>\n",
              "      <td>0.52009481191635131836</td>\n",
              "      <td>0.56827521324157714844</td>\n",
              "      <td>0.58817470073699951172</td>\n",
              "      <td>0.43960639834403991699</td>\n",
              "      <td>0.46900218725204467773</td>\n",
              "      <td>0.47942805290222167969</td>\n",
              "      <td>0.44911846518516540527</td>\n",
              "      <td>0.64258766174316406250</td>\n",
              "      <td>0.56199091672897338867</td>\n",
              "      <td>0.52734160423278808594</td>\n",
              "    </tr>\n",
              "    <tr>\n",
              "      <th>2</th>\n",
              "      <td>0.57586467266082763672</td>\n",
              "      <td>0.46420398354530334473</td>\n",
              "      <td>0.46458077430725097656</td>\n",
              "      <td>0.57869809865951538086</td>\n",
              "      <td>0.52252292633056640625</td>\n",
              "      <td>0.52267491817474365234</td>\n",
              "      <td>0.44376105070114135742</td>\n",
              "      <td>0.39801141619682312012</td>\n",
              "      <td>0.45444256067276000977</td>\n",
              "      <td>0.55485540628433227539</td>\n",
              "      <td>...</td>\n",
              "      <td>0.49208059906959533691</td>\n",
              "      <td>0.61243337392807006836</td>\n",
              "      <td>0.57207804918289184570</td>\n",
              "      <td>0.48919349908828735352</td>\n",
              "      <td>0.51083397865295410156</td>\n",
              "      <td>0.50614225864410400391</td>\n",
              "      <td>0.46813988685607910156</td>\n",
              "      <td>0.57701528072357177734</td>\n",
              "      <td>0.52789336442947387695</td>\n",
              "      <td>0.45944753289222717285</td>\n",
              "    </tr>\n",
              "    <tr>\n",
              "      <th>3</th>\n",
              "      <td>0.53754276037216186523</td>\n",
              "      <td>0.43984058499336242676</td>\n",
              "      <td>0.55990648269653320312</td>\n",
              "      <td>0.55757719278335571289</td>\n",
              "      <td>0.44935011863708496094</td>\n",
              "      <td>0.45576557517051696777</td>\n",
              "      <td>0.49711212515830993652</td>\n",
              "      <td>0.34760022163391113281</td>\n",
              "      <td>0.44558715820312500000</td>\n",
              "      <td>0.53440791368484497070</td>\n",
              "      <td>...</td>\n",
              "      <td>0.47855404019355773926</td>\n",
              "      <td>0.59301573038101196289</td>\n",
              "      <td>0.58362185955047607422</td>\n",
              "      <td>0.53861075639724731445</td>\n",
              "      <td>0.46169033646583557129</td>\n",
              "      <td>0.57106137275695800781</td>\n",
              "      <td>0.55165159702301025391</td>\n",
              "      <td>0.59992212057113647461</td>\n",
              "      <td>0.43631562590599060059</td>\n",
              "      <td>0.43867710232734680176</td>\n",
              "    </tr>\n",
              "    <tr>\n",
              "      <th>4</th>\n",
              "      <td>0.49338239431381225586</td>\n",
              "      <td>0.43752032518386840820</td>\n",
              "      <td>0.41072410345077514648</td>\n",
              "      <td>0.56410014629364013672</td>\n",
              "      <td>0.52505487203598022461</td>\n",
              "      <td>0.48449867963790893555</td>\n",
              "      <td>0.48151612281799316406</td>\n",
              "      <td>0.43145212531089782715</td>\n",
              "      <td>0.47375556826591491699</td>\n",
              "      <td>0.51471048593521118164</td>\n",
              "      <td>...</td>\n",
              "      <td>0.52457439899444580078</td>\n",
              "      <td>0.49217215180397033691</td>\n",
              "      <td>0.57746070623397827148</td>\n",
              "      <td>0.44799318909645080566</td>\n",
              "      <td>0.46117046475410461426</td>\n",
              "      <td>0.51701492071151733398</td>\n",
              "      <td>0.45426803827285766602</td>\n",
              "      <td>0.59848564863204956055</td>\n",
              "      <td>0.45666363835334777832</td>\n",
              "      <td>0.46577626466751098633</td>\n",
              "    </tr>\n",
              "  </tbody>\n",
              "</table>\n",
              "<p>5 rows × 35 columns</p>\n",
              "</div>\n",
              "    <div class=\"colab-df-buttons\">\n",
              "\n",
              "  <div class=\"colab-df-container\">\n",
              "    <button class=\"colab-df-convert\" onclick=\"convertToInteractive('df-134e51a3-c000-4fd2-b896-5eb51e3661bf')\"\n",
              "            title=\"Convert this dataframe to an interactive table.\"\n",
              "            style=\"display:none;\">\n",
              "\n",
              "  <svg xmlns=\"http://www.w3.org/2000/svg\" height=\"24px\" viewBox=\"0 -960 960 960\">\n",
              "    <path d=\"M120-120v-720h720v720H120Zm60-500h600v-160H180v160Zm220 220h160v-160H400v160Zm0 220h160v-160H400v160ZM180-400h160v-160H180v160Zm440 0h160v-160H620v160ZM180-180h160v-160H180v160Zm440 0h160v-160H620v160Z\"/>\n",
              "  </svg>\n",
              "    </button>\n",
              "\n",
              "  <style>\n",
              "    .colab-df-container {\n",
              "      display:flex;\n",
              "      gap: 12px;\n",
              "    }\n",
              "\n",
              "    .colab-df-convert {\n",
              "      background-color: #E8F0FE;\n",
              "      border: none;\n",
              "      border-radius: 50%;\n",
              "      cursor: pointer;\n",
              "      display: none;\n",
              "      fill: #1967D2;\n",
              "      height: 32px;\n",
              "      padding: 0 0 0 0;\n",
              "      width: 32px;\n",
              "    }\n",
              "\n",
              "    .colab-df-convert:hover {\n",
              "      background-color: #E2EBFA;\n",
              "      box-shadow: 0px 1px 2px rgba(60, 64, 67, 0.3), 0px 1px 3px 1px rgba(60, 64, 67, 0.15);\n",
              "      fill: #174EA6;\n",
              "    }\n",
              "\n",
              "    .colab-df-buttons div {\n",
              "      margin-bottom: 4px;\n",
              "    }\n",
              "\n",
              "    [theme=dark] .colab-df-convert {\n",
              "      background-color: #3B4455;\n",
              "      fill: #D2E3FC;\n",
              "    }\n",
              "\n",
              "    [theme=dark] .colab-df-convert:hover {\n",
              "      background-color: #434B5C;\n",
              "      box-shadow: 0px 1px 3px 1px rgba(0, 0, 0, 0.15);\n",
              "      filter: drop-shadow(0px 1px 2px rgba(0, 0, 0, 0.3));\n",
              "      fill: #FFFFFF;\n",
              "    }\n",
              "  </style>\n",
              "\n",
              "    <script>\n",
              "      const buttonEl =\n",
              "        document.querySelector('#df-134e51a3-c000-4fd2-b896-5eb51e3661bf button.colab-df-convert');\n",
              "      buttonEl.style.display =\n",
              "        google.colab.kernel.accessAllowed ? 'block' : 'none';\n",
              "\n",
              "      async function convertToInteractive(key) {\n",
              "        const element = document.querySelector('#df-134e51a3-c000-4fd2-b896-5eb51e3661bf');\n",
              "        const dataTable =\n",
              "          await google.colab.kernel.invokeFunction('convertToInteractive',\n",
              "                                                    [key], {});\n",
              "        if (!dataTable) return;\n",
              "\n",
              "        const docLinkHtml = 'Like what you see? Visit the ' +\n",
              "          '<a target=\"_blank\" href=https://colab.research.google.com/notebooks/data_table.ipynb>data table notebook</a>'\n",
              "          + ' to learn more about interactive tables.';\n",
              "        element.innerHTML = '';\n",
              "        dataTable['output_type'] = 'display_data';\n",
              "        await google.colab.output.renderOutput(dataTable, element);\n",
              "        const docLink = document.createElement('div');\n",
              "        docLink.innerHTML = docLinkHtml;\n",
              "        element.appendChild(docLink);\n",
              "      }\n",
              "    </script>\n",
              "  </div>\n",
              "\n",
              "\n",
              "<div id=\"df-540d0c6d-0033-4fe5-b749-bf3d141501a7\">\n",
              "  <button class=\"colab-df-quickchart\" onclick=\"quickchart('df-540d0c6d-0033-4fe5-b749-bf3d141501a7')\"\n",
              "            title=\"Suggest charts\"\n",
              "            style=\"display:none;\">\n",
              "\n",
              "<svg xmlns=\"http://www.w3.org/2000/svg\" height=\"24px\"viewBox=\"0 0 24 24\"\n",
              "     width=\"24px\">\n",
              "    <g>\n",
              "        <path d=\"M19 3H5c-1.1 0-2 .9-2 2v14c0 1.1.9 2 2 2h14c1.1 0 2-.9 2-2V5c0-1.1-.9-2-2-2zM9 17H7v-7h2v7zm4 0h-2V7h2v10zm4 0h-2v-4h2v4z\"/>\n",
              "    </g>\n",
              "</svg>\n",
              "  </button>\n",
              "\n",
              "<style>\n",
              "  .colab-df-quickchart {\n",
              "      --bg-color: #E8F0FE;\n",
              "      --fill-color: #1967D2;\n",
              "      --hover-bg-color: #E2EBFA;\n",
              "      --hover-fill-color: #174EA6;\n",
              "      --disabled-fill-color: #AAA;\n",
              "      --disabled-bg-color: #DDD;\n",
              "  }\n",
              "\n",
              "  [theme=dark] .colab-df-quickchart {\n",
              "      --bg-color: #3B4455;\n",
              "      --fill-color: #D2E3FC;\n",
              "      --hover-bg-color: #434B5C;\n",
              "      --hover-fill-color: #FFFFFF;\n",
              "      --disabled-bg-color: #3B4455;\n",
              "      --disabled-fill-color: #666;\n",
              "  }\n",
              "\n",
              "  .colab-df-quickchart {\n",
              "    background-color: var(--bg-color);\n",
              "    border: none;\n",
              "    border-radius: 50%;\n",
              "    cursor: pointer;\n",
              "    display: none;\n",
              "    fill: var(--fill-color);\n",
              "    height: 32px;\n",
              "    padding: 0;\n",
              "    width: 32px;\n",
              "  }\n",
              "\n",
              "  .colab-df-quickchart:hover {\n",
              "    background-color: var(--hover-bg-color);\n",
              "    box-shadow: 0 1px 2px rgba(60, 64, 67, 0.3), 0 1px 3px 1px rgba(60, 64, 67, 0.15);\n",
              "    fill: var(--button-hover-fill-color);\n",
              "  }\n",
              "\n",
              "  .colab-df-quickchart-complete:disabled,\n",
              "  .colab-df-quickchart-complete:disabled:hover {\n",
              "    background-color: var(--disabled-bg-color);\n",
              "    fill: var(--disabled-fill-color);\n",
              "    box-shadow: none;\n",
              "  }\n",
              "\n",
              "  .colab-df-spinner {\n",
              "    border: 2px solid var(--fill-color);\n",
              "    border-color: transparent;\n",
              "    border-bottom-color: var(--fill-color);\n",
              "    animation:\n",
              "      spin 1s steps(1) infinite;\n",
              "  }\n",
              "\n",
              "  @keyframes spin {\n",
              "    0% {\n",
              "      border-color: transparent;\n",
              "      border-bottom-color: var(--fill-color);\n",
              "      border-left-color: var(--fill-color);\n",
              "    }\n",
              "    20% {\n",
              "      border-color: transparent;\n",
              "      border-left-color: var(--fill-color);\n",
              "      border-top-color: var(--fill-color);\n",
              "    }\n",
              "    30% {\n",
              "      border-color: transparent;\n",
              "      border-left-color: var(--fill-color);\n",
              "      border-top-color: var(--fill-color);\n",
              "      border-right-color: var(--fill-color);\n",
              "    }\n",
              "    40% {\n",
              "      border-color: transparent;\n",
              "      border-right-color: var(--fill-color);\n",
              "      border-top-color: var(--fill-color);\n",
              "    }\n",
              "    60% {\n",
              "      border-color: transparent;\n",
              "      border-right-color: var(--fill-color);\n",
              "    }\n",
              "    80% {\n",
              "      border-color: transparent;\n",
              "      border-right-color: var(--fill-color);\n",
              "      border-bottom-color: var(--fill-color);\n",
              "    }\n",
              "    90% {\n",
              "      border-color: transparent;\n",
              "      border-bottom-color: var(--fill-color);\n",
              "    }\n",
              "  }\n",
              "</style>\n",
              "\n",
              "  <script>\n",
              "    async function quickchart(key) {\n",
              "      const quickchartButtonEl =\n",
              "        document.querySelector('#' + key + ' button');\n",
              "      quickchartButtonEl.disabled = true;  // To prevent multiple clicks.\n",
              "      quickchartButtonEl.classList.add('colab-df-spinner');\n",
              "      try {\n",
              "        const charts = await google.colab.kernel.invokeFunction(\n",
              "            'suggestCharts', [key], {});\n",
              "      } catch (error) {\n",
              "        console.error('Error during call to suggestCharts:', error);\n",
              "      }\n",
              "      quickchartButtonEl.classList.remove('colab-df-spinner');\n",
              "      quickchartButtonEl.classList.add('colab-df-quickchart-complete');\n",
              "    }\n",
              "    (() => {\n",
              "      let quickchartButtonEl =\n",
              "        document.querySelector('#df-540d0c6d-0033-4fe5-b749-bf3d141501a7 button');\n",
              "      quickchartButtonEl.style.display =\n",
              "        google.colab.kernel.accessAllowed ? 'block' : 'none';\n",
              "    })();\n",
              "  </script>\n",
              "</div>\n",
              "    </div>\n",
              "  </div>\n"
            ]
          },
          "metadata": {},
          "execution_count": 17
        }
      ]
    },
    {
      "cell_type": "code",
      "source": [
        "#Ci sono valori NAN?\n",
        "nan_in_df = gen_ddos_samples.isnull().sum().any()\n",
        "\n",
        "# Print the dataframe\n",
        "print(nan_in_df)"
      ],
      "metadata": {
        "colab": {
          "base_uri": "https://localhost:8080/"
        },
        "id": "FjxQZz58pM94",
        "outputId": "0952705c-1263-468f-b2ec-7b0e41ea0f2e"
      },
      "execution_count": null,
      "outputs": [
        {
          "output_type": "stream",
          "name": "stdout",
          "text": [
            "False\n"
          ]
        }
      ]
    },
    {
      "cell_type": "code",
      "source": [
        "#Quanti valori negativi ci sono?\n",
        "(gen_ddos_samples < 0).sum().sum()"
      ],
      "metadata": {
        "colab": {
          "base_uri": "https://localhost:8080/"
        },
        "id": "BkJM_ra5qbiF",
        "outputId": "03fad472-0b81-4cbc-a0a9-b318af898fe6"
      },
      "execution_count": null,
      "outputs": [
        {
          "output_type": "execute_result",
          "data": {
            "text/plain": [
              "0"
            ]
          },
          "metadata": {},
          "execution_count": 19
        }
      ]
    },
    {
      "cell_type": "code",
      "source": [],
      "metadata": {
        "id": "m2q4nXfG5wvS"
      },
      "execution_count": null,
      "outputs": []
    },
    {
      "cell_type": "markdown",
      "source": [
        "# **Generating class data**"
      ],
      "metadata": {
        "id": "DheFf4qP5zGS"
      }
    },
    {
      "cell_type": "code",
      "source": [
        "pd.options.display.float_format = '{:,.20f}'.format"
      ],
      "metadata": {
        "id": "Bt_rigT36N0a"
      },
      "execution_count": null,
      "outputs": []
    },
    {
      "cell_type": "code",
      "source": [
        "# Generate synthetic data using the trained generator\n",
        "num_samples_to_generate = 95133\n",
        "generated_data = generator(tf.random.normal((num_samples_to_generate, z_dim))).numpy()\n",
        "\n",
        "# Now 'generated_data' contains synthetic data generated by the trained WGAN generator"
      ],
      "metadata": {
        "id": "Ut_lpaAg5yWN"
      },
      "execution_count": null,
      "outputs": []
    },
    {
      "cell_type": "code",
      "source": [
        "dataNorm"
      ],
      "metadata": {
        "colab": {
          "base_uri": "https://localhost:8080/"
        },
        "id": "n2or377E6NIf",
        "outputId": "bd34f35f-5540-4846-8af9-f57baa806400"
      },
      "execution_count": null,
      "outputs": [
        {
          "output_type": "execute_result",
          "data": {
            "text/plain": [
              "array([[0.02558527, 0.32996575, 0.19030948, ..., 0.02062482, 0.31578947,\n",
              "        1.        ],\n",
              "       [0.06335038, 0.5001871 , 0.30441112, ..., 0.00816166, 0.36842105,\n",
              "        1.        ],\n",
              "       [0.14579395, 0.54385727, 0.34168744, ..., 0.00331401, 0.42105263,\n",
              "        1.        ],\n",
              "       ...,\n",
              "       [0.04574787, 0.30069265, 0.15753802, ..., 0.01381204, 0.47368421,\n",
              "        1.        ],\n",
              "       [0.07294093, 0.45167128, 0.2826019 , ..., 0.00703815, 0.31578947,\n",
              "        1.        ],\n",
              "       [0.02424665, 0.52904688, 0.35110589, ..., 0.01732447, 0.26315789,\n",
              "        1.        ]])"
            ]
          },
          "metadata": {},
          "execution_count": 41
        }
      ]
    },
    {
      "cell_type": "code",
      "source": [
        "generated_data"
      ],
      "metadata": {
        "colab": {
          "base_uri": "https://localhost:8080/"
        },
        "id": "flTFp1D26E9Z",
        "outputId": "8a246ba2-081a-44d7-f16d-e02990e92191"
      },
      "execution_count": null,
      "outputs": [
        {
          "output_type": "execute_result",
          "data": {
            "text/plain": [
              "array([[1.        , 1.        , 1.        , ..., 1.        , 1.        ,\n",
              "        0.        ],\n",
              "       [1.        , 1.        , 1.        , ..., 1.        , 1.        ,\n",
              "        0.00000004],\n",
              "       [0.9999989 , 0.9999988 , 0.99999976, ..., 0.9999993 , 0.9999995 ,\n",
              "        0.00000087],\n",
              "       ...,\n",
              "       [1.        , 1.        , 1.        , ..., 1.        , 1.        ,\n",
              "        0.        ],\n",
              "       [0.99999964, 0.9999994 , 0.9999999 , ..., 0.9999999 , 0.9999999 ,\n",
              "        0.00000027],\n",
              "       [1.        , 1.        , 1.        , ..., 1.        , 1.        ,\n",
              "        0.00000005]], dtype=float32)"
            ]
          },
          "metadata": {},
          "execution_count": 42
        }
      ]
    },
    {
      "cell_type": "code",
      "source": [
        "print(dataNorm[0])\n",
        "print(\"=====================\")\n",
        "print(generated_data[0])"
      ],
      "metadata": {
        "colab": {
          "base_uri": "https://localhost:8080/"
        },
        "id": "YyOJ9_g7CzSp",
        "outputId": "11bc8793-5b8b-474d-fe8a-b67c7c332056"
      },
      "execution_count": null,
      "outputs": [
        {
          "output_type": "stream",
          "name": "stdout",
          "text": [
            "[0.02558527 0.32996575 0.19030948 0.         0.         0.43512308\n",
            " 0.0182146  0.0194506  0.         0.37774903 0.6        0.\n",
            " 0.6        0.33333333 0.66589961 0.37667387 0.01779008 0.66589961\n",
            " 0.27272727 0.27272727 0.01821588 0.66666667 0.         0.35700467\n",
            " 0.5        0.24390244 0.0232164  0.27272727 0.         1.\n",
            " 0.         0.01812097 0.02062482 0.31578947 1.        ]\n",
            "=====================\n",
            "[1. 1. 1. 1. 1. 0. 1. 1. 1. 1. 0. 1. 1. 1. 0. 0. 1. 0. 1. 1. 1. 1. 1. 1.\n",
            " 1. 1. 1. 0. 1. 0. 1. 1. 1. 1. 0.]\n"
          ]
        }
      ]
    },
    {
      "cell_type": "markdown",
      "source": [
        "## Valutazione con nparray"
      ],
      "metadata": {
        "id": "_f83dbesB49p"
      }
    },
    {
      "cell_type": "code",
      "source": [
        "mse_value = tf.keras.losses.mean_squared_error(dataNorm, generated_data).numpy()\n",
        "print(f'Mean Squared Error: {mse_value}')\n",
        "\n",
        "#deve essere basso"
      ],
      "metadata": {
        "colab": {
          "base_uri": "https://localhost:8080/"
        },
        "id": "E4dDZEyzZFW_",
        "outputId": "2a261bc7-853e-4746-c077-ee7a1073547b"
      },
      "execution_count": null,
      "outputs": [
        {
          "output_type": "stream",
          "name": "stdout",
          "text": [
            "Mean Squared Error: [0.6657636  0.6548171  0.6436103  ... 0.66545594 0.65297884 0.6643676 ]\n"
          ]
        }
      ]
    },
    {
      "cell_type": "code",
      "source": [
        "from scipy.stats import ks_2samp\n",
        "\n",
        "# Assuming real_data and generated_data are NumPy arrays\n",
        "# Both arrays should have the same number of observations (rows)\n",
        "real_data = dataNorm\n",
        "\n",
        "# Choose the column you want to check\n",
        "# 0 = FlowDuration\n",
        "column_to_check = 0\n",
        "\n",
        "# Perform the KS test for the selected column\n",
        "ks_statistic, ks_p_value = ks_2samp(real_data[:, column_to_check], generated_data[:, column_to_check])\n",
        "\n",
        "# Print the results\n",
        "print(f\"KS Statistic: {ks_statistic}\")\n",
        "print(f\"P-value: {ks_p_value}\")\n",
        "\n",
        "# Interpret the results\n",
        "alpha = 0.01  # significance level\n",
        "if ks_p_value > alpha:\n",
        "    print(\"The distributions are similar (fail to reject the null hypothesis)\")\n",
        "else:\n",
        "    print(\"The distributions are different (reject the null hypothesis)\")\n"
      ],
      "metadata": {
        "colab": {
          "base_uri": "https://localhost:8080/"
        },
        "id": "APET8-0TB4sG",
        "outputId": "0942afb0-32b6-41af-889f-8fa503cbe5f1"
      },
      "execution_count": null,
      "outputs": [
        {
          "output_type": "stream",
          "name": "stdout",
          "text": [
            "KS Statistic: 0.9999474420022495\n",
            "P-value: 0.0\n",
            "The distributions are different (reject the null hypothesis)\n"
          ]
        }
      ]
    },
    {
      "cell_type": "code",
      "source": [
        "# Choose the column you want to compare\n",
        "column_to_compare = 0\n",
        "\n",
        "# Extract the selected column for each array\n",
        "real_column = dataNorm[:, column_to_compare]\n",
        "generated_column = generated_data[:, column_to_compare]\n",
        "\n",
        "# Plot the KDE for both distributions\n",
        "sns.kdeplot(real_column, label='Real Data', fill=True)\n",
        "sns.kdeplot(generated_column, label='Generated Data', fill=True)\n",
        "\n",
        "# Add labels and legend\n",
        "plt.title(f'Comparison of Distributions for Column {column_to_compare}')\n",
        "plt.xlabel(f'Values for Column {column_to_compare}')\n",
        "plt.ylabel('Density')\n",
        "plt.legend()\n",
        "plt.show()\n"
      ],
      "metadata": {
        "colab": {
          "base_uri": "https://localhost:8080/",
          "height": 472
        },
        "id": "IKFhy677F0vF",
        "outputId": "f3aa40ea-b729-46a3-f705-01925df2a135"
      },
      "execution_count": null,
      "outputs": [
        {
          "output_type": "display_data",
          "data": {
            "text/plain": [
              "<Figure size 640x480 with 1 Axes>"
            ],
            "image/png": "[encoded data removed]"
          },
          "metadata": {}
        }
      ]
    },
    {
      "cell_type": "markdown",
      "source": [
        "# Valutazione vecchia con dataframe"
      ],
      "metadata": {
        "id": "_tLF53BC6Iy1"
      }
    },
    {
      "cell_type": "code",
      "source": [
        "metadata = SingleTableMetadata()\n",
        "metadata.detect_from_dataframe(dfDDoS)\n",
        "\n",
        "quality_report = evaluate_quality(\n",
        "    real_data=dfDDoS,\n",
        "    synthetic_data=gen_ddos_samples,\n",
        "    metadata=metadata)"
      ],
      "metadata": {
        "colab": {
          "base_uri": "https://localhost:8080/"
        },
        "id": "zXpT9-tY1P8t",
        "outputId": "0845a995-489d-470d-c1e3-7f4c99fabafb"
      },
      "execution_count": null,
      "outputs": [
        {
          "output_type": "stream",
          "name": "stdout",
          "text": [
            "Generating report ...\n",
            "(1/2) Evaluating Column Shapes: : 100%|██████████| 35/35 [00:00<00:00, 93.60it/s]\n",
            "(2/2) Evaluating Column Pair Trends: : 100%|██████████| 595/595 [00:11<00:00, 49.64it/s]\n",
            "\n",
            "Overall Score: 49.21%\n",
            "\n",
            "Properties:\n",
            "- Column Shapes: 12.51%\n",
            "- Column Pair Trends: 85.92%\n"
          ]
        }
      ]
    },
    {
      "cell_type": "code",
      "source": [
        "diagnostic_report = run_diagnostic(\n",
        "    real_data=dfDDoS,\n",
        "    synthetic_data=gen_ddos_samples,\n",
        "    metadata=metadata)"
      ],
      "metadata": {
        "colab": {
          "base_uri": "https://localhost:8080/"
        },
        "id": "fISicHuOxZMQ",
        "outputId": "b16a790f-9ba8-4aa3-8680-72b34c4ae611"
      },
      "execution_count": null,
      "outputs": [
        {
          "output_type": "stream",
          "name": "stdout",
          "text": [
            "Generating report ...\n",
            "(1/2) Evaluating Data Validity: : 100%|██████████| 35/35 [00:00<00:00, 108.11it/s]\n",
            "(2/2) Evaluating Data Structure: : 100%|██████████| 1/1 [00:00<00:00, 270.41it/s]\n",
            "\n",
            "Overall Score: 67.22%\n",
            "\n",
            "Properties:\n",
            "- Data Validity: 34.44%\n",
            "- Data Structure: 100.0%\n"
          ]
        }
      ]
    },
    {
      "cell_type": "code",
      "source": [
        "fig, ax = plt.subplots(1, 2, figsize=(20, 6))\n",
        "sns.heatmap(dfDDoS.corr(), ax=ax[0], cmap=\"Blues\")\n",
        "sns.heatmap(gen_ddos_samples.corr(), ax=ax[1], cmap=\"Blues\")\n",
        "ax[0].set_title(\"Original Data\")\n",
        "ax[1].set_title(\"synthetic Data\")"
      ],
      "metadata": {
        "colab": {
          "base_uri": "https://localhost:8080/",
          "height": 599
        },
        "id": "kqpgErq41hUw",
        "outputId": "d8aaf372-c2f0-4b20-cfce-e3b8f3ad3162"
      },
      "execution_count": null,
      "outputs": [
        {
          "output_type": "execute_result",
          "data": {
            "text/plain": [
              "Text(0.5, 1.0, 'synthetic Data')"
            ]
          },
          "metadata": {},
          "execution_count": 22
        },
        {
          "output_type": "display_data",
          "data": {
            "text/plain": [
              "<Figure size 2000x600 with 4 Axes>"
            ],
            "image/png": "[encoded data removed]"
          },
          "metadata": {}
        }
      ]
    },
    {
      "cell_type": "code",
      "source": [
        "fig, ax = plt.subplots(1, 2, figsize=(20, 6))\n",
        "ax[0].scatter(dfDDoS.iloc[:, 0], dfDDoS.iloc[:, 1])\n",
        "ax[1].scatter(gen_ddos_samples.iloc[:, 0], gen_ddos_samples.iloc[:, 1])\n",
        "ax[0].set_title(\"Original Data\")\n",
        "ax[1].set_title(\"synthetic Data\")"
      ],
      "metadata": {
        "colab": {
          "base_uri": "https://localhost:8080/",
          "height": 500
        },
        "id": "EWmfgA0rcgv9",
        "outputId": "761b153d-8d83-4066-9566-7ca5ce26c3f6"
      },
      "execution_count": null,
      "outputs": [
        {
          "output_type": "execute_result",
          "data": {
            "text/plain": [
              "Text(0.5, 1.0, 'synthetic Data')"
            ]
          },
          "metadata": {},
          "execution_count": 23
        },
        {
          "output_type": "display_data",
          "data": {
            "text/plain": [
              "<Figure size 2000x600 with 2 Axes>"
            ],
            "image/png": "[encoded data removed]"
          },
          "metadata": {}
        }
      ]
    },
    {
      "cell_type": "code",
      "source": [
        "#Two Sample Kolmogorov-Smirnov Test\n",
        "\n",
        "from numpy.random import seed\n",
        "\n",
        "#set seed (e.g. make this example reproducible)\n",
        "seed(0)\n",
        "\n",
        "from scipy.stats.mstats import ks_2samp\n",
        "\n",
        "#perform Kolmogorov-Smirnov test\n",
        "print(ks_2samp(dfDDoS.FlowDuration, gen_ddos_samples.FlowDuration))\n",
        "print(\"\\n\")\n",
        "print(\"=================================================================================================\")\n",
        "print(\"\\n\")\n",
        "\n",
        "#plot distribuzione\n",
        "sns.kdeplot(dfDDoS['FlowDuration']).set(title='Distribuzioni tra dataset pre-processato e generato dalla WGAN')\n",
        "sns.kdeplot(gen_ddos_samples['FlowDuration'])\n",
        "plt.legend(title='Legend:', loc='upper center', labels=['Real', 'Generated'])\n"
      ],
      "metadata": {
        "id": "d9UDLbLHDw6a",
        "colab": {
          "base_uri": "https://localhost:8080/",
          "height": 593
        },
        "outputId": "491bcdf1-ecac-42da-8e36-3b9cb25560a2"
      },
      "execution_count": null,
      "outputs": [
        {
          "output_type": "stream",
          "name": "stdout",
          "text": [
            "KstestResult(statistic=0.9991380488368915, pvalue=0.0, statistic_location=0.2823273820581846, statistic_sign=1)\n",
            "\n",
            "\n",
            "=================================================================================================\n",
            "\n",
            "\n"
          ]
        },
        {
          "output_type": "execute_result",
          "data": {
            "text/plain": [
              "<matplotlib.legend.Legend at 0x7b3cec63cf70>"
            ]
          },
          "metadata": {},
          "execution_count": 24
        },
        {
          "output_type": "display_data",
          "data": {
            "text/plain": [
              "<Figure size 640x480 with 1 Axes>"
            ],
            "image/png": "[encoded data removed]"
          },
          "metadata": {}
        }
      ]
    },
    {
      "cell_type": "code",
      "source": [
        "#perform Kolmogorov-Smirnov test\n",
        "print(ks_2samp(dfDDoS.FWDInitWinBytes, gen_ddos_samples.FWDInitWinBytes))\n",
        "print(\"=================================================================================================\")\n",
        "#plot distribuzione\n",
        "sns.kdeplot(dfDDoS['FWDInitWinBytes']).set(title='Distribuzioni tra dataset pre-processato e generato dalla WGAN')\n",
        "sns.kdeplot(gen_ddos_samples['FWDInitWinBytes'])\n",
        "plt.legend(title='Legend:', loc='upper center', labels=['Real', 'Generated'])"
      ],
      "metadata": {
        "colab": {
          "base_uri": "https://localhost:8080/",
          "height": 524
        },
        "id": "iOnzDx00QhDk",
        "outputId": "6794b046-7e5f-4fc6-b5e1-e98825e2ef3c"
      },
      "execution_count": null,
      "outputs": [
        {
          "output_type": "stream",
          "name": "stdout",
          "text": [
            "KstestResult(statistic=1.0, pvalue=0.0, statistic_location=0.1250019073777371, statistic_sign=1)\n",
            "=================================================================================================\n"
          ]
        },
        {
          "output_type": "execute_result",
          "data": {
            "text/plain": [
              "<matplotlib.legend.Legend at 0x7b3cfdc5fd60>"
            ]
          },
          "metadata": {},
          "execution_count": 25
        },
        {
          "output_type": "display_data",
          "data": {
            "text/plain": [
              "<Figure size 640x480 with 1 Axes>"
            ],
            "image/png": "[encoded data removed]"
          },
          "metadata": {}
        }
      ]
    }
  ]
}