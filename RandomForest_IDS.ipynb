{
  "cells": [
    {
      "cell_type": "markdown",
      "metadata": {
        "id": "view-in-github",
        "colab_type": "text"
      },
      "source": [
        "<a href=\"https://colab.research.google.com/github/GiuliaFContardi/FL_IDS-GAN/blob/main/RandomForest_IDS.ipynb\" target=\"_parent\"><img src=\"https://colab.research.google.com/assets/colab-badge.svg\" alt=\"Open In Colab\"/></a>"
      ]
    },
    {
      "cell_type": "markdown",
      "metadata": {
        "id": "gfjxR9812adx"
      },
      "source": [
        "#### Import"
      ]
    },
    {
      "cell_type": "code",
      "execution_count": null,
      "metadata": {
        "id": "Bh9iLBocUHxz"
      },
      "outputs": [],
      "source": [
        "import pandas as pd\n",
        "import keras\n",
        "import numpy as np\n",
        "import matplotlib.pyplot as plt"
      ]
    },
    {
      "cell_type": "code",
      "execution_count": null,
      "metadata": {
        "colab": {
          "base_uri": "https://localhost:8080/"
        },
        "id": "cO4_xPFYVNK0",
        "outputId": "3ee39502-eb69-4365-f939-5ab96d70bd27"
      },
      "outputs": [
        {
          "output_type": "stream",
          "name": "stdout",
          "text": [
            "Mounted at /content/drive\n"
          ]
        }
      ],
      "source": [
        "# data is stored in google drive folder so import drive to notebook\n",
        "from google.colab import drive\n",
        "drive.mount('/content/drive')"
      ]
    },
    {
      "cell_type": "markdown",
      "metadata": {
        "id": "FEDiBnEFOMC1"
      },
      "source": [
        "##GEN DATASET (valutazione GAN)"
      ]
    },
    {
      "cell_type": "markdown",
      "source": [
        "#### Classi maggiori"
      ],
      "metadata": {
        "id": "mgcTHX1-w7uR"
      }
    },
    {
      "cell_type": "code",
      "source": [
        "#Aggiungere labels e solo dopo unire tutti i gen\n",
        "dfBenign = pd.read_csv('/content/drive/My Drive/Colab Notebooks/progettoTesi/Dataset2017/GANgen/Valutazione/tentativo3/setHBase/genBenign.csv')\n",
        "dfPortscan = pd.read_csv('/content/drive/My Drive/Colab Notebooks/progettoTesi/Dataset2017/GANgen/Valutazione/tentativo3/setHBase/genPortscan.csv')\n",
        "dfDoS = pd.read_csv('/content/drive/My Drive/Colab Notebooks/progettoTesi/Dataset2017/GANgen/Valutazione/tentativo3/setHBase/genDoS.csv')\n",
        "dfDDoS = pd.read_csv('/content/drive/My Drive/Colab Notebooks/progettoTesi/Dataset2017/GANgen/Valutazione/tentativo3/setHBase/genDDoS.csv')"
      ],
      "metadata": {
        "id": "SdQ07ZVjSYWR"
      },
      "execution_count": null,
      "outputs": []
    },
    {
      "cell_type": "markdown",
      "source": [
        "#### CSV classi minori con valori minimi"
      ],
      "metadata": {
        "id": "VF6EUAWzSKD9"
      }
    },
    {
      "cell_type": "code",
      "execution_count": null,
      "metadata": {
        "id": "M6xdJMDbOVwh"
      },
      "outputs": [],
      "source": [
        "dfBruteforce = pd.read_csv('/content/drive/My Drive/Colab Notebooks/progettoTesi/Dataset2017/GANgen/Valutazione/tentativo3/setHBase/Bruteforce/genBruteforce_pochiNuovi.csv')\n",
        "dfBotnet = pd.read_csv('/content/drive/My Drive/Colab Notebooks/progettoTesi/Dataset2017/GANgen/Valutazione/tentativo3/setHBase/Botnet/genBotnet_pochiNuovi.csv')"
      ]
    },
    {
      "cell_type": "markdown",
      "source": [
        "#### CSV con 10000 samples x classi minori"
      ],
      "metadata": {
        "id": "bXSp0_t4SOq3"
      }
    },
    {
      "cell_type": "code",
      "source": [
        "dfBruteforce = pd.read_csv('/content/drive/My Drive/Colab Notebooks/progettoTesi/Dataset2017/GANgen/Valutazione/tentativo3/setHBase/Bruteforce/genBruteforce_10000.csv')\n",
        "dfBotnet = pd.read_csv('/content/drive/My Drive/Colab Notebooks/progettoTesi/Dataset2017/GANgen/Valutazione/tentativo3/setHBase/Botnet/genBotnet_10000.csv')"
      ],
      "metadata": {
        "id": "ReYSAvSBSUhF"
      },
      "execution_count": null,
      "outputs": []
    },
    {
      "cell_type": "markdown",
      "source": [
        "#### Resto...TUTTE CLASSI"
      ],
      "metadata": {
        "id": "1ZuxgDF1SS24"
      }
    },
    {
      "cell_type": "code",
      "execution_count": null,
      "metadata": {
        "id": "Zs0qzJJyPE9O"
      },
      "outputs": [],
      "source": [
        "#rows_to_drop = range(2000)\n",
        "#df_dropped_Botnet = dfBotnet.drop(rows_to_drop)\n",
        "\n",
        "# Display the DataFrame after dropping rows\n",
        "#print(df_dropped_Botnet.shape)\n",
        "\n",
        "#dfBotnet=df_dropped_Botnet"
      ]
    },
    {
      "cell_type": "code",
      "execution_count": null,
      "metadata": {
        "id": "4OcLQv0TOX9z"
      },
      "outputs": [],
      "source": [
        "dfBenign['L_BENIGN'] = 1\n",
        "dfPortscan['L_Infiltration_Portscan'] = 1\n",
        "dfDoS['L_DoS'] = 1\n",
        "dfDDoS['L_DDoS'] = 1\n",
        "dfBruteforce['L_BruteForce'] = 1\n",
        "dfBotnet['L_Botnet'] = 1\n",
        "\n",
        "dfBenign['L_Infiltration_Portscan'] = 0\n",
        "dfBenign['L_DoS'] = 0\n",
        "dfBenign['L_DDoS'] = 0\n",
        "dfBenign['L_BruteForce'] = 0\n",
        "dfBenign['L_Botnet'] = 0\n",
        "\n",
        "dfPortscan['L_BENIGN'] = 0\n",
        "dfPortscan['L_DoS'] = 0\n",
        "dfPortscan['L_DDoS'] = 0\n",
        "dfPortscan['L_BruteForce'] = 0\n",
        "dfPortscan['L_Botnet'] = 0\n",
        "\n",
        "dfDoS['L_BENIGN'] = 0\n",
        "dfDoS['L_Infiltration_Portscan'] = 0\n",
        "dfDoS['L_DDoS'] = 0\n",
        "dfDoS['L_BruteForce'] = 0\n",
        "dfDoS['L_Botnet'] = 0\n",
        "\n",
        "dfDDoS['L_BENIGN'] = 0\n",
        "dfDDoS['L_Infiltration_Portscan'] = 0\n",
        "dfDDoS['L_DoS'] = 0\n",
        "dfDDoS['L_BruteForce'] = 0\n",
        "dfDDoS['L_Botnet'] = 0\n",
        "\n",
        "dfBruteforce['L_BENIGN'] = 0\n",
        "dfBruteforce['L_Infiltration_Portscan'] = 0\n",
        "dfBruteforce['L_DoS'] = 0\n",
        "dfBruteforce['L_DDoS'] = 0\n",
        "dfBruteforce['L_Botnet'] = 0\n",
        "\n",
        "dfBotnet['L_BENIGN'] = 0\n",
        "dfBotnet['L_Infiltration_Portscan'] = 0\n",
        "dfBotnet['L_DoS'] = 0\n",
        "dfBotnet['L_DDoS'] = 0\n",
        "dfBotnet['L_BruteForce'] = 0"
      ]
    },
    {
      "cell_type": "code",
      "execution_count": null,
      "metadata": {
        "id": "_ikGsF5LOZmQ"
      },
      "outputs": [],
      "source": [
        "merged_df = pd.concat([dfBenign, dfPortscan, dfDoS, dfDDoS, dfBruteforce, dfBotnet], axis=0, ignore_index=True)"
      ]
    },
    {
      "cell_type": "code",
      "execution_count": null,
      "metadata": {
        "id": "Ueua4SNfPgbq",
        "colab": {
          "base_uri": "https://localhost:8080/"
        },
        "outputId": "c99b150e-1e44-4b39-a4e2-4adb6b568bb4"
      },
      "outputs": [
        {
          "output_type": "execute_result",
          "data": {
            "text/plain": [
              "(1469838, 41)"
            ]
          },
          "metadata": {},
          "execution_count": 8
        }
      ],
      "source": [
        "merged_df.shape"
      ]
    },
    {
      "cell_type": "code",
      "execution_count": null,
      "metadata": {
        "id": "EDfySyufOd9z"
      },
      "outputs": [],
      "source": [
        "col_labels = ['L_BENIGN', 'L_Infiltration_Portscan', 'L_DoS', 'L_DDoS', 'L_BruteForce', 'L_Botnet']\n",
        "y_train = merged_df[['L_BENIGN','L_Infiltration_Portscan','L_DDoS','L_DoS','L_BruteForce','L_Botnet']]\n",
        "X_train = merged_df.drop(columns=col_labels)"
      ]
    },
    {
      "cell_type": "code",
      "execution_count": null,
      "metadata": {
        "id": "ddwe8mOHOn7i",
        "colab": {
          "base_uri": "https://localhost:8080/"
        },
        "outputId": "a8aea2ec-0ade-407a-ae75-fb19c1526e63"
      },
      "outputs": [
        {
          "output_type": "stream",
          "name": "stdout",
          "text": [
            "Samples per classe GEN\n",
            "1116095\n",
            "161597\n",
            "120134\n",
            "66593\n",
            "4904\n",
            "515\n"
          ]
        }
      ],
      "source": [
        "print(\"Samples per classe GEN\")\n",
        "print((merged_df['L_BENIGN']==1).values.sum())\n",
        "print((merged_df['L_Infiltration_Portscan']==1).values.sum())\n",
        "print((merged_df['L_DoS']==1).values.sum())\n",
        "print((merged_df['L_DDoS']==1).values.sum())\n",
        "print((merged_df['L_BruteForce']==1).values.sum())\n",
        "print((merged_df['L_Botnet']==1).values.sum())"
      ]
    },
    {
      "cell_type": "code",
      "execution_count": null,
      "metadata": {
        "id": "8DlW8SENQBKf",
        "colab": {
          "base_uri": "https://localhost:8080/"
        },
        "outputId": "1c70831f-9efa-42b1-ae84-311d08a3918e"
      },
      "outputs": [
        {
          "output_type": "execute_result",
          "data": {
            "text/plain": [
              "(1469838, 35)"
            ]
          },
          "metadata": {},
          "execution_count": 11
        }
      ],
      "source": [
        "X_train.shape"
      ]
    },
    {
      "cell_type": "code",
      "source": [
        "merged_df_final = merged_df\n",
        "from sklearn.utils import shuffle\n",
        "merged_df_final = shuffle(merged_df_final).reset_index()\n",
        "merged_df_final = merged_df_final.drop(\"index\", axis=1) #elimino colonna indice creata dal reset_index"
      ],
      "metadata": {
        "id": "hrbitEpZW-Rb"
      },
      "execution_count": null,
      "outputs": []
    },
    {
      "cell_type": "code",
      "source": [
        "merged_df_final.shape"
      ],
      "metadata": {
        "colab": {
          "base_uri": "https://localhost:8080/"
        },
        "id": "MoDLnC2uXbRb",
        "outputId": "1cc37da0-434e-47c5-9447-6146da994e92"
      },
      "execution_count": null,
      "outputs": [
        {
          "output_type": "execute_result",
          "data": {
            "text/plain": [
              "(1469838, 41)"
            ]
          },
          "metadata": {},
          "execution_count": 13
        }
      ]
    },
    {
      "cell_type": "markdown",
      "source": [
        "#### Resto...SOLO CLASSI MINORI"
      ],
      "metadata": {
        "id": "irbMhqRKu_aq"
      }
    },
    {
      "cell_type": "code",
      "source": [
        "dfBruteforce['L_BruteForce'] = 1\n",
        "dfBotnet['L_Botnet'] = 1\n",
        "\n",
        "dfBruteforce['L_BENIGN'] = 0\n",
        "dfBruteforce['L_Infiltration_Portscan'] = 0\n",
        "dfBruteforce['L_DoS'] = 0\n",
        "dfBruteforce['L_DDoS'] = 0\n",
        "dfBruteforce['L_Botnet'] = 0\n",
        "\n",
        "dfBotnet['L_BENIGN'] = 0\n",
        "dfBotnet['L_Infiltration_Portscan'] = 0\n",
        "dfBotnet['L_DoS'] = 0\n",
        "dfBotnet['L_DDoS'] = 0\n",
        "dfBotnet['L_BruteForce'] = 0"
      ],
      "metadata": {
        "id": "NDP1UyQ8vC9A"
      },
      "execution_count": null,
      "outputs": []
    },
    {
      "cell_type": "code",
      "source": [
        "merged_df = pd.concat([dfBruteforce, dfBotnet], axis=0, ignore_index=True)\n",
        "merged_df.shape"
      ],
      "metadata": {
        "colab": {
          "base_uri": "https://localhost:8080/"
        },
        "id": "_03-eT3NvK7j",
        "outputId": "6565cd7a-72e2-4830-dbb1-1951de5761c8"
      },
      "execution_count": null,
      "outputs": [
        {
          "output_type": "execute_result",
          "data": {
            "text/plain": [
              "(20000, 41)"
            ]
          },
          "metadata": {},
          "execution_count": 5
        }
      ]
    },
    {
      "cell_type": "code",
      "source": [
        "col_labels = ['L_BENIGN', 'L_Infiltration_Portscan', 'L_DoS', 'L_DDoS', 'L_BruteForce', 'L_Botnet']\n",
        "y_train = merged_df[['L_BENIGN','L_Infiltration_Portscan','L_DDoS','L_DoS','L_BruteForce','L_Botnet']]\n",
        "X_train = merged_df.drop(columns=col_labels)\n",
        "X_train.shape"
      ],
      "metadata": {
        "colab": {
          "base_uri": "https://localhost:8080/"
        },
        "id": "5MbrX5hcvWk9",
        "outputId": "49d5fbd6-7445-409d-bbbd-39ff3583bf8c"
      },
      "execution_count": null,
      "outputs": [
        {
          "output_type": "execute_result",
          "data": {
            "text/plain": [
              "(20000, 35)"
            ]
          },
          "metadata": {},
          "execution_count": 6
        }
      ]
    },
    {
      "cell_type": "code",
      "source": [
        "print(\"Samples per classe GEN\")\n",
        "print((merged_df['L_BENIGN']==1).values.sum())\n",
        "print((merged_df['L_Infiltration_Portscan']==1).values.sum())\n",
        "print((merged_df['L_DoS']==1).values.sum())\n",
        "print((merged_df['L_DDoS']==1).values.sum())\n",
        "print((merged_df['L_BruteForce']==1).values.sum())\n",
        "print((merged_df['L_Botnet']==1).values.sum())"
      ],
      "metadata": {
        "colab": {
          "base_uri": "https://localhost:8080/"
        },
        "id": "CBAXgQ_CvcJZ",
        "outputId": "a5487260-3c84-4eb6-f042-3c9fe34f826b"
      },
      "execution_count": null,
      "outputs": [
        {
          "output_type": "stream",
          "name": "stdout",
          "text": [
            "Samples per classe GEN\n",
            "0\n",
            "0\n",
            "0\n",
            "0\n",
            "10000\n",
            "10000\n"
          ]
        }
      ]
    },
    {
      "cell_type": "code",
      "source": [
        "merged_df_final = merged_df\n",
        "from sklearn.utils import shuffle\n",
        "merged_df_final = shuffle(merged_df_final).reset_index()\n",
        "merged_df_final = merged_df_final.drop(\"index\", axis=1) #elimino colonna indice creata dal reset_index"
      ],
      "metadata": {
        "id": "1AUp81HGvnmC"
      },
      "execution_count": null,
      "outputs": []
    },
    {
      "cell_type": "markdown",
      "metadata": {
        "id": "LiZQNPinxSuH"
      },
      "source": [
        "##REAL+GEN DATASET - DATA AUGMENTATION"
      ]
    },
    {
      "cell_type": "code",
      "execution_count": null,
      "metadata": {
        "id": "yeLixKadN4Um",
        "colab": {
          "base_uri": "https://localhost:8080/"
        },
        "outputId": "f2999588-293f-4db9-c7a9-85283346bd65"
      },
      "outputs": [
        {
          "output_type": "stream",
          "name": "stdout",
          "text": [
            "(1469838, 35)\n",
            "(1469838, 6)\n"
          ]
        }
      ],
      "source": [
        "X_train = pd.read_csv('/content/drive/My Drive/Colab Notebooks/progettoTesi/Dataset2017/improved/Pre-processed_versions/terzoPreprocessing/X_train_35.csv')\n",
        "y_train = pd.read_csv('/content/drive/My Drive/Colab Notebooks/progettoTesi/Dataset2017/improved/Pre-processed_versions/terzoPreprocessing/y_train_35.csv')\n",
        "\n",
        "print(X_train.shape)\n",
        "print(y_train.shape)"
      ]
    },
    {
      "cell_type": "code",
      "execution_count": null,
      "metadata": {
        "id": "ICK1-YwuiWag"
      },
      "outputs": [],
      "source": [
        "dfReal = pd.concat([X_train, y_train], axis=1)"
      ]
    },
    {
      "cell_type": "code",
      "execution_count": null,
      "metadata": {
        "id": "j4EHxGd5ONKW",
        "colab": {
          "base_uri": "https://localhost:8080/"
        },
        "outputId": "79f07728-97fb-44f1-836c-3541cc781e1e"
      },
      "outputs": [
        {
          "output_type": "execute_result",
          "data": {
            "text/plain": [
              "(1469838, 41)"
            ]
          },
          "metadata": {},
          "execution_count": 11
        }
      ],
      "source": [
        "dfReal.shape"
      ]
    },
    {
      "cell_type": "code",
      "execution_count": null,
      "metadata": {
        "id": "ojZKUcC-jnUa",
        "colab": {
          "base_uri": "https://localhost:8080/"
        },
        "outputId": "e189c45c-1b2c-4182-e291-fb883afc7f57"
      },
      "outputs": [
        {
          "output_type": "stream",
          "name": "stdout",
          "text": [
            "(1469838, 41)\n",
            "(20000, 41)\n"
          ]
        }
      ],
      "source": [
        "print(dfReal.shape)\n",
        "print(merged_df_final.shape)"
      ]
    },
    {
      "cell_type": "code",
      "execution_count": null,
      "metadata": {
        "id": "n4Bh78Z3jveO",
        "colab": {
          "base_uri": "https://localhost:8080/"
        },
        "outputId": "ac1bd4b2-e739-4c16-dd83-b1852ea2e806"
      },
      "outputs": [
        {
          "output_type": "stream",
          "name": "stdout",
          "text": [
            "(1489838, 41)\n"
          ]
        }
      ],
      "source": [
        "merged_df_complete = pd.concat([dfReal, merged_df_final], axis=0, ignore_index=True)\n",
        "print(merged_df_complete.shape)"
      ]
    },
    {
      "cell_type": "code",
      "source": [
        "merged_df_complete = shuffle(merged_df_complete).reset_index()\n",
        "merged_df_complete = merged_df_complete.drop(\"index\", axis=1) #elimino colonna indice creata dal reset_index"
      ],
      "metadata": {
        "id": "bKVYzsGFYODZ"
      },
      "execution_count": null,
      "outputs": []
    },
    {
      "cell_type": "code",
      "execution_count": null,
      "metadata": {
        "id": "dz_Lo_OVcIUR"
      },
      "outputs": [],
      "source": [
        "col_labels = ['L_BENIGN', 'L_Infiltration_Portscan', 'L_DoS', 'L_DDoS', 'L_BruteForce', 'L_Botnet']\n",
        "y_train = merged_df_complete[['L_BENIGN','L_Infiltration_Portscan','L_DDoS','L_DoS','L_BruteForce','L_Botnet']]\n",
        "X_train = merged_df_complete.drop(columns=col_labels)"
      ]
    },
    {
      "cell_type": "code",
      "execution_count": null,
      "metadata": {
        "id": "ZKBcA21WqshR",
        "colab": {
          "base_uri": "https://localhost:8080/"
        },
        "outputId": "b0370e93-dc6e-4fce-8f4d-48ae35332817"
      },
      "outputs": [
        {
          "output_type": "stream",
          "name": "stdout",
          "text": [
            "Samples per classe X_TRAIN\n",
            "1116095\n",
            "161597\n",
            "120134\n",
            "66593\n",
            "4904\n",
            "515\n",
            "====================================\n",
            "Samples per classe GEN\n",
            "0\n",
            "0\n",
            "0\n",
            "0\n",
            "10000\n",
            "10000\n",
            "====================================\n",
            "Samples per classe X_TRAIN+GEN\n",
            "1116095\n",
            "161597\n",
            "120134\n",
            "66593\n",
            "14904\n",
            "10515\n"
          ]
        }
      ],
      "source": [
        "print(\"Samples per classe X_TRAIN\")\n",
        "print((dfReal['L_BENIGN']==1).values.sum())\n",
        "print((dfReal['L_Infiltration_Portscan']==1).values.sum())\n",
        "print((dfReal['L_DoS']==1).values.sum())\n",
        "print((dfReal['L_DDoS']==1).values.sum())\n",
        "print((dfReal['L_BruteForce']==1).values.sum())\n",
        "print((dfReal['L_Botnet']==1).values.sum())\n",
        "print(\"====================================\")\n",
        "print(\"Samples per classe GEN\")\n",
        "print((merged_df_final['L_BENIGN']==1).values.sum())\n",
        "print((merged_df_final['L_Infiltration_Portscan']==1).values.sum())\n",
        "print((merged_df_final['L_DoS']==1).values.sum())\n",
        "print((merged_df_final['L_DDoS']==1).values.sum())\n",
        "print((merged_df_final['L_BruteForce']==1).values.sum())\n",
        "print((merged_df_final['L_Botnet']==1).values.sum())\n",
        "print(\"====================================\")\n",
        "print(\"Samples per classe X_TRAIN+GEN\")\n",
        "print((merged_df_complete['L_BENIGN']==1).values.sum())\n",
        "print((merged_df_complete['L_Infiltration_Portscan']==1).values.sum())\n",
        "print((merged_df_complete['L_DoS']==1).values.sum())\n",
        "print((merged_df_complete['L_DDoS']==1).values.sum())\n",
        "print((merged_df_complete['L_BruteForce']==1).values.sum())\n",
        "print((merged_df_complete['L_Botnet']==1).values.sum())"
      ]
    },
    {
      "cell_type": "code",
      "source": [
        "X_train.shape"
      ],
      "metadata": {
        "colab": {
          "base_uri": "https://localhost:8080/"
        },
        "id": "XdFPD_TVZLJq",
        "outputId": "a3db7f22-251f-472c-f6b7-2b8e36721f3c"
      },
      "execution_count": null,
      "outputs": [
        {
          "output_type": "execute_result",
          "data": {
            "text/plain": [
              "(1489838, 35)"
            ]
          },
          "metadata": {},
          "execution_count": 17
        }
      ]
    },
    {
      "cell_type": "code",
      "source": [
        "y_train.shape"
      ],
      "metadata": {
        "colab": {
          "base_uri": "https://localhost:8080/"
        },
        "id": "4BKbBL3LZMTS",
        "outputId": "0491bf51-5ac9-401a-fab8-25d1f131cd02"
      },
      "execution_count": null,
      "outputs": [
        {
          "output_type": "execute_result",
          "data": {
            "text/plain": [
              "(1489838, 6)"
            ]
          },
          "metadata": {},
          "execution_count": 18
        }
      ]
    },
    {
      "cell_type": "markdown",
      "metadata": {
        "id": "gw-4nT-pwI-x"
      },
      "source": [
        "## REAL DATASET"
      ]
    },
    {
      "cell_type": "code",
      "execution_count": null,
      "metadata": {
        "colab": {
          "base_uri": "https://localhost:8080/"
        },
        "id": "ljAzWFEEDKTF",
        "outputId": "49ff0ad0-c11a-4c08-9672-0e75f4951656"
      },
      "outputs": [
        {
          "output_type": "stream",
          "name": "stdout",
          "text": [
            "(1469838, 35)\n",
            "(1469838, 6)\n"
          ]
        }
      ],
      "source": [
        "X_train = pd.read_csv('/content/drive/My Drive/Colab Notebooks/progettoTesi/Dataset2017/improved/Pre-processed_versions/terzoPreprocessing/X_train_35.csv')\n",
        "y_train = pd.read_csv('/content/drive/My Drive/Colab Notebooks/progettoTesi/Dataset2017/improved/Pre-processed_versions/terzoPreprocessing/y_train_35.csv')\n",
        "\n",
        "print(X_train.shape)\n",
        "print(y_train.shape)"
      ]
    },
    {
      "cell_type": "code",
      "source": [
        "#result = pd.concat([X_train, y_train], axis=1)\n",
        "#result.shape\n",
        "#result['L_BENIGN'].value_counts()"
      ],
      "metadata": {
        "id": "7VK7QR75P5oP"
      },
      "execution_count": null,
      "outputs": []
    },
    {
      "cell_type": "markdown",
      "source": [
        "```\n",
        "(1469838, 41)\n",
        "\n",
        "BENIGN                   1116095\n",
        "Infiltration_Portscan     161597\n",
        "DoS                       120134\n",
        "DDoS                       66593\n",
        "BruteForce                  4904\n",
        "Botnet                       515\n",
        "```"
      ],
      "metadata": {
        "id": "JRe37iCjQllL"
      }
    },
    {
      "cell_type": "markdown",
      "metadata": {
        "id": "5cM4eNzTNvJd"
      },
      "source": [
        "## TEST DATASET"
      ]
    },
    {
      "cell_type": "code",
      "execution_count": null,
      "metadata": {
        "colab": {
          "base_uri": "https://localhost:8080/"
        },
        "id": "n98kgbBjl6tE",
        "outputId": "cc7f9251-b45e-4b20-ad55-e98fe9c45b92"
      },
      "outputs": [
        {
          "output_type": "stream",
          "name": "stdout",
          "text": [
            "(629931, 35)\n",
            "(629931, 6)\n"
          ]
        }
      ],
      "source": [
        "X_test = pd.read_csv('/content/drive/My Drive/Colab Notebooks/progettoTesi/Dataset2017/improved/Pre-processed_versions/terzoPreprocessing/X_test_35.csv')\n",
        "y_test = pd.read_csv('/content/drive/My Drive/Colab Notebooks/progettoTesi/Dataset2017/improved/Pre-processed_versions/terzoPreprocessing/y_test_35.csv')\n",
        "\n",
        "print(X_test.shape)\n",
        "print(y_test.shape)"
      ]
    },
    {
      "cell_type": "code",
      "source": [
        "#df_test = pd.concat([X_test, y_test], axis=1)"
      ],
      "metadata": {
        "id": "FVm3hGkCPFX3"
      },
      "execution_count": null,
      "outputs": []
    },
    {
      "cell_type": "markdown",
      "source": [
        "```\n",
        "(629931, 41)\n",
        "\n",
        "BENIGN                    478327\n",
        "Infiltration_Portscan      69256\n",
        "DoS                        51486\n",
        "DDoS                       28540\n",
        "BruteForce                  2101\n",
        "Botnet                       221\n",
        "```"
      ],
      "metadata": {
        "id": "kCsXtX6URfbc"
      }
    },
    {
      "cell_type": "markdown",
      "metadata": {
        "id": "l5A8Y2rD8WkZ"
      },
      "source": [
        "## preparo array"
      ]
    },
    {
      "cell_type": "code",
      "execution_count": null,
      "metadata": {
        "id": "kqUigR_EyBaZ"
      },
      "outputs": [],
      "source": [
        "X_train = X_train.to_numpy()\n",
        "y_train = y_train.to_numpy()\n",
        "X_test = X_test.to_numpy()\n",
        "y_test = y_test.to_numpy()"
      ]
    },
    {
      "cell_type": "code",
      "execution_count": null,
      "metadata": {
        "colab": {
          "base_uri": "https://localhost:8080/"
        },
        "id": "9-9U_c5o5tHP",
        "outputId": "e163589c-fc0a-497d-b8df-9c637c279c35"
      },
      "outputs": [
        {
          "output_type": "execute_result",
          "data": {
            "text/plain": [
              "((1489838, 35), (1489838, 6), (629931, 35), (629931, 6))"
            ]
          },
          "metadata": {},
          "execution_count": 22
        }
      ],
      "source": [
        "X_train.shape, y_train.shape, X_test.shape, y_test.shape"
      ]
    },
    {
      "cell_type": "markdown",
      "metadata": {
        "id": "zGsQnxJnO0Uc"
      },
      "source": [
        "# **Architettura IDS**"
      ]
    },
    {
      "cell_type": "markdown",
      "source": [
        "\n",
        "\n",
        "> https://github.com/noushinpervez/Intrusion-Detection-CIC-IDS2017/blob/main/Intrusion-Detection-CIC-IDS2017.ipynb\n",
        "\n"
      ],
      "metadata": {
        "id": "t5Hq_HNx6dUd"
      }
    },
    {
      "cell_type": "markdown",
      "source": [
        "**Random Forest Classifier**\n",
        "\n",
        "Random Forest is an ensemble learning method that combines multiple decision trees to improve the accuracy and generalization performance of the model. The basic idea behind random forests is to fit multiple decision trees on random subsets of the training data and average their predictions to reduce overfitting and improve generalization performance.\n",
        "\n",
        "***Parameters:***\n",
        "\n",
        "*n_estimators:* This parameter specifies the number of decision trees to fit in the random forest.\n",
        "\n",
        "*max_depth:* This parameter specifies the maximum depth of each decision tree in the random forest. A deeper tree can capture more complex interactions in the data. In our case, this parameter played a major role getting better results.\n",
        "\n",
        "*max_features:* This parameter specifies the number of features to consider when looking for the best split in each tree. We trained the first model taking all the features into account and for the second one, we used only 20 features.\n",
        "\n",
        "*random_state:* As mentioned earliar, this is to ensure that the output is deterministic and can be reproduced."
      ],
      "metadata": {
        "id": "oX6FDlcA3V2f"
      }
    },
    {
      "cell_type": "markdown",
      "source": [
        "#### RFC"
      ],
      "metadata": {
        "id": "z4WGyhYF_CQO"
      }
    },
    {
      "cell_type": "code",
      "source": [
        "from sklearn.ensemble import RandomForestClassifier"
      ],
      "metadata": {
        "id": "-wDAfTkqPMcN"
      },
      "execution_count": null,
      "outputs": []
    },
    {
      "cell_type": "code",
      "source": [
        "#CIT BULAVAS Tables 15\n",
        "rf3 = RandomForestClassifier(criterion='entropy', class_weight='balanced', n_estimators = 120, max_depth = 15, max_features = 0.5, min_samples_leaf=7, random_state = 0)\n",
        "rf3.fit(X_train, y_train)"
      ],
      "metadata": {
        "colab": {
          "base_uri": "https://localhost:8080/"
        },
        "id": "Rzyg7H47UfLP",
        "outputId": "5b94dbb4-6def-4e34-8ffc-05c0dc3290a0"
      },
      "execution_count": null,
      "outputs": [
        {
          "output_type": "execute_result",
          "data": {
            "text/plain": [
              "RandomForestClassifier(class_weight='balanced', criterion='entropy',\n",
              "                       max_depth=15, max_features=0.5, min_samples_leaf=7,\n",
              "                       n_estimators=120, random_state=0)"
            ],
            "text/html": [
              "<style>#sk-container-id-1 {color: black;background-color: white;}#sk-container-id-1 pre{padding: 0;}#sk-container-id-1 div.sk-toggleable {background-color: white;}#sk-container-id-1 label.sk-toggleable__label {cursor: pointer;display: block;width: 100%;margin-bottom: 0;padding: 0.3em;box-sizing: border-box;text-align: center;}#sk-container-id-1 label.sk-toggleable__label-arrow:before {content: \"▸\";float: left;margin-right: 0.25em;color: #696969;}#sk-container-id-1 label.sk-toggleable__label-arrow:hover:before {color: black;}#sk-container-id-1 div.sk-estimator:hover label.sk-toggleable__label-arrow:before {color: black;}#sk-container-id-1 div.sk-toggleable__content {max-height: 0;max-width: 0;overflow: hidden;text-align: left;background-color: #f0f8ff;}#sk-container-id-1 div.sk-toggleable__content pre {margin: 0.2em;color: black;border-radius: 0.25em;background-color: #f0f8ff;}#sk-container-id-1 input.sk-toggleable__control:checked~div.sk-toggleable__content {max-height: 200px;max-width: 100%;overflow: auto;}#sk-container-id-1 input.sk-toggleable__control:checked~label.sk-toggleable__label-arrow:before {content: \"▾\";}#sk-container-id-1 div.sk-estimator input.sk-toggleable__control:checked~label.sk-toggleable__label {background-color: #d4ebff;}#sk-container-id-1 div.sk-label input.sk-toggleable__control:checked~label.sk-toggleable__label {background-color: #d4ebff;}#sk-container-id-1 input.sk-hidden--visually {border: 0;clip: rect(1px 1px 1px 1px);clip: rect(1px, 1px, 1px, 1px);height: 1px;margin: -1px;overflow: hidden;padding: 0;position: absolute;width: 1px;}#sk-container-id-1 div.sk-estimator {font-family: monospace;background-color: #f0f8ff;border: 1px dotted black;border-radius: 0.25em;box-sizing: border-box;margin-bottom: 0.5em;}#sk-container-id-1 div.sk-estimator:hover {background-color: #d4ebff;}#sk-container-id-1 div.sk-parallel-item::after {content: \"\";width: 100%;border-bottom: 1px solid gray;flex-grow: 1;}#sk-container-id-1 div.sk-label:hover label.sk-toggleable__label {background-color: #d4ebff;}#sk-container-id-1 div.sk-serial::before {content: \"\";position: absolute;border-left: 1px solid gray;box-sizing: border-box;top: 0;bottom: 0;left: 50%;z-index: 0;}#sk-container-id-1 div.sk-serial {display: flex;flex-direction: column;align-items: center;background-color: white;padding-right: 0.2em;padding-left: 0.2em;position: relative;}#sk-container-id-1 div.sk-item {position: relative;z-index: 1;}#sk-container-id-1 div.sk-parallel {display: flex;align-items: stretch;justify-content: center;background-color: white;position: relative;}#sk-container-id-1 div.sk-item::before, #sk-container-id-1 div.sk-parallel-item::before {content: \"\";position: absolute;border-left: 1px solid gray;box-sizing: border-box;top: 0;bottom: 0;left: 50%;z-index: -1;}#sk-container-id-1 div.sk-parallel-item {display: flex;flex-direction: column;z-index: 1;position: relative;background-color: white;}#sk-container-id-1 div.sk-parallel-item:first-child::after {align-self: flex-end;width: 50%;}#sk-container-id-1 div.sk-parallel-item:last-child::after {align-self: flex-start;width: 50%;}#sk-container-id-1 div.sk-parallel-item:only-child::after {width: 0;}#sk-container-id-1 div.sk-dashed-wrapped {border: 1px dashed gray;margin: 0 0.4em 0.5em 0.4em;box-sizing: border-box;padding-bottom: 0.4em;background-color: white;}#sk-container-id-1 div.sk-label label {font-family: monospace;font-weight: bold;display: inline-block;line-height: 1.2em;}#sk-container-id-1 div.sk-label-container {text-align: center;}#sk-container-id-1 div.sk-container {/* jupyter's `normalize.less` sets `[hidden] { display: none; }` but bootstrap.min.css set `[hidden] { display: none !important; }` so we also need the `!important` here to be able to override the default hidden behavior on the sphinx rendered scikit-learn.org. See: https://github.com/scikit-learn/scikit-learn/issues/21755 */display: inline-block !important;position: relative;}#sk-container-id-1 div.sk-text-repr-fallback {display: none;}</style><div id=\"sk-container-id-1\" class=\"sk-top-container\"><div class=\"sk-text-repr-fallback\"><pre>RandomForestClassifier(class_weight=&#x27;balanced&#x27;, criterion=&#x27;entropy&#x27;,\n",
              "                       max_depth=15, max_features=0.5, min_samples_leaf=7,\n",
              "                       n_estimators=120, random_state=0)</pre><b>In a Jupyter environment, please rerun this cell to show the HTML representation or trust the notebook. <br />On GitHub, the HTML representation is unable to render, please try loading this page with nbviewer.org.</b></div><div class=\"sk-container\" hidden><div class=\"sk-item\"><div class=\"sk-estimator sk-toggleable\"><input class=\"sk-toggleable__control sk-hidden--visually\" id=\"sk-estimator-id-1\" type=\"checkbox\" checked><label for=\"sk-estimator-id-1\" class=\"sk-toggleable__label sk-toggleable__label-arrow\">RandomForestClassifier</label><div class=\"sk-toggleable__content\"><pre>RandomForestClassifier(class_weight=&#x27;balanced&#x27;, criterion=&#x27;entropy&#x27;,\n",
              "                       max_depth=15, max_features=0.5, min_samples_leaf=7,\n",
              "                       n_estimators=120, random_state=0)</pre></div></div></div></div></div>"
            ]
          },
          "metadata": {},
          "execution_count": 24
        }
      ]
    },
    {
      "cell_type": "markdown",
      "source": [
        "####Import"
      ],
      "metadata": {
        "id": "TPum-oNn-_kf"
      }
    },
    {
      "cell_type": "code",
      "source": [
        "# Importing necessary functions\n",
        "from sklearn.metrics import confusion_matrix, ConfusionMatrixDisplay, accuracy_score, classification_report, balanced_accuracy_score, precision_recall_curve, multilabel_confusion_matrix\n",
        "\n",
        "import seaborn as sns"
      ],
      "metadata": {
        "id": "Gdz3eZ1t30lH"
      },
      "execution_count": null,
      "outputs": []
    },
    {
      "cell_type": "markdown",
      "source": [
        "### Preparazione dati"
      ],
      "metadata": {
        "id": "H3MpLNnPNa5z"
      }
    },
    {
      "cell_type": "code",
      "source": [
        "y_pred_rf3 = rf3.predict(X_test)\n",
        "y_pred_classes_rf3 = np.argmax(y_pred_rf3, axis=1)\n",
        "\n",
        "y_test_rounded = np.argmax(y_test, axis=1)"
      ],
      "metadata": {
        "id": "jFzSPcNLmt7p"
      },
      "execution_count": null,
      "outputs": []
    },
    {
      "cell_type": "code",
      "source": [
        "df_y_pred_classes_rf3 = pd.DataFrame(y_pred_classes_rf3)\n",
        "df_y_pred_classes_rf3.value_counts()"
      ],
      "metadata": {
        "colab": {
          "base_uri": "https://localhost:8080/"
        },
        "id": "lBpqHboYuFSE",
        "outputId": "534f1268-1791-4341-df1b-32466f8ec311"
      },
      "execution_count": null,
      "outputs": [
        {
          "output_type": "execute_result",
          "data": {
            "text/plain": [
              "0    478278\n",
              "1     69304\n",
              "3     51488\n",
              "2     28540\n",
              "4      2101\n",
              "5       220\n",
              "Name: count, dtype: int64"
            ]
          },
          "metadata": {},
          "execution_count": 27
        }
      ]
    },
    {
      "cell_type": "markdown",
      "source": [
        "### Valutazione"
      ],
      "metadata": {
        "id": "9IojTIMUNX7R"
      }
    },
    {
      "cell_type": "markdown",
      "source": [
        "####Conferma non overfitting: k-cross validation"
      ],
      "metadata": {
        "id": "l82XByyufjn0"
      }
    },
    {
      "cell_type": "code",
      "source": [
        "# Evaluate performance on training set\n",
        "y_train_pred_rf3 = rf3.predict(X_train)\n",
        "train_accuracy = accuracy_score(y_train, y_train_pred_rf3)\n",
        "print(\"Training Accuracy:\", train_accuracy)\n",
        "\n",
        "# Evaluate performance on test set\n",
        "test_accuracy = accuracy_score(y_test_rounded, y_pred_classes_rf3)\n",
        "print(\"Test Accuracy:\", test_accuracy)"
      ],
      "metadata": {
        "colab": {
          "base_uri": "https://localhost:8080/"
        },
        "id": "qFJ8eI57D38k",
        "outputId": "c11d12a7-95ba-412f-c28a-e23791c50861"
      },
      "execution_count": null,
      "outputs": [
        {
          "output_type": "stream",
          "name": "stdout",
          "text": [
            "Training Accuracy: 0.9999054317550642\n",
            "Test Accuracy: 0.9998793518655218\n"
          ]
        }
      ]
    },
    {
      "cell_type": "code",
      "source": [
        "from sklearn.model_selection import cross_val_score\n",
        "\n",
        "# Perform k-fold cross-validation\n",
        "k = 5  # Number of folds\n",
        "cv_scores = cross_val_score(rf3, X_train, y_train, cv=k, scoring='accuracy')\n",
        "print(\"Cross-Validation Scores:\", cv_scores)\n",
        "print(\"Average Cross-Validation Accuracy:\", np.mean(cv_scores))"
      ],
      "metadata": {
        "colab": {
          "base_uri": "https://localhost:8080/"
        },
        "id": "CG3PaqB-D9Eg",
        "outputId": "33770754-4d7e-49fc-a03e-0e5f3ee3c64f"
      },
      "execution_count": null,
      "outputs": [
        {
          "output_type": "stream",
          "name": "stdout",
          "text": [
            "Cross-Validation Scores: [0.99985713 0.99984012 0.99981971 0.99989795 0.99985032]\n",
            "Average Cross-Validation Accuracy: 0.99985304505815\n"
          ]
        }
      ]
    },
    {
      "cell_type": "code",
      "source": [
        "import numpy as np\n",
        "import matplotlib.pyplot as plt\n",
        "from sklearn.model_selection import learning_curve\n",
        "images_dir = '/content/drive/MyDrive/Colab Notebooks/progettoTesi/grafici_pdf/IDS_RFC/'\n",
        "\n",
        "\n",
        "\n",
        "def plot_learning_curve(estimator, X, y, train_sizes):\n",
        "    train_sizes, train_scores, validation_scores = learning_curve(\n",
        "        estimator, X, y, train_sizes=train_sizes, scoring='accuracy')\n",
        "\n",
        "    train_scores_mean = np.mean(train_scores, axis=1)\n",
        "    train_scores_std = np.std(train_scores, axis=1)\n",
        "    validation_scores_mean = np.mean(validation_scores, axis=1)\n",
        "    validation_scores_std = np.std(validation_scores, axis=1)\n",
        "\n",
        "    plt.figure(figsize=(10, 6))\n",
        "    plt.fill_between(train_sizes, train_scores_mean - train_scores_std,\n",
        "                     train_scores_mean + train_scores_std, alpha=0.1, color=\"orange\")\n",
        "    plt.fill_between(train_sizes, validation_scores_mean - validation_scores_std,\n",
        "                     validation_scores_mean + validation_scores_std, alpha=0.1, color=\"g\")\n",
        "    plt.plot(train_sizes, train_scores_mean, 'o-', color=\"orange\", label=\"Accuratezza Training\")\n",
        "    plt.plot(train_sizes, validation_scores_mean, 'o-', color=\"g\", label=\"Accuratezza Cross-validation\")\n",
        "    plt.title(\"Curve di Apprendimento del IDS-RFC\")\n",
        "    plt.xlabel(\"Numero di esempi di addestramento\")\n",
        "    plt.ylabel(\"Accuratezza\")\n",
        "    plt.legend(loc=\"best\")\n",
        "    plt.grid()\n",
        "    plt.savefig(f\"{images_dir}/IDS_RFC_CurveApprendimento_REAL_checkedOverfitting_cvDefault.pdf\", dpi=200, format='pdf')\n",
        "    plt.show()\n",
        "\n",
        "# Assuming X_train, y_train are your training data and labels\n",
        "# and X_test, y_test are your test data and labels\n",
        "\n",
        "train_sizes = np.array([0.2, 0.4, 0.6, 0.8, 1.0])  # Using 20%, 40%, 60%, 80%, and 100% of training data\n",
        "plot_learning_curve(rf3, X_train, y_train, train_sizes=train_sizes)\n"
      ],
      "metadata": {
        "id": "O8GLpDovNfzB",
        "colab": {
          "base_uri": "https://localhost:8080/",
          "height": 564
        },
        "outputId": "ac2a9178-a31e-4aeb-cbd5-ede52776c12f"
      },
      "execution_count": null,
      "outputs": [
        {
          "output_type": "display_data",
          "data": {
            "text/plain": [
              "<Figure size 1000x600 with 1 Axes>"
            ],
            "image/png": "[encoded data removed]"
          },
          "metadata": {}
        }
      ]
    },
    {
      "cell_type": "markdown",
      "source": [
        "#### Valutazione performance"
      ],
      "metadata": {
        "id": "dwvhTniZfrIW"
      }
    },
    {
      "cell_type": "code",
      "source": [
        "conf_matrix_model3 = confusion_matrix(y_test_rounded, y_pred_classes_rf3)\n",
        "\n",
        "\n",
        "sns.set(font_scale=2.5)\n",
        "plt.figure(figsize = (20,20))\n",
        "\n",
        "s = sns.heatmap(conf_matrix_model3, annot = True)#, cmap = 'Blues',fmt='.2f'\n",
        "\n",
        "s.set_xlabel('Predetti')\n",
        "s.set_ylabel('Originali')\n",
        "\n",
        "plt.title(\"Performance IDS-RFC\\n\")\n",
        "\n",
        "#salva in Drive\n",
        "images_dir = '/content/drive/MyDrive/Colab Notebooks/progettoTesi/grafici_pdf/IDS_RFC/'\n",
        "plt.savefig(f\"{images_dir}/IDS_RFC_GraficoMatrixCONFUSION_REAL_Train-Valid_checkedOverfitting.pdf\", dpi=200, format='pdf')\n",
        "\n",
        "plt.show()"
      ],
      "metadata": {
        "id": "sE802o3KEKdu"
      },
      "execution_count": null,
      "outputs": []
    },
    {
      "cell_type": "markdown",
      "source": [
        "\n",
        "\n",
        "\n",
        "```\n",
        "(629931, 41)\n",
        "\n",
        "BENIGN                    478327\n",
        "Infiltration_Portscan      69256\n",
        "DoS                        51486\n",
        "DDoS                       28540\n",
        "BruteForce                  2101\n",
        "Botnet                       221\n",
        "```\n",
        "\n",
        "\n",
        "\n"
      ],
      "metadata": {
        "id": "iNj5tSqg2lf9"
      }
    },
    {
      "cell_type": "code",
      "source": [
        "print(classification_report(y_test, y_pred_rf3, zero_division=1))"
      ],
      "metadata": {
        "id": "8O8U9AUoP1c8",
        "colab": {
          "base_uri": "https://localhost:8080/"
        },
        "outputId": "024aeaa0-97b0-434d-ddb4-a6b72718903d"
      },
      "execution_count": null,
      "outputs": [
        {
          "output_type": "stream",
          "name": "stdout",
          "text": [
            "              precision    recall  f1-score   support\n",
            "\n",
            "           0       1.00      1.00      1.00    478327\n",
            "           1       1.00      1.00      1.00     69256\n",
            "           2       1.00      1.00      1.00     28540\n",
            "           3       1.00      1.00      1.00     51486\n",
            "           4       1.00      1.00      1.00      2101\n",
            "           5       1.00      0.99      0.99       221\n",
            "\n",
            "   micro avg       1.00      1.00      1.00    629931\n",
            "   macro avg       1.00      1.00      1.00    629931\n",
            "weighted avg       1.00      1.00      1.00    629931\n",
            " samples avg       1.00      1.00      1.00    629931\n",
            "\n"
          ]
        }
      ]
    },
    {
      "cell_type": "code",
      "source": [
        "print(classification_report(y_test, y_pred_rf3))"
      ],
      "metadata": {
        "colab": {
          "base_uri": "https://localhost:8080/"
        },
        "id": "l-juN4CicMDR",
        "outputId": "091a8484-b2a9-4c6a-d793-4bf4cc65c2aa"
      },
      "execution_count": null,
      "outputs": [
        {
          "output_type": "stream",
          "name": "stdout",
          "text": [
            "              precision    recall  f1-score   support\n",
            "\n",
            "           0       1.00      1.00      1.00    478327\n",
            "           1       1.00      1.00      1.00     69256\n",
            "           2       1.00      1.00      1.00     28540\n",
            "           3       1.00      1.00      1.00     51486\n",
            "           4       1.00      1.00      1.00      2101\n",
            "           5       1.00      0.99      0.99       221\n",
            "\n",
            "   micro avg       1.00      1.00      1.00    629931\n",
            "   macro avg       1.00      1.00      1.00    629931\n",
            "weighted avg       1.00      1.00      1.00    629931\n",
            " samples avg       1.00      1.00      1.00    629931\n",
            "\n"
          ]
        },
        {
          "output_type": "stream",
          "name": "stderr",
          "text": [
            "/usr/local/lib/python3.10/dist-packages/sklearn/metrics/_classification.py:1344: UndefinedMetricWarning: Precision and F-score are ill-defined and being set to 0.0 in samples with no predicted labels. Use `zero_division` parameter to control this behavior.\n",
            "  _warn_prf(average, modifier, msg_start, len(result))\n"
          ]
        }
      ]
    },
    {
      "cell_type": "code",
      "source": [
        "print(classification_report(y_test, y_pred_rf3, zero_division=0))"
      ],
      "metadata": {
        "colab": {
          "base_uri": "https://localhost:8080/"
        },
        "id": "LhN9EAM9p-uX",
        "outputId": "8c8e2117-193a-4b7e-b48a-1d8902b94833"
      },
      "execution_count": null,
      "outputs": [
        {
          "output_type": "stream",
          "name": "stdout",
          "text": [
            "              precision    recall  f1-score   support\n",
            "\n",
            "           0       1.00      1.00      1.00    478327\n",
            "           1       1.00      1.00      1.00     69256\n",
            "           2       1.00      1.00      1.00     28540\n",
            "           3       1.00      1.00      1.00     51486\n",
            "           4       1.00      1.00      1.00      2101\n",
            "           5       1.00      0.99      0.99       221\n",
            "\n",
            "   micro avg       1.00      1.00      1.00    629931\n",
            "   macro avg       1.00      1.00      1.00    629931\n",
            "weighted avg       1.00      1.00      1.00    629931\n",
            " samples avg       1.00      1.00      1.00    629931\n",
            "\n"
          ]
        }
      ]
    },
    {
      "cell_type": "code",
      "source": [
        "acc3=accuracy_score(y_test, y_pred_rf3)\n",
        "bacc3=balanced_accuracy_score(y_test_rounded, y_pred_classes_rf3)\n",
        "print('Accuracy:', acc3)\n",
        "print('Balanced Accuracy:', bacc3)"
      ],
      "metadata": {
        "id": "z7X4QK_dO90_",
        "colab": {
          "base_uri": "https://localhost:8080/"
        },
        "outputId": "d07ae50a-2791-4c2a-fb6e-2ca5c7c98e76"
      },
      "execution_count": null,
      "outputs": [
        {
          "output_type": "stream",
          "name": "stdout",
          "text": [
            "Accuracy: 0.9998777643900681\n",
            "Balanced Accuracy: 0.999788769069009\n"
          ]
        }
      ]
    },
    {
      "cell_type": "code",
      "source": [
        "from sklearn.metrics import precision_score, recall_score, f1_score\n",
        "from sklearn.metrics import precision_recall_fscore_support"
      ],
      "metadata": {
        "id": "m0VjZSAJZuF1"
      },
      "execution_count": null,
      "outputs": []
    },
    {
      "cell_type": "code",
      "source": [
        "precision, recall, f1, _ = precision_recall_fscore_support(y_test_rounded, y_pred_classes_rf3, average=None, zero_division=1)\n",
        "print('Precision per class:', precision)\n",
        "print('Recall per class:', recall)\n",
        "print('F1 score per class:', f1)"
      ],
      "metadata": {
        "id": "dxivyzw5Zq5A",
        "colab": {
          "base_uri": "https://localhost:8080/"
        },
        "outputId": "06857adc-7852-4091-b32b-a3268c852d27"
      },
      "execution_count": null,
      "outputs": [
        {
          "output_type": "stream",
          "name": "stdout",
          "text": [
            "Precision per class: [0.99997282 0.99917757 1.         0.99990289 0.99952381 1.        ]\n",
            "Recall per class: [0.99986829 0.99991336 1.         0.99990289 0.99904807 1.        ]\n",
            "F1 score per class: [0.99992055 0.99954533 1.         0.99990289 0.99928588 1.        ]\n"
          ]
        }
      ]
    },
    {
      "cell_type": "code",
      "source": [
        "precision, recall, f1, _ = precision_recall_fscore_support(y_test_rounded, y_pred_classes_rf3, average=None)\n",
        "print('Precision per class:', precision)\n",
        "print('Recall per class:', recall)\n",
        "print('F1 score per class:', f1)"
      ],
      "metadata": {
        "colab": {
          "base_uri": "https://localhost:8080/"
        },
        "id": "MluvnvpUd0m-",
        "outputId": "f3379a7c-c87e-4bfc-97d0-3029f8f12650"
      },
      "execution_count": null,
      "outputs": [
        {
          "output_type": "stream",
          "name": "stdout",
          "text": [
            "Precision per class: [0.99997282 0.99917757 1.         0.99990289 0.99952381 1.        ]\n",
            "Recall per class: [0.99986829 0.99991336 1.         0.99990289 0.99904807 1.        ]\n",
            "F1 score per class: [0.99992055 0.99954533 1.         0.99990289 0.99928588 1.        ]\n"
          ]
        }
      ]
    },
    {
      "cell_type": "code",
      "source": [
        "precisionBase = precision_score(y_test, y_pred_rf3, average='micro', zero_division=1)\n",
        "print('Precision: %f' % precisionBase)\n",
        "precision3 = precision_score(y_test, y_pred_rf3, average='weighted', zero_division=1)\n",
        "print('Weighted Precision: %f' % precision3)\n",
        "m_precision3 = precision_score(y_test_rounded, y_pred_classes_rf3, average='macro', zero_division=1)\n",
        "print('Macro Precision: %f' % m_precision3)\n",
        "print(\"======================\")\n",
        "recall3 = recall_score(y_test_rounded, y_pred_classes_rf3, average='weighted', zero_division=1)\n",
        "print('Recall: %f' % recall3)\n",
        "m_recall3 = recall_score(y_test_rounded, y_pred_classes_rf3, average='macro', zero_division=1)\n",
        "print('Macro Recall: %f' % m_recall3)\n",
        "print(\"=======================\")\n",
        "f13 = f1_score(y_test_rounded, y_pred_classes_rf3, average='weighted', zero_division=1)\n",
        "print('F1 score: %f' % f13)\n",
        "m_f13 = f1_score(y_test_rounded, y_pred_classes_rf3, average='macro', zero_division=1)\n",
        "print('Macro F1 score: %f' % m_f13)"
      ],
      "metadata": {
        "id": "kejTxlqk2HYH",
        "colab": {
          "base_uri": "https://localhost:8080/"
        },
        "outputId": "424ab481-8350-4a12-e406-d454fc4bebad"
      },
      "execution_count": null,
      "outputs": [
        {
          "output_type": "stream",
          "name": "stdout",
          "text": [
            "Precision: 0.999881\n",
            "Weighted Precision: 0.999881\n",
            "Macro Precision: 0.999763\n",
            "======================\n",
            "Recall: 0.999879\n",
            "Macro Recall: 0.999789\n",
            "=======================\n",
            "F1 score: 0.999879\n",
            "Macro F1 score: 0.999776\n"
          ]
        }
      ]
    },
    {
      "cell_type": "code",
      "source": [
        "precisionBase = precision_score(y_test, y_pred_rf3, average='micro')\n",
        "print('Precision: %f' % precisionBase)\n",
        "precision3 = precision_score(y_test, y_pred_rf3, average='weighted')\n",
        "print('Weighted Precision: %f' % precision3)\n",
        "m_precision3 = precision_score(y_test_rounded, y_pred_classes_rf3, average='macro')\n",
        "print('Macro Precision: %f' % m_precision3)\n",
        "print(\"======================\")\n",
        "recall3 = recall_score(y_test_rounded, y_pred_classes_rf3, average='weighted')\n",
        "print('Recall: %f' % recall3)\n",
        "m_recall3 = recall_score(y_test_rounded, y_pred_classes_rf3, average='macro')\n",
        "print('Macro Recall: %f' % m_recall3)\n",
        "print(\"=======================\")\n",
        "f13 = f1_score(y_test_rounded, y_pred_classes_rf3, average='weighted')\n",
        "print('F1 score: %f' % f13)\n",
        "m_f13 = f1_score(y_test_rounded, y_pred_classes_rf3, average='macro')\n",
        "print('Macro F1 score: %f' % m_f13)"
      ],
      "metadata": {
        "colab": {
          "base_uri": "https://localhost:8080/"
        },
        "id": "wNsHwwIij9lD",
        "outputId": "153f8811-3054-422c-bdf4-b9b7a633c523"
      },
      "execution_count": null,
      "outputs": [
        {
          "output_type": "stream",
          "name": "stdout",
          "text": [
            "Precision: 0.999881\n",
            "Weighted Precision: 0.999881\n",
            "Macro Precision: 0.999763\n",
            "======================\n",
            "Recall: 0.999879\n",
            "Macro Recall: 0.999789\n",
            "=======================\n",
            "F1 score: 0.999879\n",
            "Macro F1 score: 0.999776\n"
          ]
        }
      ]
    },
    {
      "cell_type": "code",
      "source": [
        "labels = [0, 1, 2, 3, 4, 5]\n",
        "\n",
        "confusion_mat = confusion_matrix(y_test_rounded, y_pred_classes_rf3, labels=labels)\n",
        "\n",
        "# Calculate additional metrics\n",
        "for i in range(len(labels)):\n",
        "    tn = sum(confusion_mat[j, k] for j in range(len(labels)) if j != i for k in range(len(labels)) if k != i)\n",
        "    fp = sum(confusion_mat[j, i] for j in range(len(labels)) if j != i)\n",
        "    fn = sum(confusion_mat[i, k] for k in range(len(labels)) if k != i)\n",
        "    tp = confusion_mat[i, i]\n",
        "\n",
        "    # Display TP, TN, FP, FN\n",
        "    print(f\"Class {labels[i]} TP:\", tp)\n",
        "    print(f\"Class {labels[i]} TN:\", tn)\n",
        "    print(f\"Class {labels[i]} FP:\", fp)\n",
        "    print(f\"Class {labels[i]} FN:\", fn)\n",
        "    print(\"============================================\")"
      ],
      "metadata": {
        "id": "W3KT3PieOy97"
      },
      "execution_count": null,
      "outputs": []
    },
    {
      "cell_type": "code",
      "source": [
        "# Calculate additional metrics\n",
        "for i in range(len(labels)):\n",
        "    tn = sum(confusion_mat[j, k] for j in range(len(labels)) if j != i for k in range(len(labels)) if k != i)\n",
        "    fp = sum(confusion_mat[j, i] for j in range(len(labels)) if j != i)\n",
        "    fn = sum(confusion_mat[i, k] for k in range(len(labels)) if k != i)\n",
        "    tp = confusion_mat[i, i]\n",
        "\n",
        "    # Calculate additional metrics\n",
        "    specificity = tn / (tn + fp)\n",
        "    false_positive_rate = fp / (fp + tn)\n",
        "\n",
        "    # Display additional metrics\n",
        "    print(f\"Class {labels[i]} Specificity:\", specificity)\n",
        "    print(f\"Class {labels[i]} False Positive Rate:\", false_positive_rate)\n"
      ],
      "metadata": {
        "id": "kGsvgzH8D6xa"
      },
      "execution_count": null,
      "outputs": []
    }
  ],
  "metadata": {
    "accelerator": "GPU",
    "colab": {
      "collapsed_sections": [
        "gfjxR9812adx",
        "FEDiBnEFOMC1",
        "VF6EUAWzSKD9",
        "bXSp0_t4SOq3",
        "1ZuxgDF1SS24",
        "LiZQNPinxSuH",
        "gw-4nT-pwI-x",
        "5cM4eNzTNvJd",
        "l5A8Y2rD8WkZ",
        "z4WGyhYF_CQO",
        "TPum-oNn-_kf",
        "H3MpLNnPNa5z"
      ],
      "gpuType": "T4",
      "machine_shape": "hm",
      "provenance": [],
      "include_colab_link": true
    },
    "kernelspec": {
      "display_name": "Python 3",
      "name": "python3"
    }
  },
  "nbformat": 4,
  "nbformat_minor": 0
}