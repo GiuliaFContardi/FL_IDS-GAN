{
  "cells": [
    {
      "cell_type": "markdown",
      "metadata": {
        "id": "gfjxR9812adx"
      },
      "source": [
        "#### Import"
      ]
    },
    {
      "cell_type": "code",
      "source": [
        "pip install scikeras"
      ],
      "metadata": {
        "colab": {
          "base_uri": "https://localhost:8080/"
        },
        "id": "xfDQghWM5HDq",
        "outputId": "5529ad83-0afc-4faf-828d-5b4e3c34a843"
      },
      "execution_count": 1,
      "outputs": [
        {
          "output_type": "stream",
          "name": "stdout",
          "text": [
            "Collecting scikeras\n",
            "  Downloading scikeras-0.13.0-py3-none-any.whl.metadata (3.1 kB)\n",
            "Collecting keras>=3.2.0 (from scikeras)\n",
            "  Downloading keras-3.4.1-py3-none-any.whl.metadata (5.8 kB)\n",
            "Collecting scikit-learn>=1.4.2 (from scikeras)\n",
            "  Downloading scikit_learn-1.5.1-cp310-cp310-manylinux_2_17_x86_64.manylinux2014_x86_64.whl.metadata (12 kB)\n",
            "Requirement already satisfied: absl-py in /usr/local/lib/python3.10/dist-packages (from keras>=3.2.0->scikeras) (1.4.0)\n",
            "Requirement already satisfied: numpy in /usr/local/lib/python3.10/dist-packages (from keras>=3.2.0->scikeras) (1.26.4)\n",
            "Requirement already satisfied: rich in /usr/local/lib/python3.10/dist-packages (from keras>=3.2.0->scikeras) (13.7.1)\n",
            "Collecting namex (from keras>=3.2.0->scikeras)\n",
            "  Downloading namex-0.0.8-py3-none-any.whl.metadata (246 bytes)\n",
            "Requirement already satisfied: h5py in /usr/local/lib/python3.10/dist-packages (from keras>=3.2.0->scikeras) (3.11.0)\n",
            "Collecting optree (from keras>=3.2.0->scikeras)\n",
            "  Downloading optree-0.12.1-cp310-cp310-manylinux_2_17_x86_64.manylinux2014_x86_64.whl.metadata (47 kB)\n",
            "\u001b[2K     \u001b[90m━━━━━━━━━━━━━━━━━━━━━━━━━━━━━━━━━━━━━━━━\u001b[0m \u001b[32m47.8/47.8 kB\u001b[0m \u001b[31m2.4 MB/s\u001b[0m eta \u001b[36m0:00:00\u001b[0m\n",
            "\u001b[?25hRequirement already satisfied: ml-dtypes in /usr/local/lib/python3.10/dist-packages (from keras>=3.2.0->scikeras) (0.2.0)\n",
            "Requirement already satisfied: packaging in /usr/local/lib/python3.10/dist-packages (from keras>=3.2.0->scikeras) (24.1)\n",
            "Requirement already satisfied: scipy>=1.6.0 in /usr/local/lib/python3.10/dist-packages (from scikit-learn>=1.4.2->scikeras) (1.13.1)\n",
            "Requirement already satisfied: joblib>=1.2.0 in /usr/local/lib/python3.10/dist-packages (from scikit-learn>=1.4.2->scikeras) (1.4.2)\n",
            "Requirement already satisfied: threadpoolctl>=3.1.0 in /usr/local/lib/python3.10/dist-packages (from scikit-learn>=1.4.2->scikeras) (3.5.0)\n",
            "Requirement already satisfied: typing-extensions>=4.5.0 in /usr/local/lib/python3.10/dist-packages (from optree->keras>=3.2.0->scikeras) (4.12.2)\n",
            "Requirement already satisfied: markdown-it-py>=2.2.0 in /usr/local/lib/python3.10/dist-packages (from rich->keras>=3.2.0->scikeras) (3.0.0)\n",
            "Requirement already satisfied: pygments<3.0.0,>=2.13.0 in /usr/local/lib/python3.10/dist-packages (from rich->keras>=3.2.0->scikeras) (2.16.1)\n",
            "Requirement already satisfied: mdurl~=0.1 in /usr/local/lib/python3.10/dist-packages (from markdown-it-py>=2.2.0->rich->keras>=3.2.0->scikeras) (0.1.2)\n",
            "Downloading scikeras-0.13.0-py3-none-any.whl (26 kB)\n",
            "Downloading keras-3.4.1-py3-none-any.whl (1.1 MB)\n",
            "\u001b[2K   \u001b[90m━━━━━━━━━━━━━━━━━━━━━━━━━━━━━━━━━━━━━━━━\u001b[0m \u001b[32m1.1/1.1 MB\u001b[0m \u001b[31m37.5 MB/s\u001b[0m eta \u001b[36m0:00:00\u001b[0m\n",
            "\u001b[?25hDownloading scikit_learn-1.5.1-cp310-cp310-manylinux_2_17_x86_64.manylinux2014_x86_64.whl (13.4 MB)\n",
            "\u001b[2K   \u001b[90m━━━━━━━━━━━━━━━━━━━━━━━━━━━━━━━━━━━━━━━━\u001b[0m \u001b[32m13.4/13.4 MB\u001b[0m \u001b[31m79.7 MB/s\u001b[0m eta \u001b[36m0:00:00\u001b[0m\n",
            "\u001b[?25hDownloading namex-0.0.8-py3-none-any.whl (5.8 kB)\n",
            "Downloading optree-0.12.1-cp310-cp310-manylinux_2_17_x86_64.manylinux2014_x86_64.whl (347 kB)\n",
            "\u001b[2K   \u001b[90m━━━━━━━━━━━━━━━━━━━━━━━━━━━━━━━━━━━━━━━━\u001b[0m \u001b[32m347.7/347.7 kB\u001b[0m \u001b[31m21.0 MB/s\u001b[0m eta \u001b[36m0:00:00\u001b[0m\n",
            "\u001b[?25hInstalling collected packages: namex, optree, scikit-learn, keras, scikeras\n",
            "  Attempting uninstall: scikit-learn\n",
            "    Found existing installation: scikit-learn 1.3.2\n",
            "    Uninstalling scikit-learn-1.3.2:\n",
            "      Successfully uninstalled scikit-learn-1.3.2\n",
            "  Attempting uninstall: keras\n",
            "    Found existing installation: keras 2.15.0\n",
            "    Uninstalling keras-2.15.0:\n",
            "      Successfully uninstalled keras-2.15.0\n",
            "\u001b[31mERROR: pip's dependency resolver does not currently take into account all the packages that are installed. This behaviour is the source of the following dependency conflicts.\n",
            "tensorflow 2.15.0 requires keras<2.16,>=2.15.0, but you have keras 3.4.1 which is incompatible.\u001b[0m\u001b[31m\n",
            "\u001b[0mSuccessfully installed keras-3.4.1 namex-0.0.8 optree-0.12.1 scikeras-0.13.0 scikit-learn-1.5.1\n"
          ]
        }
      ]
    },
    {
      "cell_type": "code",
      "execution_count": 2,
      "metadata": {
        "id": "Bh9iLBocUHxz"
      },
      "outputs": [],
      "source": [
        "import pandas as pd\n",
        "import keras\n",
        "import matplotlib.pyplot as plt"
      ]
    },
    {
      "cell_type": "code",
      "execution_count": 3,
      "metadata": {
        "colab": {
          "base_uri": "https://localhost:8080/"
        },
        "id": "cO4_xPFYVNK0",
        "outputId": "f3b6c510-1fda-443a-9e45-3979804b4f27"
      },
      "outputs": [
        {
          "output_type": "stream",
          "name": "stdout",
          "text": [
            "Mounted at /content/drive\n"
          ]
        }
      ],
      "source": [
        "# data is stored in google drive folder so import drive to notebook\n",
        "from google.colab import drive\n",
        "drive.mount('/content/drive')"
      ]
    },
    {
      "cell_type": "code",
      "source": [
        "import random\n",
        "#random.seed(0)\n",
        "\n",
        "import numpy as np\n",
        "#np.random.seed(0)\n",
        "\n",
        "import tensorflow as tf\n",
        "#tf.random.set_seed(0)"
      ],
      "metadata": {
        "id": "yCHl-qaRVSul"
      },
      "execution_count": 4,
      "outputs": []
    },
    {
      "cell_type": "markdown",
      "metadata": {
        "id": "FEDiBnEFOMC1"
      },
      "source": [
        "##GEN DATASET (valutazione GAN)"
      ]
    },
    {
      "cell_type": "markdown",
      "source": [
        "#### Classi maggiori"
      ],
      "metadata": {
        "id": "mgcTHX1-w7uR"
      }
    },
    {
      "cell_type": "code",
      "source": [
        "#Aggiungere labels e solo dopo unire tutti i gen\n",
        "dfBenign = pd.read_csv('/content/drive/My Drive/Colab Notebooks/progettoTesi/Dataset2017/GANgen/Valutazione/tentativo3/setHBuono/genBenign.csv')\n",
        "dfPortscan = pd.read_csv('/content/drive/My Drive/Colab Notebooks/progettoTesi/Dataset2017/GANgen/Valutazione/tentativo3/setHBuono/genPortscan.csv')\n",
        "dfDoS = pd.read_csv('/content/drive/My Drive/Colab Notebooks/progettoTesi/Dataset2017/GANgen/Valutazione/tentativo3/setHBuono/genDoS.csv')\n",
        "dfDDoS = pd.read_csv('/content/drive/My Drive/Colab Notebooks/progettoTesi/Dataset2017/GANgen/Valutazione/tentativo3/setHBuono/genDDoS.csv')"
      ],
      "metadata": {
        "id": "SdQ07ZVjSYWR"
      },
      "execution_count": null,
      "outputs": []
    },
    {
      "cell_type": "markdown",
      "source": [
        "#### CSV classi minori con valori minimi"
      ],
      "metadata": {
        "id": "VF6EUAWzSKD9"
      }
    },
    {
      "cell_type": "code",
      "execution_count": null,
      "metadata": {
        "id": "M6xdJMDbOVwh"
      },
      "outputs": [],
      "source": [
        "dfBruteforce = pd.read_csv('/content/drive/My Drive/Colab Notebooks/progettoTesi/Dataset2017/GANgen/Valutazione/tentativo3/setHBuono/Bruteforce/genBruteforce_pochiNuovi.csv')\n",
        "dfBotnet = pd.read_csv('/content/drive/My Drive/Colab Notebooks/progettoTesi/Dataset2017/GANgen/Valutazione/tentativo3/setHBuono/Botnet/genBotnet_pochiNuovi.csv')"
      ]
    },
    {
      "cell_type": "markdown",
      "source": [
        "#### CSV con 10000 samples x classi minori"
      ],
      "metadata": {
        "id": "bXSp0_t4SOq3"
      }
    },
    {
      "cell_type": "code",
      "source": [
        "dfBruteforce = pd.read_csv('/content/drive/My Drive/Colab Notebooks/progettoTesi/Dataset2017/GANgen/Valutazione/tentativo3/setHBuono/Bruteforce/genBruteforce_10000.csv')\n",
        "dfBotnet = pd.read_csv('/content/drive/My Drive/Colab Notebooks/progettoTesi/Dataset2017/GANgen/Valutazione/tentativo3/setHBuono/Botnet/genBotnet_10000.csv')"
      ],
      "metadata": {
        "id": "ReYSAvSBSUhF"
      },
      "execution_count": 5,
      "outputs": []
    },
    {
      "cell_type": "markdown",
      "source": [
        "#### Resto...TUTTE CLASSI"
      ],
      "metadata": {
        "id": "1ZuxgDF1SS24"
      }
    },
    {
      "cell_type": "code",
      "execution_count": null,
      "metadata": {
        "id": "Zs0qzJJyPE9O"
      },
      "outputs": [],
      "source": [
        "#rows_to_drop = range(2000)\n",
        "#df_dropped_Botnet = dfBotnet.drop(rows_to_drop)\n",
        "\n",
        "# Display the DataFrame after dropping rows\n",
        "#print(df_dropped_Botnet.shape)\n",
        "\n",
        "#dfBotnet=df_dropped_Botnet"
      ]
    },
    {
      "cell_type": "code",
      "execution_count": null,
      "metadata": {
        "id": "4OcLQv0TOX9z"
      },
      "outputs": [],
      "source": [
        "dfBenign['L_BENIGN'] = 1\n",
        "dfPortscan['L_Infiltration_Portscan'] = 1\n",
        "dfDoS['L_DoS'] = 1\n",
        "dfDDoS['L_DDoS'] = 1\n",
        "dfBruteforce['L_BruteForce'] = 1\n",
        "dfBotnet['L_Botnet'] = 1\n",
        "\n",
        "dfBenign['L_Infiltration_Portscan'] = 0\n",
        "dfBenign['L_DoS'] = 0\n",
        "dfBenign['L_DDoS'] = 0\n",
        "dfBenign['L_BruteForce'] = 0\n",
        "dfBenign['L_Botnet'] = 0\n",
        "\n",
        "dfPortscan['L_BENIGN'] = 0\n",
        "dfPortscan['L_DoS'] = 0\n",
        "dfPortscan['L_DDoS'] = 0\n",
        "dfPortscan['L_BruteForce'] = 0\n",
        "dfPortscan['L_Botnet'] = 0\n",
        "\n",
        "dfDoS['L_BENIGN'] = 0\n",
        "dfDoS['L_Infiltration_Portscan'] = 0\n",
        "dfDoS['L_DDoS'] = 0\n",
        "dfDoS['L_BruteForce'] = 0\n",
        "dfDoS['L_Botnet'] = 0\n",
        "\n",
        "dfDDoS['L_BENIGN'] = 0\n",
        "dfDDoS['L_Infiltration_Portscan'] = 0\n",
        "dfDDoS['L_DoS'] = 0\n",
        "dfDDoS['L_BruteForce'] = 0\n",
        "dfDDoS['L_Botnet'] = 0\n",
        "\n",
        "dfBruteforce['L_BENIGN'] = 0\n",
        "dfBruteforce['L_Infiltration_Portscan'] = 0\n",
        "dfBruteforce['L_DoS'] = 0\n",
        "dfBruteforce['L_DDoS'] = 0\n",
        "dfBruteforce['L_Botnet'] = 0\n",
        "\n",
        "dfBotnet['L_BENIGN'] = 0\n",
        "dfBotnet['L_Infiltration_Portscan'] = 0\n",
        "dfBotnet['L_DoS'] = 0\n",
        "dfBotnet['L_DDoS'] = 0\n",
        "dfBotnet['L_BruteForce'] = 0"
      ]
    },
    {
      "cell_type": "code",
      "execution_count": null,
      "metadata": {
        "id": "_ikGsF5LOZmQ"
      },
      "outputs": [],
      "source": [
        "merged_df = pd.concat([dfBenign, dfPortscan, dfDoS, dfDDoS, dfBruteforce, dfBotnet], axis=0, ignore_index=True)"
      ]
    },
    {
      "cell_type": "code",
      "execution_count": null,
      "metadata": {
        "id": "Ueua4SNfPgbq",
        "colab": {
          "base_uri": "https://localhost:8080/"
        },
        "outputId": "b32afabf-e46b-4ed7-cd15-b70b2736165b"
      },
      "outputs": [
        {
          "output_type": "execute_result",
          "data": {
            "text/plain": [
              "(1484419, 41)"
            ]
          },
          "metadata": {},
          "execution_count": 8
        }
      ],
      "source": [
        "merged_df.shape"
      ]
    },
    {
      "cell_type": "code",
      "execution_count": null,
      "metadata": {
        "id": "EDfySyufOd9z"
      },
      "outputs": [],
      "source": [
        "col_labels = ['L_BENIGN', 'L_Infiltration_Portscan', 'L_DoS', 'L_DDoS', 'L_BruteForce', 'L_Botnet']\n",
        "y_train = merged_df[['L_BENIGN','L_Infiltration_Portscan','L_DDoS','L_DoS','L_BruteForce','L_Botnet']]\n",
        "X_train = merged_df.drop(columns=col_labels)"
      ]
    },
    {
      "cell_type": "code",
      "execution_count": null,
      "metadata": {
        "id": "ddwe8mOHOn7i",
        "colab": {
          "base_uri": "https://localhost:8080/"
        },
        "outputId": "da54e73d-a788-4edb-d9ff-a40ccc5aa318"
      },
      "outputs": [
        {
          "output_type": "stream",
          "name": "stdout",
          "text": [
            "Samples per classe GEN\n",
            "1116095\n",
            "161597\n",
            "120134\n",
            "66593\n",
            "10000\n",
            "10000\n"
          ]
        }
      ],
      "source": [
        "print(\"Samples per classe GEN\")\n",
        "print((merged_df['L_BENIGN']==1).values.sum())\n",
        "print((merged_df['L_Infiltration_Portscan']==1).values.sum())\n",
        "print((merged_df['L_DoS']==1).values.sum())\n",
        "print((merged_df['L_DDoS']==1).values.sum())\n",
        "print((merged_df['L_BruteForce']==1).values.sum())\n",
        "print((merged_df['L_Botnet']==1).values.sum())"
      ]
    },
    {
      "cell_type": "code",
      "execution_count": null,
      "metadata": {
        "id": "8DlW8SENQBKf",
        "colab": {
          "base_uri": "https://localhost:8080/"
        },
        "outputId": "6394a1f1-5dd2-495f-e2df-e0320a5cfa1c"
      },
      "outputs": [
        {
          "output_type": "execute_result",
          "data": {
            "text/plain": [
              "(1484419, 35)"
            ]
          },
          "metadata": {},
          "execution_count": 11
        }
      ],
      "source": [
        "X_train.shape"
      ]
    },
    {
      "cell_type": "code",
      "source": [
        "merged_df_final = merged_df\n",
        "from sklearn.utils import shuffle\n",
        "merged_df_final = shuffle(merged_df_final).reset_index()\n",
        "merged_df_final = merged_df_final.drop(\"index\", axis=1) #elimino colonna indice creata dal reset_index"
      ],
      "metadata": {
        "id": "hrbitEpZW-Rb"
      },
      "execution_count": null,
      "outputs": []
    },
    {
      "cell_type": "code",
      "source": [
        "merged_df_final.shape"
      ],
      "metadata": {
        "colab": {
          "base_uri": "https://localhost:8080/"
        },
        "id": "MoDLnC2uXbRb",
        "outputId": "b872199c-2649-48b8-e444-6cdd3bb61b01"
      },
      "execution_count": null,
      "outputs": [
        {
          "output_type": "execute_result",
          "data": {
            "text/plain": [
              "(1484419, 41)"
            ]
          },
          "metadata": {},
          "execution_count": 13
        }
      ]
    },
    {
      "cell_type": "markdown",
      "source": [
        "#### Resto...SOLO CLASSI MINORI"
      ],
      "metadata": {
        "id": "irbMhqRKu_aq"
      }
    },
    {
      "cell_type": "code",
      "source": [
        "dfBruteforce['L_BruteForce'] = 1\n",
        "dfBotnet['L_Botnet'] = 1\n",
        "\n",
        "dfBruteforce['L_BENIGN'] = 0\n",
        "dfBruteforce['L_Infiltration_Portscan'] = 0\n",
        "dfBruteforce['L_DoS'] = 0\n",
        "dfBruteforce['L_DDoS'] = 0\n",
        "dfBruteforce['L_Botnet'] = 0\n",
        "\n",
        "dfBotnet['L_BENIGN'] = 0\n",
        "dfBotnet['L_Infiltration_Portscan'] = 0\n",
        "dfBotnet['L_DoS'] = 0\n",
        "dfBotnet['L_DDoS'] = 0\n",
        "dfBotnet['L_BruteForce'] = 0"
      ],
      "metadata": {
        "id": "NDP1UyQ8vC9A"
      },
      "execution_count": 6,
      "outputs": []
    },
    {
      "cell_type": "code",
      "source": [
        "merged_df = pd.concat([dfBruteforce, dfBotnet], axis=0, ignore_index=True)\n",
        "merged_df.shape"
      ],
      "metadata": {
        "colab": {
          "base_uri": "https://localhost:8080/"
        },
        "id": "_03-eT3NvK7j",
        "outputId": "90b79a8c-5c26-4aec-84ae-81620a5cc264"
      },
      "execution_count": 7,
      "outputs": [
        {
          "output_type": "execute_result",
          "data": {
            "text/plain": [
              "(20000, 41)"
            ]
          },
          "metadata": {},
          "execution_count": 7
        }
      ]
    },
    {
      "cell_type": "code",
      "source": [
        "col_labels = ['L_BENIGN', 'L_Infiltration_Portscan', 'L_DoS', 'L_DDoS', 'L_BruteForce', 'L_Botnet']\n",
        "y_train = merged_df[['L_BENIGN','L_Infiltration_Portscan','L_DDoS','L_DoS','L_BruteForce','L_Botnet']]\n",
        "X_train = merged_df.drop(columns=col_labels)\n",
        "X_train.shape"
      ],
      "metadata": {
        "colab": {
          "base_uri": "https://localhost:8080/"
        },
        "id": "5MbrX5hcvWk9",
        "outputId": "76ca21b6-8194-4463-fa22-e2ad1f4f1ad9"
      },
      "execution_count": 8,
      "outputs": [
        {
          "output_type": "execute_result",
          "data": {
            "text/plain": [
              "(20000, 35)"
            ]
          },
          "metadata": {},
          "execution_count": 8
        }
      ]
    },
    {
      "cell_type": "code",
      "source": [
        "print(\"Samples per classe GEN\")\n",
        "print((merged_df['L_BENIGN']==1).values.sum())\n",
        "print((merged_df['L_Infiltration_Portscan']==1).values.sum())\n",
        "print((merged_df['L_DoS']==1).values.sum())\n",
        "print((merged_df['L_DDoS']==1).values.sum())\n",
        "print((merged_df['L_BruteForce']==1).values.sum())\n",
        "print((merged_df['L_Botnet']==1).values.sum())"
      ],
      "metadata": {
        "colab": {
          "base_uri": "https://localhost:8080/"
        },
        "id": "CBAXgQ_CvcJZ",
        "outputId": "ad7ca2ce-3f2b-457d-cd5b-7f8223cb8c9f"
      },
      "execution_count": 9,
      "outputs": [
        {
          "output_type": "stream",
          "name": "stdout",
          "text": [
            "Samples per classe GEN\n",
            "0\n",
            "0\n",
            "0\n",
            "0\n",
            "10000\n",
            "10000\n"
          ]
        }
      ]
    },
    {
      "cell_type": "code",
      "source": [
        "merged_df_final = merged_df\n",
        "from sklearn.utils import shuffle\n",
        "merged_df_final = shuffle(merged_df_final).reset_index()\n",
        "merged_df_final = merged_df_final.drop(\"index\", axis=1) #elimino colonna indice creata dal reset_index"
      ],
      "metadata": {
        "id": "1AUp81HGvnmC"
      },
      "execution_count": 10,
      "outputs": []
    },
    {
      "cell_type": "markdown",
      "metadata": {
        "id": "LiZQNPinxSuH"
      },
      "source": [
        "##REAL+GEN DATASET - DATA AUGMENTATION"
      ]
    },
    {
      "cell_type": "code",
      "execution_count": 11,
      "metadata": {
        "id": "yeLixKadN4Um",
        "colab": {
          "base_uri": "https://localhost:8080/"
        },
        "outputId": "b8f99834-b331-4b34-ca02-f055d0de3251"
      },
      "outputs": [
        {
          "output_type": "stream",
          "name": "stdout",
          "text": [
            "(1469838, 35)\n",
            "(1469838, 6)\n"
          ]
        }
      ],
      "source": [
        "X_train = pd.read_csv('/content/drive/My Drive/Colab Notebooks/progettoTesi/Dataset2017/improved/Pre-processed_versions/terzoPreprocessing/X_train_35.csv')\n",
        "y_train = pd.read_csv('/content/drive/My Drive/Colab Notebooks/progettoTesi/Dataset2017/improved/Pre-processed_versions/terzoPreprocessing/y_train_35.csv')\n",
        "\n",
        "print(X_train.shape)\n",
        "print(y_train.shape)"
      ]
    },
    {
      "cell_type": "code",
      "execution_count": 12,
      "metadata": {
        "id": "ICK1-YwuiWag"
      },
      "outputs": [],
      "source": [
        "dfReal = pd.concat([X_train, y_train], axis=1)"
      ]
    },
    {
      "cell_type": "code",
      "execution_count": 13,
      "metadata": {
        "id": "j4EHxGd5ONKW",
        "colab": {
          "base_uri": "https://localhost:8080/"
        },
        "outputId": "53b7b495-f3ec-4e48-b3e9-b9a061a62e2e"
      },
      "outputs": [
        {
          "output_type": "execute_result",
          "data": {
            "text/plain": [
              "(1469838, 41)"
            ]
          },
          "metadata": {},
          "execution_count": 13
        }
      ],
      "source": [
        "dfReal.shape"
      ]
    },
    {
      "cell_type": "code",
      "execution_count": 14,
      "metadata": {
        "id": "ojZKUcC-jnUa",
        "colab": {
          "base_uri": "https://localhost:8080/"
        },
        "outputId": "e02a3a7e-aa2f-4795-90a2-76b7f61cc479"
      },
      "outputs": [
        {
          "output_type": "stream",
          "name": "stdout",
          "text": [
            "(1469838, 41)\n",
            "(20000, 41)\n"
          ]
        }
      ],
      "source": [
        "print(dfReal.shape)\n",
        "print(merged_df_final.shape)"
      ]
    },
    {
      "cell_type": "code",
      "execution_count": 15,
      "metadata": {
        "id": "n4Bh78Z3jveO",
        "colab": {
          "base_uri": "https://localhost:8080/"
        },
        "outputId": "2aaf59a2-e546-487c-eef0-d114c98b2079"
      },
      "outputs": [
        {
          "output_type": "stream",
          "name": "stdout",
          "text": [
            "(1489838, 41)\n"
          ]
        }
      ],
      "source": [
        "merged_df_complete = pd.concat([dfReal, merged_df_final], axis=0, ignore_index=True)\n",
        "print(merged_df_complete.shape)"
      ]
    },
    {
      "cell_type": "code",
      "source": [
        "merged_df_complete = shuffle(merged_df_complete).reset_index()\n",
        "merged_df_complete = merged_df_complete.drop(\"index\", axis=1) #elimino colonna indice creata dal reset_index"
      ],
      "metadata": {
        "id": "bKVYzsGFYODZ"
      },
      "execution_count": 16,
      "outputs": []
    },
    {
      "cell_type": "code",
      "execution_count": 17,
      "metadata": {
        "id": "dz_Lo_OVcIUR"
      },
      "outputs": [],
      "source": [
        "col_labels = ['L_BENIGN', 'L_Infiltration_Portscan', 'L_DoS', 'L_DDoS', 'L_BruteForce', 'L_Botnet']\n",
        "y_train = merged_df_complete[['L_BENIGN','L_Infiltration_Portscan','L_DDoS','L_DoS','L_BruteForce','L_Botnet']]\n",
        "X_train = merged_df_complete.drop(columns=col_labels)"
      ]
    },
    {
      "cell_type": "code",
      "execution_count": 18,
      "metadata": {
        "id": "ZKBcA21WqshR",
        "colab": {
          "base_uri": "https://localhost:8080/"
        },
        "outputId": "9eb37292-a0b0-4b22-8b76-a2a50fcbcdd9"
      },
      "outputs": [
        {
          "output_type": "stream",
          "name": "stdout",
          "text": [
            "Samples per classe X_TRAIN\n",
            "1116095\n",
            "161597\n",
            "120134\n",
            "66593\n",
            "4904\n",
            "515\n",
            "====================================\n",
            "Samples per classe GEN\n",
            "0\n",
            "0\n",
            "0\n",
            "0\n",
            "10000\n",
            "10000\n",
            "====================================\n",
            "Samples per classe X_TRAIN+GEN\n",
            "1116095\n",
            "161597\n",
            "120134\n",
            "66593\n",
            "14904\n",
            "10515\n"
          ]
        }
      ],
      "source": [
        "print(\"Samples per classe X_TRAIN\")\n",
        "print((dfReal['L_BENIGN']==1).values.sum())\n",
        "print((dfReal['L_Infiltration_Portscan']==1).values.sum())\n",
        "print((dfReal['L_DoS']==1).values.sum())\n",
        "print((dfReal['L_DDoS']==1).values.sum())\n",
        "print((dfReal['L_BruteForce']==1).values.sum())\n",
        "print((dfReal['L_Botnet']==1).values.sum())\n",
        "print(\"====================================\")\n",
        "print(\"Samples per classe GEN\")\n",
        "print((merged_df_final['L_BENIGN']==1).values.sum())\n",
        "print((merged_df_final['L_Infiltration_Portscan']==1).values.sum())\n",
        "print((merged_df_final['L_DoS']==1).values.sum())\n",
        "print((merged_df_final['L_DDoS']==1).values.sum())\n",
        "print((merged_df_final['L_BruteForce']==1).values.sum())\n",
        "print((merged_df_final['L_Botnet']==1).values.sum())\n",
        "print(\"====================================\")\n",
        "print(\"Samples per classe X_TRAIN+GEN\")\n",
        "print((merged_df_complete['L_BENIGN']==1).values.sum())\n",
        "print((merged_df_complete['L_Infiltration_Portscan']==1).values.sum())\n",
        "print((merged_df_complete['L_DoS']==1).values.sum())\n",
        "print((merged_df_complete['L_DDoS']==1).values.sum())\n",
        "print((merged_df_complete['L_BruteForce']==1).values.sum())\n",
        "print((merged_df_complete['L_Botnet']==1).values.sum())"
      ]
    },
    {
      "cell_type": "code",
      "source": [
        "X_train.shape"
      ],
      "metadata": {
        "colab": {
          "base_uri": "https://localhost:8080/"
        },
        "id": "XdFPD_TVZLJq",
        "outputId": "b6e20fb7-c1b1-4858-da22-7ccd57c05820"
      },
      "execution_count": 19,
      "outputs": [
        {
          "output_type": "execute_result",
          "data": {
            "text/plain": [
              "(1489838, 35)"
            ]
          },
          "metadata": {},
          "execution_count": 19
        }
      ]
    },
    {
      "cell_type": "code",
      "source": [
        "y_train.shape"
      ],
      "metadata": {
        "colab": {
          "base_uri": "https://localhost:8080/"
        },
        "id": "4BKbBL3LZMTS",
        "outputId": "cdc0c833-ce39-43c5-f5d7-229a474d985c"
      },
      "execution_count": 20,
      "outputs": [
        {
          "output_type": "execute_result",
          "data": {
            "text/plain": [
              "(1489838, 6)"
            ]
          },
          "metadata": {},
          "execution_count": 20
        }
      ]
    },
    {
      "cell_type": "markdown",
      "metadata": {
        "id": "gw-4nT-pwI-x"
      },
      "source": [
        "## REAL DATASET"
      ]
    },
    {
      "cell_type": "code",
      "execution_count": null,
      "metadata": {
        "colab": {
          "base_uri": "https://localhost:8080/"
        },
        "id": "ljAzWFEEDKTF",
        "outputId": "6303b728-f967-4882-b18e-062c32fa5b66"
      },
      "outputs": [
        {
          "output_type": "stream",
          "name": "stdout",
          "text": [
            "(1469838, 35)\n",
            "(1469838, 6)\n"
          ]
        }
      ],
      "source": [
        "X_train = pd.read_csv('/content/drive/My Drive/Colab Notebooks/progettoTesi/Dataset2017/improved/Pre-processed_versions/terzoPreprocessing/X_train_35.csv')\n",
        "y_train = pd.read_csv('/content/drive/My Drive/Colab Notebooks/progettoTesi/Dataset2017/improved/Pre-processed_versions/terzoPreprocessing/y_train_35.csv')\n",
        "\n",
        "print(X_train.shape)\n",
        "print(y_train.shape)"
      ]
    },
    {
      "cell_type": "code",
      "source": [
        "#result = pd.concat([X_train, y_train], axis=1)\n",
        "#result.shape\n",
        "#result['L_BENIGN'].value_counts()"
      ],
      "metadata": {
        "id": "7VK7QR75P5oP"
      },
      "execution_count": null,
      "outputs": []
    },
    {
      "cell_type": "markdown",
      "source": [
        "```\n",
        "(1469838, 41)\n",
        "\n",
        "BENIGN                   1116095\n",
        "Infiltration_Portscan     161597\n",
        "DoS                       120134\n",
        "DDoS                       66593\n",
        "BruteForce                  4904\n",
        "Botnet                       515\n",
        "```"
      ],
      "metadata": {
        "id": "JRe37iCjQllL"
      }
    },
    {
      "cell_type": "markdown",
      "metadata": {
        "id": "5cM4eNzTNvJd"
      },
      "source": [
        "## TEST DATASET"
      ]
    },
    {
      "cell_type": "code",
      "execution_count": 21,
      "metadata": {
        "colab": {
          "base_uri": "https://localhost:8080/"
        },
        "id": "n98kgbBjl6tE",
        "outputId": "003f3ec8-3951-46bb-a92e-6f4b03f9fc7f"
      },
      "outputs": [
        {
          "output_type": "stream",
          "name": "stdout",
          "text": [
            "(629931, 35)\n",
            "(629931, 6)\n"
          ]
        }
      ],
      "source": [
        "X_test = pd.read_csv('/content/drive/My Drive/Colab Notebooks/progettoTesi/Dataset2017/improved/Pre-processed_versions/terzoPreprocessing/X_test_35.csv')\n",
        "y_test = pd.read_csv('/content/drive/My Drive/Colab Notebooks/progettoTesi/Dataset2017/improved/Pre-processed_versions/terzoPreprocessing/y_test_35.csv')\n",
        "\n",
        "print(X_test.shape)\n",
        "print(y_test.shape)"
      ]
    },
    {
      "cell_type": "code",
      "source": [
        "df_test = pd.concat([X_test, y_test], axis=1)"
      ],
      "metadata": {
        "id": "FVm3hGkCPFX3"
      },
      "execution_count": 22,
      "outputs": []
    },
    {
      "cell_type": "markdown",
      "source": [
        "```\n",
        "(629931, 41)\n",
        "\n",
        "BENIGN                    478327\n",
        "Infiltration_Portscan      69256\n",
        "DoS                        51486\n",
        "DDoS                       28540\n",
        "BruteForce                  2101\n",
        "Botnet                       221\n",
        "```"
      ],
      "metadata": {
        "id": "kCsXtX6URfbc"
      }
    },
    {
      "cell_type": "markdown",
      "metadata": {
        "id": "l5A8Y2rD8WkZ"
      },
      "source": [
        "## preparo array"
      ]
    },
    {
      "cell_type": "code",
      "execution_count": 23,
      "metadata": {
        "id": "kqUigR_EyBaZ"
      },
      "outputs": [],
      "source": [
        "X_train = X_train.to_numpy()\n",
        "y_train = y_train.to_numpy()\n",
        "X_test = X_test.to_numpy()\n",
        "y_test = y_test.to_numpy()"
      ]
    },
    {
      "cell_type": "code",
      "execution_count": 24,
      "metadata": {
        "colab": {
          "base_uri": "https://localhost:8080/"
        },
        "id": "9-9U_c5o5tHP",
        "outputId": "44213593-5313-40a1-b156-37c66ce5e5dd"
      },
      "outputs": [
        {
          "output_type": "execute_result",
          "data": {
            "text/plain": [
              "((1489838, 35), (1489838, 6), (629931, 35), (629931, 6))"
            ]
          },
          "metadata": {},
          "execution_count": 24
        }
      ],
      "source": [
        "X_train.shape, y_train.shape, X_test.shape, y_test.shape"
      ]
    },
    {
      "cell_type": "markdown",
      "metadata": {
        "id": "zGsQnxJnO0Uc"
      },
      "source": [
        "# **Architettura IDS**"
      ]
    },
    {
      "cell_type": "markdown",
      "source": [
        "### Vecchi"
      ],
      "metadata": {
        "id": "js-hrpAVakJr"
      }
    },
    {
      "cell_type": "markdown",
      "metadata": {
        "id": "ybU81EojBwaM"
      },
      "source": [
        "#### Vecchia versione architettura modello"
      ]
    },
    {
      "cell_type": "code",
      "execution_count": null,
      "metadata": {
        "id": "1wSN-_G02UzL"
      },
      "outputs": [],
      "source": [
        "l_r = 0.0005 #@param"
      ]
    },
    {
      "cell_type": "code",
      "execution_count": null,
      "metadata": {
        "id": "JyBfMI-RZcna"
      },
      "outputs": [],
      "source": [
        "# build the classifier model\n",
        "from keras.models import Sequential\n",
        "from keras.layers import Dense\n",
        "from tensorflow.keras.optimizers import Adam\n",
        "\n",
        "#def baseline_model():\n",
        "  # create model\n",
        "model = Sequential()\n",
        "model.add(Dense(64, input_dim=35, activation='relu'))\n",
        "model.add(Dense(32, activation='relu'))\n",
        "model.add(Dense(6, activation='softmax'))\n",
        "\n",
        "model.compile(loss='categorical_crossentropy', optimizer=Adam(learning_rate=l_r), metrics=['accuracy'])"
      ]
    },
    {
      "cell_type": "markdown",
      "metadata": {
        "id": "556fJdvWB1dd"
      },
      "source": [
        "#### Nuova versione architettura modello per riferimento valutazione\n",
        "Fonte: https://ijece.iaescore.com/index.php/IJECE/article/view/26968/16288\n"
      ]
    },
    {
      "cell_type": "code",
      "execution_count": null,
      "metadata": {
        "id": "cJsQNUSwBvbR"
      },
      "outputs": [],
      "source": [
        "from keras.models import Sequential\n",
        "from keras.layers import Dense, InputLayer\n",
        "from tensorflow.keras.optimizers import Adam\n",
        "import tensorflow as tf\n",
        "\n",
        "# Define the model\n",
        "model = Sequential()\n",
        "model.add(InputLayer(input_shape=(35,)))\n",
        "model.add(Dense(32, activation='relu'))\n",
        "model.add(Dense(72, activation='relu'))\n",
        "model.add(Dense(32, activation='relu'))\n",
        "model.add(Dense(6, activation='softmax'))\n",
        "\n",
        "# Compile the model\n",
        "model.compile(optimizer=Adam(learning_rate=l_r),\n",
        "              loss='categorical_crossentropy',\n",
        "              metrics=['accuracy', tf.keras.metrics.Recall()])"
      ]
    },
    {
      "cell_type": "markdown",
      "metadata": {
        "id": "j9_-zSfCJK8I"
      },
      "source": [
        "#### Nuova versione (2) architettura modello per riferimento valutazione\n",
        "Fonte: 10.1109/MILCOM47813.2019.9020824"
      ]
    },
    {
      "cell_type": "markdown",
      "metadata": {
        "id": "9YR6ZBJ2hCet"
      },
      "source": [
        "### ***GIUSTA*** - Nuova versione (3) architettura modello per riferimento valutazione\n",
        "Fonte: 10.3390/app13127328\n"
      ]
    },
    {
      "cell_type": "code",
      "execution_count": 25,
      "metadata": {
        "id": "ONvVkyl4JKk0",
        "colab": {
          "base_uri": "https://localhost:8080/"
        },
        "outputId": "6b1936d9-7b75-4099-cd0c-2822b0728c0d"
      },
      "outputs": [
        {
          "output_type": "stream",
          "name": "stderr",
          "text": [
            "/usr/local/lib/python3.10/dist-packages/keras/src/layers/core/dense.py:87: UserWarning: Do not pass an `input_shape`/`input_dim` argument to a layer. When using Sequential models, prefer using an `Input(shape)` object as the first layer in the model instead.\n",
            "  super().__init__(activity_regularizer=activity_regularizer, **kwargs)\n"
          ]
        }
      ],
      "source": [
        "\n",
        "\n",
        "from tensorflow.keras.models import Sequential\n",
        "from tensorflow.keras.layers import Dense\n",
        "from tensorflow.keras.callbacks import EarlyStopping\n",
        "from tensorflow.keras.regularizers import l2\n",
        "\n",
        "model = Sequential()\n",
        "model.add(Dense(64, input_dim=35, activation='relu', kernel_regularizer=l2(0.01)))\n",
        "model.add(Dense(128, activation='relu', kernel_regularizer=l2(0.01)))\n",
        "model.add(Dense(128, activation='relu', kernel_regularizer=l2(0.01)))\n",
        "model.add(Dense(64, activation='relu', kernel_regularizer=l2(0.01))) #il paper si confonde e dà due valori: 0.001 e 0.01\n",
        "model.add(Dense(6, activation='softmax'))\n",
        "\n",
        "model.compile(optimizer=tf.keras.optimizers.Adam(learning_rate=0.001), loss='categorical_crossentropy', metrics=['accuracy'])"
      ]
    },
    {
      "cell_type": "markdown",
      "metadata": {
        "id": "Ph8lJ_0mJL-b"
      },
      "source": [
        "### Model summary"
      ]
    },
    {
      "cell_type": "code",
      "execution_count": null,
      "metadata": {
        "colab": {
          "base_uri": "https://localhost:8080/"
        },
        "id": "gqvH3MBP4gg2",
        "outputId": "cfd58f99-160d-41f0-cc31-d0951705f862"
      },
      "outputs": [
        {
          "output_type": "stream",
          "name": "stdout",
          "text": [
            "Model: \"sequential\"\n",
            "_________________________________________________________________\n",
            " Layer (type)                Output Shape              Param #   \n",
            "=================================================================\n",
            " dense (Dense)               (None, 64)                2304      \n",
            "                                                                 \n",
            " dense_1 (Dense)             (None, 128)               8320      \n",
            "                                                                 \n",
            " dense_2 (Dense)             (None, 128)               16512     \n",
            "                                                                 \n",
            " dense_3 (Dense)             (None, 64)                8256      \n",
            "                                                                 \n",
            " dense_4 (Dense)             (None, 6)                 390       \n",
            "                                                                 \n",
            "=================================================================\n",
            "Total params: 35782 (139.77 KB)\n",
            "Trainable params: 35782 (139.77 KB)\n",
            "Non-trainable params: 0 (0.00 Byte)\n",
            "_________________________________________________________________\n"
          ]
        }
      ],
      "source": [
        "model.summary()"
      ]
    },
    {
      "cell_type": "markdown",
      "metadata": {
        "id": "KufZWSYfdLLd"
      },
      "source": [
        "## **Training**\n"
      ]
    },
    {
      "cell_type": "code",
      "execution_count": 28,
      "metadata": {
        "id": "3-14oCb6pkqt"
      },
      "outputs": [],
      "source": [
        "e = 300 #@param\n",
        "v_split = 0.20 #@param\n",
        "pat_earlyStop = 20 #@param\n",
        "train_batch_size = 1024 #@param\n",
        "lr = 0.001"
      ]
    },
    {
      "cell_type": "markdown",
      "metadata": {
        "id": "lphmjkx4qClf"
      },
      "source": [
        "Definisco un validation set migliore, più bilanciato..."
      ]
    },
    {
      "cell_type": "code",
      "execution_count": 29,
      "metadata": {
        "id": "wcWJhpL8qEQU"
      },
      "outputs": [],
      "source": [
        "from sklearn.model_selection import train_test_split\n",
        "\n",
        "X_combined = X_train\n",
        "y_combined = y_train\n",
        "\n",
        "X_train, X_val, y_train, y_val = train_test_split(\n",
        "    X_combined, y_combined, test_size=v_split, random_state=3, stratify=y_combined\n",
        ")"
      ]
    },
    {
      "cell_type": "code",
      "execution_count": 30,
      "metadata": {
        "id": "YXKDAEe54CL1",
        "colab": {
          "base_uri": "https://localhost:8080/"
        },
        "outputId": "e0361457-ec3c-43d9-d9a1-9eef77c78380"
      },
      "outputs": [
        {
          "output_type": "stream",
          "name": "stdout",
          "text": [
            "(1191870, 35)\n",
            "(297968, 35)\n"
          ]
        }
      ],
      "source": [
        "print(X_train.shape)\n",
        "print(X_val.shape)"
      ]
    },
    {
      "cell_type": "markdown",
      "metadata": {
        "id": "coFVSKl49EJi"
      },
      "source": [
        "#### Class Weighting"
      ]
    },
    {
      "cell_type": "code",
      "execution_count": 31,
      "metadata": {
        "id": "j-U6DBar9EbW"
      },
      "outputs": [],
      "source": [
        "#Cerco di capire se l'imbalanced classes mi da problemi di TROPPA BRAVURA del DNN ==> eseguo class Weighting\n",
        "from sklearn.utils.class_weight import compute_class_weight\n",
        "\n",
        "class_values = np.argmax(y_train, axis=1)\n",
        "class_weights = compute_class_weight(class_weight='balanced', classes=np.unique(class_values), y=class_values)\n",
        "class_weight_dict = dict(zip(np.unique(class_values), class_weights))"
      ]
    },
    {
      "cell_type": "code",
      "execution_count": 32,
      "metadata": {
        "id": "Zudx7PpoLTPX",
        "colab": {
          "base_uri": "https://localhost:8080/"
        },
        "outputId": "2107c751-6cda-4a60-c5fa-975aa408e391"
      },
      "outputs": [
        {
          "output_type": "stream",
          "name": "stdout",
          "text": [
            "[0 0 0 ... 0 0 0]\n",
            "[ 0.2224777   1.53657235  3.72874198  2.066915   16.66065588 23.61447932]\n"
          ]
        }
      ],
      "source": [
        "print(class_values)\n",
        "print(class_weights)"
      ]
    },
    {
      "cell_type": "markdown",
      "metadata": {
        "id": "dp5lWVSoqRtA"
      },
      "source": [
        "#### Train"
      ]
    },
    {
      "cell_type": "code",
      "execution_count": 33,
      "metadata": {
        "id": "U8RTHSMoGUYA",
        "colab": {
          "base_uri": "https://localhost:8080/"
        },
        "outputId": "6f1948e1-e6c6-4df0-c7d4-726a87e597a9"
      },
      "outputs": [
        {
          "output_type": "stream",
          "name": "stdout",
          "text": [
            "Epoch 1/300\n",
            "1164/1164 - 8s - 7ms/step - accuracy: 0.9364 - loss: 0.6205 - val_accuracy: 0.9618 - val_loss: 0.3308\n",
            "Epoch 2/300\n",
            "1164/1164 - 6s - 5ms/step - accuracy: 0.9620 - loss: 0.3118 - val_accuracy: 0.9614 - val_loss: 0.2964\n",
            "Epoch 3/300\n",
            "1164/1164 - 6s - 6ms/step - accuracy: 0.9627 - loss: 0.2860 - val_accuracy: 0.9628 - val_loss: 0.2756\n",
            "Epoch 4/300\n",
            "1164/1164 - 7s - 6ms/step - accuracy: 0.9634 - loss: 0.2692 - val_accuracy: 0.9632 - val_loss: 0.2632\n",
            "Epoch 5/300\n",
            "1164/1164 - 6s - 5ms/step - accuracy: 0.9641 - loss: 0.2573 - val_accuracy: 0.9617 - val_loss: 0.2620\n",
            "Epoch 6/300\n",
            "1164/1164 - 6s - 5ms/step - accuracy: 0.9647 - loss: 0.2475 - val_accuracy: 0.9642 - val_loss: 0.2430\n",
            "Epoch 7/300\n",
            "1164/1164 - 6s - 6ms/step - accuracy: 0.9650 - loss: 0.2399 - val_accuracy: 0.9651 - val_loss: 0.2352\n",
            "Epoch 8/300\n",
            "1164/1164 - 6s - 6ms/step - accuracy: 0.9654 - loss: 0.2332 - val_accuracy: 0.9656 - val_loss: 0.2296\n",
            "Epoch 9/300\n",
            "1164/1164 - 6s - 5ms/step - accuracy: 0.9656 - loss: 0.2275 - val_accuracy: 0.9656 - val_loss: 0.2250\n",
            "Epoch 10/300\n",
            "1164/1164 - 6s - 6ms/step - accuracy: 0.9659 - loss: 0.2223 - val_accuracy: 0.9656 - val_loss: 0.2196\n",
            "Epoch 11/300\n",
            "1164/1164 - 7s - 6ms/step - accuracy: 0.9661 - loss: 0.2180 - val_accuracy: 0.9660 - val_loss: 0.2150\n",
            "Epoch 12/300\n",
            "1164/1164 - 6s - 5ms/step - accuracy: 0.9662 - loss: 0.2143 - val_accuracy: 0.9660 - val_loss: 0.2128\n",
            "Epoch 13/300\n",
            "1164/1164 - 7s - 6ms/step - accuracy: 0.9664 - loss: 0.2110 - val_accuracy: 0.9667 - val_loss: 0.2084\n",
            "Epoch 14/300\n",
            "1164/1164 - 6s - 5ms/step - accuracy: 0.9665 - loss: 0.2078 - val_accuracy: 0.9666 - val_loss: 0.2056\n",
            "Epoch 15/300\n",
            "1164/1164 - 6s - 5ms/step - accuracy: 0.9667 - loss: 0.2048 - val_accuracy: 0.9666 - val_loss: 0.2033\n",
            "Epoch 16/300\n",
            "1164/1164 - 6s - 5ms/step - accuracy: 0.9668 - loss: 0.2015 - val_accuracy: 0.9669 - val_loss: 0.1988\n",
            "Epoch 17/300\n",
            "1164/1164 - 6s - 6ms/step - accuracy: 0.9672 - loss: 0.1971 - val_accuracy: 0.9672 - val_loss: 0.1942\n",
            "Epoch 18/300\n",
            "1164/1164 - 6s - 5ms/step - accuracy: 0.9705 - loss: 0.1912 - val_accuracy: 0.9707 - val_loss: 0.1907\n",
            "Epoch 19/300\n",
            "1164/1164 - 6s - 5ms/step - accuracy: 0.9727 - loss: 0.1868 - val_accuracy: 0.9730 - val_loss: 0.1863\n",
            "Epoch 20/300\n",
            "1164/1164 - 6s - 5ms/step - accuracy: 0.9739 - loss: 0.1825 - val_accuracy: 0.9745 - val_loss: 0.1803\n",
            "Epoch 21/300\n",
            "1164/1164 - 6s - 6ms/step - accuracy: 0.9743 - loss: 0.1796 - val_accuracy: 0.9747 - val_loss: 0.1772\n",
            "Epoch 22/300\n",
            "1164/1164 - 6s - 5ms/step - accuracy: 0.9748 - loss: 0.1766 - val_accuracy: 0.9752 - val_loss: 0.1745\n",
            "Epoch 23/300\n",
            "1164/1164 - 6s - 5ms/step - accuracy: 0.9754 - loss: 0.1734 - val_accuracy: 0.9753 - val_loss: 0.1714\n",
            "Epoch 24/300\n",
            "1164/1164 - 6s - 6ms/step - accuracy: 0.9761 - loss: 0.1712 - val_accuracy: 0.9787 - val_loss: 0.1759\n",
            "Epoch 25/300\n",
            "1164/1164 - 6s - 5ms/step - accuracy: 0.9767 - loss: 0.1688 - val_accuracy: 0.9751 - val_loss: 0.1665\n",
            "Epoch 26/300\n",
            "1164/1164 - 6s - 5ms/step - accuracy: 0.9779 - loss: 0.1671 - val_accuracy: 0.9782 - val_loss: 0.1655\n",
            "Epoch 27/300\n",
            "1164/1164 - 6s - 5ms/step - accuracy: 0.9786 - loss: 0.1649 - val_accuracy: 0.9800 - val_loss: 0.1629\n",
            "Epoch 28/300\n",
            "1164/1164 - 6s - 5ms/step - accuracy: 0.9796 - loss: 0.1631 - val_accuracy: 0.9794 - val_loss: 0.1626\n",
            "Epoch 29/300\n",
            "1164/1164 - 6s - 5ms/step - accuracy: 0.9805 - loss: 0.1614 - val_accuracy: 0.9838 - val_loss: 0.1604\n",
            "Epoch 30/300\n",
            "1164/1164 - 6s - 5ms/step - accuracy: 0.9811 - loss: 0.1599 - val_accuracy: 0.9752 - val_loss: 0.1645\n",
            "Epoch 31/300\n",
            "1164/1164 - 6s - 5ms/step - accuracy: 0.9815 - loss: 0.1586 - val_accuracy: 0.9790 - val_loss: 0.1569\n",
            "Epoch 32/300\n",
            "1164/1164 - 6s - 5ms/step - accuracy: 0.9823 - loss: 0.1568 - val_accuracy: 0.9828 - val_loss: 0.1549\n",
            "Epoch 33/300\n",
            "1164/1164 - 6s - 5ms/step - accuracy: 0.9828 - loss: 0.1556 - val_accuracy: 0.9768 - val_loss: 0.1570\n",
            "Epoch 34/300\n",
            "1164/1164 - 6s - 5ms/step - accuracy: 0.9832 - loss: 0.1538 - val_accuracy: 0.9799 - val_loss: 0.1532\n",
            "Epoch 35/300\n",
            "1164/1164 - 6s - 5ms/step - accuracy: 0.9836 - loss: 0.1526 - val_accuracy: 0.9785 - val_loss: 0.1522\n",
            "Epoch 36/300\n",
            "1164/1164 - 6s - 5ms/step - accuracy: 0.9836 - loss: 0.1518 - val_accuracy: 0.9849 - val_loss: 0.1504\n",
            "Epoch 37/300\n",
            "1164/1164 - 6s - 5ms/step - accuracy: 0.9840 - loss: 0.1505 - val_accuracy: 0.9817 - val_loss: 0.1491\n",
            "Epoch 38/300\n",
            "1164/1164 - 6s - 5ms/step - accuracy: 0.9842 - loss: 0.1493 - val_accuracy: 0.9798 - val_loss: 0.1493\n",
            "Epoch 39/300\n",
            "1164/1164 - 6s - 5ms/step - accuracy: 0.9845 - loss: 0.1481 - val_accuracy: 0.9860 - val_loss: 0.1463\n",
            "Epoch 40/300\n",
            "1164/1164 - 6s - 5ms/step - accuracy: 0.9847 - loss: 0.1470 - val_accuracy: 0.9854 - val_loss: 0.1452\n",
            "Epoch 41/300\n",
            "1164/1164 - 6s - 5ms/step - accuracy: 0.9851 - loss: 0.1457 - val_accuracy: 0.9854 - val_loss: 0.1440\n",
            "Epoch 42/300\n",
            "1164/1164 - 6s - 5ms/step - accuracy: 0.9854 - loss: 0.1440 - val_accuracy: 0.9858 - val_loss: 0.1446\n",
            "Epoch 43/300\n",
            "1164/1164 - 6s - 5ms/step - accuracy: 0.9857 - loss: 0.1426 - val_accuracy: 0.9855 - val_loss: 0.1406\n",
            "Epoch 44/300\n",
            "1164/1164 - 7s - 6ms/step - accuracy: 0.9857 - loss: 0.1417 - val_accuracy: 0.9853 - val_loss: 0.1427\n",
            "Epoch 45/300\n",
            "1164/1164 - 7s - 6ms/step - accuracy: 0.9858 - loss: 0.1407 - val_accuracy: 0.9863 - val_loss: 0.1400\n",
            "Epoch 46/300\n",
            "1164/1164 - 7s - 6ms/step - accuracy: 0.9858 - loss: 0.1399 - val_accuracy: 0.9868 - val_loss: 0.1393\n",
            "Epoch 47/300\n",
            "1164/1164 - 7s - 6ms/step - accuracy: 0.9859 - loss: 0.1386 - val_accuracy: 0.9870 - val_loss: 0.1375\n",
            "Epoch 48/300\n",
            "1164/1164 - 6s - 6ms/step - accuracy: 0.9859 - loss: 0.1382 - val_accuracy: 0.9856 - val_loss: 0.1393\n",
            "Epoch 49/300\n",
            "1164/1164 - 6s - 5ms/step - accuracy: 0.9861 - loss: 0.1373 - val_accuracy: 0.9873 - val_loss: 0.1371\n",
            "Epoch 50/300\n",
            "1164/1164 - 6s - 5ms/step - accuracy: 0.9860 - loss: 0.1366 - val_accuracy: 0.9864 - val_loss: 0.1349\n",
            "Epoch 51/300\n",
            "1164/1164 - 6s - 5ms/step - accuracy: 0.9862 - loss: 0.1356 - val_accuracy: 0.9865 - val_loss: 0.1347\n",
            "Epoch 52/300\n",
            "1164/1164 - 7s - 6ms/step - accuracy: 0.9862 - loss: 0.1352 - val_accuracy: 0.9866 - val_loss: 0.1341\n",
            "Epoch 53/300\n",
            "1164/1164 - 6s - 5ms/step - accuracy: 0.9863 - loss: 0.1344 - val_accuracy: 0.9860 - val_loss: 0.1329\n",
            "Epoch 54/300\n",
            "1164/1164 - 7s - 6ms/step - accuracy: 0.9862 - loss: 0.1339 - val_accuracy: 0.9857 - val_loss: 0.1361\n",
            "Epoch 55/300\n",
            "1164/1164 - 6s - 6ms/step - accuracy: 0.9863 - loss: 0.1331 - val_accuracy: 0.9857 - val_loss: 0.1399\n",
            "Epoch 56/300\n",
            "1164/1164 - 6s - 6ms/step - accuracy: 0.9863 - loss: 0.1328 - val_accuracy: 0.9857 - val_loss: 0.1327\n",
            "Epoch 57/300\n",
            "1164/1164 - 7s - 6ms/step - accuracy: 0.9863 - loss: 0.1320 - val_accuracy: 0.9860 - val_loss: 0.1307\n",
            "Epoch 58/300\n",
            "1164/1164 - 6s - 6ms/step - accuracy: 0.9864 - loss: 0.1313 - val_accuracy: 0.9863 - val_loss: 0.1306\n",
            "Epoch 59/300\n",
            "1164/1164 - 7s - 6ms/step - accuracy: 0.9865 - loss: 0.1307 - val_accuracy: 0.9859 - val_loss: 0.1346\n",
            "Epoch 60/300\n",
            "1164/1164 - 7s - 6ms/step - accuracy: 0.9866 - loss: 0.1303 - val_accuracy: 0.9859 - val_loss: 0.1321\n",
            "Epoch 61/300\n",
            "1164/1164 - 6s - 6ms/step - accuracy: 0.9865 - loss: 0.1297 - val_accuracy: 0.9881 - val_loss: 0.1293\n",
            "Epoch 62/300\n",
            "1164/1164 - 6s - 5ms/step - accuracy: 0.9867 - loss: 0.1293 - val_accuracy: 0.9858 - val_loss: 0.1299\n",
            "Epoch 63/300\n",
            "1164/1164 - 6s - 5ms/step - accuracy: 0.9867 - loss: 0.1285 - val_accuracy: 0.9858 - val_loss: 0.1284\n",
            "Epoch 64/300\n",
            "1164/1164 - 6s - 6ms/step - accuracy: 0.9868 - loss: 0.1280 - val_accuracy: 0.9863 - val_loss: 0.1275\n",
            "Epoch 65/300\n",
            "1164/1164 - 6s - 5ms/step - accuracy: 0.9868 - loss: 0.1277 - val_accuracy: 0.9851 - val_loss: 0.1336\n",
            "Epoch 66/300\n",
            "1164/1164 - 6s - 5ms/step - accuracy: 0.9869 - loss: 0.1271 - val_accuracy: 0.9877 - val_loss: 0.1261\n",
            "Epoch 67/300\n",
            "1164/1164 - 7s - 6ms/step - accuracy: 0.9870 - loss: 0.1267 - val_accuracy: 0.9879 - val_loss: 0.1261\n",
            "Epoch 68/300\n",
            "1164/1164 - 6s - 5ms/step - accuracy: 0.9872 - loss: 0.1263 - val_accuracy: 0.9871 - val_loss: 0.1250\n",
            "Epoch 69/300\n",
            "1164/1164 - 6s - 5ms/step - accuracy: 0.9874 - loss: 0.1256 - val_accuracy: 0.9872 - val_loss: 0.1247\n",
            "Epoch 70/300\n",
            "1164/1164 - 6s - 5ms/step - accuracy: 0.9873 - loss: 0.1252 - val_accuracy: 0.9858 - val_loss: 0.1250\n",
            "Epoch 71/300\n",
            "1164/1164 - 6s - 5ms/step - accuracy: 0.9877 - loss: 0.1248 - val_accuracy: 0.9876 - val_loss: 0.1240\n",
            "Epoch 72/300\n",
            "1164/1164 - 6s - 6ms/step - accuracy: 0.9879 - loss: 0.1245 - val_accuracy: 0.9864 - val_loss: 0.1232\n",
            "Epoch 73/300\n",
            "1164/1164 - 6s - 5ms/step - accuracy: 0.9880 - loss: 0.1241 - val_accuracy: 0.9865 - val_loss: 0.1231\n",
            "Epoch 74/300\n",
            "1164/1164 - 7s - 6ms/step - accuracy: 0.9882 - loss: 0.1235 - val_accuracy: 0.9911 - val_loss: 0.1233\n",
            "Epoch 75/300\n",
            "1164/1164 - 7s - 6ms/step - accuracy: 0.9883 - loss: 0.1232 - val_accuracy: 0.9920 - val_loss: 0.1221\n",
            "Epoch 76/300\n",
            "1164/1164 - 6s - 5ms/step - accuracy: 0.9887 - loss: 0.1230 - val_accuracy: 0.9858 - val_loss: 0.1275\n",
            "Epoch 77/300\n",
            "1164/1164 - 7s - 6ms/step - accuracy: 0.9887 - loss: 0.1224 - val_accuracy: 0.9886 - val_loss: 0.1213\n",
            "Epoch 78/300\n",
            "1164/1164 - 7s - 6ms/step - accuracy: 0.9890 - loss: 0.1219 - val_accuracy: 0.9866 - val_loss: 0.1209\n",
            "Epoch 79/300\n",
            "1164/1164 - 7s - 6ms/step - accuracy: 0.9893 - loss: 0.1215 - val_accuracy: 0.9875 - val_loss: 0.1209\n",
            "Epoch 80/300\n",
            "1164/1164 - 6s - 5ms/step - accuracy: 0.9891 - loss: 0.1214 - val_accuracy: 0.9859 - val_loss: 0.1227\n",
            "Epoch 81/300\n",
            "1164/1164 - 7s - 6ms/step - accuracy: 0.9897 - loss: 0.1209 - val_accuracy: 0.9940 - val_loss: 0.1204\n",
            "Epoch 82/300\n",
            "1164/1164 - 6s - 5ms/step - accuracy: 0.9896 - loss: 0.1204 - val_accuracy: 0.9870 - val_loss: 0.1228\n",
            "Epoch 83/300\n",
            "1164/1164 - 7s - 6ms/step - accuracy: 0.9898 - loss: 0.1202 - val_accuracy: 0.9936 - val_loss: 0.1203\n",
            "Epoch 84/300\n",
            "1164/1164 - 7s - 6ms/step - accuracy: 0.9901 - loss: 0.1198 - val_accuracy: 0.9871 - val_loss: 0.1197\n",
            "Epoch 85/300\n",
            "1164/1164 - 6s - 6ms/step - accuracy: 0.9900 - loss: 0.1196 - val_accuracy: 0.9934 - val_loss: 0.1191\n",
            "Epoch 86/300\n",
            "1164/1164 - 6s - 5ms/step - accuracy: 0.9905 - loss: 0.1191 - val_accuracy: 0.9871 - val_loss: 0.1203\n",
            "Epoch 87/300\n",
            "1164/1164 - 7s - 6ms/step - accuracy: 0.9902 - loss: 0.1190 - val_accuracy: 0.9930 - val_loss: 0.1186\n",
            "Epoch 88/300\n",
            "1164/1164 - 6s - 6ms/step - accuracy: 0.9908 - loss: 0.1185 - val_accuracy: 0.9945 - val_loss: 0.1176\n",
            "Epoch 89/300\n",
            "1164/1164 - 7s - 6ms/step - accuracy: 0.9911 - loss: 0.1180 - val_accuracy: 0.9935 - val_loss: 0.1185\n",
            "Epoch 90/300\n",
            "1164/1164 - 6s - 6ms/step - accuracy: 0.9911 - loss: 0.1178 - val_accuracy: 0.9866 - val_loss: 0.1203\n",
            "Epoch 91/300\n",
            "1164/1164 - 6s - 5ms/step - accuracy: 0.9913 - loss: 0.1176 - val_accuracy: 0.9927 - val_loss: 0.1187\n",
            "Epoch 92/300\n",
            "1164/1164 - 6s - 6ms/step - accuracy: 0.9916 - loss: 0.1173 - val_accuracy: 0.9940 - val_loss: 0.1175\n",
            "Epoch 93/300\n",
            "1164/1164 - 7s - 6ms/step - accuracy: 0.9918 - loss: 0.1170 - val_accuracy: 0.9937 - val_loss: 0.1161\n",
            "Epoch 94/300\n",
            "1164/1164 - 6s - 5ms/step - accuracy: 0.9916 - loss: 0.1166 - val_accuracy: 0.9946 - val_loss: 0.1157\n",
            "Epoch 95/300\n",
            "1164/1164 - 6s - 5ms/step - accuracy: 0.9920 - loss: 0.1163 - val_accuracy: 0.9937 - val_loss: 0.1174\n",
            "Epoch 96/300\n",
            "1164/1164 - 6s - 5ms/step - accuracy: 0.9920 - loss: 0.1160 - val_accuracy: 0.9877 - val_loss: 0.1160\n",
            "Epoch 97/300\n",
            "1164/1164 - 6s - 5ms/step - accuracy: 0.9924 - loss: 0.1156 - val_accuracy: 0.9895 - val_loss: 0.1157\n",
            "Epoch 98/300\n",
            "1164/1164 - 7s - 6ms/step - accuracy: 0.9923 - loss: 0.1156 - val_accuracy: 0.9938 - val_loss: 0.1142\n",
            "Epoch 99/300\n",
            "1164/1164 - 6s - 5ms/step - accuracy: 0.9926 - loss: 0.1151 - val_accuracy: 0.9949 - val_loss: 0.1150\n",
            "Epoch 100/300\n",
            "1164/1164 - 6s - 5ms/step - accuracy: 0.9926 - loss: 0.1149 - val_accuracy: 0.9937 - val_loss: 0.1140\n",
            "Epoch 101/300\n",
            "1164/1164 - 6s - 5ms/step - accuracy: 0.9929 - loss: 0.1142 - val_accuracy: 0.9935 - val_loss: 0.1132\n",
            "Epoch 102/300\n",
            "1164/1164 - 6s - 5ms/step - accuracy: 0.9926 - loss: 0.1144 - val_accuracy: 0.9928 - val_loss: 0.1135\n",
            "Epoch 103/300\n",
            "1164/1164 - 6s - 5ms/step - accuracy: 0.9926 - loss: 0.1143 - val_accuracy: 0.9946 - val_loss: 0.1135\n",
            "Epoch 104/300\n",
            "1164/1164 - 6s - 5ms/step - accuracy: 0.9929 - loss: 0.1137 - val_accuracy: 0.9937 - val_loss: 0.1128\n",
            "Epoch 105/300\n",
            "1164/1164 - 6s - 6ms/step - accuracy: 0.9929 - loss: 0.1137 - val_accuracy: 0.9851 - val_loss: 0.1173\n",
            "Epoch 106/300\n",
            "1164/1164 - 6s - 5ms/step - accuracy: 0.9931 - loss: 0.1131 - val_accuracy: 0.9949 - val_loss: 0.1133\n",
            "Epoch 107/300\n",
            "1164/1164 - 6s - 5ms/step - accuracy: 0.9930 - loss: 0.1131 - val_accuracy: 0.9943 - val_loss: 0.1123\n",
            "Epoch 108/300\n",
            "1164/1164 - 6s - 5ms/step - accuracy: 0.9931 - loss: 0.1129 - val_accuracy: 0.9927 - val_loss: 0.1134\n",
            "Epoch 109/300\n",
            "1164/1164 - 6s - 5ms/step - accuracy: 0.9932 - loss: 0.1127 - val_accuracy: 0.9947 - val_loss: 0.1141\n",
            "Epoch 110/300\n",
            "1164/1164 - 6s - 5ms/step - accuracy: 0.9933 - loss: 0.1121 - val_accuracy: 0.9933 - val_loss: 0.1124\n",
            "Epoch 111/300\n",
            "1164/1164 - 6s - 5ms/step - accuracy: 0.9932 - loss: 0.1122 - val_accuracy: 0.9944 - val_loss: 0.1109\n",
            "Epoch 112/300\n",
            "1164/1164 - 7s - 6ms/step - accuracy: 0.9933 - loss: 0.1120 - val_accuracy: 0.9934 - val_loss: 0.1131\n",
            "Epoch 113/300\n",
            "1164/1164 - 7s - 6ms/step - accuracy: 0.9934 - loss: 0.1115 - val_accuracy: 0.9938 - val_loss: 0.1106\n",
            "Epoch 114/300\n",
            "1164/1164 - 7s - 6ms/step - accuracy: 0.9932 - loss: 0.1118 - val_accuracy: 0.9947 - val_loss: 0.1117\n",
            "Epoch 115/300\n",
            "1164/1164 - 6s - 5ms/step - accuracy: 0.9936 - loss: 0.1110 - val_accuracy: 0.9932 - val_loss: 0.1128\n",
            "Epoch 116/300\n",
            "1164/1164 - 6s - 5ms/step - accuracy: 0.9935 - loss: 0.1110 - val_accuracy: 0.9938 - val_loss: 0.1108\n",
            "Epoch 117/300\n",
            "1164/1164 - 6s - 6ms/step - accuracy: 0.9936 - loss: 0.1108 - val_accuracy: 0.9931 - val_loss: 0.1096\n",
            "Epoch 118/300\n",
            "1164/1164 - 6s - 5ms/step - accuracy: 0.9938 - loss: 0.1101 - val_accuracy: 0.9931 - val_loss: 0.1118\n",
            "Epoch 119/300\n",
            "1164/1164 - 6s - 6ms/step - accuracy: 0.9937 - loss: 0.1102 - val_accuracy: 0.9946 - val_loss: 0.1098\n",
            "Epoch 120/300\n",
            "1164/1164 - 6s - 5ms/step - accuracy: 0.9937 - loss: 0.1100 - val_accuracy: 0.9913 - val_loss: 0.1139\n",
            "Epoch 121/300\n",
            "1164/1164 - 6s - 5ms/step - accuracy: 0.9937 - loss: 0.1100 - val_accuracy: 0.9932 - val_loss: 0.1102\n",
            "Epoch 122/300\n",
            "1164/1164 - 6s - 5ms/step - accuracy: 0.9937 - loss: 0.1097 - val_accuracy: 0.9949 - val_loss: 0.1084\n",
            "Epoch 123/300\n",
            "1164/1164 - 6s - 5ms/step - accuracy: 0.9938 - loss: 0.1091 - val_accuracy: 0.9934 - val_loss: 0.1086\n",
            "Epoch 124/300\n",
            "1164/1164 - 6s - 5ms/step - accuracy: 0.9936 - loss: 0.1097 - val_accuracy: 0.9942 - val_loss: 0.1086\n",
            "Epoch 125/300\n",
            "1164/1164 - 6s - 6ms/step - accuracy: 0.9937 - loss: 0.1092 - val_accuracy: 0.9940 - val_loss: 0.1088\n",
            "Epoch 126/300\n",
            "1164/1164 - 6s - 5ms/step - accuracy: 0.9939 - loss: 0.1088 - val_accuracy: 0.9943 - val_loss: 0.1081\n",
            "Epoch 127/300\n",
            "1164/1164 - 6s - 5ms/step - accuracy: 0.9938 - loss: 0.1086 - val_accuracy: 0.9940 - val_loss: 0.1076\n",
            "Epoch 128/300\n",
            "1164/1164 - 6s - 5ms/step - accuracy: 0.9939 - loss: 0.1084 - val_accuracy: 0.9946 - val_loss: 0.1072\n",
            "Epoch 129/300\n",
            "1164/1164 - 6s - 6ms/step - accuracy: 0.9939 - loss: 0.1083 - val_accuracy: 0.9951 - val_loss: 0.1085\n",
            "Epoch 130/300\n",
            "1164/1164 - 6s - 5ms/step - accuracy: 0.9939 - loss: 0.1081 - val_accuracy: 0.9947 - val_loss: 0.1080\n",
            "Epoch 131/300\n",
            "1164/1164 - 6s - 5ms/step - accuracy: 0.9938 - loss: 0.1079 - val_accuracy: 0.9943 - val_loss: 0.1068\n",
            "Epoch 132/300\n",
            "1164/1164 - 6s - 5ms/step - accuracy: 0.9939 - loss: 0.1077 - val_accuracy: 0.9927 - val_loss: 0.1088\n",
            "Epoch 133/300\n",
            "1164/1164 - 6s - 5ms/step - accuracy: 0.9939 - loss: 0.1076 - val_accuracy: 0.9940 - val_loss: 0.1077\n",
            "Epoch 134/300\n",
            "1164/1164 - 6s - 5ms/step - accuracy: 0.9939 - loss: 0.1073 - val_accuracy: 0.9950 - val_loss: 0.1059\n",
            "Epoch 135/300\n",
            "1164/1164 - 7s - 6ms/step - accuracy: 0.9939 - loss: 0.1072 - val_accuracy: 0.9935 - val_loss: 0.1061\n",
            "Epoch 136/300\n",
            "1164/1164 - 7s - 6ms/step - accuracy: 0.9940 - loss: 0.1067 - val_accuracy: 0.9936 - val_loss: 0.1056\n",
            "Epoch 137/300\n",
            "1164/1164 - 6s - 6ms/step - accuracy: 0.9939 - loss: 0.1067 - val_accuracy: 0.9939 - val_loss: 0.1057\n",
            "Epoch 138/300\n",
            "1164/1164 - 6s - 6ms/step - accuracy: 0.9941 - loss: 0.1064 - val_accuracy: 0.9945 - val_loss: 0.1058\n",
            "Epoch 139/300\n",
            "1164/1164 - 6s - 5ms/step - accuracy: 0.9940 - loss: 0.1064 - val_accuracy: 0.9928 - val_loss: 0.1077\n",
            "Epoch 140/300\n",
            "1164/1164 - 6s - 5ms/step - accuracy: 0.9941 - loss: 0.1061 - val_accuracy: 0.9950 - val_loss: 0.1048\n",
            "Epoch 141/300\n",
            "1164/1164 - 6s - 5ms/step - accuracy: 0.9939 - loss: 0.1063 - val_accuracy: 0.9940 - val_loss: 0.1068\n",
            "Epoch 142/300\n",
            "1164/1164 - 6s - 5ms/step - accuracy: 0.9941 - loss: 0.1058 - val_accuracy: 0.9949 - val_loss: 0.1048\n",
            "Epoch 143/300\n",
            "1164/1164 - 6s - 5ms/step - accuracy: 0.9941 - loss: 0.1057 - val_accuracy: 0.9947 - val_loss: 0.1045\n",
            "Epoch 144/300\n",
            "1164/1164 - 6s - 5ms/step - accuracy: 0.9941 - loss: 0.1053 - val_accuracy: 0.9942 - val_loss: 0.1058\n",
            "Epoch 145/300\n",
            "1164/1164 - 6s - 5ms/step - accuracy: 0.9942 - loss: 0.1053 - val_accuracy: 0.9949 - val_loss: 0.1042\n",
            "Epoch 146/300\n",
            "1164/1164 - 6s - 5ms/step - accuracy: 0.9940 - loss: 0.1052 - val_accuracy: 0.9937 - val_loss: 0.1053\n",
            "Epoch 147/300\n",
            "1164/1164 - 6s - 5ms/step - accuracy: 0.9942 - loss: 0.1048 - val_accuracy: 0.9941 - val_loss: 0.1068\n",
            "Epoch 148/300\n",
            "1164/1164 - 6s - 5ms/step - accuracy: 0.9941 - loss: 0.1048 - val_accuracy: 0.9948 - val_loss: 0.1035\n",
            "Epoch 149/300\n",
            "1164/1164 - 6s - 6ms/step - accuracy: 0.9942 - loss: 0.1048 - val_accuracy: 0.9930 - val_loss: 0.1080\n",
            "Epoch 150/300\n",
            "1164/1164 - 6s - 5ms/step - accuracy: 0.9942 - loss: 0.1044 - val_accuracy: 0.9943 - val_loss: 0.1059\n",
            "Epoch 151/300\n",
            "1164/1164 - 6s - 6ms/step - accuracy: 0.9943 - loss: 0.1041 - val_accuracy: 0.9951 - val_loss: 0.1032\n",
            "Epoch 152/300\n",
            "1164/1164 - 6s - 5ms/step - accuracy: 0.9943 - loss: 0.1040 - val_accuracy: 0.9947 - val_loss: 0.1030\n",
            "Epoch 153/300\n",
            "1164/1164 - 7s - 6ms/step - accuracy: 0.9942 - loss: 0.1038 - val_accuracy: 0.9920 - val_loss: 0.1106\n",
            "Epoch 154/300\n",
            "1164/1164 - 7s - 6ms/step - accuracy: 0.9943 - loss: 0.1036 - val_accuracy: 0.9951 - val_loss: 0.1030\n",
            "Epoch 155/300\n",
            "1164/1164 - 7s - 6ms/step - accuracy: 0.9943 - loss: 0.1034 - val_accuracy: 0.9946 - val_loss: 0.1041\n",
            "Epoch 156/300\n",
            "1164/1164 - 7s - 6ms/step - accuracy: 0.9942 - loss: 0.1037 - val_accuracy: 0.9949 - val_loss: 0.1030\n",
            "Epoch 157/300\n",
            "1164/1164 - 7s - 6ms/step - accuracy: 0.9942 - loss: 0.1032 - val_accuracy: 0.9948 - val_loss: 0.1019\n",
            "Epoch 158/300\n",
            "1164/1164 - 6s - 6ms/step - accuracy: 0.9944 - loss: 0.1028 - val_accuracy: 0.9954 - val_loss: 0.1022\n",
            "Epoch 159/300\n",
            "1164/1164 - 7s - 6ms/step - accuracy: 0.9943 - loss: 0.1029 - val_accuracy: 0.9946 - val_loss: 0.1041\n",
            "Epoch 160/300\n",
            "1164/1164 - 7s - 6ms/step - accuracy: 0.9942 - loss: 0.1030 - val_accuracy: 0.9950 - val_loss: 0.1018\n",
            "Epoch 161/300\n",
            "1164/1164 - 6s - 6ms/step - accuracy: 0.9943 - loss: 0.1027 - val_accuracy: 0.9949 - val_loss: 0.1020\n",
            "Epoch 162/300\n",
            "1164/1164 - 7s - 6ms/step - accuracy: 0.9943 - loss: 0.1023 - val_accuracy: 0.9942 - val_loss: 0.1033\n",
            "Epoch 163/300\n",
            "1164/1164 - 7s - 6ms/step - accuracy: 0.9943 - loss: 0.1022 - val_accuracy: 0.9941 - val_loss: 0.1028\n",
            "Epoch 164/300\n",
            "1164/1164 - 6s - 6ms/step - accuracy: 0.9942 - loss: 0.1022 - val_accuracy: 0.9953 - val_loss: 0.1014\n",
            "Epoch 165/300\n",
            "1164/1164 - 7s - 6ms/step - accuracy: 0.9942 - loss: 0.1021 - val_accuracy: 0.9952 - val_loss: 0.1018\n",
            "Epoch 166/300\n",
            "1164/1164 - 6s - 6ms/step - accuracy: 0.9943 - loss: 0.1018 - val_accuracy: 0.9953 - val_loss: 0.1005\n",
            "Epoch 167/300\n",
            "1164/1164 - 7s - 6ms/step - accuracy: 0.9944 - loss: 0.1015 - val_accuracy: 0.9946 - val_loss: 0.1005\n",
            "Epoch 168/300\n",
            "1164/1164 - 6s - 6ms/step - accuracy: 0.9943 - loss: 0.1014 - val_accuracy: 0.9943 - val_loss: 0.1022\n",
            "Epoch 169/300\n",
            "1164/1164 - 6s - 5ms/step - accuracy: 0.9943 - loss: 0.1016 - val_accuracy: 0.9951 - val_loss: 0.1008\n",
            "Epoch 170/300\n",
            "1164/1164 - 6s - 6ms/step - accuracy: 0.9943 - loss: 0.1012 - val_accuracy: 0.9947 - val_loss: 0.1038\n",
            "Epoch 171/300\n",
            "1164/1164 - 6s - 5ms/step - accuracy: 0.9943 - loss: 0.1010 - val_accuracy: 0.9955 - val_loss: 0.1000\n",
            "Epoch 172/300\n",
            "1164/1164 - 6s - 5ms/step - accuracy: 0.9944 - loss: 0.1007 - val_accuracy: 0.9934 - val_loss: 0.1020\n",
            "Epoch 173/300\n",
            "1164/1164 - 6s - 6ms/step - accuracy: 0.9942 - loss: 0.1012 - val_accuracy: 0.9949 - val_loss: 0.0997\n",
            "Epoch 174/300\n",
            "1164/1164 - 6s - 6ms/step - accuracy: 0.9944 - loss: 0.1007 - val_accuracy: 0.9951 - val_loss: 0.0994\n",
            "Epoch 175/300\n",
            "1164/1164 - 7s - 6ms/step - accuracy: 0.9943 - loss: 0.1004 - val_accuracy: 0.9943 - val_loss: 0.0994\n",
            "Epoch 176/300\n",
            "1164/1164 - 7s - 6ms/step - accuracy: 0.9943 - loss: 0.1002 - val_accuracy: 0.9943 - val_loss: 0.1005\n",
            "Epoch 177/300\n",
            "1164/1164 - 6s - 6ms/step - accuracy: 0.9943 - loss: 0.1002 - val_accuracy: 0.9938 - val_loss: 0.1008\n",
            "Epoch 178/300\n",
            "1164/1164 - 7s - 6ms/step - accuracy: 0.9944 - loss: 0.0998 - val_accuracy: 0.9946 - val_loss: 0.1017\n",
            "Epoch 179/300\n",
            "1164/1164 - 7s - 6ms/step - accuracy: 0.9944 - loss: 0.0997 - val_accuracy: 0.9932 - val_loss: 0.1027\n",
            "Epoch 180/300\n",
            "1164/1164 - 7s - 6ms/step - accuracy: 0.9943 - loss: 0.0998 - val_accuracy: 0.9940 - val_loss: 0.0997\n",
            "Epoch 181/300\n",
            "1164/1164 - 7s - 6ms/step - accuracy: 0.9944 - loss: 0.0996 - val_accuracy: 0.9934 - val_loss: 0.1011\n",
            "Epoch 182/300\n",
            "1164/1164 - 7s - 6ms/step - accuracy: 0.9944 - loss: 0.0994 - val_accuracy: 0.9953 - val_loss: 0.0979\n",
            "Epoch 183/300\n",
            "1164/1164 - 7s - 6ms/step - accuracy: 0.9945 - loss: 0.0993 - val_accuracy: 0.9953 - val_loss: 0.0989\n",
            "Epoch 184/300\n",
            "1164/1164 - 6s - 5ms/step - accuracy: 0.9944 - loss: 0.0991 - val_accuracy: 0.9948 - val_loss: 0.0976\n",
            "Epoch 185/300\n",
            "1164/1164 - 6s - 6ms/step - accuracy: 0.9944 - loss: 0.0990 - val_accuracy: 0.9942 - val_loss: 0.1048\n",
            "Epoch 186/300\n",
            "1164/1164 - 6s - 6ms/step - accuracy: 0.9944 - loss: 0.0992 - val_accuracy: 0.9944 - val_loss: 0.0979\n",
            "Epoch 187/300\n",
            "1164/1164 - 7s - 6ms/step - accuracy: 0.9945 - loss: 0.0987 - val_accuracy: 0.9953 - val_loss: 0.0986\n",
            "Epoch 188/300\n",
            "1164/1164 - 7s - 6ms/step - accuracy: 0.9945 - loss: 0.0984 - val_accuracy: 0.9937 - val_loss: 0.0991\n",
            "Epoch 189/300\n",
            "1164/1164 - 6s - 6ms/step - accuracy: 0.9943 - loss: 0.0987 - val_accuracy: 0.9950 - val_loss: 0.0978\n",
            "Epoch 190/300\n",
            "1164/1164 - 6s - 5ms/step - accuracy: 0.9945 - loss: 0.0982 - val_accuracy: 0.9939 - val_loss: 0.0980\n",
            "Epoch 191/300\n",
            "1164/1164 - 7s - 6ms/step - accuracy: 0.9944 - loss: 0.0982 - val_accuracy: 0.9934 - val_loss: 0.0995\n",
            "Epoch 192/300\n",
            "1164/1164 - 7s - 6ms/step - accuracy: 0.9945 - loss: 0.0979 - val_accuracy: 0.9938 - val_loss: 0.0990\n",
            "Epoch 193/300\n",
            "1164/1164 - 6s - 5ms/step - accuracy: 0.9945 - loss: 0.0978 - val_accuracy: 0.9952 - val_loss: 0.0964\n",
            "Epoch 194/300\n",
            "1164/1164 - 7s - 6ms/step - accuracy: 0.9946 - loss: 0.0975 - val_accuracy: 0.9939 - val_loss: 0.1041\n",
            "Epoch 195/300\n",
            "1164/1164 - 6s - 6ms/step - accuracy: 0.9943 - loss: 0.0980 - val_accuracy: 0.9938 - val_loss: 0.0979\n",
            "Epoch 196/300\n",
            "1164/1164 - 6s - 5ms/step - accuracy: 0.9946 - loss: 0.0974 - val_accuracy: 0.9950 - val_loss: 0.0977\n",
            "Epoch 197/300\n",
            "1164/1164 - 6s - 6ms/step - accuracy: 0.9945 - loss: 0.0971 - val_accuracy: 0.9951 - val_loss: 0.0971\n",
            "Epoch 198/300\n",
            "1164/1164 - 6s - 6ms/step - accuracy: 0.9944 - loss: 0.0972 - val_accuracy: 0.9940 - val_loss: 0.0985\n",
            "Epoch 199/300\n",
            "1164/1164 - 6s - 6ms/step - accuracy: 0.9945 - loss: 0.0969 - val_accuracy: 0.9950 - val_loss: 0.0962\n",
            "Epoch 200/300\n",
            "1164/1164 - 6s - 5ms/step - accuracy: 0.9944 - loss: 0.0972 - val_accuracy: 0.9949 - val_loss: 0.0963\n",
            "Epoch 201/300\n",
            "1164/1164 - 7s - 6ms/step - accuracy: 0.9945 - loss: 0.0967 - val_accuracy: 0.9946 - val_loss: 0.0965\n",
            "Epoch 202/300\n",
            "1164/1164 - 6s - 6ms/step - accuracy: 0.9944 - loss: 0.0968 - val_accuracy: 0.9954 - val_loss: 0.0963\n",
            "Epoch 203/300\n",
            "1164/1164 - 7s - 6ms/step - accuracy: 0.9944 - loss: 0.0967 - val_accuracy: 0.9945 - val_loss: 0.0961\n",
            "Epoch 204/300\n",
            "1164/1164 - 7s - 6ms/step - accuracy: 0.9946 - loss: 0.0964 - val_accuracy: 0.9955 - val_loss: 0.0979\n",
            "Epoch 205/300\n",
            "1164/1164 - 7s - 6ms/step - accuracy: 0.9945 - loss: 0.0963 - val_accuracy: 0.9946 - val_loss: 0.0966\n",
            "Epoch 206/300\n",
            "1164/1164 - 7s - 6ms/step - accuracy: 0.9945 - loss: 0.0961 - val_accuracy: 0.9942 - val_loss: 0.0950\n",
            "Epoch 207/300\n",
            "1164/1164 - 6s - 6ms/step - accuracy: 0.9944 - loss: 0.0963 - val_accuracy: 0.9938 - val_loss: 0.0956\n",
            "Epoch 208/300\n",
            "1164/1164 - 7s - 6ms/step - accuracy: 0.9945 - loss: 0.0958 - val_accuracy: 0.9947 - val_loss: 0.0959\n",
            "Epoch 209/300\n",
            "1164/1164 - 6s - 5ms/step - accuracy: 0.9944 - loss: 0.0961 - val_accuracy: 0.9940 - val_loss: 0.0960\n",
            "Epoch 210/300\n",
            "1164/1164 - 6s - 5ms/step - accuracy: 0.9945 - loss: 0.0957 - val_accuracy: 0.9947 - val_loss: 0.0956\n",
            "Epoch 211/300\n",
            "1164/1164 - 6s - 5ms/step - accuracy: 0.9945 - loss: 0.0955 - val_accuracy: 0.9947 - val_loss: 0.0987\n",
            "Epoch 212/300\n",
            "1164/1164 - 6s - 5ms/step - accuracy: 0.9945 - loss: 0.0953 - val_accuracy: 0.9951 - val_loss: 0.0950\n",
            "Epoch 213/300\n",
            "1164/1164 - 6s - 5ms/step - accuracy: 0.9944 - loss: 0.0956 - val_accuracy: 0.9955 - val_loss: 0.0947\n",
            "Epoch 214/300\n",
            "1164/1164 - 6s - 5ms/step - accuracy: 0.9944 - loss: 0.0955 - val_accuracy: 0.9953 - val_loss: 0.0937\n",
            "Epoch 215/300\n",
            "1164/1164 - 7s - 6ms/step - accuracy: 0.9945 - loss: 0.0950 - val_accuracy: 0.9929 - val_loss: 0.0973\n",
            "Epoch 216/300\n",
            "1164/1164 - 7s - 6ms/step - accuracy: 0.9944 - loss: 0.0952 - val_accuracy: 0.9948 - val_loss: 0.0941\n",
            "Epoch 217/300\n",
            "1164/1164 - 6s - 6ms/step - accuracy: 0.9944 - loss: 0.0951 - val_accuracy: 0.9952 - val_loss: 0.0934\n",
            "Epoch 218/300\n",
            "1164/1164 - 6s - 5ms/step - accuracy: 0.9946 - loss: 0.0947 - val_accuracy: 0.9953 - val_loss: 0.0932\n",
            "Epoch 219/300\n",
            "1164/1164 - 7s - 6ms/step - accuracy: 0.9946 - loss: 0.0944 - val_accuracy: 0.9951 - val_loss: 0.0943\n",
            "Epoch 220/300\n",
            "1164/1164 - 7s - 6ms/step - accuracy: 0.9944 - loss: 0.0948 - val_accuracy: 0.9953 - val_loss: 0.0935\n",
            "Epoch 221/300\n",
            "1164/1164 - 7s - 6ms/step - accuracy: 0.9946 - loss: 0.0942 - val_accuracy: 0.9936 - val_loss: 0.0966\n",
            "Epoch 222/300\n",
            "1164/1164 - 7s - 6ms/step - accuracy: 0.9944 - loss: 0.0944 - val_accuracy: 0.9951 - val_loss: 0.0934\n",
            "Epoch 223/300\n",
            "1164/1164 - 7s - 6ms/step - accuracy: 0.9945 - loss: 0.0944 - val_accuracy: 0.9954 - val_loss: 0.0934\n",
            "Epoch 224/300\n",
            "1164/1164 - 7s - 6ms/step - accuracy: 0.9944 - loss: 0.0942 - val_accuracy: 0.9944 - val_loss: 0.0945\n",
            "Epoch 225/300\n",
            "1164/1164 - 7s - 6ms/step - accuracy: 0.9945 - loss: 0.0940 - val_accuracy: 0.9941 - val_loss: 0.0933\n",
            "Epoch 226/300\n",
            "1164/1164 - 6s - 5ms/step - accuracy: 0.9945 - loss: 0.0939 - val_accuracy: 0.9944 - val_loss: 0.0940\n",
            "Epoch 227/300\n",
            "1164/1164 - 6s - 5ms/step - accuracy: 0.9945 - loss: 0.0938 - val_accuracy: 0.9952 - val_loss: 0.0925\n",
            "Epoch 228/300\n",
            "1164/1164 - 6s - 5ms/step - accuracy: 0.9945 - loss: 0.0938 - val_accuracy: 0.9954 - val_loss: 0.0946\n",
            "Epoch 229/300\n",
            "1164/1164 - 6s - 5ms/step - accuracy: 0.9945 - loss: 0.0934 - val_accuracy: 0.9945 - val_loss: 0.0936\n",
            "Epoch 230/300\n",
            "1164/1164 - 6s - 5ms/step - accuracy: 0.9945 - loss: 0.0936 - val_accuracy: 0.9945 - val_loss: 0.0925\n",
            "Epoch 231/300\n",
            "1164/1164 - 6s - 5ms/step - accuracy: 0.9945 - loss: 0.0932 - val_accuracy: 0.9952 - val_loss: 0.0917\n",
            "Epoch 232/300\n",
            "1164/1164 - 6s - 5ms/step - accuracy: 0.9945 - loss: 0.0933 - val_accuracy: 0.9940 - val_loss: 0.0953\n",
            "Epoch 233/300\n",
            "1164/1164 - 6s - 5ms/step - accuracy: 0.9945 - loss: 0.0932 - val_accuracy: 0.9942 - val_loss: 0.0922\n",
            "Epoch 234/300\n",
            "1164/1164 - 6s - 5ms/step - accuracy: 0.9945 - loss: 0.0934 - val_accuracy: 0.9952 - val_loss: 0.0916\n",
            "Epoch 235/300\n",
            "1164/1164 - 6s - 5ms/step - accuracy: 0.9946 - loss: 0.0928 - val_accuracy: 0.9943 - val_loss: 0.0937\n",
            "Epoch 236/300\n",
            "1164/1164 - 6s - 6ms/step - accuracy: 0.9945 - loss: 0.0928 - val_accuracy: 0.9934 - val_loss: 0.0930\n",
            "Epoch 237/300\n",
            "1164/1164 - 6s - 5ms/step - accuracy: 0.9944 - loss: 0.0930 - val_accuracy: 0.9950 - val_loss: 0.0914\n",
            "Epoch 238/300\n",
            "1164/1164 - 7s - 6ms/step - accuracy: 0.9945 - loss: 0.0927 - val_accuracy: 0.9948 - val_loss: 0.0926\n",
            "Epoch 239/300\n",
            "1164/1164 - 6s - 5ms/step - accuracy: 0.9945 - loss: 0.0926 - val_accuracy: 0.9951 - val_loss: 0.0914\n",
            "Epoch 240/300\n",
            "1164/1164 - 6s - 6ms/step - accuracy: 0.9946 - loss: 0.0924 - val_accuracy: 0.9948 - val_loss: 0.0921\n",
            "Epoch 241/300\n",
            "1164/1164 - 7s - 6ms/step - accuracy: 0.9945 - loss: 0.0923 - val_accuracy: 0.9954 - val_loss: 0.0910\n",
            "Epoch 242/300\n",
            "1164/1164 - 6s - 5ms/step - accuracy: 0.9946 - loss: 0.0921 - val_accuracy: 0.9943 - val_loss: 0.0917\n",
            "Epoch 243/300\n",
            "1164/1164 - 7s - 6ms/step - accuracy: 0.9946 - loss: 0.0920 - val_accuracy: 0.9939 - val_loss: 0.0938\n",
            "Epoch 244/300\n",
            "1164/1164 - 6s - 6ms/step - accuracy: 0.9945 - loss: 0.0922 - val_accuracy: 0.9947 - val_loss: 0.0908\n",
            "Epoch 245/300\n",
            "1164/1164 - 7s - 6ms/step - accuracy: 0.9946 - loss: 0.0917 - val_accuracy: 0.9943 - val_loss: 0.0906\n",
            "Epoch 246/300\n",
            "1164/1164 - 6s - 5ms/step - accuracy: 0.9944 - loss: 0.0920 - val_accuracy: 0.9943 - val_loss: 0.0932\n",
            "Epoch 247/300\n",
            "1164/1164 - 6s - 5ms/step - accuracy: 0.9945 - loss: 0.0917 - val_accuracy: 0.9938 - val_loss: 0.0935\n",
            "Epoch 248/300\n",
            "1164/1164 - 6s - 5ms/step - accuracy: 0.9945 - loss: 0.0916 - val_accuracy: 0.9937 - val_loss: 0.0930\n",
            "Epoch 249/300\n",
            "1164/1164 - 6s - 6ms/step - accuracy: 0.9945 - loss: 0.0918 - val_accuracy: 0.9947 - val_loss: 0.0926\n",
            "Epoch 250/300\n",
            "1164/1164 - 6s - 5ms/step - accuracy: 0.9946 - loss: 0.0913 - val_accuracy: 0.9954 - val_loss: 0.0901\n",
            "Epoch 251/300\n",
            "1164/1164 - 7s - 6ms/step - accuracy: 0.9946 - loss: 0.0913 - val_accuracy: 0.9949 - val_loss: 0.0901\n",
            "Epoch 252/300\n",
            "1164/1164 - 7s - 6ms/step - accuracy: 0.9946 - loss: 0.0912 - val_accuracy: 0.9945 - val_loss: 0.0899\n",
            "Epoch 253/300\n",
            "1164/1164 - 6s - 5ms/step - accuracy: 0.9945 - loss: 0.0912 - val_accuracy: 0.9936 - val_loss: 0.0904\n",
            "Epoch 254/300\n",
            "1164/1164 - 6s - 5ms/step - accuracy: 0.9946 - loss: 0.0910 - val_accuracy: 0.9941 - val_loss: 0.0902\n",
            "Epoch 255/300\n",
            "1164/1164 - 6s - 5ms/step - accuracy: 0.9945 - loss: 0.0910 - val_accuracy: 0.9931 - val_loss: 0.0915\n",
            "Epoch 256/300\n",
            "1164/1164 - 6s - 5ms/step - accuracy: 0.9945 - loss: 0.0907 - val_accuracy: 0.9937 - val_loss: 0.0929\n",
            "Epoch 257/300\n",
            "1164/1164 - 7s - 6ms/step - accuracy: 0.9945 - loss: 0.0909 - val_accuracy: 0.9949 - val_loss: 0.0901\n",
            "Epoch 258/300\n",
            "1164/1164 - 6s - 5ms/step - accuracy: 0.9945 - loss: 0.0908 - val_accuracy: 0.9948 - val_loss: 0.0904\n",
            "Epoch 259/300\n",
            "1164/1164 - 6s - 5ms/step - accuracy: 0.9946 - loss: 0.0903 - val_accuracy: 0.9944 - val_loss: 0.0897\n",
            "Epoch 260/300\n",
            "1164/1164 - 6s - 5ms/step - accuracy: 0.9945 - loss: 0.0907 - val_accuracy: 0.9940 - val_loss: 0.0904\n",
            "Epoch 261/300\n",
            "1164/1164 - 6s - 5ms/step - accuracy: 0.9946 - loss: 0.0903 - val_accuracy: 0.9955 - val_loss: 0.0887\n",
            "Epoch 262/300\n",
            "1164/1164 - 6s - 5ms/step - accuracy: 0.9945 - loss: 0.0905 - val_accuracy: 0.9941 - val_loss: 0.0907\n",
            "Epoch 263/300\n",
            "1164/1164 - 6s - 5ms/step - accuracy: 0.9946 - loss: 0.0900 - val_accuracy: 0.9928 - val_loss: 0.0933\n",
            "Epoch 264/300\n",
            "1164/1164 - 6s - 5ms/step - accuracy: 0.9946 - loss: 0.0900 - val_accuracy: 0.9952 - val_loss: 0.0893\n",
            "Epoch 265/300\n",
            "1164/1164 - 6s - 5ms/step - accuracy: 0.9945 - loss: 0.0902 - val_accuracy: 0.9956 - val_loss: 0.0890\n",
            "Epoch 266/300\n",
            "1164/1164 - 6s - 5ms/step - accuracy: 0.9946 - loss: 0.0898 - val_accuracy: 0.9935 - val_loss: 0.0918\n",
            "Epoch 267/300\n",
            "1164/1164 - 6s - 5ms/step - accuracy: 0.9946 - loss: 0.0898 - val_accuracy: 0.9936 - val_loss: 0.0918\n",
            "Epoch 268/300\n",
            "1164/1164 - 6s - 5ms/step - accuracy: 0.9946 - loss: 0.0896 - val_accuracy: 0.9942 - val_loss: 0.0884\n",
            "Epoch 269/300\n",
            "1164/1164 - 6s - 5ms/step - accuracy: 0.9946 - loss: 0.0895 - val_accuracy: 0.9948 - val_loss: 0.0898\n",
            "Epoch 270/300\n",
            "1164/1164 - 6s - 5ms/step - accuracy: 0.9946 - loss: 0.0896 - val_accuracy: 0.9953 - val_loss: 0.0877\n",
            "Epoch 271/300\n",
            "1164/1164 - 6s - 5ms/step - accuracy: 0.9945 - loss: 0.0897 - val_accuracy: 0.9954 - val_loss: 0.0890\n",
            "Epoch 272/300\n",
            "1164/1164 - 6s - 5ms/step - accuracy: 0.9946 - loss: 0.0893 - val_accuracy: 0.9951 - val_loss: 0.0883\n",
            "Epoch 273/300\n",
            "1164/1164 - 6s - 5ms/step - accuracy: 0.9945 - loss: 0.0896 - val_accuracy: 0.9953 - val_loss: 0.0895\n",
            "Epoch 274/300\n",
            "1164/1164 - 7s - 6ms/step - accuracy: 0.9947 - loss: 0.0889 - val_accuracy: 0.9945 - val_loss: 0.0907\n",
            "Epoch 275/300\n",
            "1164/1164 - 7s - 6ms/step - accuracy: 0.9946 - loss: 0.0890 - val_accuracy: 0.9952 - val_loss: 0.0896\n",
            "Epoch 276/300\n",
            "1164/1164 - 6s - 6ms/step - accuracy: 0.9946 - loss: 0.0890 - val_accuracy: 0.9949 - val_loss: 0.0884\n",
            "Epoch 277/300\n",
            "1164/1164 - 6s - 5ms/step - accuracy: 0.9946 - loss: 0.0889 - val_accuracy: 0.9944 - val_loss: 0.0890\n",
            "Epoch 278/300\n",
            "1164/1164 - 6s - 5ms/step - accuracy: 0.9946 - loss: 0.0888 - val_accuracy: 0.9954 - val_loss: 0.0879\n",
            "Epoch 279/300\n",
            "1164/1164 - 6s - 5ms/step - accuracy: 0.9947 - loss: 0.0886 - val_accuracy: 0.9951 - val_loss: 0.0872\n",
            "Epoch 280/300\n",
            "1164/1164 - 6s - 6ms/step - accuracy: 0.9946 - loss: 0.0886 - val_accuracy: 0.9942 - val_loss: 0.0881\n",
            "Epoch 281/300\n",
            "1164/1164 - 6s - 5ms/step - accuracy: 0.9946 - loss: 0.0886 - val_accuracy: 0.9954 - val_loss: 0.0885\n",
            "Epoch 282/300\n",
            "1164/1164 - 6s - 6ms/step - accuracy: 0.9946 - loss: 0.0886 - val_accuracy: 0.9936 - val_loss: 0.0894\n",
            "Epoch 283/300\n",
            "1164/1164 - 6s - 5ms/step - accuracy: 0.9947 - loss: 0.0883 - val_accuracy: 0.9945 - val_loss: 0.0881\n",
            "Epoch 284/300\n",
            "1164/1164 - 7s - 6ms/step - accuracy: 0.9945 - loss: 0.0888 - val_accuracy: 0.9952 - val_loss: 0.0875\n",
            "Epoch 285/300\n",
            "1164/1164 - 7s - 6ms/step - accuracy: 0.9947 - loss: 0.0883 - val_accuracy: 0.9950 - val_loss: 0.0883\n",
            "Epoch 286/300\n",
            "1164/1164 - 6s - 5ms/step - accuracy: 0.9946 - loss: 0.0882 - val_accuracy: 0.9936 - val_loss: 0.0876\n",
            "Epoch 287/300\n",
            "1164/1164 - 7s - 6ms/step - accuracy: 0.9946 - loss: 0.0882 - val_accuracy: 0.9955 - val_loss: 0.0870\n",
            "Epoch 288/300\n",
            "1164/1164 - 6s - 5ms/step - accuracy: 0.9947 - loss: 0.0880 - val_accuracy: 0.9953 - val_loss: 0.0864\n",
            "Epoch 289/300\n",
            "1164/1164 - 6s - 5ms/step - accuracy: 0.9946 - loss: 0.0878 - val_accuracy: 0.9950 - val_loss: 0.0867\n",
            "Epoch 290/300\n",
            "1164/1164 - 7s - 6ms/step - accuracy: 0.9946 - loss: 0.0880 - val_accuracy: 0.9949 - val_loss: 0.0869\n",
            "Epoch 291/300\n",
            "1164/1164 - 7s - 6ms/step - accuracy: 0.9945 - loss: 0.0880 - val_accuracy: 0.9953 - val_loss: 0.0860\n",
            "Epoch 292/300\n",
            "1164/1164 - 7s - 6ms/step - accuracy: 0.9946 - loss: 0.0878 - val_accuracy: 0.9951 - val_loss: 0.0881\n",
            "Epoch 293/300\n",
            "1164/1164 - 7s - 6ms/step - accuracy: 0.9945 - loss: 0.0877 - val_accuracy: 0.9947 - val_loss: 0.0871\n",
            "Epoch 294/300\n",
            "1164/1164 - 7s - 6ms/step - accuracy: 0.9946 - loss: 0.0877 - val_accuracy: 0.9945 - val_loss: 0.0864\n",
            "Epoch 295/300\n",
            "1164/1164 - 7s - 6ms/step - accuracy: 0.9946 - loss: 0.0875 - val_accuracy: 0.9949 - val_loss: 0.0864\n",
            "Epoch 296/300\n",
            "1164/1164 - 7s - 6ms/step - accuracy: 0.9947 - loss: 0.0874 - val_accuracy: 0.9952 - val_loss: 0.0875\n",
            "Epoch 297/300\n",
            "1164/1164 - 7s - 6ms/step - accuracy: 0.9947 - loss: 0.0872 - val_accuracy: 0.9941 - val_loss: 0.0875\n",
            "Epoch 298/300\n",
            "1164/1164 - 7s - 6ms/step - accuracy: 0.9946 - loss: 0.0873 - val_accuracy: 0.9951 - val_loss: 0.0864\n",
            "Epoch 299/300\n",
            "1164/1164 - 6s - 5ms/step - accuracy: 0.9947 - loss: 0.0871 - val_accuracy: 0.9952 - val_loss: 0.0861\n",
            "Epoch 300/300\n",
            "1164/1164 - 7s - 6ms/step - accuracy: 0.9946 - loss: 0.0873 - val_accuracy: 0.9952 - val_loss: 0.0868\n"
          ]
        }
      ],
      "source": [
        "from keras.callbacks import EarlyStopping\n",
        "\n",
        "# Use EarlyStopping to prevent overfitting\n",
        "early_stopping = EarlyStopping(monitor='val_loss', patience=pat_earlyStop, restore_best_weights=True)\n",
        "\n",
        "history = model.fit(X_train, y_train,  batch_size=train_batch_size, epochs=e, verbose=2, validation_data=(X_val, y_val), callbacks=[early_stopping]) #class_weight=class_weight_dict\n",
        "#\n",
        "#"
      ]
    },
    {
      "cell_type": "markdown",
      "metadata": {
        "id": "JK2WaaIKVdo_"
      },
      "source": [
        "# **Valutazione**"
      ]
    },
    {
      "cell_type": "code",
      "source": [
        "plt.plot(history.history['loss'])\n",
        "plt.plot(history.history['val_loss'])\n",
        "plt.title('Curve Loss del modello IDS-MLP')\n",
        "plt.xlabel('Epoche')\n",
        "plt.ylabel('Loss')\n",
        "plt.legend(['Train', 'Validation'], loc='upper right')\n",
        "\n",
        "#salva in Drive\n",
        "images_dir = '/content/drive/MyDrive/Colab Notebooks/progettoTesi/grafici_pdf/IDS_MLP_DAGan/20EsperimentiSetHBuono'\n",
        "plt.savefig(f\"{images_dir}/IDS-MLP_GraficoLosses_DAGan_setHBuono_senzaCW1.pdf\", dpi=200, format='pdf')\n",
        "\n",
        "\n",
        "plt.show()"
      ],
      "metadata": {
        "id": "ikn62xa2wtvV",
        "colab": {
          "base_uri": "https://localhost:8080/",
          "height": 472
        },
        "outputId": "d7c00c3c-f615-4445-e296-1baf23c9b434"
      },
      "execution_count": 34,
      "outputs": [
        {
          "output_type": "display_data",
          "data": {
            "text/plain": [
              "<Figure size 640x480 with 1 Axes>"
            ],
            "image/png": "[encoded data removed]"
          },
          "metadata": {}
        }
      ]
    },
    {
      "cell_type": "code",
      "execution_count": 35,
      "metadata": {
        "id": "jUQtPg9H9DlZ",
        "colab": {
          "base_uri": "https://localhost:8080/",
          "height": 472
        },
        "outputId": "5eff5fad-75a3-46e7-d720-a2b0cdc1ac3f"
      },
      "outputs": [
        {
          "output_type": "display_data",
          "data": {
            "text/plain": [
              "<Figure size 640x480 with 1 Axes>"
            ],
            "image/png": "[encoded data removed]"
          },
          "metadata": {}
        }
      ],
      "source": [
        "plt.plot(history.history['accuracy'])\n",
        "plt.plot(history.history['val_accuracy'])\n",
        "plt.title('Accuratezza del modello')\n",
        "plt.xlabel('Epoche')\n",
        "plt.ylabel('Accuratezza')\n",
        "plt.legend(['Train', 'Validation'], loc='lower right')\n",
        "\n",
        "#salva in Drive\n",
        "plt.savefig(f\"{images_dir}/IDS-MLP_GraficoAccuratezza__DAGan_setHBuono_senzaCW1.pdf\", dpi=200, format='pdf')\n",
        "\n",
        "plt.show()"
      ]
    },
    {
      "cell_type": "code",
      "execution_count": 36,
      "metadata": {
        "id": "pak7xNkXcuJE",
        "colab": {
          "base_uri": "https://localhost:8080/"
        },
        "outputId": "de0b0fa3-359c-4911-8952-7abd9a22ef78"
      },
      "outputs": [
        {
          "output_type": "stream",
          "name": "stdout",
          "text": [
            "1231/1231 - 3s - 2ms/step - accuracy: 0.9954 - loss: 0.0819\n",
            "======================================\n",
            "Test Loss: 0.08185560256242752\n",
            "Test Accuracy: 0.9954201579093933\n"
          ]
        }
      ],
      "source": [
        "eval_result  = model.evaluate(X_test, y_test, verbose=2, batch_size=512) #The model evaluates the test dataset in batches to save memory and computational resources.\n",
        "\n",
        "# Get loss and accuracy from the evaluation result\n",
        "loss = eval_result[0]\n",
        "accuracy = eval_result[1]\n",
        "\n",
        "print(\"======================================\")\n",
        "print(f\"Test Loss: {eval_result[0]}\")\n",
        "print(f\"Test Accuracy: {eval_result[1]}\")"
      ]
    },
    {
      "cell_type": "code",
      "execution_count": 37,
      "metadata": {
        "id": "grlaDUPkemHA",
        "colab": {
          "base_uri": "https://localhost:8080/"
        },
        "outputId": "ece7950d-8496-435a-8333-234b76fe3f25"
      },
      "outputs": [
        {
          "output_type": "stream",
          "name": "stdout",
          "text": [
            "\u001b[1m19686/19686\u001b[0m \u001b[32m━━━━━━━━━━━━━━━━━━━━\u001b[0m\u001b[37m\u001b[0m \u001b[1m21s\u001b[0m 1ms/step\n"
          ]
        }
      ],
      "source": [
        "# predictions // number of times the model classified an input as each class\n",
        "\n",
        "# import numpy for argmax function // returns the max value on an axis... index with max value is predicted class\n",
        "import numpy as np\n",
        "\n",
        "y_prediction = model.predict(X_test)\n",
        "y_pred_classes= np.argmax(y_prediction, axis=1)"
      ]
    },
    {
      "cell_type": "code",
      "execution_count": 38,
      "metadata": {
        "id": "O72eKlWGlGRP",
        "colab": {
          "base_uri": "https://localhost:8080/",
          "height": 303
        },
        "outputId": "cdb7a5c9-d2fa-49aa-a2a3-19e058d88538"
      },
      "outputs": [
        {
          "output_type": "execute_result",
          "data": {
            "text/plain": [
              "0    478301\n",
              "1     69613\n",
              "3     50995\n",
              "2     28604\n",
              "4      2163\n",
              "5       255\n",
              "Name: count, dtype: int64"
            ],
            "text/html": [
              "<table border=\"1\" class=\"dataframe\">\n",
              "  <thead>\n",
              "    <tr style=\"text-align: right;\">\n",
              "      <th></th>\n",
              "      <th>count</th>\n",
              "    </tr>\n",
              "    <tr>\n",
              "      <th>0</th>\n",
              "      <th></th>\n",
              "    </tr>\n",
              "  </thead>\n",
              "  <tbody>\n",
              "    <tr>\n",
              "      <th>0</th>\n",
              "      <td>478301</td>\n",
              "    </tr>\n",
              "    <tr>\n",
              "      <th>1</th>\n",
              "      <td>69613</td>\n",
              "    </tr>\n",
              "    <tr>\n",
              "      <th>3</th>\n",
              "      <td>50995</td>\n",
              "    </tr>\n",
              "    <tr>\n",
              "      <th>2</th>\n",
              "      <td>28604</td>\n",
              "    </tr>\n",
              "    <tr>\n",
              "      <th>4</th>\n",
              "      <td>2163</td>\n",
              "    </tr>\n",
              "    <tr>\n",
              "      <th>5</th>\n",
              "      <td>255</td>\n",
              "    </tr>\n",
              "  </tbody>\n",
              "</table><br><label><b>dtype:</b> int64</label>"
            ]
          },
          "metadata": {},
          "execution_count": 38
        }
      ],
      "source": [
        "df_y_pred_classes = pd.DataFrame(y_pred_classes)\n",
        "df_y_pred_classes.value_counts()"
      ]
    },
    {
      "cell_type": "code",
      "execution_count": 39,
      "metadata": {
        "id": "9a4KZXZ8EhEC"
      },
      "outputs": [],
      "source": [
        "y_test_rounded = np.argmax(y_test, axis=1)"
      ]
    },
    {
      "cell_type": "markdown",
      "metadata": {
        "id": "G1u9Ngf--bOj"
      },
      "source": [
        "The balanced accuracy score is designed to address the issue of class imbalance. It calculates the average accuracy for each class and then computes the mean of these per-class accuracies"
      ]
    },
    {
      "cell_type": "code",
      "execution_count": 40,
      "metadata": {
        "id": "iWPHXt-NKs3a",
        "colab": {
          "base_uri": "https://localhost:8080/"
        },
        "outputId": "40d3ea4b-79d2-45b4-c1dd-dbddc547bee8"
      },
      "outputs": [
        {
          "output_type": "stream",
          "name": "stdout",
          "text": [
            "Balanced Accuracy: 0.992227580728097\n",
            "Accuracy: 0.9954201333161886\n"
          ]
        }
      ],
      "source": [
        "from sklearn.metrics import balanced_accuracy_score, accuracy_score\n",
        "\n",
        "balanced_accuracy = balanced_accuracy_score(y_test_rounded, y_pred_classes)\n",
        "print('Balanced Accuracy:', balanced_accuracy)\n",
        "accuracy = accuracy_score(y_test_rounded, y_pred_classes)\n",
        "print('Accuracy:', accuracy)"
      ]
    },
    {
      "cell_type": "code",
      "source": [
        "from sklearn.metrics import precision_score, recall_score, f1_score\n",
        "print(\"ZERO_DIVISION=0\")\n",
        "precision = precision_score(y_test_rounded, y_pred_classes, average='weighted', zero_division=0)\n",
        "print('Precision: %f' % precision)\n",
        "m_precision = precision_score(y_test_rounded, y_pred_classes, average='macro', zero_division=0)\n",
        "print('Macro Precision: %f' % m_precision)\n",
        "print(\"======================\")\n",
        "recall = recall_score(y_test_rounded, y_pred_classes, average='weighted', zero_division=0)\n",
        "print('Recall: %f' % recall)\n",
        "m_recall = recall_score(y_test_rounded, y_pred_classes, average='macro', zero_division=0)\n",
        "print('Macro Recall: %f' % m_recall)\n",
        "print(\"=======================\")\n",
        "f1 = f1_score(y_test_rounded, y_pred_classes, average='weighted', zero_division=0)\n",
        "print('F1 score: %f' % f1)\n",
        "m_f1 = f1_score(y_test_rounded, y_pred_classes, average='macro', zero_division=0)\n",
        "print('Macro F1 score: %f' % m_f1)"
      ],
      "metadata": {
        "id": "ZrIqOiqFqFmZ",
        "colab": {
          "base_uri": "https://localhost:8080/"
        },
        "outputId": "2f5f8d26-38fa-412a-cef6-86313fe8ca14"
      },
      "execution_count": 41,
      "outputs": [
        {
          "output_type": "stream",
          "name": "stdout",
          "text": [
            "ZERO_DIVISION=0\n",
            "Precision: 0.995434\n",
            "Macro Precision: 0.965662\n",
            "======================\n",
            "Recall: 0.995420\n",
            "Macro Recall: 0.992228\n",
            "=======================\n",
            "F1 score: 0.995422\n",
            "Macro F1 score: 0.978112\n"
          ]
        }
      ]
    },
    {
      "cell_type": "code",
      "source": [
        "from sklearn.metrics import precision_recall_fscore_support\n",
        "\n",
        "precision, recall, f1, _ = precision_recall_fscore_support(y_test_rounded, y_pred_classes, average=None, zero_division=0)\n",
        "print('Precision per class:', precision)\n",
        "print('Recall per class:', recall)\n",
        "print('F1 score per class:', f1)"
      ],
      "metadata": {
        "id": "CRTl7noiqW31",
        "colab": {
          "base_uri": "https://localhost:8080/"
        },
        "outputId": "1a9d957b-c97b-492a-a75b-92d89f83939a"
      },
      "execution_count": 42,
      "outputs": [
        {
          "output_type": "stream",
          "name": "stdout",
          "text": [
            "Precision per class: [0.9974054  0.98665479 0.99290309 0.99241102 0.9579288  0.86666667]\n",
            "Recall per class: [0.99735118 0.99174079 0.99512964 0.98294682 0.98619705 1.        ]\n",
            "F1 score per class: [0.99737829 0.98919125 0.99401512 0.98765625 0.97185741 0.92857143]\n"
          ]
        }
      ]
    },
    {
      "cell_type": "code",
      "source": [
        "# import plotting function and confusion matrix\n",
        "\n",
        "import matplotlib.pyplot as plt\n",
        "from sklearn.metrics import confusion_matrix\n",
        "import seaborn as sn"
      ],
      "metadata": {
        "id": "S-48zeMBKzeH"
      },
      "execution_count": 43,
      "outputs": []
    },
    {
      "cell_type": "code",
      "source": [
        "labels = [0, 1, 2, 3, 4, 5]\n",
        "\n",
        "confusion_mat = confusion_matrix(y_test_rounded, y_pred_classes, labels=labels)\n",
        "\n",
        "sn.set(font_scale=2)\n",
        "\n",
        "plt.figure(figsize = (20,20))\n",
        "s = sn.heatmap(confusion_mat, annot = True)#, cmap = 'Blues',fmt='.2f'\n",
        "\n",
        "s.set_xlabel('Predetti')\n",
        "s.set_ylabel('Originali')\n",
        "\n",
        "plt.title(\"Performance IDS-MLP\\n\")\n",
        "\n",
        "#salva in Drive\n",
        "plt.savefig(f\"{images_dir}/IDS-MLP_ConfusionMatrix__DAGan_setHBuono_senzaCW1.pdf\", dpi=200, format='pdf') #ClassWeighting\n",
        "\n",
        "plt.show()"
      ],
      "metadata": {
        "id": "2hXS4jrb6UAl",
        "colab": {
          "base_uri": "https://localhost:8080/",
          "height": 1000
        },
        "outputId": "db170c9b-88c5-4c4f-a7f6-410b1862fc04"
      },
      "execution_count": 44,
      "outputs": [
        {
          "output_type": "display_data",
          "data": {
            "text/plain": [
              "<Figure size 2000x2000 with 2 Axes>"
            ],
            "image/png": "[encoded data removed]"
          },
          "metadata": {}
        }
      ]
    }
  ],
  "metadata": {
    "colab": {
      "collapsed_sections": [
        "gfjxR9812adx",
        "FEDiBnEFOMC1",
        "mgcTHX1-w7uR",
        "VF6EUAWzSKD9",
        "bXSp0_t4SOq3",
        "1ZuxgDF1SS24",
        "LiZQNPinxSuH",
        "gw-4nT-pwI-x",
        "5cM4eNzTNvJd",
        "l5A8Y2rD8WkZ",
        "js-hrpAVakJr",
        "ybU81EojBwaM",
        "556fJdvWB1dd",
        "9YR6ZBJ2hCet",
        "Ph8lJ_0mJL-b",
        "coFVSKl49EJi",
        "3-Hb8k_rvDc3",
        "bjZRCrIO9qAI"
      ],
      "provenance": [],
      "machine_shape": "hm"
    },
    "kernelspec": {
      "display_name": "Python 3",
      "name": "python3"
    }
  },
  "nbformat": 4,
  "nbformat_minor": 0
}