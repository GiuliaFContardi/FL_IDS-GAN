{
  "cells": [
    {
      "cell_type": "markdown",
      "metadata": {
        "id": "gfjxR9812adx"
      },
      "source": [
        "#### Import"
      ]
    },
    {
      "cell_type": "code",
      "execution_count": 1,
      "metadata": {
        "colab": {
          "base_uri": "https://localhost:8080/"
        },
        "id": "xfDQghWM5HDq",
        "outputId": "de3c345c-a094-4e05-e68a-e9ff51462525"
      },
      "outputs": [
        {
          "output_type": "stream",
          "name": "stdout",
          "text": [
            "Collecting scikeras\n",
            "  Downloading scikeras-0.13.0-py3-none-any.whl.metadata (3.1 kB)\n",
            "Requirement already satisfied: keras>=3.2.0 in /usr/local/lib/python3.10/dist-packages (from scikeras) (3.4.1)\n",
            "Collecting scikit-learn>=1.4.2 (from scikeras)\n",
            "  Downloading scikit_learn-1.5.1-cp310-cp310-manylinux_2_17_x86_64.manylinux2014_x86_64.whl.metadata (12 kB)\n",
            "Requirement already satisfied: absl-py in /usr/local/lib/python3.10/dist-packages (from keras>=3.2.0->scikeras) (1.4.0)\n",
            "Requirement already satisfied: numpy in /usr/local/lib/python3.10/dist-packages (from keras>=3.2.0->scikeras) (1.26.4)\n",
            "Requirement already satisfied: rich in /usr/local/lib/python3.10/dist-packages (from keras>=3.2.0->scikeras) (13.7.1)\n",
            "Requirement already satisfied: namex in /usr/local/lib/python3.10/dist-packages (from keras>=3.2.0->scikeras) (0.0.8)\n",
            "Requirement already satisfied: h5py in /usr/local/lib/python3.10/dist-packages (from keras>=3.2.0->scikeras) (3.11.0)\n",
            "Requirement already satisfied: optree in /usr/local/lib/python3.10/dist-packages (from keras>=3.2.0->scikeras) (0.12.1)\n",
            "Requirement already satisfied: ml-dtypes in /usr/local/lib/python3.10/dist-packages (from keras>=3.2.0->scikeras) (0.4.0)\n",
            "Requirement already satisfied: packaging in /usr/local/lib/python3.10/dist-packages (from keras>=3.2.0->scikeras) (24.1)\n",
            "Requirement already satisfied: scipy>=1.6.0 in /usr/local/lib/python3.10/dist-packages (from scikit-learn>=1.4.2->scikeras) (1.13.1)\n",
            "Requirement already satisfied: joblib>=1.2.0 in /usr/local/lib/python3.10/dist-packages (from scikit-learn>=1.4.2->scikeras) (1.4.2)\n",
            "Requirement already satisfied: threadpoolctl>=3.1.0 in /usr/local/lib/python3.10/dist-packages (from scikit-learn>=1.4.2->scikeras) (3.5.0)\n",
            "Requirement already satisfied: typing-extensions>=4.5.0 in /usr/local/lib/python3.10/dist-packages (from optree->keras>=3.2.0->scikeras) (4.12.2)\n",
            "Requirement already satisfied: markdown-it-py>=2.2.0 in /usr/local/lib/python3.10/dist-packages (from rich->keras>=3.2.0->scikeras) (3.0.0)\n",
            "Requirement already satisfied: pygments<3.0.0,>=2.13.0 in /usr/local/lib/python3.10/dist-packages (from rich->keras>=3.2.0->scikeras) (2.16.1)\n",
            "Requirement already satisfied: mdurl~=0.1 in /usr/local/lib/python3.10/dist-packages (from markdown-it-py>=2.2.0->rich->keras>=3.2.0->scikeras) (0.1.2)\n",
            "Downloading scikeras-0.13.0-py3-none-any.whl (26 kB)\n",
            "Downloading scikit_learn-1.5.1-cp310-cp310-manylinux_2_17_x86_64.manylinux2014_x86_64.whl (13.4 MB)\n",
            "\u001b[2K   \u001b[90m━━━━━━━━━━━━━━━━━━━━━━━━━━━━━━━━━━━━━━━━\u001b[0m \u001b[32m13.4/13.4 MB\u001b[0m \u001b[31m111.0 MB/s\u001b[0m eta \u001b[36m0:00:00\u001b[0m\n",
            "\u001b[?25hInstalling collected packages: scikit-learn, scikeras\n",
            "  Attempting uninstall: scikit-learn\n",
            "    Found existing installation: scikit-learn 1.3.2\n",
            "    Uninstalling scikit-learn-1.3.2:\n",
            "      Successfully uninstalled scikit-learn-1.3.2\n",
            "Successfully installed scikeras-0.13.0 scikit-learn-1.5.1\n"
          ]
        }
      ],
      "source": [
        "pip install scikeras"
      ]
    },
    {
      "cell_type": "code",
      "execution_count": 2,
      "metadata": {
        "id": "Bh9iLBocUHxz"
      },
      "outputs": [],
      "source": [
        "import pandas as pd\n",
        "import keras\n",
        "import matplotlib.pyplot as plt"
      ]
    },
    {
      "cell_type": "code",
      "execution_count": 3,
      "metadata": {
        "colab": {
          "base_uri": "https://localhost:8080/"
        },
        "id": "cO4_xPFYVNK0",
        "outputId": "6cadfa83-6d59-44ae-ed56-8da4f320646e"
      },
      "outputs": [
        {
          "output_type": "stream",
          "name": "stdout",
          "text": [
            "Mounted at /content/drive\n"
          ]
        }
      ],
      "source": [
        "# data is stored in google drive folder so import drive to notebook\n",
        "from google.colab import drive\n",
        "drive.mount('/content/drive')"
      ]
    },
    {
      "cell_type": "code",
      "execution_count": 4,
      "metadata": {
        "id": "yCHl-qaRVSul"
      },
      "outputs": [],
      "source": [
        "import random\n",
        "#random.seed(0)\n",
        "\n",
        "import numpy as np\n",
        "#np.random.seed(0)\n",
        "\n",
        "import tensorflow as tf\n",
        "#tf.random.set_seed(0)"
      ]
    },
    {
      "cell_type": "markdown",
      "metadata": {
        "id": "FEDiBnEFOMC1"
      },
      "source": [
        "##GEN DATASET (valutazione GAN)"
      ]
    },
    {
      "cell_type": "markdown",
      "metadata": {
        "id": "mgcTHX1-w7uR"
      },
      "source": [
        "#### Classi maggiori"
      ]
    },
    {
      "cell_type": "code",
      "execution_count": null,
      "metadata": {
        "id": "SdQ07ZVjSYWR"
      },
      "outputs": [],
      "source": [
        "#Aggiungere labels e solo dopo unire tutti i gen\n",
        "dfBenign = pd.read_csv('/content/drive/My Drive/Colab Notebooks/progettoTesi/Dataset2017/GANgen/Valutazione/tentativo3/setHBuono/genBenign.csv')\n",
        "dfPortscan = pd.read_csv('/content/drive/My Drive/Colab Notebooks/progettoTesi/Dataset2017/GANgen/Valutazione/tentativo3/setHBuono/genPortscan.csv')\n",
        "dfDoS = pd.read_csv('/content/drive/My Drive/Colab Notebooks/progettoTesi/Dataset2017/GANgen/Valutazione/tentativo3/setHBuono/genDoS.csv')\n",
        "dfDDoS = pd.read_csv('/content/drive/My Drive/Colab Notebooks/progettoTesi/Dataset2017/GANgen/Valutazione/tentativo3/setHBuono/genDDoS.csv')"
      ]
    },
    {
      "cell_type": "markdown",
      "metadata": {
        "id": "VF6EUAWzSKD9"
      },
      "source": [
        "#### CSV classi minori con valori minimi"
      ]
    },
    {
      "cell_type": "code",
      "execution_count": null,
      "metadata": {
        "id": "M6xdJMDbOVwh"
      },
      "outputs": [],
      "source": [
        "dfBruteforce = pd.read_csv('/content/drive/My Drive/Colab Notebooks/progettoTesi/Dataset2017/GANgen/Valutazione/tentativo3/setHBuono/Bruteforce/genBruteforce_pochiNuovi.csv')\n",
        "dfBotnet = pd.read_csv('/content/drive/My Drive/Colab Notebooks/progettoTesi/Dataset2017/GANgen/Valutazione/tentativo3/setHBuono/Botnet/genBotnet_pochiNuovi.csv')"
      ]
    },
    {
      "cell_type": "markdown",
      "metadata": {
        "id": "bXSp0_t4SOq3"
      },
      "source": [
        "#### CSV con 10000 samples x classi minori"
      ]
    },
    {
      "cell_type": "code",
      "execution_count": 5,
      "metadata": {
        "id": "ReYSAvSBSUhF"
      },
      "outputs": [],
      "source": [
        "dfBruteforce = pd.read_csv('/content/drive/My Drive/Colab Notebooks/progettoTesi/Dataset2017/GANgen/Valutazione/tentativo3/setHBuono/Bruteforce/genBruteforce_10000.csv')\n",
        "dfBotnet = pd.read_csv('/content/drive/My Drive/Colab Notebooks/progettoTesi/Dataset2017/GANgen/Valutazione/tentativo3/setHBuono/Botnet/genBotnet_10000.csv')"
      ]
    },
    {
      "cell_type": "markdown",
      "metadata": {
        "id": "1ZuxgDF1SS24"
      },
      "source": [
        "#### Resto...TUTTE CLASSI"
      ]
    },
    {
      "cell_type": "code",
      "execution_count": null,
      "metadata": {
        "id": "Zs0qzJJyPE9O"
      },
      "outputs": [],
      "source": [
        "#rows_to_drop = range(2000)\n",
        "#df_dropped_Botnet = dfBotnet.drop(rows_to_drop)\n",
        "\n",
        "# Display the DataFrame after dropping rows\n",
        "#print(df_dropped_Botnet.shape)\n",
        "\n",
        "#dfBotnet=df_dropped_Botnet"
      ]
    },
    {
      "cell_type": "code",
      "execution_count": null,
      "metadata": {
        "id": "4OcLQv0TOX9z"
      },
      "outputs": [],
      "source": [
        "dfBenign['L_BENIGN'] = 1\n",
        "dfPortscan['L_Infiltration_Portscan'] = 1\n",
        "dfDoS['L_DoS'] = 1\n",
        "dfDDoS['L_DDoS'] = 1\n",
        "dfBruteforce['L_BruteForce'] = 1\n",
        "dfBotnet['L_Botnet'] = 1\n",
        "\n",
        "dfBenign['L_Infiltration_Portscan'] = 0\n",
        "dfBenign['L_DoS'] = 0\n",
        "dfBenign['L_DDoS'] = 0\n",
        "dfBenign['L_BruteForce'] = 0\n",
        "dfBenign['L_Botnet'] = 0\n",
        "\n",
        "dfPortscan['L_BENIGN'] = 0\n",
        "dfPortscan['L_DoS'] = 0\n",
        "dfPortscan['L_DDoS'] = 0\n",
        "dfPortscan['L_BruteForce'] = 0\n",
        "dfPortscan['L_Botnet'] = 0\n",
        "\n",
        "dfDoS['L_BENIGN'] = 0\n",
        "dfDoS['L_Infiltration_Portscan'] = 0\n",
        "dfDoS['L_DDoS'] = 0\n",
        "dfDoS['L_BruteForce'] = 0\n",
        "dfDoS['L_Botnet'] = 0\n",
        "\n",
        "dfDDoS['L_BENIGN'] = 0\n",
        "dfDDoS['L_Infiltration_Portscan'] = 0\n",
        "dfDDoS['L_DoS'] = 0\n",
        "dfDDoS['L_BruteForce'] = 0\n",
        "dfDDoS['L_Botnet'] = 0\n",
        "\n",
        "dfBruteforce['L_BENIGN'] = 0\n",
        "dfBruteforce['L_Infiltration_Portscan'] = 0\n",
        "dfBruteforce['L_DoS'] = 0\n",
        "dfBruteforce['L_DDoS'] = 0\n",
        "dfBruteforce['L_Botnet'] = 0\n",
        "\n",
        "dfBotnet['L_BENIGN'] = 0\n",
        "dfBotnet['L_Infiltration_Portscan'] = 0\n",
        "dfBotnet['L_DoS'] = 0\n",
        "dfBotnet['L_DDoS'] = 0\n",
        "dfBotnet['L_BruteForce'] = 0"
      ]
    },
    {
      "cell_type": "code",
      "execution_count": null,
      "metadata": {
        "id": "_ikGsF5LOZmQ"
      },
      "outputs": [],
      "source": [
        "merged_df = pd.concat([dfBenign, dfPortscan, dfDoS, dfDDoS, dfBruteforce, dfBotnet], axis=0, ignore_index=True)"
      ]
    },
    {
      "cell_type": "code",
      "execution_count": null,
      "metadata": {
        "colab": {
          "base_uri": "https://localhost:8080/"
        },
        "id": "Ueua4SNfPgbq",
        "outputId": "b32afabf-e46b-4ed7-cd15-b70b2736165b"
      },
      "outputs": [
        {
          "data": {
            "text/plain": [
              "(1484419, 41)"
            ]
          },
          "execution_count": 8,
          "metadata": {},
          "output_type": "execute_result"
        }
      ],
      "source": [
        "merged_df.shape"
      ]
    },
    {
      "cell_type": "code",
      "execution_count": null,
      "metadata": {
        "id": "EDfySyufOd9z"
      },
      "outputs": [],
      "source": [
        "col_labels = ['L_BENIGN', 'L_Infiltration_Portscan', 'L_DoS', 'L_DDoS', 'L_BruteForce', 'L_Botnet']\n",
        "y_train = merged_df[['L_BENIGN','L_Infiltration_Portscan','L_DDoS','L_DoS','L_BruteForce','L_Botnet']]\n",
        "X_train = merged_df.drop(columns=col_labels)"
      ]
    },
    {
      "cell_type": "code",
      "execution_count": null,
      "metadata": {
        "colab": {
          "base_uri": "https://localhost:8080/"
        },
        "id": "ddwe8mOHOn7i",
        "outputId": "da54e73d-a788-4edb-d9ff-a40ccc5aa318"
      },
      "outputs": [
        {
          "name": "stdout",
          "output_type": "stream",
          "text": [
            "Samples per classe GEN\n",
            "1116095\n",
            "161597\n",
            "120134\n",
            "66593\n",
            "10000\n",
            "10000\n"
          ]
        }
      ],
      "source": [
        "print(\"Samples per classe GEN\")\n",
        "print((merged_df['L_BENIGN']==1).values.sum())\n",
        "print((merged_df['L_Infiltration_Portscan']==1).values.sum())\n",
        "print((merged_df['L_DoS']==1).values.sum())\n",
        "print((merged_df['L_DDoS']==1).values.sum())\n",
        "print((merged_df['L_BruteForce']==1).values.sum())\n",
        "print((merged_df['L_Botnet']==1).values.sum())"
      ]
    },
    {
      "cell_type": "code",
      "execution_count": null,
      "metadata": {
        "colab": {
          "base_uri": "https://localhost:8080/"
        },
        "id": "8DlW8SENQBKf",
        "outputId": "6394a1f1-5dd2-495f-e2df-e0320a5cfa1c"
      },
      "outputs": [
        {
          "data": {
            "text/plain": [
              "(1484419, 35)"
            ]
          },
          "execution_count": 11,
          "metadata": {},
          "output_type": "execute_result"
        }
      ],
      "source": [
        "X_train.shape"
      ]
    },
    {
      "cell_type": "code",
      "execution_count": null,
      "metadata": {
        "id": "hrbitEpZW-Rb"
      },
      "outputs": [],
      "source": [
        "merged_df_final = merged_df\n",
        "from sklearn.utils import shuffle\n",
        "merged_df_final = shuffle(merged_df_final).reset_index()\n",
        "merged_df_final = merged_df_final.drop(\"index\", axis=1) #elimino colonna indice creata dal reset_index"
      ]
    },
    {
      "cell_type": "code",
      "execution_count": null,
      "metadata": {
        "colab": {
          "base_uri": "https://localhost:8080/"
        },
        "id": "MoDLnC2uXbRb",
        "outputId": "b872199c-2649-48b8-e444-6cdd3bb61b01"
      },
      "outputs": [
        {
          "data": {
            "text/plain": [
              "(1484419, 41)"
            ]
          },
          "execution_count": 13,
          "metadata": {},
          "output_type": "execute_result"
        }
      ],
      "source": [
        "merged_df_final.shape"
      ]
    },
    {
      "cell_type": "markdown",
      "metadata": {
        "id": "irbMhqRKu_aq"
      },
      "source": [
        "#### Resto...SOLO CLASSI MINORI"
      ]
    },
    {
      "cell_type": "code",
      "execution_count": 6,
      "metadata": {
        "id": "NDP1UyQ8vC9A"
      },
      "outputs": [],
      "source": [
        "dfBruteforce['L_BruteForce'] = 1\n",
        "dfBotnet['L_Botnet'] = 1\n",
        "\n",
        "dfBruteforce['L_BENIGN'] = 0\n",
        "dfBruteforce['L_Infiltration_Portscan'] = 0\n",
        "dfBruteforce['L_DoS'] = 0\n",
        "dfBruteforce['L_DDoS'] = 0\n",
        "dfBruteforce['L_Botnet'] = 0\n",
        "\n",
        "dfBotnet['L_BENIGN'] = 0\n",
        "dfBotnet['L_Infiltration_Portscan'] = 0\n",
        "dfBotnet['L_DoS'] = 0\n",
        "dfBotnet['L_DDoS'] = 0\n",
        "dfBotnet['L_BruteForce'] = 0"
      ]
    },
    {
      "cell_type": "code",
      "execution_count": 7,
      "metadata": {
        "colab": {
          "base_uri": "https://localhost:8080/"
        },
        "id": "_03-eT3NvK7j",
        "outputId": "d391c8b9-6ff6-4d5d-8c22-24c074f0c5cf"
      },
      "outputs": [
        {
          "output_type": "execute_result",
          "data": {
            "text/plain": [
              "(20000, 41)"
            ]
          },
          "metadata": {},
          "execution_count": 7
        }
      ],
      "source": [
        "merged_df = pd.concat([dfBruteforce, dfBotnet], axis=0, ignore_index=True)\n",
        "merged_df.shape"
      ]
    },
    {
      "cell_type": "code",
      "execution_count": 8,
      "metadata": {
        "colab": {
          "base_uri": "https://localhost:8080/"
        },
        "id": "5MbrX5hcvWk9",
        "outputId": "b5af14d0-f479-4125-bc14-a515a427b714"
      },
      "outputs": [
        {
          "output_type": "execute_result",
          "data": {
            "text/plain": [
              "(20000, 35)"
            ]
          },
          "metadata": {},
          "execution_count": 8
        }
      ],
      "source": [
        "col_labels = ['L_BENIGN', 'L_Infiltration_Portscan', 'L_DoS', 'L_DDoS', 'L_BruteForce', 'L_Botnet']\n",
        "y_train = merged_df[['L_BENIGN','L_Infiltration_Portscan','L_DDoS','L_DoS','L_BruteForce','L_Botnet']]\n",
        "X_train = merged_df.drop(columns=col_labels)\n",
        "X_train.shape"
      ]
    },
    {
      "cell_type": "code",
      "execution_count": 9,
      "metadata": {
        "colab": {
          "base_uri": "https://localhost:8080/"
        },
        "id": "CBAXgQ_CvcJZ",
        "outputId": "11899739-0910-46ec-9869-ea14e08d057a"
      },
      "outputs": [
        {
          "output_type": "stream",
          "name": "stdout",
          "text": [
            "Samples per classe GEN\n",
            "0\n",
            "0\n",
            "0\n",
            "0\n",
            "10000\n",
            "10000\n"
          ]
        }
      ],
      "source": [
        "print(\"Samples per classe GEN\")\n",
        "print((merged_df['L_BENIGN']==1).values.sum())\n",
        "print((merged_df['L_Infiltration_Portscan']==1).values.sum())\n",
        "print((merged_df['L_DoS']==1).values.sum())\n",
        "print((merged_df['L_DDoS']==1).values.sum())\n",
        "print((merged_df['L_BruteForce']==1).values.sum())\n",
        "print((merged_df['L_Botnet']==1).values.sum())"
      ]
    },
    {
      "cell_type": "code",
      "execution_count": 10,
      "metadata": {
        "id": "1AUp81HGvnmC"
      },
      "outputs": [],
      "source": [
        "merged_df_final = merged_df\n",
        "from sklearn.utils import shuffle\n",
        "merged_df_final = shuffle(merged_df_final).reset_index()\n",
        "merged_df_final = merged_df_final.drop(\"index\", axis=1) #elimino colonna indice creata dal reset_index"
      ]
    },
    {
      "cell_type": "markdown",
      "metadata": {
        "id": "LiZQNPinxSuH"
      },
      "source": [
        "##REAL+GEN DATASET - DATA AUGMENTATION"
      ]
    },
    {
      "cell_type": "code",
      "execution_count": 11,
      "metadata": {
        "colab": {
          "base_uri": "https://localhost:8080/"
        },
        "id": "yeLixKadN4Um",
        "outputId": "5ddec03d-1372-4705-852b-8d3d1d2fd665"
      },
      "outputs": [
        {
          "output_type": "stream",
          "name": "stdout",
          "text": [
            "(1469838, 35)\n",
            "(1469838, 6)\n"
          ]
        }
      ],
      "source": [
        "X_train = pd.read_csv('/content/drive/My Drive/Colab Notebooks/progettoTesi/Dataset2017/improved/Pre-processed_versions/terzoPreprocessing/X_train_35.csv')\n",
        "y_train = pd.read_csv('/content/drive/My Drive/Colab Notebooks/progettoTesi/Dataset2017/improved/Pre-processed_versions/terzoPreprocessing/y_train_35.csv')\n",
        "\n",
        "print(X_train.shape)\n",
        "print(y_train.shape)"
      ]
    },
    {
      "cell_type": "code",
      "execution_count": 12,
      "metadata": {
        "id": "ICK1-YwuiWag"
      },
      "outputs": [],
      "source": [
        "dfReal = pd.concat([X_train, y_train], axis=1)"
      ]
    },
    {
      "cell_type": "code",
      "execution_count": 13,
      "metadata": {
        "colab": {
          "base_uri": "https://localhost:8080/"
        },
        "id": "j4EHxGd5ONKW",
        "outputId": "1660bad0-4103-41b2-de38-0eea29c5d88a"
      },
      "outputs": [
        {
          "output_type": "execute_result",
          "data": {
            "text/plain": [
              "(1469838, 41)"
            ]
          },
          "metadata": {},
          "execution_count": 13
        }
      ],
      "source": [
        "dfReal.shape"
      ]
    },
    {
      "cell_type": "code",
      "execution_count": 14,
      "metadata": {
        "colab": {
          "base_uri": "https://localhost:8080/"
        },
        "id": "ojZKUcC-jnUa",
        "outputId": "70c2d699-bd68-4278-e20a-1ac397653be5"
      },
      "outputs": [
        {
          "output_type": "stream",
          "name": "stdout",
          "text": [
            "(1469838, 41)\n",
            "(20000, 41)\n"
          ]
        }
      ],
      "source": [
        "print(dfReal.shape)\n",
        "print(merged_df_final.shape)"
      ]
    },
    {
      "cell_type": "code",
      "execution_count": 15,
      "metadata": {
        "colab": {
          "base_uri": "https://localhost:8080/"
        },
        "id": "n4Bh78Z3jveO",
        "outputId": "001d735c-45e8-410c-dced-e6c06c771396"
      },
      "outputs": [
        {
          "output_type": "stream",
          "name": "stdout",
          "text": [
            "(1489838, 41)\n"
          ]
        }
      ],
      "source": [
        "merged_df_complete = pd.concat([dfReal, merged_df_final], axis=0, ignore_index=True)\n",
        "print(merged_df_complete.shape)"
      ]
    },
    {
      "cell_type": "code",
      "execution_count": 16,
      "metadata": {
        "id": "bKVYzsGFYODZ"
      },
      "outputs": [],
      "source": [
        "merged_df_complete = shuffle(merged_df_complete).reset_index()\n",
        "merged_df_complete = merged_df_complete.drop(\"index\", axis=1) #elimino colonna indice creata dal reset_index"
      ]
    },
    {
      "cell_type": "code",
      "execution_count": 17,
      "metadata": {
        "id": "dz_Lo_OVcIUR"
      },
      "outputs": [],
      "source": [
        "col_labels = ['L_BENIGN', 'L_Infiltration_Portscan', 'L_DoS', 'L_DDoS', 'L_BruteForce', 'L_Botnet']\n",
        "y_train = merged_df_complete[['L_BENIGN','L_Infiltration_Portscan','L_DDoS','L_DoS','L_BruteForce','L_Botnet']]\n",
        "X_train = merged_df_complete.drop(columns=col_labels)"
      ]
    },
    {
      "cell_type": "code",
      "execution_count": 18,
      "metadata": {
        "colab": {
          "base_uri": "https://localhost:8080/"
        },
        "id": "ZKBcA21WqshR",
        "outputId": "a04aed5a-86a6-48c5-89c0-563507a01353"
      },
      "outputs": [
        {
          "output_type": "stream",
          "name": "stdout",
          "text": [
            "Samples per classe X_TRAIN\n",
            "1116095\n",
            "161597\n",
            "120134\n",
            "66593\n",
            "4904\n",
            "515\n",
            "====================================\n",
            "Samples per classe GEN\n",
            "0\n",
            "0\n",
            "0\n",
            "0\n",
            "10000\n",
            "10000\n",
            "====================================\n",
            "Samples per classe X_TRAIN+GEN\n",
            "1116095\n",
            "161597\n",
            "120134\n",
            "66593\n",
            "14904\n",
            "10515\n"
          ]
        }
      ],
      "source": [
        "print(\"Samples per classe X_TRAIN\")\n",
        "print((dfReal['L_BENIGN']==1).values.sum())\n",
        "print((dfReal['L_Infiltration_Portscan']==1).values.sum())\n",
        "print((dfReal['L_DoS']==1).values.sum())\n",
        "print((dfReal['L_DDoS']==1).values.sum())\n",
        "print((dfReal['L_BruteForce']==1).values.sum())\n",
        "print((dfReal['L_Botnet']==1).values.sum())\n",
        "print(\"====================================\")\n",
        "print(\"Samples per classe GEN\")\n",
        "print((merged_df_final['L_BENIGN']==1).values.sum())\n",
        "print((merged_df_final['L_Infiltration_Portscan']==1).values.sum())\n",
        "print((merged_df_final['L_DoS']==1).values.sum())\n",
        "print((merged_df_final['L_DDoS']==1).values.sum())\n",
        "print((merged_df_final['L_BruteForce']==1).values.sum())\n",
        "print((merged_df_final['L_Botnet']==1).values.sum())\n",
        "print(\"====================================\")\n",
        "print(\"Samples per classe X_TRAIN+GEN\")\n",
        "print((merged_df_complete['L_BENIGN']==1).values.sum())\n",
        "print((merged_df_complete['L_Infiltration_Portscan']==1).values.sum())\n",
        "print((merged_df_complete['L_DoS']==1).values.sum())\n",
        "print((merged_df_complete['L_DDoS']==1).values.sum())\n",
        "print((merged_df_complete['L_BruteForce']==1).values.sum())\n",
        "print((merged_df_complete['L_Botnet']==1).values.sum())"
      ]
    },
    {
      "cell_type": "code",
      "execution_count": 19,
      "metadata": {
        "colab": {
          "base_uri": "https://localhost:8080/"
        },
        "id": "XdFPD_TVZLJq",
        "outputId": "111c29ac-6a7e-4022-8202-7560609f3144"
      },
      "outputs": [
        {
          "output_type": "execute_result",
          "data": {
            "text/plain": [
              "(1489838, 35)"
            ]
          },
          "metadata": {},
          "execution_count": 19
        }
      ],
      "source": [
        "X_train.shape"
      ]
    },
    {
      "cell_type": "code",
      "execution_count": 20,
      "metadata": {
        "colab": {
          "base_uri": "https://localhost:8080/"
        },
        "id": "4BKbBL3LZMTS",
        "outputId": "daa8dbc2-368d-44af-fc0f-d5e31169257e"
      },
      "outputs": [
        {
          "output_type": "execute_result",
          "data": {
            "text/plain": [
              "(1489838, 6)"
            ]
          },
          "metadata": {},
          "execution_count": 20
        }
      ],
      "source": [
        "y_train.shape"
      ]
    },
    {
      "cell_type": "markdown",
      "metadata": {
        "id": "gw-4nT-pwI-x"
      },
      "source": [
        "## REAL DATASET"
      ]
    },
    {
      "cell_type": "code",
      "execution_count": null,
      "metadata": {
        "colab": {
          "base_uri": "https://localhost:8080/"
        },
        "id": "ljAzWFEEDKTF",
        "outputId": "6303b728-f967-4882-b18e-062c32fa5b66"
      },
      "outputs": [
        {
          "name": "stdout",
          "output_type": "stream",
          "text": [
            "(1469838, 35)\n",
            "(1469838, 6)\n"
          ]
        }
      ],
      "source": [
        "X_train = pd.read_csv('/content/drive/My Drive/Colab Notebooks/progettoTesi/Dataset2017/improved/Pre-processed_versions/terzoPreprocessing/X_train_35.csv')\n",
        "y_train = pd.read_csv('/content/drive/My Drive/Colab Notebooks/progettoTesi/Dataset2017/improved/Pre-processed_versions/terzoPreprocessing/y_train_35.csv')\n",
        "\n",
        "print(X_train.shape)\n",
        "print(y_train.shape)"
      ]
    },
    {
      "cell_type": "code",
      "execution_count": null,
      "metadata": {
        "id": "7VK7QR75P5oP"
      },
      "outputs": [],
      "source": [
        "#result = pd.concat([X_train, y_train], axis=1)\n",
        "#result.shape\n",
        "#result['L_BENIGN'].value_counts()"
      ]
    },
    {
      "cell_type": "markdown",
      "metadata": {
        "id": "JRe37iCjQllL"
      },
      "source": [
        "```\n",
        "(1469838, 41)\n",
        "\n",
        "BENIGN                   1116095\n",
        "Infiltration_Portscan     161597\n",
        "DoS                       120134\n",
        "DDoS                       66593\n",
        "BruteForce                  4904\n",
        "Botnet                       515\n",
        "```"
      ]
    },
    {
      "cell_type": "markdown",
      "metadata": {
        "id": "5cM4eNzTNvJd"
      },
      "source": [
        "## TEST DATASET"
      ]
    },
    {
      "cell_type": "code",
      "execution_count": 21,
      "metadata": {
        "colab": {
          "base_uri": "https://localhost:8080/"
        },
        "id": "n98kgbBjl6tE",
        "outputId": "efbf4725-7226-4893-b1cc-aaab8cf8a23e"
      },
      "outputs": [
        {
          "output_type": "stream",
          "name": "stdout",
          "text": [
            "(629931, 35)\n",
            "(629931, 6)\n"
          ]
        }
      ],
      "source": [
        "X_test = pd.read_csv('/content/drive/My Drive/Colab Notebooks/progettoTesi/Dataset2017/improved/Pre-processed_versions/terzoPreprocessing/X_test_35.csv')\n",
        "y_test = pd.read_csv('/content/drive/My Drive/Colab Notebooks/progettoTesi/Dataset2017/improved/Pre-processed_versions/terzoPreprocessing/y_test_35.csv')\n",
        "\n",
        "print(X_test.shape)\n",
        "print(y_test.shape)"
      ]
    },
    {
      "cell_type": "code",
      "execution_count": 22,
      "metadata": {
        "id": "FVm3hGkCPFX3"
      },
      "outputs": [],
      "source": [
        "df_test = pd.concat([X_test, y_test], axis=1)"
      ]
    },
    {
      "cell_type": "markdown",
      "metadata": {
        "id": "kCsXtX6URfbc"
      },
      "source": [
        "```\n",
        "(629931, 41)\n",
        "\n",
        "BENIGN                    478327\n",
        "Infiltration_Portscan      69256\n",
        "DoS                        51486\n",
        "DDoS                       28540\n",
        "BruteForce                  2101\n",
        "Botnet                       221\n",
        "```"
      ]
    },
    {
      "cell_type": "markdown",
      "metadata": {
        "id": "l5A8Y2rD8WkZ"
      },
      "source": [
        "## preparo array"
      ]
    },
    {
      "cell_type": "code",
      "execution_count": 23,
      "metadata": {
        "id": "kqUigR_EyBaZ"
      },
      "outputs": [],
      "source": [
        "X_train = X_train.to_numpy()\n",
        "y_train = y_train.to_numpy()\n",
        "X_test = X_test.to_numpy()\n",
        "y_test = y_test.to_numpy()"
      ]
    },
    {
      "cell_type": "code",
      "execution_count": 24,
      "metadata": {
        "colab": {
          "base_uri": "https://localhost:8080/"
        },
        "id": "9-9U_c5o5tHP",
        "outputId": "9430007a-99c6-400b-c7a6-66b6a07f4212"
      },
      "outputs": [
        {
          "output_type": "execute_result",
          "data": {
            "text/plain": [
              "((1489838, 35), (1489838, 6), (629931, 35), (629931, 6))"
            ]
          },
          "metadata": {},
          "execution_count": 24
        }
      ],
      "source": [
        "X_train.shape, y_train.shape, X_test.shape, y_test.shape"
      ]
    },
    {
      "cell_type": "markdown",
      "metadata": {
        "id": "zGsQnxJnO0Uc"
      },
      "source": [
        "# **Architettura IDS**"
      ]
    },
    {
      "cell_type": "markdown",
      "metadata": {
        "id": "js-hrpAVakJr"
      },
      "source": [
        "### Vecchi"
      ]
    },
    {
      "cell_type": "markdown",
      "metadata": {
        "id": "ybU81EojBwaM"
      },
      "source": [
        "#### Vecchia versione architettura modello"
      ]
    },
    {
      "cell_type": "code",
      "execution_count": null,
      "metadata": {
        "id": "1wSN-_G02UzL"
      },
      "outputs": [],
      "source": [
        "l_r = 0.0005 #@param"
      ]
    },
    {
      "cell_type": "code",
      "execution_count": null,
      "metadata": {
        "id": "JyBfMI-RZcna"
      },
      "outputs": [],
      "source": [
        "# build the classifier model\n",
        "from keras.models import Sequential\n",
        "from keras.layers import Dense\n",
        "from tensorflow.keras.optimizers import Adam\n",
        "\n",
        "#def baseline_model():\n",
        "  # create model\n",
        "model = Sequential()\n",
        "model.add(Dense(64, input_dim=35, activation='relu'))\n",
        "model.add(Dense(32, activation='relu'))\n",
        "model.add(Dense(6, activation='softmax'))\n",
        "\n",
        "model.compile(loss='categorical_crossentropy', optimizer=Adam(learning_rate=l_r), metrics=['accuracy'])"
      ]
    },
    {
      "cell_type": "markdown",
      "metadata": {
        "id": "556fJdvWB1dd"
      },
      "source": [
        "#### Nuova versione architettura modello per riferimento valutazione\n",
        "Fonte: https://ijece.iaescore.com/index.php/IJECE/article/view/26968/16288\n"
      ]
    },
    {
      "cell_type": "code",
      "execution_count": null,
      "metadata": {
        "id": "cJsQNUSwBvbR"
      },
      "outputs": [],
      "source": [
        "from keras.models import Sequential\n",
        "from keras.layers import Dense, InputLayer\n",
        "from tensorflow.keras.optimizers import Adam\n",
        "import tensorflow as tf\n",
        "\n",
        "# Define the model\n",
        "model = Sequential()\n",
        "model.add(InputLayer(input_shape=(35,)))\n",
        "model.add(Dense(32, activation='relu'))\n",
        "model.add(Dense(72, activation='relu'))\n",
        "model.add(Dense(32, activation='relu'))\n",
        "model.add(Dense(6, activation='softmax'))\n",
        "\n",
        "# Compile the model\n",
        "model.compile(optimizer=Adam(learning_rate=l_r),\n",
        "              loss='categorical_crossentropy',\n",
        "              metrics=['accuracy', tf.keras.metrics.Recall()])"
      ]
    },
    {
      "cell_type": "markdown",
      "metadata": {
        "id": "j9_-zSfCJK8I"
      },
      "source": [
        "#### Nuova versione (2) architettura modello per riferimento valutazione\n",
        "Fonte: 10.1109/MILCOM47813.2019.9020824"
      ]
    },
    {
      "cell_type": "markdown",
      "metadata": {
        "id": "9YR6ZBJ2hCet"
      },
      "source": [
        "### ***GIUSTA*** - Nuova versione (3) architettura modello per riferimento valutazione\n",
        "Fonte: 10.3390/app13127328\n"
      ]
    },
    {
      "cell_type": "code",
      "execution_count": 25,
      "metadata": {
        "colab": {
          "base_uri": "https://localhost:8080/"
        },
        "id": "ONvVkyl4JKk0",
        "outputId": "fb1890db-ea5c-4ef6-fcbd-891ef9d409bf"
      },
      "outputs": [
        {
          "output_type": "stream",
          "name": "stderr",
          "text": [
            "/usr/local/lib/python3.10/dist-packages/keras/src/layers/core/dense.py:87: UserWarning: Do not pass an `input_shape`/`input_dim` argument to a layer. When using Sequential models, prefer using an `Input(shape)` object as the first layer in the model instead.\n",
            "  super().__init__(activity_regularizer=activity_regularizer, **kwargs)\n"
          ]
        }
      ],
      "source": [
        "\n",
        "\n",
        "from tensorflow.keras.models import Sequential\n",
        "from tensorflow.keras.layers import Dense\n",
        "from tensorflow.keras.callbacks import EarlyStopping\n",
        "from tensorflow.keras.regularizers import l2\n",
        "\n",
        "model = Sequential()\n",
        "model.add(Dense(64, input_dim=35, activation='relu', kernel_regularizer=l2(0.01)))\n",
        "model.add(Dense(128, activation='relu', kernel_regularizer=l2(0.01)))\n",
        "model.add(Dense(128, activation='relu', kernel_regularizer=l2(0.01)))\n",
        "model.add(Dense(64, activation='relu', kernel_regularizer=l2(0.01))) #il paper si confonde e dà due valori: 0.001 e 0.01\n",
        "model.add(Dense(6, activation='softmax'))\n",
        "\n",
        "model.compile(optimizer=tf.keras.optimizers.Adam(learning_rate=0.001), loss='categorical_crossentropy', metrics=['accuracy'])"
      ]
    },
    {
      "cell_type": "markdown",
      "metadata": {
        "id": "Ph8lJ_0mJL-b"
      },
      "source": [
        "### Model summary"
      ]
    },
    {
      "cell_type": "code",
      "execution_count": null,
      "metadata": {
        "colab": {
          "base_uri": "https://localhost:8080/"
        },
        "id": "gqvH3MBP4gg2",
        "outputId": "cfd58f99-160d-41f0-cc31-d0951705f862"
      },
      "outputs": [
        {
          "name": "stdout",
          "output_type": "stream",
          "text": [
            "Model: \"sequential\"\n",
            "_________________________________________________________________\n",
            " Layer (type)                Output Shape              Param #   \n",
            "=================================================================\n",
            " dense (Dense)               (None, 64)                2304      \n",
            "                                                                 \n",
            " dense_1 (Dense)             (None, 128)               8320      \n",
            "                                                                 \n",
            " dense_2 (Dense)             (None, 128)               16512     \n",
            "                                                                 \n",
            " dense_3 (Dense)             (None, 64)                8256      \n",
            "                                                                 \n",
            " dense_4 (Dense)             (None, 6)                 390       \n",
            "                                                                 \n",
            "=================================================================\n",
            "Total params: 35782 (139.77 KB)\n",
            "Trainable params: 35782 (139.77 KB)\n",
            "Non-trainable params: 0 (0.00 Byte)\n",
            "_________________________________________________________________\n"
          ]
        }
      ],
      "source": [
        "model.summary()"
      ]
    },
    {
      "cell_type": "markdown",
      "metadata": {
        "id": "QXoA0Z9ogK3A"
      },
      "source": [
        "### Cross-Validation section"
      ]
    },
    {
      "cell_type": "code",
      "execution_count": null,
      "metadata": {
        "id": "Y8hyzUUEgFRu"
      },
      "outputs": [],
      "source": [
        "from scikeras.wrappers import KerasClassifier\n",
        "from sklearn.model_selection import cross_val_score\n",
        "from sklearn import metrics\n",
        "\n",
        "\n",
        "def create_model():\n",
        "    model = Sequential()\n",
        "    model.add(Dense(64, input_dim=35, activation='relu', kernel_regularizer=l2(0.01)))\n",
        "    model.add(Dense(128, activation='relu', kernel_regularizer=l2(0.01)))\n",
        "    model.add(Dense(128, activation='relu', kernel_regularizer=l2(0.01)))\n",
        "    model.add(Dense(64, activation='relu', kernel_regularizer=l2(0.01)))\n",
        "    model.add(Dense(6, activation='softmax'))\n",
        "    model.compile(optimizer=tf.keras.optimizers.Adam(learning_rate=0.001), loss='categorical_crossentropy', metrics=['accuracy'])\n",
        "    return model"
      ]
    },
    {
      "cell_type": "code",
      "execution_count": null,
      "metadata": {
        "id": "pj40jysDgH24"
      },
      "outputs": [],
      "source": [
        "model_clf = KerasClassifier(build_fn=create_model, epochs=300, batch_size=1024, verbose=0)\n",
        "cv_scores = cross_val_score(model_clf, X_train, y_train, cv=5, scoring='f1_macro', verbose=0)\n",
        "\n",
        "print(\"Cross-Validation Scores F1 MACRO:\", cv_scores)\n",
        "print(\"Average Cross-Validation F1 MACRO:\", np.mean(cv_scores))"
      ]
    },
    {
      "cell_type": "markdown",
      "metadata": {
        "id": "KufZWSYfdLLd"
      },
      "source": [
        "# **Training**\n"
      ]
    },
    {
      "cell_type": "code",
      "execution_count": 26,
      "metadata": {
        "id": "3-14oCb6pkqt"
      },
      "outputs": [],
      "source": [
        "e = 300 #@param\n",
        "v_split = 0.20 #@param\n",
        "pat_earlyStop = 20 #@param\n",
        "train_batch_size = 1024 #@param\n",
        "lr = 0.001"
      ]
    },
    {
      "cell_type": "markdown",
      "metadata": {
        "id": "lphmjkx4qClf"
      },
      "source": [
        "Definisco un validation set migliore, più bilanciato..."
      ]
    },
    {
      "cell_type": "code",
      "execution_count": 27,
      "metadata": {
        "id": "wcWJhpL8qEQU"
      },
      "outputs": [],
      "source": [
        "from sklearn.model_selection import train_test_split\n",
        "\n",
        "X_combined = X_train\n",
        "y_combined = y_train\n",
        "\n",
        "X_train, X_val, y_train, y_val = train_test_split(\n",
        "    X_combined, y_combined, test_size=v_split, random_state=3, stratify=y_combined\n",
        ")"
      ]
    },
    {
      "cell_type": "code",
      "execution_count": 28,
      "metadata": {
        "colab": {
          "base_uri": "https://localhost:8080/"
        },
        "id": "YXKDAEe54CL1",
        "outputId": "7bdf6c5f-08ef-4dd3-b262-8589b70c8152"
      },
      "outputs": [
        {
          "output_type": "stream",
          "name": "stdout",
          "text": [
            "(1191870, 35)\n",
            "(297968, 35)\n"
          ]
        }
      ],
      "source": [
        "print(X_train.shape)\n",
        "print(X_val.shape)"
      ]
    },
    {
      "cell_type": "markdown",
      "metadata": {
        "id": "coFVSKl49EJi"
      },
      "source": [
        "#### Class Weighting"
      ]
    },
    {
      "cell_type": "code",
      "execution_count": 29,
      "metadata": {
        "id": "j-U6DBar9EbW"
      },
      "outputs": [],
      "source": [
        "#Cerco di capire se l'imbalanced classes mi da problemi di TROPPA BRAVURA del DNN ==> eseguo class Weighting\n",
        "from sklearn.utils.class_weight import compute_class_weight\n",
        "\n",
        "class_values = np.argmax(y_train, axis=1)\n",
        "class_weights = compute_class_weight(class_weight='balanced', classes=np.unique(class_values), y=class_values)\n",
        "class_weight_dict = dict(zip(np.unique(class_values), class_weights))"
      ]
    },
    {
      "cell_type": "code",
      "execution_count": 30,
      "metadata": {
        "colab": {
          "base_uri": "https://localhost:8080/"
        },
        "id": "Zudx7PpoLTPX",
        "outputId": "17767e4d-99b8-4545-b83c-91cc9e36437e"
      },
      "outputs": [
        {
          "output_type": "stream",
          "name": "stdout",
          "text": [
            "[0 0 0 ... 0 0 0]\n",
            "[ 0.2224777   1.53657235  3.72874198  2.066915   16.66065588 23.61447932]\n"
          ]
        }
      ],
      "source": [
        "print(class_values)\n",
        "print(class_weights)"
      ]
    },
    {
      "cell_type": "markdown",
      "metadata": {
        "id": "dp5lWVSoqRtA"
      },
      "source": [
        "#### Train"
      ]
    },
    {
      "cell_type": "code",
      "execution_count": 31,
      "metadata": {
        "colab": {
          "base_uri": "https://localhost:8080/"
        },
        "id": "U8RTHSMoGUYA",
        "outputId": "baaa38ca-e70b-450f-ced6-66b21aee33be"
      },
      "outputs": [
        {
          "output_type": "stream",
          "name": "stdout",
          "text": [
            "Epoch 1/300\n",
            "1164/1164 - 8s - 7ms/step - accuracy: 0.9179 - loss: 0.6474 - val_accuracy: 0.9555 - val_loss: 0.3537\n",
            "Epoch 2/300\n",
            "1164/1164 - 2s - 2ms/step - accuracy: 0.9613 - loss: 0.3226 - val_accuracy: 0.9638 - val_loss: 0.3008\n",
            "Epoch 3/300\n",
            "1164/1164 - 2s - 2ms/step - accuracy: 0.9630 - loss: 0.2899 - val_accuracy: 0.9636 - val_loss: 0.2780\n",
            "Epoch 4/300\n",
            "1164/1164 - 2s - 2ms/step - accuracy: 0.9636 - loss: 0.2727 - val_accuracy: 0.9645 - val_loss: 0.2650\n",
            "Epoch 5/300\n",
            "1164/1164 - 2s - 2ms/step - accuracy: 0.9642 - loss: 0.2607 - val_accuracy: 0.9652 - val_loss: 0.2538\n",
            "Epoch 6/300\n",
            "1164/1164 - 2s - 2ms/step - accuracy: 0.9647 - loss: 0.2515 - val_accuracy: 0.9661 - val_loss: 0.2470\n",
            "Epoch 7/300\n",
            "1164/1164 - 2s - 2ms/step - accuracy: 0.9652 - loss: 0.2438 - val_accuracy: 0.9658 - val_loss: 0.2408\n",
            "Epoch 8/300\n",
            "1164/1164 - 2s - 2ms/step - accuracy: 0.9656 - loss: 0.2375 - val_accuracy: 0.9659 - val_loss: 0.2333\n",
            "Epoch 9/300\n",
            "1164/1164 - 2s - 2ms/step - accuracy: 0.9660 - loss: 0.2318 - val_accuracy: 0.9659 - val_loss: 0.2279\n",
            "Epoch 10/300\n",
            "1164/1164 - 2s - 2ms/step - accuracy: 0.9662 - loss: 0.2267 - val_accuracy: 0.9661 - val_loss: 0.2279\n",
            "Epoch 11/300\n",
            "1164/1164 - 2s - 2ms/step - accuracy: 0.9665 - loss: 0.2215 - val_accuracy: 0.9672 - val_loss: 0.2217\n",
            "Epoch 12/300\n",
            "1164/1164 - 2s - 2ms/step - accuracy: 0.9667 - loss: 0.2168 - val_accuracy: 0.9673 - val_loss: 0.2134\n",
            "Epoch 13/300\n",
            "1164/1164 - 2s - 2ms/step - accuracy: 0.9672 - loss: 0.2119 - val_accuracy: 0.9675 - val_loss: 0.2086\n",
            "Epoch 14/300\n",
            "1164/1164 - 2s - 2ms/step - accuracy: 0.9703 - loss: 0.2058 - val_accuracy: 0.9677 - val_loss: 0.2058\n",
            "Epoch 15/300\n",
            "1164/1164 - 2s - 2ms/step - accuracy: 0.9722 - loss: 0.2008 - val_accuracy: 0.9738 - val_loss: 0.1969\n",
            "Epoch 16/300\n",
            "1164/1164 - 2s - 2ms/step - accuracy: 0.9732 - loss: 0.1961 - val_accuracy: 0.9738 - val_loss: 0.1932\n",
            "Epoch 17/300\n",
            "1164/1164 - 2s - 2ms/step - accuracy: 0.9736 - loss: 0.1925 - val_accuracy: 0.9743 - val_loss: 0.1890\n",
            "Epoch 18/300\n",
            "1164/1164 - 2s - 2ms/step - accuracy: 0.9738 - loss: 0.1892 - val_accuracy: 0.9740 - val_loss: 0.1866\n",
            "Epoch 19/300\n",
            "1164/1164 - 2s - 2ms/step - accuracy: 0.9741 - loss: 0.1860 - val_accuracy: 0.9723 - val_loss: 0.1852\n",
            "Epoch 20/300\n",
            "1164/1164 - 2s - 2ms/step - accuracy: 0.9741 - loss: 0.1835 - val_accuracy: 0.9745 - val_loss: 0.1803\n",
            "Epoch 21/300\n",
            "1164/1164 - 2s - 2ms/step - accuracy: 0.9745 - loss: 0.1806 - val_accuracy: 0.9748 - val_loss: 0.1780\n",
            "Epoch 22/300\n",
            "1164/1164 - 2s - 2ms/step - accuracy: 0.9745 - loss: 0.1787 - val_accuracy: 0.9747 - val_loss: 0.1765\n",
            "Epoch 23/300\n",
            "1164/1164 - 2s - 2ms/step - accuracy: 0.9747 - loss: 0.1763 - val_accuracy: 0.9749 - val_loss: 0.1739\n",
            "Epoch 24/300\n",
            "1164/1164 - 2s - 2ms/step - accuracy: 0.9748 - loss: 0.1742 - val_accuracy: 0.9744 - val_loss: 0.1728\n",
            "Epoch 25/300\n",
            "1164/1164 - 2s - 2ms/step - accuracy: 0.9750 - loss: 0.1724 - val_accuracy: 0.9750 - val_loss: 0.1723\n",
            "Epoch 26/300\n",
            "1164/1164 - 2s - 2ms/step - accuracy: 0.9753 - loss: 0.1707 - val_accuracy: 0.9753 - val_loss: 0.1690\n",
            "Epoch 27/300\n",
            "1164/1164 - 2s - 2ms/step - accuracy: 0.9757 - loss: 0.1688 - val_accuracy: 0.9767 - val_loss: 0.1673\n",
            "Epoch 28/300\n",
            "1164/1164 - 2s - 2ms/step - accuracy: 0.9763 - loss: 0.1674 - val_accuracy: 0.9770 - val_loss: 0.1661\n",
            "Epoch 29/300\n",
            "1164/1164 - 2s - 2ms/step - accuracy: 0.9769 - loss: 0.1656 - val_accuracy: 0.9759 - val_loss: 0.1651\n",
            "Epoch 30/300\n",
            "1164/1164 - 2s - 2ms/step - accuracy: 0.9773 - loss: 0.1641 - val_accuracy: 0.9760 - val_loss: 0.1618\n",
            "Epoch 31/300\n",
            "1164/1164 - 2s - 2ms/step - accuracy: 0.9779 - loss: 0.1627 - val_accuracy: 0.9764 - val_loss: 0.1608\n",
            "Epoch 32/300\n",
            "1164/1164 - 2s - 2ms/step - accuracy: 0.9784 - loss: 0.1614 - val_accuracy: 0.9807 - val_loss: 0.1589\n",
            "Epoch 33/300\n",
            "1164/1164 - 2s - 2ms/step - accuracy: 0.9791 - loss: 0.1599 - val_accuracy: 0.9789 - val_loss: 0.1577\n",
            "Epoch 34/300\n",
            "1164/1164 - 2s - 2ms/step - accuracy: 0.9796 - loss: 0.1584 - val_accuracy: 0.9848 - val_loss: 0.1569\n",
            "Epoch 35/300\n",
            "1164/1164 - 2s - 2ms/step - accuracy: 0.9799 - loss: 0.1575 - val_accuracy: 0.9780 - val_loss: 0.1551\n",
            "Epoch 36/300\n",
            "1164/1164 - 2s - 2ms/step - accuracy: 0.9807 - loss: 0.1559 - val_accuracy: 0.9840 - val_loss: 0.1558\n",
            "Epoch 37/300\n",
            "1164/1164 - 2s - 2ms/step - accuracy: 0.9809 - loss: 0.1547 - val_accuracy: 0.9789 - val_loss: 0.1536\n",
            "Epoch 38/300\n",
            "1164/1164 - 2s - 2ms/step - accuracy: 0.9813 - loss: 0.1537 - val_accuracy: 0.9789 - val_loss: 0.1517\n",
            "Epoch 39/300\n",
            "1164/1164 - 2s - 2ms/step - accuracy: 0.9817 - loss: 0.1526 - val_accuracy: 0.9794 - val_loss: 0.1515\n",
            "Epoch 40/300\n",
            "1164/1164 - 2s - 2ms/step - accuracy: 0.9820 - loss: 0.1515 - val_accuracy: 0.9806 - val_loss: 0.1495\n",
            "Epoch 41/300\n",
            "1164/1164 - 2s - 2ms/step - accuracy: 0.9824 - loss: 0.1506 - val_accuracy: 0.9847 - val_loss: 0.1508\n",
            "Epoch 42/300\n",
            "1164/1164 - 2s - 2ms/step - accuracy: 0.9828 - loss: 0.1496 - val_accuracy: 0.9840 - val_loss: 0.1487\n",
            "Epoch 43/300\n",
            "1164/1164 - 2s - 2ms/step - accuracy: 0.9832 - loss: 0.1486 - val_accuracy: 0.9857 - val_loss: 0.1464\n",
            "Epoch 44/300\n",
            "1164/1164 - 2s - 2ms/step - accuracy: 0.9836 - loss: 0.1474 - val_accuracy: 0.9852 - val_loss: 0.1461\n",
            "Epoch 45/300\n",
            "1164/1164 - 2s - 2ms/step - accuracy: 0.9837 - loss: 0.1468 - val_accuracy: 0.9853 - val_loss: 0.1463\n",
            "Epoch 46/300\n",
            "1164/1164 - 2s - 2ms/step - accuracy: 0.9839 - loss: 0.1460 - val_accuracy: 0.9832 - val_loss: 0.1452\n",
            "Epoch 47/300\n",
            "1164/1164 - 2s - 2ms/step - accuracy: 0.9842 - loss: 0.1449 - val_accuracy: 0.9831 - val_loss: 0.1445\n",
            "Epoch 48/300\n",
            "1164/1164 - 2s - 2ms/step - accuracy: 0.9844 - loss: 0.1441 - val_accuracy: 0.9847 - val_loss: 0.1441\n",
            "Epoch 49/300\n",
            "1164/1164 - 2s - 2ms/step - accuracy: 0.9845 - loss: 0.1436 - val_accuracy: 0.9803 - val_loss: 0.1449\n",
            "Epoch 50/300\n",
            "1164/1164 - 2s - 2ms/step - accuracy: 0.9845 - loss: 0.1428 - val_accuracy: 0.9797 - val_loss: 0.1462\n",
            "Epoch 51/300\n",
            "1164/1164 - 2s - 2ms/step - accuracy: 0.9848 - loss: 0.1421 - val_accuracy: 0.9864 - val_loss: 0.1415\n",
            "Epoch 52/300\n",
            "1164/1164 - 2s - 2ms/step - accuracy: 0.9848 - loss: 0.1413 - val_accuracy: 0.9868 - val_loss: 0.1407\n",
            "Epoch 53/300\n",
            "1164/1164 - 2s - 2ms/step - accuracy: 0.9850 - loss: 0.1405 - val_accuracy: 0.9865 - val_loss: 0.1401\n",
            "Epoch 54/300\n",
            "1164/1164 - 2s - 2ms/step - accuracy: 0.9851 - loss: 0.1399 - val_accuracy: 0.9852 - val_loss: 0.1389\n",
            "Epoch 55/300\n",
            "1164/1164 - 2s - 2ms/step - accuracy: 0.9851 - loss: 0.1392 - val_accuracy: 0.9799 - val_loss: 0.1416\n",
            "Epoch 56/300\n",
            "1164/1164 - 2s - 2ms/step - accuracy: 0.9852 - loss: 0.1385 - val_accuracy: 0.9846 - val_loss: 0.1422\n",
            "Epoch 57/300\n",
            "1164/1164 - 2s - 2ms/step - accuracy: 0.9852 - loss: 0.1381 - val_accuracy: 0.9850 - val_loss: 0.1386\n",
            "Epoch 58/300\n",
            "1164/1164 - 2s - 2ms/step - accuracy: 0.9855 - loss: 0.1370 - val_accuracy: 0.9856 - val_loss: 0.1363\n",
            "Epoch 59/300\n",
            "1164/1164 - 2s - 2ms/step - accuracy: 0.9854 - loss: 0.1368 - val_accuracy: 0.9843 - val_loss: 0.1386\n",
            "Epoch 60/300\n",
            "1164/1164 - 2s - 2ms/step - accuracy: 0.9855 - loss: 0.1361 - val_accuracy: 0.9858 - val_loss: 0.1343\n",
            "Epoch 61/300\n",
            "1164/1164 - 2s - 2ms/step - accuracy: 0.9855 - loss: 0.1357 - val_accuracy: 0.9869 - val_loss: 0.1352\n",
            "Epoch 62/300\n",
            "1164/1164 - 2s - 2ms/step - accuracy: 0.9857 - loss: 0.1349 - val_accuracy: 0.9853 - val_loss: 0.1351\n",
            "Epoch 63/300\n",
            "1164/1164 - 2s - 2ms/step - accuracy: 0.9856 - loss: 0.1342 - val_accuracy: 0.9861 - val_loss: 0.1327\n",
            "Epoch 64/300\n",
            "1164/1164 - 2s - 2ms/step - accuracy: 0.9858 - loss: 0.1338 - val_accuracy: 0.9850 - val_loss: 0.1337\n",
            "Epoch 65/300\n",
            "1164/1164 - 2s - 2ms/step - accuracy: 0.9857 - loss: 0.1334 - val_accuracy: 0.9859 - val_loss: 0.1321\n",
            "Epoch 66/300\n",
            "1164/1164 - 2s - 2ms/step - accuracy: 0.9857 - loss: 0.1327 - val_accuracy: 0.9855 - val_loss: 0.1313\n",
            "Epoch 67/300\n",
            "1164/1164 - 2s - 2ms/step - accuracy: 0.9859 - loss: 0.1322 - val_accuracy: 0.9862 - val_loss: 0.1323\n",
            "Epoch 68/300\n",
            "1164/1164 - 2s - 2ms/step - accuracy: 0.9858 - loss: 0.1318 - val_accuracy: 0.9851 - val_loss: 0.1311\n",
            "Epoch 69/300\n",
            "1164/1164 - 2s - 2ms/step - accuracy: 0.9857 - loss: 0.1315 - val_accuracy: 0.9872 - val_loss: 0.1304\n",
            "Epoch 70/300\n",
            "1164/1164 - 2s - 2ms/step - accuracy: 0.9859 - loss: 0.1305 - val_accuracy: 0.9848 - val_loss: 0.1338\n",
            "Epoch 71/300\n",
            "1164/1164 - 2s - 2ms/step - accuracy: 0.9859 - loss: 0.1303 - val_accuracy: 0.9826 - val_loss: 0.1386\n",
            "Epoch 72/300\n",
            "1164/1164 - 2s - 2ms/step - accuracy: 0.9859 - loss: 0.1300 - val_accuracy: 0.9852 - val_loss: 0.1286\n",
            "Epoch 73/300\n",
            "1164/1164 - 2s - 2ms/step - accuracy: 0.9859 - loss: 0.1295 - val_accuracy: 0.9852 - val_loss: 0.1294\n",
            "Epoch 74/300\n",
            "1164/1164 - 2s - 2ms/step - accuracy: 0.9860 - loss: 0.1290 - val_accuracy: 0.9850 - val_loss: 0.1290\n",
            "Epoch 75/300\n",
            "1164/1164 - 2s - 2ms/step - accuracy: 0.9860 - loss: 0.1285 - val_accuracy: 0.9861 - val_loss: 0.1297\n",
            "Epoch 76/300\n",
            "1164/1164 - 2s - 2ms/step - accuracy: 0.9859 - loss: 0.1284 - val_accuracy: 0.9853 - val_loss: 0.1268\n",
            "Epoch 77/300\n",
            "1164/1164 - 2s - 2ms/step - accuracy: 0.9860 - loss: 0.1277 - val_accuracy: 0.9867 - val_loss: 0.1264\n",
            "Epoch 78/300\n",
            "1164/1164 - 2s - 2ms/step - accuracy: 0.9860 - loss: 0.1273 - val_accuracy: 0.9871 - val_loss: 0.1258\n",
            "Epoch 79/300\n",
            "1164/1164 - 2s - 2ms/step - accuracy: 0.9860 - loss: 0.1270 - val_accuracy: 0.9851 - val_loss: 0.1271\n",
            "Epoch 80/300\n",
            "1164/1164 - 2s - 2ms/step - accuracy: 0.9860 - loss: 0.1268 - val_accuracy: 0.9858 - val_loss: 0.1250\n",
            "Epoch 81/300\n",
            "1164/1164 - 2s - 2ms/step - accuracy: 0.9861 - loss: 0.1261 - val_accuracy: 0.9848 - val_loss: 0.1260\n",
            "Epoch 82/300\n",
            "1164/1164 - 2s - 2ms/step - accuracy: 0.9861 - loss: 0.1259 - val_accuracy: 0.9860 - val_loss: 0.1245\n",
            "Epoch 83/300\n",
            "1164/1164 - 2s - 2ms/step - accuracy: 0.9861 - loss: 0.1255 - val_accuracy: 0.9873 - val_loss: 0.1265\n",
            "Epoch 84/300\n",
            "1164/1164 - 2s - 2ms/step - accuracy: 0.9862 - loss: 0.1251 - val_accuracy: 0.9856 - val_loss: 0.1250\n",
            "Epoch 85/300\n",
            "1164/1164 - 2s - 2ms/step - accuracy: 0.9861 - loss: 0.1248 - val_accuracy: 0.9841 - val_loss: 0.1272\n",
            "Epoch 86/300\n",
            "1164/1164 - 2s - 2ms/step - accuracy: 0.9861 - loss: 0.1243 - val_accuracy: 0.9861 - val_loss: 0.1231\n",
            "Epoch 87/300\n",
            "1164/1164 - 2s - 2ms/step - accuracy: 0.9862 - loss: 0.1240 - val_accuracy: 0.9848 - val_loss: 0.1238\n",
            "Epoch 88/300\n",
            "1164/1164 - 2s - 2ms/step - accuracy: 0.9861 - loss: 0.1237 - val_accuracy: 0.9868 - val_loss: 0.1234\n",
            "Epoch 89/300\n",
            "1164/1164 - 2s - 2ms/step - accuracy: 0.9862 - loss: 0.1234 - val_accuracy: 0.9849 - val_loss: 0.1247\n",
            "Epoch 90/300\n",
            "1164/1164 - 2s - 2ms/step - accuracy: 0.9862 - loss: 0.1230 - val_accuracy: 0.9874 - val_loss: 0.1233\n",
            "Epoch 91/300\n",
            "1164/1164 - 2s - 2ms/step - accuracy: 0.9862 - loss: 0.1226 - val_accuracy: 0.9861 - val_loss: 0.1215\n",
            "Epoch 92/300\n",
            "1164/1164 - 2s - 2ms/step - accuracy: 0.9862 - loss: 0.1228 - val_accuracy: 0.9856 - val_loss: 0.1217\n",
            "Epoch 93/300\n",
            "1164/1164 - 2s - 2ms/step - accuracy: 0.9862 - loss: 0.1220 - val_accuracy: 0.9860 - val_loss: 0.1208\n",
            "Epoch 94/300\n",
            "1164/1164 - 2s - 2ms/step - accuracy: 0.9861 - loss: 0.1218 - val_accuracy: 0.9870 - val_loss: 0.1210\n",
            "Epoch 95/300\n",
            "1164/1164 - 2s - 2ms/step - accuracy: 0.9861 - loss: 0.1212 - val_accuracy: 0.9857 - val_loss: 0.1201\n",
            "Epoch 96/300\n",
            "1164/1164 - 2s - 2ms/step - accuracy: 0.9861 - loss: 0.1210 - val_accuracy: 0.9850 - val_loss: 0.1204\n",
            "Epoch 97/300\n",
            "1164/1164 - 2s - 2ms/step - accuracy: 0.9861 - loss: 0.1205 - val_accuracy: 0.9849 - val_loss: 0.1206\n",
            "Epoch 98/300\n",
            "1164/1164 - 2s - 2ms/step - accuracy: 0.9860 - loss: 0.1205 - val_accuracy: 0.9856 - val_loss: 0.1188\n",
            "Epoch 99/300\n",
            "1164/1164 - 2s - 2ms/step - accuracy: 0.9862 - loss: 0.1199 - val_accuracy: 0.9851 - val_loss: 0.1197\n",
            "Epoch 100/300\n",
            "1164/1164 - 2s - 2ms/step - accuracy: 0.9862 - loss: 0.1196 - val_accuracy: 0.9862 - val_loss: 0.1186\n",
            "Epoch 101/300\n",
            "1164/1164 - 2s - 2ms/step - accuracy: 0.9864 - loss: 0.1193 - val_accuracy: 0.9869 - val_loss: 0.1176\n",
            "Epoch 102/300\n",
            "1164/1164 - 2s - 2ms/step - accuracy: 0.9866 - loss: 0.1188 - val_accuracy: 0.9860 - val_loss: 0.1175\n",
            "Epoch 103/300\n",
            "1164/1164 - 2s - 2ms/step - accuracy: 0.9866 - loss: 0.1185 - val_accuracy: 0.9856 - val_loss: 0.1183\n",
            "Epoch 104/300\n",
            "1164/1164 - 2s - 2ms/step - accuracy: 0.9866 - loss: 0.1181 - val_accuracy: 0.9882 - val_loss: 0.1166\n",
            "Epoch 105/300\n",
            "1164/1164 - 2s - 2ms/step - accuracy: 0.9866 - loss: 0.1178 - val_accuracy: 0.9862 - val_loss: 0.1164\n",
            "Epoch 106/300\n",
            "1164/1164 - 2s - 2ms/step - accuracy: 0.9867 - loss: 0.1174 - val_accuracy: 0.9881 - val_loss: 0.1169\n",
            "Epoch 107/300\n",
            "1164/1164 - 2s - 2ms/step - accuracy: 0.9866 - loss: 0.1175 - val_accuracy: 0.9860 - val_loss: 0.1162\n",
            "Epoch 108/300\n",
            "1164/1164 - 2s - 2ms/step - accuracy: 0.9867 - loss: 0.1169 - val_accuracy: 0.9858 - val_loss: 0.1155\n",
            "Epoch 109/300\n",
            "1164/1164 - 2s - 2ms/step - accuracy: 0.9867 - loss: 0.1168 - val_accuracy: 0.9860 - val_loss: 0.1157\n",
            "Epoch 110/300\n",
            "1164/1164 - 2s - 2ms/step - accuracy: 0.9867 - loss: 0.1165 - val_accuracy: 0.9860 - val_loss: 0.1165\n",
            "Epoch 111/300\n",
            "1164/1164 - 2s - 2ms/step - accuracy: 0.9867 - loss: 0.1162 - val_accuracy: 0.9860 - val_loss: 0.1160\n",
            "Epoch 112/300\n",
            "1164/1164 - 2s - 2ms/step - accuracy: 0.9867 - loss: 0.1159 - val_accuracy: 0.9869 - val_loss: 0.1143\n",
            "Epoch 113/300\n",
            "1164/1164 - 2s - 2ms/step - accuracy: 0.9868 - loss: 0.1157 - val_accuracy: 0.9870 - val_loss: 0.1144\n",
            "Epoch 114/300\n",
            "1164/1164 - 2s - 2ms/step - accuracy: 0.9867 - loss: 0.1156 - val_accuracy: 0.9866 - val_loss: 0.1144\n",
            "Epoch 115/300\n",
            "1164/1164 - 2s - 2ms/step - accuracy: 0.9868 - loss: 0.1153 - val_accuracy: 0.9875 - val_loss: 0.1150\n",
            "Epoch 116/300\n",
            "1164/1164 - 2s - 2ms/step - accuracy: 0.9868 - loss: 0.1149 - val_accuracy: 0.9875 - val_loss: 0.1136\n",
            "Epoch 117/300\n",
            "1164/1164 - 2s - 2ms/step - accuracy: 0.9868 - loss: 0.1148 - val_accuracy: 0.9860 - val_loss: 0.1131\n",
            "Epoch 118/300\n",
            "1164/1164 - 2s - 2ms/step - accuracy: 0.9868 - loss: 0.1145 - val_accuracy: 0.9880 - val_loss: 0.1140\n",
            "Epoch 119/300\n",
            "1164/1164 - 2s - 2ms/step - accuracy: 0.9869 - loss: 0.1144 - val_accuracy: 0.9849 - val_loss: 0.1152\n",
            "Epoch 120/300\n",
            "1164/1164 - 2s - 2ms/step - accuracy: 0.9869 - loss: 0.1140 - val_accuracy: 0.9853 - val_loss: 0.1149\n",
            "Epoch 121/300\n",
            "1164/1164 - 2s - 2ms/step - accuracy: 0.9869 - loss: 0.1138 - val_accuracy: 0.9879 - val_loss: 0.1134\n",
            "Epoch 122/300\n",
            "1164/1164 - 2s - 2ms/step - accuracy: 0.9870 - loss: 0.1136 - val_accuracy: 0.9852 - val_loss: 0.1145\n",
            "Epoch 123/300\n",
            "1164/1164 - 2s - 2ms/step - accuracy: 0.9871 - loss: 0.1132 - val_accuracy: 0.9872 - val_loss: 0.1129\n",
            "Epoch 124/300\n",
            "1164/1164 - 2s - 2ms/step - accuracy: 0.9870 - loss: 0.1130 - val_accuracy: 0.9883 - val_loss: 0.1132\n",
            "Epoch 125/300\n",
            "1164/1164 - 2s - 2ms/step - accuracy: 0.9870 - loss: 0.1128 - val_accuracy: 0.9883 - val_loss: 0.1118\n",
            "Epoch 126/300\n",
            "1164/1164 - 2s - 2ms/step - accuracy: 0.9872 - loss: 0.1124 - val_accuracy: 0.9881 - val_loss: 0.1129\n",
            "Epoch 127/300\n",
            "1164/1164 - 2s - 2ms/step - accuracy: 0.9872 - loss: 0.1125 - val_accuracy: 0.9883 - val_loss: 0.1109\n",
            "Epoch 128/300\n",
            "1164/1164 - 2s - 2ms/step - accuracy: 0.9873 - loss: 0.1121 - val_accuracy: 0.9876 - val_loss: 0.1118\n",
            "Epoch 129/300\n",
            "1164/1164 - 2s - 2ms/step - accuracy: 0.9874 - loss: 0.1121 - val_accuracy: 0.9868 - val_loss: 0.1106\n",
            "Epoch 130/300\n",
            "1164/1164 - 2s - 2ms/step - accuracy: 0.9873 - loss: 0.1118 - val_accuracy: 0.9876 - val_loss: 0.1100\n",
            "Epoch 131/300\n",
            "1164/1164 - 2s - 2ms/step - accuracy: 0.9875 - loss: 0.1115 - val_accuracy: 0.9859 - val_loss: 0.1110\n",
            "Epoch 132/300\n",
            "1164/1164 - 2s - 2ms/step - accuracy: 0.9876 - loss: 0.1112 - val_accuracy: 0.9856 - val_loss: 0.1112\n",
            "Epoch 133/300\n",
            "1164/1164 - 2s - 2ms/step - accuracy: 0.9875 - loss: 0.1112 - val_accuracy: 0.9874 - val_loss: 0.1098\n",
            "Epoch 134/300\n",
            "1164/1164 - 2s - 2ms/step - accuracy: 0.9878 - loss: 0.1109 - val_accuracy: 0.9864 - val_loss: 0.1116\n",
            "Epoch 135/300\n",
            "1164/1164 - 2s - 2ms/step - accuracy: 0.9877 - loss: 0.1108 - val_accuracy: 0.9866 - val_loss: 0.1100\n",
            "Epoch 136/300\n",
            "1164/1164 - 2s - 2ms/step - accuracy: 0.9881 - loss: 0.1105 - val_accuracy: 0.9871 - val_loss: 0.1094\n",
            "Epoch 137/300\n",
            "1164/1164 - 2s - 2ms/step - accuracy: 0.9883 - loss: 0.1101 - val_accuracy: 0.9876 - val_loss: 0.1105\n",
            "Epoch 138/300\n",
            "1164/1164 - 2s - 2ms/step - accuracy: 0.9883 - loss: 0.1101 - val_accuracy: 0.9875 - val_loss: 0.1096\n",
            "Epoch 139/300\n",
            "1164/1164 - 2s - 2ms/step - accuracy: 0.9883 - loss: 0.1099 - val_accuracy: 0.9881 - val_loss: 0.1113\n",
            "Epoch 140/300\n",
            "1164/1164 - 2s - 2ms/step - accuracy: 0.9884 - loss: 0.1097 - val_accuracy: 0.9881 - val_loss: 0.1103\n",
            "Epoch 141/300\n",
            "1164/1164 - 2s - 2ms/step - accuracy: 0.9885 - loss: 0.1095 - val_accuracy: 0.9882 - val_loss: 0.1088\n",
            "Epoch 142/300\n",
            "1164/1164 - 2s - 2ms/step - accuracy: 0.9888 - loss: 0.1092 - val_accuracy: 0.9873 - val_loss: 0.1078\n",
            "Epoch 143/300\n",
            "1164/1164 - 2s - 2ms/step - accuracy: 0.9890 - loss: 0.1091 - val_accuracy: 0.9876 - val_loss: 0.1073\n",
            "Epoch 144/300\n",
            "1164/1164 - 2s - 2ms/step - accuracy: 0.9888 - loss: 0.1089 - val_accuracy: 0.9881 - val_loss: 0.1078\n",
            "Epoch 145/300\n",
            "1164/1164 - 2s - 2ms/step - accuracy: 0.9892 - loss: 0.1086 - val_accuracy: 0.9935 - val_loss: 0.1077\n",
            "Epoch 146/300\n",
            "1164/1164 - 2s - 2ms/step - accuracy: 0.9890 - loss: 0.1088 - val_accuracy: 0.9901 - val_loss: 0.1083\n",
            "Epoch 147/300\n",
            "1164/1164 - 2s - 2ms/step - accuracy: 0.9893 - loss: 0.1084 - val_accuracy: 0.9932 - val_loss: 0.1074\n",
            "Epoch 148/300\n",
            "1164/1164 - 2s - 2ms/step - accuracy: 0.9895 - loss: 0.1083 - val_accuracy: 0.9947 - val_loss: 0.1070\n",
            "Epoch 149/300\n",
            "1164/1164 - 2s - 2ms/step - accuracy: 0.9898 - loss: 0.1080 - val_accuracy: 0.9883 - val_loss: 0.1069\n",
            "Epoch 150/300\n",
            "1164/1164 - 2s - 2ms/step - accuracy: 0.9898 - loss: 0.1078 - val_accuracy: 0.9939 - val_loss: 0.1094\n",
            "Epoch 151/300\n",
            "1164/1164 - 2s - 2ms/step - accuracy: 0.9897 - loss: 0.1076 - val_accuracy: 0.9869 - val_loss: 0.1062\n",
            "Epoch 152/300\n",
            "1164/1164 - 2s - 2ms/step - accuracy: 0.9899 - loss: 0.1076 - val_accuracy: 0.9934 - val_loss: 0.1065\n",
            "Epoch 153/300\n",
            "1164/1164 - 2s - 2ms/step - accuracy: 0.9903 - loss: 0.1072 - val_accuracy: 0.9940 - val_loss: 0.1058\n",
            "Epoch 154/300\n",
            "1164/1164 - 2s - 2ms/step - accuracy: 0.9904 - loss: 0.1071 - val_accuracy: 0.9931 - val_loss: 0.1063\n",
            "Epoch 155/300\n",
            "1164/1164 - 2s - 2ms/step - accuracy: 0.9904 - loss: 0.1069 - val_accuracy: 0.9861 - val_loss: 0.1082\n",
            "Epoch 156/300\n",
            "1164/1164 - 2s - 2ms/step - accuracy: 0.9906 - loss: 0.1069 - val_accuracy: 0.9881 - val_loss: 0.1064\n",
            "Epoch 157/300\n",
            "1164/1164 - 2s - 2ms/step - accuracy: 0.9907 - loss: 0.1067 - val_accuracy: 0.9877 - val_loss: 0.1065\n",
            "Epoch 158/300\n",
            "1164/1164 - 2s - 2ms/step - accuracy: 0.9907 - loss: 0.1065 - val_accuracy: 0.9940 - val_loss: 0.1050\n",
            "Epoch 159/300\n",
            "1164/1164 - 2s - 2ms/step - accuracy: 0.9908 - loss: 0.1064 - val_accuracy: 0.9858 - val_loss: 0.1069\n",
            "Epoch 160/300\n",
            "1164/1164 - 2s - 2ms/step - accuracy: 0.9910 - loss: 0.1063 - val_accuracy: 0.9879 - val_loss: 0.1061\n",
            "Epoch 161/300\n",
            "1164/1164 - 2s - 2ms/step - accuracy: 0.9912 - loss: 0.1060 - val_accuracy: 0.9944 - val_loss: 0.1050\n",
            "Epoch 162/300\n",
            "1164/1164 - 2s - 2ms/step - accuracy: 0.9914 - loss: 0.1058 - val_accuracy: 0.9874 - val_loss: 0.1043\n",
            "Epoch 163/300\n",
            "1164/1164 - 2s - 2ms/step - accuracy: 0.9914 - loss: 0.1056 - val_accuracy: 0.9896 - val_loss: 0.1088\n",
            "Epoch 164/300\n",
            "1164/1164 - 2s - 2ms/step - accuracy: 0.9913 - loss: 0.1055 - val_accuracy: 0.9947 - val_loss: 0.1067\n",
            "Epoch 165/300\n",
            "1164/1164 - 2s - 2ms/step - accuracy: 0.9918 - loss: 0.1053 - val_accuracy: 0.9868 - val_loss: 0.1047\n",
            "Epoch 166/300\n",
            "1164/1164 - 2s - 2ms/step - accuracy: 0.9919 - loss: 0.1053 - val_accuracy: 0.9880 - val_loss: 0.1110\n",
            "Epoch 167/300\n",
            "1164/1164 - 2s - 2ms/step - accuracy: 0.9920 - loss: 0.1052 - val_accuracy: 0.9933 - val_loss: 0.1042\n",
            "Epoch 168/300\n",
            "1164/1164 - 2s - 2ms/step - accuracy: 0.9919 - loss: 0.1049 - val_accuracy: 0.9931 - val_loss: 0.1038\n",
            "Epoch 169/300\n",
            "1164/1164 - 2s - 2ms/step - accuracy: 0.9919 - loss: 0.1048 - val_accuracy: 0.9940 - val_loss: 0.1044\n",
            "Epoch 170/300\n",
            "1164/1164 - 2s - 2ms/step - accuracy: 0.9921 - loss: 0.1045 - val_accuracy: 0.9947 - val_loss: 0.1032\n",
            "Epoch 171/300\n",
            "1164/1164 - 2s - 2ms/step - accuracy: 0.9923 - loss: 0.1044 - val_accuracy: 0.9893 - val_loss: 0.1050\n",
            "Epoch 172/300\n",
            "1164/1164 - 2s - 2ms/step - accuracy: 0.9922 - loss: 0.1043 - val_accuracy: 0.9941 - val_loss: 0.1034\n",
            "Epoch 173/300\n",
            "1164/1164 - 2s - 2ms/step - accuracy: 0.9923 - loss: 0.1040 - val_accuracy: 0.9938 - val_loss: 0.1040\n",
            "Epoch 174/300\n",
            "1164/1164 - 2s - 2ms/step - accuracy: 0.9925 - loss: 0.1040 - val_accuracy: 0.9868 - val_loss: 0.1039\n",
            "Epoch 175/300\n",
            "1164/1164 - 2s - 2ms/step - accuracy: 0.9925 - loss: 0.1038 - val_accuracy: 0.9947 - val_loss: 0.1028\n",
            "Epoch 176/300\n",
            "1164/1164 - 2s - 2ms/step - accuracy: 0.9927 - loss: 0.1034 - val_accuracy: 0.9940 - val_loss: 0.1027\n",
            "Epoch 177/300\n",
            "1164/1164 - 2s - 2ms/step - accuracy: 0.9927 - loss: 0.1036 - val_accuracy: 0.9911 - val_loss: 0.1023\n",
            "Epoch 178/300\n",
            "1164/1164 - 2s - 2ms/step - accuracy: 0.9927 - loss: 0.1033 - val_accuracy: 0.9936 - val_loss: 0.1030\n",
            "Epoch 179/300\n",
            "1164/1164 - 2s - 2ms/step - accuracy: 0.9928 - loss: 0.1032 - val_accuracy: 0.9878 - val_loss: 0.1055\n",
            "Epoch 180/300\n",
            "1164/1164 - 2s - 2ms/step - accuracy: 0.9929 - loss: 0.1031 - val_accuracy: 0.9942 - val_loss: 0.1021\n",
            "Epoch 181/300\n",
            "1164/1164 - 2s - 2ms/step - accuracy: 0.9930 - loss: 0.1029 - val_accuracy: 0.9930 - val_loss: 0.1020\n",
            "Epoch 182/300\n",
            "1164/1164 - 2s - 2ms/step - accuracy: 0.9930 - loss: 0.1030 - val_accuracy: 0.9945 - val_loss: 0.1026\n",
            "Epoch 183/300\n",
            "1164/1164 - 2s - 2ms/step - accuracy: 0.9929 - loss: 0.1028 - val_accuracy: 0.9931 - val_loss: 0.1023\n",
            "Epoch 184/300\n",
            "1164/1164 - 2s - 2ms/step - accuracy: 0.9929 - loss: 0.1025 - val_accuracy: 0.9932 - val_loss: 0.1026\n",
            "Epoch 185/300\n",
            "1164/1164 - 2s - 2ms/step - accuracy: 0.9933 - loss: 0.1021 - val_accuracy: 0.9944 - val_loss: 0.1043\n",
            "Epoch 186/300\n",
            "1164/1164 - 2s - 2ms/step - accuracy: 0.9930 - loss: 0.1024 - val_accuracy: 0.9940 - val_loss: 0.1018\n",
            "Epoch 187/300\n",
            "1164/1164 - 2s - 2ms/step - accuracy: 0.9932 - loss: 0.1021 - val_accuracy: 0.9935 - val_loss: 0.1006\n",
            "Epoch 188/300\n",
            "1164/1164 - 2s - 2ms/step - accuracy: 0.9932 - loss: 0.1020 - val_accuracy: 0.9935 - val_loss: 0.1005\n",
            "Epoch 189/300\n",
            "1164/1164 - 2s - 2ms/step - accuracy: 0.9930 - loss: 0.1020 - val_accuracy: 0.9873 - val_loss: 0.1007\n",
            "Epoch 190/300\n",
            "1164/1164 - 2s - 2ms/step - accuracy: 0.9932 - loss: 0.1019 - val_accuracy: 0.9913 - val_loss: 0.1019\n",
            "Epoch 191/300\n",
            "1164/1164 - 2s - 2ms/step - accuracy: 0.9932 - loss: 0.1016 - val_accuracy: 0.9934 - val_loss: 0.1002\n",
            "Epoch 192/300\n",
            "1164/1164 - 2s - 2ms/step - accuracy: 0.9933 - loss: 0.1014 - val_accuracy: 0.9938 - val_loss: 0.0997\n",
            "Epoch 193/300\n",
            "1164/1164 - 2s - 2ms/step - accuracy: 0.9933 - loss: 0.1014 - val_accuracy: 0.9881 - val_loss: 0.1028\n",
            "Epoch 194/300\n",
            "1164/1164 - 2s - 2ms/step - accuracy: 0.9933 - loss: 0.1010 - val_accuracy: 0.9931 - val_loss: 0.1000\n",
            "Epoch 195/300\n",
            "1164/1164 - 2s - 2ms/step - accuracy: 0.9933 - loss: 0.1012 - val_accuracy: 0.9877 - val_loss: 0.0999\n",
            "Epoch 196/300\n",
            "1164/1164 - 2s - 2ms/step - accuracy: 0.9933 - loss: 0.1010 - val_accuracy: 0.9943 - val_loss: 0.1049\n",
            "Epoch 197/300\n",
            "1164/1164 - 2s - 2ms/step - accuracy: 0.9933 - loss: 0.1009 - val_accuracy: 0.9941 - val_loss: 0.0992\n",
            "Epoch 198/300\n",
            "1164/1164 - 2s - 2ms/step - accuracy: 0.9934 - loss: 0.1006 - val_accuracy: 0.9933 - val_loss: 0.1012\n",
            "Epoch 199/300\n",
            "1164/1164 - 2s - 2ms/step - accuracy: 0.9934 - loss: 0.1006 - val_accuracy: 0.9935 - val_loss: 0.0987\n",
            "Epoch 200/300\n",
            "1164/1164 - 2s - 2ms/step - accuracy: 0.9934 - loss: 0.1005 - val_accuracy: 0.9926 - val_loss: 0.0996\n",
            "Epoch 201/300\n",
            "1164/1164 - 2s - 2ms/step - accuracy: 0.9933 - loss: 0.1004 - val_accuracy: 0.9929 - val_loss: 0.0998\n",
            "Epoch 202/300\n",
            "1164/1164 - 2s - 2ms/step - accuracy: 0.9934 - loss: 0.1001 - val_accuracy: 0.9928 - val_loss: 0.1009\n",
            "Epoch 203/300\n",
            "1164/1164 - 2s - 2ms/step - accuracy: 0.9934 - loss: 0.1002 - val_accuracy: 0.9934 - val_loss: 0.1005\n",
            "Epoch 204/300\n",
            "1164/1164 - 2s - 2ms/step - accuracy: 0.9934 - loss: 0.1001 - val_accuracy: 0.9930 - val_loss: 0.0987\n",
            "Epoch 205/300\n",
            "1164/1164 - 2s - 2ms/step - accuracy: 0.9935 - loss: 0.0998 - val_accuracy: 0.9934 - val_loss: 0.0992\n",
            "Epoch 206/300\n",
            "1164/1164 - 2s - 2ms/step - accuracy: 0.9935 - loss: 0.0996 - val_accuracy: 0.9949 - val_loss: 0.0992\n",
            "Epoch 207/300\n",
            "1164/1164 - 2s - 2ms/step - accuracy: 0.9934 - loss: 0.0997 - val_accuracy: 0.9939 - val_loss: 0.0986\n",
            "Epoch 208/300\n",
            "1164/1164 - 2s - 2ms/step - accuracy: 0.9934 - loss: 0.0995 - val_accuracy: 0.9929 - val_loss: 0.1008\n",
            "Epoch 209/300\n",
            "1164/1164 - 2s - 2ms/step - accuracy: 0.9934 - loss: 0.0994 - val_accuracy: 0.9940 - val_loss: 0.0992\n",
            "Epoch 210/300\n",
            "1164/1164 - 2s - 2ms/step - accuracy: 0.9936 - loss: 0.0991 - val_accuracy: 0.9933 - val_loss: 0.0981\n",
            "Epoch 211/300\n",
            "1164/1164 - 2s - 2ms/step - accuracy: 0.9935 - loss: 0.0991 - val_accuracy: 0.9928 - val_loss: 0.0991\n",
            "Epoch 212/300\n",
            "1164/1164 - 2s - 2ms/step - accuracy: 0.9936 - loss: 0.0990 - val_accuracy: 0.9940 - val_loss: 0.0978\n",
            "Epoch 213/300\n",
            "1164/1164 - 2s - 2ms/step - accuracy: 0.9935 - loss: 0.0990 - val_accuracy: 0.9945 - val_loss: 0.0993\n",
            "Epoch 214/300\n",
            "1164/1164 - 2s - 2ms/step - accuracy: 0.9937 - loss: 0.0987 - val_accuracy: 0.9935 - val_loss: 0.0973\n",
            "Epoch 215/300\n",
            "1164/1164 - 2s - 2ms/step - accuracy: 0.9934 - loss: 0.0987 - val_accuracy: 0.9922 - val_loss: 0.0997\n",
            "Epoch 216/300\n",
            "1164/1164 - 2s - 2ms/step - accuracy: 0.9935 - loss: 0.0987 - val_accuracy: 0.9935 - val_loss: 0.0981\n",
            "Epoch 217/300\n",
            "1164/1164 - 2s - 2ms/step - accuracy: 0.9936 - loss: 0.0985 - val_accuracy: 0.9952 - val_loss: 0.0973\n",
            "Epoch 218/300\n",
            "1164/1164 - 2s - 2ms/step - accuracy: 0.9936 - loss: 0.0982 - val_accuracy: 0.9928 - val_loss: 0.0979\n",
            "Epoch 219/300\n",
            "1164/1164 - 2s - 2ms/step - accuracy: 0.9937 - loss: 0.0983 - val_accuracy: 0.9938 - val_loss: 0.0981\n",
            "Epoch 220/300\n",
            "1164/1164 - 2s - 2ms/step - accuracy: 0.9934 - loss: 0.0985 - val_accuracy: 0.9949 - val_loss: 0.0967\n",
            "Epoch 221/300\n",
            "1164/1164 - 2s - 2ms/step - accuracy: 0.9936 - loss: 0.0980 - val_accuracy: 0.9926 - val_loss: 0.1005\n",
            "Epoch 222/300\n",
            "1164/1164 - 2s - 2ms/step - accuracy: 0.9936 - loss: 0.0978 - val_accuracy: 0.9944 - val_loss: 0.0978\n",
            "Epoch 223/300\n",
            "1164/1164 - 2s - 2ms/step - accuracy: 0.9936 - loss: 0.0978 - val_accuracy: 0.9946 - val_loss: 0.0980\n",
            "Epoch 224/300\n",
            "1164/1164 - 2s - 2ms/step - accuracy: 0.9936 - loss: 0.0977 - val_accuracy: 0.9940 - val_loss: 0.0971\n",
            "Epoch 225/300\n",
            "1164/1164 - 2s - 2ms/step - accuracy: 0.9936 - loss: 0.0978 - val_accuracy: 0.9944 - val_loss: 0.0962\n",
            "Epoch 226/300\n",
            "1164/1164 - 2s - 2ms/step - accuracy: 0.9936 - loss: 0.0976 - val_accuracy: 0.9928 - val_loss: 0.0970\n",
            "Epoch 227/300\n",
            "1164/1164 - 2s - 2ms/step - accuracy: 0.9937 - loss: 0.0972 - val_accuracy: 0.9923 - val_loss: 0.0966\n",
            "Epoch 228/300\n",
            "1164/1164 - 2s - 2ms/step - accuracy: 0.9936 - loss: 0.0975 - val_accuracy: 0.9912 - val_loss: 0.1002\n",
            "Epoch 229/300\n",
            "1164/1164 - 2s - 2ms/step - accuracy: 0.9936 - loss: 0.0971 - val_accuracy: 0.9937 - val_loss: 0.0958\n",
            "Epoch 230/300\n",
            "1164/1164 - 2s - 2ms/step - accuracy: 0.9936 - loss: 0.0971 - val_accuracy: 0.9932 - val_loss: 0.0970\n",
            "Epoch 231/300\n",
            "1164/1164 - 2s - 2ms/step - accuracy: 0.9936 - loss: 0.0969 - val_accuracy: 0.9935 - val_loss: 0.0967\n",
            "Epoch 232/300\n",
            "1164/1164 - 2s - 2ms/step - accuracy: 0.9937 - loss: 0.0969 - val_accuracy: 0.9940 - val_loss: 0.0963\n",
            "Epoch 233/300\n",
            "1164/1164 - 2s - 2ms/step - accuracy: 0.9936 - loss: 0.0969 - val_accuracy: 0.9928 - val_loss: 0.0962\n",
            "Epoch 234/300\n",
            "1164/1164 - 2s - 2ms/step - accuracy: 0.9937 - loss: 0.0967 - val_accuracy: 0.9939 - val_loss: 0.0949\n",
            "Epoch 235/300\n",
            "1164/1164 - 2s - 2ms/step - accuracy: 0.9937 - loss: 0.0965 - val_accuracy: 0.9948 - val_loss: 0.0967\n",
            "Epoch 236/300\n",
            "1164/1164 - 2s - 2ms/step - accuracy: 0.9937 - loss: 0.0965 - val_accuracy: 0.9919 - val_loss: 0.0989\n",
            "Epoch 237/300\n",
            "1164/1164 - 2s - 2ms/step - accuracy: 0.9937 - loss: 0.0964 - val_accuracy: 0.9945 - val_loss: 0.0946\n",
            "Epoch 238/300\n",
            "1164/1164 - 2s - 2ms/step - accuracy: 0.9938 - loss: 0.0962 - val_accuracy: 0.9929 - val_loss: 0.0968\n",
            "Epoch 239/300\n",
            "1164/1164 - 2s - 2ms/step - accuracy: 0.9937 - loss: 0.0962 - val_accuracy: 0.9936 - val_loss: 0.0966\n",
            "Epoch 240/300\n",
            "1164/1164 - 2s - 2ms/step - accuracy: 0.9937 - loss: 0.0960 - val_accuracy: 0.9948 - val_loss: 0.0948\n",
            "Epoch 241/300\n",
            "1164/1164 - 2s - 2ms/step - accuracy: 0.9937 - loss: 0.0961 - val_accuracy: 0.9933 - val_loss: 0.0945\n",
            "Epoch 242/300\n",
            "1164/1164 - 2s - 2ms/step - accuracy: 0.9937 - loss: 0.0958 - val_accuracy: 0.9931 - val_loss: 0.0954\n",
            "Epoch 243/300\n",
            "1164/1164 - 2s - 2ms/step - accuracy: 0.9938 - loss: 0.0957 - val_accuracy: 0.9924 - val_loss: 0.0957\n",
            "Epoch 244/300\n",
            "1164/1164 - 2s - 2ms/step - accuracy: 0.9937 - loss: 0.0959 - val_accuracy: 0.9940 - val_loss: 0.0953\n",
            "Epoch 245/300\n",
            "1164/1164 - 2s - 2ms/step - accuracy: 0.9937 - loss: 0.0955 - val_accuracy: 0.9931 - val_loss: 0.0941\n",
            "Epoch 246/300\n",
            "1164/1164 - 2s - 2ms/step - accuracy: 0.9937 - loss: 0.0956 - val_accuracy: 0.9938 - val_loss: 0.0943\n",
            "Epoch 247/300\n",
            "1164/1164 - 2s - 2ms/step - accuracy: 0.9938 - loss: 0.0952 - val_accuracy: 0.9950 - val_loss: 0.0943\n",
            "Epoch 248/300\n",
            "1164/1164 - 2s - 2ms/step - accuracy: 0.9936 - loss: 0.0954 - val_accuracy: 0.9936 - val_loss: 0.0958\n",
            "Epoch 249/300\n",
            "1164/1164 - 2s - 2ms/step - accuracy: 0.9937 - loss: 0.0954 - val_accuracy: 0.9932 - val_loss: 0.0944\n",
            "Epoch 250/300\n",
            "1164/1164 - 2s - 2ms/step - accuracy: 0.9938 - loss: 0.0950 - val_accuracy: 0.9951 - val_loss: 0.0947\n",
            "Epoch 251/300\n",
            "1164/1164 - 2s - 2ms/step - accuracy: 0.9938 - loss: 0.0949 - val_accuracy: 0.9946 - val_loss: 0.0942\n",
            "Epoch 252/300\n",
            "1164/1164 - 2s - 2ms/step - accuracy: 0.9938 - loss: 0.0949 - val_accuracy: 0.9947 - val_loss: 0.0940\n",
            "Epoch 253/300\n",
            "1164/1164 - 2s - 2ms/step - accuracy: 0.9937 - loss: 0.0949 - val_accuracy: 0.9939 - val_loss: 0.0978\n",
            "Epoch 254/300\n",
            "1164/1164 - 2s - 2ms/step - accuracy: 0.9937 - loss: 0.0949 - val_accuracy: 0.9939 - val_loss: 0.0931\n",
            "Epoch 255/300\n",
            "1164/1164 - 2s - 2ms/step - accuracy: 0.9937 - loss: 0.0948 - val_accuracy: 0.9937 - val_loss: 0.0943\n",
            "Epoch 256/300\n",
            "1164/1164 - 2s - 2ms/step - accuracy: 0.9937 - loss: 0.0945 - val_accuracy: 0.9936 - val_loss: 0.0945\n",
            "Epoch 257/300\n",
            "1164/1164 - 2s - 2ms/step - accuracy: 0.9937 - loss: 0.0946 - val_accuracy: 0.9938 - val_loss: 0.0928\n",
            "Epoch 258/300\n",
            "1164/1164 - 2s - 2ms/step - accuracy: 0.9938 - loss: 0.0942 - val_accuracy: 0.9948 - val_loss: 0.0937\n",
            "Epoch 259/300\n",
            "1164/1164 - 2s - 2ms/step - accuracy: 0.9938 - loss: 0.0944 - val_accuracy: 0.9942 - val_loss: 0.0929\n",
            "Epoch 260/300\n",
            "1164/1164 - 2s - 2ms/step - accuracy: 0.9938 - loss: 0.0944 - val_accuracy: 0.9927 - val_loss: 0.0938\n",
            "Epoch 261/300\n",
            "1164/1164 - 2s - 2ms/step - accuracy: 0.9938 - loss: 0.0940 - val_accuracy: 0.9930 - val_loss: 0.0934\n",
            "Epoch 262/300\n",
            "1164/1164 - 2s - 2ms/step - accuracy: 0.9938 - loss: 0.0942 - val_accuracy: 0.9945 - val_loss: 0.0926\n",
            "Epoch 263/300\n",
            "1164/1164 - 2s - 2ms/step - accuracy: 0.9938 - loss: 0.0939 - val_accuracy: 0.9929 - val_loss: 0.0945\n",
            "Epoch 264/300\n",
            "1164/1164 - 2s - 2ms/step - accuracy: 0.9938 - loss: 0.0939 - val_accuracy: 0.9938 - val_loss: 0.0929\n",
            "Epoch 265/300\n",
            "1164/1164 - 2s - 2ms/step - accuracy: 0.9938 - loss: 0.0938 - val_accuracy: 0.9937 - val_loss: 0.0951\n",
            "Epoch 266/300\n",
            "1164/1164 - 2s - 2ms/step - accuracy: 0.9938 - loss: 0.0938 - val_accuracy: 0.9946 - val_loss: 0.0937\n",
            "Epoch 267/300\n",
            "1164/1164 - 2s - 2ms/step - accuracy: 0.9938 - loss: 0.0937 - val_accuracy: 0.9934 - val_loss: 0.0928\n",
            "Epoch 268/300\n",
            "1164/1164 - 2s - 2ms/step - accuracy: 0.9939 - loss: 0.0935 - val_accuracy: 0.9930 - val_loss: 0.0923\n",
            "Epoch 269/300\n",
            "1164/1164 - 2s - 2ms/step - accuracy: 0.9938 - loss: 0.0934 - val_accuracy: 0.9935 - val_loss: 0.0922\n",
            "Epoch 270/300\n",
            "1164/1164 - 2s - 2ms/step - accuracy: 0.9938 - loss: 0.0935 - val_accuracy: 0.9935 - val_loss: 0.0921\n",
            "Epoch 271/300\n",
            "1164/1164 - 2s - 2ms/step - accuracy: 0.9937 - loss: 0.0932 - val_accuracy: 0.9945 - val_loss: 0.0943\n",
            "Epoch 272/300\n",
            "1164/1164 - 2s - 2ms/step - accuracy: 0.9939 - loss: 0.0932 - val_accuracy: 0.9947 - val_loss: 0.0943\n",
            "Epoch 273/300\n",
            "1164/1164 - 2s - 2ms/step - accuracy: 0.9938 - loss: 0.0932 - val_accuracy: 0.9937 - val_loss: 0.0931\n",
            "Epoch 274/300\n",
            "1164/1164 - 2s - 2ms/step - accuracy: 0.9938 - loss: 0.0931 - val_accuracy: 0.9939 - val_loss: 0.0926\n",
            "Epoch 275/300\n",
            "1164/1164 - 2s - 2ms/step - accuracy: 0.9938 - loss: 0.0928 - val_accuracy: 0.9941 - val_loss: 0.0921\n",
            "Epoch 276/300\n",
            "1164/1164 - 2s - 2ms/step - accuracy: 0.9938 - loss: 0.0930 - val_accuracy: 0.9932 - val_loss: 0.0922\n",
            "Epoch 277/300\n",
            "1164/1164 - 2s - 2ms/step - accuracy: 0.9939 - loss: 0.0927 - val_accuracy: 0.9931 - val_loss: 0.0919\n",
            "Epoch 278/300\n",
            "1164/1164 - 2s - 2ms/step - accuracy: 0.9939 - loss: 0.0928 - val_accuracy: 0.9928 - val_loss: 0.0932\n",
            "Epoch 279/300\n",
            "1164/1164 - 2s - 2ms/step - accuracy: 0.9939 - loss: 0.0926 - val_accuracy: 0.9931 - val_loss: 0.0919\n",
            "Epoch 280/300\n",
            "1164/1164 - 2s - 2ms/step - accuracy: 0.9938 - loss: 0.0926 - val_accuracy: 0.9946 - val_loss: 0.0927\n",
            "Epoch 281/300\n",
            "1164/1164 - 2s - 2ms/step - accuracy: 0.9938 - loss: 0.0925 - val_accuracy: 0.9947 - val_loss: 0.0915\n",
            "Epoch 282/300\n",
            "1164/1164 - 2s - 2ms/step - accuracy: 0.9939 - loss: 0.0924 - val_accuracy: 0.9937 - val_loss: 0.0909\n",
            "Epoch 283/300\n",
            "1164/1164 - 2s - 2ms/step - accuracy: 0.9938 - loss: 0.0924 - val_accuracy: 0.9948 - val_loss: 0.0916\n",
            "Epoch 284/300\n",
            "1164/1164 - 2s - 2ms/step - accuracy: 0.9940 - loss: 0.0921 - val_accuracy: 0.9947 - val_loss: 0.0945\n",
            "Epoch 285/300\n",
            "1164/1164 - 2s - 2ms/step - accuracy: 0.9939 - loss: 0.0921 - val_accuracy: 0.9953 - val_loss: 0.0908\n",
            "Epoch 286/300\n",
            "1164/1164 - 2s - 2ms/step - accuracy: 0.9939 - loss: 0.0920 - val_accuracy: 0.9933 - val_loss: 0.0912\n",
            "Epoch 287/300\n",
            "1164/1164 - 2s - 2ms/step - accuracy: 0.9939 - loss: 0.0919 - val_accuracy: 0.9946 - val_loss: 0.0906\n",
            "Epoch 288/300\n",
            "1164/1164 - 2s - 2ms/step - accuracy: 0.9938 - loss: 0.0921 - val_accuracy: 0.9927 - val_loss: 0.0916\n",
            "Epoch 289/300\n",
            "1164/1164 - 2s - 2ms/step - accuracy: 0.9939 - loss: 0.0917 - val_accuracy: 0.9940 - val_loss: 0.0906\n",
            "Epoch 290/300\n",
            "1164/1164 - 2s - 2ms/step - accuracy: 0.9938 - loss: 0.0918 - val_accuracy: 0.9937 - val_loss: 0.0913\n",
            "Epoch 291/300\n",
            "1164/1164 - 2s - 2ms/step - accuracy: 0.9938 - loss: 0.0921 - val_accuracy: 0.9940 - val_loss: 0.0913\n",
            "Epoch 292/300\n",
            "1164/1164 - 2s - 2ms/step - accuracy: 0.9939 - loss: 0.0916 - val_accuracy: 0.9940 - val_loss: 0.0914\n",
            "Epoch 293/300\n",
            "1164/1164 - 2s - 2ms/step - accuracy: 0.9939 - loss: 0.0917 - val_accuracy: 0.9931 - val_loss: 0.0904\n",
            "Epoch 294/300\n",
            "1164/1164 - 2s - 2ms/step - accuracy: 0.9939 - loss: 0.0914 - val_accuracy: 0.9936 - val_loss: 0.0913\n",
            "Epoch 295/300\n",
            "1164/1164 - 2s - 2ms/step - accuracy: 0.9939 - loss: 0.0915 - val_accuracy: 0.9934 - val_loss: 0.0905\n",
            "Epoch 296/300\n",
            "1164/1164 - 2s - 2ms/step - accuracy: 0.9940 - loss: 0.0912 - val_accuracy: 0.9948 - val_loss: 0.0913\n",
            "Epoch 297/300\n",
            "1164/1164 - 2s - 2ms/step - accuracy: 0.9939 - loss: 0.0912 - val_accuracy: 0.9934 - val_loss: 0.0921\n",
            "Epoch 298/300\n",
            "1164/1164 - 2s - 2ms/step - accuracy: 0.9939 - loss: 0.0912 - val_accuracy: 0.9934 - val_loss: 0.0897\n",
            "Epoch 299/300\n",
            "1164/1164 - 2s - 2ms/step - accuracy: 0.9938 - loss: 0.0912 - val_accuracy: 0.9933 - val_loss: 0.0909\n",
            "Epoch 300/300\n",
            "1164/1164 - 2s - 2ms/step - accuracy: 0.9940 - loss: 0.0911 - val_accuracy: 0.9942 - val_loss: 0.0912\n"
          ]
        }
      ],
      "source": [
        "from keras.callbacks import EarlyStopping\n",
        "\n",
        "# Use EarlyStopping to prevent overfitting\n",
        "early_stopping = EarlyStopping(monitor='val_loss', patience=pat_earlyStop, restore_best_weights=True)\n",
        "\n",
        "history = model.fit(X_train, y_train,  batch_size=train_batch_size, epochs=e, verbose=2, validation_data=(X_val, y_val), callbacks=[early_stopping]) #class_weight=class_weight_dict\n",
        "#\n",
        "#"
      ]
    },
    {
      "cell_type": "markdown",
      "metadata": {
        "id": "JK2WaaIKVdo_"
      },
      "source": [
        "# **Valutazione**"
      ]
    },
    {
      "cell_type": "code",
      "execution_count": 32,
      "metadata": {
        "colab": {
          "base_uri": "https://localhost:8080/",
          "height": 472
        },
        "id": "ikn62xa2wtvV",
        "outputId": "bc3759ac-aec3-49a2-a104-beeb5a9f4a57"
      },
      "outputs": [
        {
          "output_type": "display_data",
          "data": {
            "text/plain": [
              "<Figure size 640x480 with 1 Axes>"
            ],
            "image/png": "[encoded data removed]"
          },
          "metadata": {}
        }
      ],
      "source": [
        "plt.plot(history.history['loss'])\n",
        "plt.plot(history.history['val_loss'])\n",
        "plt.title('Curve Loss del modello IDS-MLP')\n",
        "plt.xlabel('Epoche')\n",
        "plt.ylabel('Loss')\n",
        "plt.legend(['Train', 'Validation'], loc='upper right')\n",
        "\n",
        "#salva in Drive\n",
        "images_dir = '/content/drive/MyDrive/Colab Notebooks/progettoTesi/grafici_pdf/IDS_MLP_DAGan/20EsperimentiSetHBuono'\n",
        "plt.savefig(f\"{images_dir}/IDS-MLP_GraficoLosses_DAGan_setHBuono_senzaCW16.pdf\", dpi=200, format='pdf')\n",
        "\n",
        "\n",
        "plt.show()"
      ]
    },
    {
      "cell_type": "code",
      "execution_count": 33,
      "metadata": {
        "colab": {
          "base_uri": "https://localhost:8080/",
          "height": 472
        },
        "id": "jUQtPg9H9DlZ",
        "outputId": "e2d6ea2a-25e0-4089-9df3-84f1fa3a3521"
      },
      "outputs": [
        {
          "output_type": "display_data",
          "data": {
            "text/plain": [
              "<Figure size 640x480 with 1 Axes>"
            ],
            "image/png": "[encoded data removed]"
          },
          "metadata": {}
        }
      ],
      "source": [
        "plt.plot(history.history['accuracy'])\n",
        "plt.plot(history.history['val_accuracy'])\n",
        "plt.title('Accuratezza del modello')\n",
        "plt.xlabel('Epoche')\n",
        "plt.ylabel('Accuratezza')\n",
        "plt.legend(['Train', 'Validation'], loc='lower right')\n",
        "\n",
        "#salva in Drive\n",
        "plt.savefig(f\"{images_dir}/IDS-MLP_GraficoAccuratezza__DAGan_setHBuono_senzaCW16.pdf\", dpi=200, format='pdf')\n",
        "\n",
        "plt.show()"
      ]
    },
    {
      "cell_type": "code",
      "execution_count": 34,
      "metadata": {
        "colab": {
          "base_uri": "https://localhost:8080/"
        },
        "id": "pak7xNkXcuJE",
        "outputId": "6d340cbc-a07f-4388-b664-8efd830e2bd2"
      },
      "outputs": [
        {
          "output_type": "stream",
          "name": "stdout",
          "text": [
            "1231/1231 - 2s - 2ms/step - accuracy: 0.9938 - loss: 0.0854\n",
            "======================================\n",
            "Test Loss: 0.08535555005073547\n",
            "Test Accuracy: 0.9938358068466187\n"
          ]
        }
      ],
      "source": [
        "eval_result  = model.evaluate(X_test, y_test, verbose=2, batch_size=512) #The model evaluates the test dataset in batches to save memory and computational resources.\n",
        "\n",
        "# Get loss and accuracy from the evaluation result\n",
        "loss = eval_result[0]\n",
        "accuracy = eval_result[1]\n",
        "\n",
        "print(\"======================================\")\n",
        "print(f\"Test Loss: {eval_result[0]}\")\n",
        "print(f\"Test Accuracy: {eval_result[1]}\")"
      ]
    },
    {
      "cell_type": "code",
      "execution_count": 35,
      "metadata": {
        "id": "grlaDUPkemHA",
        "colab": {
          "base_uri": "https://localhost:8080/"
        },
        "outputId": "983fd3f1-24e3-43f8-90ac-5acc3e768532"
      },
      "outputs": [
        {
          "output_type": "stream",
          "name": "stdout",
          "text": [
            "\u001b[1m19686/19686\u001b[0m \u001b[32m━━━━━━━━━━━━━━━━━━━━\u001b[0m\u001b[37m\u001b[0m \u001b[1m21s\u001b[0m 1ms/step\n"
          ]
        }
      ],
      "source": [
        "# predictions // number of times the model classified an input as each class\n",
        "\n",
        "# import numpy for argmax function // returns the max value on an axis... index with max value is predicted class\n",
        "import numpy as np\n",
        "\n",
        "y_prediction = model.predict(X_test)\n",
        "y_pred_classes= np.argmax(y_prediction, axis=1)"
      ]
    },
    {
      "cell_type": "code",
      "execution_count": 36,
      "metadata": {
        "colab": {
          "base_uri": "https://localhost:8080/",
          "height": 303
        },
        "id": "O72eKlWGlGRP",
        "outputId": "45514378-a7f1-4488-ebcb-2478fbd6e8c2"
      },
      "outputs": [
        {
          "output_type": "execute_result",
          "data": {
            "text/plain": [
              "0    478304\n",
              "1     70168\n",
              "3     50418\n",
              "2     28448\n",
              "4      2189\n",
              "5       404\n",
              "Name: count, dtype: int64"
            ],
            "text/html": [
              "<table border=\"1\" class=\"dataframe\">\n",
              "  <thead>\n",
              "    <tr style=\"text-align: right;\">\n",
              "      <th></th>\n",
              "      <th>count</th>\n",
              "    </tr>\n",
              "    <tr>\n",
              "      <th>0</th>\n",
              "      <th></th>\n",
              "    </tr>\n",
              "  </thead>\n",
              "  <tbody>\n",
              "    <tr>\n",
              "      <th>0</th>\n",
              "      <td>478304</td>\n",
              "    </tr>\n",
              "    <tr>\n",
              "      <th>1</th>\n",
              "      <td>70168</td>\n",
              "    </tr>\n",
              "    <tr>\n",
              "      <th>3</th>\n",
              "      <td>50418</td>\n",
              "    </tr>\n",
              "    <tr>\n",
              "      <th>2</th>\n",
              "      <td>28448</td>\n",
              "    </tr>\n",
              "    <tr>\n",
              "      <th>4</th>\n",
              "      <td>2189</td>\n",
              "    </tr>\n",
              "    <tr>\n",
              "      <th>5</th>\n",
              "      <td>404</td>\n",
              "    </tr>\n",
              "  </tbody>\n",
              "</table><br><label><b>dtype:</b> int64</label>"
            ]
          },
          "metadata": {},
          "execution_count": 36
        }
      ],
      "source": [
        "df_y_pred_classes = pd.DataFrame(y_pred_classes)\n",
        "df_y_pred_classes.value_counts()"
      ]
    },
    {
      "cell_type": "code",
      "execution_count": 37,
      "metadata": {
        "id": "9a4KZXZ8EhEC"
      },
      "outputs": [],
      "source": [
        "y_test_rounded = np.argmax(y_test, axis=1)"
      ]
    },
    {
      "cell_type": "markdown",
      "metadata": {
        "id": "G1u9Ngf--bOj"
      },
      "source": [
        "The balanced accuracy score is designed to address the issue of class imbalance. It calculates the average accuracy for each class and then computes the mean of these per-class accuracies"
      ]
    },
    {
      "cell_type": "code",
      "execution_count": 38,
      "metadata": {
        "colab": {
          "base_uri": "https://localhost:8080/"
        },
        "id": "iWPHXt-NKs3a",
        "outputId": "99878e22-f32d-4a30-e867-83d7c801b6d8"
      },
      "outputs": [
        {
          "output_type": "stream",
          "name": "stdout",
          "text": [
            "Balanced Accuracy: 0.980052292963349\n",
            "Accuracy: 0.9938358328134351\n"
          ]
        }
      ],
      "source": [
        "from sklearn.metrics import balanced_accuracy_score, accuracy_score\n",
        "\n",
        "balanced_accuracy = balanced_accuracy_score(y_test_rounded, y_pred_classes)\n",
        "print('Balanced Accuracy:', balanced_accuracy)\n",
        "accuracy = accuracy_score(y_test_rounded, y_pred_classes)\n",
        "print('Accuracy:', accuracy)"
      ]
    },
    {
      "cell_type": "code",
      "execution_count": 39,
      "metadata": {
        "colab": {
          "base_uri": "https://localhost:8080/"
        },
        "id": "ZrIqOiqFqFmZ",
        "outputId": "afb8fa5e-3c23-42c9-ddf1-55efc9c8b044"
      },
      "outputs": [
        {
          "output_type": "stream",
          "name": "stdout",
          "text": [
            "ZERO_DIVISION=0\n",
            "Precision: 0.994001\n",
            "Macro Precision: 0.904555\n",
            "======================\n",
            "Recall: 0.993836\n",
            "Macro Recall: 0.980052\n",
            "=======================\n",
            "F1 score: 0.993882\n",
            "Macro F1 score: 0.931858\n"
          ]
        }
      ],
      "source": [
        "from sklearn.metrics import precision_score, recall_score, f1_score\n",
        "print(\"ZERO_DIVISION=0\")\n",
        "precision = precision_score(y_test_rounded, y_pred_classes, average='weighted', zero_division=0)\n",
        "print('Precision: %f' % precision)\n",
        "m_precision = precision_score(y_test_rounded, y_pred_classes, average='macro', zero_division=0)\n",
        "print('Macro Precision: %f' % m_precision)\n",
        "print(\"======================\")\n",
        "recall = recall_score(y_test_rounded, y_pred_classes, average='weighted', zero_division=0)\n",
        "print('Recall: %f' % recall)\n",
        "m_recall = recall_score(y_test_rounded, y_pred_classes, average='macro', zero_division=0)\n",
        "print('Macro Recall: %f' % m_recall)\n",
        "print(\"=======================\")\n",
        "f1 = f1_score(y_test_rounded, y_pred_classes, average='weighted', zero_division=0)\n",
        "print('F1 score: %f' % f1)\n",
        "m_f1 = f1_score(y_test_rounded, y_pred_classes, average='macro', zero_division=0)\n",
        "print('Macro F1 score: %f' % m_f1)"
      ]
    },
    {
      "cell_type": "code",
      "execution_count": 40,
      "metadata": {
        "id": "CRTl7noiqW31",
        "colab": {
          "base_uri": "https://localhost:8080/"
        },
        "outputId": "ea1b58ce-16f8-4500-ad71-55d549c58a97"
      },
      "outputs": [
        {
          "output_type": "stream",
          "name": "stdout",
          "text": [
            "Precision per class: [0.9962158  0.98058944 0.99778543 0.99335555 0.94700777 0.51237624]\n",
            "Recall per class: [0.99616789 0.99350237 0.99456903 0.97274987 0.98667301 0.93665158]\n",
            "F1 score per class: [0.99619184 0.98700367 0.99617463 0.98294473 0.96643357 0.6624    ]\n"
          ]
        }
      ],
      "source": [
        "from sklearn.metrics import precision_recall_fscore_support\n",
        "\n",
        "precision, recall, f1, _ = precision_recall_fscore_support(y_test_rounded, y_pred_classes, average=None, zero_division=0)\n",
        "print('Precision per class:', precision)\n",
        "print('Recall per class:', recall)\n",
        "print('F1 score per class:', f1)"
      ]
    },
    {
      "cell_type": "code",
      "execution_count": 41,
      "metadata": {
        "id": "S-48zeMBKzeH"
      },
      "outputs": [],
      "source": [
        "# import plotting function and confusion matrix\n",
        "\n",
        "import matplotlib.pyplot as plt\n",
        "from sklearn.metrics import confusion_matrix\n",
        "import seaborn as sn"
      ]
    },
    {
      "cell_type": "code",
      "execution_count": 42,
      "metadata": {
        "id": "2hXS4jrb6UAl",
        "colab": {
          "base_uri": "https://localhost:8080/",
          "height": 1000
        },
        "outputId": "0f4d2b26-5ad8-47c6-d6db-c794cb60ea4b"
      },
      "outputs": [
        {
          "output_type": "display_data",
          "data": {
            "text/plain": [
              "<Figure size 2000x2000 with 2 Axes>"
            ],
            "image/png": "[encoded data removed]"
          },
          "metadata": {}
        }
      ],
      "source": [
        "labels = [0, 1, 2, 3, 4, 5]\n",
        "\n",
        "confusion_mat = confusion_matrix(y_test_rounded, y_pred_classes, labels=labels)\n",
        "\n",
        "sn.set(font_scale=2)\n",
        "\n",
        "plt.figure(figsize = (20,20))\n",
        "s = sn.heatmap(confusion_mat, annot = True)#, cmap = 'Blues',fmt='.2f'\n",
        "\n",
        "s.set_xlabel('Predetti')\n",
        "s.set_ylabel('Originali')\n",
        "\n",
        "plt.title(\"Performance IDS-MLP\\n\")\n",
        "\n",
        "#salva in Drive\n",
        "plt.savefig(f\"{images_dir}/IDS-MLP_ConfusionMatrix__DAGan_setHBuono_senzaCW16.pdf\", dpi=200, format='pdf') #ClassWeighting\n",
        "\n",
        "plt.show()"
      ]
    }
  ],
  "metadata": {
    "accelerator": "GPU",
    "colab": {
      "collapsed_sections": [
        "gfjxR9812adx",
        "FEDiBnEFOMC1",
        "mgcTHX1-w7uR",
        "VF6EUAWzSKD9",
        "bXSp0_t4SOq3",
        "1ZuxgDF1SS24",
        "LiZQNPinxSuH",
        "gw-4nT-pwI-x",
        "5cM4eNzTNvJd",
        "l5A8Y2rD8WkZ",
        "js-hrpAVakJr",
        "ybU81EojBwaM",
        "556fJdvWB1dd",
        "9YR6ZBJ2hCet",
        "Ph8lJ_0mJL-b",
        "coFVSKl49EJi",
        "3-Hb8k_rvDc3",
        "bjZRCrIO9qAI"
      ],
      "gpuType": "T4",
      "machine_shape": "hm",
      "provenance": []
    },
    "kernelspec": {
      "display_name": "Python 3",
      "name": "python3"
    }
  },
  "nbformat": 4,
  "nbformat_minor": 0
}