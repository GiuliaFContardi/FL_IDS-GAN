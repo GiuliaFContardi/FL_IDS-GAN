{
  "nbformat": 4,
  "nbformat_minor": 0,
  "metadata": {
    "colab": {
      "provenance": [],
      "authorship_tag": "ABX9TyN5S6EzV4CRB6OEpW1zgRDH",
      "include_colab_link": true
    },
    "kernelspec": {
      "name": "python3",
      "display_name": "Python 3"
    },
    "language_info": {
      "name": "python"
    }
  },
  "cells": [
    {
      "cell_type": "markdown",
      "metadata": {
        "id": "view-in-github",
        "colab_type": "text"
      },
      "source": [
        "<a href=\"https://colab.research.google.com/github/GiuliaFContardi/FL_IDS-GAN/blob/main/Ricalcolo_problemini_metriche.ipynb\" target=\"_parent\"><img src=\"https://colab.research.google.com/assets/colab-badge.svg\" alt=\"Open In Colab\"/></a>"
      ]
    },
    {
      "cell_type": "code",
      "execution_count": null,
      "metadata": {
        "colab": {
          "base_uri": "https://localhost:8080/"
        },
        "id": "etzvLuKr5GiN",
        "outputId": "f51a83a0-fbb0-49a5-df51-391d8d5b607b"
      },
      "outputs": [
        {
          "output_type": "stream",
          "name": "stdout",
          "text": [
            "Weighted Precision: 0.994070751091818\n",
            "Weighted Recall: 0.9943803401224578\n",
            "Weighted F1-score: 0.9942153994904522\n",
            "============================\n",
            "Macro Precision: 0.8175738066666667\n",
            "Macro Recall: 0.8259046083333333\n",
            "Macro F1-score: 0.82165044\n"
          ]
        }
      ],
      "source": [
        "import numpy as np\n",
        "support_values = [478327, 69256, 28540, 51486, 2101, 221]\n",
        "\n",
        "# Per-class precision, recall, and F1-score\n",
        "precision_per_class = np.array([0.99732883, 0.97743677, 0.99447205, 0.99226718, 0.94393801, 0.0   ])\n",
        "recall_per_class = np.array([0.99600901, 0.99330022, 0.99593553, 0.9844618,  0.98572109, 0.0    ])\n",
        "f1_score_per_class = np.array([0.99666848, 0.98530465, 0.99520325, 0.98834908, 0.96437718, 0.0   ])\n",
        "\n",
        "# Calculate weighted scores\n",
        "weighted_precision = np.average(precision_per_class, weights=support_values)\n",
        "weighted_recall = np.average(recall_per_class, weights=support_values)\n",
        "weighted_f1 = np.average(f1_score_per_class, weights=support_values)\n",
        "\n",
        "# Calculate macro scores\n",
        "macro_precision = np.mean(precision_per_class)\n",
        "macro_recall = np.mean(recall_per_class)\n",
        "macro_f1 = np.mean(f1_score_per_class)\n",
        "\n",
        "# Print results\n",
        "print('Weighted Precision:', weighted_precision)\n",
        "print('Weighted Recall:', weighted_recall)\n",
        "print('Weighted F1-score:', weighted_f1)\n",
        "print(\"============================\")\n",
        "print('Macro Precision:', macro_precision)\n",
        "print('Macro Recall:', macro_recall)\n",
        "print('Macro F1-score:', macro_f1)\n"
      ]
    }
  ]
}